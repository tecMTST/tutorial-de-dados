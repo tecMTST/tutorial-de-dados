{
 "cells": [
  {
   "cell_type": "markdown",
   "metadata": {},
   "source": [
    "Como o arquivo é baixado é muito grande para subir no Git apagamos e deixamos para que o usuario possa fazer o download."
   ]
  },
  {
   "cell_type": "code",
   "execution_count": 1,
   "metadata": {},
   "outputs": [
    {
     "name": "stderr",
     "output_type": "stream",
     "text": [
      "Downloading Coligação Secao: 100%|██████████| 1/1 [00:01<00:00,  1.03s/it]\n",
      "Descompactando zipfile: 100%|██████████| 1/1 [00:00<00:00, 56.81it/s]\n"
     ]
    }
   ],
   "source": [
    "from download_dados import ColigacaoDownloader \n",
    "\n",
    "cd = ColigacaoDownloader()\n",
    "cd.download(['2022'])\n",
    "cd.unzip(['2022'], 'SP')"
   ]
  },
  {
   "cell_type": "code",
   "execution_count": 2,
   "metadata": {},
   "outputs": [
    {
     "name": "stderr",
     "output_type": "stream",
     "text": [
      "Downloading Coligação Secao: 100%|██████████| 1/1 [00:04<00:00,  4.10s/it]\n",
      "Descompactando zipfile: 100%|██████████| 1/1 [00:00<00:00, 60.90it/s]\n"
     ]
    }
   ],
   "source": [
    "from download_dados import CandidatoDownloader \n",
    "\n",
    "cd = CandidatoDownloader()\n",
    "cd.download(['2022'])\n",
    "cd.unzip(['2022'], 'SP')"
   ]
  },
  {
   "cell_type": "code",
   "execution_count": 3,
   "metadata": {},
   "outputs": [
    {
     "name": "stderr",
     "output_type": "stream",
     "text": [
      "Downloading Votacao Secao:   0%|          | 0/1 [00:00<?, ?it/s]"
     ]
    }
   ],
   "source": [
    "from download_dados import VotacaoSecaoDownloader \n",
    "\n",
    "cd = VotacaoSecaoDownloader()\n",
    "cd.download(['2022'], 'SP')\n",
    "cd.unzip(['2022'], 'SP')"
   ]
  },
  {
   "cell_type": "code",
   "execution_count": null,
   "metadata": {},
   "outputs": [],
   "source": [
    "from download_dados import ColigacaoDownloader \n",
    "\n",
    "cd = ColigacaoDownloader()\n",
    "cd.download(['2022'])\n",
    "cd.unzip(['2022'], 'SP')"
   ]
  },
  {
   "cell_type": "code",
   "execution_count": null,
   "metadata": {},
   "outputs": [],
   "source": [
    "from download_dados import PrestacaoDeContasDownloader \n",
    "\n",
    "cd = PrestacaoDeContasDownloader()\n",
    "cd.download(['2022'])\n",
    "cd.unzip(['2022'], 'SP')"
   ]
  },
  {
   "cell_type": "code",
   "execution_count": null,
   "metadata": {},
   "outputs": [],
   "source": [
    "from download_dados import PrestacaoDeContasDownloader\n",
    "\n",
    "cd = PrestacaoDeContasDownloader()\n",
    "cd.unzip_receita_candidatos(['2022'], 'SP')"
   ]
  },
  {
   "cell_type": "code",
   "execution_count": null,
   "metadata": {},
   "outputs": [],
   "source": [
    "import os\n",
    "\n",
    "def save_csv(arq_nome, cargo, uf, ano, df, turno=None):\n",
    "    if turno:\n",
    "        path = os.path.join('dados', 'processados', uf, ano, cargo, turno)\n",
    "    else:\n",
    "        path = os.path.join('dados', 'processados', uf, ano, cargo)\n",
    "\n",
    "    if not os.path.exists(path):\n",
    "        os.makedirs(path)\n",
    "    \n",
    "    path = os.path.join(path, f'{arq_nome}.csv')\n",
    "    df.to_csv(path, encoding='latin-1', index=False)"
   ]
  },
  {
   "cell_type": "code",
   "execution_count": null,
   "metadata": {},
   "outputs": [],
   "source": [
    "import pandas as pd\n",
    "\n",
    "df_coligacao = pd.read_csv('dados/brutos/SP/2022/consulta_coligacao_2022_SP.csv', encoding='latin-1', sep=';')\n",
    "df_coligacao.drop(['DT_GERACAO', 'HH_GERACAO', 'ANO_ELEICAO', 'CD_TIPO_ELEICAO', 'NM_TIPO_ELEICAO', 'CD_ELEICAO', 'DS_ELEICAO', 'DT_ELEICAO', 'SG_UF', 'SG_UE', 'NM_UE'], axis=1, inplace=True)\n",
    "\n",
    "df_coligacao_df = df_coligacao[(df_coligacao['CD_CARGO']==6)]\n",
    "save_csv('coligacao', 'DeputadoFederal', 'SP', '2022', df_coligacao_df)\n",
    "\n",
    "df_coligacao_de = df_coligacao[(df_coligacao['CD_CARGO']==7)]\n",
    "save_csv('coligacao', 'DeputadoEstadual', 'SP', '2022', df_coligacao_de)"
   ]
  },
  {
   "cell_type": "code",
   "execution_count": null,
   "metadata": {},
   "outputs": [],
   "source": [
    "import pandas as pd\n",
    "\n",
    "df_cand = pd.read_csv('dados/brutos/SP/2022/consulta_cand_2022_SP.csv', encoding='latin-1', sep=';')\n",
    "df_cand_df = df_cand[(df_cand['CD_CARGO']==6)]\n",
    "df_cand_df = df_cand.drop(['DT_GERACAO', 'HH_GERACAO', 'ANO_ELEICAO', 'CD_TIPO_ELEICAO', 'NM_TIPO_ELEICAO', \n",
    "                           'NR_TURNO', 'CD_ELEICAO', 'DS_ELEICAO', 'DT_ELEICAO', 'TP_ABRANGENCIA', 'SG_UF', \n",
    "                           'SG_UE', 'NM_UE', 'DS_CARGO', 'NM_URNA_CANDIDATO', 'NM_SOCIAL_CANDIDATO', 'NR_CPF_CANDIDATO', \n",
    "                           'NM_EMAIL', 'NR_CANDIDATO', 'NM_MUNICIPIO_NASCIMENTO', 'CD_NACIONALIDADE', 'DS_NACIONALIDADE', \n",
    "                           'SG_UF_NASCIMENTO', 'CD_MUNICIPIO_NASCIMENTO', 'NR_TITULO_ELEITORAL_CANDIDATO', 'DT_NASCIMENTO',], axis=1)\n",
    "save_csv('candidato', 'DeputadoFederal', 'SP', '2022',df_cand_df)"
   ]
  },
  {
   "cell_type": "code",
   "execution_count": null,
   "metadata": {},
   "outputs": [],
   "source": [
    "import pandas as pd\n",
    "\n",
    "df = pd.read_csv('dados/brutos/SP/2022/receitas_candidatos_2022_SP.csv', encoding='latin-1', sep=';')\n",
    "\n",
    "df_receita_cand = df[(df['CD_CARGO']==6)]\n",
    "df_receita_cand['VR_RECEITA'] = df_receita_cand['VR_RECEITA'].str.replace(',', '.').astype(float)\n",
    "df_receita_cand = df_receita_cand.groupby(['SQ_CANDIDATO', 'CD_FONTE_RECEITA', 'DS_FONTE_RECEITA', 'CD_ORIGEM_RECEITA', 'DS_ORIGEM_RECEITA']).agg({'VR_RECEITA':'sum'}).reset_index()\n",
    "save_csv('receita_candidato', 'DeputadoFederal', 'SP', '2022', df_receita_cand)\n",
    "\n",
    "df_doadores_df = df[(df['CD_CARGO']==6) & (df['CD_ORIGEM_RECEITA']==10010200)]\n",
    "df_doadores_df['VR_RECEITA'] = df_doadores_df['VR_RECEITA'].str.replace(',', '.').astype(float)\n",
    "df_doadores_df = df_doadores_df.groupby(['NR_CPF_CNPJ_DOADOR', 'NM_DOADOR', 'NM_DOADOR_RFB', 'DS_RECEITA']).agg({'VR_RECEITA':'sum'}).reset_index()\n",
    "save_csv('doadores', 'DeputadoFederal', 'SP', '2022', df_doadores_df)\n",
    "\n",
    "df_doacao_cand = df[(df['CD_CARGO']==6) & (df['CD_ORIGEM_RECEITA']==10010200)]\n",
    "df_doacao_cand['VR_RECEITA'] = df_doacao_cand['VR_RECEITA'].str.replace(',', '.').astype(float)\n",
    "df_doacao_cand.groupby(['SQ_CANDIDATO', 'NR_CPF_CNPJ_DOADOR', 'NM_DOADOR', 'NM_DOADOR_RFB', 'DS_RECEITA']).agg({'VR_RECEITA':'sum'}).reset_index()\n",
    "save_csv('doador_candidato', 'DeputadoFederal', 'SP', '2022', df_doacao_cand)"
   ]
  },
  {
   "cell_type": "code",
   "execution_count": null,
   "metadata": {},
   "outputs": [],
   "source": [
    "df_doadores_df = df[(df['CD_CARGO']==6) & (df['CD_ORIGEM_RECEITA']==10010200)]\n",
    "df_doadores_df['VR_RECEITA'] = df_doadores_df['VR_RECEITA'].str.replace(',', '.').astype(float)\n",
    "df_doadores_df = df_doadores_df.groupby(['SQ_CANDIDATO', 'CD_FONTE_RECEITA', 'DS_FONTE_RECEITA', 'CD_ORIGEM_RECEITA', 'DS_ORIGEM_RECEITA']).agg({'VR_RECEITA':'sum'}).reset_index()\n",
    "#save_csv('doadores', 'DeputadoFederal', 'SP', '2022', df_doacao_cand_df)"
   ]
  },
  {
   "cell_type": "code",
   "execution_count": null,
   "metadata": {},
   "outputs": [],
   "source": [
    "import pandas as pd\n",
    "\n",
    "df_votos_secao = pd.read_csv('dados/brutos/SP/2022/votacao_secao_2022_SP.csv', encoding='latin-1', sep=';')\n",
    "\n",
    "#df_votos_partido_de = df_votos_secao[(df_votos_secao['SQ_CANDIDATO']==-3) & (df_votos_secao['CD_CARGO']==7)]\n",
    "#df_votos_partido_de = df_votos_partido_de.groupby(['SQ_CANDIDATO', 'NM_VOTAVEL', 'NR_VOTAVEL']).agg({'QT_VOTOS':'sum'}).reset_index()\n",
    "#save_csv('votacao_partido', 'DeputadoEstadual', 'SP', '2022', df_votos_partido_de)\n",
    "\n",
    "df_votos_partido_df = df_votos_secao[(df_votos_secao['SQ_CANDIDATO']==-3) & (df_votos_secao['CD_CARGO']==6)]\n",
    "df_votos_partido_df = df_votos_partido_df.groupby(['SQ_CANDIDATO', 'NM_VOTAVEL', 'NR_VOTAVEL']).agg({'QT_VOTOS':'sum'}).reset_index()\n",
    "save_csv('votacao_partido', 'DeputadoFederal', 'SP', '2022', df_votos_partido_df)\n",
    "\n",
    "#df_votos_candidato_df = df_votos_secao[(~df_votos_secao['SQ_CANDIDATO'].isin([-3,-1])) & (df_votos_secao['CD_CARGO']==6)]\n",
    "#df_votos_candidato_df = df_votos_candidato_df.groupby(['SQ_CANDIDATO',  'NM_VOTAVEL', 'NR_VOTAVEL']).agg({'QT_VOTOS':'sum'}).reset_index()\n",
    "#save_csv('votacao_candidato', 'DeputadoFederal', 'SP', '2022', df_votos_candidato_df)\n",
    "\n",
    "#df_votos_candidato_de = df_votos_secao[(~df_votos_secao['SQ_CANDIDATO'].isin([-3,-1])) & (df_votos_secao['CD_CARGO']==7)]\n",
    "#df_votos_candidato_de = df_votos_candidato_de.groupby(['SQ_CANDIDATO', 'NM_VOTAVEL', 'NR_VOTAVEL']).agg({'QT_VOTOS':'sum'}).reset_index()\n",
    "#save_csv('votacao_candidato', 'DeputadoEstadual', 'SP', '2022', df_votos_candidato_de)\n",
    "\n",
    "#df_votos_candidato_gv1 = df_votos_secao[(df_votos_secao['CD_CARGO']==3) & (df_votos_secao['NR_TURNO']==1)]\n",
    "#df_votos_candidato_gv1 = df_votos_candidato_gv1.groupby(['SQ_CANDIDATO', 'NM_VOTAVEL', 'NR_VOTAVEL']).agg({'QT_VOTOS':'sum'}).reset_index()\n",
    "#save_csv('votacao_candidato', 'Governador', 'SP', '2022', df_votos_candidato_gv1, '1_TURNO')\n",
    "\n",
    "#df_votos_candidato_gv2 = df_votos_secao[(df_votos_secao['CD_CARGO']==3) & (df_votos_secao['NR_TURNO']==2)]\n",
    "#df_votos_candidato_gv2 = df_votos_candidato_gv2.groupby(['SQ_CANDIDATO', 'NM_VOTAVEL', 'NR_VOTAVEL']).agg({'QT_VOTOS':'sum'}).reset_index()\n",
    "#save_csv('votacao_candidato', 'Governador', 'SP', '2022', df_votos_candidato_gv1, '2_TURNO')"
   ]
  },
  {
   "cell_type": "markdown",
   "metadata": {},
   "source": [
    "<center>\n",
    "    <img src=\"https://nucleodetecnologia.com.br/assets/img/novo-logo-tecnologia.svg?bl=tutorial-eleitoral-01\" width=\"150\">\n",
    "</center>"
   ]
  }
 ],
 "metadata": {
  "kernelspec": {
   "display_name": "Python 3 (ipykernel)",
   "language": "python",
   "name": "python3"
  },
  "language_info": {
   "codemirror_mode": {
    "name": "ipython",
    "version": 3
   },
   "file_extension": ".py",
   "mimetype": "text/x-python",
   "name": "python",
   "nbconvert_exporter": "python",
   "pygments_lexer": "ipython3",
   "version": "3.11.2"
  }
 },
 "nbformat": 4,
 "nbformat_minor": 4
}
