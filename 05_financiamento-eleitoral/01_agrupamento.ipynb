{
 "cells": [
  {
   "cell_type": "markdown",
   "metadata": {},
   "source": [
    "Como o arquivo é baixado é muito grande para subir no Git apagamos e deixamos para que o usuario possa fazer o download."
   ]
  },
  {
   "cell_type": "code",
   "execution_count": 2,
   "metadata": {},
   "outputs": [
    {
     "name": "stderr",
     "output_type": "stream",
     "text": [
      "Downloading Coligação Secao: 100%|██████████| 1/1 [00:00<00:00,  2.66it/s]\n",
      "Descompactando zipfile: 100%|██████████| 1/1 [00:00<00:00, 48.68it/s]\n"
     ]
    }
   ],
   "source": [
    "from download_dados import ColigacaoDownloader \n",
    "\n",
    "cd = ColigacaoDownloader()\n",
    "cd.download(['2022'])\n",
    "cd.unzip(['2022'], 'SP')"
   ]
  },
  {
   "cell_type": "code",
   "execution_count": 3,
   "metadata": {},
   "outputs": [
    {
     "name": "stderr",
     "output_type": "stream",
     "text": [
      "Downloading Coligação Secao: 100%|██████████| 1/1 [00:02<00:00,  2.76s/it]\n",
      "Descompactando zipfile: 100%|██████████| 1/1 [00:00<00:00, 35.48it/s]\n"
     ]
    }
   ],
   "source": [
    "from download_dados import CandidatoDownloader \n",
    "\n",
    "cd = CandidatoDownloader()\n",
    "cd.download(['2022'])\n",
    "cd.unzip(['2022'], 'SP')"
   ]
  },
  {
   "cell_type": "code",
   "execution_count": 31,
   "metadata": {},
   "outputs": [],
   "source": [
    "import os\n",
    "\n",
    "def save_csv(arq_nome, cargo, uf, ano, df, turno=None):\n",
    "    if turno:\n",
    "        path = os.path.join('dados', 'processados', uf, ano, cargo, turno)\n",
    "    else:\n",
    "        path = os.path.join('dados', 'processados', uf, ano, cargo)\n",
    "\n",
    "    if not os.path.exists(path):\n",
    "        os.makedirs(path)\n",
    "    \n",
    "    path = os.path.join(path, f'{arq_nome}.csv')\n",
    "    df.to_csv(path)"
   ]
  },
  {
   "cell_type": "code",
   "execution_count": 32,
   "metadata": {},
   "outputs": [],
   "source": [
    "import pandas as pd\n",
    "\n",
    "df_coligacao = pd.read_csv('dados/brutos/SP/2022/consulta_coligacao_2022_SP.csv', encoding='latin-1', sep=';')\n",
    "df_coligacao.drop(['DT_GERACAO', 'HH_GERACAO', 'ANO_ELEICAO', 'CD_TIPO_ELEICAO', 'NM_TIPO_ELEICAO', 'CD_ELEICAO', 'DS_ELEICAO', 'DT_ELEICAO', 'SG_UF', 'SG_UE'], axis=1, inplace=True)\n",
    "\n",
    "df_coligacao_df = df_coligacao[(df_coligacao['CD_CARGO']==6)]\n",
    "save_csv('coligacao', 'DeputadoFederal', 'SP', '2022', df_coligacao_df)\n",
    "\n",
    "df_coligacao_de = df_coligacao[(df_coligacao['CD_CARGO']==7)]\n",
    "save_csv('coligacao', 'DeputadoEstadual', 'SP', '2022', df_coligacao_de)"
   ]
  },
  {
   "cell_type": "code",
   "execution_count": 4,
   "metadata": {},
   "outputs": [],
   "source": [
    "import pandas as pd\n",
    "\n",
    "df_cand = pd.read_csv('dados/brutos/SP/2022/consulta_cand_2022_SP.csv', encoding='latin-1', sep=';')"
   ]
  },
  {
   "cell_type": "code",
   "execution_count": 71,
   "metadata": {},
   "outputs": [],
   "source": [
    "import pandas as pd\n",
    "\n",
    "df_votos_secao = pd.read_csv('dados/brutos/SP/2022/votacao_secao_2022_SP.csv', encoding='latin-1', sep=';')\n",
    "\n",
    "df_votos_partido_de = df_votos_secao[(df_votos_secao['SQ_CANDIDATO']==-3) & (df_votos_secao['CD_CARGO']==7)]\n",
    "df_votos_partido_de = df_votos_partido_de.groupby(['SQ_CANDIDATO', 'NM_VOTAVEL', 'NR_VOTAVEL']).agg({'QT_VOTOS':'sum'})\n",
    "save_csv('votacao_partido', 'DeputadoEstadual', 'SP', '2022', df_votos_partido_de)\n",
    "\n",
    "\n",
    "df_votos_candidato_df = df_votos_secao[(~df_votos_secao['SQ_CANDIDATO'].isin([-3,-1])) & (df_votos_secao['CD_CARGO']==6)]\n",
    "df_votos_candidato_df = df_votos_candidato_df.groupby(['SQ_CANDIDATO',  'NM_VOTAVEL', 'NR_VOTAVEL']).agg({'QT_VOTOS':'sum'})\n",
    "save_csv('votacao_candidato', 'DeputadoFederal', 'SP', '2022', df_votos_candidato_df)\n",
    "\n",
    "\n",
    "df_votos_candidato_de = df_votos_secao[(~df_votos_secao['SQ_CANDIDATO'].isin([-3,-1])) & (df_votos_secao['CD_CARGO']==7)]\n",
    "df_votos_candidato_de = df_votos_candidato_de.groupby(['SQ_CANDIDATO', 'NM_VOTAVEL', 'NR_VOTAVEL']).agg({'QT_VOTOS':'sum'})\n",
    "save_csv('votacao_candidato', 'DeputadoEstadual', 'SP', '2022', df_votos_candidato_de)\n",
    "\n",
    "df_votos_candidato_gv1 = df_votos_secao[(df_votos_secao['CD_CARGO']==3) & (df_votos_secao['NR_TURNO']==1)]\n",
    "df_votos_candidato_gv1 = df_votos_candidato_gv1.groupby(['SQ_CANDIDATO', 'NM_VOTAVEL']).agg({'QT_VOTOS':'sum'})\n",
    "save_csv('votacao_candidato', 'Governador', 'SP', '2022', df_votos_candidato_gv1, '1_TURNO')\n",
    "\n",
    "df_votos_candidato_gv2 = df_votos_secao[(df_votos_secao['CD_CARGO']==3) & (df_votos_secao['NR_TURNO']==2)]\n",
    "df_votos_candidato_gv2 = df_votos_candidato_gv2.groupby(['SQ_CANDIDATO', 'NM_VOTAVEL']).agg({'QT_VOTOS':'sum'})\n",
    "save_csv('votacao_candidato', 'Governador', 'SP', '2022', df_votos_candidato_gv1, '2_TURNO')"
   ]
  }
 ],
 "metadata": {
  "kernelspec": {
   "display_name": "Python 3",
   "language": "python",
   "name": "python3"
  },
  "language_info": {
   "codemirror_mode": {
    "name": "ipython",
    "version": 3
   },
   "file_extension": ".py",
   "mimetype": "text/x-python",
   "name": "python",
   "nbconvert_exporter": "python",
   "pygments_lexer": "ipython3",
   "version": "3.11.2"
  },
  "orig_nbformat": 4
 },
 "nbformat": 4,
 "nbformat_minor": 2
}
