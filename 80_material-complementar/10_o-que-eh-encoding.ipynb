{
 "cells": [
  {
   "cell_type": "markdown",
   "id": "a1e8d286-eaa0-45e9-979d-74ee89b45de8",
   "metadata": {},
   "source": [
    "# O que é _encoding_?"
   ]
  },
  {
   "cell_type": "markdown",
   "id": "dfd9a6e4-dc63-4da6-b752-2a0fb351b7c2",
   "metadata": {},
   "source": [
    "Voltar ao [índice](../00_indice.ipynb)"
   ]
  },
  {
   "cell_type": "code",
   "execution_count": 1,
   "id": "9923d8a7-384a-4b5b-b39d-db2408b3387a",
   "metadata": {},
   "outputs": [],
   "source": [
    "import auxiliar.geral as ag"
   ]
  },
  {
   "cell_type": "markdown",
   "id": "dbeb4af2-f885-46f0-90b1-392f15ec1c72",
   "metadata": {},
   "source": [
    "## 1. Explicação"
   ]
  },
  {
   "cell_type": "markdown",
   "id": "07aa5dd5-d73d-4c11-a120-30b0dfcc1c74",
   "metadata": {},
   "source": [
    "Computadores lidam apenas com números, e ainda por cima em base binária (isto é, sequências de 0s e 1s). Isso significa que:\n",
    "* para salvar um texto em um arquivo, é necessário **codificar** cada um de seus caracteres (isto é, transformá-los em uma sequência de 0s e 1s);\n",
    "* para ler um texto contido em um arquivo, é necessário **decodificar** cada um dos seus caracteres (isto é, passar dos números de volta para os caracteres).\n",
    "\n",
    "Essa conversão `caractere <-> número` é arbitrária e precisa seguir uma convenção para conseguirmos ler textos que outras pessoas salvaram em arquivos. Cada _encoding_ é uma convenção diferente de conversão."
   ]
  },
  {
   "cell_type": "markdown",
   "id": "4602f2e5-cb88-440c-ad8a-86ff1e98750d",
   "metadata": {},
   "source": [
    "## 2. Exemplo concreto"
   ]
  },
  {
   "cell_type": "markdown",
   "id": "07e0414c-6557-4153-bf32-cd2841e11570",
   "metadata": {},
   "source": [
    "Vejamos qual é a conversão feita por alguns _encodings_:"
   ]
  },
  {
   "cell_type": "code",
   "execution_count": 37,
   "id": "4cea5552-9ce5-4ffb-b7b5-716543eb8fc6",
   "metadata": {},
   "outputs": [
    {
     "data": {
      "text/plain": [
       "['1010000', '1101001', '1100001', '1110101', '11101101']"
      ]
     },
     "execution_count": 37,
     "metadata": {},
     "output_type": "execute_result"
    }
   ],
   "source": [
    "# Codificando a palavra \"Piauí\" usando a tabela de conversão latin1:\n",
    "ag.codifica_string('Piauí', 'latin-1')"
   ]
  },
  {
   "cell_type": "code",
   "execution_count": 36,
   "id": "e3f12c35-b872-458d-936b-43a0cffc2341",
   "metadata": {},
   "outputs": [
    {
     "data": {
      "text/plain": [
       "['1010000', '1101001', '1100001', '1110101', '11000011', '10101101']"
      ]
     },
     "execution_count": 36,
     "metadata": {},
     "output_type": "execute_result"
    }
   ],
   "source": [
    "# Codificando a palavra \"Piauí\" usando a tabela de conversão UTF-8:\n",
    "ag.codifica_string('Piauí', 'utf-8')"
   ]
  },
  {
   "cell_type": "markdown",
   "id": "812aa307-a8e9-4a84-a20d-565f581aa348",
   "metadata": {},
   "source": [
    "Vemos que alguns caracteres são codificados da mesma forma (por ex., P -> 1010000). Entretanto, outros são codificados de maneira diferente: í vira 11101101 no padrão latin1, mas vira 11000011 seguido de 10101101 no padrão UTF-8. \n",
    "\n",
    "O que acontece se tentarmos ler um arquivo de texto utilizando um _encoding_ diferente do utilizado para salvar o arquivo? Resposta: o computador vai receber uma sequência de números e vai achar que eles correspondem a um caractere diferente do qual ele corresponde de fato. "
   ]
  },
  {
   "cell_type": "markdown",
   "id": "272a0346-ae2c-4380-a0e7-b04629337038",
   "metadata": {},
   "source": [
    "## 3. Efeito da escolha do _encoding_"
   ]
  },
  {
   "cell_type": "markdown",
   "id": "026f8c72-1539-4783-b53e-5fa625a52b9e",
   "metadata": {},
   "source": [
    "Vamos ver o efeito de ler um arquivo utilizando um _encoding_ diferente do utilizado para salvar o arquivo. No exemplo a seguir, o texto foi salvo num arquivo utilizando o _encoding_ UTF-8:"
   ]
  },
  {
   "cell_type": "code",
   "execution_count": 5,
   "id": "fc8f1981-025e-45b8-bf8b-3f889989f852",
   "metadata": {},
   "outputs": [
    {
     "name": "stdout",
     "output_type": "stream",
     "text": [
      "\"Todo cidadão tem o direito à moradia digna. É pelo menos o que diz o artigo 6° da Constituição Federal do Brasil.\n",
      " Direito significa algo que deveria ser garantido de maneira igualitária a todos, sem distinção.\"\n",
      "\n",
      "                               -- Guilerme Boulos, no livro \"Por que ocupamos? Uma introdução à luta dos sem-teto\"\n",
      "\n"
     ]
    }
   ],
   "source": [
    "# Lê arquivo com encoding UTF-8 (igual ao do arquivo):\n",
    "with open('dados/exemplo_de_texto_01.txt', 'r', encoding='utf-8') as f:\n",
    "    texto = f.read()\n",
    "# Imprime o texto:    \n",
    "print(texto)"
   ]
  },
  {
   "cell_type": "markdown",
   "id": "f0ebe72e-d37f-42f6-ad4d-e92c77001eb6",
   "metadata": {},
   "source": [
    "Vemos acima que, quando o arquivo é lido pelo computador com o mesmo _encoding_ utilizado para salvar o arquivo, o texto é decodificado da maneira correta. \n",
    "\n",
    "Já o caso abaixo mostra que o texto aparece com erros se utilizarmos um _encoding_ diferente do usado para salvar o arquivo:"
   ]
  },
  {
   "cell_type": "code",
   "execution_count": 6,
   "id": "25f8933f-766f-4705-89a4-81956411e7e2",
   "metadata": {},
   "outputs": [
    {
     "name": "stdout",
     "output_type": "stream",
     "text": [
      "\"Todo cidadÃ£o tem o direito Ã  moradia digna. Ã pelo menos o que diz o artigo 6Â° da ConstituiÃ§Ã£o Federal do Brasil.\n",
      " Direito significa algo que deveria ser garantido de maneira igualitÃ¡ria a todos, sem distinÃ§Ã£o.\"\n",
      "\n",
      "                               -- Guilerme Boulos, no livro \"Por que ocupamos? Uma introduÃ§Ã£o Ã  luta dos sem-teto\"\n",
      "\n"
     ]
    }
   ],
   "source": [
    "# Lê arquivo com encoding latin1 (diferente do utilizado ao salvar o arquivo):\n",
    "with open('dados/exemplo_de_texto_01.txt', 'r', encoding='latin-1') as f:\n",
    "    texto = f.read()\n",
    "# Imprime o texto:    \n",
    "print(texto)"
   ]
  },
  {
   "cell_type": "markdown",
   "id": "9747c91e-37ba-4562-99a3-136ca7ee8003",
   "metadata": {},
   "source": [
    "Em alguns casos (quando uma sequência de 0s e 1s não tem correspondência a nenhum caractere no _encoding_ especificado), pode ocorrer um erro:"
   ]
  },
  {
   "cell_type": "code",
   "execution_count": 7,
   "id": "85f830b0-0af3-4588-90cb-64e8d21a65e4",
   "metadata": {},
   "outputs": [
    {
     "ename": "UnicodeDecodeError",
     "evalue": "'ascii' codec can't decode byte 0xc3 in position 11: ordinal not in range(128)",
     "output_type": "error",
     "traceback": [
      "\u001b[0;31m---------------------------------------------------------------------------\u001b[0m",
      "\u001b[0;31mUnicodeDecodeError\u001b[0m                        Traceback (most recent call last)",
      "\u001b[0;32m/tmp/ipykernel_26354/1050352010.py\u001b[0m in \u001b[0;36m<cell line: 2>\u001b[0;34m()\u001b[0m\n\u001b[1;32m      1\u001b[0m \u001b[0;31m# Lê arquivo com encoding ascii (diferente do do arquivo):\u001b[0m\u001b[0;34m\u001b[0m\u001b[0;34m\u001b[0m\u001b[0;34m\u001b[0m\u001b[0m\n\u001b[1;32m      2\u001b[0m \u001b[0;32mwith\u001b[0m \u001b[0mopen\u001b[0m\u001b[0;34m(\u001b[0m\u001b[0;34m'dados/exemplo_de_texto_01.txt'\u001b[0m\u001b[0;34m,\u001b[0m \u001b[0;34m'r'\u001b[0m\u001b[0;34m,\u001b[0m \u001b[0mencoding\u001b[0m\u001b[0;34m=\u001b[0m\u001b[0;34m'ascii'\u001b[0m\u001b[0;34m)\u001b[0m \u001b[0;32mas\u001b[0m \u001b[0mf\u001b[0m\u001b[0;34m:\u001b[0m\u001b[0;34m\u001b[0m\u001b[0;34m\u001b[0m\u001b[0m\n\u001b[0;32m----> 3\u001b[0;31m     \u001b[0mtexto\u001b[0m \u001b[0;34m=\u001b[0m \u001b[0mf\u001b[0m\u001b[0;34m.\u001b[0m\u001b[0mread\u001b[0m\u001b[0;34m(\u001b[0m\u001b[0;34m)\u001b[0m\u001b[0;34m\u001b[0m\u001b[0;34m\u001b[0m\u001b[0m\n\u001b[0m\u001b[1;32m      4\u001b[0m \u001b[0;31m# Imprime o texto:\u001b[0m\u001b[0;34m\u001b[0m\u001b[0;34m\u001b[0m\u001b[0;34m\u001b[0m\u001b[0m\n\u001b[1;32m      5\u001b[0m \u001b[0mprint\u001b[0m\u001b[0;34m(\u001b[0m\u001b[0mtexto\u001b[0m\u001b[0;34m)\u001b[0m\u001b[0;34m\u001b[0m\u001b[0;34m\u001b[0m\u001b[0m\n",
      "\u001b[0;32m/usr/lib/python3.8/encodings/ascii.py\u001b[0m in \u001b[0;36mdecode\u001b[0;34m(self, input, final)\u001b[0m\n\u001b[1;32m     24\u001b[0m \u001b[0;32mclass\u001b[0m \u001b[0mIncrementalDecoder\u001b[0m\u001b[0;34m(\u001b[0m\u001b[0mcodecs\u001b[0m\u001b[0;34m.\u001b[0m\u001b[0mIncrementalDecoder\u001b[0m\u001b[0;34m)\u001b[0m\u001b[0;34m:\u001b[0m\u001b[0;34m\u001b[0m\u001b[0;34m\u001b[0m\u001b[0m\n\u001b[1;32m     25\u001b[0m     \u001b[0;32mdef\u001b[0m \u001b[0mdecode\u001b[0m\u001b[0;34m(\u001b[0m\u001b[0mself\u001b[0m\u001b[0;34m,\u001b[0m \u001b[0minput\u001b[0m\u001b[0;34m,\u001b[0m \u001b[0mfinal\u001b[0m\u001b[0;34m=\u001b[0m\u001b[0;32mFalse\u001b[0m\u001b[0;34m)\u001b[0m\u001b[0;34m:\u001b[0m\u001b[0;34m\u001b[0m\u001b[0;34m\u001b[0m\u001b[0m\n\u001b[0;32m---> 26\u001b[0;31m         \u001b[0;32mreturn\u001b[0m \u001b[0mcodecs\u001b[0m\u001b[0;34m.\u001b[0m\u001b[0mascii_decode\u001b[0m\u001b[0;34m(\u001b[0m\u001b[0minput\u001b[0m\u001b[0;34m,\u001b[0m \u001b[0mself\u001b[0m\u001b[0;34m.\u001b[0m\u001b[0merrors\u001b[0m\u001b[0;34m)\u001b[0m\u001b[0;34m[\u001b[0m\u001b[0;36m0\u001b[0m\u001b[0;34m]\u001b[0m\u001b[0;34m\u001b[0m\u001b[0;34m\u001b[0m\u001b[0m\n\u001b[0m\u001b[1;32m     27\u001b[0m \u001b[0;34m\u001b[0m\u001b[0m\n\u001b[1;32m     28\u001b[0m \u001b[0;32mclass\u001b[0m \u001b[0mStreamWriter\u001b[0m\u001b[0;34m(\u001b[0m\u001b[0mCodec\u001b[0m\u001b[0;34m,\u001b[0m\u001b[0mcodecs\u001b[0m\u001b[0;34m.\u001b[0m\u001b[0mStreamWriter\u001b[0m\u001b[0;34m)\u001b[0m\u001b[0;34m:\u001b[0m\u001b[0;34m\u001b[0m\u001b[0;34m\u001b[0m\u001b[0m\n",
      "\u001b[0;31mUnicodeDecodeError\u001b[0m: 'ascii' codec can't decode byte 0xc3 in position 11: ordinal not in range(128)"
     ]
    }
   ],
   "source": [
    "# Lê arquivo com encoding ascii (diferente do do arquivo):\n",
    "with open('dados/exemplo_de_texto_01.txt', 'r', encoding='ascii') as f:\n",
    "    texto = f.read()\n",
    "# Imprime o texto:    \n",
    "print(texto)"
   ]
  },
  {
   "cell_type": "markdown",
   "id": "8a94b56e-2aee-4de3-9d2d-2b49ce1e5c58",
   "metadata": {},
   "source": [
    "## 4. O que você precisa saber"
   ]
  },
  {
   "cell_type": "markdown",
   "id": "8f73304c-a9a9-4116-b7a9-9ebe7430e82c",
   "metadata": {},
   "source": [
    "* Ler um arquivo com um _encoding_ diferente do utilizado para salvá-lo vai resultar em erro ou em um texto com caracteres estranhos.\n",
    "* O _encoding_ padrão do Python e do Pandas é o UTF-8.\n",
    "* No Brasil, a maioria dos arquivos estão salvos nos _encodings_ UTF-8 ou latin1.\n",
    "* O _encoding_ latin1 também é conhecido como \"ISO-8859-1\", \"IBM819\" ou \"Windows-28591\"."
   ]
  },
  {
   "cell_type": "markdown",
   "id": "16c27dc4-5b2b-4bef-b06b-4c3c221f9ca6",
   "metadata": {},
   "source": [
    "<center>\n",
    "    <img src=\"https://nucleodetecnologia.com.br/assets/img/novo-logo-tecnologia.svg?bl=tutorial-encoding\" width=\"150\">\n",
    "</center>"
   ]
  }
 ],
 "metadata": {
  "kernelspec": {
   "display_name": "Python 3 (ipykernel)",
   "language": "python",
   "name": "python3"
  },
  "language_info": {
   "codemirror_mode": {
    "name": "ipython",
    "version": 3
   },
   "file_extension": ".py",
   "mimetype": "text/x-python",
   "name": "python",
   "nbconvert_exporter": "python",
   "pygments_lexer": "ipython3",
   "version": "3.8.10"
  }
 },
 "nbformat": 4,
 "nbformat_minor": 5
}
