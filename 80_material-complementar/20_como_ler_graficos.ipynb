{
 "cells": [
  {
   "cell_type": "markdown",
   "id": "be0f858e-3484-48e6-933b-8eb5ed22212f",
   "metadata": {},
   "source": [
    "# Como ler gráficos"
   ]
  },
  {
   "cell_type": "markdown",
   "id": "4b2a53bf-4b0f-4915-bed1-e3c54ad09782",
   "metadata": {},
   "source": [
    "Voltar ao [índice](../00_indice.ipynb)"
   ]
  },
  {
   "cell_type": "markdown",
   "id": "ab010857-6e23-4cf0-ae79-266eee5cf725",
   "metadata": {},
   "source": [
    "_Em construção_"
   ]
  },
  {
   "cell_type": "markdown",
   "id": "96efe308-836b-4aa1-b7c3-85788b6f09bf",
   "metadata": {},
   "source": [
    "<center>\n",
    "    <img src=\"https://nucleodetecnologia.com.br/assets/img/novo-logo-tecnologia.svg?bl=tutorial-ler-graficos\" width=\"150\">\n",
    "</center>"
   ]
  }
 ],
 "metadata": {
  "kernelspec": {
   "display_name": "Python 3 (ipykernel)",
   "language": "python",
   "name": "python3"
  },
  "language_info": {
   "codemirror_mode": {
    "name": "ipython",
    "version": 3
   },
   "file_extension": ".py",
   "mimetype": "text/x-python",
   "name": "python",
   "nbconvert_exporter": "python",
   "pygments_lexer": "ipython3",
   "version": "3.8.10"
  }
 },
 "nbformat": 4,
 "nbformat_minor": 5
}
