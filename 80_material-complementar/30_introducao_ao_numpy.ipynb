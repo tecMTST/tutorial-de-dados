{
 "cells": [
  {
   "cell_type": "code",
   "execution_count": 36,
   "id": "003d73a7-105f-4941-b02d-49ee5b885a9b",
   "metadata": {
    "jupyter": {
     "source_hidden": true
    }
   },
   "outputs": [
    {
     "data": {
      "text/html": [
       "<style>\n",
       "table {float:left}\n",
       "</style>\n"
      ],
      "text/plain": [
       "<IPython.core.display.HTML object>"
      ]
     },
     "metadata": {},
     "output_type": "display_data"
    }
   ],
   "source": [
    "%%html\n",
    "<style>\n",
    "table {float:left}\n",
    "</style>"
   ]
  },
  {
   "cell_type": "markdown",
   "id": "cf22f2f9-bcb9-4cca-828f-62c3086229c7",
   "metadata": {},
   "source": [
    "# Tutorial de Numpy\n",
    "\n",
    "O NumPy é uma biblioteca essencial para computação numérica em Python. Ele fornece suporte para a criação e manipulação de arrays multidimensionais, que são fundamentais para realizar operações matemáticas e científicas de forma rápida e eficiente. NumPy, abreviação de Numerical Python, é um dos pacotes mais importantes para computação numérica em Python.\n",
    "\n",
    "Seu [código](https://github.com/pandas-dev/pandas) é aberto está hospedado no GitHub.  \\\n",
    "Sua [documentação](https://pandas.pydata.org/docs/), apesar de estar disponível somente em inglês, é bem completa e oferece tutoriais e exemplos.  \\"
   ]
  },
  {
   "cell_type": "markdown",
   "id": "4c848151-4a17-4ca5-91aa-d22925de5b2a",
   "metadata": {},
   "source": [
    "## Instalação\n",
    "Para instalar a biblioteca basta usarmos o `pip`"
   ]
  },
  {
   "cell_type": "code",
   "execution_count": 1,
   "id": "adde7ea6-7af2-4843-b80f-6d2b3bf620d7",
   "metadata": {},
   "outputs": [
    {
     "name": "stdout",
     "output_type": "stream",
     "text": [
      "Requirement already satisfied: pandas in c:\\python311\\lib\\site-packages (2.0.1)Note: you may need to restart the kernel to use updated packages.\n"
     ]
    },
    {
     "name": "stderr",
     "output_type": "stream",
     "text": [
      "\n",
      "[notice] A new release of pip is available: 23.1.2 -> 23.2\n",
      "[notice] To update, run: python.exe -m pip install --upgrade pip\n"
     ]
    },
    {
     "name": "stdout",
     "output_type": "stream",
     "text": [
      "\n",
      "Requirement already satisfied: python-dateutil>=2.8.2 in c:\\python311\\lib\\site-packages (from pandas) (2.8.2)\n",
      "Requirement already satisfied: pytz>=2020.1 in c:\\python311\\lib\\site-packages (from pandas) (2023.3)\n",
      "Requirement already satisfied: tzdata>=2022.1 in c:\\python311\\lib\\site-packages (from pandas) (2023.3)\n",
      "Requirement already satisfied: numpy>=1.21.0 in c:\\python311\\lib\\site-packages (from pandas) (1.24.3)\n",
      "Requirement already satisfied: six>=1.5 in c:\\python311\\lib\\site-packages (from python-dateutil>=2.8.2->pandas) (1.16.0)\n"
     ]
    }
   ],
   "source": [
    "%pip install numpy"
   ]
  },
  {
   "cell_type": "markdown",
   "id": "ef78be66-3298-4581-b859-1ab9dd760aa5",
   "metadata": {},
   "source": [
    "Para verificar se o Numpy foi instalado corretamente, tente importar ela e imprimir sua versão."
   ]
  },
  {
   "cell_type": "code",
   "execution_count": 2,
   "id": "b25d7bb2-d870-4030-92ac-f4078c743f88",
   "metadata": {},
   "outputs": [
    {
     "data": {
      "text/plain": [
       "'2.0.1'"
      ]
     },
     "execution_count": 2,
     "metadata": {},
     "output_type": "execute_result"
    }
   ],
   "source": [
    "import numpy\n",
    "numpy.__version__"
   ]
  },
  {
   "cell_type": "markdown",
   "id": "97f16617-1f94-4408-b271-dd3b3ce32beb",
   "metadata": {},
   "source": [
    "Seguindo o padrão definido pelos desenvolvedores da biblioteca, utilizaremos as letras `np` como pseudônimo para simplificar o nosso código. Assim, toda vez que precisarmos utiliza-la não precisaremos escrever o nome dela completo, somente `np` ao invés de `numpy`."
   ]
  },
  {
   "cell_type": "code",
   "execution_count": 3,
   "id": "d6cc131b-7a33-473e-9caa-2bd15076edfc",
   "metadata": {},
   "outputs": [
    {
     "data": {
      "text/plain": [
       "'2.0.1'"
      ]
     },
     "execution_count": 3,
     "metadata": {},
     "output_type": "execute_result"
    }
   ],
   "source": [
    "import numpy as np\n",
    "np.__version__"
   ]
  },
  {
   "cell_type": "markdown",
   "id": "f56f316f-2427-4dac-9f2d-0781212c6d3a",
   "metadata": {},
   "source": [
    "## Introdução\n",
    "\n",
    ">O pacote fundamental para computação científica com Python. \n",
    ">\n",
    "> [Numpy](https://numpy.org/)\n",
    "\n",
    "\n",
    "Essa bibliotecae possui duas principais estruturas de dados: a coluna (Series) e a tabela (DataFrame)"
   ]
  },
  {
   "cell_type": "markdown",
   "id": "74b1440a-e4a5-4894-95f3-8945719326ef",
   "metadata": {},
   "source": [
    "### Series: Declaração\n",
    "Ao trabalhar com o pandas todas as colunas do seu conjunto de dados serão do tipo Series."
   ]
  },
  {
   "cell_type": "code",
   "execution_count": 59,
   "id": "e50f2466-bd07-4e85-83de-9d56676a75c6",
   "metadata": {},
   "outputs": [
    {
     "data": {
      "text/plain": [
       "0    10\n",
       "1    20\n",
       "2    30\n",
       "3    40\n",
       "dtype: int64"
      ]
     },
     "execution_count": 59,
     "metadata": {},
     "output_type": "execute_result"
    }
   ],
   "source": [
    "pd.Series([10, 20, 30, 40])"
   ]
  },
  {
   "attachments": {},
   "cell_type": "markdown",
   "id": "f342b950-bff1-4ce7-846e-4dcf13774f41",
   "metadata": {},
   "source": [
    "Neste caso, declaramos de forma muito símples a nossa coluna, mas mesmo assim o pandas adicionou os **índices** e o **tipo de dados** da nossa coluna.\n",
    "Algo interessante das Series é que podemos cria-las definindo o seu nome, seus índices e qual será o seu tipo de dados."
   ]
  },
  {
   "cell_type": "code",
   "execution_count": 60,
   "id": "4ea8d1b5-eb4e-49d4-a026-8d9f9e286aa4",
   "metadata": {},
   "outputs": [
    {
     "data": {
      "text/plain": [
       "dez         10\n",
       "vinte       20\n",
       "trinta      30\n",
       "quarenta    40\n",
       "Name: dezenas, dtype: int32"
      ]
     },
     "execution_count": 60,
     "metadata": {},
     "output_type": "execute_result"
    }
   ],
   "source": [
    "dezenas_series = pd.Series([10, 20, 30, 40], \n",
    "    index=['dez', 'vinte', 'trinta', 'quarenta'], \n",
    "    name='dezenas', \n",
    "    dtype='int32'\n",
    ")\n",
    "dezenas_series"
   ]
  },
  {
   "cell_type": "code",
   "execution_count": 61,
   "id": "f0e88aed-219f-44bd-bd1e-76a6a8c44c39",
   "metadata": {},
   "outputs": [
    {
     "name": "stdout",
     "output_type": "stream",
     "text": [
      "Índices:  Index(['dez', 'vinte', 'trinta', 'quarenta'], dtype='object')\n",
      "Nome:  dezenas\n",
      "Tipo:  int32\n"
     ]
    }
   ],
   "source": [
    "print('Índices: ', dezenas_series.index)\n",
    "print('Nome: ', dezenas_series.name)\n",
    "print('Tipo: ', dezenas_series.dtype)"
   ]
  },
  {
   "cell_type": "markdown",
   "id": "a27cec72-8945-4173-bf2d-27a050398ec3",
   "metadata": {},
   "source": [
    "Também podemos criar Series através de dicionários, assim as chaves e os valores do dicionário serão, respectivamente, os índices e os valores da coluna."
   ]
  },
  {
   "cell_type": "code",
   "execution_count": 62,
   "id": "23b98330-0f3e-4450-b796-d2e29122513b",
   "metadata": {},
   "outputs": [
    {
     "data": {
      "text/plain": [
       "dez         10\n",
       "vinte       20\n",
       "trinta      30\n",
       "quarenta    40\n",
       "dtype: int64"
      ]
     },
     "execution_count": 62,
     "metadata": {},
     "output_type": "execute_result"
    }
   ],
   "source": [
    "dict_series = pd.Series({'dez': 10, 'vinte': 20, 'trinta': 30, 'quarenta': 40})\n",
    "dict_series"
   ]
  },
  {
   "cell_type": "code",
   "execution_count": 63,
   "id": "4ea9d667-7191-4ba6-ab45-896f182d3d67",
   "metadata": {},
   "outputs": [
    {
     "data": {
      "text/plain": [
       "dez         10\n",
       "vinte       20\n",
       "trinta      30\n",
       "quarenta    40\n",
       "Name: Dezenas, dtype: int64"
      ]
     },
     "execution_count": 63,
     "metadata": {},
     "output_type": "execute_result"
    }
   ],
   "source": [
    "dict_series.name = 'Dezenas'\n",
    "dict_series"
   ]
  },
  {
   "cell_type": "markdown",
   "id": "8d8eb27f-1175-4966-b939-b305f33cbacf",
   "metadata": {},
   "source": [
    "### Series: Atributos\n",
    "Além dos três atributos apresentados anteriormente, as Series possuem alguns outros que trazem ricas informações a respeito da coleção de dados.\n",
    "Abaixo estão todos os atributos suportados por essa estrutura de dados.\n",
    "\n",
    "|    | Atributos                          | Descrição                                                                                                                                                                          |\n",
    "|---:|:-----------------------------------|:-----------------------------------------------------------------------------------------------------------------------------------------------------------------------------------|\n",
    "| 0 | Series.index                       | O índice (rótulos do eixo) da Série.                                                                                                                                               |\n",
    "  1 | Series.array                       | O ExtensionArray dos dados que suportam esta Série ou Índice.                                                                                                                      |\n",
    "|  2 | Series.values                      | Retorna a Série como um ndarray ou algo semelhante a um ndarray, dependendo do dtype.                                                                                             |\n",
    "|  3 | Series.dtype                       | Retorna o objeto dtype dos dados subjacentes.                                                                                                                                     \n",
    "|  4 | Series.shape                       | Retorna uma tupla com a forma dos dados subjacentes.                                                                                                                             |\n",
    "|  5 | Series.nbytes                      | Retorna o número de bytes nos dados subjacentes.                                                                                                                                 |\n",
    "|  6 | Series.ndim                        | Número de dimensões dos dados subjacentes, por definição 1.                                                                                                                       |\n",
    "|  7 | Series.size                        | Retorna o número de elementos nos dados subjacentes.                                                                                                                             |\n",
    "|  8 | Series.T                           | Retorna a transposição, que é, por definição, a própria Série.                                                                                                                    |\n",
    "|  9 | Series.memory_usage([index, deep]) | Retorna o uso de memória da Série.                                                                                                                                                |\n",
    "| 10 | Series.hasnans                     | Retorna True se houver algum NaN (Not a Number).                                                                                                                                 |\n",
    "| 11 | Series.empty                       | Indicador se a Série/DataFrame está vazia.                                                                                                                                       |\n",
    "| 12 | Series.dtypes                      | Retorna o objeto dtype dos dados subjacentes.                                                                                                                                    |\n",
    "| 13 | Series.name                        | Retorna o nome da Série.                                                                                                                                                         |\n",
    "| 14 | Series.flags                       | Obtém as propriedades associadas a este objeto pandas.                                                                                                                           |\n",
    "| 15 | Series.set_flags(*[, copy, ...])   | Retorna um novo objeto com as flags atualizadas.                                                                                                                                  |                  |"
   ]
  },
  {
   "cell_type": "markdown",
   "id": "7e55f445-da5d-484f-9e11-c894b25e16e5",
   "metadata": {},
   "source": [
    "### Series: Métodos\n",
    "O grande poder das Series estão em seus mais de 300 métodos"
   ]
  },
  {
   "cell_type": "code",
   "execution_count": null,
   "id": "0ec72ee8-626c-4ca9-8ebd-85ca114aab5e",
   "metadata": {},
   "outputs": [],
   "source": []
  }
 ],
 "metadata": {
  "kernelspec": {
   "display_name": "Python 3 (ipykernel)",
   "language": "python",
   "name": "python3"
  },
  "language_info": {
   "codemirror_mode": {
    "name": "ipython",
    "version": 3
   },
   "file_extension": ".py",
   "mimetype": "text/x-python",
   "name": "python",
   "nbconvert_exporter": "python",
   "pygments_lexer": "ipython3",
   "version": "3.11.3"
  }
 },
 "nbformat": 4,
 "nbformat_minor": 5
}
