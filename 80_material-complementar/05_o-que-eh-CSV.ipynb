{
 "cells": [
  {
   "cell_type": "markdown",
   "id": "adb8b14c-5354-4875-aa1f-6b98aa6952db",
   "metadata": {
    "tags": []
   },
   "source": [
    "# O que é CSV?"
   ]
  },
  {
   "cell_type": "markdown",
   "id": "f97ebea1-1b0f-4bdf-8899-076250f1e313",
   "metadata": {},
   "source": [
    "## 1. Explicação básica"
   ]
  },
  {
   "cell_type": "markdown",
   "id": "8e6677dc-6b46-4c5f-b36c-a7d12cb79b35",
   "metadata": {},
   "source": [
    "CSV é uma sigla para _Comma Separated Values_ (valores separados por vírgulas, em inglês). Arquivos nesse formato são arquivos de texto (isto é, podem ser lidos e editados \n",
    "com qualquer editor de texto) que representam tabelas. As características de um arquivo CSV \"bem comportado\" são as seguintes:\n",
    "1. cada linha do arquivo corresponde a uma linha da tabela;\n",
    "2. no arquivo, as colunas da tabela são separadas por vírgulas;\n",
    "3. todas as linhas devem ter o mesmo número de colunas;\n",
    "4. normalmente, a primeira linha contém o cabeçalho da tabela, isto é, o nome das colunas.\n",
    "\n",
    "Por exemplo, a tabela abaixo:\n",
    "\n",
    "|nome|email|telefone|\n",
    "|----|-----|--------|\n",
    "|Maria da Silva|mariasilva0012@gmail.com|(74) 9 5753-4567\n",
    "|José dos Santos|jsantos0101@proton.me|(41) 9 6572-4645\n",
    "|Ediane Maria|edianemaria@al.sp.gov.br|(11) 3886-6395\n",
    "\n",
    "apareceria da seguinte forma em um arquivo CSV:\n",
    "\n",
    "    nome,email,telefone\n",
    "    Maria da Silva,mariasilva0012@gmail.com,(74) 9 5753-4567\n",
    "    José dos Santos,jsantos0101@proton.me,(41) 9 6572-4645\n",
    "    Ediane Maria,edianemaria@al.sp.gov.br,(11) 3886-6395"
   ]
  },
  {
   "cell_type": "markdown",
   "id": "5e22fba1-bb5f-4a27-952b-7f1f25d57ba3",
   "metadata": {},
   "source": [
    "## 2. Possíveis variações"
   ]
  },
  {
   "cell_type": "markdown",
   "id": "20eb76c6-d265-4f17-b1e7-9f3bf3a66004",
   "metadata": {},
   "source": [
    "O formato CSV aceita algumas variações:\n",
    "* o símbolo que separa as colunas (chamado de \"separador\") pode ser qualquer outro (por exemplo, `;` ou `|`);\n",
    "* o arquivo pode não ter cabeçalho com o nome das colunas;\n",
    "* caso os próprios dados contenham o separador de colunas (por exemplo, `Rua Meireles, 39`) e/ou separador de linhas (isto é, uma quebra de linha), \n",
    "é possível colocar o dado entre aspas `\"` para avisar que aquele símbolo deve ser interpretado como parte do conteúdo e não como separador. \n",
    "Para uma tabela com nomes e endereços de locais, o CSV poderia ser: \n",
    "```\n",
    "nome,endereco\n",
    "Assembléia Legislativa de Minas Gerais,\"Rua Rodrigues Caldas, 30\"\n",
    "``` "
   ]
  },
  {
   "cell_type": "markdown",
   "id": "67a65daf-cfa0-454d-967e-de2127285a3a",
   "metadata": {},
   "source": [
    "## 3. Possíveis problemas"
   ]
  },
  {
   "cell_type": "markdown",
   "id": "0b8c0ee4-beea-47b2-8a39-80d5d8316c94",
   "metadata": {},
   "source": [
    "_Em construção_"
   ]
  },
  {
   "cell_type": "markdown",
   "id": "5dba30e7-150a-4503-96e0-83129493ffcb",
   "metadata": {},
   "source": [
    "<center>\n",
    "    <img src=\"https://nucleodetecnologia.com.br/assets/img/novo-logo-tecnologia.svg?bl=tutorial-csv\" width=\"150\">\n",
    "</center>"
   ]
  }
 ],
 "metadata": {
  "kernelspec": {
   "display_name": "Python 3 (ipykernel)",
   "language": "python",
   "name": "python3"
  },
  "language_info": {
   "codemirror_mode": {
    "name": "ipython",
    "version": 3
   },
   "file_extension": ".py",
   "mimetype": "text/x-python",
   "name": "python",
   "nbconvert_exporter": "python",
   "pygments_lexer": "ipython3",
   "version": "3.8.10"
  }
 },
 "nbformat": 4,
 "nbformat_minor": 5
}
