{
 "cells": [
  {
   "cell_type": "markdown",
   "id": "cf22f2f9-bcb9-4cca-828f-62c3086229c7",
   "metadata": {},
   "source": [
    "# Tutorial de Pandas\n",
    "\n",
    "Pandas é a biblioteca do Python mais utilizada para trabalhar com conjuntos de dados de diferentes fontes de dados. \\\n",
    "Neste tutorial aprenderemos a como utilizá-la para extrair, transformar e carregar diversos tipos de dados.\n",
    "\n",
    "Seu [código](https://github.com/pandas-dev/pandas) é aberto está hospedado no GitHub.  \\\n",
    "Sua [documentação](https://pandas.pydata.org/docs/), apesar de estar disponível somente em inglês, é bem completa e oferece tutoriais e exemplos."
   ]
  },
  {
   "cell_type": "code",
   "execution_count": 1,
   "id": "003d73a7-105f-4941-b02d-49ee5b885a9b",
   "metadata": {
    "tags": []
   },
   "outputs": [
    {
     "data": {
      "text/html": [
       "<style>\n",
       "table {float:left}\n",
       "</style>\n"
      ],
      "text/plain": [
       "<IPython.core.display.HTML object>"
      ]
     },
     "metadata": {},
     "output_type": "display_data"
    }
   ],
   "source": [
    "%%html\n",
    "<style>\n",
    "table {float:left}\n",
    "</style>"
   ]
  },
  {
   "cell_type": "markdown",
   "id": "4c848151-4a17-4ca5-91aa-d22925de5b2a",
   "metadata": {},
   "source": [
    "## Instalação\n",
    "\n",
    "Caso você não tenha instalado o Pandas junto com os demais pacotes de Python (conforme explicado no [README.md](../README.md)), você pode instalá-lo usando o comando `pip`:"
   ]
  },
  {
   "cell_type": "code",
   "execution_count": 2,
   "id": "adde7ea6-7af2-4843-b80f-6d2b3bf620d7",
   "metadata": {},
   "outputs": [
    {
     "name": "stdout",
     "output_type": "stream",
     "text": [
      "Requirement already satisfied: pandas in /home/hxavier/system/envs/ceweb/lib/python3.8/site-packages (1.5.1)\n",
      "Requirement already satisfied: pytz>=2020.1 in /home/hxavier/system/envs/ceweb/lib/python3.8/site-packages (from pandas) (2022.5)\n",
      "Requirement already satisfied: numpy>=1.20.3; python_version < \"3.10\" in /home/hxavier/system/envs/ceweb/lib/python3.8/site-packages (from pandas) (1.23.5)\n",
      "Requirement already satisfied: python-dateutil>=2.8.1 in /home/hxavier/system/envs/ceweb/lib/python3.8/site-packages (from pandas) (2.8.2)\n",
      "Requirement already satisfied: six>=1.5 in /home/hxavier/system/envs/ceweb/lib/python3.8/site-packages (from python-dateutil>=2.8.1->pandas) (1.16.0)\n",
      "Note: you may need to restart the kernel to use updated packages.\n"
     ]
    }
   ],
   "source": [
    "%pip install pandas  # NOTA: o símbolo de porcentagem no começo da linha permite você rodar comandos do terminal diretamente no notebook. "
   ]
  },
  {
   "cell_type": "markdown",
   "id": "ef78be66-3298-4581-b859-1ab9dd760aa5",
   "metadata": {},
   "source": [
    "Para verificar se o Pandas foi instalado corretamente, tente importar ela e imprimir sua versão."
   ]
  },
  {
   "cell_type": "code",
   "execution_count": 3,
   "id": "b25d7bb2-d870-4030-92ac-f4078c743f88",
   "metadata": {},
   "outputs": [
    {
     "data": {
      "text/plain": [
       "'1.5.1'"
      ]
     },
     "execution_count": 3,
     "metadata": {},
     "output_type": "execute_result"
    }
   ],
   "source": [
    "import pandas\n",
    "pandas.__version__"
   ]
  },
  {
   "cell_type": "markdown",
   "id": "97f16617-1f94-4408-b271-dd3b3ce32beb",
   "metadata": {},
   "source": [
    "Seguindo o padrão definido pelos desenvolvedores da biblioteca, utilizaremos as letras `pd` como pseudônimo para simplificar o nosso código. Assim, toda vez que quisermos utilizá-la não precisaremos escrever o nome dela completo (`pandas`), somente `pd`."
   ]
  },
  {
   "cell_type": "code",
   "execution_count": 4,
   "id": "d6cc131b-7a33-473e-9caa-2bd15076edfc",
   "metadata": {},
   "outputs": [
    {
     "data": {
      "text/plain": [
       "'1.5.1'"
      ]
     },
     "execution_count": 4,
     "metadata": {},
     "output_type": "execute_result"
    }
   ],
   "source": [
    "import pandas as pd\n",
    "pd.__version__"
   ]
  },
  {
   "cell_type": "markdown",
   "id": "f56f316f-2427-4dac-9f2d-0781212c6d3a",
   "metadata": {},
   "source": [
    "## Introdução\n",
    "\n",
    ">[Pandas](https://pandas.pydata.org/) é uma ferramenta de análise e manipulação de dados em código aberto rápida, poderosa, flexível e fácil de usar, \n",
    "construída sobre a linguagem de programação Python.\n",
    "\n",
    "\n",
    "Essa biblioteca possui duas principais estruturas de dados: a coluna (_Series_) e a tabela (_DataFrame_)."
   ]
  },
  {
   "cell_type": "markdown",
   "id": "fd63814d-e0dc-457a-9343-c29ddaec53b5",
   "metadata": {
    "tags": []
   },
   "source": [
    "## Series"
   ]
  },
  {
   "cell_type": "markdown",
   "id": "74b1440a-e4a5-4894-95f3-8945719326ef",
   "metadata": {},
   "source": [
    "### Series: declaração\n",
    "Ao trabalhar com o Pandas, todas as colunas do seu conjunto de dados serão do tipo _Series_. Uma _Series_ também pode ser entendida como uma série ou sequência de dados. \n",
    "Você pode criar uma _Series_ na mão a partir de uma lista de Python. O exemplo abaixo mostra o número de mortes por Covid-19 a cada ano, de 2020 a 2023, de acordo com o \n",
    "[painel do Ministério da Saúde](https://infoms.saude.gov.br/extensions/covid-19_html/covid-19_html.html):"
   ]
  },
  {
   "cell_type": "code",
   "execution_count": 5,
   "id": "e50f2466-bd07-4e85-83de-9d56676a75c6",
   "metadata": {},
   "outputs": [
    {
     "data": {
      "text/plain": [
       "0    194950\n",
       "1    424110\n",
       "2     74800\n",
       "3     11320\n",
       "dtype: int64"
      ]
     },
     "execution_count": 5,
     "metadata": {},
     "output_type": "execute_result"
    }
   ],
   "source": [
    "pd.Series([194950, 424110, 74800, 11320])"
   ]
  },
  {
   "cell_type": "markdown",
   "id": "f342b950-bff1-4ce7-846e-4dcf13774f41",
   "metadata": {},
   "source": [
    "No caso acima, declaramos de forma muito simples a nossa série de dados, mas mesmo assim o pandas adicionou os **índices** (0 a 3) e o **tipo de dados** (int64) da nossa coluna.\n",
    "Algo interessante das _Series_ é que podemos criá-las definindo o seu nome, seus índices e qual será o seu tipo de dados:"
   ]
  },
  {
   "cell_type": "code",
   "execution_count": 6,
   "id": "4ea8d1b5-eb4e-49d4-a026-8d9f9e286aa4",
   "metadata": {},
   "outputs": [
    {
     "data": {
      "text/plain": [
       "Ano de 2020    194950\n",
       "Ano de 2021    424110\n",
       "Ano de 2022     74800\n",
       "Ano de 2023     11320\n",
       "Name: obitos_por_covid, dtype: int32"
      ]
     },
     "execution_count": 6,
     "metadata": {},
     "output_type": "execute_result"
    }
   ],
   "source": [
    "covid_series = pd.Series([194950, 424110, 74800, 11320], \n",
    "    index=['Ano de 2020', 'Ano de 2021', 'Ano de 2022', 'Ano de 2023'], \n",
    "    name='obitos_por_covid', \n",
    "    dtype='int32'\n",
    ")\n",
    "covid_series"
   ]
  },
  {
   "cell_type": "markdown",
   "id": "ba78b369-5c3a-453f-9b81-70fd4759938e",
   "metadata": {},
   "source": [
    "No exemplo acima, optamos por índices que são strings. Nós poderíamos ter adotado índices inteiros, por exemplo: `[2020, 2021, 2022, 2023]`. \n",
    "\n",
    "O código abaixo mostra como obter essas propriedades das _Series_:"
   ]
  },
  {
   "cell_type": "code",
   "execution_count": 7,
   "id": "f0e88aed-219f-44bd-bd1e-76a6a8c44c39",
   "metadata": {},
   "outputs": [
    {
     "name": "stdout",
     "output_type": "stream",
     "text": [
      "Índices:  Index(['Ano de 2020', 'Ano de 2021', 'Ano de 2022', 'Ano de 2023'], dtype='object')\n",
      "Nome:  obitos_por_covid\n",
      "Tipo:  int32\n"
     ]
    }
   ],
   "source": [
    "print('Índices: ', covid_series.index)\n",
    "print('Nome: ', covid_series.name)\n",
    "print('Tipo: ', covid_series.dtype)"
   ]
  },
  {
   "cell_type": "code",
   "execution_count": 8,
   "id": "1307d316-44d4-4adb-a25a-9a83be4327bb",
   "metadata": {},
   "outputs": [
    {
     "data": {
      "text/plain": [
       "{'Ano de 2020': 194950,\n",
       " 'Ano de 2021': 424110,\n",
       " 'Ano de 2022': 74800,\n",
       " 'Ano de 2023': 11320}"
      ]
     },
     "execution_count": 8,
     "metadata": {},
     "output_type": "execute_result"
    }
   ],
   "source": [
    "covid_series.to_dict()"
   ]
  },
  {
   "cell_type": "markdown",
   "id": "a27cec72-8945-4173-bf2d-27a050398ec3",
   "metadata": {},
   "source": [
    "Também podemos criar _Series_ através de dicionários, assim as chaves e os valores do dicionário serão, respectivamente, os índices e os valores da coluna:"
   ]
  },
  {
   "cell_type": "code",
   "execution_count": 9,
   "id": "23b98330-0f3e-4450-b796-d2e29122513b",
   "metadata": {},
   "outputs": [
    {
     "data": {
      "text/plain": [
       "Ano de 2020    194950\n",
       "Ano de 2021    424110\n",
       "Ano de 2022     74800\n",
       "Ano de 2023     11320\n",
       "dtype: int64"
      ]
     },
     "execution_count": 9,
     "metadata": {},
     "output_type": "execute_result"
    }
   ],
   "source": [
    "dict_series = pd.Series({'Ano de 2020': 194950, 'Ano de 2021': 424110, 'Ano de 2022': 74800, 'Ano de 2023': 11320})\n",
    "dict_series"
   ]
  },
  {
   "cell_type": "code",
   "execution_count": 10,
   "id": "4ea9d667-7191-4ba6-ab45-896f182d3d67",
   "metadata": {},
   "outputs": [
    {
     "data": {
      "text/plain": [
       "Ano de 2020    194950\n",
       "Ano de 2021    424110\n",
       "Ano de 2022     74800\n",
       "Ano de 2023     11320\n",
       "Name: Mortes por covid, dtype: int64"
      ]
     },
     "execution_count": 10,
     "metadata": {},
     "output_type": "execute_result"
    }
   ],
   "source": [
    "# Dando um nome a uma Series já criada: \n",
    "dict_series.name = 'Mortes por covid'\n",
    "dict_series"
   ]
  },
  {
   "cell_type": "markdown",
   "id": "75af05a9-854c-4d57-a0dd-72dff63354eb",
   "metadata": {},
   "source": [
    "### Series: acessando elementos"
   ]
  },
  {
   "cell_type": "markdown",
   "id": "ed1ea2da-095d-4562-8b76-323ae2d80e09",
   "metadata": {},
   "source": [
    "A forma mais simples de acessar um elemento de uma _Series_ é informando seu índice:"
   ]
  },
  {
   "cell_type": "code",
   "execution_count": 11,
   "id": "b372a399-ae4b-44dc-abe5-f3b309082bfc",
   "metadata": {},
   "outputs": [
    {
     "name": "stdout",
     "output_type": "stream",
     "text": [
      "<class 'numpy.int32'>\n"
     ]
    },
    {
     "data": {
      "text/plain": [
       "424110"
      ]
     },
     "execution_count": 11,
     "metadata": {},
     "output_type": "execute_result"
    }
   ],
   "source": [
    "# Pega um elemento da série:\n",
    "n_obitos = covid_series['Ano de 2021']\n",
    "\n",
    "# Mostra o tipo do elemento: \n",
    "print(type(n_obitos))\n",
    "\n",
    "# Mostra o valor do elemento:\n",
    "n_obitos"
   ]
  },
  {
   "cell_type": "markdown",
   "id": "db2c5bcc-c6f6-461d-bfb7-fd0ec5963f55",
   "metadata": {},
   "source": [
    "Você pode selecionar vários elementos passando uma lista de índices para a _Series_. Nesse caso, a _Series_ retorna uma **slice** (fatia), isto é, um pedaço da _Series_ original: "
   ]
  },
  {
   "cell_type": "code",
   "execution_count": 12,
   "id": "886bbf7b-c82f-401e-86c4-e874834b1538",
   "metadata": {},
   "outputs": [
    {
     "data": {
      "text/plain": [
       "Ano de 2023     11320\n",
       "Ano de 2021    424110\n",
       "Name: obitos_por_covid, dtype: int32"
      ]
     },
     "execution_count": 12,
     "metadata": {},
     "output_type": "execute_result"
    }
   ],
   "source": [
    "covid_series[['Ano de 2023', 'Ano de 2021']]"
   ]
  },
  {
   "cell_type": "markdown",
   "id": "7e55f445-da5d-484f-9e11-c894b25e16e5",
   "metadata": {},
   "source": [
    "### Series: Métodos\n",
    "\n",
    "O grande poder das Series estão em seus mais de 300 métodos. Como não podemos explicar todos aqui, vamos focar nos mais importantes. Mas lembre-se: para qualquer coisa que você queira fazer com uma série (selecionar elementos, transformá-los, etc.) é muito provável que exista um método para isso. Pesquise na [documentação](https://pandas.pydata.org/docs/), no [Google](http://www.google.com), [Stack Overflow](https://stackoverflow.com/) ou pergunte ao [ChatGPT](https://chat.openai.com/)."
   ]
  },
  {
   "cell_type": "markdown",
   "id": "a9004553-f2ea-452d-8aa9-add9762099f2",
   "metadata": {},
   "source": [
    "Para exemplificar alguns métodos, vamos carregar dados sobre o desmatamento anual da floresta amazônica brasileira, \n",
    "obtidos por imagens de satélite do Instituto Nacional de Pesquisas Espaciais (INPE) aqui: <http://terrabrasilis.dpi.inpe.br/app/dashboard/deforestation/biomes/legal_amazon/rates>."
   ]
  },
  {
   "cell_type": "code",
   "execution_count": 13,
   "id": "0ec72ee8-626c-4ca9-8ebd-85ca114aab5e",
   "metadata": {},
   "outputs": [],
   "source": [
    "# Carrega Series com área desmatada na Amazônia, em quilômetros quadrados, em cada ano:\n",
    "desmatamento = pd.read_csv('../90_dados/desmatamento_INPE/terrabrasilis_legal_amazon_16_12_2023.csv', index_col=0)['area_km2']"
   ]
  },
  {
   "cell_type": "markdown",
   "id": "61bc63af-ffb8-4d4d-a778-d2bf8003dce0",
   "metadata": {},
   "source": [
    "#### Series: Selecionando elementos"
   ]
  },
  {
   "cell_type": "markdown",
   "id": "50d208b5-2a5f-42cb-9636-dbdd3b86b78f",
   "metadata": {},
   "source": [
    "Podemos selecionar o começo e o final da série com os métodos `head` e `tail`:"
   ]
  },
  {
   "cell_type": "code",
   "execution_count": 14,
   "id": "27ae90ee-291e-4308-ab17-1a6c499e76a1",
   "metadata": {},
   "outputs": [
    {
     "data": {
      "text/plain": [
       "ano\n",
       "1988    21050.0\n",
       "1989    17770.0\n",
       "1990    13730.0\n",
       "1991    11030.0\n",
       "1992    13786.0\n",
       "Name: area_km2, dtype: float64"
      ]
     },
     "execution_count": 14,
     "metadata": {},
     "output_type": "execute_result"
    }
   ],
   "source": [
    "desmatamento.head()"
   ]
  },
  {
   "cell_type": "code",
   "execution_count": 15,
   "id": "557a78e0-d9fa-48e7-b45c-e15e93e054f2",
   "metadata": {},
   "outputs": [
    {
     "data": {
      "text/plain": [
       "ano\n",
       "2017     6947.0\n",
       "2018     7536.0\n",
       "2019    10129.0\n",
       "2020    10851.0\n",
       "2021    13038.0\n",
       "2022    11594.0\n",
       "2023     9001.0\n",
       "Name: area_km2, dtype: float64"
      ]
     },
     "execution_count": 15,
     "metadata": {},
     "output_type": "execute_result"
    }
   ],
   "source": [
    "desmatamento.tail(7)"
   ]
  },
  {
   "cell_type": "markdown",
   "id": "48b00237-4d28-4418-b23e-5977d203b915",
   "metadata": {},
   "source": [
    "Podemos selecionar elementos a partir da sua posição na Series com o método `iloc`. Esse método funciona com a mesma lógica que a seleção de elementos de uma lista de Python."
   ]
  },
  {
   "cell_type": "code",
   "execution_count": 16,
   "id": "f340725e-ce37-4adf-be1b-c3a1cacc8f19",
   "metadata": {},
   "outputs": [
    {
     "data": {
      "text/plain": [
       "ano\n",
       "1993    14896.0\n",
       "1994    14896.0\n",
       "1995    29059.0\n",
       "Name: area_km2, dtype: float64"
      ]
     },
     "execution_count": 16,
     "metadata": {},
     "output_type": "execute_result"
    }
   ],
   "source": [
    "desmatamento.iloc[5:8]"
   ]
  },
  {
   "cell_type": "markdown",
   "id": "5f9a3ba6-307c-44b9-a13c-10a90a2a6931",
   "metadata": {},
   "source": [
    "Também podemos selecionar elementos de uma Series a partir de seus índices. Para isso utilizamos o método `loc`. Vamos selecionar os anos anteriores ao lançamento do [Plano de Ação para Prevenção e Controle do Desmatamento na Amazônia Legal](https://www.gov.br/mma/pt-br/assuntos/prevencao-e-controle-do-desmatamento/amazonia-ppcdam-1) (PPCDAm), feito em 2004. Note que, quando utilizamos a seleção por índice (ou seja, o método `loc`), o final da seleção é incluído:"
   ]
  },
  {
   "cell_type": "code",
   "execution_count": 17,
   "id": "bff4c31e-63c0-41e1-9c86-396f4484a197",
   "metadata": {},
   "outputs": [
    {
     "data": {
      "text/plain": [
       "ano\n",
       "1988    21050.0\n",
       "1989    17770.0\n",
       "1990    13730.0\n",
       "1991    11030.0\n",
       "1992    13786.0\n",
       "1993    14896.0\n",
       "1994    14896.0\n",
       "1995    29059.0\n",
       "1996    18161.0\n",
       "1997    13227.0\n",
       "1998    17383.0\n",
       "1999    17259.0\n",
       "2000    18226.0\n",
       "2001    18165.0\n",
       "2002    21650.0\n",
       "2003    25396.0\n",
       "Name: area_km2, dtype: float64"
      ]
     },
     "execution_count": 17,
     "metadata": {},
     "output_type": "execute_result"
    }
   ],
   "source": [
    "desmatamento.loc[1988:2003]"
   ]
  },
  {
   "cell_type": "markdown",
   "id": "91dc1c18-707a-459e-afdb-670bc9821597",
   "metadata": {},
   "source": [
    "Vemos que, do início do programa PRODES do INPE (de coleta de dados sobre o desmatamento) até antes do PPCDAm, cerca de 13 mil $\\mathrm{km^2}$ ou mais de floresta eram derrubados por ano, com grande variação de ano a ano. No ano de 2003, esse número chegou a mais de 25 mil $\\mathrm{km^2}$.\n",
    "\n",
    "Vamos selecionar os 7 primeiros anos do programa PPCDAm a partir de uma lista de índices:"
   ]
  },
  {
   "cell_type": "code",
   "execution_count": 18,
   "id": "2cbbbb97-774b-4c6a-a8f3-b11d8a4e7fea",
   "metadata": {},
   "outputs": [
    {
     "data": {
      "text/plain": [
       "ano\n",
       "2004    27772.0\n",
       "2005    19014.0\n",
       "2006    14286.0\n",
       "2007    11651.0\n",
       "2008    12911.0\n",
       "2009     7464.0\n",
       "2010     7000.0\n",
       "Name: area_km2, dtype: float64"
      ]
     },
     "execution_count": 18,
     "metadata": {},
     "output_type": "execute_result"
    }
   ],
   "source": [
    "desmatamento.loc[[2004, 2005, 2006, 2007, 2008, 2009, 2010]]"
   ]
  },
  {
   "cell_type": "markdown",
   "id": "57e710d4-ddca-4cf1-89cb-9e02b5de714c",
   "metadata": {},
   "source": [
    "Vemos que, após a implementação do PPCDAm, houve uma queda grande no ritmo do desmatamento."
   ]
  },
  {
   "cell_type": "markdown",
   "id": "4b3aa023-75cc-4393-8aef-4cf944c6e85c",
   "metadata": {},
   "source": [
    "O método `loc` também funciona com uma lista booleana que informa se o elemento naquela posição deve ser selecionado. Nesse caso, o tamanho da lista precisa ser igual ao da Series:"
   ]
  },
  {
   "cell_type": "code",
   "execution_count": 19,
   "id": "3a548eff-74fe-4193-b60a-b370c922d038",
   "metadata": {},
   "outputs": [],
   "source": [
    "# Lista que diz se cada elemento da Series `desmatamento` pertence ao 1o governo da Dilma Rouseff:\n",
    "gov_dilma1 = [False, False, False, False, False, False, False, False, False, False, False, False, \n",
    "              False, False, False, False, False, False, False, False, False, False, False, True, \n",
    "              True, True, True, False, False, False, False, False, False, False, False, False]\n",
    "assert len(gov_dilma1) == len(desmatamento)"
   ]
  },
  {
   "cell_type": "code",
   "execution_count": 20,
   "id": "588b6444-3a23-44a1-935b-780c84006029",
   "metadata": {},
   "outputs": [
    {
     "data": {
      "text/plain": [
       "ano\n",
       "2011    6418.0\n",
       "2012    4571.0\n",
       "2013    5891.0\n",
       "2014    5012.0\n",
       "Name: area_km2, dtype: float64"
      ]
     },
     "execution_count": 20,
     "metadata": {},
     "output_type": "execute_result"
    }
   ],
   "source": [
    "desmatamento.loc[gov_dilma1]"
   ]
  },
  {
   "cell_type": "markdown",
   "id": "03c113f6-fea5-4977-b8ca-3092c6c026ba",
   "metadata": {},
   "source": [
    "A vantagem dessa estratégia é que podemos selecionar elementos da lista a partir de critérios. \n",
    "Por exemplo, vamos criar uma nova Series que diz se o desmatamento ficou abaixo de 10 mil $\\mathrm{km^2}$ ou não:"
   ]
  },
  {
   "cell_type": "code",
   "execution_count": 21,
   "id": "bd6b1396-8da1-469f-a3c1-4aec97f93fbf",
   "metadata": {},
   "outputs": [
    {
     "data": {
      "text/plain": [
       "ano\n",
       "1988    False\n",
       "1989    False\n",
       "1990    False\n",
       "1991    False\n",
       "1992    False\n",
       "1993    False\n",
       "1994    False\n",
       "1995    False\n",
       "1996    False\n",
       "1997    False\n",
       "1998    False\n",
       "1999    False\n",
       "2000    False\n",
       "2001    False\n",
       "2002    False\n",
       "2003    False\n",
       "2004    False\n",
       "2005    False\n",
       "2006    False\n",
       "2007    False\n",
       "2008    False\n",
       "2009     True\n",
       "2010     True\n",
       "2011     True\n",
       "2012     True\n",
       "2013     True\n",
       "2014     True\n",
       "2015     True\n",
       "2016     True\n",
       "2017     True\n",
       "2018     True\n",
       "2019    False\n",
       "2020    False\n",
       "2021    False\n",
       "2022    False\n",
       "2023     True\n",
       "Name: area_km2, dtype: bool"
      ]
     },
     "execution_count": 21,
     "metadata": {},
     "output_type": "execute_result"
    }
   ],
   "source": [
    "menosde10 = desmatamento < 10000\n",
    "menosde10"
   ]
  },
  {
   "cell_type": "markdown",
   "id": "b08e17e8-2230-4b08-9218-27efa3ce3a65",
   "metadata": {},
   "source": [
    "Agora podemos usar essa Series booleana para selecionar os elementos da Series `desmatamento`:"
   ]
  },
  {
   "cell_type": "code",
   "execution_count": 22,
   "id": "cbdf5873-a8b4-463c-a9ce-d2c0d306f99a",
   "metadata": {},
   "outputs": [
    {
     "data": {
      "text/plain": [
       "ano\n",
       "2009    7464.0\n",
       "2010    7000.0\n",
       "2011    6418.0\n",
       "2012    4571.0\n",
       "2013    5891.0\n",
       "2014    5012.0\n",
       "2015    6207.0\n",
       "2016    7893.0\n",
       "2017    6947.0\n",
       "2018    7536.0\n",
       "2023    9001.0\n",
       "Name: area_km2, dtype: float64"
      ]
     },
     "execution_count": 22,
     "metadata": {},
     "output_type": "execute_result"
    }
   ],
   "source": [
    "desmatamento[menosde10]"
   ]
  },
  {
   "cell_type": "markdown",
   "id": "fd1dc909-2c53-44c9-ab66-2199f3ceb2fc",
   "metadata": {},
   "source": [
    "Outro exemplo que utiliza a mesma estratégia: vamos selecionar o segundo governo da Dilma Rouseff, até o golpe de 2016:"
   ]
  },
  {
   "cell_type": "code",
   "execution_count": 23,
   "id": "7c385299-a8fd-4438-ab11-bc1510e0d8f9",
   "metadata": {},
   "outputs": [
    {
     "data": {
      "text/plain": [
       "ano\n",
       "2015    6207.0\n",
       "2016    7893.0\n",
       "Name: area_km2, dtype: float64"
      ]
     },
     "execution_count": 23,
     "metadata": {},
     "output_type": "execute_result"
    }
   ],
   "source": [
    "# Aqui combinamos duas condições com a operação lógica \"E\". Para isso usamos o símbolo \"&\":  \n",
    "desmatamento.loc[(desmatamento.index >= 2015) & (desmatamento.index <= 2016)]"
   ]
  },
  {
   "cell_type": "markdown",
   "id": "7311550f-333f-4883-a080-de06d27a9ae3",
   "metadata": {},
   "source": [
    "#### Series: medidas agregadas"
   ]
  },
  {
   "cell_type": "markdown",
   "id": "24e1ab89-b260-4554-a617-2c39b7fa9209",
   "metadata": {},
   "source": [
    "Para uma Series, podemos calcular coisas como a média, valor máximo, valor mínimo, mediana, desvio padrão, entre outros. Vamos demonstrar algumas dessas coisas:"
   ]
  },
  {
   "cell_type": "code",
   "execution_count": 24,
   "id": "c284578f-e2b6-4b81-a2e1-e9e48dd582aa",
   "metadata": {},
   "outputs": [
    {
     "data": {
      "text/plain": [
       "17855.25"
      ]
     },
     "execution_count": 24,
     "metadata": {},
     "output_type": "execute_result"
    }
   ],
   "source": [
    "# Média de desmatamento antes do PPCDAm:\n",
    "desmatamento.loc[:2003].mean()"
   ]
  },
  {
   "cell_type": "markdown",
   "id": "441912f3-d9d1-439b-a8e5-7df984fb88d4",
   "metadata": {},
   "source": [
    "Vamos comparar com a média do desmatamento durante o PPCDAm (até antes de sua revogação, pelo governo federal, em 2019):"
   ]
  },
  {
   "cell_type": "code",
   "execution_count": 25,
   "id": "e586ad13-634c-4746-aa06-19752bf51d21",
   "metadata": {},
   "outputs": [
    {
     "data": {
      "text/plain": [
       "10038.2"
      ]
     },
     "execution_count": 25,
     "metadata": {},
     "output_type": "execute_result"
    }
   ],
   "source": [
    "# Média do desmatamento durante o PPCDAm:\n",
    "desmatamento.loc[2004:2018].mean()"
   ]
  },
  {
   "cell_type": "markdown",
   "id": "518f7264-b5c8-42fc-8c73-9b902c2d1b93",
   "metadata": {},
   "source": [
    "Também podemos ver qual foi o maior ritmo de desmatamento de 1988 a 2023:"
   ]
  },
  {
   "cell_type": "code",
   "execution_count": 26,
   "id": "35b0f1a2-2210-46d5-996e-fd86d00c2462",
   "metadata": {},
   "outputs": [
    {
     "data": {
      "text/plain": [
       "29059.0"
      ]
     },
     "execution_count": 26,
     "metadata": {},
     "output_type": "execute_result"
    }
   ],
   "source": [
    "desmatamento.max()"
   ]
  },
  {
   "cell_type": "markdown",
   "id": "25d58c71-423a-4955-b1ae-54edaf7023d8",
   "metadata": {},
   "source": [
    "E podemos achar o mínimo e o ano no qual ele ocorreu:"
   ]
  },
  {
   "cell_type": "code",
   "execution_count": 27,
   "id": "ad816623-338a-433f-8573-1fe2a0a3743d",
   "metadata": {},
   "outputs": [
    {
     "data": {
      "text/plain": [
       "ano\n",
       "2012    4571.0\n",
       "Name: area_km2, dtype: float64"
      ]
     },
     "execution_count": 27,
     "metadata": {},
     "output_type": "execute_result"
    }
   ],
   "source": [
    "desmatamento.loc[desmatamento == desmatamento.min()]"
   ]
  },
  {
   "cell_type": "markdown",
   "id": "317b8964-5f2f-4f4f-ae63-2fedbb7de63b",
   "metadata": {},
   "source": [
    "#### Series: gráficos"
   ]
  },
  {
   "cell_type": "code",
   "execution_count": 28,
   "id": "b3a54627-3f85-43b9-ae22-9ae4c129de6d",
   "metadata": {},
   "outputs": [],
   "source": [
    "# Para poder formatar melhor os gráficos:\n",
    "import matplotlib.pyplot as pl"
   ]
  },
  {
   "cell_type": "markdown",
   "id": "71289283-d4ed-470b-8009-2a59366d250a",
   "metadata": {},
   "source": [
    "Fazer gráficos com os dados de uma Series é fácil:"
   ]
  },
  {
   "cell_type": "code",
   "execution_count": 29,
   "id": "c0779cc5-8378-46e0-92ac-084922fe0c3b",
   "metadata": {},
   "outputs": [
    {
     "data": {
      "image/png": "[encoded data removed]",
      "text/plain": [
       "<Figure size 640x480 with 1 Axes>"
      ]
     },
     "metadata": {},
     "output_type": "display_data"
    }
   ],
   "source": [
    "# Criando um gráfico a partir de uma Série. O eixo X contém os índices e o eixo Y contém os valores da Series:\n",
    "desmatamento.plot();"
   ]
  },
  {
   "cell_type": "markdown",
   "id": "1b45ad26-08e0-48e6-b3ad-496f103a38cc",
   "metadata": {},
   "source": [
    "Os gráficos podem ser formatados e anotados para melhorar o entendimento das pessoas:"
   ]
  },
  {
   "cell_type": "code",
   "execution_count": 30,
   "id": "6120d359-ec2a-4123-9eb6-400d0fa5e5ab",
   "metadata": {},
   "outputs": [
    {
     "data": {
      "image/png": "[encoded data removed]",
      "text/plain": [
       "<Figure size 1000x400 with 1 Axes>"
      ]
     },
     "metadata": {},
     "output_type": "display_data"
    }
   ],
   "source": [
    "# Criando uma figura com o pyplot, para poder definir seu tamanho:\n",
    "pl.figure(figsize=(10,4))\n",
    "\n",
    "# Criando um gráfico de barra, com algumas formatações:\n",
    "desmatamento.plot(kind='bar', width=0.8, color='darkseagreen', zorder=10);\n",
    "\n",
    "# MAIS FORMATAÇÃO:\n",
    "\n",
    "# Rótulo do eixo Y:\n",
    "pl.ylabel('Desmatamento anual [$\\mathrm{km^2}$]')\n",
    "\n",
    "# Faixa cinza marcando período importante:\n",
    "pl.axvspan(2003.5 - 1988, 2018.5 - 1988, color='0.8', alpha=0.3, zorder=5)\n",
    "\n",
    "# Texto explicando a faixa cinza:\n",
    "pl.text(2011 - 1988, 25000, 'Funcionamento do PPCDAm', ha='center', color='0.3')\n",
    "\n",
    "# Linha vertical vermelha marcando momento importante:\n",
    "pl.axvline(2018.5 - 1988, color='firebrick')\n",
    "pl.text(2018.6 - 1988, 11000, 'Revogação do PPCDAm', color='firebrick', rotation=90, fontsize=10)\n",
    "# Linha vertical vermelha marcando momento importante:\n",
    "pl.axvline(2022.5 - 1988, color='firebrick')\n",
    "pl.text(2022.6 - 1988, 11000, 'Reativação do PPCDAm', color='firebrick', rotation=90, fontsize=10)\n",
    "\n",
    "pl.show()"
   ]
  },
  {
   "cell_type": "markdown",
   "id": "f68c092c-6519-4e97-b034-4b3f64b2ecab",
   "metadata": {},
   "source": [
    "#### Series: alterando elementos"
   ]
  },
  {
   "cell_type": "markdown",
   "id": "964ea92f-0446-4300-931a-65c4762c46ed",
   "metadata": {},
   "source": [
    "Para alterar os valores de uma Series, basta selecionar os elementos que se deseja mudar e definir o novo valor. Por exemplo, vamos atualizar os óbitos de 2023 com dados mais recentes (de 18/12):"
   ]
  },
  {
   "cell_type": "code",
   "execution_count": 31,
   "id": "21dd8b48-9c8f-4ea4-b118-02c96b339b8c",
   "metadata": {},
   "outputs": [
    {
     "data": {
      "text/plain": [
       "Ano de 2020    194950\n",
       "Ano de 2021    424110\n",
       "Ano de 2022     74800\n",
       "Ano de 2023     14380\n",
       "Name: obitos_por_covid, dtype: int32"
      ]
     },
     "execution_count": 31,
     "metadata": {},
     "output_type": "execute_result"
    }
   ],
   "source": [
    "covid_series.loc['Ano de 2023'] = 14380\n",
    "covid_series"
   ]
  },
  {
   "cell_type": "markdown",
   "id": "a01d37b5-465f-41d6-853e-c2f48a01fea6",
   "metadata": {},
   "source": [
    "Também é possível alterar vários elementos de uma vez. Para isso, você precisa selecionar esses elementos e atribuir um valor comum OU uma Series ou lista com o mesmo número de elementos."
   ]
  },
  {
   "cell_type": "code",
   "execution_count": 32,
   "id": "fc8b9e6c-1d5e-42f4-b3dc-f42823ab7993",
   "metadata": {},
   "outputs": [],
   "source": [
    "# Vamos guardar uma cópia dos valores reais:\n",
    "backup_covid = covid_series.copy()"
   ]
  },
  {
   "cell_type": "code",
   "execution_count": 33,
   "id": "a08d3bae-a0ba-4034-bdcb-9f360580c75f",
   "metadata": {},
   "outputs": [
    {
     "data": {
      "text/plain": [
       "Ano de 2020     10493\n",
       "Ano de 2021    424110\n",
       "Ano de 2022     20100\n",
       "Ano de 2023     14380\n",
       "Name: obitos_por_covid, dtype: int64"
      ]
     },
     "execution_count": 33,
     "metadata": {},
     "output_type": "execute_result"
    }
   ],
   "source": [
    "# Vamos alterar os valores dos anos de 2020 e 2022:\n",
    "covid_series.loc[[True, False, True, False]] = [10493, 20100]\n",
    "covid_series"
   ]
  },
  {
   "cell_type": "code",
   "execution_count": 34,
   "id": "b90fbfb1-6570-441f-9947-1b625a068088",
   "metadata": {},
   "outputs": [
    {
     "data": {
      "text/plain": [
       "Ano de 2020    194950\n",
       "Ano de 2021    424110\n",
       "Ano de 2022     74800\n",
       "Ano de 2023     14380\n",
       "Name: obitos_por_covid, dtype: int64"
      ]
     },
     "execution_count": 34,
     "metadata": {},
     "output_type": "execute_result"
    }
   ],
   "source": [
    "# Vamos corrigir de volta os dados:\n",
    "covid_series.loc[['Ano de 2020', 'Ano de 2022']] = backup_covid.iloc[[0, 2]]\n",
    "covid_series"
   ]
  },
  {
   "cell_type": "markdown",
   "id": "baf5f453-036f-4bcb-994d-270a409c539c",
   "metadata": {},
   "source": [
    "## Dataframes"
   ]
  },
  {
   "cell_type": "markdown",
   "id": "f90eb49e-22f9-4311-8136-b87f7ecafd24",
   "metadata": {},
   "source": [
    "Um DataFrame é uma tabela de dados. Da mesma forma que uma tabela, um DataFrame tem linhas e colunas."
   ]
  },
  {
   "cell_type": "markdown",
   "id": "61a6c6ab-3b8b-47f9-b9ec-b3f66d882e71",
   "metadata": {},
   "source": [
    "### Criando DataFrames"
   ]
  },
  {
   "cell_type": "markdown",
   "id": "a49ec061-a5e3-43fe-bd72-70b4f4414f21",
   "metadata": {},
   "source": [
    "Além de carregar DataFrames a partir de arquivos externos (o que em geral vamos fazer), podemos criar DataFrames de várias outras formas. Vamos mostrar algumas delas abaixo:"
   ]
  },
  {
   "cell_type": "code",
   "execution_count": 35,
   "id": "ae603923-5d47-4202-ad77-332b538198fb",
   "metadata": {},
   "outputs": [
    {
     "data": {
      "text/html": [
       "<div>\n",
       "<style scoped>\n",
       "    .dataframe tbody tr th:only-of-type {\n",
       "        vertical-align: middle;\n",
       "    }\n",
       "\n",
       "    .dataframe tbody tr th {\n",
       "        vertical-align: top;\n",
       "    }\n",
       "\n",
       "    .dataframe thead th {\n",
       "        text-align: right;\n",
       "    }\n",
       "</style>\n",
       "<table border=\"1\" class=\"dataframe\">\n",
       "  <thead>\n",
       "    <tr style=\"text-align: right;\">\n",
       "      <th></th>\n",
       "      <th>0</th>\n",
       "      <th>1</th>\n",
       "      <th>2</th>\n",
       "    </tr>\n",
       "  </thead>\n",
       "  <tbody>\n",
       "    <tr>\n",
       "      <th>0</th>\n",
       "      <td>a</td>\n",
       "      <td>1</td>\n",
       "      <td>10</td>\n",
       "    </tr>\n",
       "    <tr>\n",
       "      <th>1</th>\n",
       "      <td>b</td>\n",
       "      <td>2</td>\n",
       "      <td>20</td>\n",
       "    </tr>\n",
       "    <tr>\n",
       "      <th>2</th>\n",
       "      <td>c</td>\n",
       "      <td>3</td>\n",
       "      <td>30</td>\n",
       "    </tr>\n",
       "    <tr>\n",
       "      <th>3</th>\n",
       "      <td>d</td>\n",
       "      <td>4</td>\n",
       "      <td>40</td>\n",
       "    </tr>\n",
       "  </tbody>\n",
       "</table>\n",
       "</div>"
      ],
      "text/plain": [
       "   0  1   2\n",
       "0  a  1  10\n",
       "1  b  2  20\n",
       "2  c  3  30\n",
       "3  d  4  40"
      ]
     },
     "execution_count": 35,
     "metadata": {},
     "output_type": "execute_result"
    }
   ],
   "source": [
    "# Criando um DataFrame a partir dos dados (na forma de uma matriz, ou lista de listas):\n",
    "dados = [['a', 1, 10], ['b', 2, 20], ['c', 3, 30], ['d', 4, 40]]\n",
    "exemplo1_df = pd.DataFrame(data=dados)\n",
    "exemplo1_df"
   ]
  },
  {
   "cell_type": "markdown",
   "id": "65bb0612-397d-4516-82e0-5d57592bd8aa",
   "metadata": {},
   "source": [
    "No exemplo acima, os dados precisam ter uma estrutura de tabela. Isto é, todas as linhas precisam ter o mesmo número de elementos. \n",
    "No caso acima, usamos uma lista de listas, e cada lista interna vai virar uma linha do DataFrame. Portanto, as listas internas precisam ter todas o mesmo tamanho. "
   ]
  },
  {
   "cell_type": "code",
   "execution_count": 36,
   "id": "442c88fc-9f36-45b9-84dd-ed159e73bfc5",
   "metadata": {},
   "outputs": [
    {
     "data": {
      "text/html": [
       "<div>\n",
       "<style scoped>\n",
       "    .dataframe tbody tr th:only-of-type {\n",
       "        vertical-align: middle;\n",
       "    }\n",
       "\n",
       "    .dataframe tbody tr th {\n",
       "        vertical-align: top;\n",
       "    }\n",
       "\n",
       "    .dataframe thead th {\n",
       "        text-align: right;\n",
       "    }\n",
       "</style>\n",
       "<table border=\"1\" class=\"dataframe\">\n",
       "  <thead>\n",
       "    <tr style=\"text-align: right;\">\n",
       "      <th></th>\n",
       "      <th>letra</th>\n",
       "      <th>unidade</th>\n",
       "      <th>dezena</th>\n",
       "    </tr>\n",
       "  </thead>\n",
       "  <tbody>\n",
       "    <tr>\n",
       "      <th>1</th>\n",
       "      <td>a</td>\n",
       "      <td>1</td>\n",
       "      <td>10</td>\n",
       "    </tr>\n",
       "    <tr>\n",
       "      <th>2</th>\n",
       "      <td>b</td>\n",
       "      <td>2</td>\n",
       "      <td>20</td>\n",
       "    </tr>\n",
       "    <tr>\n",
       "      <th>3</th>\n",
       "      <td>c</td>\n",
       "      <td>3</td>\n",
       "      <td>30</td>\n",
       "    </tr>\n",
       "    <tr>\n",
       "      <th>4</th>\n",
       "      <td>d</td>\n",
       "      <td>4</td>\n",
       "      <td>40</td>\n",
       "    </tr>\n",
       "  </tbody>\n",
       "</table>\n",
       "</div>"
      ],
      "text/plain": [
       "  letra  unidade  dezena\n",
       "1     a        1      10\n",
       "2     b        2      20\n",
       "3     c        3      30\n",
       "4     d        4      40"
      ]
     },
     "execution_count": 36,
     "metadata": {},
     "output_type": "execute_result"
    }
   ],
   "source": [
    "# Também podemos especificar o nome das colunas e das linhas:\n",
    "exemplo1_df = pd.DataFrame(data=dados, columns=['letra', 'unidade', 'dezena'], index=[1,2,3,4])\n",
    "exemplo1_df"
   ]
  },
  {
   "cell_type": "markdown",
   "id": "b6d296eb-1663-490f-b2bc-90c31e6f373a",
   "metadata": {},
   "source": [
    "Outra forma de criar um DataFrame é a partir de um dicionário (`dict`). Nesse caso, cada elemento do dicionário vai virar uma coluna do DataFrame. \n",
    "Todas as colunas precisam ter o mesmo número de elementos:"
   ]
  },
  {
   "cell_type": "code",
   "execution_count": 37,
   "id": "13f6c62a-6379-44fd-990c-a87b5e2c26c1",
   "metadata": {},
   "outputs": [
    {
     "data": {
      "text/html": [
       "<div>\n",
       "<style scoped>\n",
       "    .dataframe tbody tr th:only-of-type {\n",
       "        vertical-align: middle;\n",
       "    }\n",
       "\n",
       "    .dataframe tbody tr th {\n",
       "        vertical-align: top;\n",
       "    }\n",
       "\n",
       "    .dataframe thead th {\n",
       "        text-align: right;\n",
       "    }\n",
       "</style>\n",
       "<table border=\"1\" class=\"dataframe\">\n",
       "  <thead>\n",
       "    <tr style=\"text-align: right;\">\n",
       "      <th></th>\n",
       "      <th>letra</th>\n",
       "      <th>unidade</th>\n",
       "      <th>dezena</th>\n",
       "    </tr>\n",
       "  </thead>\n",
       "  <tbody>\n",
       "    <tr>\n",
       "      <th>0</th>\n",
       "      <td>a</td>\n",
       "      <td>1</td>\n",
       "      <td>10</td>\n",
       "    </tr>\n",
       "    <tr>\n",
       "      <th>1</th>\n",
       "      <td>b</td>\n",
       "      <td>2</td>\n",
       "      <td>20</td>\n",
       "    </tr>\n",
       "    <tr>\n",
       "      <th>2</th>\n",
       "      <td>c</td>\n",
       "      <td>3</td>\n",
       "      <td>30</td>\n",
       "    </tr>\n",
       "    <tr>\n",
       "      <th>3</th>\n",
       "      <td>d</td>\n",
       "      <td>4</td>\n",
       "      <td>40</td>\n",
       "    </tr>\n",
       "  </tbody>\n",
       "</table>\n",
       "</div>"
      ],
      "text/plain": [
       "  letra  unidade  dezena\n",
       "0     a        1      10\n",
       "1     b        2      20\n",
       "2     c        3      30\n",
       "3     d        4      40"
      ]
     },
     "execution_count": 37,
     "metadata": {},
     "output_type": "execute_result"
    }
   ],
   "source": [
    "# Criando um DataFrame a partir de um dicionário:\n",
    "dicionario = {'letra': ['a', 'b', 'c', 'd'], 'unidade':[1, 2, 3, 4], 'dezena': [10, 20, 30, 40]}\n",
    "exemplo2_df = pd.DataFrame(dicionario)\n",
    "exemplo2_df"
   ]
  },
  {
   "cell_type": "markdown",
   "id": "27401466-40ea-4f8d-b642-d1c52d575896",
   "metadata": {},
   "source": [
    "Quando utilizamos um dicionário para criar um DataFrame, as chaves (_keys_) do dicionário viram o nome das colunas."
   ]
  },
  {
   "cell_type": "markdown",
   "id": "e27f2006-6f7a-40b1-818d-d3426ef811b9",
   "metadata": {},
   "source": [
    "### Estrutura de um DataFrame"
   ]
  },
  {
   "cell_type": "markdown",
   "id": "490399af-e4a1-49c7-9b75-e58d5ea67bd4",
   "metadata": {},
   "source": [
    "Um DataFrame é composto por linhas e colunas. As linhas são identificadas pelos índices, e as colunas são identificadas pelos seus respectivos nomes. Podemos ver quais são os índices e os nomes das colunas assim:"
   ]
  },
  {
   "cell_type": "code",
   "execution_count": 38,
   "id": "d61e854b-9d53-48bc-b733-152d82b1573d",
   "metadata": {},
   "outputs": [
    {
     "data": {
      "text/plain": [
       "Int64Index([1, 2, 3, 4], dtype='int64')"
      ]
     },
     "execution_count": 38,
     "metadata": {},
     "output_type": "execute_result"
    }
   ],
   "source": [
    "# Pegando o índice de um DataFrame:\n",
    "exemplo1_df.index"
   ]
  },
  {
   "cell_type": "code",
   "execution_count": 39,
   "id": "f34b4c34-9bcc-4e5a-9a78-196cc6f50e3b",
   "metadata": {},
   "outputs": [
    {
     "data": {
      "text/plain": [
       "Index(['letra', 'unidade', 'dezena'], dtype='object')"
      ]
     },
     "execution_count": 39,
     "metadata": {},
     "output_type": "execute_result"
    }
   ],
   "source": [
    "# Pegando o nome das colunas:\n",
    "exemplo1_df.columns"
   ]
  },
  {
   "cell_type": "markdown",
   "id": "1225d0ce-476a-48a9-b11b-405521c7b906",
   "metadata": {},
   "source": [
    "Você pode pensar um DataFrame como uma coleção de Series, onde cada coluna é uma Series:"
   ]
  },
  {
   "cell_type": "code",
   "execution_count": 40,
   "id": "fb5167b5-7ab4-410c-97c2-d5f857ddbb95",
   "metadata": {},
   "outputs": [
    {
     "data": {
      "text/plain": [
       "1    10\n",
       "2    20\n",
       "3    30\n",
       "4    40\n",
       "Name: dezena, dtype: int64"
      ]
     },
     "execution_count": 40,
     "metadata": {},
     "output_type": "execute_result"
    }
   ],
   "source": [
    "# Selecionando uma coluna. Ela aparece como uma Series:\n",
    "exemplo1_df['dezena']"
   ]
  },
  {
   "cell_type": "markdown",
   "id": "65699107-8c59-4ba2-95b1-3314fedd48dc",
   "metadata": {},
   "source": [
    "Você pode verificar várias propriedades do DataFrame:"
   ]
  },
  {
   "cell_type": "code",
   "execution_count": 41,
   "id": "29273f2e-5d06-4e00-bbac-1eb06ce2e838",
   "metadata": {},
   "outputs": [
    {
     "data": {
      "text/plain": [
       "(4, 3)"
      ]
     },
     "execution_count": 41,
     "metadata": {},
     "output_type": "execute_result"
    }
   ],
   "source": [
    "# Como ver quantas linhas e colunas um DataFrame tem:\n",
    "exemplo1_df.shape"
   ]
  },
  {
   "cell_type": "code",
   "execution_count": 42,
   "id": "79516e3b-526b-4ca8-8b38-7e42961b8fbc",
   "metadata": {},
   "outputs": [
    {
     "data": {
      "text/plain": [
       "4"
      ]
     },
     "execution_count": 42,
     "metadata": {},
     "output_type": "execute_result"
    }
   ],
   "source": [
    "# O número de linhas também pode ser verificado com `len()`:\n",
    "len(exemplo1_df)"
   ]
  },
  {
   "cell_type": "code",
   "execution_count": 43,
   "id": "40ba2ff4-ec32-4409-8aff-3215ed681489",
   "metadata": {},
   "outputs": [
    {
     "data": {
      "text/plain": [
       "letra      object\n",
       "unidade     int64\n",
       "dezena      int64\n",
       "dtype: object"
      ]
     },
     "execution_count": 43,
     "metadata": {},
     "output_type": "execute_result"
    }
   ],
   "source": [
    "# Verificando os tipos de variáveis em cada coluna:\n",
    "exemplo1_df.dtypes\n",
    "# (o tipo 'object pode ser qualquer coisa, e aparece quando o conteúdo da coluna são strings')"
   ]
  },
  {
   "cell_type": "markdown",
   "id": "128bba45-e511-4963-9db1-234fb26d3535",
   "metadata": {},
   "source": [
    "### Selecionando elementos de um DataFrame"
   ]
  },
  {
   "cell_type": "markdown",
   "id": "380bfceb-6a52-43c6-ae76-338e2f12296c",
   "metadata": {},
   "source": [
    "Para exemplificar o uso de DataFrames, vamos utilizar dados do Instituto de Pesquisa Econômica Aplicada (IPEA) sobre \n",
    "[remuneração líquida média mensal dos servidores no Poder Executivo civil federal ativo, por sexo e raça (1999-2020)](https://www.ipea.gov.br/atlasestado/consulta/145).\n",
    "\n",
    "Em termos mais simples, esses dados mostram qual era o salário médio dos servidores públicos federais, ligados ao poder executivo, de 1999 a 2020, segmentados em 4 grupos sociais: mulheres negras, homens negros, mulheres brancas e homens brancos. É importante lembrar que, entre servidores públicos do poder executivo federal, existem muitos cargos diferentes (por exemplo, professor, motorista, técnico em informática, ministro, policial federal, fiscal da receita, presidente da república), e essas são as remunerações médias de cada segmento. Além disso: a remuneração é líquida (i.e. foram descontados impostos e contribuições); não inclui militares, pois estes não constam na base do Sistema Integrado de Administração de Recursos Humanos (SIAPE), utilizada no levantamento; e não inclui aposentados. Os valores apresentados são valores reais, isto é, corrigidos pelo índice de inflação IPCA para preços de fevereiro de 2020. Portanto, os valores representam o poder de compra médio de cada segmento. "
   ]
  },
  {
   "cell_type": "code",
   "execution_count": 44,
   "id": "c7eddaad-4da3-471f-9fcf-531470775ff3",
   "metadata": {},
   "outputs": [
    {
     "data": {
      "text/html": [
       "<div>\n",
       "<style scoped>\n",
       "    .dataframe tbody tr th:only-of-type {\n",
       "        vertical-align: middle;\n",
       "    }\n",
       "\n",
       "    .dataframe tbody tr th {\n",
       "        vertical-align: top;\n",
       "    }\n",
       "\n",
       "    .dataframe thead th {\n",
       "        text-align: right;\n",
       "    }\n",
       "</style>\n",
       "<table border=\"1\" class=\"dataframe\">\n",
       "  <thead>\n",
       "    <tr style=\"text-align: right;\">\n",
       "      <th></th>\n",
       "      <th>ano</th>\n",
       "      <th>sexo</th>\n",
       "      <th>raça</th>\n",
       "      <th>liquido</th>\n",
       "    </tr>\n",
       "  </thead>\n",
       "  <tbody>\n",
       "    <tr>\n",
       "      <th>0</th>\n",
       "      <td>1999</td>\n",
       "      <td>Homem</td>\n",
       "      <td>Branca</td>\n",
       "      <td>6527.2</td>\n",
       "    </tr>\n",
       "    <tr>\n",
       "      <th>1</th>\n",
       "      <td>1999</td>\n",
       "      <td>Homem</td>\n",
       "      <td>Negra</td>\n",
       "      <td>4768.7</td>\n",
       "    </tr>\n",
       "    <tr>\n",
       "      <th>2</th>\n",
       "      <td>1999</td>\n",
       "      <td>Mulher</td>\n",
       "      <td>Branca</td>\n",
       "      <td>5261.6</td>\n",
       "    </tr>\n",
       "    <tr>\n",
       "      <th>3</th>\n",
       "      <td>1999</td>\n",
       "      <td>Mulher</td>\n",
       "      <td>Negra</td>\n",
       "      <td>4010.0</td>\n",
       "    </tr>\n",
       "    <tr>\n",
       "      <th>4</th>\n",
       "      <td>2000</td>\n",
       "      <td>Homem</td>\n",
       "      <td>Branca</td>\n",
       "      <td>5690.3</td>\n",
       "    </tr>\n",
       "    <tr>\n",
       "      <th>...</th>\n",
       "      <td>...</td>\n",
       "      <td>...</td>\n",
       "      <td>...</td>\n",
       "      <td>...</td>\n",
       "    </tr>\n",
       "    <tr>\n",
       "      <th>83</th>\n",
       "      <td>2019</td>\n",
       "      <td>Mulher</td>\n",
       "      <td>Negra</td>\n",
       "      <td>5996.2</td>\n",
       "    </tr>\n",
       "    <tr>\n",
       "      <th>84</th>\n",
       "      <td>2020</td>\n",
       "      <td>Homem</td>\n",
       "      <td>Branca</td>\n",
       "      <td>8774.2</td>\n",
       "    </tr>\n",
       "    <tr>\n",
       "      <th>85</th>\n",
       "      <td>2020</td>\n",
       "      <td>Homem</td>\n",
       "      <td>Negra</td>\n",
       "      <td>6272.2</td>\n",
       "    </tr>\n",
       "    <tr>\n",
       "      <th>86</th>\n",
       "      <td>2020</td>\n",
       "      <td>Mulher</td>\n",
       "      <td>Branca</td>\n",
       "      <td>7753.8</td>\n",
       "    </tr>\n",
       "    <tr>\n",
       "      <th>87</th>\n",
       "      <td>2020</td>\n",
       "      <td>Mulher</td>\n",
       "      <td>Negra</td>\n",
       "      <td>5815.5</td>\n",
       "    </tr>\n",
       "  </tbody>\n",
       "</table>\n",
       "<p>88 rows × 4 columns</p>\n",
       "</div>"
      ],
      "text/plain": [
       "     ano    sexo    raça  liquido\n",
       "0   1999   Homem  Branca   6527.2\n",
       "1   1999   Homem   Negra   4768.7\n",
       "2   1999  Mulher  Branca   5261.6\n",
       "3   1999  Mulher   Negra   4010.0\n",
       "4   2000   Homem  Branca   5690.3\n",
       "..   ...     ...     ...      ...\n",
       "83  2019  Mulher   Negra   5996.2\n",
       "84  2020   Homem  Branca   8774.2\n",
       "85  2020   Homem   Negra   6272.2\n",
       "86  2020  Mulher  Branca   7753.8\n",
       "87  2020  Mulher   Negra   5815.5\n",
       "\n",
       "[88 rows x 4 columns]"
      ]
     },
     "execution_count": 44,
     "metadata": {},
     "output_type": "execute_result"
    }
   ],
   "source": [
    "# Carrega dados de um arquivo CSV:\n",
    "salario_df = pd.read_csv('../90_dados/servidores_federais/servidores-executivo-federal_remuneracao-liquida_1999-2020.csv')\n",
    "\n",
    "# Visualizando o DataFrame. Se ele tiver muitas linhas, são mostradas apenas as primeiras e as últimas:\n",
    "salario_df"
   ]
  },
  {
   "cell_type": "markdown",
   "id": "1aae4fa1-dbb6-47e0-9ae9-1342444e8566",
   "metadata": {},
   "source": [
    "Como já vimos, as colunas de um DataFrame podem ser selecionadas da mesma forma que você faria com um dicionário:"
   ]
  },
  {
   "cell_type": "code",
   "execution_count": 45,
   "id": "b79394fb-84b4-4ccd-b850-11b5af89872e",
   "metadata": {},
   "outputs": [
    {
     "data": {
      "text/plain": [
       "0      Homem\n",
       "1      Homem\n",
       "2     Mulher\n",
       "3     Mulher\n",
       "4      Homem\n",
       "       ...  \n",
       "83    Mulher\n",
       "84     Homem\n",
       "85     Homem\n",
       "86    Mulher\n",
       "87    Mulher\n",
       "Name: sexo, Length: 88, dtype: object"
      ]
     },
     "execution_count": 45,
     "metadata": {},
     "output_type": "execute_result"
    }
   ],
   "source": [
    "# O resultado é uma Series:\n",
    "salario_df['sexo']"
   ]
  },
  {
   "cell_type": "markdown",
   "id": "bfb3e74a-f4d2-4bb3-aa20-e22623d0a4dd",
   "metadata": {},
   "source": [
    "Também podemos selecionar mais de uma coluna passando uma lista de nomes. Nesse, resultado é um novo DataFrame:"
   ]
  },
  {
   "cell_type": "code",
   "execution_count": 46,
   "id": "0f46bad1-994e-4799-950a-8504945e35b7",
   "metadata": {},
   "outputs": [
    {
     "data": {
      "text/html": [
       "<div>\n",
       "<style scoped>\n",
       "    .dataframe tbody tr th:only-of-type {\n",
       "        vertical-align: middle;\n",
       "    }\n",
       "\n",
       "    .dataframe tbody tr th {\n",
       "        vertical-align: top;\n",
       "    }\n",
       "\n",
       "    .dataframe thead th {\n",
       "        text-align: right;\n",
       "    }\n",
       "</style>\n",
       "<table border=\"1\" class=\"dataframe\">\n",
       "  <thead>\n",
       "    <tr style=\"text-align: right;\">\n",
       "      <th></th>\n",
       "      <th>ano</th>\n",
       "      <th>raça</th>\n",
       "    </tr>\n",
       "  </thead>\n",
       "  <tbody>\n",
       "    <tr>\n",
       "      <th>0</th>\n",
       "      <td>1999</td>\n",
       "      <td>Branca</td>\n",
       "    </tr>\n",
       "    <tr>\n",
       "      <th>1</th>\n",
       "      <td>1999</td>\n",
       "      <td>Negra</td>\n",
       "    </tr>\n",
       "    <tr>\n",
       "      <th>2</th>\n",
       "      <td>1999</td>\n",
       "      <td>Branca</td>\n",
       "    </tr>\n",
       "    <tr>\n",
       "      <th>3</th>\n",
       "      <td>1999</td>\n",
       "      <td>Negra</td>\n",
       "    </tr>\n",
       "    <tr>\n",
       "      <th>4</th>\n",
       "      <td>2000</td>\n",
       "      <td>Branca</td>\n",
       "    </tr>\n",
       "    <tr>\n",
       "      <th>...</th>\n",
       "      <td>...</td>\n",
       "      <td>...</td>\n",
       "    </tr>\n",
       "    <tr>\n",
       "      <th>83</th>\n",
       "      <td>2019</td>\n",
       "      <td>Negra</td>\n",
       "    </tr>\n",
       "    <tr>\n",
       "      <th>84</th>\n",
       "      <td>2020</td>\n",
       "      <td>Branca</td>\n",
       "    </tr>\n",
       "    <tr>\n",
       "      <th>85</th>\n",
       "      <td>2020</td>\n",
       "      <td>Negra</td>\n",
       "    </tr>\n",
       "    <tr>\n",
       "      <th>86</th>\n",
       "      <td>2020</td>\n",
       "      <td>Branca</td>\n",
       "    </tr>\n",
       "    <tr>\n",
       "      <th>87</th>\n",
       "      <td>2020</td>\n",
       "      <td>Negra</td>\n",
       "    </tr>\n",
       "  </tbody>\n",
       "</table>\n",
       "<p>88 rows × 2 columns</p>\n",
       "</div>"
      ],
      "text/plain": [
       "     ano    raça\n",
       "0   1999  Branca\n",
       "1   1999   Negra\n",
       "2   1999  Branca\n",
       "3   1999   Negra\n",
       "4   2000  Branca\n",
       "..   ...     ...\n",
       "83  2019   Negra\n",
       "84  2020  Branca\n",
       "85  2020   Negra\n",
       "86  2020  Branca\n",
       "87  2020   Negra\n",
       "\n",
       "[88 rows x 2 columns]"
      ]
     },
     "execution_count": 46,
     "metadata": {},
     "output_type": "execute_result"
    }
   ],
   "source": [
    "# Selecionando várias colunas ao mesmo tempo retorna um novo DataFrame:\n",
    "salario_df[['ano', 'raça']]"
   ]
  },
  {
   "cell_type": "markdown",
   "id": "b134c590-3b4a-4ece-a19b-c8cce82c458e",
   "metadata": {},
   "source": [
    "Os métodos que conhecemos para selecionar elementos de uma Series também podem ser utilizados em um DataFrame. Nesse caso, podemos passar dois argumentos dentro do `[]`. O primeiro é para selecionar as linhas. O segundo seleciona as colunas."
   ]
  },
  {
   "cell_type": "code",
   "execution_count": 47,
   "id": "ab7af9b8-38b0-415e-b570-2855a0489937",
   "metadata": {},
   "outputs": [
    {
     "data": {
      "text/html": [
       "<div>\n",
       "<style scoped>\n",
       "    .dataframe tbody tr th:only-of-type {\n",
       "        vertical-align: middle;\n",
       "    }\n",
       "\n",
       "    .dataframe tbody tr th {\n",
       "        vertical-align: top;\n",
       "    }\n",
       "\n",
       "    .dataframe thead th {\n",
       "        text-align: right;\n",
       "    }\n",
       "</style>\n",
       "<table border=\"1\" class=\"dataframe\">\n",
       "  <thead>\n",
       "    <tr style=\"text-align: right;\">\n",
       "      <th></th>\n",
       "      <th>ano</th>\n",
       "      <th>sexo</th>\n",
       "      <th>raça</th>\n",
       "      <th>liquido</th>\n",
       "    </tr>\n",
       "  </thead>\n",
       "  <tbody>\n",
       "    <tr>\n",
       "      <th>30</th>\n",
       "      <td>2006</td>\n",
       "      <td>Mulher</td>\n",
       "      <td>Branca</td>\n",
       "      <td>5269.9</td>\n",
       "    </tr>\n",
       "    <tr>\n",
       "      <th>31</th>\n",
       "      <td>2006</td>\n",
       "      <td>Mulher</td>\n",
       "      <td>Negra</td>\n",
       "      <td>3958.6</td>\n",
       "    </tr>\n",
       "    <tr>\n",
       "      <th>32</th>\n",
       "      <td>2007</td>\n",
       "      <td>Homem</td>\n",
       "      <td>Branca</td>\n",
       "      <td>7049.0</td>\n",
       "    </tr>\n",
       "    <tr>\n",
       "      <th>33</th>\n",
       "      <td>2007</td>\n",
       "      <td>Homem</td>\n",
       "      <td>Negra</td>\n",
       "      <td>4815.0</td>\n",
       "    </tr>\n",
       "    <tr>\n",
       "      <th>34</th>\n",
       "      <td>2007</td>\n",
       "      <td>Mulher</td>\n",
       "      <td>Branca</td>\n",
       "      <td>5822.3</td>\n",
       "    </tr>\n",
       "  </tbody>\n",
       "</table>\n",
       "</div>"
      ],
      "text/plain": [
       "     ano    sexo    raça  liquido\n",
       "30  2006  Mulher  Branca   5269.9\n",
       "31  2006  Mulher   Negra   3958.6\n",
       "32  2007   Homem  Branca   7049.0\n",
       "33  2007   Homem   Negra   4815.0\n",
       "34  2007  Mulher  Branca   5822.3"
      ]
     },
     "execution_count": 47,
     "metadata": {},
     "output_type": "execute_result"
    }
   ],
   "source": [
    "# Selecionando as linhas nas posições de 30 a 34 (lembrando que elas começam em zero):\n",
    "salario_df.iloc[30:35]"
   ]
  },
  {
   "cell_type": "markdown",
   "id": "04120142-45b8-4b43-9307-04b02c4d83d3",
   "metadata": {},
   "source": [
    "Vamos selecionar as linhas que se referem a mulheres E a pessoas negras. Também vamos selecionar apenas as colunas `ano` e `liquido` (que contém a remuneração líquida média):"
   ]
  },
  {
   "cell_type": "code",
   "execution_count": 48,
   "id": "db367d8d-6d3a-4df3-b5af-3c0794b2642a",
   "metadata": {},
   "outputs": [
    {
     "data": {
      "text/html": [
       "<div>\n",
       "<style scoped>\n",
       "    .dataframe tbody tr th:only-of-type {\n",
       "        vertical-align: middle;\n",
       "    }\n",
       "\n",
       "    .dataframe tbody tr th {\n",
       "        vertical-align: top;\n",
       "    }\n",
       "\n",
       "    .dataframe thead th {\n",
       "        text-align: right;\n",
       "    }\n",
       "</style>\n",
       "<table border=\"1\" class=\"dataframe\">\n",
       "  <thead>\n",
       "    <tr style=\"text-align: right;\">\n",
       "      <th></th>\n",
       "      <th>ano</th>\n",
       "      <th>liquido</th>\n",
       "    </tr>\n",
       "  </thead>\n",
       "  <tbody>\n",
       "    <tr>\n",
       "      <th>3</th>\n",
       "      <td>1999</td>\n",
       "      <td>4010.0</td>\n",
       "    </tr>\n",
       "    <tr>\n",
       "      <th>7</th>\n",
       "      <td>2000</td>\n",
       "      <td>3782.5</td>\n",
       "    </tr>\n",
       "    <tr>\n",
       "      <th>11</th>\n",
       "      <td>2001</td>\n",
       "      <td>3734.5</td>\n",
       "    </tr>\n",
       "    <tr>\n",
       "      <th>15</th>\n",
       "      <td>2002</td>\n",
       "      <td>4069.7</td>\n",
       "    </tr>\n",
       "    <tr>\n",
       "      <th>19</th>\n",
       "      <td>2003</td>\n",
       "      <td>3856.7</td>\n",
       "    </tr>\n",
       "    <tr>\n",
       "      <th>23</th>\n",
       "      <td>2004</td>\n",
       "      <td>3862.0</td>\n",
       "    </tr>\n",
       "    <tr>\n",
       "      <th>27</th>\n",
       "      <td>2005</td>\n",
       "      <td>4036.4</td>\n",
       "    </tr>\n",
       "    <tr>\n",
       "      <th>31</th>\n",
       "      <td>2006</td>\n",
       "      <td>3958.6</td>\n",
       "    </tr>\n",
       "    <tr>\n",
       "      <th>35</th>\n",
       "      <td>2007</td>\n",
       "      <td>4311.5</td>\n",
       "    </tr>\n",
       "    <tr>\n",
       "      <th>39</th>\n",
       "      <td>2008</td>\n",
       "      <td>4352.3</td>\n",
       "    </tr>\n",
       "    <tr>\n",
       "      <th>43</th>\n",
       "      <td>2009</td>\n",
       "      <td>5127.9</td>\n",
       "    </tr>\n",
       "    <tr>\n",
       "      <th>47</th>\n",
       "      <td>2010</td>\n",
       "      <td>5975.1</td>\n",
       "    </tr>\n",
       "    <tr>\n",
       "      <th>51</th>\n",
       "      <td>2011</td>\n",
       "      <td>6083.6</td>\n",
       "    </tr>\n",
       "    <tr>\n",
       "      <th>55</th>\n",
       "      <td>2012</td>\n",
       "      <td>5905.8</td>\n",
       "    </tr>\n",
       "    <tr>\n",
       "      <th>59</th>\n",
       "      <td>2013</td>\n",
       "      <td>6045.5</td>\n",
       "    </tr>\n",
       "    <tr>\n",
       "      <th>63</th>\n",
       "      <td>2014</td>\n",
       "      <td>6335.1</td>\n",
       "    </tr>\n",
       "    <tr>\n",
       "      <th>67</th>\n",
       "      <td>2015</td>\n",
       "      <td>6047.9</td>\n",
       "    </tr>\n",
       "    <tr>\n",
       "      <th>71</th>\n",
       "      <td>2016</td>\n",
       "      <td>5875.2</td>\n",
       "    </tr>\n",
       "    <tr>\n",
       "      <th>75</th>\n",
       "      <td>2017</td>\n",
       "      <td>6239.3</td>\n",
       "    </tr>\n",
       "    <tr>\n",
       "      <th>79</th>\n",
       "      <td>2018</td>\n",
       "      <td>6048.9</td>\n",
       "    </tr>\n",
       "    <tr>\n",
       "      <th>83</th>\n",
       "      <td>2019</td>\n",
       "      <td>5996.2</td>\n",
       "    </tr>\n",
       "    <tr>\n",
       "      <th>87</th>\n",
       "      <td>2020</td>\n",
       "      <td>5815.5</td>\n",
       "    </tr>\n",
       "  </tbody>\n",
       "</table>\n",
       "</div>"
      ],
      "text/plain": [
       "     ano  liquido\n",
       "3   1999   4010.0\n",
       "7   2000   3782.5\n",
       "11  2001   3734.5\n",
       "15  2002   4069.7\n",
       "19  2003   3856.7\n",
       "23  2004   3862.0\n",
       "27  2005   4036.4\n",
       "31  2006   3958.6\n",
       "35  2007   4311.5\n",
       "39  2008   4352.3\n",
       "43  2009   5127.9\n",
       "47  2010   5975.1\n",
       "51  2011   6083.6\n",
       "55  2012   5905.8\n",
       "59  2013   6045.5\n",
       "63  2014   6335.1\n",
       "67  2015   6047.9\n",
       "71  2016   5875.2\n",
       "75  2017   6239.3\n",
       "79  2018   6048.9\n",
       "83  2019   5996.2\n",
       "87  2020   5815.5"
      ]
     },
     "execution_count": 48,
     "metadata": {},
     "output_type": "execute_result"
    }
   ],
   "source": [
    "# Selecionando elementos do DataFrame através de uma lista booleana para as linhas e nome para as colunas:\n",
    "criterio_linhas = (salario_df['sexo'] == 'Mulher') & (salario_df['raça'] == 'Negra')\n",
    "salario_df.loc[criterio_linhas, ['ano', 'liquido']]"
   ]
  },
  {
   "cell_type": "markdown",
   "id": "30fa12ef-49ed-496a-a01c-78eab33012a2",
   "metadata": {},
   "source": [
    "Os dados acima mostram que, de 1999 a 2020, o salário médio real das mulheres negras servidoras federais subiu quase 50%. Mas esse aumento aconteceu apenas em 2009 e 2010.  "
   ]
  },
  {
   "cell_type": "markdown",
   "id": "cfcc6b25-62fb-4a6e-baa7-fc921baea60b",
   "metadata": {},
   "source": [
    "Para selecionar as linhas, utilizamos uma lista (na verdade, uma Series) de valores booleanos. Mas poderíamos ter utilizado outras estratégias, como a seleção de colunas através de uma lista booleana, ou a seleção de linhas através de seus índices."
   ]
  },
  {
   "cell_type": "code",
   "execution_count": 49,
   "id": "406c7ffb-07f0-4c76-aa41-8f2c55edc016",
   "metadata": {},
   "outputs": [
    {
     "data": {
      "text/plain": [
       "0     False\n",
       "1     False\n",
       "2     False\n",
       "3      True\n",
       "4     False\n",
       "      ...  \n",
       "83     True\n",
       "84    False\n",
       "85    False\n",
       "86    False\n",
       "87     True\n",
       "Length: 88, dtype: bool"
      ]
     },
     "execution_count": 49,
     "metadata": {},
     "output_type": "execute_result"
    }
   ],
   "source": [
    "# Series booleana utilizada para selecionar as linhas:\n",
    "criterio_linhas"
   ]
  },
  {
   "cell_type": "markdown",
   "id": "e063fd7e-9f22-41dc-a308-d8d6f8eb975b",
   "metadata": {},
   "source": [
    "Outra forma de selecionar elementos é com o método `query()`. Com ele você pode passar uma string com critérios para seleção de linhas. Por exemplo:"
   ]
  },
  {
   "cell_type": "code",
   "execution_count": 50,
   "id": "f41885bb-a9e9-4e2f-adfb-2aabc1288446",
   "metadata": {},
   "outputs": [
    {
     "data": {
      "text/html": [
       "<div>\n",
       "<style scoped>\n",
       "    .dataframe tbody tr th:only-of-type {\n",
       "        vertical-align: middle;\n",
       "    }\n",
       "\n",
       "    .dataframe tbody tr th {\n",
       "        vertical-align: top;\n",
       "    }\n",
       "\n",
       "    .dataframe thead th {\n",
       "        text-align: right;\n",
       "    }\n",
       "</style>\n",
       "<table border=\"1\" class=\"dataframe\">\n",
       "  <thead>\n",
       "    <tr style=\"text-align: right;\">\n",
       "      <th></th>\n",
       "      <th>ano</th>\n",
       "      <th>sexo</th>\n",
       "      <th>raça</th>\n",
       "      <th>liquido</th>\n",
       "    </tr>\n",
       "  </thead>\n",
       "  <tbody>\n",
       "    <tr>\n",
       "      <th>84</th>\n",
       "      <td>2020</td>\n",
       "      <td>Homem</td>\n",
       "      <td>Branca</td>\n",
       "      <td>8774.2</td>\n",
       "    </tr>\n",
       "    <tr>\n",
       "      <th>85</th>\n",
       "      <td>2020</td>\n",
       "      <td>Homem</td>\n",
       "      <td>Negra</td>\n",
       "      <td>6272.2</td>\n",
       "    </tr>\n",
       "    <tr>\n",
       "      <th>86</th>\n",
       "      <td>2020</td>\n",
       "      <td>Mulher</td>\n",
       "      <td>Branca</td>\n",
       "      <td>7753.8</td>\n",
       "    </tr>\n",
       "    <tr>\n",
       "      <th>87</th>\n",
       "      <td>2020</td>\n",
       "      <td>Mulher</td>\n",
       "      <td>Negra</td>\n",
       "      <td>5815.5</td>\n",
       "    </tr>\n",
       "  </tbody>\n",
       "</table>\n",
       "</div>"
      ],
      "text/plain": [
       "     ano    sexo    raça  liquido\n",
       "84  2020   Homem  Branca   8774.2\n",
       "85  2020   Homem   Negra   6272.2\n",
       "86  2020  Mulher  Branca   7753.8\n",
       "87  2020  Mulher   Negra   5815.5"
      ]
     },
     "execution_count": 50,
     "metadata": {},
     "output_type": "execute_result"
    }
   ],
   "source": [
    "# Selecionamos os dados de 2020:\n",
    "salario_2020_df = salario_df.query('ano == 2020')\n",
    "salario_2020_df"
   ]
  },
  {
   "cell_type": "markdown",
   "id": "af8f666e-d263-4b32-9db7-530fb43d982e",
   "metadata": {},
   "source": [
    "Vamos ordenar a tabela por remuneração média, do mais alto para o mais baixo. Isso pode ser feito com o método `sort_values()`:"
   ]
  },
  {
   "cell_type": "code",
   "execution_count": 51,
   "id": "2ca5078b-2174-45b4-88c5-927f5b70d34e",
   "metadata": {},
   "outputs": [
    {
     "data": {
      "text/html": [
       "<div>\n",
       "<style scoped>\n",
       "    .dataframe tbody tr th:only-of-type {\n",
       "        vertical-align: middle;\n",
       "    }\n",
       "\n",
       "    .dataframe tbody tr th {\n",
       "        vertical-align: top;\n",
       "    }\n",
       "\n",
       "    .dataframe thead th {\n",
       "        text-align: right;\n",
       "    }\n",
       "</style>\n",
       "<table border=\"1\" class=\"dataframe\">\n",
       "  <thead>\n",
       "    <tr style=\"text-align: right;\">\n",
       "      <th></th>\n",
       "      <th>ano</th>\n",
       "      <th>sexo</th>\n",
       "      <th>raça</th>\n",
       "      <th>liquido</th>\n",
       "    </tr>\n",
       "  </thead>\n",
       "  <tbody>\n",
       "    <tr>\n",
       "      <th>84</th>\n",
       "      <td>2020</td>\n",
       "      <td>Homem</td>\n",
       "      <td>Branca</td>\n",
       "      <td>8774.2</td>\n",
       "    </tr>\n",
       "    <tr>\n",
       "      <th>86</th>\n",
       "      <td>2020</td>\n",
       "      <td>Mulher</td>\n",
       "      <td>Branca</td>\n",
       "      <td>7753.8</td>\n",
       "    </tr>\n",
       "    <tr>\n",
       "      <th>85</th>\n",
       "      <td>2020</td>\n",
       "      <td>Homem</td>\n",
       "      <td>Negra</td>\n",
       "      <td>6272.2</td>\n",
       "    </tr>\n",
       "    <tr>\n",
       "      <th>87</th>\n",
       "      <td>2020</td>\n",
       "      <td>Mulher</td>\n",
       "      <td>Negra</td>\n",
       "      <td>5815.5</td>\n",
       "    </tr>\n",
       "  </tbody>\n",
       "</table>\n",
       "</div>"
      ],
      "text/plain": [
       "     ano    sexo    raça  liquido\n",
       "84  2020   Homem  Branca   8774.2\n",
       "86  2020  Mulher  Branca   7753.8\n",
       "85  2020   Homem   Negra   6272.2\n",
       "87  2020  Mulher   Negra   5815.5"
      ]
     },
     "execution_count": 51,
     "metadata": {},
     "output_type": "execute_result"
    }
   ],
   "source": [
    "# Ordena as linhas da tabela pelo valor da remuneração média líquida:\n",
    "salario_2020_df.sort_values(by='liquido', ascending=False)"
   ]
  },
  {
   "cell_type": "markdown",
   "id": "54716899-fcad-4ff6-81d0-33f3b4005392",
   "metadata": {},
   "source": [
    "Vemos que, enquanto o salário médio de homens brancos foi de 8.774 reais em 2020, o salário médio de mulheres negras foi de 5.815. Esse é uma das consequências do machismo e do racismo."
   ]
  },
  {
   "cell_type": "markdown",
   "id": "bc1a4a19-c214-49fb-b7b2-3e25b65a3141",
   "metadata": {},
   "source": [
    "Outra forma útil de selecionar linhas é utilizando o método de Series chamado `isin()`. Esse método retorna uma série booleana que diz se cada elemento da \n",
    "Series original está entre um conjunto de valores possíveis:"
   ]
  },
  {
   "cell_type": "code",
   "execution_count": 52,
   "id": "639c985a-6e11-4f0b-bb16-f2a1fbf7dadf",
   "metadata": {},
   "outputs": [
    {
     "data": {
      "text/plain": [
       "0      True\n",
       "1      True\n",
       "2      True\n",
       "3      True\n",
       "4     False\n",
       "      ...  \n",
       "83     True\n",
       "84    False\n",
       "85    False\n",
       "86    False\n",
       "87    False\n",
       "Name: ano, Length: 88, dtype: bool"
      ]
     },
     "execution_count": 52,
     "metadata": {},
     "output_type": "execute_result"
    }
   ],
   "source": [
    "# Cria uma Series booleana para selecionar certos anos:\n",
    "anos_99_19 = salario_df['ano'].isin([1999, 2019])\n",
    "anos_99_19"
   ]
  },
  {
   "cell_type": "code",
   "execution_count": 53,
   "id": "ca06b7e1-8174-44d1-a9be-c463f1eec760",
   "metadata": {},
   "outputs": [
    {
     "data": {
      "text/html": [
       "<div>\n",
       "<style scoped>\n",
       "    .dataframe tbody tr th:only-of-type {\n",
       "        vertical-align: middle;\n",
       "    }\n",
       "\n",
       "    .dataframe tbody tr th {\n",
       "        vertical-align: top;\n",
       "    }\n",
       "\n",
       "    .dataframe thead th {\n",
       "        text-align: right;\n",
       "    }\n",
       "</style>\n",
       "<table border=\"1\" class=\"dataframe\">\n",
       "  <thead>\n",
       "    <tr style=\"text-align: right;\">\n",
       "      <th></th>\n",
       "      <th>ano</th>\n",
       "      <th>sexo</th>\n",
       "      <th>raça</th>\n",
       "      <th>liquido</th>\n",
       "    </tr>\n",
       "  </thead>\n",
       "  <tbody>\n",
       "    <tr>\n",
       "      <th>0</th>\n",
       "      <td>1999</td>\n",
       "      <td>Homem</td>\n",
       "      <td>Branca</td>\n",
       "      <td>6527.2</td>\n",
       "    </tr>\n",
       "    <tr>\n",
       "      <th>1</th>\n",
       "      <td>1999</td>\n",
       "      <td>Homem</td>\n",
       "      <td>Negra</td>\n",
       "      <td>4768.7</td>\n",
       "    </tr>\n",
       "    <tr>\n",
       "      <th>2</th>\n",
       "      <td>1999</td>\n",
       "      <td>Mulher</td>\n",
       "      <td>Branca</td>\n",
       "      <td>5261.6</td>\n",
       "    </tr>\n",
       "    <tr>\n",
       "      <th>3</th>\n",
       "      <td>1999</td>\n",
       "      <td>Mulher</td>\n",
       "      <td>Negra</td>\n",
       "      <td>4010.0</td>\n",
       "    </tr>\n",
       "    <tr>\n",
       "      <th>80</th>\n",
       "      <td>2019</td>\n",
       "      <td>Homem</td>\n",
       "      <td>Branca</td>\n",
       "      <td>9044.7</td>\n",
       "    </tr>\n",
       "    <tr>\n",
       "      <th>81</th>\n",
       "      <td>2019</td>\n",
       "      <td>Homem</td>\n",
       "      <td>Negra</td>\n",
       "      <td>6454.7</td>\n",
       "    </tr>\n",
       "    <tr>\n",
       "      <th>82</th>\n",
       "      <td>2019</td>\n",
       "      <td>Mulher</td>\n",
       "      <td>Branca</td>\n",
       "      <td>7977.5</td>\n",
       "    </tr>\n",
       "    <tr>\n",
       "      <th>83</th>\n",
       "      <td>2019</td>\n",
       "      <td>Mulher</td>\n",
       "      <td>Negra</td>\n",
       "      <td>5996.2</td>\n",
       "    </tr>\n",
       "  </tbody>\n",
       "</table>\n",
       "</div>"
      ],
      "text/plain": [
       "     ano    sexo    raça  liquido\n",
       "0   1999   Homem  Branca   6527.2\n",
       "1   1999   Homem   Negra   4768.7\n",
       "2   1999  Mulher  Branca   5261.6\n",
       "3   1999  Mulher   Negra   4010.0\n",
       "80  2019   Homem  Branca   9044.7\n",
       "81  2019   Homem   Negra   6454.7\n",
       "82  2019  Mulher  Branca   7977.5\n",
       "83  2019  Mulher   Negra   5996.2"
      ]
     },
     "execution_count": 53,
     "metadata": {},
     "output_type": "execute_result"
    }
   ],
   "source": [
    "# Seleciona as linhas com base nisso:\n",
    "salario_df.loc[anos_99_19]"
   ]
  },
  {
   "cell_type": "markdown",
   "id": "14e318d9-210a-4042-8b23-1943369c0f7e",
   "metadata": {},
   "source": [
    "### Definindo o índice a partir de uma coluna"
   ]
  },
  {
   "cell_type": "markdown",
   "id": "1bc83877-709f-492c-818c-ef6ecb174e76",
   "metadata": {},
   "source": [
    "No código abaixo, criamos um loop sobre os segmentos sociais. Para cada um deles, criamos um gráfico. Um método novo que usamos aqui é o `set_index()`. \n",
    "Ele transforma uma coluna no índice do DataFrame. Isso é útil nesse caso pois, quando chamamos o método plot de uma Series, ele utiliza o índice como coordenada do eixo X."
   ]
  },
  {
   "cell_type": "code",
   "execution_count": 54,
   "id": "5c6eee87-3464-4b74-9a61-0887f50b9d40",
   "metadata": {},
   "outputs": [
    {
     "data": {
      "image/png": "[encoded data removed]",
      "text/plain": [
       "<Figure size 640x480 with 1 Axes>"
      ]
     },
     "metadata": {},
     "output_type": "display_data"
    }
   ],
   "source": [
    "# Loop sobre os segmentos:\n",
    "for sexo in ['Mulher', 'Homem']:\n",
    "    for raca in ['Negra', 'Branca']:\n",
    "        # Cria uma query (string para selecionar partes dos dados):\n",
    "        q = f'sexo == \"{sexo}\" and raça == \"{raca}\"'\n",
    "        # Seleciona um segmento:\n",
    "        segmento_df = salario_df.query(q)\n",
    "        segmento_df.set_index('ano')['liquido'].plot(label = f'{sexo} {raca}')\n",
    "\n",
    "# Adiciona uma legenda ao gráfico:\n",
    "pl.legend()\n",
    "# Adiciona rótulo ao eixo Y:\n",
    "pl.ylabel('Remuneração líquida média (R$, valores reais)')\n",
    "pl.show()"
   ]
  },
  {
   "cell_type": "markdown",
   "id": "25ef770d-2735-4632-bf5f-b7793717bef5",
   "metadata": {},
   "source": [
    "O gráfico acima mostra que os salários de todos os segmentos permaneceram mais ou menos os mesmos de 1999 a 2006. \n",
    "Daí até 2011, houve um aumento de quase 50%. De 2011 em diante, os salários permaneceram novamente estáveis."
   ]
  },
  {
   "cell_type": "markdown",
   "id": "e47945c5-3d06-4a75-9efc-a1561152e48d",
   "metadata": {},
   "source": [
    "### Operando sobre as colunas do DataFrame"
   ]
  },
  {
   "cell_type": "markdown",
   "id": "0930a837-bdf2-42f8-9f21-03ed8d772228",
   "metadata": {},
   "source": [
    "Para avançar no entendimento da evolução das remunerações dos servidores federais, vamos compará-las com uma remuneração de referência. Dessa forma, \n",
    "podemos ver se as diferenças aumentaram, diminuíram ou permaneceram constantes. Vamos escolher a remuneração mais alta como referência:"
   ]
  },
  {
   "cell_type": "code",
   "execution_count": 55,
   "id": "cb91f330-3c3b-4dbf-80e1-d975b9610843",
   "metadata": {},
   "outputs": [],
   "source": [
    "# Seleção de linhas, definição do ano como índice e seleção da série de remuneração:\n",
    "remuneracao_ref = salario_df.query('sexo == \"Homem\" and raça == \"Branca\"').set_index('ano')['liquido']\n",
    "# Redefinição do nome da Series:\n",
    "remuneracao_ref.name = 'ref'"
   ]
  },
  {
   "cell_type": "markdown",
   "id": "c4cc4f21-e837-4794-ab9e-4206ffacb9d3",
   "metadata": {},
   "source": [
    "Vamos juntar essa informação ao nosso DataFrame utilizando o método `join()`. Esse método é usado para combinar duas ou mais tabelas (DataFrames) ou uma série e uma tabela com base em uma coluna específica.\n",
    "\n",
    "O índice da tabela ou série a ser juntada precisa ser comum a alguma coluna da tabela que chama o método. Vamos chamar essa coluna de \"chave\". O método `join()` permite que você junte essas tabelas com base nessa coluna chave.Neste exemplo, tabela1 e tabela2 têm a coluna 'chave' em comum. Ao usar join, a tabela resultante, tabelas_combinadas, terá as colunas da tabela1 e da tabela2, onde as linhas são combinadas com base nos valores da coluna 'chave'. Se não houver uma correspondência para uma chave em uma das tabelas, os valores na tabela resultante serão preenchidos com NaN (Not a Number).\n",
    "\n",
    "O parâmetro on='chave' especifica qual coluna é usada como chave para a junção. No exemplo acima, estamos usando a coluna 'chave' como base para combinar as tabelas.\n",
    "\n",
    "Lembre-se de que existem diferentes tipos de junções (inner join, outer join, left join, right join), e você pode especificar o tipo usando o parâmetro how. O padrão é um inner join.\n"
   ]
  },
  {
   "cell_type": "code",
   "execution_count": 56,
   "id": "36cc867e-8817-4fee-bc0f-c6fae2399955",
   "metadata": {},
   "outputs": [
    {
     "data": {
      "text/html": [
       "<div>\n",
       "<style scoped>\n",
       "    .dataframe tbody tr th:only-of-type {\n",
       "        vertical-align: middle;\n",
       "    }\n",
       "\n",
       "    .dataframe tbody tr th {\n",
       "        vertical-align: top;\n",
       "    }\n",
       "\n",
       "    .dataframe thead th {\n",
       "        text-align: right;\n",
       "    }\n",
       "</style>\n",
       "<table border=\"1\" class=\"dataframe\">\n",
       "  <thead>\n",
       "    <tr style=\"text-align: right;\">\n",
       "      <th></th>\n",
       "      <th>ano</th>\n",
       "      <th>sexo</th>\n",
       "      <th>raça</th>\n",
       "      <th>liquido</th>\n",
       "      <th>ref</th>\n",
       "    </tr>\n",
       "  </thead>\n",
       "  <tbody>\n",
       "    <tr>\n",
       "      <th>0</th>\n",
       "      <td>1999</td>\n",
       "      <td>Homem</td>\n",
       "      <td>Branca</td>\n",
       "      <td>6527.2</td>\n",
       "      <td>6527.2</td>\n",
       "    </tr>\n",
       "    <tr>\n",
       "      <th>1</th>\n",
       "      <td>1999</td>\n",
       "      <td>Homem</td>\n",
       "      <td>Negra</td>\n",
       "      <td>4768.7</td>\n",
       "      <td>6527.2</td>\n",
       "    </tr>\n",
       "    <tr>\n",
       "      <th>2</th>\n",
       "      <td>1999</td>\n",
       "      <td>Mulher</td>\n",
       "      <td>Branca</td>\n",
       "      <td>5261.6</td>\n",
       "      <td>6527.2</td>\n",
       "    </tr>\n",
       "    <tr>\n",
       "      <th>3</th>\n",
       "      <td>1999</td>\n",
       "      <td>Mulher</td>\n",
       "      <td>Negra</td>\n",
       "      <td>4010.0</td>\n",
       "      <td>6527.2</td>\n",
       "    </tr>\n",
       "    <tr>\n",
       "      <th>4</th>\n",
       "      <td>2000</td>\n",
       "      <td>Homem</td>\n",
       "      <td>Branca</td>\n",
       "      <td>5690.3</td>\n",
       "      <td>5690.3</td>\n",
       "    </tr>\n",
       "    <tr>\n",
       "      <th>5</th>\n",
       "      <td>2000</td>\n",
       "      <td>Homem</td>\n",
       "      <td>Negra</td>\n",
       "      <td>4151.7</td>\n",
       "      <td>5690.3</td>\n",
       "    </tr>\n",
       "    <tr>\n",
       "      <th>6</th>\n",
       "      <td>2000</td>\n",
       "      <td>Mulher</td>\n",
       "      <td>Branca</td>\n",
       "      <td>4887.3</td>\n",
       "      <td>5690.3</td>\n",
       "    </tr>\n",
       "    <tr>\n",
       "      <th>7</th>\n",
       "      <td>2000</td>\n",
       "      <td>Mulher</td>\n",
       "      <td>Negra</td>\n",
       "      <td>3782.5</td>\n",
       "      <td>5690.3</td>\n",
       "    </tr>\n",
       "    <tr>\n",
       "      <th>8</th>\n",
       "      <td>2001</td>\n",
       "      <td>Homem</td>\n",
       "      <td>Branca</td>\n",
       "      <td>5833.8</td>\n",
       "      <td>5833.8</td>\n",
       "    </tr>\n",
       "    <tr>\n",
       "      <th>9</th>\n",
       "      <td>2001</td>\n",
       "      <td>Homem</td>\n",
       "      <td>Negra</td>\n",
       "      <td>4107.2</td>\n",
       "      <td>5833.8</td>\n",
       "    </tr>\n",
       "  </tbody>\n",
       "</table>\n",
       "</div>"
      ],
      "text/plain": [
       "    ano    sexo    raça  liquido     ref\n",
       "0  1999   Homem  Branca   6527.2  6527.2\n",
       "1  1999   Homem   Negra   4768.7  6527.2\n",
       "2  1999  Mulher  Branca   5261.6  6527.2\n",
       "3  1999  Mulher   Negra   4010.0  6527.2\n",
       "4  2000   Homem  Branca   5690.3  5690.3\n",
       "5  2000   Homem   Negra   4151.7  5690.3\n",
       "6  2000  Mulher  Branca   4887.3  5690.3\n",
       "7  2000  Mulher   Negra   3782.5  5690.3\n",
       "8  2001   Homem  Branca   5833.8  5833.8\n",
       "9  2001   Homem   Negra   4107.2  5833.8"
      ]
     },
     "execution_count": 56,
     "metadata": {},
     "output_type": "execute_result"
    }
   ],
   "source": [
    "# Juntando uma série (ou outro DataFrame) a um DataFrame:\n",
    "aprimorada_df = salario_df.join(remuneracao_ref, on='ano', how='left')\n",
    "# Visualização:\n",
    "aprimorada_df.head(10)"
   ]
  },
  {
   "cell_type": "markdown",
   "id": "e86b7821-8ae6-4726-93d9-1b103032906d",
   "metadata": {},
   "source": [
    "No caso acima, o DataFrame `salario_df` têm a coluna 'ano' em comum com o índice da Series `remuneracao_df`. Ao usar `join`, a tabela resultante terá as colunas de `salario_df` mais a nova série (ou as colunas da outra tabela), onde as linhas são combinadas com base nos valores da coluna 'ano': as linhas de `remuneracao_df` cujos índices forem iguais aos valores da coluna 'ano' em `salario_df` serão postas no na mesma linha. Se não houver uma correspondência para uma chave em uma das tabelas, os valores na tabela resultante serão preenchidos com `NaN` (_Not a Number_), que significa que o valor está faltando.\n",
    "\n",
    "O parâmetro `on='ano'` especifica que a coluna 'ano' de `salario_df` é que será usada como chave para a junção. O parâmetro `how='left'` significa que, quando não houver correspondência, manteremos apenas as linhas da tabela da esquerda. Os valores sem correspondência da tabela ou série da direita serão descartados."
   ]
  },
  {
   "cell_type": "markdown",
   "id": "f0efdd5c-983b-428b-8b5f-c4b5dc9507e2",
   "metadata": {},
   "source": [
    "Agora, vamos executar operações entre duas colunas. Quando fazemos isso, a operação especificada \n",
    "é aplicada a cada par de elementos das Series, isto, é: linha por linha.\n",
    "\n",
    "1. Vamos dividir os valores da coluna 'liquido' pelos valores da coluna 'ref'.\n",
    "2. Vamos concatenas as string das colunas 'sexo' e 'raça', com um espaço no meio.\n",
    "\n",
    "Os resultados podem ser colocados diretamente em uma nova coluna da tabela:"
   ]
  },
  {
   "cell_type": "code",
   "execution_count": 57,
   "id": "24069313-c861-48bc-be70-c086a4e87e0d",
   "metadata": {},
   "outputs": [
    {
     "data": {
      "text/html": [
       "<div>\n",
       "<style scoped>\n",
       "    .dataframe tbody tr th:only-of-type {\n",
       "        vertical-align: middle;\n",
       "    }\n",
       "\n",
       "    .dataframe tbody tr th {\n",
       "        vertical-align: top;\n",
       "    }\n",
       "\n",
       "    .dataframe thead th {\n",
       "        text-align: right;\n",
       "    }\n",
       "</style>\n",
       "<table border=\"1\" class=\"dataframe\">\n",
       "  <thead>\n",
       "    <tr style=\"text-align: right;\">\n",
       "      <th></th>\n",
       "      <th>ano</th>\n",
       "      <th>sexo</th>\n",
       "      <th>raça</th>\n",
       "      <th>liquido</th>\n",
       "      <th>ref</th>\n",
       "      <th>razao</th>\n",
       "      <th>segmento</th>\n",
       "    </tr>\n",
       "  </thead>\n",
       "  <tbody>\n",
       "    <tr>\n",
       "      <th>0</th>\n",
       "      <td>1999</td>\n",
       "      <td>Homem</td>\n",
       "      <td>Branca</td>\n",
       "      <td>6527.2</td>\n",
       "      <td>6527.2</td>\n",
       "      <td>1.000000</td>\n",
       "      <td>Homem Branca</td>\n",
       "    </tr>\n",
       "    <tr>\n",
       "      <th>1</th>\n",
       "      <td>1999</td>\n",
       "      <td>Homem</td>\n",
       "      <td>Negra</td>\n",
       "      <td>4768.7</td>\n",
       "      <td>6527.2</td>\n",
       "      <td>0.730589</td>\n",
       "      <td>Homem Negra</td>\n",
       "    </tr>\n",
       "    <tr>\n",
       "      <th>2</th>\n",
       "      <td>1999</td>\n",
       "      <td>Mulher</td>\n",
       "      <td>Branca</td>\n",
       "      <td>5261.6</td>\n",
       "      <td>6527.2</td>\n",
       "      <td>0.806104</td>\n",
       "      <td>Mulher Branca</td>\n",
       "    </tr>\n",
       "    <tr>\n",
       "      <th>3</th>\n",
       "      <td>1999</td>\n",
       "      <td>Mulher</td>\n",
       "      <td>Negra</td>\n",
       "      <td>4010.0</td>\n",
       "      <td>6527.2</td>\n",
       "      <td>0.614352</td>\n",
       "      <td>Mulher Negra</td>\n",
       "    </tr>\n",
       "    <tr>\n",
       "      <th>4</th>\n",
       "      <td>2000</td>\n",
       "      <td>Homem</td>\n",
       "      <td>Branca</td>\n",
       "      <td>5690.3</td>\n",
       "      <td>5690.3</td>\n",
       "      <td>1.000000</td>\n",
       "      <td>Homem Branca</td>\n",
       "    </tr>\n",
       "    <tr>\n",
       "      <th>...</th>\n",
       "      <td>...</td>\n",
       "      <td>...</td>\n",
       "      <td>...</td>\n",
       "      <td>...</td>\n",
       "      <td>...</td>\n",
       "      <td>...</td>\n",
       "      <td>...</td>\n",
       "    </tr>\n",
       "    <tr>\n",
       "      <th>83</th>\n",
       "      <td>2019</td>\n",
       "      <td>Mulher</td>\n",
       "      <td>Negra</td>\n",
       "      <td>5996.2</td>\n",
       "      <td>9044.7</td>\n",
       "      <td>0.662952</td>\n",
       "      <td>Mulher Negra</td>\n",
       "    </tr>\n",
       "    <tr>\n",
       "      <th>84</th>\n",
       "      <td>2020</td>\n",
       "      <td>Homem</td>\n",
       "      <td>Branca</td>\n",
       "      <td>8774.2</td>\n",
       "      <td>8774.2</td>\n",
       "      <td>1.000000</td>\n",
       "      <td>Homem Branca</td>\n",
       "    </tr>\n",
       "    <tr>\n",
       "      <th>85</th>\n",
       "      <td>2020</td>\n",
       "      <td>Homem</td>\n",
       "      <td>Negra</td>\n",
       "      <td>6272.2</td>\n",
       "      <td>8774.2</td>\n",
       "      <td>0.714846</td>\n",
       "      <td>Homem Negra</td>\n",
       "    </tr>\n",
       "    <tr>\n",
       "      <th>86</th>\n",
       "      <td>2020</td>\n",
       "      <td>Mulher</td>\n",
       "      <td>Branca</td>\n",
       "      <td>7753.8</td>\n",
       "      <td>8774.2</td>\n",
       "      <td>0.883704</td>\n",
       "      <td>Mulher Branca</td>\n",
       "    </tr>\n",
       "    <tr>\n",
       "      <th>87</th>\n",
       "      <td>2020</td>\n",
       "      <td>Mulher</td>\n",
       "      <td>Negra</td>\n",
       "      <td>5815.5</td>\n",
       "      <td>8774.2</td>\n",
       "      <td>0.662795</td>\n",
       "      <td>Mulher Negra</td>\n",
       "    </tr>\n",
       "  </tbody>\n",
       "</table>\n",
       "<p>88 rows × 7 columns</p>\n",
       "</div>"
      ],
      "text/plain": [
       "     ano    sexo    raça  liquido     ref     razao       segmento\n",
       "0   1999   Homem  Branca   6527.2  6527.2  1.000000   Homem Branca\n",
       "1   1999   Homem   Negra   4768.7  6527.2  0.730589    Homem Negra\n",
       "2   1999  Mulher  Branca   5261.6  6527.2  0.806104  Mulher Branca\n",
       "3   1999  Mulher   Negra   4010.0  6527.2  0.614352   Mulher Negra\n",
       "4   2000   Homem  Branca   5690.3  5690.3  1.000000   Homem Branca\n",
       "..   ...     ...     ...      ...     ...       ...            ...\n",
       "83  2019  Mulher   Negra   5996.2  9044.7  0.662952   Mulher Negra\n",
       "84  2020   Homem  Branca   8774.2  8774.2  1.000000   Homem Branca\n",
       "85  2020   Homem   Negra   6272.2  8774.2  0.714846    Homem Negra\n",
       "86  2020  Mulher  Branca   7753.8  8774.2  0.883704  Mulher Branca\n",
       "87  2020  Mulher   Negra   5815.5  8774.2  0.662795   Mulher Negra\n",
       "\n",
       "[88 rows x 7 columns]"
      ]
     },
     "execution_count": 57,
     "metadata": {},
     "output_type": "execute_result"
    }
   ],
   "source": [
    "# Cálculo da fração entre a remuneração média do segmento e a remuneração de referência:\n",
    "aprimorada_df['razao'] = aprimorada_df['liquido'] / aprimorada_df['ref']\n",
    "\n",
    "# Cria nome completo do segmento:\n",
    "aprimorada_df['segmento'] = aprimorada_df['sexo'] + ' ' + aprimorada_df['raça']\n",
    "\n",
    "# Visualização:\n",
    "aprimorada_df"
   ]
  },
  {
   "cell_type": "markdown",
   "id": "722eec9d-e17e-4dba-b510-4f7d6d2f0605",
   "metadata": {},
   "source": [
    "### Reorganizando os dados em outras formas"
   ]
  },
  {
   "cell_type": "markdown",
   "id": "de7f3773-8154-4448-847b-dcf6e1081194",
   "metadata": {},
   "source": [
    "Para visualizar em um gráfico a evolução da razão entre as remunerações, vamos _pivotar_ a tabela. \n",
    "Isso significa que vamos criar uma nova tabela na qual os valores que aparecem em uma coluna serão separados em colunas diferentes.\n",
    "Para isso, vamos selecionar uma das colunas de `aprimorada_df` para especificar os índices, outra para especificar as colunas e \n",
    "outra para especificar os valores. No exemplo abaixo, a coluna 'ano' será o índice, a 'segmento' será a coluna e a 'razao' será os valores.\n",
    "\n",
    "Os valores são o que aparecerá na tabela. Para saber em qual linha e coluna ele vai aparecer, vemos qual o valor de 'ano' e 'segmento' que aparecem na mesma linha de `aprimorada_df`. Desse jeito, temos a evolução da remuneração de cada segmento em uma coluna diferente:"
   ]
  },
  {
   "cell_type": "code",
   "execution_count": 58,
   "id": "ec7faf5b-da22-4c26-8acc-db80773079eb",
   "metadata": {
    "tags": []
   },
   "outputs": [
    {
     "data": {
      "text/html": [
       "<div>\n",
       "<style scoped>\n",
       "    .dataframe tbody tr th:only-of-type {\n",
       "        vertical-align: middle;\n",
       "    }\n",
       "\n",
       "    .dataframe tbody tr th {\n",
       "        vertical-align: top;\n",
       "    }\n",
       "\n",
       "    .dataframe thead th {\n",
       "        text-align: right;\n",
       "    }\n",
       "</style>\n",
       "<table border=\"1\" class=\"dataframe\">\n",
       "  <thead>\n",
       "    <tr style=\"text-align: right;\">\n",
       "      <th>segmento</th>\n",
       "      <th>Homem Branca</th>\n",
       "      <th>Homem Negra</th>\n",
       "      <th>Mulher Branca</th>\n",
       "      <th>Mulher Negra</th>\n",
       "    </tr>\n",
       "    <tr>\n",
       "      <th>ano</th>\n",
       "      <th></th>\n",
       "      <th></th>\n",
       "      <th></th>\n",
       "      <th></th>\n",
       "    </tr>\n",
       "  </thead>\n",
       "  <tbody>\n",
       "    <tr>\n",
       "      <th>1999</th>\n",
       "      <td>1.0</td>\n",
       "      <td>0.730589</td>\n",
       "      <td>0.806104</td>\n",
       "      <td>0.614352</td>\n",
       "    </tr>\n",
       "    <tr>\n",
       "      <th>2000</th>\n",
       "      <td>1.0</td>\n",
       "      <td>0.729610</td>\n",
       "      <td>0.858883</td>\n",
       "      <td>0.664728</td>\n",
       "    </tr>\n",
       "    <tr>\n",
       "      <th>2001</th>\n",
       "      <td>1.0</td>\n",
       "      <td>0.704035</td>\n",
       "      <td>0.856646</td>\n",
       "      <td>0.640149</td>\n",
       "    </tr>\n",
       "    <tr>\n",
       "      <th>2002</th>\n",
       "      <td>1.0</td>\n",
       "      <td>0.700734</td>\n",
       "      <td>0.847464</td>\n",
       "      <td>0.635196</td>\n",
       "    </tr>\n",
       "    <tr>\n",
       "      <th>2003</th>\n",
       "      <td>1.0</td>\n",
       "      <td>0.700667</td>\n",
       "      <td>0.843249</td>\n",
       "      <td>0.628813</td>\n",
       "    </tr>\n",
       "    <tr>\n",
       "      <th>2004</th>\n",
       "      <td>1.0</td>\n",
       "      <td>0.740687</td>\n",
       "      <td>0.840892</td>\n",
       "      <td>0.654255</td>\n",
       "    </tr>\n",
       "    <tr>\n",
       "      <th>2005</th>\n",
       "      <td>1.0</td>\n",
       "      <td>0.721842</td>\n",
       "      <td>0.839066</td>\n",
       "      <td>0.639237</td>\n",
       "    </tr>\n",
       "    <tr>\n",
       "      <th>2006</th>\n",
       "      <td>1.0</td>\n",
       "      <td>0.701572</td>\n",
       "      <td>0.846258</td>\n",
       "      <td>0.635685</td>\n",
       "    </tr>\n",
       "    <tr>\n",
       "      <th>2007</th>\n",
       "      <td>1.0</td>\n",
       "      <td>0.683076</td>\n",
       "      <td>0.825975</td>\n",
       "      <td>0.611647</td>\n",
       "    </tr>\n",
       "    <tr>\n",
       "      <th>2008</th>\n",
       "      <td>1.0</td>\n",
       "      <td>0.680660</td>\n",
       "      <td>0.823537</td>\n",
       "      <td>0.602795</td>\n",
       "    </tr>\n",
       "    <tr>\n",
       "      <th>2009</th>\n",
       "      <td>1.0</td>\n",
       "      <td>0.677252</td>\n",
       "      <td>0.844484</td>\n",
       "      <td>0.614289</td>\n",
       "    </tr>\n",
       "    <tr>\n",
       "      <th>2010</th>\n",
       "      <td>1.0</td>\n",
       "      <td>0.692955</td>\n",
       "      <td>0.878231</td>\n",
       "      <td>0.655481</td>\n",
       "    </tr>\n",
       "    <tr>\n",
       "      <th>2011</th>\n",
       "      <td>1.0</td>\n",
       "      <td>0.687998</td>\n",
       "      <td>0.886185</td>\n",
       "      <td>0.661196</td>\n",
       "    </tr>\n",
       "    <tr>\n",
       "      <th>2012</th>\n",
       "      <td>1.0</td>\n",
       "      <td>0.697721</td>\n",
       "      <td>0.895567</td>\n",
       "      <td>0.674347</td>\n",
       "    </tr>\n",
       "    <tr>\n",
       "      <th>2013</th>\n",
       "      <td>1.0</td>\n",
       "      <td>0.701431</td>\n",
       "      <td>0.901741</td>\n",
       "      <td>0.684438</td>\n",
       "    </tr>\n",
       "    <tr>\n",
       "      <th>2014</th>\n",
       "      <td>1.0</td>\n",
       "      <td>0.704023</td>\n",
       "      <td>0.896768</td>\n",
       "      <td>0.682728</td>\n",
       "    </tr>\n",
       "    <tr>\n",
       "      <th>2015</th>\n",
       "      <td>1.0</td>\n",
       "      <td>0.700727</td>\n",
       "      <td>0.884081</td>\n",
       "      <td>0.672228</td>\n",
       "    </tr>\n",
       "    <tr>\n",
       "      <th>2016</th>\n",
       "      <td>1.0</td>\n",
       "      <td>0.718336</td>\n",
       "      <td>0.898996</td>\n",
       "      <td>0.690664</td>\n",
       "    </tr>\n",
       "    <tr>\n",
       "      <th>2017</th>\n",
       "      <td>1.0</td>\n",
       "      <td>0.717579</td>\n",
       "      <td>0.886614</td>\n",
       "      <td>0.679196</td>\n",
       "    </tr>\n",
       "    <tr>\n",
       "      <th>2018</th>\n",
       "      <td>1.0</td>\n",
       "      <td>0.720078</td>\n",
       "      <td>0.894200</td>\n",
       "      <td>0.680171</td>\n",
       "    </tr>\n",
       "    <tr>\n",
       "      <th>2019</th>\n",
       "      <td>1.0</td>\n",
       "      <td>0.713644</td>\n",
       "      <td>0.882008</td>\n",
       "      <td>0.662952</td>\n",
       "    </tr>\n",
       "    <tr>\n",
       "      <th>2020</th>\n",
       "      <td>1.0</td>\n",
       "      <td>0.714846</td>\n",
       "      <td>0.883704</td>\n",
       "      <td>0.662795</td>\n",
       "    </tr>\n",
       "  </tbody>\n",
       "</table>\n",
       "</div>"
      ],
      "text/plain": [
       "segmento  Homem Branca  Homem Negra  Mulher Branca  Mulher Negra\n",
       "ano                                                             \n",
       "1999               1.0     0.730589       0.806104      0.614352\n",
       "2000               1.0     0.729610       0.858883      0.664728\n",
       "2001               1.0     0.704035       0.856646      0.640149\n",
       "2002               1.0     0.700734       0.847464      0.635196\n",
       "2003               1.0     0.700667       0.843249      0.628813\n",
       "2004               1.0     0.740687       0.840892      0.654255\n",
       "2005               1.0     0.721842       0.839066      0.639237\n",
       "2006               1.0     0.701572       0.846258      0.635685\n",
       "2007               1.0     0.683076       0.825975      0.611647\n",
       "2008               1.0     0.680660       0.823537      0.602795\n",
       "2009               1.0     0.677252       0.844484      0.614289\n",
       "2010               1.0     0.692955       0.878231      0.655481\n",
       "2011               1.0     0.687998       0.886185      0.661196\n",
       "2012               1.0     0.697721       0.895567      0.674347\n",
       "2013               1.0     0.701431       0.901741      0.684438\n",
       "2014               1.0     0.704023       0.896768      0.682728\n",
       "2015               1.0     0.700727       0.884081      0.672228\n",
       "2016               1.0     0.718336       0.898996      0.690664\n",
       "2017               1.0     0.717579       0.886614      0.679196\n",
       "2018               1.0     0.720078       0.894200      0.680171\n",
       "2019               1.0     0.713644       0.882008      0.662952\n",
       "2020               1.0     0.714846       0.883704      0.662795"
      ]
     },
     "execution_count": 58,
     "metadata": {},
     "output_type": "execute_result"
    }
   ],
   "source": [
    "# Reorganiza a série temporal de remuneração de cada segmento em uma coluna separada:\n",
    "segmento_por_coluna_df = aprimorada_df.pivot(index='ano', columns='segmento', values='razao')\n",
    "segmento_por_coluna_df"
   ]
  },
  {
   "cell_type": "markdown",
   "id": "1ade66ea-19db-4c6d-9f24-904f8f14bf13",
   "metadata": {},
   "source": [
    "Agora é fácil criar um gráfico com as séries de todos os segmentos. Quando chamamos o método `plot()` em um DataFrame,\n",
    "todas as colunas são colocadas no gráfico, cada uma com seu nome, enquanto o índice serve de valores do eixo X."
   ]
  },
  {
   "cell_type": "code",
   "execution_count": 59,
   "id": "347d493b-ca5f-4f5f-b158-5c2542361549",
   "metadata": {},
   "outputs": [
    {
     "data": {
      "image/png": "[encoded data removed]",
      "text/plain": [
       "<Figure size 640x480 with 1 Axes>"
      ]
     },
     "metadata": {},
     "output_type": "display_data"
    }
   ],
   "source": [
    "# Criação de gráfico para cada coluna do DataFrame:\n",
    "segmento_por_coluna_df.plot()\n",
    "pl.legend()\n",
    "\n",
    "# Adiciona linhas horizontais de referência:\n",
    "pl.grid(axis='y')\n",
    "pl.show()"
   ]
  },
  {
   "cell_type": "markdown",
   "id": "06489c8a-bda2-475f-8f4d-b4260102f93b",
   "metadata": {},
   "source": [
    "O gráfico mostra que a remuneração média da servidora branca era próxima de 85% da remuneração média do servidor branco até 2009. Depois disso, ela sobe para quase 90%. A remuneração média das servidoras negras também se aproximou da remuneração dos servidores brancos, passando de cerca de 63% para 68%, aproximadamente. A remuneração média delas também se aproximou da dos homens negros. Dessa forma, a desigualdade entre homens e mulheres diminuiu no período. Entretanto, a desigualdade racial permaneceu estável, com homens negros ganhando, em média, 70% da remuneração dos homens brancos."
   ]
  }
 ],
 "metadata": {
  "kernelspec": {
   "display_name": "Python 3 (ipykernel)",
   "language": "python",
   "name": "python3"
  },
  "language_info": {
   "codemirror_mode": {
    "name": "ipython",
    "version": 3
   },
   "file_extension": ".py",
   "mimetype": "text/x-python",
   "name": "python",
   "nbconvert_exporter": "python",
   "pygments_lexer": "ipython3",
   "version": "3.8.10"
  }
 },
 "nbformat": 4,
 "nbformat_minor": 5
}
