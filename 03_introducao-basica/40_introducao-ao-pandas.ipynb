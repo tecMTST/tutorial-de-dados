{
 "cells": [
  {
   "cell_type": "markdown",
   "id": "cf22f2f9-bcb9-4cca-828f-62c3086229c7",
   "metadata": {},
   "source": [
    "# Tutorial de Pandas\n",
    "\n",
    "Pandas é a biblioteca do Python mais utilizada para trabalhar com conjuntos de dados de diferentes fontes de dados. \\\n",
    "Neste tutorial aprenderemos a como utilizá-la para extrair, transformar e carregar diversos tipos de dados.\n",
    "\n",
    "Seu [código](https://github.com/pandas-dev/pandas) é aberto está hospedado no GitHub.  \\\n",
    "Sua [documentação](https://pandas.pydata.org/docs/), apesar de estar disponível somente em inglês, é bem completa e oferece tutoriais e exemplos."
   ]
  },
  {
   "cell_type": "code",
   "execution_count": 2,
   "id": "003d73a7-105f-4941-b02d-49ee5b885a9b",
   "metadata": {
    "tags": []
   },
   "outputs": [
    {
     "data": {
      "text/html": [
       "<style>\n",
       "table {float:left}\n",
       "</style>\n"
      ],
      "text/plain": [
       "<IPython.core.display.HTML object>"
      ]
     },
     "metadata": {},
     "output_type": "display_data"
    }
   ],
   "source": [
    "%%html\n",
    "<style>\n",
    "table {float:left}\n",
    "</style>"
   ]
  },
  {
   "cell_type": "markdown",
   "id": "4c848151-4a17-4ca5-91aa-d22925de5b2a",
   "metadata": {},
   "source": [
    "## Instalação\n",
    "\n",
    "Caso você não tenha instalado o Pandas junto com os demais pacotes de Python (conforme explicado no [README.md](../README.md)), você pode instalá-lo usando o comando `pip`:"
   ]
  },
  {
   "cell_type": "code",
   "execution_count": 3,
   "id": "adde7ea6-7af2-4843-b80f-6d2b3bf620d7",
   "metadata": {},
   "outputs": [
    {
     "name": "stdout",
     "output_type": "stream",
     "text": [
      "Requirement already satisfied: pandas in /home/hxavier/system/envs/ceweb/lib/python3.8/site-packages (1.5.1)\n",
      "Requirement already satisfied: python-dateutil>=2.8.1 in /home/hxavier/system/envs/ceweb/lib/python3.8/site-packages (from pandas) (2.8.2)\n",
      "Requirement already satisfied: numpy>=1.20.3; python_version < \"3.10\" in /home/hxavier/system/envs/ceweb/lib/python3.8/site-packages (from pandas) (1.23.5)\n",
      "Requirement already satisfied: pytz>=2020.1 in /home/hxavier/system/envs/ceweb/lib/python3.8/site-packages (from pandas) (2022.5)\n",
      "Requirement already satisfied: six>=1.5 in /home/hxavier/system/envs/ceweb/lib/python3.8/site-packages (from python-dateutil>=2.8.1->pandas) (1.16.0)\n",
      "Note: you may need to restart the kernel to use updated packages.\n"
     ]
    }
   ],
   "source": [
    "%pip install pandas  # NOTA: o símbolo de porcentagem no começo da linha permite você rodar comandos do terminal diretamente no notebook. "
   ]
  },
  {
   "cell_type": "markdown",
   "id": "ef78be66-3298-4581-b859-1ab9dd760aa5",
   "metadata": {},
   "source": [
    "Para verificar se o Pandas foi instalado corretamente, tente importar ela e imprimir sua versão."
   ]
  },
  {
   "cell_type": "code",
   "execution_count": 4,
   "id": "b25d7bb2-d870-4030-92ac-f4078c743f88",
   "metadata": {},
   "outputs": [
    {
     "data": {
      "text/plain": [
       "'1.5.1'"
      ]
     },
     "execution_count": 4,
     "metadata": {},
     "output_type": "execute_result"
    }
   ],
   "source": [
    "import pandas\n",
    "pandas.__version__"
   ]
  },
  {
   "cell_type": "markdown",
   "id": "97f16617-1f94-4408-b271-dd3b3ce32beb",
   "metadata": {},
   "source": [
    "Seguindo o padrão definido pelos desenvolvedores da biblioteca, utilizaremos as letras `pd` como pseudônimo para simplificar o nosso código. Assim, toda vez que quisermos utilizá-la não precisaremos escrever o nome dela completo (`pandas`), somente `pd`."
   ]
  },
  {
   "cell_type": "code",
   "execution_count": 5,
   "id": "d6cc131b-7a33-473e-9caa-2bd15076edfc",
   "metadata": {},
   "outputs": [
    {
     "data": {
      "text/plain": [
       "'1.5.1'"
      ]
     },
     "execution_count": 5,
     "metadata": {},
     "output_type": "execute_result"
    }
   ],
   "source": [
    "import pandas as pd\n",
    "pd.__version__"
   ]
  },
  {
   "cell_type": "markdown",
   "id": "f56f316f-2427-4dac-9f2d-0781212c6d3a",
   "metadata": {},
   "source": [
    "## Introdução\n",
    "\n",
    ">[Pandas](https://pandas.pydata.org/) é uma ferramenta de análise e manipulação de dados em código aberto rápida, poderosa, flexível e fácil de usar, \n",
    "construída sobre a linguagem de programação Python.\n",
    "\n",
    "\n",
    "Essa biblioteca possui duas principais estruturas de dados: a coluna (_Series_) e a tabela (_DataFrame_)."
   ]
  },
  {
   "cell_type": "markdown",
   "id": "fd63814d-e0dc-457a-9343-c29ddaec53b5",
   "metadata": {
    "tags": []
   },
   "source": [
    "## Series"
   ]
  },
  {
   "cell_type": "markdown",
   "id": "74b1440a-e4a5-4894-95f3-8945719326ef",
   "metadata": {},
   "source": [
    "### Series: declaração\n",
    "Ao trabalhar com o Pandas, todas as colunas do seu conjunto de dados serão do tipo _Series_. Uma _Series_ também pode ser entendida como uma série ou sequência de dados. \n",
    "Você pode criar uma _Series_ na mão a partir de uma lista de Python. O exemplo abaixo mostra o número de mortes por Covid-19 a cada ano, de 2020 a 2023, de acordo com o \n",
    "[painel do Ministério da Saúde](https://infoms.saude.gov.br/extensions/covid-19_html/covid-19_html.html):"
   ]
  },
  {
   "cell_type": "code",
   "execution_count": 6,
   "id": "e50f2466-bd07-4e85-83de-9d56676a75c6",
   "metadata": {},
   "outputs": [
    {
     "data": {
      "text/plain": [
       "0    194950\n",
       "1    424110\n",
       "2     74800\n",
       "3     11320\n",
       "dtype: int64"
      ]
     },
     "execution_count": 6,
     "metadata": {},
     "output_type": "execute_result"
    }
   ],
   "source": [
    "pd.Series([194950, 424110, 74800, 11320])"
   ]
  },
  {
   "cell_type": "markdown",
   "id": "f342b950-bff1-4ce7-846e-4dcf13774f41",
   "metadata": {},
   "source": [
    "No caso acima, declaramos de forma muito simples a nossa série de dados, mas mesmo assim o pandas adicionou os **índices** (0 a 3) e o **tipo de dados** (int64) da nossa coluna.\n",
    "Algo interessante das _Series_ é que podemos criá-las definindo o seu nome, seus índices e qual será o seu tipo de dados:"
   ]
  },
  {
   "cell_type": "code",
   "execution_count": 7,
   "id": "4ea8d1b5-eb4e-49d4-a026-8d9f9e286aa4",
   "metadata": {},
   "outputs": [
    {
     "data": {
      "text/plain": [
       "Ano de 2020    194950\n",
       "Ano de 2021    424110\n",
       "Ano de 2022     74800\n",
       "Ano de 2023     11320\n",
       "Name: obitos_por_covid, dtype: int32"
      ]
     },
     "execution_count": 7,
     "metadata": {},
     "output_type": "execute_result"
    }
   ],
   "source": [
    "covid_series = pd.Series([194950, 424110, 74800, 11320], \n",
    "    index=['Ano de 2020', 'Ano de 2021', 'Ano de 2022', 'Ano de 2023'], \n",
    "    name='obitos_por_covid', \n",
    "    dtype='int32'\n",
    ")\n",
    "covid_series"
   ]
  },
  {
   "cell_type": "markdown",
   "id": "ba78b369-5c3a-453f-9b81-70fd4759938e",
   "metadata": {},
   "source": [
    "No exemplo acima, optamos por índices que são strings. Nós poderíamos ter adotado índices inteiros, por exemplo: `[2020, 2021, 2022, 2023]`. \n",
    "\n",
    "O código abaixo mostra como obter essas propriedades das _Series_:"
   ]
  },
  {
   "cell_type": "code",
   "execution_count": 8,
   "id": "f0e88aed-219f-44bd-bd1e-76a6a8c44c39",
   "metadata": {},
   "outputs": [
    {
     "name": "stdout",
     "output_type": "stream",
     "text": [
      "Índices:  Index(['Ano de 2020', 'Ano de 2021', 'Ano de 2022', 'Ano de 2023'], dtype='object')\n",
      "Nome:  obitos_por_covid\n",
      "Tipo:  int32\n"
     ]
    }
   ],
   "source": [
    "print('Índices: ', covid_series.index)\n",
    "print('Nome: ', covid_series.name)\n",
    "print('Tipo: ', covid_series.dtype)"
   ]
  },
  {
   "cell_type": "code",
   "execution_count": 9,
   "id": "1307d316-44d4-4adb-a25a-9a83be4327bb",
   "metadata": {},
   "outputs": [
    {
     "data": {
      "text/plain": [
       "{'Ano de 2020': 194950,\n",
       " 'Ano de 2021': 424110,\n",
       " 'Ano de 2022': 74800,\n",
       " 'Ano de 2023': 11320}"
      ]
     },
     "execution_count": 9,
     "metadata": {},
     "output_type": "execute_result"
    }
   ],
   "source": [
    "covid_series.to_dict()"
   ]
  },
  {
   "cell_type": "markdown",
   "id": "a27cec72-8945-4173-bf2d-27a050398ec3",
   "metadata": {},
   "source": [
    "Também podemos criar _Series_ através de dicionários, assim as chaves e os valores do dicionário serão, respectivamente, os índices e os valores da coluna:"
   ]
  },
  {
   "cell_type": "code",
   "execution_count": 10,
   "id": "23b98330-0f3e-4450-b796-d2e29122513b",
   "metadata": {},
   "outputs": [
    {
     "data": {
      "text/plain": [
       "Ano de 2020    194950\n",
       "Ano de 2021    424110\n",
       "Ano de 2022     74800\n",
       "Ano de 2023     11320\n",
       "dtype: int64"
      ]
     },
     "execution_count": 10,
     "metadata": {},
     "output_type": "execute_result"
    }
   ],
   "source": [
    "dict_series = pd.Series({'Ano de 2020': 194950, 'Ano de 2021': 424110, 'Ano de 2022': 74800, 'Ano de 2023': 11320})\n",
    "dict_series"
   ]
  },
  {
   "cell_type": "code",
   "execution_count": 11,
   "id": "4ea9d667-7191-4ba6-ab45-896f182d3d67",
   "metadata": {},
   "outputs": [
    {
     "data": {
      "text/plain": [
       "Ano de 2020    194950\n",
       "Ano de 2021    424110\n",
       "Ano de 2022     74800\n",
       "Ano de 2023     11320\n",
       "Name: Mortes por covid, dtype: int64"
      ]
     },
     "execution_count": 11,
     "metadata": {},
     "output_type": "execute_result"
    }
   ],
   "source": [
    "# Dando um nome a uma Series já criada: \n",
    "dict_series.name = 'Mortes por covid'\n",
    "dict_series"
   ]
  },
  {
   "cell_type": "markdown",
   "id": "75af05a9-854c-4d57-a0dd-72dff63354eb",
   "metadata": {},
   "source": [
    "### Series: acessando elementos"
   ]
  },
  {
   "cell_type": "markdown",
   "id": "ed1ea2da-095d-4562-8b76-323ae2d80e09",
   "metadata": {},
   "source": [
    "A forma mais simples de acessar um elemento de uma _Series_ é informando seu índice:"
   ]
  },
  {
   "cell_type": "code",
   "execution_count": 12,
   "id": "b372a399-ae4b-44dc-abe5-f3b309082bfc",
   "metadata": {},
   "outputs": [
    {
     "name": "stdout",
     "output_type": "stream",
     "text": [
      "<class 'numpy.int32'>\n"
     ]
    },
    {
     "data": {
      "text/plain": [
       "424110"
      ]
     },
     "execution_count": 12,
     "metadata": {},
     "output_type": "execute_result"
    }
   ],
   "source": [
    "# Pega um elemento da série:\n",
    "n_obitos = covid_series['Ano de 2021']\n",
    "\n",
    "# Mostra o tipo do elemento: \n",
    "print(type(n_obitos))\n",
    "\n",
    "# Mostra o valor do elemento:\n",
    "n_obitos"
   ]
  },
  {
   "cell_type": "markdown",
   "id": "db2c5bcc-c6f6-461d-bfb7-fd0ec5963f55",
   "metadata": {},
   "source": [
    "Você pode selecionar vários elementos passando uma lista de índices para a _Series_. Nesse caso, a _Series_ retorna uma **slice** (fatia), isto é, um pedaço da _Series_ original: "
   ]
  },
  {
   "cell_type": "code",
   "execution_count": 13,
   "id": "886bbf7b-c82f-401e-86c4-e874834b1538",
   "metadata": {},
   "outputs": [
    {
     "data": {
      "text/plain": [
       "Ano de 2023     11320\n",
       "Ano de 2021    424110\n",
       "Name: obitos_por_covid, dtype: int32"
      ]
     },
     "execution_count": 13,
     "metadata": {},
     "output_type": "execute_result"
    }
   ],
   "source": [
    "covid_series[['Ano de 2023', 'Ano de 2021']]"
   ]
  },
  {
   "cell_type": "markdown",
   "id": "7e55f445-da5d-484f-9e11-c894b25e16e5",
   "metadata": {},
   "source": [
    "### Series: Métodos\n",
    "\n",
    "O grande poder das Series estão em seus mais de 300 métodos. Como não podemos explicar todos aqui, vamos focar nos mais importantes. Mas lembre-se: para qualquer coisa que você queira fazer com uma série (selecionar elementos, transformá-los, etc.) é muito provável que exista um método para isso. Pesquise na [documentação](https://pandas.pydata.org/docs/), no [Google](http://www.google.com), [Stack Overflow](https://stackoverflow.com/) ou pergunte ao [ChatGPT](https://chat.openai.com/)."
   ]
  },
  {
   "cell_type": "markdown",
   "id": "a9004553-f2ea-452d-8aa9-add9762099f2",
   "metadata": {},
   "source": [
    "Para exemplificar alguns métodos, vamos carregar dados sobre o desmatamento anual da floresta amazônica brasileira, \n",
    "obtidos por imagens de satélite do Instituto Nacional de Pesquisas Espaciais (INPE) aqui: <http://terrabrasilis.dpi.inpe.br/app/dashboard/deforestation/biomes/legal_amazon/rates>."
   ]
  },
  {
   "cell_type": "code",
   "execution_count": 39,
   "id": "0ec72ee8-626c-4ca9-8ebd-85ca114aab5e",
   "metadata": {},
   "outputs": [],
   "source": [
    "# Carrega Series com área desmatada na Amazônia, em quilômetros quadrados, em cada ano:\n",
    "desmatamento = pd.read_csv('../90_dados/desmatamento_INPE/terrabrasilis_legal_amazon_16_12_2023.csv', index_col=0)['area_km2']"
   ]
  },
  {
   "cell_type": "markdown",
   "id": "61bc63af-ffb8-4d4d-a778-d2bf8003dce0",
   "metadata": {},
   "source": [
    "#### Series: Selecionando elementos"
   ]
  },
  {
   "cell_type": "markdown",
   "id": "50d208b5-2a5f-42cb-9636-dbdd3b86b78f",
   "metadata": {},
   "source": [
    "Podemos selecionar o começo e o final da série com os métodos `head` e `tail`:"
   ]
  },
  {
   "cell_type": "code",
   "execution_count": 42,
   "id": "27ae90ee-291e-4308-ab17-1a6c499e76a1",
   "metadata": {},
   "outputs": [
    {
     "data": {
      "text/plain": [
       "ano\n",
       "1988    21050.0\n",
       "1989    17770.0\n",
       "1990    13730.0\n",
       "1991    11030.0\n",
       "1992    13786.0\n",
       "Name: area_km2, dtype: float64"
      ]
     },
     "execution_count": 42,
     "metadata": {},
     "output_type": "execute_result"
    }
   ],
   "source": [
    "desmatamento.head()"
   ]
  },
  {
   "cell_type": "code",
   "execution_count": 43,
   "id": "557a78e0-d9fa-48e7-b45c-e15e93e054f2",
   "metadata": {},
   "outputs": [
    {
     "data": {
      "text/plain": [
       "ano\n",
       "2017     6947.0\n",
       "2018     7536.0\n",
       "2019    10129.0\n",
       "2020    10851.0\n",
       "2021    13038.0\n",
       "2022    11594.0\n",
       "2023     9001.0\n",
       "Name: area_km2, dtype: float64"
      ]
     },
     "execution_count": 43,
     "metadata": {},
     "output_type": "execute_result"
    }
   ],
   "source": [
    "desmatamento.tail(7)"
   ]
  },
  {
   "cell_type": "markdown",
   "id": "48b00237-4d28-4418-b23e-5977d203b915",
   "metadata": {},
   "source": [
    "Podemos selecionar elementos a partir da sua posição na Series com o método `iloc`. Esse método funciona com a mesma lógica que a seleção de elementos de uma lista de Python."
   ]
  },
  {
   "cell_type": "code",
   "execution_count": 46,
   "id": "f340725e-ce37-4adf-be1b-c3a1cacc8f19",
   "metadata": {},
   "outputs": [
    {
     "data": {
      "text/plain": [
       "ano\n",
       "1993    14896.0\n",
       "1994    14896.0\n",
       "1995    29059.0\n",
       "Name: area_km2, dtype: float64"
      ]
     },
     "execution_count": 46,
     "metadata": {},
     "output_type": "execute_result"
    }
   ],
   "source": [
    "desmatamento.iloc[5:8]"
   ]
  },
  {
   "cell_type": "markdown",
   "id": "5f9a3ba6-307c-44b9-a13c-10a90a2a6931",
   "metadata": {},
   "source": [
    "Também podemos selecionar elementos de uma Series a partir de seus índices. Para isso utilizamos o método `loc`. Vamos selecionar os anos anteriores ao lançamento do [Plano de Ação para Prevenção e Controle do Desmatamento na Amazônia Legal](https://www.gov.br/mma/pt-br/assuntos/prevencao-e-controle-do-desmatamento/amazonia-ppcdam-1) (PPCDAm), feito em 2004. Note que, quando utilizamos a seleção por índice (ou seja, o método `loc`), o final da seleção é incluído:"
   ]
  },
  {
   "cell_type": "code",
   "execution_count": 52,
   "id": "bff4c31e-63c0-41e1-9c86-396f4484a197",
   "metadata": {},
   "outputs": [
    {
     "data": {
      "text/plain": [
       "ano\n",
       "1988    21050.0\n",
       "1989    17770.0\n",
       "1990    13730.0\n",
       "1991    11030.0\n",
       "1992    13786.0\n",
       "1993    14896.0\n",
       "1994    14896.0\n",
       "1995    29059.0\n",
       "1996    18161.0\n",
       "1997    13227.0\n",
       "1998    17383.0\n",
       "1999    17259.0\n",
       "2000    18226.0\n",
       "2001    18165.0\n",
       "2002    21650.0\n",
       "2003    25396.0\n",
       "Name: area_km2, dtype: float64"
      ]
     },
     "execution_count": 52,
     "metadata": {},
     "output_type": "execute_result"
    }
   ],
   "source": [
    "desmatamento.loc[1988:2003]"
   ]
  },
  {
   "cell_type": "markdown",
   "id": "91dc1c18-707a-459e-afdb-670bc9821597",
   "metadata": {},
   "source": [
    "Vemos que, do início do programa PRODES do INPE (de coleta de dados sobre o desmatamento) até antes do PPCDAm, cerca de 13 mil $\\mathrm{km^2}$ ou mais de floresta eram derrubados por ano, com grande variação de ano a ano. No ano de 2003, esse número chegou a mais de 25 mil $\\mathrm{km^2}$.\n",
    "\n",
    "Vamos selecionar os 7 primeiros anos do programa PPCDAm a partir de uma lista de índices:"
   ]
  },
  {
   "cell_type": "code",
   "execution_count": 53,
   "id": "2cbbbb97-774b-4c6a-a8f3-b11d8a4e7fea",
   "metadata": {},
   "outputs": [
    {
     "data": {
      "text/plain": [
       "ano\n",
       "2004    27772.0\n",
       "2005    19014.0\n",
       "2006    14286.0\n",
       "2007    11651.0\n",
       "2008    12911.0\n",
       "2009     7464.0\n",
       "2010     7000.0\n",
       "Name: area_km2, dtype: float64"
      ]
     },
     "execution_count": 53,
     "metadata": {},
     "output_type": "execute_result"
    }
   ],
   "source": [
    "desmatamento.loc[[2004, 2005, 2006, 2007, 2008, 2009, 2010]]"
   ]
  },
  {
   "cell_type": "markdown",
   "id": "57e710d4-ddca-4cf1-89cb-9e02b5de714c",
   "metadata": {},
   "source": [
    "Vemos que, após a implementação do PPCDAm, houve uma queda grande no ritmo do desmatamento."
   ]
  },
  {
   "cell_type": "markdown",
   "id": "4b3aa023-75cc-4393-8aef-4cf944c6e85c",
   "metadata": {},
   "source": [
    "O método `loc` também funciona com uma lista booleana que informa se o elemento naquela posição deve ser selecionado. Nesse caso, o tamanho da lista precisa ser igual ao da Series:"
   ]
  },
  {
   "cell_type": "code",
   "execution_count": 62,
   "id": "3a548eff-74fe-4193-b60a-b370c922d038",
   "metadata": {},
   "outputs": [],
   "source": [
    "# Lista que diz se cada elemento da Series `desmatamento` pertence ao 1o governo da Dilma Rouseff:\n",
    "gov_dilma1 = [False, False, False, False, False, False, False, False, False, False, False, False, \n",
    "              False, False, False, False, False, False, False, False, False, False, False, True, \n",
    "              True, True, True, False, False, False, False, False, False, False, False, False]\n",
    "assert len(gov_dilma1) == len(desmatamento)"
   ]
  },
  {
   "cell_type": "code",
   "execution_count": 63,
   "id": "588b6444-3a23-44a1-935b-780c84006029",
   "metadata": {},
   "outputs": [
    {
     "data": {
      "text/plain": [
       "ano\n",
       "2011    6418.0\n",
       "2012    4571.0\n",
       "2013    5891.0\n",
       "2014    5012.0\n",
       "Name: area_km2, dtype: float64"
      ]
     },
     "execution_count": 63,
     "metadata": {},
     "output_type": "execute_result"
    }
   ],
   "source": [
    "desmatamento.loc[gov_dilma1]"
   ]
  },
  {
   "cell_type": "markdown",
   "id": "03c113f6-fea5-4977-b8ca-3092c6c026ba",
   "metadata": {},
   "source": [
    "A vantagem dessa estratégia é que podemos selecionar elementos da lista a partir de critérios. \n",
    "Por exemplo, vamos criar uma nova Series que diz se o desmatamento ficou abaixo de 10 mil $\\mathrm{km^2}$ ou não:"
   ]
  },
  {
   "cell_type": "code",
   "execution_count": 69,
   "id": "bd6b1396-8da1-469f-a3c1-4aec97f93fbf",
   "metadata": {},
   "outputs": [
    {
     "data": {
      "text/plain": [
       "ano\n",
       "1988    False\n",
       "1989    False\n",
       "1990    False\n",
       "1991    False\n",
       "1992    False\n",
       "1993    False\n",
       "1994    False\n",
       "1995    False\n",
       "1996    False\n",
       "1997    False\n",
       "1998    False\n",
       "1999    False\n",
       "2000    False\n",
       "2001    False\n",
       "2002    False\n",
       "2003    False\n",
       "2004    False\n",
       "2005    False\n",
       "2006    False\n",
       "2007    False\n",
       "2008    False\n",
       "2009     True\n",
       "2010     True\n",
       "2011     True\n",
       "2012     True\n",
       "2013     True\n",
       "2014     True\n",
       "2015     True\n",
       "2016     True\n",
       "2017     True\n",
       "2018     True\n",
       "2019    False\n",
       "2020    False\n",
       "2021    False\n",
       "2022    False\n",
       "2023     True\n",
       "Name: area_km2, dtype: bool"
      ]
     },
     "execution_count": 69,
     "metadata": {},
     "output_type": "execute_result"
    }
   ],
   "source": [
    "menosde10 = desmatamento < 10000\n",
    "menosde10"
   ]
  },
  {
   "cell_type": "markdown",
   "id": "b08e17e8-2230-4b08-9218-27efa3ce3a65",
   "metadata": {},
   "source": [
    "Agora podemos usar essa Series booleana para selecionar os elementos da Series `desmatamento`:"
   ]
  },
  {
   "cell_type": "code",
   "execution_count": 70,
   "id": "cbdf5873-a8b4-463c-a9ce-d2c0d306f99a",
   "metadata": {},
   "outputs": [
    {
     "data": {
      "text/plain": [
       "ano\n",
       "2009    7464.0\n",
       "2010    7000.0\n",
       "2011    6418.0\n",
       "2012    4571.0\n",
       "2013    5891.0\n",
       "2014    5012.0\n",
       "2015    6207.0\n",
       "2016    7893.0\n",
       "2017    6947.0\n",
       "2018    7536.0\n",
       "2023    9001.0\n",
       "Name: area_km2, dtype: float64"
      ]
     },
     "execution_count": 70,
     "metadata": {},
     "output_type": "execute_result"
    }
   ],
   "source": [
    "desmatamento[menosde10]"
   ]
  },
  {
   "cell_type": "markdown",
   "id": "fd1dc909-2c53-44c9-ab66-2199f3ceb2fc",
   "metadata": {},
   "source": [
    "Outro exemplo que utiliza a mesma estratégia: vamos selecionar o segundo governo da Dilma Rouseff, até o golpe de 2016:"
   ]
  },
  {
   "cell_type": "code",
   "execution_count": 71,
   "id": "7c385299-a8fd-4438-ab11-bc1510e0d8f9",
   "metadata": {},
   "outputs": [
    {
     "data": {
      "text/plain": [
       "ano\n",
       "2015    6207.0\n",
       "2016    7893.0\n",
       "Name: area_km2, dtype: float64"
      ]
     },
     "execution_count": 71,
     "metadata": {},
     "output_type": "execute_result"
    }
   ],
   "source": [
    "# Aqui combinamos duas condições com a operação lógica \"E\". Para isso usamos o símbolo \"&\":  \n",
    "desmatamento.loc[(desmatamento.index >= 2015) & (desmatamento.index <= 2016)]"
   ]
  },
  {
   "cell_type": "markdown",
   "id": "7311550f-333f-4883-a080-de06d27a9ae3",
   "metadata": {},
   "source": [
    "#### Series: medidas agregadas"
   ]
  },
  {
   "cell_type": "markdown",
   "id": "24e1ab89-b260-4554-a617-2c39b7fa9209",
   "metadata": {},
   "source": [
    "Para uma Series, podemos calcular coisas como a média, valor máximo, valor mínimo, mediana, desvio padrão, entre outros. Vamos demonstrar algumas dessas coisas:"
   ]
  },
  {
   "cell_type": "code",
   "execution_count": 72,
   "id": "c284578f-e2b6-4b81-a2e1-e9e48dd582aa",
   "metadata": {},
   "outputs": [
    {
     "data": {
      "text/plain": [
       "17855.25"
      ]
     },
     "execution_count": 72,
     "metadata": {},
     "output_type": "execute_result"
    }
   ],
   "source": [
    "# Média de desmatamento antes do PPCDAm:\n",
    "desmatamento.loc[:2003].mean()"
   ]
  },
  {
   "cell_type": "markdown",
   "id": "441912f3-d9d1-439b-a8e5-7df984fb88d4",
   "metadata": {},
   "source": [
    "Vamos comparar com a média do desmatamento durante o PPCDAm (até antes de sua revogação, pelo governo federal, em 2019):"
   ]
  },
  {
   "cell_type": "code",
   "execution_count": 75,
   "id": "e586ad13-634c-4746-aa06-19752bf51d21",
   "metadata": {},
   "outputs": [
    {
     "data": {
      "text/plain": [
       "10038.2"
      ]
     },
     "execution_count": 75,
     "metadata": {},
     "output_type": "execute_result"
    }
   ],
   "source": [
    "# Média do desmatamento durante o PPCDAm:\n",
    "desmatamento.loc[2004:2018].mean()"
   ]
  },
  {
   "cell_type": "markdown",
   "id": "518f7264-b5c8-42fc-8c73-9b902c2d1b93",
   "metadata": {},
   "source": [
    "Também podemos ver qual foi o maior ritmo de desmatamento de 1988 a 2023:"
   ]
  },
  {
   "cell_type": "code",
   "execution_count": 77,
   "id": "35b0f1a2-2210-46d5-996e-fd86d00c2462",
   "metadata": {},
   "outputs": [
    {
     "data": {
      "text/plain": [
       "29059.0"
      ]
     },
     "execution_count": 77,
     "metadata": {},
     "output_type": "execute_result"
    }
   ],
   "source": [
    "desmatamento.max()"
   ]
  },
  {
   "cell_type": "markdown",
   "id": "25d58c71-423a-4955-b1ae-54edaf7023d8",
   "metadata": {},
   "source": [
    "E podemos achar o mínimo e o ano no qual ele ocorreu:"
   ]
  },
  {
   "cell_type": "code",
   "execution_count": 78,
   "id": "ad816623-338a-433f-8573-1fe2a0a3743d",
   "metadata": {},
   "outputs": [
    {
     "data": {
      "text/plain": [
       "ano\n",
       "2012    4571.0\n",
       "Name: area_km2, dtype: float64"
      ]
     },
     "execution_count": 78,
     "metadata": {},
     "output_type": "execute_result"
    }
   ],
   "source": [
    "desmatamento.loc[desmatamento == desmatamento.min()]"
   ]
  },
  {
   "cell_type": "markdown",
   "id": "317b8964-5f2f-4f4f-ae63-2fedbb7de63b",
   "metadata": {},
   "source": [
    "#### Series: gráficos"
   ]
  },
  {
   "cell_type": "code",
   "execution_count": 81,
   "id": "b3a54627-3f85-43b9-ae22-9ae4c129de6d",
   "metadata": {},
   "outputs": [],
   "source": [
    "# Para poder formatar melhor os gráficos:\n",
    "import matplotlib.pyplot as pl"
   ]
  },
  {
   "cell_type": "markdown",
   "id": "71289283-d4ed-470b-8009-2a59366d250a",
   "metadata": {},
   "source": [
    "Fazer gráficos com os dados de uma Series é fácil:"
   ]
  },
  {
   "cell_type": "code",
   "execution_count": 83,
   "id": "c0779cc5-8378-46e0-92ac-084922fe0c3b",
   "metadata": {},
   "outputs": [
    {
     "data": {
      "image/png": "[encoded data removed]",
      "text/plain": [
       "<Figure size 640x480 with 1 Axes>"
      ]
     },
     "metadata": {},
     "output_type": "display_data"
    }
   ],
   "source": [
    "# Criando um gráfico a partir de uma Série. O eixo X contém os índices e o eixo Y contém os valores da Series:\n",
    "desmatamento.plot();"
   ]
  },
  {
   "cell_type": "markdown",
   "id": "1b45ad26-08e0-48e6-b3ad-496f103a38cc",
   "metadata": {},
   "source": [
    "Os gráficos podem ser formatados e anotados para melhorar o entendimento das pessoas:"
   ]
  },
  {
   "cell_type": "code",
   "execution_count": 123,
   "id": "6120d359-ec2a-4123-9eb6-400d0fa5e5ab",
   "metadata": {},
   "outputs": [
    {
     "data": {
      "image/png": "[encoded data removed]",
      "text/plain": [
       "<Figure size 1000x400 with 1 Axes>"
      ]
     },
     "metadata": {},
     "output_type": "display_data"
    }
   ],
   "source": [
    "# Criando uma figura com o pyplot, para poder definir seu tamanho:\n",
    "pl.figure(figsize=(10,4))\n",
    "\n",
    "# Criando um gráfico de barra, com algumas formatações:\n",
    "desmatamento.plot(kind='bar', width=0.8, color='darkseagreen', zorder=10);\n",
    "\n",
    "# MAIS FORMATAÇÃO:\n",
    "\n",
    "# Rótulo do eixo Y:\n",
    "pl.ylabel('Desmatamento anual [$\\mathrm{km^2}$]')\n",
    "\n",
    "# Faixa cinza marcando período importante:\n",
    "pl.axvspan(2003.5 - 1988, 2018.5 - 1988, color='0.8', alpha=0.3, zorder=5)\n",
    "\n",
    "# Texto explicando a faixa cinza:\n",
    "pl.text(2011 - 1988, 25000, 'Funcionamento do PPCDAm', ha='center', color='0.3')\n",
    "\n",
    "# Linha vertical vermelha marcando momento importante:\n",
    "pl.axvline(2018.5 - 1988, color='firebrick')\n",
    "pl.text(2018.6 - 1988, 11000, 'Revogação do PPCDAm', color='firebrick', rotation=90, fontsize=10)\n",
    "# Linha vertical vermelha marcando momento importante:\n",
    "pl.axvline(2022.5 - 1988, color='firebrick')\n",
    "pl.text(2022.6 - 1988, 11000, 'Reativação do PPCDAm', color='firebrick', rotation=90, fontsize=10)\n",
    "\n",
    "pl.show()"
   ]
  },
  {
   "cell_type": "markdown",
   "id": "f68c092c-6519-4e97-b034-4b3f64b2ecab",
   "metadata": {},
   "source": [
    "#### Series: alterando elementos"
   ]
  },
  {
   "cell_type": "markdown",
   "id": "baf5f453-036f-4bcb-994d-270a409c539c",
   "metadata": {},
   "source": [
    "## Dataframes"
   ]
  },
  {
   "cell_type": "code",
   "execution_count": null,
   "id": "99b9f82d-f72e-4a29-bc3a-0ad9c7e7e332",
   "metadata": {},
   "outputs": [],
   "source": []
  }
 ],
 "metadata": {
  "kernelspec": {
   "display_name": "Python 3 (ipykernel)",
   "language": "python",
   "name": "python3"
  },
  "language_info": {
   "codemirror_mode": {
    "name": "ipython",
    "version": 3
   },
   "file_extension": ".py",
   "mimetype": "text/x-python",
   "name": "python",
   "nbconvert_exporter": "python",
   "pygments_lexer": "ipython3",
   "version": "3.8.10"
  }
 },
 "nbformat": 4,
 "nbformat_minor": 5
}
