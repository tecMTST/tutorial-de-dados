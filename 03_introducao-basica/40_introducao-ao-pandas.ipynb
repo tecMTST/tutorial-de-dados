{
 "cells": [
  {
   "cell_type": "code",
   "execution_count": 1,
   "id": "003d73a7-105f-4941-b02d-49ee5b885a9b",
   "metadata": {
    "tags": []
   },
   "outputs": [
    {
     "data": {
      "text/html": [
       "<style>\n",
       "table {float:left}\n",
       "</style>\n"
      ],
      "text/plain": [
       "<IPython.core.display.HTML object>"
      ]
     },
     "metadata": {},
     "output_type": "display_data"
    }
   ],
   "source": [
    "%%html\n",
    "<style>\n",
    "table {float:left}\n",
    "</style>"
   ]
  },
  {
   "cell_type": "markdown",
   "id": "cf22f2f9-bcb9-4cca-828f-62c3086229c7",
   "metadata": {},
   "source": [
    "# Tutorial de Pandas\n",
    "\n",
    "Pandas é a biblioteca do Python mais utilizada para trabalhar com conjuntos de dados de diferentes fontes de dados. \\\n",
    "Neste tutorial aprenderemos a como utilizá-la para extrair, transformar e carregar diversos tipos de dados.\n",
    "\n",
    "Seu [código](https://github.com/pandas-dev/pandas) é aberto está hospedado no GitHub.  \\\n",
    "Sua [documentação](https://pandas.pydata.org/docs/), apesar de estar disponível somente em inglês, é bem completa e oferece tutoriais e exemplos."
   ]
  },
  {
   "cell_type": "markdown",
   "id": "4c848151-4a17-4ca5-91aa-d22925de5b2a",
   "metadata": {},
   "source": [
    "## Instalação\n",
    "\n",
    "Caso você não tenha instalado o Pandas junto com os demais pacotes de Python (conforme explicado no [README.md](../README.md)), você pode instalá-lo usando o comando `pip`:"
   ]
  },
  {
   "cell_type": "code",
   "execution_count": 2,
   "id": "adde7ea6-7af2-4843-b80f-6d2b3bf620d7",
   "metadata": {},
   "outputs": [
    {
     "name": "stdout",
     "output_type": "stream",
     "text": [
      "Requirement already satisfied: pandas in /home/hxavier/system/envs/ceweb/lib/python3.8/site-packages (1.5.1)\n",
      "Requirement already satisfied: python-dateutil>=2.8.1 in /home/hxavier/system/envs/ceweb/lib/python3.8/site-packages (from pandas) (2.8.2)\n",
      "Requirement already satisfied: numpy>=1.20.3; python_version < \"3.10\" in /home/hxavier/system/envs/ceweb/lib/python3.8/site-packages (from pandas) (1.23.5)\n",
      "Requirement already satisfied: pytz>=2020.1 in /home/hxavier/system/envs/ceweb/lib/python3.8/site-packages (from pandas) (2022.5)\n",
      "Requirement already satisfied: six>=1.5 in /home/hxavier/system/envs/ceweb/lib/python3.8/site-packages (from python-dateutil>=2.8.1->pandas) (1.16.0)\n",
      "Note: you may need to restart the kernel to use updated packages.\n"
     ]
    }
   ],
   "source": [
    "%pip install pandas  # NOTA: o símbolo de porcentagem no começo da linha permite você rodar comandos do terminal diretamente no notebook. "
   ]
  },
  {
   "cell_type": "markdown",
   "id": "ef78be66-3298-4581-b859-1ab9dd760aa5",
   "metadata": {},
   "source": [
    "Para verificar se o Pandas foi instalado corretamente, tente importar ela e imprimir sua versão."
   ]
  },
  {
   "cell_type": "code",
   "execution_count": 3,
   "id": "b25d7bb2-d870-4030-92ac-f4078c743f88",
   "metadata": {},
   "outputs": [
    {
     "data": {
      "text/plain": [
       "'1.5.1'"
      ]
     },
     "execution_count": 3,
     "metadata": {},
     "output_type": "execute_result"
    }
   ],
   "source": [
    "import pandas\n",
    "pandas.__version__"
   ]
  },
  {
   "cell_type": "markdown",
   "id": "97f16617-1f94-4408-b271-dd3b3ce32beb",
   "metadata": {},
   "source": [
    "Seguindo o padrão definido pelos desenvolvedores da biblioteca, utilizaremos as letras `pd` como pseudônimo para simplificar o nosso código. Assim, toda vez que quisermos utilizá-la não precisaremos escrever o nome dela completo (`pandas`), somente `pd`."
   ]
  },
  {
   "cell_type": "code",
   "execution_count": 4,
   "id": "d6cc131b-7a33-473e-9caa-2bd15076edfc",
   "metadata": {},
   "outputs": [
    {
     "data": {
      "text/plain": [
       "'1.5.1'"
      ]
     },
     "execution_count": 4,
     "metadata": {},
     "output_type": "execute_result"
    }
   ],
   "source": [
    "import pandas as pd\n",
    "pd.__version__"
   ]
  },
  {
   "cell_type": "markdown",
   "id": "f56f316f-2427-4dac-9f2d-0781212c6d3a",
   "metadata": {},
   "source": [
    "## Introdução\n",
    "\n",
    ">[Pandas](https://pandas.pydata.org/) é uma ferramenta de análise e manipulação de dados em código aberto rápida, poderosa, flexível e fácil de usar, \n",
    "construída sobre a linguagem de programação Python.\n",
    "\n",
    "\n",
    "Essa biblioteca possui duas principais estruturas de dados: a coluna (_Series_) e a tabela (_DataFrame_)."
   ]
  },
  {
   "cell_type": "markdown",
   "id": "74b1440a-e4a5-4894-95f3-8945719326ef",
   "metadata": {},
   "source": [
    "### Series: declaração\n",
    "Ao trabalhar com o Pandas, todas as colunas do seu conjunto de dados serão do tipo _Series_. Uma _Series_ também pode ser entendida como uma série ou sequência de dados. \n",
    "Você pode criar uma _Series_ na mão a partir de uma lista de Python. O exemplo abaixo mostra o número de mortes por Covid-19 a cada ano, de 2020 a 2023, de acordo com o \n",
    "[painel do Ministério da Saúde](https://infoms.saude.gov.br/extensions/covid-19_html/covid-19_html.html):"
   ]
  },
  {
   "cell_type": "code",
   "execution_count": 5,
   "id": "e50f2466-bd07-4e85-83de-9d56676a75c6",
   "metadata": {},
   "outputs": [
    {
     "data": {
      "text/plain": [
       "0    194950\n",
       "1    424110\n",
       "2     74800\n",
       "3     11320\n",
       "dtype: int64"
      ]
     },
     "execution_count": 5,
     "metadata": {},
     "output_type": "execute_result"
    }
   ],
   "source": [
    "pd.Series([194950, 424110, 74800, 11320])"
   ]
  },
  {
   "cell_type": "markdown",
   "id": "f342b950-bff1-4ce7-846e-4dcf13774f41",
   "metadata": {},
   "source": [
    "No caso acima, declaramos de forma muito simples a nossa série de dados, mas mesmo assim o pandas adicionou os **índices** (0 a 3) e o **tipo de dados** (int64) da nossa coluna.\n",
    "Algo interessante das _Series_ é que podemos criá-las definindo o seu nome, seus índices e qual será o seu tipo de dados:"
   ]
  },
  {
   "cell_type": "code",
   "execution_count": 6,
   "id": "4ea8d1b5-eb4e-49d4-a026-8d9f9e286aa4",
   "metadata": {},
   "outputs": [
    {
     "data": {
      "text/plain": [
       "Ano de 2020    194950\n",
       "Ano de 2021    424110\n",
       "Ano de 2022     74800\n",
       "Ano de 2023     11320\n",
       "Name: obitos_por_covid, dtype: int32"
      ]
     },
     "execution_count": 6,
     "metadata": {},
     "output_type": "execute_result"
    }
   ],
   "source": [
    "covid_series = pd.Series([194950, 424110, 74800, 11320], \n",
    "    index=['Ano de 2020', 'Ano de 2021', 'Ano de 2022', 'Ano de 2023'], \n",
    "    name='obitos_por_covid', \n",
    "    dtype='int32'\n",
    ")\n",
    "covid_series"
   ]
  },
  {
   "cell_type": "markdown",
   "id": "ba78b369-5c3a-453f-9b81-70fd4759938e",
   "metadata": {},
   "source": [
    "No exemplo acima, optamos por índices que são strings. Nós poderíamos ter adotado índices inteiros, por exemplo: `[2020, 2021, 2022, 2023]`. \n",
    "\n",
    "O código abaixo mostra como obter essas propriedades das _Series_:"
   ]
  },
  {
   "cell_type": "code",
   "execution_count": 7,
   "id": "f0e88aed-219f-44bd-bd1e-76a6a8c44c39",
   "metadata": {},
   "outputs": [
    {
     "name": "stdout",
     "output_type": "stream",
     "text": [
      "Índices:  Index(['Ano de 2020', 'Ano de 2021', 'Ano de 2022', 'Ano de 2023'], dtype='object')\n",
      "Nome:  obitos_por_covid\n",
      "Tipo:  int32\n"
     ]
    }
   ],
   "source": [
    "print('Índices: ', covid_series.index)\n",
    "print('Nome: ', covid_series.name)\n",
    "print('Tipo: ', covid_series.dtype)"
   ]
  },
  {
   "cell_type": "code",
   "execution_count": 8,
   "id": "1307d316-44d4-4adb-a25a-9a83be4327bb",
   "metadata": {},
   "outputs": [
    {
     "data": {
      "text/plain": [
       "{'Ano de 2020': 194950,\n",
       " 'Ano de 2021': 424110,\n",
       " 'Ano de 2022': 74800,\n",
       " 'Ano de 2023': 11320}"
      ]
     },
     "execution_count": 8,
     "metadata": {},
     "output_type": "execute_result"
    }
   ],
   "source": [
    "covid_series.to_dict()"
   ]
  },
  {
   "cell_type": "markdown",
   "id": "a27cec72-8945-4173-bf2d-27a050398ec3",
   "metadata": {},
   "source": [
    "Também podemos criar _Series_ através de dicionários, assim as chaves e os valores do dicionário serão, respectivamente, os índices e os valores da coluna:"
   ]
  },
  {
   "cell_type": "code",
   "execution_count": 9,
   "id": "23b98330-0f3e-4450-b796-d2e29122513b",
   "metadata": {},
   "outputs": [
    {
     "data": {
      "text/plain": [
       "Ano de 2020    194950\n",
       "Ano de 2021    424110\n",
       "Ano de 2022     74800\n",
       "Ano de 2023     11320\n",
       "dtype: int64"
      ]
     },
     "execution_count": 9,
     "metadata": {},
     "output_type": "execute_result"
    }
   ],
   "source": [
    "dict_series = pd.Series({'Ano de 2020': 194950, 'Ano de 2021': 424110, 'Ano de 2022': 74800, 'Ano de 2023': 11320})\n",
    "dict_series"
   ]
  },
  {
   "cell_type": "code",
   "execution_count": 10,
   "id": "4ea9d667-7191-4ba6-ab45-896f182d3d67",
   "metadata": {},
   "outputs": [
    {
     "data": {
      "text/plain": [
       "Ano de 2020    194950\n",
       "Ano de 2021    424110\n",
       "Ano de 2022     74800\n",
       "Ano de 2023     11320\n",
       "Name: Mortes por covid, dtype: int64"
      ]
     },
     "execution_count": 10,
     "metadata": {},
     "output_type": "execute_result"
    }
   ],
   "source": [
    "# Dando um nome a uma Series já criada: \n",
    "dict_series.name = 'Mortes por covid'\n",
    "dict_series"
   ]
  },
  {
   "cell_type": "markdown",
   "id": "75af05a9-854c-4d57-a0dd-72dff63354eb",
   "metadata": {},
   "source": [
    "### Series: acessando elementos"
   ]
  },
  {
   "cell_type": "markdown",
   "id": "ed1ea2da-095d-4562-8b76-323ae2d80e09",
   "metadata": {},
   "source": [
    "A forma mais simples de acessar um elemento de uma _Series_ é informando seu índice:"
   ]
  },
  {
   "cell_type": "code",
   "execution_count": 18,
   "id": "b372a399-ae4b-44dc-abe5-f3b309082bfc",
   "metadata": {},
   "outputs": [
    {
     "name": "stdout",
     "output_type": "stream",
     "text": [
      "<class 'numpy.int32'>\n"
     ]
    },
    {
     "data": {
      "text/plain": [
       "424110"
      ]
     },
     "execution_count": 18,
     "metadata": {},
     "output_type": "execute_result"
    }
   ],
   "source": [
    "# Pega um elemento da série:\n",
    "n_obitos = covid_series['Ano de 2021']\n",
    "\n",
    "# Mostra o tipo do elemento: \n",
    "print(type(n_obitos))\n",
    "\n",
    "# Mostra o valor do elemento:\n",
    "n_obitos"
   ]
  },
  {
   "cell_type": "markdown",
   "id": "db2c5bcc-c6f6-461d-bfb7-fd0ec5963f55",
   "metadata": {},
   "source": [
    "Você pode selecionar vários elementos passando uma lista de índices para a _Series_. Nesse caso, a _Series_ retorna uma **slice** (fatia), isto é, um pedaço da _Series_ original: "
   ]
  },
  {
   "cell_type": "code",
   "execution_count": 25,
   "id": "886bbf7b-c82f-401e-86c4-e874834b1538",
   "metadata": {},
   "outputs": [
    {
     "data": {
      "text/plain": [
       "Ano de 2023     11320\n",
       "Ano de 2021    424110\n",
       "Name: obitos_por_covid, dtype: int32"
      ]
     },
     "execution_count": 25,
     "metadata": {},
     "output_type": "execute_result"
    }
   ],
   "source": [
    "covid_series[['Ano de 2023', 'Ano de 2021']]"
   ]
  },
  {
   "cell_type": "markdown",
   "id": "8d8eb27f-1175-4966-b939-b305f33cbacf",
   "metadata": {},
   "source": [
    "### Series: atributos\n",
    "Além dos três atributos apresentados anteriormente, as Series possuem alguns outros que trazem ricas informações a respeito da coleção de dados.\n",
    "Abaixo estão todos os atributos suportados por essa estrutura de dados.\n",
    "\n",
    "|    | Atributos                          | Descrição                                                                                                                                                                          |\n",
    "|---:|:-----------------------------------|:-----------------------------------------------------------------------------------------------------------------------------------------------------------------------------------|\n",
    "| 0 | Series.index                       | O índice (rótulos do eixo) da Série.                                                                                                                                               |\n",
    "  1 | Series.array                       | O ExtensionArray dos dados que suportam esta Série ou Índice.                                                                                                                      |\n",
    "|  2 | Series.values                      | Retorna a Série como um ndarray ou algo semelhante a um ndarray, dependendo do dtype.                                                                                             |\n",
    "|  3 | Series.dtype                       | Retorna o objeto dtype dos dados subjacentes.                                                                                                                                     \n",
    "|  4 | Series.shape                       | Retorna uma tupla com a forma dos dados subjacentes.                                                                                                                             |\n",
    "|  5 | Series.nbytes                      | Retorna o número de bytes nos dados subjacentes.                                                                                                                                 |\n",
    "|  6 | Series.ndim                        | Número de dimensões dos dados subjacentes, por definição 1.                                                                                                                       |\n",
    "|  7 | Series.size                        | Retorna o número de elementos nos dados subjacentes.                                                                                                                             |\n",
    "|  8 | Series.T                           | Retorna a transposição, que é, por definição, a própria Série.                                                                                                                    |\n",
    "|  9 | Series.memory_usage([index, deep]) | Retorna o uso de memória da Série.                                                                                                                                                |\n",
    "| 10 | Series.hasnans                     | Retorna True se houver algum NaN (Not a Number).                                                                                                                                 |\n",
    "| 11 | Series.empty                       | Indicador se a Série/DataFrame está vazia.                                                                                                                                       |\n",
    "| 12 | Series.dtypes                      | Retorna o objeto dtype dos dados subjacentes.                                                                                                                                    |\n",
    "| 13 | Series.name                        | Retorna o nome da Série.                                                                                                                                                         |\n",
    "| 14 | Series.flags                       | Obtém as propriedades associadas a este objeto pandas.                                                                                                                           |\n",
    "| 15 | Series.set_flags(*[, copy, ...])   | Retorna um novo objeto com as flags atualizadas.                                                                                                                                  |                  |"
   ]
  },
  {
   "cell_type": "markdown",
   "id": "7e55f445-da5d-484f-9e11-c894b25e16e5",
   "metadata": {},
   "source": [
    "### Series: Métodos\n",
    "O grande poder das Series estão em seus mais de 300 métodos"
   ]
  },
  {
   "cell_type": "code",
   "execution_count": null,
   "id": "0ec72ee8-626c-4ca9-8ebd-85ca114aab5e",
   "metadata": {},
   "outputs": [],
   "source": []
  }
 ],
 "metadata": {
  "kernelspec": {
   "display_name": "Python 3 (ipykernel)",
   "language": "python",
   "name": "python3"
  },
  "language_info": {
   "codemirror_mode": {
    "name": "ipython",
    "version": 3
   },
   "file_extension": ".py",
   "mimetype": "text/x-python",
   "name": "python",
   "nbconvert_exporter": "python",
   "pygments_lexer": "ipython3",
   "version": "3.8.10"
  }
 },
 "nbformat": 4,
 "nbformat_minor": 5
}
