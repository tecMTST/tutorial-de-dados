{
 "cells": [
  {
   "cell_type": "markdown",
   "id": "1864d936-fc31-4800-b6ad-7695e2e24d59",
   "metadata": {},
   "source": [
    "# Índice dos Tutoriais de dados do Núcleo de Tecnologia"
   ]
  },
  {
   "cell_type": "markdown",
   "id": "13c022ea-5480-4c62-9f43-37aa02959ab8",
   "metadata": {},
   "source": [
    "## Ordem didática"
   ]
  },
  {
   "cell_type": "markdown",
   "id": "ad4aa65b-9147-4d9d-995f-12d916196c4c",
   "metadata": {},
   "source": [
    "Para fazer um estudo geral de análise de dados, recomendamos essa sequência:\n",
    "\n",
    "1. [Introdução ao Pandas](#) - Manipulação básica de bases de dados (_em construção_).\n",
    "2. [Distribuições](06_expectativa-de-vida/10_analise_exp-vida_distritos_municipio-SP.ipynb) - O conceito de distribuição de dados e sua análise.\n",
    "3. [Medidas de tendência central](06_expectativa-de-vida/15_medidas-de-tendencia-central.ipynb) - O que são, para quê servem e como se calcula a média, mediana e moda.\n",
    "4. [Transformação de bases de dados](#) - Junções (_joins_), agrupamentos e agregações (_em construção_).\n",
    "5. ...\n",
    "6. [Visualização de dados geoespaciais](06_expectativa-de-vida/17_visualizando-dados-geograficos.ipynb) - Usando o pacote Geopandas para criar mapas."
   ]
  },
  {
   "cell_type": "markdown",
   "id": "0cc3ae13-94df-4976-bf61-e64fbf7d07cf",
   "metadata": {},
   "source": [
    "## Lista por assunto"
   ]
  },
  {
   "cell_type": "markdown",
   "id": "4f2c43ba-4418-4319-a67b-96a1fafa5cf2",
   "metadata": {},
   "source": [
    "Se tiver interesse em um assunto específico, busque por ele aqui:\n",
    "\n",
    "* [Déficit Habitacional](#) - Conhecendo os dados sobre déficit habitacional no Brasil (_em construção_).\n",
    "* [Expectativa de vida](06_expectativa-de-vida/10_analise_exp-vida_distritos_municipio-SP.ipynb) - Como a expectativa de vida varia entre distritos da cidade de SP (_em construção_).\n",
    "* [Financiamento de campanhas eleitorais](#) - Quem são os financiadores privados, quem eles financiam e qual o efeito desse financiamento (_em construção_)."
   ]
  },
  {
   "cell_type": "markdown",
   "id": "49c83879-7aaf-4e47-95d4-3efb33e32c59",
   "metadata": {},
   "source": [
    "## Lista por conhecimento técnico"
   ]
  },
  {
   "cell_type": "markdown",
   "id": "0f8e3987-a320-45d6-9627-ab3e9432541c",
   "metadata": {},
   "source": [
    "Se quer aprender algum conceito técnico ou técnica de análise de dados, busque por eles aqui:\n",
    "\n",
    "* [CSV](80_material-complementar/05_o-que-eh-CSV.ipynb) - Arquivos _Comma Separated Values_.\n",
    "* [Distribuições](06_expectativa-de-vida/10_analise_exp-vida_distritos_municipio-SP.ipynb) - Distribuições, histogramas.\n",
    "* [Encoding](80_material-complementar/10_o-que-eh-encoding.ipynb) - Como um computador armazena e trabalha com textos.\n",
    "* [ETL](06_expectativa-de-vida/20_limpeza-tratamento-dados_mortalidade.ipynb) - _Extract, Treat and Load_ (carregamento e limpeza de dados, com boas práticas).\n",
    "* [Geoespaciais, dados](06_expectativa-de-vida/17_visualizando-dados-geograficos.ipynb) - Usando o pacote Geopandas para criar mapas a partir de dados georreferenciados.\n",
    "* [Gráficos](80_material-complementar/20_como_ler_graficos.ipynb) - Como lê-los.\n",
    "* [Medidas de tendência central](06_expectativa-de-vida/15_medidas-de-tendencia-central.ipynb) - Média, mediana e moda."
   ]
  },
  {
   "cell_type": "markdown",
   "id": "ae761056-fb9a-4750-9b71-33502f4f2eb8",
   "metadata": {},
   "source": [
    "## Lista por métodos de Python"
   ]
  },
  {
   "cell_type": "markdown",
   "id": "848ea3df-377b-4d22-a6b3-a50d7eae1479",
   "metadata": {},
   "source": [
    "Se quer aprender como usar algum método de Python, busque na lista abaixo, organizada por pacote:"
   ]
  },
  {
   "cell_type": "markdown",
   "id": "43027705-bbaf-4490-8a70-39c839459c73",
   "metadata": {},
   "source": [
    "### Geopandas"
   ]
  },
  {
   "cell_type": "markdown",
   "id": "4717b358-c058-44f8-90f7-6b40c34b4fd1",
   "metadata": {},
   "source": [
    "* [plot](06_expectativa-de-vida/17_visualizando-dados-geograficos.ipynb) - Criando visualizações de dados georreferenciados através de mapas."
   ]
  },
  {
   "cell_type": "markdown",
   "id": "836b66f8-6671-4ebf-8898-a831a41e46bf",
   "metadata": {},
   "source": [
    "### Pandas"
   ]
  },
  {
   "cell_type": "markdown",
   "id": "0a3b9f89-a134-4c37-8802-8dbb7e782d9c",
   "metadata": {},
   "source": [
    "* [concat](06_expectativa-de-vida/20_limpeza-tratamento-dados_mortalidade.ipynb) - Concatenando (empilhando) tabelas ou séries.\n",
    "* [multiply](06_expectativa-de-vida/10_analise_exp-vida_distritos_municipio-SP.ipynb) - Multiplicando tabela por uma série, coluna a coluna.\n",
    "* [read_csv](06_expectativa-de-vida/10_analise_exp-vida_distritos_municipio-SP.ipynb) - Uso básico.\n",
    "* [read_csv](06_expectativa-de-vida/20_limpeza-tratamento-dados_mortalidade.ipynb) - Uso avançado.\n",
    "* [sum](06_expectativa-de-vida/10_analise_exp-vida_distritos_municipio-SP.ipynb) - Somando valores em uma base de dados.\n"
   ]
  },
  {
   "cell_type": "markdown",
   "id": "4b92ebd8-83b2-40bf-8bd9-2b00a5cfd2c6",
   "metadata": {},
   "source": [
    "<center>\n",
    "    <img src=\"https://nucleodetecnologia.com.br/assets/img/novo-logo-tecnologia.svg?bl=tutorial-indice\" width=\"150\">\n",
    "</center>"
   ]
  }
 ],
 "metadata": {
  "kernelspec": {
   "display_name": "Python 3 (ipykernel)",
   "language": "python",
   "name": "python3"
  },
  "language_info": {
   "codemirror_mode": {
    "name": "ipython",
    "version": 3
   },
   "file_extension": ".py",
   "mimetype": "text/x-python",
   "name": "python",
   "nbconvert_exporter": "python",
   "pygments_lexer": "ipython3",
   "version": "3.8.10"
  }
 },
 "nbformat": 4,
 "nbformat_minor": 5
}
