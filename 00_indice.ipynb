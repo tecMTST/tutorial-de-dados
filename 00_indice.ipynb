{
 "cells": [
  {
   "cell_type": "markdown",
   "id": "1864d936-fc31-4800-b6ad-7695e2e24d59",
   "metadata": {},
   "source": [
    "# Índice dos Tutoriais de dados do Núcleo de Tecnologia"
   ]
  },
  {
   "cell_type": "markdown",
   "id": "13c022ea-5480-4c62-9f43-37aa02959ab8",
   "metadata": {},
   "source": [
    "## Ordem didática"
   ]
  },
  {
   "cell_type": "markdown",
   "id": "ad4aa65b-9147-4d9d-995f-12d916196c4c",
   "metadata": {},
   "source": [
    "Para fazer um estudo geral de análise de dados, recomendamos essa sequência:\n",
    "\n",
    "1. [Introdução ao Python](03_introducao-basica/10_introducao-ao-python.ipynb) - Introdução básica à linguagem de programação Python.\n",
    "2. [Introdução ao Pandas](03_introducao-basica/40_introducao-ao-pandas.ipynb) - Introdução ao pacote Pandas, de manipulação de bases de dados.\n",
    "4. [Distribuições](06_expectativa-de-vida/10_analise_idade_med-obitos_distritos_municipio-SP.ipynb) - O conceito de distribuição de dados e sua análise.\n",
    "5. [Medidas de tendência central](06_expectativa-de-vida/15_medidas-de-tendencia-central.ipynb) - O que são, para quê servem e como se calcula a média, mediana e moda.\n",
    "6. [Transformação de bases de dados](99_incompletos/doacoes-eleitorais/10_analise_doacoes_eleitorais.ipynb) - Junções (_joins_), agrupamentos e agregações (_em construção_).\n",
    "7. [Correção pela inflação](10_desigualdade_2017-2022/10_distribuicao-renda_2017-2022.ipynb) - Como descontar o efeito da inflação em comparações de valores de épocas diferentes. Também mostramos como carregar dados de planilhas de Excel.\n",
    "8. ...\n",
    "9. [Visualização de dados geoespaciais](06_expectativa-de-vida/17_visualizando-dados-geograficos.ipynb) - Usando o pacote Geopandas para criar mapas."
   ]
  },
  {
   "cell_type": "markdown",
   "id": "0cc3ae13-94df-4976-bf61-e64fbf7d07cf",
   "metadata": {},
   "source": [
    "## Lista por assunto"
   ]
  },
  {
   "cell_type": "markdown",
   "id": "4f2c43ba-4418-4319-a67b-96a1fafa5cf2",
   "metadata": {},
   "source": [
    "Se tiver interesse em um assunto específico, busque por ele aqui:\n",
    "\n",
    "* [Desigualdade econômica](10_desigualdade_2017-2022/10_distribuicao-renda_2017-2022.ipynb) - O aumento da desigualdade entre 2017 e 2022, verificado a partir de dados do Imposto de Renda da Pessoa Física (IRPF).\n",
    "* [Desmatamento da Amazônia](03_introducao-basica/40_introducao-ao-pandas.ipynb) - Visualização do ritmo de desmatamento da floresta amazônica, de 1988 a 2023.\n",
    "* [Expectativa de vida](06_expectativa-de-vida/10_analise_exp-vida_distritos_municipio-SP.ipynb) - Como a idade média ao morrer varia entre distritos da cidade de SP.\n",
    "* [Financiamento de campanhas eleitorais](99_incompletos/doacoes-eleitorais/10_analise_doacoes_eleitorais.ipynb) - Quem são os financiadores privados, quem eles financiam e qual o efeito desse financiamento (_em construção_).\n",
    "* [Óbitos na pandemia](03_introducao-basica/40_introducao-ao-pandas.ipynb) - Apenas listamos o número de mortos por Covid-19 nos anos de 2020 a 2023.\n",
    "* [Remuneração dos servidores federais](03_introducao-basica/40_introducao-ao-pandas.ipynb) - Evolução da remuneração média, de 1999 a 2020, por sexo e raça.\n",
    "* [Resultado das eleições](99_incompletos/doacoes-eleitorais/20_resultado_eleitoral.ipynb) - Como se calcula quem ganhou as eleições entre deputados federais (_em construção_)."
   ]
  },
  {
   "cell_type": "markdown",
   "id": "49c83879-7aaf-4e47-95d4-3efb33e32c59",
   "metadata": {},
   "source": [
    "## Lista por conhecimento técnico"
   ]
  },
  {
   "cell_type": "markdown",
   "id": "0f8e3987-a320-45d6-9627-ab3e9432541c",
   "metadata": {},
   "source": [
    "Se quer aprender algum conceito técnico ou técnica de análise de dados, busque por eles aqui:\n",
    "\n",
    "* [Correção pela inflação](10_desigualdade_2017-2022/10_distribuicao-renda_2017-2022.ipynb) - Como saber quanto algo do passado custaria hoje, ajustando o preço pela inflação. \n",
    "* [CSV](80_material-complementar/05_o-que-eh-CSV.ipynb) - Arquivos _Comma Separated Values_.\n",
    "* [Distribuições](06_expectativa-de-vida/10_analise_idade_med-obitos_distritos_municipio-SP.ipynb) - Distribuições, histogramas.\n",
    "* [Encoding](80_material-complementar/10_o-que-eh-encoding.ipynb) - Como um computador armazena e trabalha com textos.\n",
    "* [ETL](06_expectativa-de-vida/20_limpeza-tratamento-dados_mortalidade.ipynb) - _Extract, Treat and Load_ (carregamento e limpeza de dados, com boas práticas).\n",
    "* [Geoespaciais, dados](06_expectativa-de-vida/17_visualizando-dados-geograficos.ipynb) - Usando o pacote Geopandas para criar mapas a partir de dados georreferenciados.\n",
    "* [Gráficos](80_material-complementar/20_como_ler_graficos.ipynb) - Como lê-los.\n",
    "* [Medidas de tendência central](06_expectativa-de-vida/15_medidas-de-tendencia-central.ipynb) - Média, mediana e moda."
   ]
  },
  {
   "cell_type": "markdown",
   "id": "ae761056-fb9a-4750-9b71-33502f4f2eb8",
   "metadata": {},
   "source": [
    "## Lista por métodos de Python"
   ]
  },
  {
   "cell_type": "markdown",
   "id": "848ea3df-377b-4d22-a6b3-a50d7eae1479",
   "metadata": {},
   "source": [
    "Se quer aprender como usar algum método de Python, busque na lista abaixo, organizada por pacote:"
   ]
  },
  {
   "cell_type": "markdown",
   "id": "43027705-bbaf-4490-8a70-39c839459c73",
   "metadata": {},
   "source": [
    "### Geopandas"
   ]
  },
  {
   "cell_type": "markdown",
   "id": "4717b358-c058-44f8-90f7-6b40c34b4fd1",
   "metadata": {},
   "source": [
    "* [join](06_expectativa-de-vida/17_visualizando-dados-geograficos.ipynb) - Como fazer _joins_ no Geopandas (é igual a no Pandas).\n",
    "* [plot](06_expectativa-de-vida/17_visualizando-dados-geograficos.ipynb) - Criando visualizações de dados georreferenciados através de mapas.\n",
    "* [read_file](06_expectativa-de-vida/17_visualizando-dados-geograficos.ipynb) - Como carregar um arquivo _Shapefile_ no Geopandas."
   ]
  },
  {
   "cell_type": "markdown",
   "id": "a7656843-3d65-4412-88b4-b175b2e4fb65",
   "metadata": {},
   "source": [
    "### Matplotlib"
   ]
  },
  {
   "cell_type": "markdown",
   "id": "c3737255-6222-4666-9e62-8d9b3f43da2a",
   "metadata": {},
   "source": [
    "### Pandas"
   ]
  },
  {
   "cell_type": "markdown",
   "id": "0a3b9f89-a134-4c37-8802-8dbb7e782d9c",
   "metadata": {},
   "source": [
    "* [columns](03_introducao-basica/40_introducao-ao-pandas.ipynb) - Listando os nomes das colunas de um DataFrame.\n",
    "* [concat](06_expectativa-de-vida/20_limpeza-tratamento-dados_mortalidade.ipynb) - Concatenando (empilhando) tabelas ou séries.\n",
    "* [DataFrame](03_introducao-basica/40_introducao-ao-pandas.ipynb) - Estrutura que armazena tabelas.\n",
    "* [dtypes](03_introducao-basica/40_introducao-ao-pandas.ipynb) - Vendo os tipos de dados em colunas de um DataFrame.\n",
    "* [head](03_introducao-basica/40_introducao-ao-pandas.ipynb) - Selecionando as primeiras linhas de uma tabela ou série.\n",
    "* [iloc](03_introducao-basica/40_introducao-ao-pandas.ipynb) - Selecionando linhas e colunas através da sua posição.\n",
    "* [index](03_introducao-basica/40_introducao-ao-pandas.ipynb) - Os índices (identificadores de linhas) de séries ou tabelas.\n",
    "* [isin](03_introducao-basica/40_introducao-ao-pandas.ipynb) - Verifica se elemento da Série aparece num conjunto especificado.\n",
    "* [join](03_introducao-basica/40_introducao-ao-pandas.ipynb) - Junção de tabelas por chave comum (_básico_).\n",
    "* [loc](03_introducao-basica/40_introducao-ao-pandas.ipynb) - Selecionando linhas e colunas pelos nomes ou por listas booleanas.\n",
    "* [max](03_introducao-basica/40_introducao-ao-pandas.ipynb) - Calculando o máximo de séries ou colunas.\n",
    "* [mean](03_introducao-basica/40_introducao-ao-pandas.ipynb) - Calculando a média de séries ou colunas.\n",
    "* [min](03_introducao-basica/40_introducao-ao-pandas.ipynb) - Calculando o mínimo de séries ou colunas.\n",
    "* [multiply](06_expectativa-de-vida/10_analise_idade_med-obitos_distritos_municipio-SP.ipynb) - Multiplicando tabela por uma série, coluna a coluna.\n",
    "* [pivot](03_introducao-basica/40_introducao-ao-pandas.ipynb) - Reorganização de linhas e colunas de uma tabela (_básico_).\n",
    "* [plot](03_introducao-basica/40_introducao-ao-pandas.ipynb) - Criando gráficos diretamente de Series ou DataFrames.\n",
    "* [query](03_introducao-basica/40_introducao-ao-pandas.ipynb) - Selecionando linhas de um DataFrame a partir de critérios.\n",
    "* [read_csv](06_expectativa-de-vida/10_analise_idade_med-obitos_distritos_municipio-SP.ipynb) - Carregando arquivos CSV para um DataFrame, uso básico.\n",
    "* [read_csv](06_expectativa-de-vida/20_limpeza-tratamento-dados_mortalidade.ipynb) - Carregando arquivos CSV para um DataFrame, uso avançado.\n",
    "* [read_excel](10_desigualdade_2017-2022/10_distribuicao-renda_2017-2022.ipynb) - Carregando arquivos de Excel para um DataFrame.\n",
    "* [repeat](10_desigualdade_2017-2022/10_distribuicao-renda_2017-2022.ipynb) - Repetir elementos de uma Series um certo número de vezes.\n",
    "* [set_index](03_introducao-basica/40_introducao-ao-pandas.ipynb) - Definindo o índice de um DataFrame a partir de uma coluna.\n",
    "* [Series](03_introducao-basica/40_introducao-ao-pandas.ipynb) - Uma série (sequência) de dados.\n",
    "* [shape](03_introducao-basica/40_introducao-ao-pandas.ipynb) - Obtendo o número de linhas e colunas de um DataFrame.\n",
    "* [sort_values](03_introducao-basica/40_introducao-ao-pandas.ipynb) - Ordenando linhas (ou colunas) de um DataFrame.\n",
    "* [sum](06_expectativa-de-vida/10_analise_idade_med-obitos_distritos_municipio-SP.ipynb) - Somando valores em uma base de dados.\n",
    "* [tail](03_introducao-basica/40_introducao-ao-pandas.ipynb) - Selecionando as últimas linhas de uma tabela ou série."
   ]
  },
  {
   "cell_type": "markdown",
   "id": "4b92ebd8-83b2-40bf-8bd9-2b00a5cfd2c6",
   "metadata": {},
   "source": [
    "<center>\n",
    "    <img src=\"https://nucleodetecnologia.com.br/assets/img/novo-logo-tecnologia.svg?bl=tutorial-indice\" width=\"150\">\n",
    "</center>"
   ]
  }
 ],
 "metadata": {
  "kernelspec": {
   "display_name": "Python 3 (ipykernel)",
   "language": "python",
   "name": "python3"
  },
  "language_info": {
   "codemirror_mode": {
    "name": "ipython",
    "version": 3
   },
   "file_extension": ".py",
   "mimetype": "text/x-python",
   "name": "python",
   "nbconvert_exporter": "python",
   "pygments_lexer": "ipython3",
   "version": "3.8.10"
  }
 },
 "nbformat": 4,
 "nbformat_minor": 5
}
