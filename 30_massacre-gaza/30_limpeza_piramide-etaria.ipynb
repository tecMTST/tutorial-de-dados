{
 "cells": [
  {
   "cell_type": "markdown",
   "id": "6c1591fe-cd85-406b-81a7-0599d302961b",
   "metadata": {},
   "source": [
    "# Mortos no massacre de Gaza - 2023-2024\n",
    "## Preparação de dado auxiliar - Pirâmide etária"
   ]
  },
  {
   "cell_type": "markdown",
   "id": "c9d39e02-3f11-430a-839d-ab858fb57e4a",
   "metadata": {},
   "source": [
    "Esse notebook faz parte do tutorial sobre as mortes de palestinos no ataque de Israel a Gaza após o ataque do Hamas\n",
    "em 7 de outubro de 2023.\n",
    "\n",
    "Neste notebook, realizamos a limpeza de um dado auxiliar para a análise: a pirâmide etária de Gaza, isto é,\n",
    "a distribuição da população por sexo e idade. A pirâmide utilizada foi extraída do \n",
    "[CIA World Factbook](https://pt.wikipedia.org/wiki/The_World_Factbook), o livro \n",
    "de fatos sobre o mundo da CIA, disponível aqui: <https://www.cia.gov/the-world-factbook/countries/gaza-strip/> \n",
    "\n",
    "A análise principal deste tutorial está no notebook: [10_ajuste-modelo_MCMC_mortos-gaza.ipynb](10_ajuste-modelo_MCMC_mortos-gaza.ipynb)"
   ]
  },
  {
   "cell_type": "code",
   "execution_count": 1,
   "id": "2868b1cc-8729-43ff-b901-0e13a508f170",
   "metadata": {},
   "outputs": [],
   "source": [
    "import pandas as pd\n",
    "import matplotlib.pyplot as pl\n",
    "import sys\n",
    "\n",
    "sys.path.append(\"../80_material-complementar/\")\n",
    "import auxiliar.graficos as ag"
   ]
  },
  {
   "cell_type": "markdown",
   "id": "8e319696-cab4-49da-b32a-e61bf86fc676",
   "metadata": {},
   "source": [
    "## Obtenção dos dados"
   ]
  },
  {
   "cell_type": "markdown",
   "id": "006cc5d5-abf5-47f2-be94-dcf97a70c63c",
   "metadata": {},
   "source": [
    "No [site da CIA](https://www.cia.gov/the-world-factbook/countries/gaza-strip/), encontramos apenas o seguinte gráfico:"
   ]
  },
  {
   "cell_type": "markdown",
   "id": "294b409b-8b5f-4614-b17e-07a69fd274bf",
   "metadata": {},
   "source": [
    "![alt text](imagens/piramide_etaria_cia-factbook_2023.jpeg \"Gráfico da pirâmide etária de Gaza, em 2023, segundo a CIA\")"
   ]
  },
  {
   "cell_type": "markdown",
   "id": "d1b871ff-2c45-4d30-90c5-6bdcfbdde92b",
   "metadata": {},
   "source": [
    "Para extrair os dados desse gráfico, utilizamos a ferramenta online [Web Plot Digitizer](https://apps.automeris.io/wpd/). Os dados extraídos serão tratados na seção seguinte."
   ]
  },
  {
   "cell_type": "markdown",
   "id": "43f388d2-5f35-4c8e-8d1a-6aaed1d20df1",
   "metadata": {},
   "source": [
    "## Carregando os dados extraídos do gráfico"
   ]
  },
  {
   "cell_type": "code",
   "execution_count": 2,
   "id": "d3215154-a0ad-4c61-8163-084995ed7c71",
   "metadata": {},
   "outputs": [],
   "source": [
    "# Carrega os dados:\n",
    "homens_df   = pd.read_csv('dados/brutos/piramide-etaria_homens_scrap.csv', names=['barra', 'n_pessoas'])\n",
    "mulheres_df = pd.read_csv('dados/brutos/piramide-etaria_mulheres_scrap.csv', names=['barra', 'n_pessoas'])"
   ]
  },
  {
   "cell_type": "markdown",
   "id": "255e6b9f-ef10-465c-b3b0-aeb3af0856c2",
   "metadata": {},
   "source": [
    "## Interpola e organiza os dados"
   ]
  },
  {
   "cell_type": "markdown",
   "id": "b336275f-ac21-4756-9b37-aff20bc5c745",
   "metadata": {},
   "source": [
    "Os dados obtidos são para _bins_ (intervalos) de 5 anos. Precisamos dos dados para todas as idades, ano a ano. Para isso, vamos assumir que o valor do bin, dividido por 5 anos\n",
    "(isto é a média do número de pessoas por idade), \n",
    "representa bem o número de pessoas na idade central do bin. Em seguida, vamos [interpolar](https://pt.wikipedia.org/wiki/Interpola%C3%A7%C3%A3o) os dados, isto é, inferir os valores\n",
    "faltantes a partir dos seus vizinhos conhecidos. Um exemplo simples: sabendo que temos 20.270 pessoas com 22 anos e 17.331 com 27, podemos estimar quantas pessoas tem 23, 24, 25 e 26 anos.\n",
    "Esse tipo de abordagem funciona bem para funções razoavelmente suaves, sem variações abruptas."
   ]
  },
  {
   "cell_type": "code",
   "execution_count": 3,
   "id": "e236c908-ef4c-4931-a34c-cedeb5a8a1bd",
   "metadata": {},
   "outputs": [],
   "source": [
    "def interpola(df):\n",
    "    \"\"\"\n",
    "    Função para estimar valores ano a ano a partir de dados para intervalos\n",
    "    de 5 anos.\n",
    "    \"\"\"\n",
    "\n",
    "    # Extrai número do bin:\n",
    "    df['i'] = df['barra'].str.replace('Bar', '', regex=False).astype(int)\n",
    "\n",
    "    # Calcula a idade central do bin:\n",
    "    df['idade_central'] = (df['i'] + 1) * 5 - 3\n",
    "\n",
    "    # Introduz todas as idades na tabela (e não apenas a central):\n",
    "    interp_df = pd.DataFrame(index=range(0,93))\n",
    "    interp_df = interp_df.join(df.set_index('idade_central')['n_pessoas'])\n",
    "\n",
    "    # Interpola os dados para cada idade:\n",
    "    interp_series = interp_df['n_pessoas'].interpolate(method='quadratic')\n",
    "    # Extrapola para zero anos a população obtida entre 0 a 4:\n",
    "    interp_series = interp_series.bfill()\n",
    "\n",
    "    # Divide todos os valores pelo número de anos aos quais eles se referiam:\n",
    "    interp_series = interp_series / 5\n",
    "    \n",
    "    return interp_series"
   ]
  },
  {
   "cell_type": "code",
   "execution_count": 4,
   "id": "2b7e06c9-23d2-4adb-b74a-ddd421e2ba9a",
   "metadata": {},
   "outputs": [],
   "source": [
    "# Vamos criar uma tabela com os dados interpolados:\n",
    "final_df = pd.DataFrame()\n",
    "final_df['n_homens']   = interpola(homens_df)\n",
    "final_df['n_mulheres'] = interpola(mulheres_df)\n",
    "final_df.index.name = 'idade'"
   ]
  },
  {
   "cell_type": "code",
   "execution_count": 5,
   "id": "de2884d0-5678-40c4-b8ef-42559861c173",
   "metadata": {},
   "outputs": [
    {
     "data": {
      "text/html": [
       "<div>\n",
       "<style scoped>\n",
       "    .dataframe tbody tr th:only-of-type {\n",
       "        vertical-align: middle;\n",
       "    }\n",
       "\n",
       "    .dataframe tbody tr th {\n",
       "        vertical-align: top;\n",
       "    }\n",
       "\n",
       "    .dataframe thead th {\n",
       "        text-align: right;\n",
       "    }\n",
       "</style>\n",
       "<table border=\"1\" class=\"dataframe\">\n",
       "  <thead>\n",
       "    <tr style=\"text-align: right;\">\n",
       "      <th></th>\n",
       "      <th>n_homens</th>\n",
       "      <th>n_mulheres</th>\n",
       "    </tr>\n",
       "    <tr>\n",
       "      <th>idade</th>\n",
       "      <th></th>\n",
       "      <th></th>\n",
       "    </tr>\n",
       "  </thead>\n",
       "  <tbody>\n",
       "    <tr>\n",
       "      <th>0</th>\n",
       "      <td>27751.277683</td>\n",
       "      <td>26097.972973</td>\n",
       "    </tr>\n",
       "    <tr>\n",
       "      <th>1</th>\n",
       "      <td>27751.277683</td>\n",
       "      <td>26097.972973</td>\n",
       "    </tr>\n",
       "    <tr>\n",
       "      <th>2</th>\n",
       "      <td>27751.277683</td>\n",
       "      <td>26097.972973</td>\n",
       "    </tr>\n",
       "    <tr>\n",
       "      <th>3</th>\n",
       "      <td>27801.809114</td>\n",
       "      <td>26149.603557</td>\n",
       "    </tr>\n",
       "    <tr>\n",
       "      <th>4</th>\n",
       "      <td>27842.407027</td>\n",
       "      <td>26195.689120</td>\n",
       "    </tr>\n",
       "    <tr>\n",
       "      <th>...</th>\n",
       "      <td>...</td>\n",
       "      <td>...</td>\n",
       "    </tr>\n",
       "    <tr>\n",
       "      <th>88</th>\n",
       "      <td>218.689670</td>\n",
       "      <td>304.048901</td>\n",
       "    </tr>\n",
       "    <tr>\n",
       "      <th>89</th>\n",
       "      <td>179.823261</td>\n",
       "      <td>253.370648</td>\n",
       "    </tr>\n",
       "    <tr>\n",
       "      <th>90</th>\n",
       "      <td>138.937401</td>\n",
       "      <td>202.694973</td>\n",
       "    </tr>\n",
       "    <tr>\n",
       "      <th>91</th>\n",
       "      <td>96.032089</td>\n",
       "      <td>152.021874</td>\n",
       "    </tr>\n",
       "    <tr>\n",
       "      <th>92</th>\n",
       "      <td>51.107325</td>\n",
       "      <td>101.351351</td>\n",
       "    </tr>\n",
       "  </tbody>\n",
       "</table>\n",
       "<p>93 rows × 2 columns</p>\n",
       "</div>"
      ],
      "text/plain": [
       "           n_homens    n_mulheres\n",
       "idade                            \n",
       "0      27751.277683  26097.972973\n",
       "1      27751.277683  26097.972973\n",
       "2      27751.277683  26097.972973\n",
       "3      27801.809114  26149.603557\n",
       "4      27842.407027  26195.689120\n",
       "...             ...           ...\n",
       "88       218.689670    304.048901\n",
       "89       179.823261    253.370648\n",
       "90       138.937401    202.694973\n",
       "91        96.032089    152.021874\n",
       "92        51.107325    101.351351\n",
       "\n",
       "[93 rows x 2 columns]"
      ]
     },
     "execution_count": 5,
     "metadata": {},
     "output_type": "execute_result"
    }
   ],
   "source": [
    "# A cara dos dados:\n",
    "final_df"
   ]
  },
  {
   "cell_type": "markdown",
   "id": "e20c5789-922b-4878-923d-6de2da3f8abb",
   "metadata": {},
   "source": [
    "Vamos exportar os resultados para serem usados na análise principal:"
   ]
  },
  {
   "cell_type": "code",
   "execution_count": 6,
   "id": "45cba1ba-7f5a-42bf-a149-1bc662fff7d4",
   "metadata": {},
   "outputs": [],
   "source": [
    "# Exporta os dados:\n",
    "#final_df.to_csv('dados/piramide-etaria_gaza_2023.csv', float_format='%.2f')"
   ]
  },
  {
   "cell_type": "markdown",
   "id": "d8b080ea-d364-40c6-9745-1deab4690e3b",
   "metadata": {},
   "source": [
    "## Testes"
   ]
  },
  {
   "cell_type": "code",
   "execution_count": 19,
   "id": "7922ff3b-064d-4fb1-bb8e-eb0e37701cb3",
   "metadata": {},
   "outputs": [
    {
     "data": {
      "image/png": "[encoded data removed]",
      "text/plain": [
       "<Figure size 640x480 with 1 Axes>"
      ]
     },
     "metadata": {},
     "output_type": "display_data"
    }
   ],
   "source": [
    "(final_df['n_homens'] / final_df['n_mulheres']).plot()\n",
    "pl.axhline(1, color='k', linewidth=1)\n",
    "pl.show()"
   ]
  },
  {
   "cell_type": "code",
   "execution_count": null,
   "id": "463f963e-7af0-40e5-89d0-f50e7f1df3ea",
   "metadata": {},
   "outputs": [],
   "source": []
  }
 ],
 "metadata": {
  "kernelspec": {
   "display_name": "Python 3 (ipykernel)",
   "language": "python",
   "name": "python3"
  },
  "language_info": {
   "codemirror_mode": {
    "name": "ipython",
    "version": 3
   },
   "file_extension": ".py",
   "mimetype": "text/x-python",
   "name": "python",
   "nbconvert_exporter": "python",
   "pygments_lexer": "ipython3",
   "version": "3.8.10"
  }
 },
 "nbformat": 4,
 "nbformat_minor": 5
}
