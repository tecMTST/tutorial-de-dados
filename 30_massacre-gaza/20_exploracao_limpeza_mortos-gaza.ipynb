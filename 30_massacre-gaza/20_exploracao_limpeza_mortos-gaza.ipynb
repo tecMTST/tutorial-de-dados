{
 "cells": [
  {
   "cell_type": "markdown",
   "id": "eee5b072-6a85-4660-a57e-42bb9ba5fb00",
   "metadata": {},
   "source": [
    "# Mortos no massacre de Gaza - 2023-2024\n",
    "## Exploração e limpeza dos dados"
   ]
  },
  {
   "cell_type": "markdown",
   "id": "d7f627e4-c800-49a7-91d5-0018a26f1711",
   "metadata": {},
   "source": [
    "Esse notebook faz parte do tutorial sobre as mortes de palestinos no ataque de Israel a Gaza após o ataque do Hamas\n",
    "em 7 de outubro de 2023.\n",
    "\n",
    "Neste notebook, realizamos a exploração e tratamento dos dados antes de prosseguir ao ajuste de um modelo estatístico \n",
    "utilizando o método de Monte Carlo com Cadeias de Markov ([MCMC](https://en.wikipedia.org/wiki/Markov_chain_Monte_Carlo), \n",
    "em inglês). O ajuste é feito no notebook:\n",
    "[10_ajuste-modelo_MCMC_mortos-gaza.ipynb](10_ajuste-modelo_MCMC_mortos-gaza.ipynb)"
   ]
  },
  {
   "cell_type": "code",
   "execution_count": 48,
   "id": "c89cc00d-f215-47ca-8efa-d178b3b320da",
   "metadata": {},
   "outputs": [],
   "source": [
    "import pandas as pd\n",
    "import matplotlib.pyplot as pl\n",
    "import numpy as np\n",
    "import sys\n",
    "import json\n",
    "\n",
    "sys.path.append(\"../80_material-complementar/\")\n",
    "import auxiliar.dataframes as ad\n",
    "import auxiliar.graficos as ag"
   ]
  },
  {
   "cell_type": "markdown",
   "id": "e1956ce5-46f9-4ecf-aaba-4879996e5aa2",
   "metadata": {},
   "source": [
    "## Carrega os dados"
   ]
  },
  {
   "cell_type": "markdown",
   "id": "b5546616-fd86-42d6-8d24-501e2f414331",
   "metadata": {},
   "source": [
    "O site [techforpalestine.org](https://data.techforpalestine.org) disponibiliza três tipos de dados a respeito das mortes em Gaza. Vamos carregá-los aqui:"
   ]
  },
  {
   "cell_type": "markdown",
   "id": "93116936-0214-4e52-9be7-ba1f0c86e908",
   "metadata": {},
   "source": [
    "**Resumo geral** - Apenas o total de mortes acumulado (pegamos os dados no dia 21/02/2024): "
   ]
  },
  {
   "cell_type": "code",
   "execution_count": 2,
   "id": "356a47fe-6820-4be8-8443-e885f0162d99",
   "metadata": {},
   "outputs": [
    {
     "data": {
      "text/plain": [
       "{'killedInGazaListCount': 14140,\n",
       " 'massacres': 2554,\n",
       " 'killed': {'total': 29313,\n",
       "  'children': 12660,\n",
       "  'women': 8570,\n",
       "  'civilDefence': 46,\n",
       "  'press': 130,\n",
       "  'medical': 340},\n",
       " 'injured': {'total': 69333},\n",
       " 'dailyReportCount': 138,\n",
       " 'lastDailyUpdate': '2024-02-21'}"
      ]
     },
     "execution_count": 2,
     "metadata": {},
     "output_type": "execute_result"
    }
   ],
   "source": [
    "# Resumo geral (total de mortos) por categoria (e.g. mulheres, crianças):\n",
    "with open('dados/summary.json', 'r') as f:\n",
    "    summary_data = json.load(f)\n",
    "summary_data"
   ]
  },
  {
   "cell_type": "markdown",
   "id": "fbede2d4-10d8-426d-88d5-caf73e158bbb",
   "metadata": {},
   "source": [
    "Segundo o site, os dados acima são uma agregação dos dados a seguir.\n",
    "\n",
    "**Contagem diária** - Quantidade de pessoas mortas por dia, dentro de algumas categorias. Segundo o site, as fontes dessas informações são três:\n",
    "* [Gaza's Ministry of Health Telegram channel](https://t.me/s/MOHMediaGaza)\n",
    "* [Gaza's Government Media Office Telegram channel](https://t.me/s/mediagovps)\n",
    "* Sem registro (não ficou claro da onde esses dados vem)"
   ]
  },
  {
   "cell_type": "code",
   "execution_count": 3,
   "id": "a990b6eb-2830-47dc-ae2f-9181ac02b049",
   "metadata": {},
   "outputs": [
    {
     "data": {
      "text/html": [
       "<div>\n",
       "<style scoped>\n",
       "    .dataframe tbody tr th:only-of-type {\n",
       "        vertical-align: middle;\n",
       "    }\n",
       "\n",
       "    .dataframe tbody tr th {\n",
       "        vertical-align: top;\n",
       "    }\n",
       "\n",
       "    .dataframe thead th {\n",
       "        text-align: right;\n",
       "    }\n",
       "</style>\n",
       "<table border=\"1\" class=\"dataframe\">\n",
       "  <thead>\n",
       "    <tr style=\"text-align: right;\">\n",
       "      <th></th>\n",
       "      <th>report_date</th>\n",
       "      <th>report_source</th>\n",
       "      <th>ext_massacres_cum</th>\n",
       "      <th>killed</th>\n",
       "      <th>killed_cum</th>\n",
       "      <th>ext_killed</th>\n",
       "      <th>ext_killed_cum</th>\n",
       "      <th>ext_killed_children_cum</th>\n",
       "      <th>ext_killed_women_cum</th>\n",
       "      <th>injured_cum</th>\n",
       "      <th>ext_injured</th>\n",
       "      <th>ext_injured_cum</th>\n",
       "      <th>ext_civdef_killed_cum</th>\n",
       "      <th>med_killed_cum</th>\n",
       "      <th>ext_med_killed_cum</th>\n",
       "      <th>press_killed_cum</th>\n",
       "      <th>ext_press_killed_cum</th>\n",
       "    </tr>\n",
       "  </thead>\n",
       "  <tbody>\n",
       "    <tr>\n",
       "      <th>0</th>\n",
       "      <td>2023-10-07</td>\n",
       "      <td>mohtel</td>\n",
       "      <td>0</td>\n",
       "      <td>232</td>\n",
       "      <td>232</td>\n",
       "      <td>232</td>\n",
       "      <td>232</td>\n",
       "      <td>0</td>\n",
       "      <td>0</td>\n",
       "      <td>1610</td>\n",
       "      <td>1610</td>\n",
       "      <td>1610</td>\n",
       "      <td>0.0</td>\n",
       "      <td>6.0</td>\n",
       "      <td>6.0</td>\n",
       "      <td>1.0</td>\n",
       "      <td>1.0</td>\n",
       "    </tr>\n",
       "    <tr>\n",
       "      <th>1</th>\n",
       "      <td>2023-10-08</td>\n",
       "      <td>mohtel</td>\n",
       "      <td>0</td>\n",
       "      <td>138</td>\n",
       "      <td>370</td>\n",
       "      <td>138</td>\n",
       "      <td>370</td>\n",
       "      <td>78</td>\n",
       "      <td>41</td>\n",
       "      <td>1788</td>\n",
       "      <td>178</td>\n",
       "      <td>1788</td>\n",
       "      <td>0.0</td>\n",
       "      <td>6.0</td>\n",
       "      <td>1.0</td>\n",
       "      <td>1.0</td>\n",
       "      <td>NaN</td>\n",
       "    </tr>\n",
       "    <tr>\n",
       "      <th>2</th>\n",
       "      <td>2023-10-09</td>\n",
       "      <td>mohtel</td>\n",
       "      <td>8</td>\n",
       "      <td>190</td>\n",
       "      <td>560</td>\n",
       "      <td>190</td>\n",
       "      <td>560</td>\n",
       "      <td>91</td>\n",
       "      <td>61</td>\n",
       "      <td>2271</td>\n",
       "      <td>483</td>\n",
       "      <td>2271</td>\n",
       "      <td>0.0</td>\n",
       "      <td>6.0</td>\n",
       "      <td>6.0</td>\n",
       "      <td>3.0</td>\n",
       "      <td>3.0</td>\n",
       "    </tr>\n",
       "    <tr>\n",
       "      <th>3</th>\n",
       "      <td>2023-10-10</td>\n",
       "      <td>mohtel</td>\n",
       "      <td>8</td>\n",
       "      <td>340</td>\n",
       "      <td>900</td>\n",
       "      <td>340</td>\n",
       "      <td>900</td>\n",
       "      <td>260</td>\n",
       "      <td>230</td>\n",
       "      <td>4000</td>\n",
       "      <td>1729</td>\n",
       "      <td>4000</td>\n",
       "      <td>0.0</td>\n",
       "      <td>6.0</td>\n",
       "      <td>7.0</td>\n",
       "      <td>7.0</td>\n",
       "      <td>NaN</td>\n",
       "    </tr>\n",
       "    <tr>\n",
       "      <th>4</th>\n",
       "      <td>2023-10-11</td>\n",
       "      <td>gmotel</td>\n",
       "      <td>23</td>\n",
       "      <td>200</td>\n",
       "      <td>1100</td>\n",
       "      <td>200</td>\n",
       "      <td>1100</td>\n",
       "      <td>398</td>\n",
       "      <td>230</td>\n",
       "      <td>5184</td>\n",
       "      <td>1184</td>\n",
       "      <td>5184</td>\n",
       "      <td>0.0</td>\n",
       "      <td>10.0</td>\n",
       "      <td>10.0</td>\n",
       "      <td>7.0</td>\n",
       "      <td>NaN</td>\n",
       "    </tr>\n",
       "  </tbody>\n",
       "</table>\n",
       "</div>"
      ],
      "text/plain": [
       "  report_date report_source  ext_massacres_cum  killed  killed_cum   \n",
       "0  2023-10-07        mohtel                  0     232         232  \\\n",
       "1  2023-10-08        mohtel                  0     138         370   \n",
       "2  2023-10-09        mohtel                  8     190         560   \n",
       "3  2023-10-10        mohtel                  8     340         900   \n",
       "4  2023-10-11        gmotel                 23     200        1100   \n",
       "\n",
       "   ext_killed  ext_killed_cum  ext_killed_children_cum  ext_killed_women_cum   \n",
       "0         232             232                        0                     0  \\\n",
       "1         138             370                       78                    41   \n",
       "2         190             560                       91                    61   \n",
       "3         340             900                      260                   230   \n",
       "4         200            1100                      398                   230   \n",
       "\n",
       "   injured_cum  ext_injured  ext_injured_cum  ext_civdef_killed_cum   \n",
       "0         1610         1610             1610                    0.0  \\\n",
       "1         1788          178             1788                    0.0   \n",
       "2         2271          483             2271                    0.0   \n",
       "3         4000         1729             4000                    0.0   \n",
       "4         5184         1184             5184                    0.0   \n",
       "\n",
       "   med_killed_cum  ext_med_killed_cum  press_killed_cum  ext_press_killed_cum  \n",
       "0             6.0                 6.0               1.0                   1.0  \n",
       "1             6.0                 1.0               1.0                   NaN  \n",
       "2             6.0                 6.0               3.0                   3.0  \n",
       "3             6.0                 7.0               7.0                   NaN  \n",
       "4            10.0                10.0               7.0                   NaN  "
      ]
     },
     "execution_count": 3,
     "metadata": {},
     "output_type": "execute_result"
    }
   ],
   "source": [
    "# Contagem de mortos por data e categoria:\n",
    "casual_df = pd.read_csv('dados/casualties_daily.csv')\n",
    "casual_df['report_date'] = pd.to_datetime(casual_df['report_date'])\n",
    "casual_df.head()"
   ]
  },
  {
   "cell_type": "markdown",
   "id": "5ce72d49-bd4c-4d16-a319-cd39122b066f",
   "metadata": {},
   "source": [
    "**Pessoas mortas identificadas em hospitais** - Lista com os nomes, data de nascimento, idade e sexo de pessoas mortas e identificadas em hospitais. Segundo o site, a última atualização foi em 5 de janeiro para hospitais que reportam do Sul de Gaza e 2 de novembro para os que reportam do Norte. Além disso, para essa lista:\n",
    "* As pessoas desaparecidas e os corpos dos que ficaram presos sob os escombros não foram contabilizados.\n",
    "* As pessoas não identificadas que chegaram aos hospitais não foram contabilizadas.\n",
    "* As pessoas não identificadas cujos corpos foram entregues pela ocupação israelense não foram contabilizadas.\n",
    "* Não foram contabilizados aqueles que foram enterrados por suas famílias sem passar pelos hospitais.\n",
    "* As vítimas em Gaza e no Norte de Gaza não foram contabilizadas após a data de encerramento do sistema de informação em Novembro."
   ]
  },
  {
   "cell_type": "code",
   "execution_count": 4,
   "id": "3a601b14-a142-4658-afa3-69d746bb150c",
   "metadata": {},
   "outputs": [],
   "source": [
    "# Pessoas mortas e identificadas em hospitais:\n",
    "nomes_df = pd.read_json('dados/killed-in-gaza.json')"
   ]
  },
  {
   "cell_type": "markdown",
   "id": "1094dd8b-89ef-4506-aa89-09ba6eab01c6",
   "metadata": {},
   "source": [
    "Por ser mais detalhado e ter sido produzido pelos hospitais, esses dados são potencialmente mais confiáveis. "
   ]
  },
  {
   "cell_type": "markdown",
   "id": "8e56b167-8c8f-430b-9423-c592383c8d57",
   "metadata": {},
   "source": [
    "### Confiabilidade dos dados"
   ]
  },
  {
   "cell_type": "markdown",
   "id": "53b3876f-5775-4c2b-9138-d4b2869abd1a",
   "metadata": {},
   "source": [
    "Segundo a reportagem \n",
    "[Quantos palestinos morreram em Gaza? Explicação do número de mortos](https://www.reuters.com/world/middle-east/how-many-palestinians-have-died-gaza-war-how-will-counting-continue-2023-12-06/)\n",
    "da Agência Reuters:\n",
    "\n",
    "\"Antes da guerra, Gaza tinha estatísticas populacionais robustas e sistemas de informação de saúde que funcionavam bem, melhores do que na maioria dos países do Oriente Médio, disseram especialistas em saúde pública à Reuters. Oona Campbell, professora da Escola de Higiene e Medicina Tropical de Londres, disse que as autoridades de saúde palestinas têm credibilidade de longa data com os seus métodos de manutenção de estatísticas de base e de rastreio de mortes em geral, não apenas durante tempos de guerra. As agências da ONU confiam nos números.\n",
    "\n",
    "'As capacidades de recolha de dados palestinos são profissionais e muitos funcionários do ministério foram treinados nos Estados Unidos. Eles trabalham arduamente para garantir a fidelidade estatística', disse Nathaniel Raymond, da Universidade de Yale.\n",
    "\n",
    "Em 26 de outubro, o Ministério da Saúde da AP publicou um relatório de 212 páginas com os nomes, idades e números de identificação de 7.028 palestinos registrados como mortos em ataques aéreos – depois que o presidente dos EUA, Joe Biden, lançou dúvidas sobre o número de vítimas.\n",
    "Campbell e dois outros acadêmicos [analisaram os dados do relatório para a revista médica Lancet](https://www.thelancet.com/journals/lancet/article/PIIS0140-6736(23)02640-5/fulltext), \n",
    "em 26 de novembro, e concluíram que não havia razão óbvia para duvidar de sua validade. 'Consideramos implausível que estes padrões (de taxas de mortalidade) surjam da fabricação de dados', \n",
    "escreveram os pesquisadores.\" [Segundo a revista médica The Lancet](https://www.thelancet.com/journals/lancet/article/PIIS0140-6736(24)01169-3/fulltext), uma série de outras verificações ratificaram que os dados são confiáveis."
   ]
  },
  {
   "cell_type": "markdown",
   "id": "2b1a44e3-3fb4-4ec7-b7ff-12c0124313e8",
   "metadata": {},
   "source": [
    "### Significado dos dados"
   ]
  },
  {
   "cell_type": "markdown",
   "id": "4f1a7269-a262-45cb-b95f-4a2330edd61a",
   "metadata": {},
   "source": [
    "#### Significado do termo \"criança\""
   ]
  },
  {
   "cell_type": "markdown",
   "id": "404aeaf0-772f-430d-aad4-b6edbc364370",
   "metadata": {},
   "source": [
    "* Segundo a [mesma reportagem da Reuters](https://www.reuters.com/world/middle-east/how-many-palestinians-have-died-gaza-war-how-will-counting-continue-2023-12-06/), \n",
    "crianças são pessoas com menos de 18 anos."
   ]
  },
  {
   "cell_type": "markdown",
   "id": "62c43154-938f-48fb-aa8b-f442ae43dc26",
   "metadata": {},
   "source": [
    "## Exploração dos dados"
   ]
  },
  {
   "cell_type": "markdown",
   "id": "76a5faa5-dcc8-4325-9021-2ba0945b7b42",
   "metadata": {},
   "source": [
    "Vamos realizar uma série de verificações nos dados (especialmente da lista com nomes, idade e sexo dos mortos) para entender seu significado e para limpar eventuais erros."
   ]
  },
  {
   "cell_type": "markdown",
   "id": "74ece3b3-eab3-4e32-b056-444e1ac20132",
   "metadata": {
    "tags": []
   },
   "source": [
    "### Pessoas repetidas"
   ]
  },
  {
   "cell_type": "markdown",
   "id": "a501968b-6d25-45cc-953e-54e85f184f09",
   "metadata": {},
   "source": [
    "Vamos verificar se a coluna `id` identifica uma pessoa morta de maneira única:"
   ]
  },
  {
   "cell_type": "code",
   "execution_count": 5,
   "id": "37c9d77f-2705-4f65-b89e-f40e65af46db",
   "metadata": {},
   "outputs": [
    {
     "data": {
      "text/plain": [
       "True"
      ]
     },
     "execution_count": 5,
     "metadata": {},
     "output_type": "execute_result"
    }
   ],
   "source": [
    "# Quantidade de IDs:\n",
    "nomes_df['id'].nunique() == len(nomes_df)"
   ]
  },
  {
   "cell_type": "markdown",
   "id": "10f612e1-d9a8-4fd0-bb67-de3b27e2a189",
   "metadata": {},
   "source": [
    "Vamos buscar por pessoas com nome, sexo e data de nascimento (_date of birth_) `dob` repetidos, que podem indicar duplicidade nos dados:"
   ]
  },
  {
   "cell_type": "code",
   "execution_count": 6,
   "id": "f4a7c83d-60d2-4da9-93d4-2bc924782541",
   "metadata": {},
   "outputs": [
    {
     "data": {
      "text/html": [
       "<div>\n",
       "<style scoped>\n",
       "    .dataframe tbody tr th:only-of-type {\n",
       "        vertical-align: middle;\n",
       "    }\n",
       "\n",
       "    .dataframe tbody tr th {\n",
       "        vertical-align: top;\n",
       "    }\n",
       "\n",
       "    .dataframe thead th {\n",
       "        text-align: right;\n",
       "    }\n",
       "</style>\n",
       "<table border=\"1\" class=\"dataframe\">\n",
       "  <thead>\n",
       "    <tr style=\"text-align: right;\">\n",
       "      <th></th>\n",
       "      <th>name</th>\n",
       "      <th>age</th>\n",
       "      <th>dob</th>\n",
       "      <th>sex</th>\n",
       "      <th>en_name</th>\n",
       "      <th>repetições</th>\n",
       "    </tr>\n",
       "  </thead>\n",
       "  <tbody>\n",
       "    <tr>\n",
       "      <th>0</th>\n",
       "      <td>مجهول</td>\n",
       "      <td>24</td>\n",
       "      <td>2000-01-01</td>\n",
       "      <td>m</td>\n",
       "      <td>?</td>\n",
       "      <td>13</td>\n",
       "    </tr>\n",
       "    <tr>\n",
       "      <th>1</th>\n",
       "      <td>مجهول مجهول مجهول مجهول</td>\n",
       "      <td>-1</td>\n",
       "      <td></td>\n",
       "      <td>m</td>\n",
       "      <td>? ? ? ?</td>\n",
       "      <td>5</td>\n",
       "    </tr>\n",
       "    <tr>\n",
       "      <th>2</th>\n",
       "      <td>مؤمن كمال احمد سعيد</td>\n",
       "      <td>-1</td>\n",
       "      <td></td>\n",
       "      <td>m</td>\n",
       "      <td>Momin Kamal Ahmed Saeed</td>\n",
       "      <td>2</td>\n",
       "    </tr>\n",
       "    <tr>\n",
       "      <th>3</th>\n",
       "      <td>احمد ابراهيم  بدوان</td>\n",
       "      <td>-1</td>\n",
       "      <td></td>\n",
       "      <td>m</td>\n",
       "      <td>Ahmed Ibrahem Badwan</td>\n",
       "      <td>2</td>\n",
       "    </tr>\n",
       "    <tr>\n",
       "      <th>4</th>\n",
       "      <td>هاله سليمان محمد النباهين</td>\n",
       "      <td>24</td>\n",
       "      <td>2000-01-01</td>\n",
       "      <td>f</td>\n",
       "      <td>Halah Suleiman Muhammad al-Nabahin</td>\n",
       "      <td>2</td>\n",
       "    </tr>\n",
       "    <tr>\n",
       "      <th>5</th>\n",
       "      <td>كريم محمد نبيل القشاوي</td>\n",
       "      <td>25</td>\n",
       "      <td>1999-01-01</td>\n",
       "      <td>m</td>\n",
       "      <td>Kariam Muhammad Nabil Aliqshaoi</td>\n",
       "      <td>2</td>\n",
       "    </tr>\n",
       "    <tr>\n",
       "      <th>6</th>\n",
       "      <td>محمد رامي احمد اسماعيل</td>\n",
       "      <td>-1</td>\n",
       "      <td></td>\n",
       "      <td>m</td>\n",
       "      <td>Muhammad Rami Ahmed Ismail</td>\n",
       "      <td>2</td>\n",
       "    </tr>\n",
       "    <tr>\n",
       "      <th>7</th>\n",
       "      <td>احمد محمد حسن الزعزوع</td>\n",
       "      <td>-1</td>\n",
       "      <td></td>\n",
       "      <td>m</td>\n",
       "      <td>Ahmed Muhammad Hassan Alzazoa</td>\n",
       "      <td>2</td>\n",
       "    </tr>\n",
       "    <tr>\n",
       "      <th>8</th>\n",
       "      <td>حنين عوني فايز الاشقر</td>\n",
       "      <td>26</td>\n",
       "      <td>1997-07-13</td>\n",
       "      <td>f</td>\n",
       "      <td>Hanin Aoni Fayez Alishqur</td>\n",
       "      <td>2</td>\n",
       "    </tr>\n",
       "    <tr>\n",
       "      <th>9</th>\n",
       "      <td>مجهول مجهول مجهول مجهول</td>\n",
       "      <td>34</td>\n",
       "      <td>1990-01-01</td>\n",
       "      <td>m</td>\n",
       "      <td>? ? ? ?</td>\n",
       "      <td>2</td>\n",
       "    </tr>\n",
       "    <tr>\n",
       "      <th>10</th>\n",
       "      <td>محمد يوسف زهير ابوحطب</td>\n",
       "      <td>-1</td>\n",
       "      <td></td>\n",
       "      <td>m</td>\n",
       "      <td>Muhammad Yousef Zuhair Abu-hatab</td>\n",
       "      <td>2</td>\n",
       "    </tr>\n",
       "    <tr>\n",
       "      <th>11</th>\n",
       "      <td>عبدالرحمن نعيم عبدالرحمن حمدان</td>\n",
       "      <td>15</td>\n",
       "      <td>2009-03-24</td>\n",
       "      <td>m</td>\n",
       "      <td>Abdalrahamun Naiam Abdalrahamun Hamdan</td>\n",
       "      <td>2</td>\n",
       "    </tr>\n",
       "    <tr>\n",
       "      <th>12</th>\n",
       "      <td>تسنيم كمال محمد الجمال</td>\n",
       "      <td>-1</td>\n",
       "      <td></td>\n",
       "      <td>f</td>\n",
       "      <td>Tsaniam Kamal Muhammad Aljamal</td>\n",
       "      <td>2</td>\n",
       "    </tr>\n",
       "    <tr>\n",
       "      <th>13</th>\n",
       "      <td>مصطفى سعيد بديع المصري</td>\n",
       "      <td>-1</td>\n",
       "      <td></td>\n",
       "      <td>m</td>\n",
       "      <td>Mustafa Saeed Badia al-Masri</td>\n",
       "      <td>2</td>\n",
       "    </tr>\n",
       "  </tbody>\n",
       "</table>\n",
       "</div>"
      ],
      "text/plain": [
       "                              name  age         dob sex   \n",
       "0                            مجهول   24  2000-01-01   m  \\\n",
       "1          مجهول مجهول مجهول مجهول   -1               m   \n",
       "2              مؤمن كمال احمد سعيد   -1               m   \n",
       "3              احمد ابراهيم  بدوان   -1               m   \n",
       "4        هاله سليمان محمد النباهين   24  2000-01-01   f   \n",
       "5           كريم محمد نبيل القشاوي   25  1999-01-01   m   \n",
       "6           محمد رامي احمد اسماعيل   -1               m   \n",
       "7            احمد محمد حسن الزعزوع   -1               m   \n",
       "8            حنين عوني فايز الاشقر   26  1997-07-13   f   \n",
       "9          مجهول مجهول مجهول مجهول   34  1990-01-01   m   \n",
       "10           محمد يوسف زهير ابوحطب   -1               m   \n",
       "11  عبدالرحمن نعيم عبدالرحمن حمدان   15  2009-03-24   m   \n",
       "12          تسنيم كمال محمد الجمال   -1               f   \n",
       "13          مصطفى سعيد بديع المصري   -1               m   \n",
       "\n",
       "                                   en_name  repetições  \n",
       "0                                        ?          13  \n",
       "1                                  ? ? ? ?           5  \n",
       "2                  Momin Kamal Ahmed Saeed           2  \n",
       "3                     Ahmed Ibrahem Badwan           2  \n",
       "4       Halah Suleiman Muhammad al-Nabahin           2  \n",
       "5          Kariam Muhammad Nabil Aliqshaoi           2  \n",
       "6               Muhammad Rami Ahmed Ismail           2  \n",
       "7            Ahmed Muhammad Hassan Alzazoa           2  \n",
       "8                Hanin Aoni Fayez Alishqur           2  \n",
       "9                                  ? ? ? ?           2  \n",
       "10        Muhammad Yousef Zuhair Abu-hatab           2  \n",
       "11  Abdalrahamun Naiam Abdalrahamun Hamdan           2  \n",
       "12          Tsaniam Kamal Muhammad Aljamal           2  \n",
       "13            Mustafa Saeed Badia al-Masri           2  "
      ]
     },
     "execution_count": 6,
     "metadata": {},
     "output_type": "execute_result"
    }
   ],
   "source": [
    "repeticoes = nomes_df.drop('id', axis=1).value_counts()\n",
    "repeticoes.name = 'repetições'\n",
    "repeticoes.loc[repeticoes > 1].reset_index()"
   ]
  },
  {
   "cell_type": "markdown",
   "id": "955e3bf4-9c1b-4b2b-b9e0-171877d2ef7c",
   "metadata": {},
   "source": [
    "Vemos que existem repetições de alguns registros. Também notamos que:\n",
    "* Grande parte dos registros duplicados são de pessoas sem identificação (? na coluna `en_name`, nome em inglês) e com nome em árabe (coluna `name`) com o termo \"مجهول\", que significa \"Anônimo\".\n",
    "* Boa parte dessas repetições não possuem data de nascimento (e, portanto, nem idade), o que pode indicar incerteza quanto à sua identificação.\n",
    "* Vários dos registros, inclusive os anônimos, apresentam uma data de nascimento de **1 de janeiro**. Isso indica que **essas datas foram preenchidas no chute**.\n",
    "\n",
    "Erros desse tipo são comuns em dados reais, que são sujos. Seria estranho se todos os dados fossem bonitinhos, o que poderia denotar sua fabricação por um código de computador, por exemplo. Ademais, essa quantidade de dados errados é pequena em comparação com o tamanho da lista:"
   ]
  },
  {
   "cell_type": "code",
   "execution_count": 7,
   "id": "c28263c0-0b0a-4bb9-be82-6ef07413e049",
   "metadata": {},
   "outputs": [
    {
     "data": {
      "text/plain": [
       "42"
      ]
     },
     "execution_count": 7,
     "metadata": {},
     "output_type": "execute_result"
    }
   ],
   "source": [
    "# Total de casos repetidos:\n",
    "repeticoes.loc[repeticoes > 1].sum()"
   ]
  },
  {
   "cell_type": "code",
   "execution_count": 8,
   "id": "71e02d5f-fe7c-4b58-b9f3-511b76b504f4",
   "metadata": {},
   "outputs": [
    {
     "data": {
      "text/plain": [
       "14140"
      ]
     },
     "execution_count": 8,
     "metadata": {},
     "output_type": "execute_result"
    }
   ],
   "source": [
    "# Total de nomes na lista:\n",
    "len(nomes_df)"
   ]
  },
  {
   "cell_type": "markdown",
   "id": "746a413c-34bf-4a33-aaae-98f25c37990f",
   "metadata": {
    "tags": []
   },
   "source": [
    "### Traduções equivocadas"
   ]
  },
  {
   "cell_type": "markdown",
   "id": "9b25b9fd-971f-4ae8-a3f0-c1b91d1ab190",
   "metadata": {},
   "source": [
    "Vamos verificar se a relação entre nomes em árabe e os traduzidos para inglês faz sentido.\n",
    "Primeiro, vamos verificar se temos nomes árabes repetidos (podem ser homônimos ou dados duplicados) que foram traduzidos de forma diferente para o inglês. Se isso existir, poderíamos estar deixando de identificar uma duplicidade por causa de um erro de tradução."
   ]
  },
  {
   "cell_type": "code",
   "execution_count": 10,
   "id": "f6dc62a2-596e-444b-833c-cf6e9c125953",
   "metadata": {},
   "outputs": [
    {
     "data": {
      "text/plain": [
       "Series([], Name: en_name, dtype: object)"
      ]
     },
     "execution_count": 10,
     "metadata": {},
     "output_type": "execute_result"
    }
   ],
   "source": [
    "# Nomes árabes com mais de um nome em inglês associado:\n",
    "ad.one2oneViolations(nomes_df, 'name', 'en_name')"
   ]
  },
  {
   "cell_type": "markdown",
   "id": "bf7651e0-ad27-441f-8c7f-42567f2dea4c",
   "metadata": {},
   "source": [
    "Não identificamos nenhum nome árabe com mais de uma grafia em inglês. Isso significa que o nome em árabe melhor identifica as pessoas que os nomes em inglês.\n",
    "\n",
    "Agora, vamos ver se nomes árabes diferentes caíram na mesma grafia em inglês. Na lista abaixo, nomes em árabe estão separados por uma barra \"`/`\":"
   ]
  },
  {
   "cell_type": "code",
   "execution_count": 11,
   "id": "82310c29-34fb-448d-922c-7d784e7d1ff7",
   "metadata": {},
   "outputs": [
    {
     "name": "stdout",
     "output_type": "stream",
     "text": [
      "\u001b[1mAbdalrahamun Ahmed Ibrahem Asqula: \u001b[0mعبدالرحمن احمد ابراهيم عسقول / عبدالرحمن أحمد ابراهيم عسقول\n",
      "\u001b[1mAhmed Muain Mahmoud Aiish: \u001b[0mاحمد معين محمود عياش / أحمد معين محمود عياش\n",
      "\u001b[1mAhmed Muhammad Hassan Alzazoa: \u001b[0mاحمد محمد حسن الزعزوع / أحمد محمد حسن الزعزوع\n",
      "\u001b[1mAhmed Rami Ahmed Ismail: \u001b[0mاحمد رامي احمد اسماعيل / احمد رامي أحمد اسماعيل\n",
      "\u001b[1mAhmed Saeed Ismail Alshikh Ali: \u001b[0mاحمد سعيد اسماعيل الشيخ علي / أحمد سعيد اسماعيل الشيخ علي\n",
      "\u001b[1mAlaa Atef Taha Khidr: \u001b[0mعلا عاطف طه خضر / الاء عاطف طه خضر\n",
      "\u001b[1mAyah Allah Ali Hassan Abbas: \u001b[0mايه الله علي حسن عباس / اية الله علي حسن عباس\n",
      "\u001b[1mDana Eyad Ibrahem Abu-hamdah: \u001b[0mدانا اياد ابراهيم ابوحامدة / دانا اياد ابراهيم ابوحامده\n",
      "\u001b[1mFajr Asaad Abdal-majid Shhadah: \u001b[0mفجر اسعد عبدالمجيد شحاده / فجر اسعد عبدالمجيد شحادة\n",
      "\u001b[1mFatima Ahmed Mahmoud Abbas: \u001b[0mفاطمة احمد محمود عباس / فاطمه احمد محمود عباس\n",
      "\u001b[1mHamid Ahmed Hassan Ismail: \u001b[0mحامد احمد حسن اسماعيل / حامد أحمد حسن اسماعيل\n",
      "\u001b[1mHoor Hazm Ahmed al-Madhoun: \u001b[0mحور حازم احمد المدهون / حور حازم أحمد المدهون\n",
      "\u001b[1mIsalam Asaad Abdal-majid Shhadah: \u001b[0mاسلام اسعد عبدالمجيد شحاده / اسلام اسعد عبدالمجيد شحادة\n",
      "\u001b[1mIsalam Saeed Mahmoud Hamodah: \u001b[0mاسلام سعيد محمود حموده / اسلام سعيد محمود حمودة\n",
      "\u001b[1mIsmail Muhammad Ahmed al-Ghamri: \u001b[0mاسماعيل محمد احمد الغمري / اسماعيل محمد أحمد الغمري\n",
      "\u001b[1mMaisrah Abdal-hadi Abdalazaiaz Alohaidi: \u001b[0mميسرة عبدالهادي عبدالعزيز الوحيدي / ميسره عبدالهادي عبدالعزيز الوحيدي\n",
      "\u001b[1mMaraia Aahad Rshad Nofl: \u001b[0mمريا عاهد رشاد نوفل / ماريا عاهد رشاد نوفل\n",
      "\u001b[1mMomin Kamal Ahmed Saeed: \u001b[0mمؤمن كمال احمد سعيد / مؤمن كمال أحمد سعيد\n",
      "\u001b[1mMuhammad Rami Ahmed Ismail: \u001b[0mمحمد رامي احمد اسماعيل / محمد رامي أحمد اسماعيل\n",
      "\u001b[1mNabilah Hamid Muhammad Aid: \u001b[0mنبيلة حامد محمد عيد / نبيله حامد محمد عيد\n",
      "\u001b[1mYahya Basam Hassan Abu-ryalah: \u001b[0mيحيى باسم حسن ابورياله / يحيى باسم حسن ابوريالة\n"
     ]
    }
   ],
   "source": [
    "# CONTRÁRIO: nomes em inglês com mais de um nome árabe associado:\n",
    "ad.print_array_series(ad.one2oneViolations(nomes_df, 'en_name', 'name'))"
   ]
  },
  {
   "cell_type": "markdown",
   "id": "4ddd94c4-56cb-4ca8-b8b5-71fefadf5f2c",
   "metadata": {},
   "source": [
    "Se olharmos os nomes árabes, veremos que eles se diferenciam por pequenos detalhes. Isso indica que o inglês não é capaz de traduzir de maneira única os nomes árabes. Seria como traduzir \"Jéssica\" e \"Jessica\" para o inglês: ficaria tudo \"Jessica\"."
   ]
  },
  {
   "cell_type": "markdown",
   "id": "66cfdd5f-f9b2-456e-98ba-fcbbf05d251e",
   "metadata": {},
   "source": [
    "### Recortes dos dados"
   ]
  },
  {
   "cell_type": "markdown",
   "id": "72644faf-d20e-4c3c-913e-477544edb41b",
   "metadata": {},
   "source": [
    "Para entender outros aspectos da lista com nomes e idades dos mortos, vamos criar subamostras da lista separando-a entre os registros com idade e os sem idade. \n",
    "Os com idade também serão separados entre homens e mulheres:"
   ]
  },
  {
   "cell_type": "code",
   "execution_count": 12,
   "id": "17e6c347-df39-4d4d-8c58-2f8ac9d8a2b3",
   "metadata": {},
   "outputs": [],
   "source": [
    "# Com todas as datas de nascimento:\n",
    "com_idade_df = nomes_df.query('age != -1')\n",
    "# Sem datas de nascimento:\n",
    "sem_idade_df = nomes_df.query('age == -1')\n",
    "# Por sexo:\n",
    "m_com_idade_df = com_idade_df.query('sex == \"m\"')\n",
    "f_com_idade_df = com_idade_df.query('sex == \"f\"')"
   ]
  },
  {
   "cell_type": "markdown",
   "id": "afa9cc2c-462e-43cc-97db-c1ad8fcbee7d",
   "metadata": {},
   "source": [
    "Estamos interessados nos dados da lista de nomes pois esses têm informação sobre a idade, ao contrário dos demais dados do site [techforpalestine.org](https://data.techforpalestine.org).\n",
    "Entretanto, esses dados têm alguns registros sem idade. Vamos verificar se existem indícios de que os dados sem idade têm alguma diferença sistemática em relação aos dados com idade. Para is"
   ]
  },
  {
   "cell_type": "markdown",
   "id": "7a03fb5f-45be-4071-866d-84757615192c",
   "metadata": {},
   "source": [
    "Estamos interessados nos dados que apresentam a idade dos mortos. Então, pretendemos excluir os dados sem idade. Primeiro, vamos verificar se esses dados são uma parcela pequena do total, de maneira a afetar pouco nossa análise posterior:"
   ]
  },
  {
   "cell_type": "code",
   "execution_count": 18,
   "id": "3a2fdcaf-83d1-46c3-996b-2a5cfcda6b3b",
   "metadata": {},
   "outputs": [
    {
     "name": "stdout",
     "output_type": "stream",
     "text": [
      "Das 14,140 pessoas na lista, 997 (7.1%) não tem registro de idade\n"
     ]
    }
   ],
   "source": [
    "# Quantidade sem idade:\n",
    "n_sem_idade = len(sem_idade_df)\n",
    "print('Das {:,} pessoas na lista, {:} ({:.1f}%) não tem registro de idade'.format(len(nomes_df), n_sem_idade, n_sem_idade / len(nomes_df) * 100))"
   ]
  },
  {
   "cell_type": "markdown",
   "id": "c7c211b7-558f-4f25-b0f5-0f39e7de1b2e",
   "metadata": {},
   "source": [
    "Não temos muitos dados sem data de nascimento, então achamos que tudo ignorá-los. Especialmente se eles estiverem distribuídos de maneira equilibrada entre homens e mulheres."
   ]
  },
  {
   "cell_type": "markdown",
   "id": "d8d19d74-512e-49b7-99e1-826ee5bb9939",
   "metadata": {},
   "source": [
    "#### Compatibilidade entre dados com e sem idade"
   ]
  },
  {
   "cell_type": "markdown",
   "id": "3eb978c5-6fe3-4623-86bb-a9b4679a3be6",
   "metadata": {},
   "source": [
    "Vamos verificar se os dados sem idade estão distribuídos por sexo de uma forma diferente dos dados com idade. Se estiverem, removê-los pode introduzir um viés nos dados:"
   ]
  },
  {
   "cell_type": "code",
   "execution_count": 23,
   "id": "6380a0e7-fc77-4e01-8809-efcff633e8b0",
   "metadata": {},
   "outputs": [
    {
     "data": {
      "text/plain": [
       "sex\n",
       "m    0.568135\n",
       "f    0.431865\n",
       "Name: proportion, dtype: float64"
      ]
     },
     "execution_count": 23,
     "metadata": {},
     "output_type": "execute_result"
    }
   ],
   "source": [
    "# Fração dos dados em cada sexo, COM IDADE:\n",
    "com_idade_df['sex'].value_counts(normalize=True)"
   ]
  },
  {
   "cell_type": "code",
   "execution_count": 24,
   "id": "8bbe0087-749e-4e97-b908-58b9e5d7fe3e",
   "metadata": {},
   "outputs": [
    {
     "data": {
      "text/plain": [
       "sex\n",
       "m    0.5667\n",
       "f    0.4333\n",
       "Name: proportion, dtype: float64"
      ]
     },
     "execution_count": 24,
     "metadata": {},
     "output_type": "execute_result"
    }
   ],
   "source": [
    "# Fração dos dados em cada sexo, SEM IDADE:\n",
    "sem_idade_df['sex'].value_counts(normalize=True)"
   ]
  },
  {
   "cell_type": "markdown",
   "id": "dd84c2a1-0a7c-4c56-9556-4a28ce3eb4b1",
   "metadata": {},
   "source": [
    "**Conclusão:** não parece haver viés de sexo na ausência de idade."
   ]
  },
  {
   "cell_type": "markdown",
   "id": "6db233af-6a86-4dfe-9b11-5db4054587e9",
   "metadata": {},
   "source": [
    "### Compatibilidade entre resumo e informações detalhadas"
   ]
  },
  {
   "cell_type": "markdown",
   "id": "eedc8b6c-fa43-41c4-b0f9-9e1f249867bb",
   "metadata": {},
   "source": [
    "#### Mulheres"
   ]
  },
  {
   "cell_type": "markdown",
   "id": "44834cb5-1faa-42b4-aa78-7e66f4c26060",
   "metadata": {},
   "source": [
    "Uma dúvida que surge é se o termo \"mulher\", quando usado em contabilização de mortes, se refere a pessoas do sexo feminino \n",
    "(incluindo crianças) ou se apenas se refere a mulheres adultas (com 18 anos ou mais). Vamos comparar os dados da lista detalhada com o de total de mortes acumuladas para tirar essa dúvida:"
   ]
  },
  {
   "cell_type": "markdown",
   "id": "05a4623d-baa3-44ec-9cc2-9aa9e96185b3",
   "metadata": {},
   "source": [
    "**Dados da lista detalhada**"
   ]
  },
  {
   "cell_type": "code",
   "execution_count": 25,
   "id": "b01aa555-879b-4588-ae93-75b147495285",
   "metadata": {},
   "outputs": [],
   "source": [
    "# Dentre os com idade, seleciona adultos:\n",
    "nomes_adultos_df  = com_idade_df.query('age >= 18')\n",
    "# Seleciona mulheres adultas:\n",
    "nomes_mulheres_adultas_df = nomes_adultos_df.query('sex == \"f\"')"
   ]
  },
  {
   "cell_type": "code",
   "execution_count": 26,
   "id": "d147b84d-9f7f-4463-8869-9330da8286b0",
   "metadata": {},
   "outputs": [
    {
     "data": {
      "text/plain": [
       "0.410609507843372"
      ]
     },
     "execution_count": 26,
     "metadata": {},
     "output_type": "execute_result"
    }
   ],
   "source": [
    "# Fração dos adultos que são mulheres:\n",
    "len(nomes_mulheres_adultas_df) / len(nomes_adultos_df)"
   ]
  },
  {
   "cell_type": "code",
   "execution_count": 29,
   "id": "ddc11e3f-2c37-4c8a-8df3-307e1b34f65c",
   "metadata": {},
   "outputs": [
    {
     "data": {
      "text/plain": [
       "0.4318648710340105"
      ]
     },
     "execution_count": 29,
     "metadata": {},
     "output_type": "execute_result"
    }
   ],
   "source": [
    "# Fração de pessoas do sexo feminino, incluindo crianças:\n",
    "len(com_idade_df.query('sex == \"f\"')) / len(com_idade_df)"
   ]
  },
  {
   "cell_type": "markdown",
   "id": "e30e39e6-a2ce-411a-b93c-ed61dc2d0330",
   "metadata": {},
   "source": [
    "Em qualquer definição de mulher, a fração que elas compõem entre os mortos é de uns 42%."
   ]
  },
  {
   "cell_type": "code",
   "execution_count": 34,
   "id": "d0cead90-2472-4d88-bb53-b099c78f64fa",
   "metadata": {},
   "outputs": [
    {
     "data": {
      "text/plain": [
       "0.26089933805067334"
      ]
     },
     "execution_count": 34,
     "metadata": {},
     "output_type": "execute_result"
    }
   ],
   "source": [
    "# Fração de mulheres adultas sobre o total de mortos:\n",
    "len(nomes_mulheres_adultas_df) / len(com_idade_df)"
   ]
  },
  {
   "cell_type": "markdown",
   "id": "c21abc6a-c5e3-4fdf-ab41-03a09dda1058",
   "metadata": {},
   "source": [
    "Já as mulheres adultas correspondem a aproximadamente 1/4 do total de mortes."
   ]
  },
  {
   "cell_type": "markdown",
   "id": "6a367449-7116-47ae-a17b-1c58e8bae6fb",
   "metadata": {},
   "source": [
    "**Dados acumulados**"
   ]
  },
  {
   "cell_type": "code",
   "execution_count": 31,
   "id": "76161782-63a5-4af5-a62b-483b0346df10",
   "metadata": {},
   "outputs": [
    {
     "data": {
      "text/plain": [
       "{'total': 29313,\n",
       " 'children': 12660,\n",
       " 'women': 8570,\n",
       " 'civilDefence': 46,\n",
       " 'press': 130,\n",
       " 'medical': 340}"
      ]
     },
     "execution_count": 31,
     "metadata": {},
     "output_type": "execute_result"
    }
   ],
   "source": [
    "# Pega dados sobre total de mortos:\n",
    "total_mortos = summary_data['killed']\n",
    "total_mortos"
   ]
  },
  {
   "cell_type": "code",
   "execution_count": 32,
   "id": "d539a3ad-7756-4898-80f5-1f9d85efe4c9",
   "metadata": {},
   "outputs": [
    {
     "data": {
      "text/plain": [
       "0.5146219900318261"
      ]
     },
     "execution_count": 32,
     "metadata": {},
     "output_type": "execute_result"
    }
   ],
   "source": [
    "# Fração das chamadas \"mulheres\" sobre os adultos:\n",
    "tot_mulheres = total_mortos['women']\n",
    "tot_mulheres / (total_mortos['total'] - total_mortos['children'])"
   ]
  },
  {
   "cell_type": "code",
   "execution_count": 33,
   "id": "3c4e28e5-cfe1-4962-9bda-ab12caf650be",
   "metadata": {},
   "outputs": [
    {
     "data": {
      "text/plain": [
       "0.2923617507590489"
      ]
     },
     "execution_count": 33,
     "metadata": {},
     "output_type": "execute_result"
    }
   ],
   "source": [
    "# Fração das mulheres sobre a população total:\n",
    "tot_mulheres / (total_mortos['total'])"
   ]
  },
  {
   "cell_type": "markdown",
   "id": "409c9d4a-1d3c-4272-a049-5b90e5423f66",
   "metadata": {},
   "source": [
    "Os números acima são mais condizentes com a ideia de que \"mulheres\" se refere a pessoas adultas do sexo masculino, que é um conjunto menor do que se \"mulheres\" se referisse a todas\n",
    "as pessoas do sexo feminino. "
   ]
  },
  {
   "cell_type": "markdown",
   "id": "bfd13b9a-e192-4092-ad66-b2026911b9c9",
   "metadata": {},
   "source": [
    "**Conclusão:**\n",
    "\n",
    "1. A categoria \"mulheres\" só inclui pessoas com 18 anos ou mais; \"crianças\" é um bloco só, não são discriminadas por sexo.\n",
    "2. Entre pessoas mortas não identificadas (dados agregados) existe uma proporção maior de mulheres. Isso significa que, se utilizarmos a lista de nomes para avaliar se muitas mulheres foram mortas,\n",
    "estaremos sendo conservadores, isto é, possivelmente subestimando esse valor."
   ]
  },
  {
   "cell_type": "markdown",
   "id": "47a4499a-ee77-4262-8301-e05113b029ce",
   "metadata": {},
   "source": [
    "#### Crianças"
   ]
  },
  {
   "cell_type": "markdown",
   "id": "7307537c-8907-45fc-a917-80618ecb395a",
   "metadata": {},
   "source": [
    "Vamos comparar a fração de crianças mortas na lista com pessoas identificadas com a contagem acumulada. A primeira fonte de dados (lista com nomes) possivelmente é mais precisa, \n",
    "mas também é mais desatualizada."
   ]
  },
  {
   "cell_type": "code",
   "execution_count": 37,
   "id": "73f5ae29-1eb2-4b01-abd4-d4c87e91bce9",
   "metadata": {},
   "outputs": [
    {
     "data": {
      "text/plain": [
       "0.3646047325572548"
      ]
     },
     "execution_count": 37,
     "metadata": {},
     "output_type": "execute_result"
    }
   ],
   "source": [
    "# Calcula fração de crianças na lista com nomes:\n",
    "n_nomes_menores = (com_idade_df['age'] < 18).sum()\n",
    "n_nomes_idade   = len(com_idade_df)\n",
    "n_nomes_menores / n_nomes_idade"
   ]
  },
  {
   "cell_type": "markdown",
   "id": "a202f429-44e6-443f-a9f8-cffc8c945b0f",
   "metadata": {},
   "source": [
    "Será importante saber o quanto que a fração acima poderia ter variado por puro acaso (flutuação estatística). \n",
    "Para isso, podemos considerar que o número de crianças entre o total da lista segue uma distribuição Binomial. Nesse caso, o desvio padrão é dado por:\n",
    "\n",
    "$$\\sigma = \\sqrt{np(1-p)},$$\n",
    "\n",
    "onde $n$ é o total de pessoas na lista e $p$ é a probabilidade de uma pessoa ser uma criança. Vamos simplificar essa conta ao mesmo tempo em que superestimamos o desvio padrão, e vamos considerar \n",
    "$\\sigma = \\sqrt{np} \\simeq \\sqrt{n_{\\mathrm{crianças}}}$."
   ]
  },
  {
   "cell_type": "code",
   "execution_count": 16,
   "id": "08c233d9-8fbc-4650-9224-b0a6f5ccb85b",
   "metadata": {},
   "outputs": [
    {
     "data": {
      "text/plain": [
       "0.005267007015103639"
      ]
     },
     "execution_count": 16,
     "metadata": {},
     "output_type": "execute_result"
    }
   ],
   "source": [
    "# Estimativa da flutuação estatística na fração:\n",
    "np.sqrt(n_nomes_menores) / n_nomes_idade"
   ]
  },
  {
   "cell_type": "code",
   "execution_count": 17,
   "id": "c224d3ff-8e60-4c04-b64e-04922f782d89",
   "metadata": {},
   "outputs": [
    {
     "data": {
      "text/plain": [
       "0.43189028758571285"
      ]
     },
     "execution_count": 17,
     "metadata": {},
     "output_type": "execute_result"
    }
   ],
   "source": [
    "# Fração de crianças nos dados agregados:\n",
    "total_mortos['children'] / total_mortos['total']"
   ]
  },
  {
   "cell_type": "markdown",
   "id": "929dac9a-93c9-4894-a842-eccaf6160654",
   "metadata": {},
   "source": [
    "**Conclusão:** entre pessoas mortas não identificadas (lista agregada), existe uma proporção significativamente maior de crianças. Se usarmos a lista com nomes na análise, estaremos sendo\n",
    "conservadores com relação a essa quantidade."
   ]
  },
  {
   "cell_type": "markdown",
   "id": "7428fabb-b63f-4072-a370-01b62cd68986",
   "metadata": {},
   "source": [
    "## Distribuição por idade e sexo"
   ]
  },
  {
   "cell_type": "markdown",
   "id": "08497250-b1fa-48c2-b55b-2114056bc407",
   "metadata": {},
   "source": [
    "Nas análises seguintes, vamos utilizar a lista de nomes como fonte de dados, apesar de desatualizada \n",
    "(segundo o site [techforpalestine.org](https://data.techforpalestine.org), a última atualização foi em 5 de janeiro \n",
    "de 2024 para hospitais do sul de Gaza e 2 de novembro para hospitais no norte). Faremos isso porque:\n",
    "1. Essa lista contém a idade das pessoas, que é uma informação importante.\n",
    "2. Em relação às contagens acumuladas, essa lista subestima o número de crianças e mulheres, o que reduz\n",
    "nossa probabilidade de concluir, erroneamente, que existe um alto número dessas pessoas sendo mortas.\n",
    "\n",
    "Então, vamos criar uma tabela com o número de mortes por sexo (colunas) e idade (linhas) a partir das listas de nomes:"
   ]
  },
  {
   "cell_type": "code",
   "execution_count": 59,
   "id": "e313be89-a8f8-4aec-882c-a8bad2ff1c03",
   "metadata": {},
   "outputs": [],
   "source": [
    "# Contabilizando mortes por sexo e idade na lista de nomes:\n",
    "m_nomes_por_idade = m_com_idade_df['age'].value_counts().sort_index()\n",
    "f_nomes_por_idade = f_com_idade_df['age'].value_counts().sort_index()\n",
    "nomes_por_idade_df = pd.DataFrame()\n",
    "nomes_por_idade_df['homens'] = m_nomes_por_idade\n",
    "nomes_por_idade_df['mulheres'] = f_nomes_por_idade\n",
    "nomes_por_idade_df.fillna(0, inplace=True)"
   ]
  },
  {
   "cell_type": "markdown",
   "id": "aaf7e120-feb1-40e0-a63a-90f8a282a0f4",
   "metadata": {},
   "source": [
    "vamos visualizar esses dados no gráfico:"
   ]
  },
  {
   "cell_type": "code",
   "execution_count": 60,
   "id": "be10790e-8700-4833-a815-cced8133904f",
   "metadata": {},
   "outputs": [
    {
     "data": {
      "image/png": "[encoded data removed]",
      "text/plain": [
       "<Figure size 1000x500 with 2 Axes>"
      ]
     },
     "metadata": {},
     "output_type": "display_data"
    }
   ],
   "source": [
    "# Gráfico das mortes por idade (eixo x) e sexo (painel de cima e de baixo):\n",
    "pl.figure(figsize=(10,5))\n",
    "ag.graf_barra_2(nomes_por_idade_df, ylabel='# mortes')\n",
    "pl.xlabel('Idade')\n",
    "pl.show()"
   ]
  },
  {
   "cell_type": "markdown",
   "id": "8d9f1962-b94a-42b3-ae7f-adc617a2b1c7",
   "metadata": {},
   "source": [
    "Identificamos no gráfico acima um pico esquisito na idade de 24 anos. Vamos tentar entender o que está acontecendo:"
   ]
  },
  {
   "cell_type": "code",
   "execution_count": 62,
   "id": "257fd1d3-5279-4b5b-b2f5-2a79a390633d",
   "metadata": {},
   "outputs": [
    {
     "data": {
      "text/plain": [
       "dob\n",
       "2000-01-01    320\n",
       "2000-02-02     18\n",
       "1999-11-11      8\n",
       "1999-12-21      4\n",
       "2000-02-01      4\n",
       "             ... \n",
       "1999-12-30      1\n",
       "2000-01-02      1\n",
       "2000-06-10      1\n",
       "1999-12-23      1\n",
       "1999-09-12      1\n",
       "Name: count, Length: 164, dtype: int64"
      ]
     },
     "execution_count": 62,
     "metadata": {},
     "output_type": "execute_result"
    }
   ],
   "source": [
    "# Contabiliza pessoas de 24 anos por dia de aniversário:\n",
    "com_idade_df.query('age == 24')['dob'].value_counts()"
   ]
  },
  {
   "cell_type": "markdown",
   "id": "28345df2-0e62-456f-95f9-38e2dd6d0f04",
   "metadata": {},
   "source": [
    "Note como o aniversário mais comum é o 1 de janeiro, assim como vimos no caso das pessoas anônimas. Ou seja: a idade dessas pessoas estão sendo chutadas. \n",
    "Por algum motivo, a idade de 24 anos é uma idade popular para esse chute. \n",
    "\n",
    "Isso nos leva a pensar que o aniversário de 1 de janeiro indica, majoritariamente, idades não confiáveis. Portanto, vamos retirá-los dos dados. \n",
    "Nesse processo, algumas pessoas que realmente nasceram dia 1 de janeiro serão removidas. Como, em princípio, não existe motivo para as pessoas nascerem mais no dia 1 de janeiro de \n",
    "um determinado ano que de outro, essa remoção de aniversariantes reais de 1 de janeiro não deve alterar o formato da distribuição real (i.e. sem idades chutadas), apenas reduzir o número total."
   ]
  },
  {
   "cell_type": "code",
   "execution_count": 73,
   "id": "659043a2-0483-4851-b094-9291d3ce89af",
   "metadata": {},
   "outputs": [],
   "source": [
    "# Vamos criar uma nova tabela, mas com dados limpos (sem chutes de idade):\n",
    "lm_nomes_por_idade = m_com_idade_df.loc[~nomes_df['dob'].str.contains('-01-01$', regex=True)]['age'].value_counts().sort_index()\n",
    "lf_nomes_por_idade = f_com_idade_df.loc[~nomes_df['dob'].str.contains('-01-01$', regex=True)]['age'].value_counts().sort_index()\n",
    "# Vamos iniciar a tabela sem lacunas nas idades, para não termos dados faltantes:\n",
    "limpo_por_idade_df = pd.DataFrame(index=np.arange(0, 93)) \n",
    "limpo_por_idade_df.index.name = 'idade'\n",
    "limpo_por_idade_df['homens'] = lm_nomes_por_idade\n",
    "limpo_por_idade_df['mulheres'] = lf_nomes_por_idade\n",
    "# Idades sem pessoas contadas significa zero pessoas nessa idade:\n",
    "limpo_por_idade_df.fillna(0, inplace=True)\n",
    "limpo_por_idade_df = limpo_por_idade_df.astype(int)"
   ]
  },
  {
   "cell_type": "code",
   "execution_count": 74,
   "id": "0fc7bf57-955e-4c29-9ddf-299762472df2",
   "metadata": {},
   "outputs": [
    {
     "data": {
      "text/html": [
       "<div>\n",
       "<style scoped>\n",
       "    .dataframe tbody tr th:only-of-type {\n",
       "        vertical-align: middle;\n",
       "    }\n",
       "\n",
       "    .dataframe tbody tr th {\n",
       "        vertical-align: top;\n",
       "    }\n",
       "\n",
       "    .dataframe thead th {\n",
       "        text-align: right;\n",
       "    }\n",
       "</style>\n",
       "<table border=\"1\" class=\"dataframe\">\n",
       "  <thead>\n",
       "    <tr style=\"text-align: right;\">\n",
       "      <th></th>\n",
       "      <th>homens</th>\n",
       "      <th>mulheres</th>\n",
       "    </tr>\n",
       "    <tr>\n",
       "      <th>idade</th>\n",
       "      <th></th>\n",
       "      <th></th>\n",
       "    </tr>\n",
       "  </thead>\n",
       "  <tbody>\n",
       "    <tr>\n",
       "      <th>0</th>\n",
       "      <td>43</td>\n",
       "      <td>53</td>\n",
       "    </tr>\n",
       "    <tr>\n",
       "      <th>1</th>\n",
       "      <td>134</td>\n",
       "      <td>128</td>\n",
       "    </tr>\n",
       "    <tr>\n",
       "      <th>2</th>\n",
       "      <td>147</td>\n",
       "      <td>139</td>\n",
       "    </tr>\n",
       "    <tr>\n",
       "      <th>3</th>\n",
       "      <td>139</td>\n",
       "      <td>123</td>\n",
       "    </tr>\n",
       "    <tr>\n",
       "      <th>4</th>\n",
       "      <td>172</td>\n",
       "      <td>111</td>\n",
       "    </tr>\n",
       "    <tr>\n",
       "      <th>...</th>\n",
       "      <td>...</td>\n",
       "      <td>...</td>\n",
       "    </tr>\n",
       "    <tr>\n",
       "      <th>88</th>\n",
       "      <td>3</td>\n",
       "      <td>0</td>\n",
       "    </tr>\n",
       "    <tr>\n",
       "      <th>89</th>\n",
       "      <td>0</td>\n",
       "      <td>0</td>\n",
       "    </tr>\n",
       "    <tr>\n",
       "      <th>90</th>\n",
       "      <td>0</td>\n",
       "      <td>0</td>\n",
       "    </tr>\n",
       "    <tr>\n",
       "      <th>91</th>\n",
       "      <td>0</td>\n",
       "      <td>0</td>\n",
       "    </tr>\n",
       "    <tr>\n",
       "      <th>92</th>\n",
       "      <td>0</td>\n",
       "      <td>0</td>\n",
       "    </tr>\n",
       "  </tbody>\n",
       "</table>\n",
       "<p>93 rows × 2 columns</p>\n",
       "</div>"
      ],
      "text/plain": [
       "       homens  mulheres\n",
       "idade                  \n",
       "0          43        53\n",
       "1         134       128\n",
       "2         147       139\n",
       "3         139       123\n",
       "4         172       111\n",
       "...       ...       ...\n",
       "88          3         0\n",
       "89          0         0\n",
       "90          0         0\n",
       "91          0         0\n",
       "92          0         0\n",
       "\n",
       "[93 rows x 2 columns]"
      ]
     },
     "execution_count": 74,
     "metadata": {},
     "output_type": "execute_result"
    }
   ],
   "source": [
    "# Visualizando os dados:\n",
    "limpo_por_idade_df"
   ]
  },
  {
   "cell_type": "code",
   "execution_count": 94,
   "id": "23df4426-58ac-40be-98aa-0f9dd2e00d1e",
   "metadata": {},
   "outputs": [
    {
     "data": {
      "image/png": "[encoded data removed]",
      "text/plain": [
       "<Figure size 1000x500 with 2 Axes>"
      ]
     },
     "metadata": {},
     "output_type": "display_data"
    }
   ],
   "source": [
    "# Vamos visualizar os dados novamente em um gráfico:\n",
    "pl.figure(figsize=(10,5))\n",
    "ag.graf_barra_2(limpo_por_idade_df, ylabel='# mortes', ylim=[0,190])\n",
    "pl.xlabel('Idade')\n",
    "pl.show()"
   ]
  },
  {
   "cell_type": "markdown",
   "id": "8c32deff-eb8e-4d4e-88af-8900f8d1ced2",
   "metadata": {},
   "source": [
    "### Exportando os dados limpos"
   ]
  },
  {
   "cell_type": "markdown",
   "id": "d7eb8aa6-72e1-4d12-be30-14a19395c571",
   "metadata": {},
   "source": [
    "Vamos exportar os dados acima para um arquivo CSV, para poder começar a análise num novo notebook:"
   ]
  },
  {
   "cell_type": "code",
   "execution_count": 95,
   "id": "234a45b9-8d30-4d2c-b19d-aeb5a49c445a",
   "metadata": {},
   "outputs": [],
   "source": [
    "# Exporta os dados limpos:\n",
    "#limpo_por_idade_df.to_csv('dados/mortos-em-gaza_nomes-contabilizados_limpo.csv')"
   ]
  },
  {
   "cell_type": "markdown",
   "id": "604c9a1d-287c-472b-a87b-d620f45043e1",
   "metadata": {},
   "source": [
    "<center>\n",
    "    <img src=\"https://nucleodetecnologia.com.br/assets/img/novo-logo-tecnologia.svg?bl=tutorial-gaza-20\" width=\"150\">\n",
    "</center>"
   ]
  }
 ],
 "metadata": {
  "kernelspec": {
   "display_name": "Python 3 (ipykernel)",
   "language": "python",
   "name": "python3"
  },
  "language_info": {
   "codemirror_mode": {
    "name": "ipython",
    "version": 3
   },
   "file_extension": ".py",
   "mimetype": "text/x-python",
   "name": "python",
   "nbconvert_exporter": "python",
   "pygments_lexer": "ipython3",
   "version": "3.8.10"
  }
 },
 "nbformat": 4,
 "nbformat_minor": 5
}
