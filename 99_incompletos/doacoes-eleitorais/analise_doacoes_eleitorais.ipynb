{
  "cells": [
    {
      "attachments": {},
      "cell_type": "markdown",
      "metadata": {},
      "source": [
        "# 1. Importar pacotes necessários\n",
        "\n",
        "pandas é um pacote muito utilizado para realizar operações em grandes tabelas de dados\n",
        "numpy contém vários métodos e funções matemáticas (e estatísticas?)\n",
        "matplotlib é um pacote com várias ferramentas para visualizar os dados através de gráficos"
      ]
    },
    {
      "cell_type": "code",
      "execution_count": 8,
      "metadata": {},
      "outputs": [
        {
          "ename": "SyntaxError",
          "evalue": "invalid syntax (3237628011.py, line 3)",
          "output_type": "error",
          "traceback": [
            "\u001b[1;36m  Cell \u001b[1;32mIn[8], line 3\u001b[1;36m\u001b[0m\n\u001b[1;33m    pip install plotly\u001b[0m\n\u001b[1;37m        ^\u001b[0m\n\u001b[1;31mSyntaxError\u001b[0m\u001b[1;31m:\u001b[0m invalid syntax\n"
          ]
        }
      ],
      "source": [
        "#Para instalar plotly\n",
        "\n",
        "pip install plotly\n",
        "pip install statsmodels\n",
        "pip install nbformat>=4.2.0"
      ]
    },
    {
      "cell_type": "code",
      "execution_count": 9,
      "metadata": {
        "id": "fah1ZQen3abb"
      },
      "outputs": [],
      "source": [
        "#importar as bibliotecas\n",
        "\n",
        "import pandas as pd"
      ]
    },
    {
      "attachments": {},
      "cell_type": "markdown",
      "metadata": {},
      "source": [
        "# 2. Ler as bases de dados financiamento\n",
        "\n",
        "Em posse dos dados csv na mesma pasta que este script, usamos o método 'read_csv' para gerar um objeto em python chamado *dataframe* (df).\n",
        "Uma vez que o nome dos candidatos aparecem mais de uma vez, usamos o método 'groupby' juntamente com o '.agg' para juntar as linhas contendo o mesmo nome e somando o total de votos que cada um teve: (? rever ?)"
      ]
    },
    {
      "cell_type": "code",
      "execution_count": 10,
      "metadata": {},
      "outputs": [
        {
          "name": "stdout",
          "output_type": "stream",
          "text": [
            "<class 'pandas.core.frame.DataFrame'>\n",
            "RangeIndex: 10237 entries, 0 to 10236\n",
            "Data columns (total 17 columns):\n",
            " #   Column                   Non-Null Count  Dtype \n",
            "---  ------                   --------------  ----- \n",
            " 0   Ano de eleição           10237 non-null  int64 \n",
            " 1   Cargo                    10237 non-null  object\n",
            " 2   Esfera                   10237 non-null  object\n",
            " 3   Esfera partidária        10237 non-null  object\n",
            " 4   Espécie receita          10237 non-null  object\n",
            " 5   Fonte de receita         10237 non-null  object\n",
            " 6   Município                10237 non-null  object\n",
            " 7   Nome candidato           10237 non-null  object\n",
            " 8   Nome doador              10237 non-null  object\n",
            " 9   Origem da receita        10237 non-null  object\n",
            " 10  Partido                  10237 non-null  object\n",
            " 11  Região                   10237 non-null  object\n",
            " 12  Situação de candidatura  10237 non-null  object\n",
            " 13  Situação de totalização  10237 non-null  object\n",
            " 14  UF                       10237 non-null  object\n",
            " 15  Valor de receita         10237 non-null  object\n",
            " 16  Data de carga            10237 non-null  object\n",
            "dtypes: int64(1), object(16)\n",
            "memory usage: 1.3+ MB\n"
          ]
        }
      ],
      "source": [
        "df_receita = pd.read_csv('dados/receitas_candidatos_SP.csv', encoding='latin-1', sep=';')\n",
        "df_receita.info()"
      ]
    },
    {
      "attachments": {},
      "cell_type": "markdown",
      "metadata": {},
      "source": [
        "# 3. Reestruturando dados"
      ]
    },
    {
      "cell_type": "code",
      "execution_count": 11,
      "metadata": {},
      "outputs": [],
      "source": [
        "df_receita = df_receita[df_receita['Situação de candidatura']=='Apto']\n",
        "df_receita = df_receita[['Nome candidato', 'Nome doador', 'Origem da receita', 'Fonte de receita', 'Partido', 'Situação de totalização', 'Valor de receita']]\n",
        "df_receita['Valor de receita'] = df_receita['Valor de receita'].str.replace(',', '.').astype(float)"
      ]
    },
    {
      "attachments": {},
      "cell_type": "markdown",
      "metadata": {},
      "source": [
        "# 4. GroupBy"
      ]
    },
    {
      "attachments": {},
      "cell_type": "markdown",
      "metadata": {},
      "source": [
        "## 4.1 Agrupamento por candidato"
      ]
    },
    {
      "cell_type": "code",
      "execution_count": 12,
      "metadata": {},
      "outputs": [
        {
          "data": {
            "text/html": [
              "<div>\n",
              "<style scoped>\n",
              "    .dataframe tbody tr th:only-of-type {\n",
              "        vertical-align: middle;\n",
              "    }\n",
              "\n",
              "    .dataframe tbody tr th {\n",
              "        vertical-align: top;\n",
              "    }\n",
              "\n",
              "    .dataframe thead th {\n",
              "        text-align: right;\n",
              "    }\n",
              "</style>\n",
              "<table border=\"1\" class=\"dataframe\">\n",
              "  <thead>\n",
              "    <tr style=\"text-align: right;\">\n",
              "      <th></th>\n",
              "      <th>Valor de receita</th>\n",
              "      <th>Quantidade de doadores</th>\n",
              "    </tr>\n",
              "    <tr>\n",
              "      <th>Nome candidato</th>\n",
              "      <th></th>\n",
              "      <th></th>\n",
              "    </tr>\n",
              "  </thead>\n",
              "  <tbody>\n",
              "    <tr>\n",
              "      <th>ABER JOÁS TOFANELLI</th>\n",
              "      <td>152885.00</td>\n",
              "      <td>3</td>\n",
              "    </tr>\n",
              "    <tr>\n",
              "      <th>ABRAHAM BRAGANÇA DE VASCONCELLOS WEINTRAUB</th>\n",
              "      <td>135935.01</td>\n",
              "      <td>2</td>\n",
              "    </tr>\n",
              "    <tr>\n",
              "      <th>ADALBERTO FELICIO MALUF FILHO</th>\n",
              "      <td>319900.00</td>\n",
              "      <td>3</td>\n",
              "    </tr>\n",
              "    <tr>\n",
              "      <th>ADAMARIO MAXIMO DOS SANTOS FILHO</th>\n",
              "      <td>4741.53</td>\n",
              "      <td>4</td>\n",
              "    </tr>\n",
              "    <tr>\n",
              "      <th>ADAUTO BENTIVEGNA FILHO</th>\n",
              "      <td>125881.36</td>\n",
              "      <td>6</td>\n",
              "    </tr>\n",
              "  </tbody>\n",
              "</table>\n",
              "</div>"
            ],
            "text/plain": [
              "                                            Valor de receita  \\\n",
              "Nome candidato                                                 \n",
              "ABER JOÁS TOFANELLI                                152885.00   \n",
              "ABRAHAM BRAGANÇA DE VASCONCELLOS WEINTRAUB         135935.01   \n",
              "ADALBERTO FELICIO MALUF FILHO                      319900.00   \n",
              "ADAMARIO MAXIMO DOS SANTOS FILHO                     4741.53   \n",
              "ADAUTO BENTIVEGNA FILHO                            125881.36   \n",
              "\n",
              "                                            Quantidade de doadores  \n",
              "Nome candidato                                                      \n",
              "ABER JOÁS TOFANELLI                                              3  \n",
              "ABRAHAM BRAGANÇA DE VASCONCELLOS WEINTRAUB                       2  \n",
              "ADALBERTO FELICIO MALUF FILHO                                    3  \n",
              "ADAMARIO MAXIMO DOS SANTOS FILHO                                 4  \n",
              "ADAUTO BENTIVEGNA FILHO                                          6  "
            ]
          },
          "execution_count": 12,
          "metadata": {},
          "output_type": "execute_result"
        }
      ],
      "source": [
        "df_receita_candidato = df_receita.groupby('Nome candidato').agg({'Valor de receita':'sum', 'Nome doador':'count'})\n",
        "df_receita_candidato = df_receita_candidato.rename(columns={'Nome doador': 'Quantidade de doadores'})\n",
        "df_receita_candidato.head()"
      ]
    },
    {
      "attachments": {},
      "cell_type": "markdown",
      "metadata": {},
      "source": [
        "## 4.1 Agrupamento por doador"
      ]
    },
    {
      "cell_type": "code",
      "execution_count": 13,
      "metadata": {},
      "outputs": [
        {
          "data": {
            "text/html": [
              "<div>\n",
              "<style scoped>\n",
              "    .dataframe tbody tr th:only-of-type {\n",
              "        vertical-align: middle;\n",
              "    }\n",
              "\n",
              "    .dataframe tbody tr th {\n",
              "        vertical-align: top;\n",
              "    }\n",
              "\n",
              "    .dataframe thead th {\n",
              "        text-align: right;\n",
              "    }\n",
              "</style>\n",
              "<table border=\"1\" class=\"dataframe\">\n",
              "  <thead>\n",
              "    <tr style=\"text-align: right;\">\n",
              "      <th></th>\n",
              "      <th>Valor de receita</th>\n",
              "    </tr>\n",
              "    <tr>\n",
              "      <th>Nome doador</th>\n",
              "      <th></th>\n",
              "    </tr>\n",
              "  </thead>\n",
              "  <tbody>\n",
              "    <tr>\n",
              "      <th>JOSE SALIM MATTAR JUNIOR</th>\n",
              "      <td>1350000.00</td>\n",
              "    </tr>\n",
              "    <tr>\n",
              "      <th>PEDRO DE GODOY BUENO</th>\n",
              "      <td>950000.00</td>\n",
              "    </tr>\n",
              "    <tr>\n",
              "      <th>WILSON DE ALMEIDA JUNIOR</th>\n",
              "      <td>840000.00</td>\n",
              "    </tr>\n",
              "    <tr>\n",
              "      <th>CANDIDO BOTELHO BRACHER</th>\n",
              "      <td>819353.91</td>\n",
              "    </tr>\n",
              "    <tr>\n",
              "      <th>EDUARDO ROBSON RAINERI DE ALMEIDA</th>\n",
              "      <td>750000.00</td>\n",
              "    </tr>\n",
              "  </tbody>\n",
              "</table>\n",
              "</div>"
            ],
            "text/plain": [
              "                                   Valor de receita\n",
              "Nome doador                                        \n",
              "JOSE SALIM MATTAR JUNIOR                 1350000.00\n",
              "PEDRO DE GODOY BUENO                      950000.00\n",
              "WILSON DE ALMEIDA JUNIOR                  840000.00\n",
              "CANDIDO BOTELHO BRACHER                   819353.91\n",
              "EDUARDO ROBSON RAINERI DE ALMEIDA         750000.00"
            ]
          },
          "execution_count": 13,
          "metadata": {},
          "output_type": "execute_result"
        }
      ],
      "source": [
        "df_receita_doador = df_receita[df_receita['Origem da receita']=='Recursos de pessoas físicas']\n",
        "df_receita_doador = df_receita_doador.groupby('Nome doador').agg({'Valor de receita':'sum'})\n",
        "df_receita_doador.sort_values('Valor de receita', ascending=False).head()"
      ]
    },
    {
      "attachments": {},
      "cell_type": "markdown",
      "metadata": {},
      "source": [
        "# 5. Pivot"
      ]
    },
    {
      "cell_type": "code",
      "execution_count": null,
      "metadata": {},
      "outputs": [
        {
          "data": {
            "text/html": [
              "<div>\n",
              "<style scoped>\n",
              "    .dataframe tbody tr th:only-of-type {\n",
              "        vertical-align: middle;\n",
              "    }\n",
              "\n",
              "    .dataframe tbody tr th {\n",
              "        vertical-align: top;\n",
              "    }\n",
              "\n",
              "    .dataframe thead th {\n",
              "        text-align: right;\n",
              "    }\n",
              "</style>\n",
              "<table border=\"1\" class=\"dataframe\">\n",
              "  <thead>\n",
              "    <tr style=\"text-align: right;\">\n",
              "      <th>Origem da receita</th>\n",
              "      <th>Nome candidato</th>\n",
              "      <th>Partido</th>\n",
              "      <th>Situação de totalização</th>\n",
              "      <th>Doações pela Internet</th>\n",
              "      <th>Recursos de Financiamento Coletivo</th>\n",
              "      <th>Recursos de origens não identificadas</th>\n",
              "      <th>Recursos de outros candidatos</th>\n",
              "      <th>Recursos de partido político</th>\n",
              "      <th>Recursos de pessoas físicas</th>\n",
              "      <th>Recursos próprios</th>\n",
              "      <th>Rendimentos de aplicações financeiras</th>\n",
              "      <th>Total da receita</th>\n",
              "    </tr>\n",
              "  </thead>\n",
              "  <tbody>\n",
              "    <tr>\n",
              "      <th>0</th>\n",
              "      <td>ABER JOÁS TOFANELLI</td>\n",
              "      <td>PDT</td>\n",
              "      <td>Não eleito</td>\n",
              "      <td>0</td>\n",
              "      <td>2275.0</td>\n",
              "      <td>0.0</td>\n",
              "      <td>0.0</td>\n",
              "      <td>150000.00</td>\n",
              "      <td>0.0</td>\n",
              "      <td>610.00</td>\n",
              "      <td>0.0</td>\n",
              "      <td>152885.00</td>\n",
              "    </tr>\n",
              "    <tr>\n",
              "      <th>1</th>\n",
              "      <td>ABRAHAM BRAGANÇA DE VASCONCELLOS WEINTRAUB</td>\n",
              "      <td>PMB</td>\n",
              "      <td>Não eleito</td>\n",
              "      <td>0</td>\n",
              "      <td>4635.0</td>\n",
              "      <td>0.0</td>\n",
              "      <td>0.0</td>\n",
              "      <td>0.00</td>\n",
              "      <td>0.0</td>\n",
              "      <td>131300.01</td>\n",
              "      <td>0.0</td>\n",
              "      <td>135935.01</td>\n",
              "    </tr>\n",
              "    <tr>\n",
              "      <th>2</th>\n",
              "      <td>ADALBERTO FELICIO MALUF FILHO</td>\n",
              "      <td>PV</td>\n",
              "      <td>Suplente</td>\n",
              "      <td>0</td>\n",
              "      <td>0.0</td>\n",
              "      <td>0.0</td>\n",
              "      <td>0.0</td>\n",
              "      <td>309900.00</td>\n",
              "      <td>0.0</td>\n",
              "      <td>10000.00</td>\n",
              "      <td>0.0</td>\n",
              "      <td>319900.00</td>\n",
              "    </tr>\n",
              "    <tr>\n",
              "      <th>3</th>\n",
              "      <td>ADAMARIO MAXIMO DOS SANTOS FILHO</td>\n",
              "      <td>NOVO</td>\n",
              "      <td>Suplente</td>\n",
              "      <td>0</td>\n",
              "      <td>3220.0</td>\n",
              "      <td>0.0</td>\n",
              "      <td>0.0</td>\n",
              "      <td>1241.53</td>\n",
              "      <td>280.0</td>\n",
              "      <td>0.00</td>\n",
              "      <td>0.0</td>\n",
              "      <td>4741.53</td>\n",
              "    </tr>\n",
              "    <tr>\n",
              "      <th>4</th>\n",
              "      <td>ADAUTO BENTIVEGNA FILHO</td>\n",
              "      <td>AVANTE</td>\n",
              "      <td>Não eleito</td>\n",
              "      <td>0</td>\n",
              "      <td>0.0</td>\n",
              "      <td>0.0</td>\n",
              "      <td>0.0</td>\n",
              "      <td>54381.75</td>\n",
              "      <td>12300.0</td>\n",
              "      <td>59199.61</td>\n",
              "      <td>0.0</td>\n",
              "      <td>125881.36</td>\n",
              "    </tr>\n",
              "  </tbody>\n",
              "</table>\n",
              "</div>"
            ],
            "text/plain": [
              "Origem da receita                              Nome candidato Partido  \\\n",
              "0                                         ABER JOÁS TOFANELLI     PDT   \n",
              "1                  ABRAHAM BRAGANÇA DE VASCONCELLOS WEINTRAUB     PMB   \n",
              "2                               ADALBERTO FELICIO MALUF FILHO      PV   \n",
              "3                            ADAMARIO MAXIMO DOS SANTOS FILHO    NOVO   \n",
              "4                                     ADAUTO BENTIVEGNA FILHO  AVANTE   \n",
              "\n",
              "Origem da receita Situação de totalização  Doações pela Internet  \\\n",
              "0                              Não eleito                      0   \n",
              "1                              Não eleito                      0   \n",
              "2                                Suplente                      0   \n",
              "3                                Suplente                      0   \n",
              "4                              Não eleito                      0   \n",
              "\n",
              "Origem da receita  Recursos de Financiamento Coletivo  \\\n",
              "0                                              2275.0   \n",
              "1                                              4635.0   \n",
              "2                                                 0.0   \n",
              "3                                              3220.0   \n",
              "4                                                 0.0   \n",
              "\n",
              "Origem da receita  Recursos de origens não identificadas  \\\n",
              "0                                                    0.0   \n",
              "1                                                    0.0   \n",
              "2                                                    0.0   \n",
              "3                                                    0.0   \n",
              "4                                                    0.0   \n",
              "\n",
              "Origem da receita  Recursos de outros candidatos  \\\n",
              "0                                            0.0   \n",
              "1                                            0.0   \n",
              "2                                            0.0   \n",
              "3                                            0.0   \n",
              "4                                            0.0   \n",
              "\n",
              "Origem da receita  Recursos de partido político  Recursos de pessoas físicas  \\\n",
              "0                                     150000.00                          0.0   \n",
              "1                                          0.00                          0.0   \n",
              "2                                     309900.00                          0.0   \n",
              "3                                       1241.53                        280.0   \n",
              "4                                      54381.75                      12300.0   \n",
              "\n",
              "Origem da receita  Recursos próprios  Rendimentos de aplicações financeiras  \\\n",
              "0                             610.00                                    0.0   \n",
              "1                          131300.01                                    0.0   \n",
              "2                           10000.00                                    0.0   \n",
              "3                               0.00                                    0.0   \n",
              "4                           59199.61                                    0.0   \n",
              "\n",
              "Origem da receita  Total da receita  \n",
              "0                         152885.00  \n",
              "1                         135935.01  \n",
              "2                         319900.00  \n",
              "3                           4741.53  \n",
              "4                         125881.36  "
            ]
          },
          "execution_count": 44,
          "metadata": {},
          "output_type": "execute_result"
        }
      ],
      "source": [
        "import numpy as np\n",
        "\n",
        "df_cand_font = pd.pivot_table(df_receita, values='Valor de receita', index=['Nome candidato', 'Partido', 'Situação de totalização'], columns='Origem da receita', aggfunc=np.sum, fill_value=0)\n",
        "df_cand_font['Total da receita'] = df_cand_font.sum(axis=1)\n",
        "df_cand_font = df_cand_font.reset_index()\n",
        "df_cand_font.head()"
      ]
    },
    {
      "attachments": {},
      "cell_type": "markdown",
      "metadata": {},
      "source": [
        "# 6. Join"
      ]
    },
    {
      "cell_type": "code",
      "execution_count": 22,
      "metadata": {},
      "outputs": [
        {
          "data": {
            "text/html": [
              "<div>\n",
              "<style scoped>\n",
              "    .dataframe tbody tr th:only-of-type {\n",
              "        vertical-align: middle;\n",
              "    }\n",
              "\n",
              "    .dataframe tbody tr th {\n",
              "        vertical-align: top;\n",
              "    }\n",
              "\n",
              "    .dataframe thead th {\n",
              "        text-align: right;\n",
              "    }\n",
              "</style>\n",
              "<table border=\"1\" class=\"dataframe\">\n",
              "  <thead>\n",
              "    <tr style=\"text-align: right;\">\n",
              "      <th></th>\n",
              "      <th>Nome candidato</th>\n",
              "      <th>Situação totalização</th>\n",
              "      <th>Partido</th>\n",
              "      <th>Valor de receita</th>\n",
              "      <th>Quantidade de doadores</th>\n",
              "      <th>Votos nominais</th>\n",
              "      <th>R$/voto</th>\n",
              "    </tr>\n",
              "  </thead>\n",
              "  <tbody>\n",
              "    <tr>\n",
              "      <th>0</th>\n",
              "      <td>ABRAHAM BRAGANÇA DE VASCONCELLOS WEINTRAUB</td>\n",
              "      <td>Não Eleito</td>\n",
              "      <td>PMB</td>\n",
              "      <td>135935.01</td>\n",
              "      <td>2</td>\n",
              "      <td>4057</td>\n",
              "      <td>33.506288</td>\n",
              "    </tr>\n",
              "    <tr>\n",
              "      <th>1</th>\n",
              "      <td>ADALBERTO FELICIO MALUF FILHO</td>\n",
              "      <td>Suplente</td>\n",
              "      <td>PV</td>\n",
              "      <td>319900.00</td>\n",
              "      <td>3</td>\n",
              "      <td>3162</td>\n",
              "      <td>101.170145</td>\n",
              "    </tr>\n",
              "    <tr>\n",
              "      <th>2</th>\n",
              "      <td>ADAMARIO MAXIMO DOS SANTOS FILHO</td>\n",
              "      <td>Suplente</td>\n",
              "      <td>NOVO</td>\n",
              "      <td>4741.53</td>\n",
              "      <td>4</td>\n",
              "      <td>2597</td>\n",
              "      <td>1.825772</td>\n",
              "    </tr>\n",
              "    <tr>\n",
              "      <th>3</th>\n",
              "      <td>ADAUTO BENTIVEGNA FILHO</td>\n",
              "      <td>Não Eleito</td>\n",
              "      <td>AVANTE</td>\n",
              "      <td>125881.36</td>\n",
              "      <td>6</td>\n",
              "      <td>1002</td>\n",
              "      <td>125.630100</td>\n",
              "    </tr>\n",
              "    <tr>\n",
              "      <th>4</th>\n",
              "      <td>ADELAIDE CASTRO DE OLIVEIRA</td>\n",
              "      <td>Suplente</td>\n",
              "      <td>PODE</td>\n",
              "      <td>333923.20</td>\n",
              "      <td>8</td>\n",
              "      <td>1516</td>\n",
              "      <td>220.265963</td>\n",
              "    </tr>\n",
              "    <tr>\n",
              "      <th>...</th>\n",
              "      <td>...</td>\n",
              "      <td>...</td>\n",
              "      <td>...</td>\n",
              "      <td>...</td>\n",
              "      <td>...</td>\n",
              "      <td>...</td>\n",
              "      <td>...</td>\n",
              "    </tr>\n",
              "    <tr>\n",
              "      <th>1235</th>\n",
              "      <td>WILSON LIMA DA SILVA</td>\n",
              "      <td>Suplente</td>\n",
              "      <td>PSB</td>\n",
              "      <td>47796.36</td>\n",
              "      <td>2</td>\n",
              "      <td>645</td>\n",
              "      <td>74.102884</td>\n",
              "    </tr>\n",
              "    <tr>\n",
              "      <th>1236</th>\n",
              "      <td>YAN LOPES DE ALMEIDA</td>\n",
              "      <td>Suplente</td>\n",
              "      <td>PSC</td>\n",
              "      <td>88722.60</td>\n",
              "      <td>16</td>\n",
              "      <td>9112</td>\n",
              "      <td>9.736896</td>\n",
              "    </tr>\n",
              "    <tr>\n",
              "      <th>1237</th>\n",
              "      <td>YARA DE SOUZA LIMA</td>\n",
              "      <td>Não Eleito</td>\n",
              "      <td>PMN</td>\n",
              "      <td>20000.00</td>\n",
              "      <td>1</td>\n",
              "      <td>93</td>\n",
              "      <td>215.053763</td>\n",
              "    </tr>\n",
              "    <tr>\n",
              "      <th>1238</th>\n",
              "      <td>ZULEICA MADALENA SANTORO</td>\n",
              "      <td>Suplente</td>\n",
              "      <td>PODE</td>\n",
              "      <td>100669.00</td>\n",
              "      <td>2</td>\n",
              "      <td>416</td>\n",
              "      <td>241.992788</td>\n",
              "    </tr>\n",
              "    <tr>\n",
              "      <th>1239</th>\n",
              "      <td>ÉLCIO GUSSON</td>\n",
              "      <td>Não Eleito</td>\n",
              "      <td>PMN</td>\n",
              "      <td>20000.00</td>\n",
              "      <td>1</td>\n",
              "      <td>259</td>\n",
              "      <td>77.220077</td>\n",
              "    </tr>\n",
              "  </tbody>\n",
              "</table>\n",
              "<p>1240 rows × 7 columns</p>\n",
              "</div>"
            ],
            "text/plain": [
              "                                  Nome candidato Situação totalização Partido  \\\n",
              "0     ABRAHAM BRAGANÇA DE VASCONCELLOS WEINTRAUB           Não Eleito     PMB   \n",
              "1                  ADALBERTO FELICIO MALUF FILHO             Suplente      PV   \n",
              "2               ADAMARIO MAXIMO DOS SANTOS FILHO             Suplente    NOVO   \n",
              "3                        ADAUTO BENTIVEGNA FILHO           Não Eleito  AVANTE   \n",
              "4                    ADELAIDE CASTRO DE OLIVEIRA             Suplente    PODE   \n",
              "...                                          ...                  ...     ...   \n",
              "1235                        WILSON LIMA DA SILVA             Suplente     PSB   \n",
              "1236                        YAN LOPES DE ALMEIDA             Suplente     PSC   \n",
              "1237                          YARA DE SOUZA LIMA           Não Eleito     PMN   \n",
              "1238                    ZULEICA MADALENA SANTORO             Suplente    PODE   \n",
              "1239                                ÉLCIO GUSSON           Não Eleito     PMN   \n",
              "\n",
              "      Valor de receita  Quantidade de doadores  Votos nominais     R$/voto  \n",
              "0            135935.01                       2            4057   33.506288  \n",
              "1            319900.00                       3            3162  101.170145  \n",
              "2              4741.53                       4            2597    1.825772  \n",
              "3            125881.36                       6            1002  125.630100  \n",
              "4            333923.20                       8            1516  220.265963  \n",
              "...                ...                     ...             ...         ...  \n",
              "1235          47796.36                       2             645   74.102884  \n",
              "1236          88722.60                      16            9112    9.736896  \n",
              "1237          20000.00                       1              93  215.053763  \n",
              "1238         100669.00                       2             416  241.992788  \n",
              "1239          20000.00                       1             259   77.220077  \n",
              "\n",
              "[1240 rows x 7 columns]"
            ]
          },
          "execution_count": 22,
          "metadata": {},
          "output_type": "execute_result"
        }
      ],
      "source": [
        "df_votos = pd.read_csv('dados/votacao_candidato_SP.csv', encoding='latin-1', sep=';')\n",
        "df_votos = df_votos.groupby(['Nome candidato', 'Situação totalização', 'Partido']).agg({'Votos nominais':sum})\n",
        "df_candidatos = df_receita_candidato.join(df_votos, how='inner')\n",
        "df_candidatos = df_candidatos.reset_index()\n",
        "df_candidatos['R$/voto'] = df_candidatos['Valor de receita']/df_candidatos['Votos nominais']\n",
        "df_candidatos"
      ]
    },
    {
      "cell_type": "code",
      "execution_count": 23,
      "metadata": {},
      "outputs": [
        {
          "data": {
            "text/html": [
              "<div>\n",
              "<style scoped>\n",
              "    .dataframe tbody tr th:only-of-type {\n",
              "        vertical-align: middle;\n",
              "    }\n",
              "\n",
              "    .dataframe tbody tr th {\n",
              "        vertical-align: top;\n",
              "    }\n",
              "\n",
              "    .dataframe thead th {\n",
              "        text-align: right;\n",
              "    }\n",
              "</style>\n",
              "<table border=\"1\" class=\"dataframe\">\n",
              "  <thead>\n",
              "    <tr style=\"text-align: right;\">\n",
              "      <th></th>\n",
              "      <th>Nome candidato</th>\n",
              "      <th>Situação totalização</th>\n",
              "      <th>Partido</th>\n",
              "      <th>Valor de receita</th>\n",
              "      <th>Quantidade de doadores</th>\n",
              "      <th>Votos nominais</th>\n",
              "      <th>R$/voto</th>\n",
              "    </tr>\n",
              "  </thead>\n",
              "  <tbody>\n",
              "    <tr>\n",
              "      <th>575</th>\n",
              "      <td>JONAS DONIZETTE FERREIRA</td>\n",
              "      <td>Eleito</td>\n",
              "      <td>PSB</td>\n",
              "      <td>3147286.96</td>\n",
              "      <td>59</td>\n",
              "      <td>84044</td>\n",
              "      <td>37.448086</td>\n",
              "    </tr>\n",
              "    <tr>\n",
              "      <th>405</th>\n",
              "      <td>FAUSTO RUY PINATO</td>\n",
              "      <td>Eleito</td>\n",
              "      <td>PP</td>\n",
              "      <td>2530515.27</td>\n",
              "      <td>19</td>\n",
              "      <td>72169</td>\n",
              "      <td>35.063743</td>\n",
              "    </tr>\n",
              "    <tr>\n",
              "      <th>130</th>\n",
              "      <td>ARNALDO CALIL PEREIRA JARDIM</td>\n",
              "      <td>Eleito</td>\n",
              "      <td>CIDADANIA</td>\n",
              "      <td>3789999.99</td>\n",
              "      <td>70</td>\n",
              "      <td>113462</td>\n",
              "      <td>33.403254</td>\n",
              "    </tr>\n",
              "    <tr>\n",
              "      <th>422</th>\n",
              "      <td>FERNANDO JOSE DE SOUZA MARANGONI</td>\n",
              "      <td>Eleito</td>\n",
              "      <td>UNIÃO</td>\n",
              "      <td>2876708.34</td>\n",
              "      <td>48</td>\n",
              "      <td>89390</td>\n",
              "      <td>32.181545</td>\n",
              "    </tr>\n",
              "    <tr>\n",
              "      <th>819</th>\n",
              "      <td>MARIA DO PARTO MENDES ROSAS</td>\n",
              "      <td>Eleito</td>\n",
              "      <td>REPUBLICANOS</td>\n",
              "      <td>2899335.60</td>\n",
              "      <td>5</td>\n",
              "      <td>94787</td>\n",
              "      <td>30.587903</td>\n",
              "    </tr>\n",
              "    <tr>\n",
              "      <th>...</th>\n",
              "      <td>...</td>\n",
              "      <td>...</td>\n",
              "      <td>...</td>\n",
              "      <td>...</td>\n",
              "      <td>...</td>\n",
              "      <td>...</td>\n",
              "      <td>...</td>\n",
              "    </tr>\n",
              "    <tr>\n",
              "      <th>943</th>\n",
              "      <td>PAULO FRANCISCO MUNIZ BILYNSKYJ</td>\n",
              "      <td>Eleito</td>\n",
              "      <td>PL</td>\n",
              "      <td>221147.64</td>\n",
              "      <td>9</td>\n",
              "      <td>72156</td>\n",
              "      <td>3.064854</td>\n",
              "    </tr>\n",
              "    <tr>\n",
              "      <th>492</th>\n",
              "      <td>GUILHERME CASTRO BOULOS</td>\n",
              "      <td>Eleito</td>\n",
              "      <td>PSOL</td>\n",
              "      <td>2829243.22</td>\n",
              "      <td>76</td>\n",
              "      <td>1001472</td>\n",
              "      <td>2.825085</td>\n",
              "    </tr>\n",
              "    <tr>\n",
              "      <th>851</th>\n",
              "      <td>MARIO PALUMBO JUNIOR</td>\n",
              "      <td>Eleito</td>\n",
              "      <td>MDB</td>\n",
              "      <td>585331.00</td>\n",
              "      <td>56</td>\n",
              "      <td>254898</td>\n",
              "      <td>2.296334</td>\n",
              "    </tr>\n",
              "    <tr>\n",
              "      <th>161</th>\n",
              "      <td>CARLA ZAMBELLI SALGADO DE OLIVEIRA</td>\n",
              "      <td>Eleito</td>\n",
              "      <td>PL</td>\n",
              "      <td>2146899.69</td>\n",
              "      <td>57</td>\n",
              "      <td>946244</td>\n",
              "      <td>2.268865</td>\n",
              "    </tr>\n",
              "    <tr>\n",
              "      <th>316</th>\n",
              "      <td>EDUARDO NANTES BOLSONARO</td>\n",
              "      <td>Eleito</td>\n",
              "      <td>PL</td>\n",
              "      <td>807241.63</td>\n",
              "      <td>7</td>\n",
              "      <td>741701</td>\n",
              "      <td>1.088365</td>\n",
              "    </tr>\n",
              "  </tbody>\n",
              "</table>\n",
              "<p>65 rows × 7 columns</p>\n",
              "</div>"
            ],
            "text/plain": [
              "                         Nome candidato Situação totalização       Partido  \\\n",
              "575            JONAS DONIZETTE FERREIRA               Eleito           PSB   \n",
              "405                   FAUSTO RUY PINATO               Eleito            PP   \n",
              "130        ARNALDO CALIL PEREIRA JARDIM               Eleito     CIDADANIA   \n",
              "422    FERNANDO JOSE DE SOUZA MARANGONI               Eleito         UNIÃO   \n",
              "819         MARIA DO PARTO MENDES ROSAS               Eleito  REPUBLICANOS   \n",
              "..                                  ...                  ...           ...   \n",
              "943     PAULO FRANCISCO MUNIZ BILYNSKYJ               Eleito            PL   \n",
              "492             GUILHERME CASTRO BOULOS               Eleito          PSOL   \n",
              "851                MARIO PALUMBO JUNIOR               Eleito           MDB   \n",
              "161  CARLA ZAMBELLI SALGADO DE OLIVEIRA               Eleito            PL   \n",
              "316            EDUARDO NANTES BOLSONARO               Eleito            PL   \n",
              "\n",
              "     Valor de receita  Quantidade de doadores  Votos nominais    R$/voto  \n",
              "575        3147286.96                      59           84044  37.448086  \n",
              "405        2530515.27                      19           72169  35.063743  \n",
              "130        3789999.99                      70          113462  33.403254  \n",
              "422        2876708.34                      48           89390  32.181545  \n",
              "819        2899335.60                       5           94787  30.587903  \n",
              "..                ...                     ...             ...        ...  \n",
              "943         221147.64                       9           72156   3.064854  \n",
              "492        2829243.22                      76         1001472   2.825085  \n",
              "851         585331.00                      56          254898   2.296334  \n",
              "161        2146899.69                      57          946244   2.268865  \n",
              "316         807241.63                       7          741701   1.088365  \n",
              "\n",
              "[65 rows x 7 columns]"
            ]
          },
          "execution_count": 23,
          "metadata": {},
          "output_type": "execute_result"
        }
      ],
      "source": [
        "df_candidatos[df_candidatos['Situação totalização']== 'Eleito'].sort_values('R$/voto', ascending=False)"
      ]
    },
    {
      "cell_type": "code",
      "execution_count": 24,
      "metadata": {},
      "outputs": [
        {
          "data": {
            "text/plain": [
              "13.783709949932835"
            ]
          },
          "execution_count": 24,
          "metadata": {},
          "output_type": "execute_result"
        }
      ],
      "source": [
        "df_candidatos[df_candidatos['Situação totalização']== 'Eleito']['R$/voto'].mean()"
      ]
    },
    {
      "cell_type": "code",
      "execution_count": 25,
      "metadata": {},
      "outputs": [
        {
          "data": {
            "text/plain": [
              "<Axes: xlabel='R$/voto', ylabel='Count'>"
            ]
          },
          "execution_count": 25,
          "metadata": {},
          "output_type": "execute_result"
        },
        {
          "data": {
            "image/png": "[encoded data removed]",
            "text/plain": [
              "<Figure size 640x480 with 1 Axes>"
            ]
          },
          "metadata": {},
          "output_type": "display_data"
        }
      ],
      "source": [
        "import seaborn as sns\n",
        "\n",
        "sns.histplot(data=df_candidatos, x='R$/voto')"
      ]
    },
    {
      "attachments": {},
      "cell_type": "markdown",
      "metadata": {},
      "source": [
        "# 7. Correlação"
      ]
    },
    {
      "cell_type": "code",
      "execution_count": null,
      "metadata": {},
      "outputs": [
        {
          "name": "stderr",
          "output_type": "stream",
          "text": [
            "C:\\Users\\jayme\\AppData\\Local\\Temp\\ipykernel_38412\\942885752.py:3: FutureWarning: The default value of numeric_only in DataFrame.corr is deprecated. In a future version, it will default to False. Select only valid columns or specify the value of numeric_only to silence this warning.\n",
            "  plot = sn.heatmap(df_candidatos.corr(), annot = True, fmt=\".1f\", linewidths=.6)\n"
          ]
        },
        {
          "data": {
            "text/plain": [
              "<Axes: >"
            ]
          },
          "execution_count": 9,
          "metadata": {},
          "output_type": "execute_result"
        },
        {
          "data": {
            "image/png": "[encoded data removed]",
            "text/plain": [
              "<Figure size 640x480 with 2 Axes>"
            ]
          },
          "metadata": {},
          "output_type": "display_data"
        }
      ],
      "source": [
        "import seaborn as sn\n",
        "\n",
        "plot = sn.heatmap(df_candidatos.corr(), annot = True, fmt=\".1f\", linewidths=.6)\n",
        "plot"
      ]
    },
    {
      "attachments": {},
      "cell_type": "markdown",
      "metadata": {},
      "source": [
        "# 8. Graficos"
      ]
    },
    {
      "cell_type": "code",
      "execution_count": null,
      "metadata": {},
      "outputs": [
        {
          "data": {
            "text/plain": [
              "<seaborn.axisgrid.FacetGrid at 0x18d4827a0d0>"
            ]
          },
          "execution_count": 10,
          "metadata": {},
          "output_type": "execute_result"
        },
        {
          "data": {
            "image/png": "[encoded data removed]",
            "text/plain": [
              "<Figure size 500x500 with 1 Axes>"
            ]
          },
          "metadata": {},
          "output_type": "display_data"
        }
      ],
      "source": [
        "import seaborn as sns\n",
        "sns.lmplot(data=df_candidatos.reset_index(), y=\"Votos nominais\", x=\"Valor de receita\")"
      ]
    },
    {
      "cell_type": "code",
      "execution_count": null,
      "metadata": {},
      "outputs": [
        {
          "data": {
            "text/plain": [
              "<seaborn.axisgrid.FacetGrid at 0x18d483e2bd0>"
            ]
          },
          "execution_count": 50,
          "metadata": {},
          "output_type": "execute_result"
        },
        {
          "data": {
            "image/png": "[encoded data removed]",
            "text/plain": [
              "<Figure size 652.361x500 with 1 Axes>"
            ]
          },
          "metadata": {},
          "output_type": "display_data"
        }
      ],
      "source": [
        "import seaborn as sns\n",
        "sns.lmplot(data=df_candidatos.reset_index(), y=\"Votos nominais\", x=\"Valor de receita\", hue='Situação totalização')"
      ]
    },
    {
      "cell_type": "code",
      "execution_count": null,
      "metadata": {},
      "outputs": [
        {
          "data": {
            "application/vnd.plotly.v1+json": {
              "config": {
                "plotlyServerURL": "https://plot.ly"
              },
              "data": [
                {
                  "customdata": [
                    [
                      "ABRAHAM BRAGANÇA DE VASCONCELLOS WEINTRAUB",
                      "PMB"
                    ],
                    [
                      "ADAUTO BENTIVEGNA FILHO",
                      "AVANTE"
                    ],
                    [
                      "ADELSON DE SOUZA PENHA",
                      "AGIR"
                    ],
                    [
                      "ADEMIR CREPALDI",
                      "PRTB"
                    ],
                    [
                      "ADEMIR DA PENHA CLEMENTE",
                      "PRTB"
                    ],
                    [
                      "ADEMIR RODRIGO DA LUZ",
                      "AGIR"
                    ],
                    [
                      "ADEMIR RODRIGUES PEREIRA",
                      "AVANTE"
                    ],
                    [
                      "ADEVAR CAMPANA",
                      "PATRIOTA"
                    ],
                    [
                      "ADRIANA PIERIN",
                      "AVANTE"
                    ],
                    [
                      "ADRIANO CESAR DA SILVEIRA ZAMBELLI",
                      "PDT"
                    ],
                    [
                      "ADRILLES REIS JORGE",
                      "PTB"
                    ],
                    [
                      "AGNALDO APARECIDO DE ARAUJO",
                      "AVANTE"
                    ],
                    [
                      "AGNALDO JOSÉ DOS SANTOS",
                      "PMB"
                    ],
                    [
                      "AILTON BOLIGNARI",
                      "DC"
                    ],
                    [
                      "ALESSANDRA RUDOLPHO STRINGHETA BARBOSA",
                      "PATRIOTA"
                    ],
                    [
                      "ALESSANDRA SOUZA VALIM",
                      "PTB"
                    ],
                    [
                      "ALLAN ARONI",
                      "PRTB"
                    ],
                    [
                      "ALLAN SERGIO NASCIMENTO",
                      "AGIR"
                    ],
                    [
                      "ALTAIR CAMPANA",
                      "PTB"
                    ],
                    [
                      "ALUISIO LUNDGREN CORREA REGIS",
                      "PROS"
                    ],
                    [
                      "AMANDA SANTOS DA SILVA",
                      "PATRIOTA"
                    ],
                    [
                      "AMARO MACHADO SOARES NETO",
                      "PMN"
                    ],
                    [
                      "AMÉRICO ALEXANDRE CIANFARANI XAVIER",
                      "PDT"
                    ],
                    [
                      "ANA CLÁUDIA FERREIRA DE PAIVA",
                      "PDT"
                    ],
                    [
                      "ANDERSON ALVES SIMÕES",
                      "AVANTE"
                    ],
                    [
                      "ANDERSON GOMES DE CAMPOS",
                      "PRTB"
                    ],
                    [
                      "ANDERSON GONDIM SAMPAIO",
                      "PTB"
                    ],
                    [
                      "ANDERSON LUIZ BIANCHINI",
                      "PROS"
                    ],
                    [
                      "ANDRE EDUARDO RIBEIRO",
                      "PATRIOTA"
                    ],
                    [
                      "ANDRE HENRIQUE BUENO DE OLIVEIRA",
                      "PATRIOTA"
                    ],
                    [
                      "ANDRE LUIS RAMOS PEDROSO",
                      "PTB"
                    ],
                    [
                      "ANDRÉ DA SILVA ROSA",
                      "AVANTE"
                    ],
                    [
                      "ANDRÉ LUIS DE MORAES",
                      "PDT"
                    ],
                    [
                      "ANETE MARIA PIZZIMENTI",
                      "PRTB"
                    ],
                    [
                      "ANGELA ISABEL RODRIGUES",
                      "PRTB"
                    ],
                    [
                      "ANTONIO CARLOS MARCIANO",
                      "PROS"
                    ],
                    [
                      "ANTONIO CARLOS TONINI",
                      "AGIR"
                    ],
                    [
                      "ANTONIO DONIZETE LIMA DE ALENCAR",
                      "PROS"
                    ],
                    [
                      "ANTONIO FERNANDES DOS SANTOS NETO",
                      "PDT"
                    ],
                    [
                      "ANTONIO MARCOS DA SILVA POLYCENO",
                      "AVANTE"
                    ],
                    [
                      "ANTONIO MARIO DE PAULA FERREIRA IELO",
                      "PDT"
                    ],
                    [
                      "ANTONIO RAIMUNDO FEDOSSI",
                      "PTB"
                    ],
                    [
                      "ANTONIO RIBEIRO DUARTE",
                      "PSTU"
                    ],
                    [
                      "APARECIDO RODRIGUES DE SIQUEIRA",
                      "PRTB"
                    ],
                    [
                      "APARECIDO RUBENS DE ANDRADE",
                      "PROS"
                    ],
                    [
                      "ARMANDO INFANTI JUNIOR",
                      "PATRIOTA"
                    ],
                    [
                      "ARTHUR BRAGANCA DE VASCONCELLOS WEINTRAUB",
                      "PMB"
                    ],
                    [
                      "ARTUR ROGÉRIO GUIMARÃES",
                      "PMN"
                    ],
                    [
                      "BEATRIZ BARBIERE OLIVEIRA",
                      "PCB"
                    ],
                    [
                      "BEATRIZ CAROLINA REIS",
                      "PRTB"
                    ],
                    [
                      "BENEDITO PEREIRA COSTA JÚNIOR",
                      "PATRIOTA"
                    ],
                    [
                      "BIANCA MARIA DELLA SANTA PIMENTA",
                      "PROS"
                    ],
                    [
                      "BOLIVAR FUNDÃO FILHO",
                      "PTB"
                    ],
                    [
                      "BRUNO MADEIRA DE CARVALHO",
                      "PTB"
                    ],
                    [
                      "BRUNO MARINHO BARCELLOS",
                      "PRTB"
                    ],
                    [
                      "CAIO LYSIAS SPINA",
                      "PMN"
                    ],
                    [
                      "CAMILA GARCIA",
                      "PATRIOTA"
                    ],
                    [
                      "CARLOS ALBERTO ADÃO",
                      "AVANTE"
                    ],
                    [
                      "CARLOS ALBERTO CANTELLI",
                      "AGIR"
                    ],
                    [
                      "CARLOS ANTONIO FERREIRA DOS SANTOS",
                      "PATRIOTA"
                    ],
                    [
                      "CARLOS AUGUSTO LESSA",
                      "DC"
                    ],
                    [
                      "CARLOS HENRIQUE DARDE",
                      "AGIR"
                    ],
                    [
                      "CARLOS ROBERTO DE ALMEIDA",
                      "AGIR"
                    ],
                    [
                      "CASSIO ELMO GONÇALVES GALLO",
                      "PATRIOTA"
                    ],
                    [
                      "CELSO LUIZ PEREIRA",
                      "PMB"
                    ],
                    [
                      "CLAUDIA KEITI DA COSTA",
                      "PDT"
                    ],
                    [
                      "CLAUDIA SANTOS LEAL",
                      "PATRIOTA"
                    ],
                    [
                      "CLAUDIMAR AMARO DE ANDRADE RODRIGUES",
                      "PCB"
                    ],
                    [
                      "CLAUDINEI DE OLIVEIRA BARBOSA",
                      "PTB"
                    ],
                    [
                      "CLAUDINEIA MOREIRA DE ALMEIDA",
                      "PTB"
                    ],
                    [
                      "CLAUDIO DONIZETE DOS REIS",
                      "PSTU"
                    ],
                    [
                      "CLAUDIO PERESSIM",
                      "PATRIOTA"
                    ],
                    [
                      "CLAUDIO SIDNEI RIBEIRO",
                      "AGIR"
                    ],
                    [
                      "CLEBER MACARIO DE MACEDO",
                      "PDT"
                    ],
                    [
                      "CLENILZA PANATO",
                      "PCO"
                    ],
                    [
                      "CLEOMENES ANTUNES JUNIOR",
                      "AVANTE"
                    ],
                    [
                      "CLOVES ALVES DOS SANTOS",
                      "PDT"
                    ],
                    [
                      "CLOVIS PEREIRA JURADO",
                      "AVANTE"
                    ],
                    [
                      "COSME APARECIDO FELIX",
                      "AVANTE"
                    ],
                    [
                      "CRISTIANE BRASIL FRANCISCO",
                      "PTB"
                    ],
                    [
                      "CRISTINA ROHRBACHER",
                      "AVANTE"
                    ],
                    [
                      "DAGMAR PEREIRA DE SOUZA MOITINHO DE LIMA CRUZ",
                      "AGIR"
                    ],
                    [
                      "DAISE MARIA PEREIRA SILVA",
                      "PTB"
                    ],
                    [
                      "DANIEL BELCHIOR SANTANA",
                      "PROS"
                    ],
                    [
                      "DANIEL MIGUEL",
                      "PTB"
                    ],
                    [
                      "DANIEL MONTEIRO COSTA",
                      "PDT"
                    ],
                    [
                      "DANIEL OCTACÍLIO DE PAULA",
                      "PMN"
                    ],
                    [
                      "DANILA CINTIA AZEVEDO DE OLIVEIRA",
                      "PTB"
                    ],
                    [
                      "DANILO ANDRÉ MOSER",
                      "PRTB"
                    ],
                    [
                      "DARLEY JEAN ALBUQUERQUE BARBOSA",
                      "PMN"
                    ],
                    [
                      "DAVID JOSE BUENO GOMES",
                      "SOLIDARIEDADE"
                    ],
                    [
                      "DEBORAH SOARES RESEK",
                      "AGIR"
                    ],
                    [
                      "DECIO COUTO CLEMENTE",
                      "PROS"
                    ],
                    [
                      "DEJAIR DIAS DA SILVA",
                      "PDT"
                    ],
                    [
                      "DENILCE JOSEFINA NICOLA",
                      "AGIR"
                    ],
                    [
                      "DENILSON MIOTTO",
                      "PTB"
                    ],
                    [
                      "DIENES PEREIRA DE SOUZA",
                      "PRTB"
                    ],
                    [
                      "DIJAIR DE JESUS ALMEIDA",
                      "PDT"
                    ],
                    [
                      "DIMITRI SEAN RIBEIRO CARNEIRO",
                      "PDT"
                    ],
                    [
                      "DURVAL LOPES ORLATO",
                      "PROS"
                    ],
                    [
                      "EDER DIAS MASCARENHAS",
                      "AGIR"
                    ],
                    [
                      "EDER SOLDERA BORGHETTI",
                      "AGIR"
                    ],
                    [
                      "EDIMARCOS FERREIRA DA SILVA",
                      "PROS"
                    ],
                    [
                      "EDINALDO ANTÔNIO DO CARMO",
                      "PMN"
                    ],
                    [
                      "EDIVALDO CORREIA DE OLIVEIRA",
                      "DC"
                    ],
                    [
                      "EDJANE LIMA DE AZEVEDO",
                      "PROS"
                    ],
                    [
                      "EDSON FAGUNDES DE OLIVEIRA",
                      "PMB"
                    ],
                    [
                      "EDUARDO CAMILO TERRA DOS SANTOS",
                      "PCB"
                    ],
                    [
                      "EDUARDO COSENTINO DA CUNHA",
                      "PTB"
                    ],
                    [
                      "EDUARDO DIAS REAL",
                      "PCB"
                    ],
                    [
                      "EDUARDO SIVINSKI",
                      "AVANTE"
                    ],
                    [
                      "EDUARDO VALERIANO DOS SANTOS",
                      "PATRIOTA"
                    ],
                    [
                      "EDVALDO DE OLIVEIRA PAULA",
                      "PATRIOTA"
                    ],
                    [
                      "EDVALDO RANZANI CARLOS",
                      "AGIR"
                    ],
                    [
                      "ELIANA GALVÃO DIAS",
                      "PRTB"
                    ],
                    [
                      "ELIANA OLIVEIRA DE LIMA",
                      "AGIR"
                    ],
                    [
                      "ELIANE CRISTINA CAMARGO",
                      "AVANTE"
                    ],
                    [
                      "ELIANE CRISTINA GANZAROLI DA SILVA",
                      "AGIR"
                    ],
                    [
                      "ELIAS ARACATI PAIVA",
                      "AVANTE"
                    ],
                    [
                      "ELIAS ASSIS NETO",
                      "AVANTE"
                    ],
                    [
                      "ELIAS TADEU NOGUEIRA DE OLIVEIRA",
                      "PMB"
                    ],
                    [
                      "ELIMARA LOTERIO DA SILVA DIAS",
                      "PMN"
                    ],
                    [
                      "ELISA CLAUDIA COUTINHO",
                      "AVANTE"
                    ],
                    [
                      "ELISANGELA BRITO DO NASCIMENTO",
                      "PMN"
                    ],
                    [
                      "ELISANGELA JOVANA DOS SANTOS",
                      "PATRIOTA"
                    ],
                    [
                      "ELISANGELA MARIA FERREIRA",
                      "PRTB"
                    ],
                    [
                      "ELISANGELA VIEIRA FERREIRA",
                      "PATRIOTA"
                    ],
                    [
                      "ELIVALDO NOGUEIRA CHAVES",
                      "PMN"
                    ],
                    [
                      "ELIZA MURATORI DE SOUZA",
                      "PRTB"
                    ],
                    [
                      "ELIZANGELA MOREIRA SOARES DE SOUZA",
                      "PMN"
                    ],
                    [
                      "ELTON HUGO NEGRINI",
                      "PRTB"
                    ],
                    [
                      "ELZA ALVES DE CARVALHO",
                      "PDT"
                    ],
                    [
                      "EMANOEL DE CARVALHO MOURA",
                      "AVANTE"
                    ],
                    [
                      "EMERSON LUIZ DA CRUZ",
                      "PATRIOTA"
                    ],
                    [
                      "EMERSON VIRGILIO VENANCIO",
                      "AGIR"
                    ],
                    [
                      "ERICA CRISTINA ROCHA GORGA",
                      "PATRIOTA"
                    ],
                    [
                      "ERICK JOSÉ ELOI DO NASCIMENTO",
                      "PDT"
                    ],
                    [
                      "ERICO ROMÃO DE VILLALBA ALVIM",
                      "PROS"
                    ],
                    [
                      "ERNESTO BENEDITO NÓBILE",
                      "AVANTE"
                    ],
                    [
                      "EUCLYDES DIAS BUCHLER",
                      "AVANTE"
                    ],
                    [
                      "EZEQUIEL SOUZA DE SÁ",
                      "PRTB"
                    ],
                    [
                      "FABIANA OLIVEIRA DA SILVA",
                      "AVANTE"
                    ],
                    [
                      "FABIO BLANES",
                      "AVANTE"
                    ],
                    [
                      "FABIO DE VASCONCELOS LIMA",
                      "AGIR"
                    ],
                    [
                      "FABRICIO DE CARVALHO SILVA",
                      "PATRIOTA"
                    ],
                    [
                      "FELICIANO NAHIMY FILHO",
                      "PATRIOTA"
                    ],
                    [
                      "FELIPE AUGUSTO TEDESCHI LINTZ",
                      "PATRIOTA"
                    ],
                    [
                      "FERNANDA ALVES SILVA",
                      "PATRIOTA"
                    ],
                    [
                      "FERNANDO BELCHIOR DIAS",
                      "PATRIOTA"
                    ],
                    [
                      "FERNANDO CHIARELLI",
                      "PATRIOTA"
                    ],
                    [
                      "FLAVIA FERREIRA DO PRADO",
                      "PATRIOTA"
                    ],
                    [
                      "FLAVIANE MENESES AQUINO",
                      "PTB"
                    ],
                    [
                      "FLAVIO ROBERTO CASIMIRO",
                      "AGIR"
                    ],
                    [
                      "FLAVIO SILVA DE FREITAS",
                      "PATRIOTA"
                    ],
                    [
                      "FLAVIUS COTAIT RUGGIERO",
                      "PRTB"
                    ],
                    [
                      "FLÁVIO DOS SANTOS ALECRIM",
                      "PMN"
                    ],
                    [
                      "FRANCIELLE LUZIA DE SOUZA DURAN",
                      "PMN"
                    ],
                    [
                      "FRANCISCA SILVA SERRA MATIAS",
                      "AVANTE"
                    ],
                    [
                      "FRANCISCO ALVES DA SILVA",
                      "AVANTE"
                    ],
                    [
                      "FRANCISCO JOSÉ DA CRUZ FILHO",
                      "PMN"
                    ],
                    [
                      "FÁBIO DE ARAÚJO PATUSSO",
                      "PMN"
                    ],
                    [
                      "FÁBIO SARTORI MANFRINATO",
                      "PATRIOTA"
                    ],
                    [
                      "FÁBIO SILVA MOREIRA",
                      "PDT"
                    ],
                    [
                      "FÁTIMA MAGALHÃES DE OLIVEIRA",
                      "AVANTE"
                    ],
                    [
                      "GABRIEL HENRIQUE MARUCCI",
                      "PCB"
                    ],
                    [
                      "GABRIELA GUERRERO ARIONE",
                      "PSTU"
                    ],
                    [
                      "GEFFERSON LUIS DE SOUSA ROSA",
                      "AVANTE"
                    ],
                    [
                      "GENERSON JOSE FAUSTINO",
                      "PROS"
                    ],
                    [
                      "GERALDO JERÔNIMO GONÇALVES",
                      "PDT"
                    ],
                    [
                      "GILBERTO MACHADO DE OLIVEIRA MARQUES",
                      "AVANTE"
                    ],
                    [
                      "GILBERTO SILVA LIMA",
                      "AGIR"
                    ],
                    [
                      "GILMAR APARECIDO RODRIGUES",
                      "PATRIOTA"
                    ],
                    [
                      "GILSON DE SOUZA CARVALHO",
                      "PDT"
                    ],
                    [
                      "GILVANDRO JOSÉ ALVES DE OLIVEIRA FILHO",
                      "PDT"
                    ],
                    [
                      "GIOVANI FALCONE DE CRISTO ALVES",
                      "PRTB"
                    ],
                    [
                      "GISELDA MÁXIMO DE LIMA",
                      "AVANTE"
                    ],
                    [
                      "GLAUCE KELLY DOS SANTOS ADÃO LIMA",
                      "PDT"
                    ],
                    [
                      "GLAUCIA MAXIMO DOS SANTOS",
                      "PATRIOTA"
                    ],
                    [
                      "GLÁUCIA ASSUNÇÃO DE OLIVEIRA",
                      "PMN"
                    ],
                    [
                      "GONZAGA MENDES DE OLIVEIRA",
                      "AGIR"
                    ],
                    [
                      "GREICE NAOMI YAMAGUCHI",
                      "PROS"
                    ],
                    [
                      "GUILHERME SORICILLO BUNGER",
                      "PTB"
                    ],
                    [
                      "GUSTAVO MARTINS PICCOLO",
                      "PDT"
                    ],
                    [
                      "HAROLDO LOUZADA DE MAGALHÃES VIANA",
                      "PATRIOTA"
                    ],
                    [
                      "HEITOR ALVES",
                      "PDT"
                    ],
                    [
                      "HELOIZA RAVASQ DA SILVA",
                      "PMN"
                    ],
                    [
                      "HELTON MICHAEL LEITE FERREIRA",
                      "PMN"
                    ],
                    [
                      "HERMES RODRIGUES NERY",
                      "PRTB"
                    ],
                    [
                      "HOMERO DE GIORGE CERQUEIRA",
                      "PROS"
                    ],
                    [
                      "HUGO GOMES PAIVA",
                      "PTB"
                    ],
                    [
                      "HÉLIO TELES ALVES",
                      "PMN"
                    ],
                    [
                      "IARA REGINA CORRÊA GUSMÃO",
                      "AVANTE"
                    ],
                    [
                      "IRIS MARIA BARROS DE BRITO",
                      "AGIR"
                    ],
                    [
                      "ISABEL ALINE ROSA",
                      "PMB"
                    ],
                    [
                      "ISIS MUSTAFÁ DE ASSIS",
                      "UP"
                    ],
                    [
                      "ITALO LORENZON NETO",
                      "PTB"
                    ],
                    [
                      "IVAN RICARDO GARISIO SARTORI",
                      "AVANTE"
                    ],
                    [
                      "IVANDA MARIA RODRIGUES COSTA",
                      "PMN"
                    ],
                    [
                      "IZADORA CRISTINA DIAS DA SILVA",
                      "PCO"
                    ],
                    [
                      "JACKSON HENRIQUE DE SOUZA",
                      "PATRIOTA"
                    ],
                    [
                      "JACQUELINE MOREIRA DOS SANTOS ALMEIDA",
                      "AVANTE"
                    ],
                    [
                      "JAIR GOMES DA SILVA",
                      "PTB"
                    ],
                    [
                      "JANAÍNA VALÉRIA BUCKER RIEDO",
                      "PRTB"
                    ],
                    [
                      "JENNIFER ADRIELI CERQUEIRA LEITE LOPES",
                      "AGIR"
                    ],
                    [
                      "JESSICA PASCOAL ALVES",
                      "PRTB"
                    ],
                    [
                      "JESSICA VILOCANIA SEVERINO",
                      "PATRIOTA"
                    ],
                    [
                      "JOARLEY MOISES ALVES DOS SANTOS",
                      "PTB"
                    ],
                    [
                      "JOEL ANTONIO DE MELLO",
                      "PTB"
                    ],
                    [
                      "JOEL DE MELO",
                      "AVANTE"
                    ],
                    [
                      "JONAS AUGUSTO MIGUEL MACHADO",
                      "AGIR"
                    ],
                    [
                      "JONATHAN PEREIRA DE SOUZA",
                      "PMN"
                    ],
                    [
                      "JORGE AUGUSTO FIGO PESSOA",
                      "PDT"
                    ],
                    [
                      "JORGE EDUARDO RUBIES",
                      "AVANTE"
                    ],
                    [
                      "JOSE CARLOS FERREIRA BARBOSA",
                      "PTB"
                    ],
                    [
                      "JOSE CICERO DE OLIVEIRA",
                      "AGIR"
                    ],
                    [
                      "JOSE MANOEL DE LIRA FILHO",
                      "AGIR"
                    ],
                    [
                      "JOSÉ ALFREDO GARCIA DOS SANTOS",
                      "PRTB"
                    ],
                    [
                      "JOSÉ ANTONIO DE GÓES FILHO",
                      "PATRIOTA"
                    ],
                    [
                      "JOSÉ AUGUSTINHO DOS SANTOS",
                      "AGIR"
                    ],
                    [
                      "JOSÉ AUGUSTO BARBOSA DA SILVA",
                      "PMN"
                    ],
                    [
                      "JOSÉ AUGUSTO FERREIRA",
                      "DC"
                    ],
                    [
                      "JOSÉ DE CASTRO COIMBRA",
                      "AVANTE"
                    ],
                    [
                      "JOSÉ DOMINGOS BITTENCOURT",
                      "AVANTE"
                    ],
                    [
                      "JOSÉ EDINALDO DE OLIVEIRA",
                      "PATRIOTA"
                    ],
                    [
                      "JOSÉ EDMILSON FERREIRA DOS SANTOS",
                      "AVANTE"
                    ],
                    [
                      "JOSÉ EDVALDO BRITO",
                      "AVANTE"
                    ],
                    [
                      "JOSÉ MAURO SOUZA DA SILVA",
                      "PMN"
                    ],
                    [
                      "JOSÉ ROBERTO DE CASTRO",
                      "PATRIOTA"
                    ],
                    [
                      "JOSÉ VASCONCELO VIANA",
                      "PMN"
                    ],
                    [
                      "JOÃO FRANCISCO GARCIA",
                      "PMN"
                    ],
                    [
                      "JOÃO JORGE CAPRONI COSTA PIMENTA",
                      "PCO"
                    ],
                    [
                      "JOÃO ROBERTO DE SOUZA",
                      "DC"
                    ],
                    [
                      "JOÃO ROBERTO TRINDADE",
                      "PRTB"
                    ],
                    [
                      "JULIANA PINTO GONÇALVES",
                      "PTB"
                    ],
                    [
                      "JULIANA VALÉRIA DA SILVA",
                      "AVANTE"
                    ],
                    [
                      "JULIANO TAKESHI KOCHI",
                      "AGIR"
                    ],
                    [
                      "JUNIA CRISTINA LEME MACEDO",
                      "PTB"
                    ],
                    [
                      "JURACY FRANCISCO DE JESUS",
                      "AGIR"
                    ],
                    [
                      "JURANDIR PEREIRA ALENCAR",
                      "PTB"
                    ],
                    [
                      "KATHERINE DO FORTE SILVA",
                      "PMB"
                    ],
                    [
                      "KELLY PIRES FREITAS",
                      "AGIR"
                    ],
                    [
                      "KERIN DA ROCHA SILVA PEREIRA",
                      "PRTB"
                    ],
                    [
                      "LAUDERICO SARTORATTO",
                      "PRTB"
                    ],
                    [
                      "LEA MARIA DE SALES CUNHA",
                      "PMB"
                    ],
                    [
                      "LEANDRO AUGUSTO DO AMARAL",
                      "PATRIOTA"
                    ],
                    [
                      "LEANDRO CSEIMAN DOURADO",
                      "PDT"
                    ],
                    [
                      "LEANDRO PAGGIARO CORREA DE ARRUDA",
                      "PCO"
                    ],
                    [
                      "LEANDRO RUIVO",
                      "PRTB"
                    ],
                    [
                      "LEANDRO VITOR AFONSO DA SILVA VERONEZ",
                      "PRTB"
                    ],
                    [
                      "LEILSON CASTRO DOS SANTOS",
                      "PRTB"
                    ],
                    [
                      "LEONARDO DE ASSIS FERREIRA",
                      "PRTB"
                    ],
                    [
                      "LILIANE NUNES DE CARVALHO DOS SANTOS",
                      "AGIR"
                    ],
                    [
                      "LINCOLN PEREIRA FERNANDES",
                      "PDT"
                    ],
                    [
                      "LINDINALVA DO CARMO LIMA",
                      "PDT"
                    ],
                    [
                      "LISIA SAKAI",
                      "PCO"
                    ],
                    [
                      "LOURIVALDO DELFINO",
                      "PATRIOTA"
                    ],
                    [
                      "LUANA TRINDADE DA SILVA",
                      "AVANTE"
                    ],
                    [
                      "LUCIANA CUNHA",
                      "PATRIOTA"
                    ],
                    [
                      "LUCIANA PAULA VALENTIM",
                      "PATRIOTA"
                    ],
                    [
                      "LUCIANA RIBEIRO CASTELLAN",
                      "PTB"
                    ],
                    [
                      "LUCIANE SANDRA CAMBUIM",
                      "AGIR"
                    ],
                    [
                      "LUCIANO LEMOS MEGA",
                      "AVANTE"
                    ],
                    [
                      "LUCIANO MOURA DA SILVA",
                      "PDT"
                    ],
                    [
                      "LUCIANO UBIRAJARA NASSAR",
                      "AGIR"
                    ],
                    [
                      "LUCINEIA FERREIRA SANTOS COSTA",
                      "PDT"
                    ],
                    [
                      "LUIS ROSAS JUNIOR",
                      "PROS"
                    ],
                    [
                      "LUIZ CARLOS RAMOS ARRUDA DA SILVA",
                      "AGIR"
                    ],
                    [
                      "LUIZ DE ALBUQUERQUE FERREIRA",
                      "PATRIOTA"
                    ],
                    [
                      "LUIZ EDUARDO DAMASCENO",
                      "PRTB"
                    ],
                    [
                      "LUIZ FRANCISCO TEIXEIRA",
                      "PTB"
                    ],
                    [
                      "LUIZA FAUSTINO PEREIRA PARI",
                      "AVANTE"
                    ],
                    [
                      "LÉA PICELLI",
                      "DC"
                    ],
                    [
                      "MANOEL DOS SANTOS SILVA IRMAO",
                      "AGIR"
                    ],
                    [
                      "MARCEL BRASIL DE SOUZA MOURA",
                      "DC"
                    ],
                    [
                      "MARCELLO FERREIRA DOS SANTOS",
                      "PSTU"
                    ],
                    [
                      "MARCELO CESAR TORRES RUBI",
                      "PRTB"
                    ],
                    [
                      "MARCELO FRANCISCO DE LACERDA",
                      "PMN"
                    ],
                    [
                      "MARCELO ROBERTO PAOLILLO MARTINS",
                      "PROS"
                    ],
                    [
                      "MARCELO RODRIGUES JUNIOR",
                      "PATRIOTA"
                    ],
                    [
                      "MARCELO ROSSI DOS SANTOS",
                      "PTB"
                    ],
                    [
                      "MARCIA BUENO DA SILVA",
                      "PTB"
                    ],
                    [
                      "MARCIA HELENA BARROS BENEDITO",
                      "DC"
                    ],
                    [
                      "MARCIA REGINA ALVES GONCALVES",
                      "PTB"
                    ],
                    [
                      "MARCIA VALERIA MARQUES LOPES SAQUETO",
                      "PATRIOTA"
                    ],
                    [
                      "MARCILIO DUARTE LIMA",
                      "PTB"
                    ],
                    [
                      "MARCIONILIO CAMARGO DOS SANTOS",
                      "PRTB"
                    ],
                    [
                      "MARCO ANTONIO FONTEBASSO",
                      "PROS"
                    ],
                    [
                      "MARCO ANTÔNIO FACCAS",
                      "PDT"
                    ],
                    [
                      "MARCOS ANTONIO LELIS MOREIRA",
                      "AVANTE"
                    ],
                    [
                      "MARCOS DA COSTA",
                      "AVANTE"
                    ],
                    [
                      "MARCOS DE BARROS GABRIEL",
                      "AGIR"
                    ],
                    [
                      "MARCOS JULIANO FERREIRA",
                      "PATRIOTA"
                    ],
                    [
                      "MARCOS PARAÍSO DA SILVA",
                      "PRTB"
                    ],
                    [
                      "MARCOS ROBERTO DIAS DE OLIVEIRA",
                      "PRTB"
                    ],
                    [
                      "MARCOS ROBERTO DOS SANTOS",
                      "PTB"
                    ],
                    [
                      "MARCOS VINICIUS LUZ GIANNONI",
                      "PMB"
                    ],
                    [
                      "MARIA APARECIDA DE SOUZA MARQUES",
                      "PMN"
                    ],
                    [
                      "MARIA AUXILIADORA DE SOUSA",
                      "PRTB"
                    ],
                    [
                      "MARIA CELESTE JUSTA",
                      "PTB"
                    ],
                    [
                      "MARIA CONCEIÇÃO FRANCO DELFINO",
                      "PMB"
                    ],
                    [
                      "MARIA EMILIA GADELHA SERRA",
                      "PRTB"
                    ],
                    [
                      "MARIA GIOVANA LUCHIARI PISONI DUARTE FORTUNATO",
                      "PDT"
                    ],
                    [
                      "MARIA JOAQUINA DOS SANTOS",
                      "PDT"
                    ],
                    [
                      "MARIA JOSE DE SOUZA",
                      "PTB"
                    ],
                    [
                      "MARIA JULIA SARAIVA DE CARVALHO",
                      "PCB"
                    ],
                    [
                      "MARIA LÚCIA BRESSANE CRUZ",
                      "AVANTE"
                    ],
                    [
                      "MARIA MIRTES LOPES DA SILVA CAMELO",
                      "AGIR"
                    ],
                    [
                      "MARIA PAULA BARROS DE OLIVEIRA",
                      "DC"
                    ],
                    [
                      "MARIA PAULA MILLEN BARCELLOS",
                      "AGIR"
                    ],
                    [
                      "MARIA RACHEL OLIVEIRA BONFIM",
                      "PROS"
                    ],
                    [
                      "MARIA REGINA MENDES FERREIRA",
                      "PDT"
                    ],
                    [
                      "MARIA ROSA GUSMÃO RODRIGUES",
                      "PATRIOTA"
                    ],
                    [
                      "MARIANA FRAGOSO WATANABE",
                      "PSTU"
                    ],
                    [
                      "MARIO JOSE DE SOUZA",
                      "AGIR"
                    ],
                    [
                      "MARIO VIGGIANI NETO",
                      "PRTB"
                    ],
                    [
                      "MARLENE MARIA RAMOS",
                      "PATRIOTA"
                    ],
                    [
                      "MARTA DIAS FELIX",
                      "PDT"
                    ],
                    [
                      "MARTA MARIA FERREIRA ARAÚJO",
                      "AVANTE"
                    ],
                    [
                      "MATHEUS GARCIA MOREIRA",
                      "PROS"
                    ],
                    [
                      "MAURICIO JOSÉ LEMOS FREIRE",
                      "AVANTE"
                    ],
                    [
                      "MAXWELL TEODORO MARIANEK ALVES",
                      "PCB"
                    ],
                    [
                      "MICHAEL DELLA TORRE NETO",
                      "PTB"
                    ],
                    [
                      "MICHEL ARAUJO SILVA FIGUEREDO",
                      "PATRIOTA"
                    ],
                    [
                      "MIGUEL ANDERSON HEREDIA DE SÁ",
                      "PTB"
                    ],
                    [
                      "MIGUEL GOMES FERNANDES",
                      "PMN"
                    ],
                    [
                      "MIRIAN LEE",
                      "PMB"
                    ],
                    [
                      "MOACIR RODRIGUES FERNANDES",
                      "AGIR"
                    ],
                    [
                      "MONIQUE FERNANDES MACHADO",
                      "DC"
                    ],
                    [
                      "MUNIR WAHHAB",
                      "PTB"
                    ],
                    [
                      "MÁRIO ALVES DA SILVA FILHO",
                      "PDT"
                    ],
                    [
                      "MÔNICA DE OLIVEIRA LOURENÇO VELOSO",
                      "PDT"
                    ],
                    [
                      "NATANAEL RODRIGUES DE PAULA",
                      "AGIR"
                    ],
                    [
                      "NATÁLIA ROBERTA MASSI SOLERA",
                      "AVANTE"
                    ],
                    [
                      "NEFI ANTONIO CASTRO TALES",
                      "PTB"
                    ],
                    [
                      "NELIO FERNANDO DOS REIS",
                      "PTB"
                    ],
                    [
                      "NEUSA ANTONIA PERINO",
                      "PROS"
                    ],
                    [
                      "NILSON JESPERSEN DE OLIVEIRA FRANCO",
                      "PTB"
                    ],
                    [
                      "NISE HITOMI YAMAGUCHI",
                      "PROS"
                    ],
                    [
                      "NOILTON SILVESTRE RAMOS",
                      "PATRIOTA"
                    ],
                    [
                      "NORMA ELIZA HIROKO OTANI MORATO",
                      "AVANTE"
                    ],
                    [
                      "ODIMAR BARRETO DOS SANTOS",
                      "PROS"
                    ],
                    [
                      "ORLANDO GALATI",
                      "PTB"
                    ],
                    [
                      "OSMAR BENEDITO PRIANTE",
                      "PTB"
                    ],
                    [
                      "OSMAR DELLA PASCHOA JUNIOR",
                      "PMB"
                    ],
                    [
                      "OSVALDO MACEDO NEGRÃO",
                      "PTB"
                    ],
                    [
                      "PAMELA CHRISTY MESQUITA MUNIZ",
                      "PCB"
                    ],
                    [
                      "PATRICIA SIQUEIRA NERI",
                      "PATRIOTA"
                    ],
                    [
                      "PATRÍCIA MARIA DA SILVA",
                      "PATRIOTA"
                    ],
                    [
                      "PATRÍCIA MORA D'AVILA",
                      "PMN"
                    ],
                    [
                      "PAULA DANIELA DE JESUS",
                      "PATRIOTA"
                    ],
                    [
                      "PAULO ATAÍDE ARAÚJO DE SOUSA",
                      "PMN"
                    ],
                    [
                      "PAULO BEZERRA DE MELO",
                      "PCO"
                    ],
                    [
                      "PAULO CEZAR DA SILVA MOURA",
                      "AVANTE"
                    ],
                    [
                      "PAULO DE TARSO NUNES CHIODE",
                      "AVANTE"
                    ],
                    [
                      "PAULO GUILHERMINO DE ARAUJO",
                      "PMB"
                    ],
                    [
                      "PAULO JORGE VALENTIM",
                      "AVANTE"
                    ],
                    [
                      "PAULO PURKYT",
                      "DC"
                    ],
                    [
                      "PAULO ROBERTO ROSENO JUNIOR",
                      "PRTB"
                    ],
                    [
                      "PAULO SUSSUMU KOBAYASHI",
                      "PTB"
                    ],
                    [
                      "PEDRO MAURÍCIO PEREIRA",
                      "PDT"
                    ],
                    [
                      "PRISCILA FERNANDES HOLANDA",
                      "PRTB"
                    ],
                    [
                      "RAFAEL ALBANEZ",
                      "PTB"
                    ],
                    [
                      "RAFAEL ALMEIDA PRADO VALENTIM",
                      "PTB"
                    ],
                    [
                      "RAFAEL ANGELO ABUD",
                      "PATRIOTA"
                    ],
                    [
                      "RAFAEL ANTONIO DE SOUZA",
                      "PDT"
                    ],
                    [
                      "RAFAEL CARLOS LABIAPARI GOMES",
                      "PATRIOTA"
                    ],
                    [
                      "RAIMUNDO NONATO PEREIRA DOS SANTOS",
                      "PRTB"
                    ],
                    [
                      "REGINALDO BELARMINO DA SILVA",
                      "PRTB"
                    ],
                    [
                      "REINALDO ADRIANO DO CARMO",
                      "PMN"
                    ],
                    [
                      "REINALDO GUIMARÃES MOTA",
                      "PATRIOTA"
                    ],
                    [
                      "RENATO BENEDUCI ASSAD",
                      "PSTU"
                    ],
                    [
                      "RENATO BESCHIZZA VALENTIN",
                      "PCB"
                    ],
                    [
                      "RENATO DO NASCIMENTO",
                      "PRTB"
                    ],
                    [
                      "RENATO FERREIRA DA SILVA",
                      "PATRIOTA"
                    ],
                    [
                      "RENATO KOGA CERQUEIRA",
                      "PRTB"
                    ],
                    [
                      "RENE ROSA",
                      "AGIR"
                    ],
                    [
                      "REYNALDO CAMPANATTI PEREIRA",
                      "AGIR"
                    ],
                    [
                      "RICARDO DE DEUS ANDRADE",
                      "AGIR"
                    ],
                    [
                      "RICARDO DUREGGER",
                      "PROS"
                    ],
                    [
                      "RICARDO FASSIO CAVALCANTE CUNHA",
                      "AGIR"
                    ],
                    [
                      "RICARDO PEREIRA DO CARMO",
                      "PROS"
                    ],
                    [
                      "RIVALDO DOS SANTOS SILVA",
                      "PCO"
                    ],
                    [
                      "ROBERTA CRISTINA RONCADA GASPAR",
                      "PTB"
                    ],
                    [
                      "ROBERTO SELMER JÚNIOR",
                      "DC"
                    ],
                    [
                      "ROBERVAL BARBOSA DE JESUS",
                      "AGIR"
                    ],
                    [
                      "ROBSON DE LIMA",
                      "AGIR"
                    ],
                    [
                      "ROBSON INACIO GOMES",
                      "AGIR"
                    ],
                    [
                      "RODRIGO PIERNAS ANDOLFATO",
                      "PTB"
                    ],
                    [
                      "RODRIGO TAVARES DA SILVA",
                      "PRTB"
                    ],
                    [
                      "ROGERIO STRACIALANO PARADA",
                      "PRTB"
                    ],
                    [
                      "ROGÉRIO BATTISTETTI MARTINS RODRIGUES",
                      "AVANTE"
                    ],
                    [
                      "ROGÉRIO DE JESUS PAES",
                      "AVANTE"
                    ],
                    [
                      "RONALDO PEREIRA COSTA",
                      "PATRIOTA"
                    ],
                    [
                      "RONALDO RESENDE DA SILVA",
                      "AVANTE"
                    ],
                    [
                      "ROSELI DE PAULA SILVA DE SOUZA",
                      "AVANTE"
                    ],
                    [
                      "ROSEMEIRE MARTINS DE CARVALHO",
                      "PTB"
                    ],
                    [
                      "ROSEMEIRE SANTIAGO",
                      "PRTB"
                    ],
                    [
                      "ROSINETE DA SILVA MOREIRA",
                      "PTB"
                    ],
                    [
                      "RUBENS DE ALMEIDA",
                      "AVANTE"
                    ],
                    [
                      "RUBENS NUSQUE JUNIOR",
                      "PTB"
                    ],
                    [
                      "RUTE APARECIDA LEITE RIPARI",
                      "PDT"
                    ],
                    [
                      "RUZINON SILVA",
                      "PATRIOTA"
                    ],
                    [
                      "SANDERSON RIBEIRO CORREIA DE LIMA",
                      "PRTB"
                    ],
                    [
                      "SANDRO FERREIRA DE SOUZA",
                      "PMN"
                    ],
                    [
                      "SEBASTIAO FARIAS PAIVA",
                      "PDT"
                    ],
                    [
                      "SELMA RODRIGUES DANTAS MUNHOZ",
                      "PTB"
                    ],
                    [
                      "SERGIO KHODOR CURY",
                      "PATRIOTA"
                    ],
                    [
                      "SERGIO ZULMIRO LITHOLDO",
                      "PROS"
                    ],
                    [
                      "SEVERINO DE OLIVEIRA MELO",
                      "AGIR"
                    ],
                    [
                      "SILAS ALVES FEITOSA",
                      "PRTB"
                    ],
                    [
                      "SILVANA MENK PINTO",
                      "PTB"
                    ],
                    [
                      "SILVIA HELENA BUENDIA",
                      "PRTB"
                    ],
                    [
                      "SILVIO FELIX DA SILVA",
                      "UNIÃO"
                    ],
                    [
                      "SILVIO NIVALDO",
                      "AVANTE"
                    ],
                    [
                      "SILVIO ROMERO DE MAGALHAES LEITE",
                      "PTB"
                    ],
                    [
                      "SIMONE CRISTINA SOUZA",
                      "PCO"
                    ],
                    [
                      "SINVAL MALHEIROS PINTO JUNIOR",
                      "PATRIOTA"
                    ],
                    [
                      "SIONEIA APARECIDA DE MELLO",
                      "AGIR"
                    ],
                    [
                      "SOLANGE APARECIDA FERREIRA DOS SANTOS",
                      "AGIR"
                    ],
                    [
                      "SOLANGE DE SOUZA",
                      "PMN"
                    ],
                    [
                      "SOLANGE ELIZABETH DOS SANTOS DORTA",
                      "PDT"
                    ],
                    [
                      "SONILDA SOARES CONSTANTINO DE OLIVEIRA",
                      "PMN"
                    ],
                    [
                      "STELA MARIA ATANÁZIO",
                      "DC"
                    ],
                    [
                      "SUELI DOS SANTOS SILVA BARBOSA",
                      "AGIR"
                    ],
                    [
                      "SUZANA PIROZI ADERNE",
                      "PMN"
                    ],
                    [
                      "SYLVIO MALHEIRO JUNIOR",
                      "PTB"
                    ],
                    [
                      "SÉRGIO AUGUSTO SILVA",
                      "PATRIOTA"
                    ],
                    [
                      "TASSIO RENAM SOUZA BOTELHO",
                      "PROS"
                    ],
                    [
                      "TERESINHA DE CARVALHO",
                      "PATRIOTA"
                    ],
                    [
                      "THAIS ALBERTINA DA CRUZ",
                      "PRTB"
                    ],
                    [
                      "THAIS RABELLO SILVA",
                      "PSTU"
                    ],
                    [
                      "THEREZA CHRISTINA FARIA LIMA",
                      "PATRIOTA"
                    ],
                    [
                      "THIAGO JOSÉ ISOLA",
                      "AVANTE"
                    ],
                    [
                      "TIAGO DOS SANTOS LIRA",
                      "PATRIOTA"
                    ],
                    [
                      "TIAGO PIRES",
                      "PCO"
                    ],
                    [
                      "TIAGO SOUZA GUEDES",
                      "PRTB"
                    ],
                    [
                      "TIOKI OGUSUKA",
                      "PATRIOTA"
                    ],
                    [
                      "UBIRATAN FIM MENDES",
                      "AVANTE"
                    ],
                    [
                      "ULISSES HENRIQUE MATIAS COSTA",
                      "PATRIOTA"
                    ],
                    [
                      "VAGNER BERTI",
                      "PTB"
                    ],
                    [
                      "VALDEMAR SILVA",
                      "PTB"
                    ],
                    [
                      "VALDIR ANTONIO MASSUCATO",
                      "PATRIOTA"
                    ],
                    [
                      "VANESSA ARAUJO",
                      "PDT"
                    ],
                    [
                      "VILMA MARQUES RIBEIRO",
                      "PRTB"
                    ],
                    [
                      "VITOR LEONARDO SANTOS VARCILIO",
                      "PATRIOTA"
                    ],
                    [
                      "VIVIANE BERGAMO MORGERO",
                      "PTB"
                    ],
                    [
                      "WAGNER BARBOSA",
                      "AVANTE"
                    ],
                    [
                      "WAGNER TADEU SILVA PRADO",
                      "PTB"
                    ],
                    [
                      "WALDEMIR APARECIDO SOARES JUNIOR",
                      "PSTU"
                    ],
                    [
                      "WASHINGTON LUIZ BEZERRA DA SILVA",
                      "PRTB"
                    ],
                    [
                      "WELDER DOUGLAS DA SILVA",
                      "PTB"
                    ],
                    [
                      "WELLER PEREIRA GONÇALVES",
                      "PSTU"
                    ],
                    [
                      "WELLINGTON MACEDO DE SOUZA",
                      "PTB"
                    ],
                    [
                      "WESLEY LEONARDO CEZAR",
                      "PDT"
                    ],
                    [
                      "WILKY ANDRADE OKAGAWA",
                      "AGIR"
                    ],
                    [
                      "WILLIAM DE SOUZA SILVA",
                      "AVANTE"
                    ],
                    [
                      "WILSON CALDEIRA PAIVA",
                      "PDT"
                    ],
                    [
                      "WILSON KEIITI HAYASHIDA",
                      "PRTB"
                    ],
                    [
                      "YARA DE SOUZA LIMA",
                      "PMN"
                    ],
                    [
                      "ÉLCIO GUSSON",
                      "PMN"
                    ]
                  ],
                  "hovertemplate": "Situação totalização=Não Eleito<br>Valor de receita=%{x}<br>Votos nominais=%{y}<br>Nome candidato=%{customdata[0]}<br>Partido=%{customdata[1]}<extra></extra>",
                  "legendgroup": "Não Eleito",
                  "marker": {
                    "color": "#636efa",
                    "symbol": "circle"
                  },
                  "mode": "markers",
                  "name": "Não Eleito",
                  "showlegend": true,
                  "type": "scattergl",
                  "x": [
                    135935.01,
                    125881.36,
                    5000,
                    2822.09,
                    2822.09,
                    31200,
                    48798.85,
                    140641.6,
                    137845,
                    100000,
                    1558444.62,
                    110225,
                    450.15,
                    9071.05,
                    187364.77,
                    20000,
                    2822.09,
                    5000,
                    26000,
                    2000,
                    66839.79000000001,
                    25000,
                    10000,
                    33000,
                    2174990.77,
                    2822.09,
                    15215,
                    20000,
                    49131.7,
                    191828.9,
                    56739.9,
                    172045,
                    15000,
                    6058.68,
                    2822.09,
                    50000,
                    34912,
                    75000,
                    1356156,
                    13150,
                    80000,
                    44000,
                    11324.810000000001,
                    4362.09,
                    20000,
                    84016.15,
                    50596.14,
                    15000,
                    5967.45,
                    2822.09,
                    55648.9,
                    65,
                    20000,
                    20650,
                    2822.09,
                    30000,
                    242789.79,
                    700,
                    50000,
                    102416.7,
                    10261.759999999998,
                    5000,
                    1554166.5,
                    106259.4,
                    1801,
                    70000,
                    202739.66999999998,
                    1411,
                    121000,
                    39000,
                    61456.369999999995,
                    103300,
                    30000,
                    21711,
                    11974.36,
                    4000,
                    10000,
                    13286.75,
                    12000,
                    2877000,
                    21691.75,
                    10000,
                    20000,
                    50000,
                    165000,
                    155108,
                    15000,
                    31550,
                    22822.09,
                    15000,
                    336368.4,
                    5000,
                    75000,
                    20000,
                    10000,
                    50021.95,
                    13222.09,
                    20000,
                    109000,
                    813000,
                    30000,
                    30000,
                    2661.5,
                    30000,
                    13959.04,
                    250000,
                    120,
                    970,
                    2170878.49,
                    2263,
                    736842,
                    19545.9,
                    18478.9,
                    8044.4,
                    19714.45,
                    25000,
                    3500,
                    12000,
                    4000,
                    255791.75,
                    11600,
                    30000,
                    234247.75,
                    30000,
                    105969.67,
                    2822.09,
                    26839.79,
                    25000,
                    2822.09,
                    35000,
                    4032.09,
                    5000,
                    25550,
                    20008.9,
                    10000,
                    759680,
                    40850,
                    30000,
                    39230.35,
                    19445,
                    2822.09,
                    26911.760000000002,
                    15510,
                    5000,
                    60000,
                    503358.9,
                    375008.91,
                    126839.79000000001,
                    100000,
                    256358.9,
                    35964.79,
                    65000,
                    30000,
                    294872.26,
                    27222.09,
                    30000,
                    20000,
                    18906.75,
                    17911.95,
                    15000,
                    15000,
                    695318.9,
                    40000,
                    63431.75,
                    850,
                    5801.7,
                    45455.45,
                    340,
                    20000,
                    31416.75,
                    5000,
                    14703.9,
                    20000,
                    33000,
                    2822.09,
                    26506.75,
                    50000,
                    124592.82,
                    20000,
                    10000,
                    200000,
                    36710,
                    50000,
                    74408.9,
                    118000,
                    30000,
                    30000,
                    2822.09,
                    750000,
                    30000,
                    30000,
                    10000,
                    13500,
                    460,
                    44463.34,
                    26500,
                    1042081.75,
                    20000,
                    11974.36,
                    89828.9,
                    69384.23,
                    20000,
                    2822.09,
                    5000,
                    2822.09,
                    200539.79,
                    15137.16,
                    10000,
                    13136.75,
                    5000.03,
                    40000,
                    20000,
                    235485.05,
                    5000,
                    5000,
                    5000,
                    2822.09,
                    375413.9,
                    17953,
                    20000,
                    10261.759999999998,
                    229501.75,
                    1470705.27,
                    113338.9,
                    21361.75,
                    1140721.75,
                    30000,
                    402118.9,
                    25000,
                    300000,
                    11974.36,
                    10261.759999999998,
                    4622.09,
                    120000,
                    224521.75,
                    5000.05,
                    80000,
                    54000,
                    25000,
                    500,
                    10066,
                    5864.47,
                    2822.09,
                    150,
                    90181.7,
                    521916.95,
                    11974.36,
                    5924.450000000001,
                    2822.09,
                    2822.09,
                    87822.09,
                    100632.5,
                    308000,
                    50000,
                    11974.36,
                    78353.9,
                    20216.75,
                    43409.79,
                    155874.79,
                    60000,
                    5950,
                    371576.75,
                    20000,
                    5000,
                    35100,
                    30000,
                    10000,
                    128681.7,
                    2822.09,
                    20000,
                    10670.25,
                    13797.240000000002,
                    5000,
                    9071.05,
                    21972.18,
                    3022.09,
                    25000,
                    32280,
                    81673.9,
                    15721.95,
                    25000,
                    17797.24,
                    30000,
                    33689.79,
                    25000,
                    2822.09,
                    8950,
                    20000,
                    90501.75,
                    262752.55,
                    5000,
                    275778.9,
                    2822.09,
                    2822.09,
                    10000,
                    19966.7,
                    30000,
                    5864.47,
                    35000,
                    1967,
                    99605.78,
                    1775775.41,
                    101500,
                    35000,
                    1200,
                    10000,
                    5000,
                    13797.240000000002,
                    10000,
                    25000,
                    30000,
                    34689.79,
                    5394.32,
                    5000,
                    14727.470000000001,
                    70904.79000000001,
                    10000,
                    13996.75,
                    3462.8,
                    138030.03,
                    1690,
                    25000,
                    134681.4,
                    20000,
                    30000,
                    4000,
                    10000,
                    5000,
                    20000,
                    100000,
                    401381.18,
                    5000,
                    5000,
                    25605,
                    50000,
                    351599.19,
                    100000,
                    550285,
                    212281.4,
                    15016.75,
                    300000,
                    1180,
                    19600,
                    31280,
                    15000,
                    2098.31,
                    35154.79,
                    14474.79,
                    25000,
                    40964.79,
                    30000,
                    11974.36,
                    12000,
                    166000,
                    2150,
                    4500,
                    9571.04,
                    17822.09,
                    60000,
                    10000,
                    5864.47,
                    25943.39,
                    25000,
                    13953.9,
                    20252.99,
                    33953.9,
                    2822.09,
                    5864.47,
                    25000,
                    100000,
                    5211.2,
                    1735,
                    15822.09,
                    470968.9,
                    4000,
                    10265.01,
                    50000,
                    5000,
                    1650,
                    10000,
                    111000,
                    11974.36,
                    10050,
                    4839.94,
                    11500.06,
                    5200,
                    20000,
                    68812,
                    2316.3,
                    16776.22,
                    42938.75,
                    18906.75,
                    8883.9,
                    25500,
                    9690,
                    106725,
                    3272.09,
                    15000,
                    627960,
                    77250,
                    11034.9,
                    20578.9,
                    2822.09,
                    20000,
                    20000,
                    10000,
                    19828.9,
                    111500,
                    5000,
                    73988.3,
                    10000,
                    6464.47,
                    921141.73,
                    14436.75,
                    37500,
                    11974.36,
                    335926.7,
                    10000,
                    5000,
                    20000,
                    5000,
                    25000,
                    13812.78,
                    5000,
                    20000,
                    190850,
                    331236,
                    90.96,
                    667822.39,
                    2822.09,
                    5286.93,
                    65339.79,
                    4000,
                    86201.41,
                    11974.36,
                    2822.09,
                    125778.9,
                    72786.75,
                    18291.7,
                    10000,
                    50000,
                    372271.7,
                    10000,
                    5864.47,
                    153313.9,
                    10000,
                    91671.25,
                    106500,
                    10524.64,
                    2822.09,
                    62355,
                    80680.22,
                    225000,
                    137018.14,
                    5000,
                    38951.75,
                    736826.76,
                    3472.09,
                    20000,
                    20000
                  ],
                  "xaxis": "x",
                  "y": [
                    4057,
                    1002,
                    313,
                    244,
                    392,
                    634,
                    2786,
                    861,
                    510,
                    3130,
                    91485,
                    2945,
                    220,
                    488,
                    702,
                    254,
                    46,
                    187,
                    297,
                    65,
                    319,
                    88,
                    974,
                    1051,
                    20081,
                    251,
                    267,
                    69,
                    21114,
                    1180,
                    9106,
                    4485,
                    1055,
                    478,
                    42,
                    547,
                    568,
                    775,
                    24721,
                    569,
                    5796,
                    2295,
                    488,
                    132,
                    162,
                    511,
                    1990,
                    64,
                    4498,
                    87,
                    1226,
                    120,
                    402,
                    1581,
                    185,
                    427,
                    2041,
                    359,
                    723,
                    698,
                    176,
                    142,
                    4660,
                    6336,
                    137,
                    432,
                    475,
                    1676,
                    5531,
                    290,
                    667,
                    580,
                    632,
                    678,
                    177,
                    675,
                    389,
                    626,
                    1140,
                    6730,
                    88,
                    333,
                    222,
                    76,
                    1520,
                    9492,
                    93,
                    2676,
                    443,
                    23,
                    12527,
                    43,
                    189,
                    566,
                    580,
                    575,
                    1340,
                    1847,
                    6626,
                    6331,
                    931,
                    878,
                    232,
                    630,
                    202,
                    1116,
                    596,
                    522,
                    5044,
                    866,
                    43557,
                    678,
                    1133,
                    216,
                    800,
                    169,
                    293,
                    321,
                    1296,
                    8671,
                    3265,
                    26,
                    3447,
                    140,
                    546,
                    216,
                    216,
                    1128,
                    131,
                    233,
                    2382,
                    863,
                    2532,
                    91,
                    620,
                    12538,
                    1979,
                    54,
                    565,
                    2242,
                    666,
                    748,
                    2888,
                    163,
                    1050,
                    9049,
                    21533,
                    274,
                    2350,
                    3373,
                    144,
                    1059,
                    307,
                    5825,
                    229,
                    279,
                    84,
                    334,
                    743,
                    202,
                    59,
                    6865,
                    1051,
                    1362,
                    728,
                    218,
                    1300,
                    37,
                    462,
                    564,
                    339,
                    1447,
                    1055,
                    1032,
                    391,
                    776,
                    109,
                    764,
                    197,
                    282,
                    279,
                    1486,
                    8084,
                    2697,
                    6192,
                    460,
                    570,
                    6481,
                    893,
                    186,
                    196,
                    154,
                    376,
                    107,
                    21017,
                    4619,
                    25779,
                    429,
                    237,
                    1080,
                    1343,
                    488,
                    101,
                    183,
                    128,
                    1168,
                    5605,
                    186,
                    728,
                    133,
                    231,
                    817,
                    404,
                    62,
                    225,
                    282,
                    53,
                    791,
                    575,
                    358,
                    499,
                    2433,
                    22840,
                    1209,
                    251,
                    8321,
                    65,
                    3157,
                    80,
                    3594,
                    1121,
                    275,
                    92,
                    1301,
                    923,
                    552,
                    1311,
                    834,
                    740,
                    148,
                    131,
                    92,
                    159,
                    43,
                    3223,
                    12573,
                    44,
                    140,
                    92,
                    183,
                    2349,
                    1880,
                    7701,
                    2327,
                    203,
                    558,
                    351,
                    423,
                    490,
                    896,
                    339,
                    6928,
                    203,
                    69,
                    1503,
                    623,
                    207,
                    1001,
                    176,
                    555,
                    259,
                    74,
                    230,
                    219,
                    1256,
                    652,
                    260,
                    110,
                    339,
                    7612,
                    264,
                    59,
                    1408,
                    147,
                    207,
                    224,
                    234,
                    594,
                    6664,
                    6482,
                    201,
                    21908,
                    1512,
                    265,
                    98,
                    1011,
                    100,
                    197,
                    289,
                    362,
                    14131,
                    32932,
                    5874,
                    380,
                    606,
                    291,
                    126,
                    890,
                    1101,
                    65,
                    184,
                    255,
                    132,
                    329,
                    4253,
                    259,
                    313,
                    293,
                    210,
                    2575,
                    509,
                    975,
                    6264,
                    614,
                    301,
                    552,
                    289,
                    87,
                    756,
                    1563,
                    11546,
                    132,
                    262,
                    749,
                    2155,
                    417,
                    826,
                    36690,
                    5756,
                    403,
                    903,
                    923,
                    1316,
                    591,
                    2246,
                    506,
                    701,
                    302,
                    256,
                    127,
                    460,
                    169,
                    309,
                    7600,
                    112,
                    663,
                    164,
                    559,
                    3393,
                    1957,
                    276,
                    1429,
                    2250,
                    196,
                    977,
                    536,
                    139,
                    324,
                    117,
                    619,
                    477,
                    558,
                    327,
                    21007,
                    539,
                    608,
                    2031,
                    66,
                    544,
                    673,
                    127,
                    76,
                    161,
                    225,
                    844,
                    189,
                    469,
                    6644,
                    1168,
                    2560,
                    440,
                    375,
                    120,
                    1966,
                    177,
                    1187,
                    683,
                    220,
                    14944,
                    3750,
                    1523,
                    255,
                    141,
                    40,
                    569,
                    826,
                    167,
                    1681,
                    148,
                    3799,
                    318,
                    273,
                    9345,
                    439,
                    1442,
                    109,
                    21519,
                    389,
                    152,
                    104,
                    653,
                    60,
                    247,
                    198,
                    219,
                    2691,
                    6201,
                    8,
                    3970,
                    7,
                    245,
                    647,
                    2266,
                    1231,
                    307,
                    584,
                    3105,
                    413,
                    3690,
                    557,
                    2656,
                    8046,
                    2285,
                    307,
                    8518,
                    201,
                    1570,
                    9009,
                    744,
                    736,
                    3196,
                    1995,
                    1118,
                    41054,
                    51,
                    875,
                    29713,
                    203,
                    93,
                    259
                  ],
                  "yaxis": "y"
                },
                {
                  "hovertemplate": "<b>OLS trendline</b><br>Votos nominais = 0.0133745 * Valor de receita + 1070.72<br>R<sup>2</sup>=0.317488<br><br>Situação totalização=Não Eleito<br>Valor de receita=%{x}<br>Votos nominais=%{y} <b>(trend)</b><extra></extra>",
                  "legendgroup": "Não Eleito",
                  "marker": {
                    "color": "#636efa",
                    "symbol": "circle"
                  },
                  "mode": "lines",
                  "name": "Não Eleito",
                  "showlegend": false,
                  "type": "scattergl",
                  "x": [
                    65,
                    90.96,
                    120,
                    150,
                    340,
                    450.15,
                    460,
                    500,
                    700,
                    850,
                    970,
                    1180,
                    1200,
                    1411,
                    1650,
                    1690,
                    1735,
                    1801,
                    1967,
                    2000,
                    2098.31,
                    2150,
                    2263,
                    2316.3,
                    2661.5,
                    2822.09,
                    2822.09,
                    2822.09,
                    2822.09,
                    2822.09,
                    2822.09,
                    2822.09,
                    2822.09,
                    2822.09,
                    2822.09,
                    2822.09,
                    2822.09,
                    2822.09,
                    2822.09,
                    2822.09,
                    2822.09,
                    2822.09,
                    2822.09,
                    2822.09,
                    2822.09,
                    2822.09,
                    2822.09,
                    2822.09,
                    2822.09,
                    2822.09,
                    2822.09,
                    2822.09,
                    3022.09,
                    3272.09,
                    3462.8,
                    3472.09,
                    3500,
                    4000,
                    4000,
                    4000,
                    4000,
                    4000,
                    4032.09,
                    4362.09,
                    4500,
                    4622.09,
                    4839.94,
                    5000,
                    5000,
                    5000,
                    5000,
                    5000,
                    5000,
                    5000,
                    5000,
                    5000,
                    5000,
                    5000,
                    5000,
                    5000,
                    5000,
                    5000,
                    5000,
                    5000,
                    5000,
                    5000,
                    5000,
                    5000,
                    5000,
                    5000,
                    5000,
                    5000,
                    5000.03,
                    5000.05,
                    5200,
                    5211.2,
                    5286.93,
                    5394.32,
                    5801.7,
                    5864.47,
                    5864.47,
                    5864.47,
                    5864.47,
                    5864.47,
                    5924.450000000001,
                    5950,
                    5967.45,
                    6058.68,
                    6464.47,
                    8044.4,
                    8883.9,
                    8950,
                    9071.05,
                    9071.05,
                    9571.04,
                    9690,
                    10000,
                    10000,
                    10000,
                    10000,
                    10000,
                    10000,
                    10000,
                    10000,
                    10000,
                    10000,
                    10000,
                    10000,
                    10000,
                    10000,
                    10000,
                    10000,
                    10000,
                    10000,
                    10000,
                    10000,
                    10000,
                    10000,
                    10050,
                    10066,
                    10261.759999999998,
                    10261.759999999998,
                    10261.759999999998,
                    10265.01,
                    10524.64,
                    10670.25,
                    11034.9,
                    11324.810000000001,
                    11500.06,
                    11600,
                    11974.36,
                    11974.36,
                    11974.36,
                    11974.36,
                    11974.36,
                    11974.36,
                    11974.36,
                    11974.36,
                    11974.36,
                    12000,
                    12000,
                    12000,
                    13136.75,
                    13150,
                    13222.09,
                    13286.75,
                    13500,
                    13797.240000000002,
                    13797.240000000002,
                    13812.78,
                    13953.9,
                    13959.04,
                    13996.75,
                    14436.75,
                    14474.79,
                    14703.9,
                    14727.470000000001,
                    15000,
                    15000,
                    15000,
                    15000,
                    15000,
                    15000,
                    15000,
                    15000,
                    15016.75,
                    15137.16,
                    15215,
                    15510,
                    15721.95,
                    15822.09,
                    16776.22,
                    17797.24,
                    17822.09,
                    17911.95,
                    17953,
                    18291.7,
                    18478.9,
                    18906.75,
                    18906.75,
                    19445,
                    19545.9,
                    19600,
                    19714.45,
                    19828.9,
                    19966.7,
                    20000,
                    20000,
                    20000,
                    20000,
                    20000,
                    20000,
                    20000,
                    20000,
                    20000,
                    20000,
                    20000,
                    20000,
                    20000,
                    20000,
                    20000,
                    20000,
                    20000,
                    20000,
                    20000,
                    20000,
                    20000,
                    20000,
                    20000,
                    20000,
                    20000,
                    20000,
                    20000,
                    20008.9,
                    20216.75,
                    20252.99,
                    20578.9,
                    20650,
                    21361.75,
                    21691.75,
                    21711,
                    21972.18,
                    22822.09,
                    25000,
                    25000,
                    25000,
                    25000,
                    25000,
                    25000,
                    25000,
                    25000,
                    25000,
                    25000,
                    25000,
                    25000,
                    25000,
                    25000,
                    25500,
                    25550,
                    25605,
                    25943.39,
                    26000,
                    26500,
                    26506.75,
                    26839.79,
                    26911.760000000002,
                    27222.09,
                    30000,
                    30000,
                    30000,
                    30000,
                    30000,
                    30000,
                    30000,
                    30000,
                    30000,
                    30000,
                    30000,
                    30000,
                    30000,
                    30000,
                    30000,
                    30000,
                    30000,
                    30000,
                    30000,
                    30000,
                    30000,
                    31200,
                    31280,
                    31416.75,
                    31550,
                    32280,
                    33000,
                    33000,
                    33689.79,
                    33953.9,
                    34689.79,
                    34912,
                    35000,
                    35000,
                    35000,
                    35100,
                    35154.79,
                    35964.79,
                    36710,
                    37500,
                    38951.75,
                    39000,
                    39230.35,
                    40000,
                    40000,
                    40850,
                    40964.79,
                    42938.75,
                    43409.79,
                    44000,
                    44463.34,
                    45455.45,
                    48798.85,
                    49131.7,
                    50000,
                    50000,
                    50000,
                    50000,
                    50000,
                    50000,
                    50000,
                    50000,
                    50000,
                    50021.95,
                    50596.14,
                    54000,
                    55648.9,
                    56739.9,
                    60000,
                    60000,
                    60000,
                    61456.369999999995,
                    62355,
                    63431.75,
                    65000,
                    65339.79,
                    66839.79000000001,
                    68812,
                    69384.23,
                    70000,
                    70904.79000000001,
                    72786.75,
                    73988.3,
                    74408.9,
                    75000,
                    75000,
                    77250,
                    78353.9,
                    80000,
                    80000,
                    80680.22,
                    81673.9,
                    84016.15,
                    86201.41,
                    87822.09,
                    89828.9,
                    90181.7,
                    90501.75,
                    91671.25,
                    99605.78,
                    100000,
                    100000,
                    100000,
                    100000,
                    100000,
                    100632.5,
                    101500,
                    102416.7,
                    103300,
                    105969.67,
                    106259.4,
                    106500,
                    106725,
                    109000,
                    110225,
                    111000,
                    111500,
                    113338.9,
                    118000,
                    120000,
                    121000,
                    124592.82,
                    125778.9,
                    125881.36,
                    126839.79000000001,
                    128681.7,
                    134681.4,
                    135935.01,
                    137018.14,
                    137845,
                    138030.03,
                    140641.6,
                    153313.9,
                    155108,
                    155874.79,
                    165000,
                    166000,
                    172045,
                    187364.77,
                    190850,
                    191828.9,
                    200000,
                    200539.79,
                    202739.66999999998,
                    212281.4,
                    224521.75,
                    225000,
                    229501.75,
                    234247.75,
                    235485.05,
                    242789.79,
                    250000,
                    255791.75,
                    256358.9,
                    262752.55,
                    275778.9,
                    294872.26,
                    300000,
                    300000,
                    308000,
                    331236,
                    335926.7,
                    336368.4,
                    351599.19,
                    371576.75,
                    372271.7,
                    375008.91,
                    375413.9,
                    401381.18,
                    402118.9,
                    470968.9,
                    503358.9,
                    521916.95,
                    550285,
                    627960,
                    667822.39,
                    695318.9,
                    736826.76,
                    736842,
                    750000,
                    759680,
                    813000,
                    921141.73,
                    1042081.75,
                    1140721.75,
                    1356156,
                    1470705.27,
                    1554166.5,
                    1558444.62,
                    1775775.41,
                    2170878.49,
                    2174990.77,
                    2877000
                  ],
                  "xaxis": "x",
                  "y": [
                    1071.5848523678494,
                    1071.9320549814515,
                    1072.3204511254812,
                    1072.7216868114622,
                    1075.262846156008,
                    1076.7360498497014,
                    1076.8677888999318,
                    1077.402769814573,
                    1080.0776743877793,
                    1082.0838528176841,
                    1083.688795561608,
                    1086.4974453634745,
                    1086.7649358207952,
                    1089.5869601455279,
                    1092.7834711105095,
                    1093.3184520251507,
                    1093.920305554122,
                    1094.8030240632802,
                    1097.0231948590415,
                    1097.4645541136204,
                    1098.77940345658,
                    1099.4707325435252,
                    1100.9820536273867,
                    1101.6949156961462,
                    1106.3118009895004,
                    1108.4596156165562,
                    1108.4596156165562,
                    1108.4596156165562,
                    1108.4596156165562,
                    1108.4596156165562,
                    1108.4596156165562,
                    1108.4596156165562,
                    1108.4596156165562,
                    1108.4596156165562,
                    1108.4596156165562,
                    1108.4596156165562,
                    1108.4596156165562,
                    1108.4596156165562,
                    1108.4596156165562,
                    1108.4596156165562,
                    1108.4596156165562,
                    1108.4596156165562,
                    1108.4596156165562,
                    1108.4596156165562,
                    1108.4596156165562,
                    1108.4596156165562,
                    1108.4596156165562,
                    1108.4596156165562,
                    1108.4596156165562,
                    1108.4596156165562,
                    1108.4596156165562,
                    1108.4596156165562,
                    1111.1345201897625,
                    1114.4781509062705,
                    1117.0288061620513,
                    1117.1530554794767,
                    1117.5263384126677,
                    1124.2135998456836,
                    1124.2135998456836,
                    1124.2135998456836,
                    1124.2135998456836,
                    1124.2135998456836,
                    1124.6427882844544,
                    1129.056380830245,
                    1130.9008612786993,
                    1132.5337567754132,
                    1135.447396581778,
                    1137.588122711715,
                    1137.588122711715,
                    1137.588122711715,
                    1137.588122711715,
                    1137.588122711715,
                    1137.588122711715,
                    1137.588122711715,
                    1137.588122711715,
                    1137.588122711715,
                    1137.588122711715,
                    1137.588122711715,
                    1137.588122711715,
                    1137.588122711715,
                    1137.588122711715,
                    1137.588122711715,
                    1137.588122711715,
                    1137.588122711715,
                    1137.588122711715,
                    1137.588122711715,
                    1137.588122711715,
                    1137.588122711715,
                    1137.588122711715,
                    1137.588122711715,
                    1137.588122711715,
                    1137.588122711715,
                    1137.588523947401,
                    1137.5887914378584,
                    1140.2630272849215,
                    1140.4128219410209,
                    1141.4256745576654,
                    1142.8619645682486,
                    1148.3104776934126,
                    1149.1499964937134,
                    1149.1499964937134,
                    1149.1499964937134,
                    1149.1499964937134,
                    1149.1499964937134,
                    1149.952200375218,
                    1150.293919434445,
                    1150.5273048584572,
                    1151.7474625795253,
                    1157.1747102133322,
                    1178.3055201250615,
                    1189.533432071095,
                    1190.4174880325397,
                    1192.0364740254727,
                    1192.0364740254727,
                    1198.7236017132598,
                    1200.314634953403,
                    1204.4607370418728,
                    1204.4607370418728,
                    1204.4607370418728,
                    1204.4607370418728,
                    1204.4607370418728,
                    1204.4607370418728,
                    1204.4607370418728,
                    1204.4607370418728,
                    1204.4607370418728,
                    1204.4607370418728,
                    1204.4607370418728,
                    1204.4607370418728,
                    1204.4607370418728,
                    1204.4607370418728,
                    1204.4607370418728,
                    1204.4607370418728,
                    1204.4607370418728,
                    1204.4607370418728,
                    1204.4607370418728,
                    1204.4607370418728,
                    1204.4607370418728,
                    1204.4607370418728,
                    1205.1294631851742,
                    1205.3434555510307,
                    1207.9616521472851,
                    1207.9616521472851,
                    1207.9616521472851,
                    1208.0051193465997,
                    1211.4775467183076,
                    1213.4250109928303,
                    1218.3020307559289,
                    1222.17943868002,
                    1224.523323812292,
                    1225.8599736275232,
                    1230.8668600076508,
                    1230.8668600076508,
                    1230.8668600076508,
                    1230.8668600076508,
                    1230.8668600076508,
                    1230.8668600076508,
                    1230.8668600076508,
                    1230.8668600076508,
                    1230.8668600076508,
                    1231.2097827739358,
                    1231.2097827739358,
                    1231.2097827739358,
                    1246.4132716418972,
                    1246.590484069872,
                    1247.5546534232842,
                    1248.419450071802,
                    1251.271567072983,
                    1255.2470102496823,
                    1255.2470102496823,
                    1255.4548503350204,
                    1257.342263001875,
                    1257.4110080494063,
                    1257.9153613066842,
                    1263.8001513677382,
                    1264.308918217562,
                    1267.3731551513986,
                    1267.688392655351,
                    1271.3333513720304,
                    1271.3333513720304,
                    1271.3333513720304,
                    1271.3333513720304,
                    1271.3333513720304,
                    1271.3333513720304,
                    1271.3333513720304,
                    1271.3333513720304,
                    1271.5573746300365,
                    1273.1678009283353,
                    1274.2088737882273,
                    1278.1543580337066,
                    1280.9890881551619,
                    1282.3284128749663,
                    1295.089446377133,
                    1308.7451017138085,
                    1309.0774586070293,
                    1310.279293231771,
                    1310.8283173954214,
                    1315.3582682901465,
                    1317.8619789706677,
                    1323.5842685788991,
                    1323.5842685788991,
                    1330.7831055115407,
                    1332.1325948687231,
                    1332.8561565557754,
                    1334.3868706977928,
                    1335.9175848398102,
                    1337.7605940907492,
                    1338.2059657021882,
                    1338.2059657021882,
                    1338.2059657021882,
                    1338.2059657021882,
                    1338.2059657021882,
                    1338.2059657021882,
                    1338.2059657021882,
                    1338.2059657021882,
                    1338.2059657021882,
                    1338.2059657021882,
                    1338.2059657021882,
                    1338.2059657021882,
                    1338.2059657021882,
                    1338.2059657021882,
                    1338.2059657021882,
                    1338.2059657021882,
                    1338.2059657021882,
                    1338.2059657021882,
                    1338.2059657021882,
                    1338.2059657021882,
                    1338.2059657021882,
                    1338.2059657021882,
                    1338.2059657021882,
                    1338.2059657021882,
                    1338.2059657021882,
                    1338.2059657021882,
                    1338.2059657021882,
                    1338.3249989556957,
                    1341.1048935334004,
                    1341.5895862420655,
                    1345.9484769893338,
                    1346.8994055651087,
                    1356.4187222150065,
                    1360.832314760797,
                    1361.089774325968,
                    1364.582932208118,
                    1375.950072937187,
                    1405.0785800323458,
                    1405.0785800323458,
                    1405.0785800323458,
                    1405.0785800323458,
                    1405.0785800323458,
                    1405.0785800323458,
                    1405.0785800323458,
                    1405.0785800323458,
                    1405.0785800323458,
                    1405.0785800323458,
                    1405.0785800323458,
                    1405.0785800323458,
                    1405.0785800323458,
                    1405.0785800323458,
                    1411.7658414653615,
                    1412.4345676086632,
                    1413.1701663662948,
                    1417.6959711589313,
                    1418.4531028983774,
                    1425.1403643313931,
                    1425.2306423607388,
                    1429.6848934560421,
                    1430.6474578667103,
                    1434.7979735477259,
                    1471.9511943625034,
                    1471.9511943625034,
                    1471.9511943625034,
                    1471.9511943625034,
                    1471.9511943625034,
                    1471.9511943625034,
                    1471.9511943625034,
                    1471.9511943625034,
                    1471.9511943625034,
                    1471.9511943625034,
                    1471.9511943625034,
                    1471.9511943625034,
                    1471.9511943625034,
                    1471.9511943625034,
                    1471.9511943625034,
                    1471.9511943625034,
                    1471.9511943625034,
                    1471.9511943625034,
                    1471.9511943625034,
                    1471.9511943625034,
                    1471.9511943625034,
                    1488.0006218017413,
                    1489.070583631024,
                    1490.8995496329537,
                    1492.6817048048524,
                    1502.4451064970553,
                    1512.074762960598,
                    1512.074762960598,
                    1521.3003750883581,
                    1524.8327203225056,
                    1534.6748979543895,
                    1537.6468506804504,
                    1538.8238086926613,
                    1538.8238086926613,
                    1538.8238086926613,
                    1540.1612609792644,
                    1540.8940510870943,
                    1551.7274146085797,
                    1561.694242793575,
                    1572.26011585774,
                    1591.6765794285013,
                    1592.3219001567873,
                    1595.4027214989778,
                    1605.6964230228189,
                    1605.6964230228189,
                    1617.0647674589457,
                    1618.6000289387375,
                    1645.0008020953692,
                    1651.3007373461846,
                    1659.194514486945,
                    1665.3914659116922,
                    1678.6604637923106,
                    1723.3768435426005,
                    1727.8285534785591,
                    1739.4416516831343,
                    1739.4416516831343,
                    1739.4416516831343,
                    1739.4416516831343,
                    1739.4416516831343,
                    1739.4416516831343,
                    1739.4416516831343,
                    1739.4416516831343,
                    1739.4416516831343,
                    1739.7352224600436,
                    1747.4147397444904,
                    1792.9397431472603,
                    1814.99299390106,
                    1829.5845983479003,
                    1873.1868803434495,
                    1873.1868803434495,
                    1873.1868803434495,
                    1892.6651342098519,
                    1904.683881692954,
                    1919.0848991889534,
                    1940.0594946736073,
                    1944.604023798256,
                    1964.6658080973036,
                    1991.0431758389195,
                    1998.6964790585487,
                    2006.9321090037652,
                    2019.0332435477217,
                    2044.2035606006784,
                    2060.2737185503584,
                    2065.8990428678117,
                    2073.8047233339225,
                    2073.8047233339225,
                    2103.8973997824937,
                    2118.661535574306,
                    2140.6773376640804,
                    2140.6773376640804,
                    2149.7749556080125,
                    2163.0649514895304,
                    2194.3914276724927,
                    2223.6182375107173,
                    2245.294059229237,
                    2272.1341854620177,
                    2276.8527171291535,
                    2281.133233172427,
                    2296.774737664251,
                    2402.8952905804645,
                    2408.1677949847112,
                    2408.1677949847112,
                    2408.1677949847112,
                    2408.1677949847112,
                    2408.1677949847112,
                    2416.6271806974764,
                    2428.2295792837585,
                    2440.4900043950493,
                    2452.3037204426155,
                    2488.0092829023733,
                    2491.884283412349,
                    2495.102193613916,
                    2498.1114612587735,
                    2528.538500778995,
                    2544.9222912898836,
                    2555.2875465110583,
                    2561.9748079440737,
                    2586.5692180424194,
                    2648.909206573279,
                    2675.658252305342,
                    2689.0327751713735,
                    2737.085028414909,
                    2752.9482824958513,
                    2754.3186361087055,
                    2767.137180059196,
                    2791.771847471368,
                    2872.014972310697,
                    2888.7814079207833,
                    2903.267754872668,
                    2914.326612849675,
                    2916.8013008155767,
                    2951.7298034968185,
                    3121.21576961203,
                    3145.211001085977,
                    3155.466451474422,
                    3277.511781276761,
                    3290.8863041427926,
                    3371.735294867953,
                    3576.6299090352973,
                    3623.2431973636762,
                    3636.3355177972344,
                    3745.620081587865,
                    3752.83951528572,
                    3782.261860648245,
                    3909.8779467147447,
                    4073.586787677974,
                    4079.9831532386534,
                    4140.191911550811,
                    4203.667397072997,
                    4220.215694215138,
                    4317.913106375552,
                    4414.346224889442,
                    4491.80811769878,
                    4499.39347834225,
                    4584.905496464652,
                    4759.126712400583,
                    5014.491292309955,
                    5083.0723681910185,
                    5083.0723681910185,
                    5190.068551119271,
                    5500.838964434381,
                    5563.574838842074,
                    5569.482365592001,
                    5773.1869147147245,
                    6040.377247742241,
                    6049.671872407991,
                    6086.280750142119,
                    6091.697298157635,
                    6438.997278286279,
                    6448.863931295007,
                    7369.699830621279,
                    7802.90062625204,
                    8051.105690325996,
                    8430.514823715723,
                    9469.380887334723,
                    10002.52133388439,
                    10370.274035615454,
                    10925.42185830549,
                    10925.625686033969,
                    11101.607657905211,
                    11231.073039248397,
                    11944.202598465197,
                    13390.546639122407,
                    15008.061702030718,
                    16327.324637536069,
                    19208.654940287423,
                    20740.696771189643,
                    21856.95090025176,
                    21914.168714015388,
                    24820.864334363083,
                    30105.179512262577,
                    30160.1792951541,
                    39549.217793954296
                  ],
                  "yaxis": "y"
                },
                {
                  "customdata": [
                    [
                      "ADALBERTO FELICIO MALUF FILHO",
                      "PV"
                    ],
                    [
                      "ADAMARIO MAXIMO DOS SANTOS FILHO",
                      "NOVO"
                    ],
                    [
                      "ADELAIDE CASTRO DE OLIVEIRA",
                      "PODE"
                    ],
                    [
                      "ADELINO FRANCISCO DE OLIVEIRA",
                      "PT"
                    ],
                    [
                      "ADEMILSON DA CONCEIÇÃO CUNHA",
                      "REPUBLICANOS"
                    ],
                    [
                      "ADENILSON SILVA ALVES",
                      "MDB"
                    ],
                    [
                      "ADILSON BARROSO OLIVEIRA",
                      "PL"
                    ],
                    [
                      "ADILSON DA SILVA ROZA FILHO",
                      "REPUBLICANOS"
                    ],
                    [
                      "ADILSON DE BRITO FARIAS",
                      "NOVO"
                    ],
                    [
                      "ADILSON DE MEDEIROS PAULINO",
                      "PSC"
                    ],
                    [
                      "ADOLFO TIMOTIO",
                      "REDE"
                    ],
                    [
                      "ADRIANA ALVES DA SILVA RAMALHO",
                      "PSD"
                    ],
                    [
                      "ADRIANA GLEDYS ZINK",
                      "PSDB"
                    ],
                    [
                      "ADRIANO DA COSTA E SILVA",
                      "REPUBLICANOS"
                    ],
                    [
                      "ADRIANO ELI CORREA",
                      "UNIÃO"
                    ],
                    [
                      "ADRIANO GUIMARÃES SIMÕES",
                      "PP"
                    ],
                    [
                      "ADÉRITO CÁSSIO DE ASSIS DUTRA",
                      "PSOL"
                    ],
                    [
                      "AGNALDO CRUZ DE OLIVEIRA",
                      "PSD"
                    ],
                    [
                      "AGOSTINHO FERREIRA GOMES",
                      "PSOL"
                    ],
                    [
                      "AILTON BISPO DOS ANJOS",
                      "PSC"
                    ],
                    [
                      "AIRTON DOS SANTOS",
                      "PP"
                    ],
                    [
                      "ALBERTINO FERREIRA DE OLIVEIRA",
                      "PSOL"
                    ],
                    [
                      "ALCIDES FERNANDES BARBOSA",
                      "MDB"
                    ],
                    [
                      "ALESSANDRA ESQUIVEL PRANDI",
                      "MDB"
                    ],
                    [
                      "ALESSANDRA REGINA VERGILIO",
                      "NOVO"
                    ],
                    [
                      "ALESSANDRO DE FREITAS LEONE",
                      "PSD"
                    ],
                    [
                      "ALESSANDRO RUIZ MARTINEZ",
                      "PSD"
                    ],
                    [
                      "ALESSANDRO SONEGO DE ALMEIDA",
                      "PODE"
                    ],
                    [
                      "ALESSANDRO TADEU DAMIN",
                      "PODE"
                    ],
                    [
                      "ALEX DOS REIS",
                      "UNIÃO"
                    ],
                    [
                      "ALEX MACEDO DE SOUZA",
                      "UNIÃO"
                    ],
                    [
                      "ALEXANDRE DE ALCANTARA",
                      "PSDB"
                    ],
                    [
                      "ALEXANDRE DONIZETE TEODORO",
                      "PSC"
                    ],
                    [
                      "ALEXANDRE GLUSKOSKI VENEGAS",
                      "PSDB"
                    ],
                    [
                      "ALEXANDRE LUÍS NOBRE TERRERI",
                      "REDE"
                    ],
                    [
                      "ALEXANDRE MANOEL LEME",
                      "UNIÃO"
                    ],
                    [
                      "ALEXANDRE MENDES PINHEIRO",
                      "NOVO"
                    ],
                    [
                      "ALEXIS JOSEPH STEVERLYNCK FONTEYNE",
                      "NOVO"
                    ],
                    [
                      "ALEXSANDRA RIBEIRO RODRIGUES DA SILVA",
                      "PSB"
                    ],
                    [
                      "ALEXSSANDRO BUSSOLA",
                      "PSDB"
                    ],
                    [
                      "ALFREDO ALVES CAVALCANTE",
                      "PT"
                    ],
                    [
                      "ALICE RIBEIRO CORDEIRO DE BARROS",
                      "PSOL"
                    ],
                    [
                      "ALINE CRISTINA DE SOUZA UBIDA",
                      "SOLIDARIEDADE"
                    ],
                    [
                      "ALVARO EXPEDITO JERONYMO",
                      "PSOL"
                    ],
                    [
                      "AMANDA ROSA MARIA SILVA",
                      "SOLIDARIEDADE"
                    ],
                    [
                      "AMILTON AUGUSTO DA SILVA JUNIOR",
                      "PSB"
                    ],
                    [
                      "ANA ALICE FERNANDES DE ALMEIDA",
                      "PODE"
                    ],
                    [
                      "ANA CLAUDIA CARLETTO",
                      "PSDB"
                    ],
                    [
                      "ANA LUIZA HATIKIAN NEGRAO PASSOS",
                      "NOVO"
                    ],
                    [
                      "ANA PAULA JOSÉ EMÍDIO DA SILVA",
                      "PSC"
                    ],
                    [
                      "ANA PAULA TAVARES DE OLIVEIRA GOFFI",
                      "MDB"
                    ],
                    [
                      "ANA PAULA TOSIN",
                      "PSC"
                    ],
                    [
                      "ANA SILVIA GOES DE SOUZA",
                      "PL"
                    ],
                    [
                      "ANDERSON CAVANHA",
                      "PL"
                    ],
                    [
                      "ANDERSON SEVERIANO GOMES",
                      "REDE"
                    ],
                    [
                      "ANDREIA APARECIDA GOMES DE SOUSA FERNANDES",
                      "SOLIDARIEDADE"
                    ],
                    [
                      "ANDREIA VAZ TOSTES IRENTE",
                      "MDB"
                    ],
                    [
                      "ANDRÉ MAXIMILIANO MORON MACHADO",
                      "PSD"
                    ],
                    [
                      "ANDRÉ SACCO JUNIOR",
                      "PSDB"
                    ],
                    [
                      "ANGELA BARBOSA DOS SANTOS",
                      "SOLIDARIEDADE"
                    ],
                    [
                      "ANTONIO ALBERTO MACHADO",
                      "PT"
                    ],
                    [
                      "ANTONIO CARLOS DA MOTTA",
                      "NOVO"
                    ],
                    [
                      "ANTONIO CARLOS DE OLIVEIRA",
                      "PSB"
                    ],
                    [
                      "ANTONIO CARLOS DE SOUZA SANTANA",
                      "PP"
                    ],
                    [
                      "ANTONIO GOULART DOS REIS",
                      "UNIÃO"
                    ],
                    [
                      "ANTONIO PEREIRA DOS SANTOS",
                      "PP"
                    ],
                    [
                      "ANTÔNIO AGNALDO GUERRA",
                      "SOLIDARIEDADE"
                    ],
                    [
                      "ANTÔNIO JOSÉ GERALDO",
                      "PSC"
                    ],
                    [
                      "ANTÔNIO OCILIO VASCONCELOS DA SILVA",
                      "PSOL"
                    ],
                    [
                      "APARECIDA BATISTA DIAS BARRETO DE OLIVEIRA",
                      "PL"
                    ],
                    [
                      "APARECIDO BARBOSA DA SILVA",
                      "PODE"
                    ],
                    [
                      "APARECIDO SARAIVA DA ROCHA",
                      "MDB"
                    ],
                    [
                      "ARIADNA THALIA DA SILVA ARANTES",
                      "PSB"
                    ],
                    [
                      "ARMANDO BEGA",
                      "PL"
                    ],
                    [
                      "ARMANDO FERREIRO RODRIGUES",
                      "MDB"
                    ],
                    [
                      "ARNALDO SALVETTI PALACIO JUNIOR",
                      "MDB"
                    ],
                    [
                      "ARTHUR MARIO PINHEIRO MACHADO",
                      "REPUBLICANOS"
                    ],
                    [
                      "ASTROGILDO CANDIDO DE SOUSA JUNIOR",
                      "SOLIDARIEDADE"
                    ],
                    [
                      "AUGUSTO DE ARRUDA BOTELHO NETO",
                      "PSB"
                    ],
                    [
                      "AUGUSTO EDUARDO VIDAL NETO",
                      "PODE"
                    ],
                    [
                      "AURELIA CINAQUI AMARAL",
                      "PSC"
                    ],
                    [
                      "BARBARA HUYARA DE OLIVEIRA VICTORIANO KOGOS",
                      "REPUBLICANOS"
                    ],
                    [
                      "BENEDITO APARECIDO DA SILVA",
                      "REPUBLICANOS"
                    ],
                    [
                      "BENEDITO ROBERTO ALVES FERREIRA",
                      "REPUBLICANOS"
                    ],
                    [
                      "BIANCA COLEPICOLO",
                      "PP"
                    ],
                    [
                      "BRAZ HENRIQUE TELES",
                      "REDE"
                    ],
                    [
                      "BRUNA KARINI DA SILVA",
                      "NOVO"
                    ],
                    [
                      "BRUNO SCAFFIDI",
                      "PSD"
                    ],
                    [
                      "CAIO AUGUSTO SILVA DOS SANTOS",
                      "UNIÃO"
                    ],
                    [
                      "CAIO JOSÉ CARLOS SILVEIRA GAIANE",
                      "PODE"
                    ],
                    [
                      "CARINA BALBINO CARNEIRO",
                      "PP"
                    ],
                    [
                      "CARLA CRISTINA MASSARO FLORES",
                      "MDB"
                    ],
                    [
                      "CARLOS ALBERTO DE SOUZA",
                      "PL"
                    ],
                    [
                      "CARLOS ALBERTO VEIGA DE QUADROS",
                      "PSC"
                    ],
                    [
                      "CARLOS EDUARDO MARCHESI TROMBINI",
                      "REPUBLICANOS"
                    ],
                    [
                      "CARLOS MINORU ISHIKO",
                      "REPUBLICANOS"
                    ],
                    [
                      "CARLOS PIRES DE LIMA",
                      "PSB"
                    ],
                    [
                      "CAROLINA TAKAYAMA DOS SANTOS",
                      "PP"
                    ],
                    [
                      "CAROLINE DO AMPARO CERQUEIRA",
                      "UNIÃO"
                    ],
                    [
                      "CATIA NUNES DE ABREU",
                      "PL"
                    ],
                    [
                      "CELI REGINA DA CRUZ",
                      "PT"
                    ],
                    [
                      "CELSO HENRIQUE DE OLIVEIRA",
                      "NOVO"
                    ],
                    [
                      "CESAR MAX DE LIMA VIEIRA",
                      "NOVO"
                    ],
                    [
                      "CESAR RICARDO DOS SANTOS FERREIRA",
                      "PSDB"
                    ],
                    [
                      "CHUKS ILOEGBUNAM",
                      "PSDB"
                    ],
                    [
                      "CIBELE FRAGOSO BOTELHO",
                      "PSB"
                    ],
                    [
                      "CIBELE FRANCO NAZARETH",
                      "NOVO"
                    ],
                    [
                      "CICERO ANTONIO DA SILVA",
                      "PSB"
                    ],
                    [
                      "CICERO DE AQUINO",
                      "REPUBLICANOS"
                    ],
                    [
                      "CLAUDETE ALVES DA SILVA",
                      "PT"
                    ],
                    [
                      "CLAUDIA CARRATO GRANDE",
                      "PSD"
                    ],
                    [
                      "CLAUDIA CASTALDELLI CORRÊA",
                      "REPUBLICANOS"
                    ],
                    [
                      "CLAUDIA CRISTINA DA SILVA COSTA",
                      "PSC"
                    ],
                    [
                      "CLAUDIA NERYS DE OLIVEIRA",
                      "PSC"
                    ],
                    [
                      "CLAUDINEI DA ROCHA CORDEIRO",
                      "MDB"
                    ],
                    [
                      "CLAUDIO BISPO",
                      "PT"
                    ],
                    [
                      "CLAUDIO FREITAS",
                      "SOLIDARIEDADE"
                    ],
                    [
                      "CLAUDIO GASPAR DOTTORI",
                      "REDE"
                    ],
                    [
                      "CLAUDIO JOSÉ MACHADO",
                      "PSOL"
                    ],
                    [
                      "CLEBER ARAÚJO BARBOSA",
                      "PODE"
                    ],
                    [
                      "CLEBER DA ROSA MOREIRA",
                      "PP"
                    ],
                    [
                      "CLEBER FERNANDO BERNARDI",
                      "PODE"
                    ],
                    [
                      "CLEBER JACOB",
                      "PSD"
                    ],
                    [
                      "CLEITON FREITAS DE ARAUJO",
                      "PSB"
                    ],
                    [
                      "CLEONICE DE OLIVEIRA",
                      "PL"
                    ],
                    [
                      "CLEUSA RAMOS ZERBINI",
                      "MDB"
                    ],
                    [
                      "CLEUZA BORDIN QUEIROZ DA SILVA",
                      "SOLIDARIEDADE"
                    ],
                    [
                      "CLEVERSON FIUZA ALVES",
                      "NOVO"
                    ],
                    [
                      "CLOVIS BASILIO DOS SANTOS",
                      "UNIÃO"
                    ],
                    [
                      "CLÁUDIA PEREIRA CALDAS",
                      "PP"
                    ],
                    [
                      "CRISTIANE FORSSELL FERRARA FOMIN",
                      "PODE"
                    ],
                    [
                      "CRISTIANE IGNACIO ISIDORO BRAZ",
                      "PL"
                    ],
                    [
                      "CRISTIANE KÁTIA SIMONI ABREU",
                      "PODE"
                    ],
                    [
                      "CRISTIANO MOREIRA PINTO BERALDO",
                      "UNIÃO"
                    ],
                    [
                      "CRISTIANO SALMEIRÃO",
                      "SOLIDARIEDADE"
                    ],
                    [
                      "CRISTINA APARECIDA DOS SANTOS FERNANDES",
                      "PP"
                    ],
                    [
                      "CÉLIA RAMOS DE JESUS FEITOSA",
                      "PSD"
                    ],
                    [
                      "DANIEL AUGUSTO SILVA CURY",
                      "PSB"
                    ],
                    [
                      "DANIEL DE ANDRADE VIEIRA",
                      "PSC"
                    ],
                    [
                      "DANIEL FERNANDO DE SOUZA CAMILO",
                      "REPUBLICANOS"
                    ],
                    [
                      "DANIEL JOSÉ DA SILVA OLIVEIRA",
                      "PODE"
                    ],
                    [
                      "DANIEL MOTTA DE OLIVEIRA",
                      "REPUBLICANOS"
                    ],
                    [
                      "DANIEL NEVES DE FARIA",
                      "MDB"
                    ],
                    [
                      "DANIELA APARECIDA FELIX",
                      "PSB"
                    ],
                    [
                      "DANIELA CURIATI NUCCI",
                      "PSB"
                    ],
                    [
                      "DANIELE LUCI CARDOSO BARBOSA FRANCO",
                      "PSDB"
                    ],
                    [
                      "DANILO DA CUNHA BARBOSA",
                      "NOVO"
                    ],
                    [
                      "DANILO HENRIQUE PEREIRA DAVID",
                      "NOVO"
                    ],
                    [
                      "DANILO MARCO MORGADO SILVA",
                      "SOLIDARIEDADE"
                    ],
                    [
                      "DANILO SILVEIRA RAMOS",
                      "PL"
                    ],
                    [
                      "DANUTTA DE FIGUEIREDO FALCÃO ROSSETO",
                      "REPUBLICANOS"
                    ],
                    [
                      "DAVID ABMAEL DAVID",
                      "PL"
                    ],
                    [
                      "DAVID CARDOSO",
                      "PL"
                    ],
                    [
                      "DAVID DE OLIVEIRA RUFATO",
                      "PSC"
                    ],
                    [
                      "DEBORA ELOISA JUSTINO",
                      "UNIÃO"
                    ],
                    [
                      "DEBORA FARIAS CABRAL",
                      "REPUBLICANOS"
                    ],
                    [
                      "DELBIO CAMARGO TERUEL",
                      "UNIÃO"
                    ],
                    [
                      "DEMERSON DIAS",
                      "PSB"
                    ],
                    [
                      "DENILSON ROCHA ZIROLDO",
                      "PSD"
                    ],
                    [
                      "DENIS EDUARDO ANDIA",
                      "MDB"
                    ],
                    [
                      "DIOGO PEREIRA FORJAZ",
                      "PL"
                    ],
                    [
                      "DIUMIRA CARDOSO DE LIMA",
                      "PODE"
                    ],
                    [
                      "DORIEDSON ANTONIO DA SILVA FREITAS",
                      "REDE"
                    ],
                    [
                      "DOUGLAS DE ARAUJO GIGLIO",
                      "PP"
                    ],
                    [
                      "DOUGLAS DE PAULO VIEGAS",
                      "UNIÃO"
                    ],
                    [
                      "DOUGLAS ELIAS BELCHIOR",
                      "PT"
                    ],
                    [
                      "DOUGLAS GARCIA BISPO DOS SANTOS",
                      "REPUBLICANOS"
                    ],
                    [
                      "DOUGLAS MARTINS IZZO",
                      "PT"
                    ],
                    [
                      "DOUGLAS MELO DE SOUSA",
                      "REPUBLICANOS"
                    ],
                    [
                      "DOUGLAS VIEIRA PRIMO",
                      "NOVO"
                    ],
                    [
                      "DOUGLAS YUGI KOGA",
                      "NOVO"
                    ],
                    [
                      "DULCINEIA LOPES DE OLIVEIRA",
                      "PL"
                    ],
                    [
                      "DYEGO RAFAEL BARBOSA SÉRVOLO",
                      "PSOL"
                    ],
                    [
                      "DÉBORA CRISTINA CHANTRE CARDOSO",
                      "PODE"
                    ],
                    [
                      "ECLAIR PIRES DE SOUZA",
                      "PSB"
                    ],
                    [
                      "EDEVALDO DONIZETTI DE CAMPOS",
                      "REDE"
                    ],
                    [
                      "EDGARD MARCOS GASPAR",
                      "REPUBLICANOS"
                    ],
                    [
                      "EDICARLOS VIEIRA",
                      "PP"
                    ],
                    [
                      "EDILAINE DANIEL CARVALHO",
                      "SOLIDARIEDADE"
                    ],
                    [
                      "EDISON IWAO KURAMOTO",
                      "PSDB"
                    ],
                    [
                      "EDITH FERREIRA DE SOUZA OLIVEIRA",
                      "SOLIDARIEDADE"
                    ],
                    [
                      "EDMILSON DE SOUZA VIEIRA FEITOSA",
                      "MDB"
                    ],
                    [
                      "EDNA APARECIDA OLIVEIRA SANTOS",
                      "MDB"
                    ],
                    [
                      "EDSON COELHO ARAÚJO FILHO",
                      "MDB"
                    ],
                    [
                      "EDSON FERREIRA PONTES",
                      "SOLIDARIEDADE"
                    ],
                    [
                      "EDUARDO DADE SALLUM",
                      "PT"
                    ],
                    [
                      "EDUARDO DE VASCONCELLOS CORREIA ANNUNCIATO",
                      "SOLIDARIEDADE"
                    ],
                    [
                      "EDUARDO JANZON AVALLONE NOGUEIRA",
                      "PODE"
                    ],
                    [
                      "EDUARDO PEDROSA CURY",
                      "PSDB"
                    ],
                    [
                      "EDUARDO SANASSAR FONSECA",
                      "UNIÃO"
                    ],
                    [
                      "EDUARDO VINICIUS VENTURELLI DE ALMEIDA PRANDO",
                      "SOLIDARIEDADE"
                    ],
                    [
                      "EDVAM RAMOS DE SOUZA",
                      "MDB"
                    ],
                    [
                      "ELAINE APARECIDA PEREIRA GOMES",
                      "REPUBLICANOS"
                    ],
                    [
                      "ELAINE CRISTINA DA SILVA",
                      "PP"
                    ],
                    [
                      "ELAINE CRISTINA DO NASCIMENTO",
                      "REPUBLICANOS"
                    ],
                    [
                      "ELAINE CRISTINA GONÇALVES AMORIM",
                      "PSC"
                    ],
                    [
                      "ELAINE DOSOLINA FAVERO",
                      "PSD"
                    ],
                    [
                      "ELAINE SILVEIRA NEVES",
                      "MDB"
                    ],
                    [
                      "ELIANA BERTA FERNANDES CORRAL",
                      "PL"
                    ],
                    [
                      "ELIANA FERNANDES CONCEIÇÃO",
                      "PSD"
                    ],
                    [
                      "ELIANA MARUCCI COSTA MIRANDA",
                      "MDB"
                    ],
                    [
                      "ELIANE DE SOUSA ALVES MACHADO",
                      "REPUBLICANOS"
                    ],
                    [
                      "ELIAS ANTONIO NETO",
                      "UNIÃO"
                    ],
                    [
                      "ELIAS BONFIM AGUIAR DE SOUZA",
                      "REPUBLICANOS"
                    ],
                    [
                      "ELIAS DE SISTO",
                      "PSB"
                    ],
                    [
                      "ELIEL MIRANDA",
                      "PSD"
                    ],
                    [
                      "ELIETE NUNES FERNANDES DA SILVA",
                      "CIDADANIA"
                    ],
                    [
                      "ELIS REGINA VIEIRA RUANO",
                      "PSC"
                    ],
                    [
                      "ELISEU GABRIEL DE PIERI",
                      "PSB"
                    ],
                    [
                      "ELISSANDRO MARCIO SILVA LINDOSO",
                      "PSC"
                    ],
                    [
                      "ELIZARDE DA SILVA SOUSA",
                      "PP"
                    ],
                    [
                      "ELTON FRANCISCO DE BRITO",
                      "PSDB"
                    ],
                    [
                      "EMERSON APARECIDO DOS SANTOS",
                      "REPUBLICANOS"
                    ],
                    [
                      "EMERSON DE ABREU SANTANA",
                      "PT"
                    ],
                    [
                      "EMERSON KAPAZ",
                      "PSD"
                    ],
                    [
                      "ENRICO VAN BLARCUM DE GRAAFF MISASI",
                      "MDB"
                    ],
                    [
                      "ESNAR DONIZETI RIBEIRO LUZ",
                      "REPUBLICANOS"
                    ],
                    [
                      "ESTER LOPES DE SOUZA FLOR",
                      "UNIÃO"
                    ],
                    [
                      "ESTHEFANIA ROBERTA DE OLIVEIRA",
                      "PSOL"
                    ],
                    [
                      "EUCLIDES ROBERTO FERREIRA",
                      "PODE"
                    ],
                    [
                      "EUNICE FATIMA RODRIGUES REBOUÇAS DO NASCIMENTO",
                      "SOLIDARIEDADE"
                    ],
                    [
                      "EVANDRO FONTINELE",
                      "PSB"
                    ],
                    [
                      "FABIANA SOLER DOS SANTOS ANDRADE",
                      "PT"
                    ],
                    [
                      "FABIO CESAR SATO",
                      "MDB"
                    ],
                    [
                      "FABIO DE SALLES MEIRELLES NETO",
                      "UNIÃO"
                    ],
                    [
                      "FABIO DEFOURNY MARTINS",
                      "PSB"
                    ],
                    [
                      "FABIO DIAS DE OLIVEIRA",
                      "UNIÃO"
                    ],
                    [
                      "FABIO ELY RAMOS",
                      "PSB"
                    ],
                    [
                      "FABIO HENRIQUE DA CONCEIÇÃO",
                      "PSD"
                    ],
                    [
                      "FABIO JOSÉ RODRIGUES DE MELLO",
                      "PSOL"
                    ],
                    [
                      "FABIO RENATO DE SOUSA FERREIRA",
                      "NOVO"
                    ],
                    [
                      "FABIO RINALDI MANZANO",
                      "MDB"
                    ],
                    [
                      "FABIO SILVA CALIXTO",
                      "PT"
                    ],
                    [
                      "FABIO SIQUEIRA DIAS",
                      "REPUBLICANOS"
                    ],
                    [
                      "FABIO SOARES DE OLIVEIRA",
                      "PSDB"
                    ],
                    [
                      "FABRES LENE DE AQUINO DELMONDES",
                      "PODE"
                    ],
                    [
                      "FABRICIO DIAS JUNIOR",
                      "MDB"
                    ],
                    [
                      "FARID SAID MADI",
                      "PODE"
                    ],
                    [
                      "FATIMA REGINA PORTELLA OLIVEIRA",
                      "NOVO"
                    ],
                    [
                      "FAUSTO ALVES RAMALHO",
                      "REPUBLICANOS"
                    ],
                    [
                      "FAUSTO SALVADOR PERES",
                      "PODE"
                    ],
                    [
                      "FERNANDA DA SILVA ALVES",
                      "REPUBLICANOS"
                    ],
                    [
                      "FERNANDA FERREIRA DE ARAÚJO",
                      "PSD"
                    ],
                    [
                      "FERNANDA MENDES PRADO",
                      "PT"
                    ],
                    [
                      "FERNANDA STEFANI CURTI",
                      "PT"
                    ],
                    [
                      "FERNANDO ALVES LISBOA DINI",
                      "MDB"
                    ],
                    [
                      "FERNANDO ANTONIO MARCELO",
                      "SOLIDARIEDADE"
                    ],
                    [
                      "FERNANDO CAPEZ",
                      "UNIÃO"
                    ],
                    [
                      "FERNANDO FAVORETO",
                      "PSC"
                    ],
                    [
                      "FERNANDO HOLIDAY SILVA BISPO",
                      "NOVO"
                    ],
                    [
                      "FERNANDO PINHEIRO",
                      "PL"
                    ],
                    [
                      "FILIPE AUGUSTO FORNARI MONTANHOLI",
                      "PP"
                    ],
                    [
                      "FILIPE MANSINHO DE LIMA",
                      "REPUBLICANOS"
                    ],
                    [
                      "FLAVIA CAMARGO DA SILVA",
                      "PODE"
                    ],
                    [
                      "FLAVIO CASIMIRO DE SOUSA",
                      "PSOL"
                    ],
                    [
                      "FLÁVIA OLIVITO LANCHA ALVES DE OLIVEIRA",
                      "PSD"
                    ],
                    [
                      "FLÁVIO AUGUSTO DA SILVA",
                      "PSD"
                    ],
                    [
                      "FLÁVIO ROBERTO DE SOUZA SANT'ANNA",
                      "PSB"
                    ],
                    [
                      "FLÁVIO SILVA FILHO",
                      "PSOL"
                    ],
                    [
                      "FRANCIELLE EYRE DE OLIVEIRA TRIANI",
                      "UNIÃO"
                    ],
                    [
                      "FRANCINA SOUZA DRUMOND",
                      "PSB"
                    ],
                    [
                      "FRANCISCO ALEXANDRE FILHO",
                      "PODE"
                    ],
                    [
                      "FRANCISCO DE ASSIS CARVALHO ARTEN",
                      "MDB"
                    ],
                    [
                      "FRANCISCO JOSÉ NOGUEIRA DA SILVA",
                      "PT"
                    ],
                    [
                      "FRANCISCO PEREIRA DE SOUSA FILHO",
                      "PSB"
                    ],
                    [
                      "FRANKLIN VENANCIO DA SILVA NETTO",
                      "PODE"
                    ],
                    [
                      "FREDERICK WASSEF",
                      "PL"
                    ],
                    [
                      "FREDERICO AUGUSTO ARANTES MACHADO",
                      "PSDB"
                    ],
                    [
                      "FREDERICO BRAUN D AVILA",
                      "PL"
                    ],
                    [
                      "GERALDA MARIA DE LIMA",
                      "PP"
                    ],
                    [
                      "GERALDO MARTINS DE SOUZA",
                      "PT"
                    ],
                    [
                      "GETULIO PEREIRA SERPA",
                      "PSB"
                    ],
                    [
                      "GILBERTO ANTONIO LUIZ",
                      "PT"
                    ],
                    [
                      "GILBERTO BENTO",
                      "REPUBLICANOS"
                    ],
                    [
                      "GILDENOR ALVES FREIRE",
                      "PT"
                    ],
                    [
                      "GILMAR DA SILVA GIMENES",
                      "PL"
                    ],
                    [
                      "GILMAR ROTTA",
                      "PP"
                    ],
                    [
                      "GILMARA VANZO CRISTÃO",
                      "PP"
                    ],
                    [
                      "GIVANILSE DOS SANTOS",
                      "UNIÃO"
                    ],
                    [
                      "GLALSON CHAMON DA SILVA",
                      "PSC"
                    ],
                    [
                      "GLAUCIA BERENICE SANTOS DA SILVA",
                      "REPUBLICANOS"
                    ],
                    [
                      "GRACIANO ARILSON DOS SANTOS",
                      "PSC"
                    ],
                    [
                      "GUALTER DE ALMEIDA AMADO",
                      "REPUBLICANOS"
                    ],
                    [
                      "GUILHERME CAMPO DALL ORTO LEITE DO AMARAL",
                      "PODE"
                    ],
                    [
                      "GUILHERME CAMPOS JUNIOR",
                      "PSD"
                    ],
                    [
                      "GUILHERME DE SOUZA GOMES",
                      "PSDB"
                    ],
                    [
                      "GUILHERME PRADO ALMEIDA DE SOUZA",
                      "PSOL"
                    ],
                    [
                      "HAMILTON BERNARDES JUNIOR",
                      "UNIÃO"
                    ],
                    [
                      "HAROLD THAU",
                      "PSDB"
                    ],
                    [
                      "HELCIO FREIRE DO CARMO",
                      "NOVO"
                    ],
                    [
                      "HELIO ALVES RIBEIRO",
                      "REPUBLICANOS"
                    ],
                    [
                      "HELIO NISHIMOTO",
                      "MDB"
                    ],
                    [
                      "HENI OZI CUKIER",
                      "PODE"
                    ],
                    [
                      "HENRI DIAS",
                      "SOLIDARIEDADE"
                    ],
                    [
                      "HENRI HAIM ESSES",
                      "PV"
                    ],
                    [
                      "HENRIQUE CARLOS PARRA PARRA FILHO",
                      "PSOL"
                    ],
                    [
                      "HENRIQUE STEIN SCIASCIO",
                      "REPUBLICANOS"
                    ],
                    [
                      "HERICA VELOSO RIBEIRO MONT'ALVÃO",
                      "PSC"
                    ],
                    [
                      "HERNANI ALBERTO MONACO LEONHARDT",
                      "MDB"
                    ],
                    [
                      "HILARIO JULIANO RUIZ DE OLIVEIRA",
                      "PSB"
                    ],
                    [
                      "HOSANA DA SILVA PEREIRA",
                      "PP"
                    ],
                    [
                      "HUMBERTO JANTIM NETO",
                      "NOVO"
                    ],
                    [
                      "IARA BERNARDI",
                      "PT"
                    ],
                    [
                      "IGOR COIMBRA MANHANI",
                      "PP"
                    ],
                    [
                      "ILDA MARA REIS",
                      "PODE"
                    ],
                    [
                      "INES NANY RODRIGUES DA SILVA",
                      "UNIÃO"
                    ],
                    [
                      "IOLANDA GOMES RUAS",
                      "PSD"
                    ],
                    [
                      "IOLANDA KEIKO MIASHIRO OTA",
                      "MDB"
                    ],
                    [
                      "IRACILDA LOPES GUIMARÃES",
                      "PSB"
                    ],
                    [
                      "ISAAC DALCOL ANTUNES",
                      "PL"
                    ],
                    [
                      "ISABEL CRISTINA GONÇALVES BERNARDES",
                      "REDE"
                    ],
                    [
                      "ISADORA MARTINATTI PENNA",
                      "PC do B"
                    ],
                    [
                      "ISAÍAS TEIXEIRA DE OLIVEIRA",
                      "PSB"
                    ],
                    [
                      "ISRAEL NANTES SANTOS",
                      "PP"
                    ],
                    [
                      "IVAN RENATO DE LIMA",
                      "PSDB"
                    ],
                    [
                      "IVAN SERIGATO JUNIOR",
                      "PODE"
                    ],
                    [
                      "IVAN VALENTE",
                      "PSOL"
                    ],
                    [
                      "IVANILDO DOS SANTOS",
                      "REPUBLICANOS"
                    ],
                    [
                      "JACQUELINE COPQUE DE SANT'ANNA PEREIRA",
                      "PSB"
                    ],
                    [
                      "JACQUES CHOURIK",
                      "PP"
                    ],
                    [
                      "JADSON JOSÉ BARACHO DA SILVA",
                      "PSC"
                    ],
                    [
                      "JAIR CUSTÓDIO DA SILVA",
                      "PODE"
                    ],
                    [
                      "JANAINA CARLA DE LIMA PASCALICHIO",
                      "MDB"
                    ],
                    [
                      "JANAINA FERRATO ELIAS",
                      "PT"
                    ],
                    [
                      "JANAINA MACEDO CALVO",
                      "NOVO"
                    ],
                    [
                      "JANDIRA DE MENEZES CREPALDI",
                      "UNIÃO"
                    ],
                    [
                      "JANIEIRE MARIA SILVA",
                      "NOVO"
                    ],
                    [
                      "JAQUELINE DOMINGOS SAVIO MARTINS DO NASCIMENTO",
                      "UNIÃO"
                    ],
                    [
                      "JAQUES ARTUR MUNHOZ",
                      "PT"
                    ],
                    [
                      "JEFFERSON FERNANDO RIBEIRO CABRAL",
                      "PSB"
                    ],
                    [
                      "JEFFERSON LUIZ PEREIRA DA SILVA",
                      "UNIÃO"
                    ],
                    [
                      "JERRI ADRIANO FERREIRA DA SILVA",
                      "PSC"
                    ],
                    [
                      "JERUSA JANUÁRIA DA SILVA",
                      "REDE"
                    ],
                    [
                      "JOAO NAVES NETO",
                      "PSDB"
                    ],
                    [
                      "JOICE CRISTINA HASSELMANN",
                      "PSDB"
                    ],
                    [
                      "JONATAN SANTOS DE OLIVEIRA",
                      "REPUBLICANOS"
                    ],
                    [
                      "JONATHAN FABIO NASCIMENTO SOUZA",
                      "REPUBLICANOS"
                    ],
                    [
                      "JORGE ABISSAMRA FILHO",
                      "PSB"
                    ],
                    [
                      "JORGE ANTONIO SORIANO MOURA",
                      "PT"
                    ],
                    [
                      "JORGE BATISTA LOPES",
                      "SOLIDARIEDADE"
                    ],
                    [
                      "JORGE CORRÊA DE ARAUJO",
                      "PSD"
                    ],
                    [
                      "JORGE MALULY NETO",
                      "PODE"
                    ],
                    [
                      "JOSE ANDRE FERNANDES",
                      "NOVO"
                    ],
                    [
                      "JOSE CARLOS OROSCO",
                      "UNIÃO"
                    ],
                    [
                      "JOSE DOMINGOS RIZZO",
                      "SOLIDARIEDADE"
                    ],
                    [
                      "JOSE EDSON DE ARAUJO JUNIOR",
                      "PSC"
                    ],
                    [
                      "JOSE JOAQUIM FERNANDES RAPOSO FILHO",
                      "PODE"
                    ],
                    [
                      "JOSE PAULINO DE SOUZA JUNIOR",
                      "SOLIDARIEDADE"
                    ],
                    [
                      "JOSE ROBERTO BARBOSA DE SOUZA",
                      "UNIÃO"
                    ],
                    [
                      "JOSE RODRIGUES COSTA",
                      "PP"
                    ],
                    [
                      "JOSE WANDERLEY DE ANDRADE",
                      "PODE"
                    ],
                    [
                      "JOSIANE DE OLIVEIRA",
                      "PP"
                    ],
                    [
                      "JOSÉ ADILSON PEREIRA DOS SANTOS",
                      "PSC"
                    ],
                    [
                      "JOSÉ AFONSO LOBATO",
                      "PODE"
                    ],
                    [
                      "JOSÉ AMÉRICO ASCENCIO DIAS",
                      "PT"
                    ],
                    [
                      "JOSÉ ANIBAL PERES DE PONTES",
                      "PSDB"
                    ],
                    [
                      "JOSÉ ANTONIO FERNANDES PAIVA",
                      "SOLIDARIEDADE"
                    ],
                    [
                      "JOSÉ EDILSON PACHECO SILVA",
                      "PSC"
                    ],
                    [
                      "JOSÉ EDUARDO STANELIS DE AQUINO",
                      "PODE"
                    ],
                    [
                      "JOSÉ GUILHERME NEGRÃO PEIXOTO",
                      "PSC"
                    ],
                    [
                      "JOSÉ LEMES SOARES",
                      "PODE"
                    ],
                    [
                      "JOSÉ LUIZ SILVEIRA FILHO",
                      "PSC"
                    ],
                    [
                      "JOSÉ MARIO YAMASHITA",
                      "PP"
                    ],
                    [
                      "JOSÉ OSVALDO CAVALCANTE BELONI",
                      "PSC"
                    ],
                    [
                      "JOSÉ RIBAMAR PIAUILINO DE SOUSA",
                      "PV"
                    ],
                    [
                      "JOSÉ RICARDO ALVARENGA TRIPOLI",
                      "PSDB"
                    ],
                    [
                      "JOSÉ ROBERTO APOLARI",
                      "PP"
                    ],
                    [
                      "JOSÉ SERRA",
                      "PSDB"
                    ],
                    [
                      "JOÃO BATISTA DE OLIVEIRA",
                      "PSDB"
                    ],
                    [
                      "JOÃO BOSCO DE OLIVEIRA",
                      "PODE"
                    ],
                    [
                      "JOÃO CURY NETO",
                      "MDB"
                    ],
                    [
                      "JOÃO EDUARDO DADO LEITE DE CARVALHO",
                      "PL"
                    ],
                    [
                      "JOÃO LUIZ FEITOSA",
                      "MDB"
                    ],
                    [
                      "JOÃO PAULO RILLO",
                      "PSOL"
                    ],
                    [
                      "JOÃO PEDRO DA PAZ ARAÚJO",
                      "REDE"
                    ],
                    [
                      "JOÃO ROGÉRIO RODRIGUES VICARI",
                      "PSDB"
                    ],
                    [
                      "JUAREZ DOMINGOS COSTA",
                      "PSC"
                    ],
                    [
                      "JUAREZ JUVÊNCIO DOS SANTOS",
                      "PODE"
                    ],
                    [
                      "JUCILENE ALVES DA SILVA",
                      "PSC"
                    ],
                    [
                      "JULIANE LAURA CAMOLESI GALLO",
                      "MDB"
                    ],
                    [
                      "JULIO CESAR DE LIMA MORAES",
                      "PSB"
                    ],
                    [
                      "JUSSARA MORO PRESTO",
                      "PP"
                    ],
                    [
                      "JUVENAL DE AGUIAR PENTEADO NETO",
                      "PT"
                    ],
                    [
                      "JÚLIO CÉSAR GARCIA",
                      "PODE"
                    ],
                    [
                      "KALED ALI EL MALAT",
                      "PSD"
                    ],
                    [
                      "KARINA CELESTE MOURA",
                      "PSD"
                    ],
                    [
                      "KARLA JULIANE DA SILVA ALVES FRANCISCO",
                      "MDB"
                    ],
                    [
                      "KATIA DA SILVA SASTRE",
                      "PL"
                    ],
                    [
                      "KAUÊ CESAR SILVA",
                      "MDB"
                    ],
                    [
                      "KERLLYN DE OLIVEIRA MENEGUSSE",
                      "PT"
                    ],
                    [
                      "KOYU IHA",
                      "SOLIDARIEDADE"
                    ],
                    [
                      "KÁTIA SILVA DE OLIVEIRA",
                      "PT"
                    ],
                    [
                      "LARISSA PAIVA ANALIO MARCELINO",
                      "MDB"
                    ],
                    [
                      "LEANDRO OSVALDO SANTOS MEIRELES DA FONSECA",
                      "REPUBLICANOS"
                    ],
                    [
                      "LENIR MARIA DE OLIVEIRA",
                      "PSC"
                    ],
                    [
                      "LEONARDO ALEX DOS SANTOS",
                      "PP"
                    ],
                    [
                      "LEONICE LEONCIA DOS SANTOS",
                      "REPUBLICANOS"
                    ],
                    [
                      "LEONORA MENDES DE LIMA",
                      "MDB"
                    ],
                    [
                      "LEWIS SAWINSKI DE ALMEIDA",
                      "PODE"
                    ],
                    [
                      "LIDIANI ROCHA FERREIRA",
                      "MDB"
                    ],
                    [
                      "LIGIA LIMA DOS SANTOS",
                      "UNIÃO"
                    ],
                    [
                      "LILIAN MARIA COSTA MANSUR ANDRADE",
                      "NOVO"
                    ],
                    [
                      "LILIANE GONÇALVES VENTURA LOPES",
                      "PL"
                    ],
                    [
                      "LORENY MAYARA CAETANO ROBERTO",
                      "SOLIDARIEDADE"
                    ],
                    [
                      "LUANA DE BRITO TAVARES",
                      "PSD"
                    ],
                    [
                      "LUCAS SANCHES PROMESSIA",
                      "PP"
                    ],
                    [
                      "LUCIANA DA SILVA",
                      "REPUBLICANOS"
                    ],
                    [
                      "LUCIANA TRINDADE DE MACEDO",
                      "PSB"
                    ],
                    [
                      "LUCIANO ANDRE RODRIGUES",
                      "MDB"
                    ],
                    [
                      "LUCIANO DA CONCEIÇÃO",
                      "SOLIDARIEDADE"
                    ],
                    [
                      "LUCIANO DA SILVA",
                      "PODE"
                    ],
                    [
                      "LUCIENE BARROS VERISSIMO DA SILVA",
                      "PT"
                    ],
                    [
                      "LUCIENE CAVALCANTE DA SILVA",
                      "PSOL"
                    ],
                    [
                      "LUCILIO FERREIRA DA SILVA",
                      "PSOL"
                    ],
                    [
                      "LUIS ANTONIO DE LIMA CLEMENTE",
                      "UNIÃO"
                    ],
                    [
                      "LUIS CLAUDIO BILI LINS DA SILVA",
                      "SOLIDARIEDADE"
                    ],
                    [
                      "LUIS CLAUDIO FERNANDES MIRANDA",
                      "REPUBLICANOS"
                    ],
                    [
                      "LUIS FERNANDO DE SOUZA",
                      "PSDB"
                    ],
                    [
                      "LUIZ ANTÔNIO VASSOLER",
                      "PSC"
                    ],
                    [
                      "LUIZ CLAUDIO LUZ DA CONCEIÇÃO",
                      "SOLIDARIEDADE"
                    ],
                    [
                      "LUIZ CLAUDIO NOGAROTO AMARAL",
                      "PODE"
                    ],
                    [
                      "LUIZ DE SOUZA ARRAES",
                      "SOLIDARIEDADE"
                    ],
                    [
                      "LUIZ FELIPE DE ANDRADE FOLGOSI",
                      "PL"
                    ],
                    [
                      "LUIZ FELIPE DE LIMA SANTOS",
                      "MDB"
                    ],
                    [
                      "LUIZ LAURO FERREIRA",
                      "MDB"
                    ],
                    [
                      "LUIZ SCALEA",
                      "PODE"
                    ],
                    [
                      "LUIZ ZACARIAS DE ARAUJO FILHO",
                      "PL"
                    ],
                    [
                      "LUSINEIDE NEVES BARRETO",
                      "UNIÃO"
                    ],
                    [
                      "LUZIANE DIAS SIMÃO",
                      "PSOL"
                    ],
                    [
                      "LUZIMAR RODRIGUES DA SILVA",
                      "PSB"
                    ],
                    [
                      "LUÍS EDUARDO ANTUNES VIEIRA",
                      "PSD"
                    ],
                    [
                      "LYSSA CAROLINE MONTEIRO MAXIMO CARTIER",
                      "PL"
                    ],
                    [
                      "MADALENA DE LAURA PEREIRA",
                      "PSC"
                    ],
                    [
                      "MAICON VINICIUS RIBEIRO DA SILVA",
                      "MDB"
                    ],
                    [
                      "MAISA DINIZ LIMA",
                      "REDE"
                    ],
                    [
                      "MANOEL DAMIÃO GOMES BARBOSA",
                      "PSB"
                    ],
                    [
                      "MANOEL EDUARDO PEREIRA DA CRUZ PALOMINO",
                      "PP"
                    ],
                    [
                      "MARCEL DE JESUS GARCIA",
                      "MDB"
                    ],
                    [
                      "MARCELA DE CARVALHO NORA",
                      "UNIÃO"
                    ],
                    [
                      "MARCELLO LEONARDI BEZERRA",
                      "PSB"
                    ],
                    [
                      "MARCELO CANDIDO LOPES SIMÕES",
                      "PSC"
                    ],
                    [
                      "MARCELO DA MOTTA BARRICHELLO",
                      "PSD"
                    ],
                    [
                      "MARCELO DA SILVA",
                      "MDB"
                    ],
                    [
                      "MARCELO GERALDO DA SILVA",
                      "PSC"
                    ],
                    [
                      "MARCELO HENRIQUE SILVA",
                      "SOLIDARIEDADE"
                    ],
                    [
                      "MARCELO HERCOLIN",
                      "UNIÃO"
                    ],
                    [
                      "MARCELO JOSÉ ORTEGA",
                      "PODE"
                    ],
                    [
                      "MARCELO MARQUES DE SOUZA",
                      "PP"
                    ],
                    [
                      "MARCELO MORICKOCHI",
                      "PP"
                    ],
                    [
                      "MARCELO PORFIRIO DA SILVA",
                      "PSDB"
                    ],
                    [
                      "MARCIO ALVARES DE SOUZA",
                      "PSC"
                    ],
                    [
                      "MARCIO GONÇALVES MACIEL",
                      "MDB"
                    ],
                    [
                      "MARCIO ROBERTO GARCIA LARRANHAGA",
                      "PSC"
                    ],
                    [
                      "MARCIO RODRIGUES",
                      "PODE"
                    ],
                    [
                      "MARCIO TADEU ANHAIA DE LEMOS",
                      "PL"
                    ],
                    [
                      "MARCO ANTONIO BATISTA",
                      "REDE"
                    ],
                    [
                      "MARCO ANTONIO DE SOUZA PINTO",
                      "NOVO"
                    ],
                    [
                      "MARCO ANTONIO VILLA",
                      "CIDADANIA"
                    ],
                    [
                      "MARCO AURELIO UBIALI",
                      "PSB"
                    ],
                    [
                      "MARCOS ANDRÉ PAPA",
                      "PODE"
                    ],
                    [
                      "MARCOS ANTONIO DE ARAUJO",
                      "PSDB"
                    ],
                    [
                      "MARCOS ANTONIO DE CARVALHO LUCAS",
                      "NOVO"
                    ],
                    [
                      "MARCOS ANTONIO PALERMO",
                      "MDB"
                    ],
                    [
                      "MARCOS APARECIDO VARGAS",
                      "PP"
                    ],
                    [
                      "MARCOS ESTEVÃO MARQUES SARAIVA",
                      "MDB"
                    ],
                    [
                      "MARCOS GUERRA",
                      "UNIÃO"
                    ],
                    [
                      "MARCUS VINICIUS DE ARAÚJO DANTAS",
                      "PODE"
                    ],
                    [
                      "MARIA APARECIDA DE SOUZA COSTA SILVA",
                      "PSDB"
                    ],
                    [
                      "MARIA APARECIDA FAUSTINO FERNANDES",
                      "PSOL"
                    ],
                    [
                      "MARIA APARECIDA FIRMINO",
                      "REPUBLICANOS"
                    ],
                    [
                      "MARIA APARECIDA PINTO",
                      "PSD"
                    ],
                    [
                      "MARIA AUGUSTA FERREIRA FONSECA",
                      "UNIÃO"
                    ],
                    [
                      "MARIA CÉLIA RODRIGUES PACHECO",
                      "PODE"
                    ],
                    [
                      "MARIA DA GUIA ALVES DA ROCHA",
                      "PSC"
                    ],
                    [
                      "MARIA DA PAIXÃO PEREIRA COSTA",
                      "PODE"
                    ],
                    [
                      "MARIA DAS GRAÇAS PATRÍCIO",
                      "PSC"
                    ],
                    [
                      "MARIA ELI FERNANDES DOS SANTOS MANIÇOBA",
                      "PSOL"
                    ],
                    [
                      "MARIA ELISABETE DO NASCIMENTO TAHAN LOPES BARROS",
                      "PSC"
                    ],
                    [
                      "MARIA GABRIELA PRADO MANSSUR",
                      "MDB"
                    ],
                    [
                      "MARIA HELOISA GOMES DA SILVA",
                      "SOLIDARIEDADE"
                    ],
                    [
                      "MARIA ISABEL LOPES DA CUNHA SOARES",
                      "REDE"
                    ],
                    [
                      "MARIA JOSE DA SILVA",
                      "PSC"
                    ],
                    [
                      "MARIA LUCIA DA SILVA",
                      "PODE"
                    ],
                    [
                      "MARIA LUCIA SECOTI FILIZOLA",
                      "REDE"
                    ],
                    [
                      "MARIA REGINA GONÇALVES",
                      "PV"
                    ],
                    [
                      "MARIANA CERGOLI JANEIRO",
                      "PT"
                    ],
                    [
                      "MARIANNE BORGES TAVELLI",
                      "SOLIDARIEDADE"
                    ],
                    [
                      "MARILZA DE FATIMA RUFINO",
                      "NOVO"
                    ],
                    [
                      "MARINA CORREIA DA SILVA",
                      "PSDB"
                    ],
                    [
                      "MARINA HELENA CUNHA PEREIRA SANTOS",
                      "NOVO"
                    ],
                    [
                      "MARIO DONIZETE D ANDREA",
                      "REDE"
                    ],
                    [
                      "MARKS RODRIGO PINTIJA",
                      "REDE"
                    ],
                    [
                      "MARLI GOMES DO CARMO",
                      "NOVO"
                    ],
                    [
                      "MARLON FARIAS DA LUZ",
                      "MDB"
                    ],
                    [
                      "MARSCHELO RODRIGO MARIN MECHE",
                      "PL"
                    ],
                    [
                      "MARTA DE SOUZA SOBRAL",
                      "PT"
                    ],
                    [
                      "MARTINHO CARLOS COLPANI FILHO",
                      "PL"
                    ],
                    [
                      "MASSAEL BESSA DA SILVA",
                      "PP"
                    ],
                    [
                      "MATEUS OLIVEIRA MORO",
                      "PT"
                    ],
                    [
                      "MATHEUS DE OLIVEIRA PINTO",
                      "PL"
                    ],
                    [
                      "MAURICIO BERNARDINO SOARES",
                      "PL"
                    ],
                    [
                      "MAURICIO CHINAGLIA",
                      "SOLIDARIEDADE"
                    ],
                    [
                      "MAXIMILIANO RODRIGUES",
                      "SOLIDARIEDADE"
                    ],
                    [
                      "MAYRA LARISSA COSTA MIRANDA",
                      "UNIÃO"
                    ],
                    [
                      "MICHELLI CASSIANA DA PAIXÃO",
                      "PP"
                    ],
                    [
                      "MILTON ANTONIO CASQUEL MONTI",
                      "PSD"
                    ],
                    [
                      "MONICA APARECIDA CALAZANS",
                      "PSDB"
                    ],
                    [
                      "MONICA ROSENBERG BRAIZAT",
                      "NOVO"
                    ],
                    [
                      "MÁRCIA REBESCHINI PATELLA DA SILVA",
                      "PV"
                    ],
                    [
                      "MÁRCIO LEANDRO CENTENORIO",
                      "PSOL"
                    ],
                    [
                      "MÁRIO COVAS NETO",
                      "PODE"
                    ],
                    [
                      "MÁRIO DE OLIVEIRA",
                      "SOLIDARIEDADE"
                    ],
                    [
                      "MÔNICA APARECIDA DA SILVA SONTINI",
                      "PSC"
                    ],
                    [
                      "MÔNICA GABRIELA BUAVA DE FREITAS",
                      "PV"
                    ],
                    [
                      "NAZARÉ BATISTA BRAGA",
                      "PSB"
                    ],
                    [
                      "NELSON XIMENES JUNIOR",
                      "PSB"
                    ],
                    [
                      "NERIA LUCIO BUZATTO",
                      "UNIÃO"
                    ],
                    [
                      "NICOLINO BOZZELLA JUNIOR",
                      "UNIÃO"
                    ],
                    [
                      "NILSON BONOME",
                      "UNIÃO"
                    ],
                    [
                      "NILSON ULLRICH",
                      "PSC"
                    ],
                    [
                      "NILTON LOURENÇO CANDIDO",
                      "PSB"
                    ],
                    [
                      "NIVALDO DOS SANTOS",
                      "REPUBLICANOS"
                    ],
                    [
                      "NORMANDO COSTA DE ANDRADE FILHO",
                      "PSB"
                    ],
                    [
                      "ODILIA EXPEDITA DE SOUSA",
                      "PSC"
                    ],
                    [
                      "ORLANDO APARECIDO TOMASELLA",
                      "PSC"
                    ],
                    [
                      "ORLANDO COSTA DIAS",
                      "PSC"
                    ],
                    [
                      "ORLANDO MENGATTI FILHO",
                      "PSB"
                    ],
                    [
                      "ORLANDO VITORIANO DE OLIVEIRA",
                      "PT"
                    ],
                    [
                      "OSWALDO MARQUES CERA FILHO",
                      "PP"
                    ],
                    [
                      "PASCOALINA SOUZA SILVA",
                      "PT"
                    ],
                    [
                      "PATRICIA SILVA ZANELLA",
                      "REDE"
                    ],
                    [
                      "PATRÍCIA SIMÕES VEDRANO",
                      "PV"
                    ],
                    [
                      "PAULA APARECIDA CARVALHO",
                      "PSOL"
                    ],
                    [
                      "PAULA DIAS DE LA FUENTE",
                      "UNIÃO"
                    ],
                    [
                      "PAULA FURTADO BRUM",
                      "PP"
                    ],
                    [
                      "PAULO ADRIANO LOPES LUCINDA TELHADA",
                      "PP"
                    ],
                    [
                      "PAULO APARECIDO SILVA CAYRES",
                      "PT"
                    ],
                    [
                      "PAULO EDUARDO BRAZILINO",
                      "NOVO"
                    ],
                    [
                      "PAULO EDUARDO SEADE SERRA",
                      "REPUBLICANOS"
                    ],
                    [
                      "PAULO NISHIKAWA",
                      "PL"
                    ],
                    [
                      "PAULO PEREIRA DA SILVA",
                      "SOLIDARIEDADE"
                    ],
                    [
                      "PAULO PROIETI",
                      "NOVO"
                    ],
                    [
                      "PAULO RAMOS BORGES PINTO VIOLARO",
                      "NOVO"
                    ],
                    [
                      "PAULO ROBERTO AMARAL VIEIRA",
                      "PODE"
                    ],
                    [
                      "PAULO ROBERTO DE CAMPOS",
                      "PODE"
                    ],
                    [
                      "PAULO ROMEIRO DE ALMEIDA SOARES",
                      "PODE"
                    ],
                    [
                      "PAULO SERGIO ABOU ANNI",
                      "UNIÃO"
                    ],
                    [
                      "PAULO SERGIO DA ROCHA",
                      "REPUBLICANOS"
                    ],
                    [
                      "PAULO SERGIO SOARES DA SILVA",
                      "UNIÃO"
                    ],
                    [
                      "PEDRO AUGUSTO LIA TEDDE",
                      "NOVO"
                    ],
                    [
                      "PEDRO LUIS VAZ DE LIMA MATTOS",
                      "NOVO"
                    ],
                    [
                      "PEDRO TADEU BATISTA",
                      "PSD"
                    ],
                    [
                      "PEDRO TOURINHO DE SIQUEIRA",
                      "PT"
                    ],
                    [
                      "PIERPAOLO PAGANO",
                      "REPUBLICANOS"
                    ],
                    [
                      "POLLYANA FATIMA GAMA SANTOS",
                      "CIDADANIA"
                    ],
                    [
                      "POLLYANNA DO VALLE ATAGIBA",
                      "PT"
                    ],
                    [
                      "PRISCILA SILVA SOUZA",
                      "PODE"
                    ],
                    [
                      "PRISCILLA ROBERTA GASPAR DE OLIVEIRA",
                      "PSC"
                    ],
                    [
                      "RAFAEL BRUXELLAS PARRA",
                      "PT"
                    ],
                    [
                      "RAFAEL DOS ANJOS SILVA",
                      "NOVO"
                    ],
                    [
                      "RAFAEL PACHECO ALQUEZAR",
                      "PSOL"
                    ],
                    [
                      "RALF SANTOS NAURE",
                      "PV"
                    ],
                    [
                      "RAMIRO ALVES DA ROCHA CRUZ JUNIOR",
                      "PL"
                    ],
                    [
                      "RAPHAEL APARECIDO DE OLIVEIRA",
                      "PP"
                    ],
                    [
                      "RAQUEL VIEIRA DOS SANTOS",
                      "UNIÃO"
                    ],
                    [
                      "RAUL CAMPOS NASCIMENTO",
                      "PSOL"
                    ],
                    [
                      "RAUL THAME DE TOLEDO ALMEIDA",
                      "PV"
                    ],
                    [
                      "REGINALDO ARAUJO SENA",
                      "SOLIDARIEDADE"
                    ],
                    [
                      "REGINALDO CAMILO DOS SANTOS",
                      "PT"
                    ],
                    [
                      "REINALDO DE SOUZA ALGUZ",
                      "UNIÃO"
                    ],
                    [
                      "REINALDO FRANCO DE SOUZA",
                      "PT"
                    ],
                    [
                      "REINALDO MONTEIRO DA SILVA",
                      "UNIÃO"
                    ],
                    [
                      "RENAN ELIAS GODINHO",
                      "PODE"
                    ],
                    [
                      "RENATA BANHARA PEIXOTO MARCONDES",
                      "REPUBLICANOS"
                    ],
                    [
                      "RENATA ODETTE DE MELLO",
                      "PODE"
                    ],
                    [
                      "RENATA SIMONETTI ALVES MARCHETTI",
                      "REPUBLICANOS"
                    ],
                    [
                      "RENATO ARAUJO DA CRUZ",
                      "SOLIDARIEDADE"
                    ],
                    [
                      "RENATO CARVALHO DONATO",
                      "PSB"
                    ],
                    [
                      "RENATO RAMOS DE SOUZA",
                      "PSB"
                    ],
                    [
                      "RENATO TADEU DE OLIVEIRA PAIVA",
                      "PSD"
                    ],
                    [
                      "RENATO TAROCO",
                      "REPUBLICANOS"
                    ],
                    [
                      "RIBAMAR ANTONIO DA SILVA",
                      "PSD"
                    ],
                    [
                      "RICARDO BRUNO MELENCHON",
                      "PV"
                    ],
                    [
                      "RICARDO DA CRUZ FERNANDES",
                      "PL"
                    ],
                    [
                      "RICARDO DA SILVA SAIBRO",
                      "UNIÃO"
                    ],
                    [
                      "RICARDO DE CAMPOS RAMOS",
                      "NOVO"
                    ],
                    [
                      "RICARDO HOLZ VIDAL DOS SANTOS",
                      "PODE"
                    ],
                    [
                      "RICARDO JORGE MUTRAN",
                      "PP"
                    ],
                    [
                      "RICARDO KANAAN MARIANO DE ALMEIDA",
                      "MDB"
                    ],
                    [
                      "RICARDO LIMA BRAGA SANTISTEVAN",
                      "PODE"
                    ],
                    [
                      "RICARDO MITSUO NAKAGAWA",
                      "PSD"
                    ],
                    [
                      "RICARDO MURILO COGHI",
                      "UNIÃO"
                    ],
                    [
                      "RICARDO URIZZI CARVALHO",
                      "PSOL"
                    ],
                    [
                      "RICARDO YOSHIO",
                      "SOLIDARIEDADE"
                    ],
                    [
                      "RITA DE CASSIA BORGES DOS SANTOS GUEDES",
                      "PL"
                    ],
                    [
                      "RITA DE CASSIA TRINCA PASSOS",
                      "REPUBLICANOS"
                    ],
                    [
                      "RIVANDA OLIVEIRA RIELI",
                      "PSB"
                    ],
                    [
                      "ROBERTO ALVES DE LUCENA",
                      "REPUBLICANOS"
                    ],
                    [
                      "ROBERTO CACCIARI FILHO",
                      "PL"
                    ],
                    [
                      "ROBERTO MARTINS FIGUEIREDO",
                      "MDB"
                    ],
                    [
                      "ROBERTO MOREIRA DE SOUZA",
                      "CIDADANIA"
                    ],
                    [
                      "ROBERTO NOVAES REIS",
                      "PSB"
                    ],
                    [
                      "ROBERTO PIRES",
                      "REPUBLICANOS"
                    ],
                    [
                      "ROBERTO RUFCA DE OLIVEIRA",
                      "MDB"
                    ],
                    [
                      "ROBSON JOSE DOS SANTOS",
                      "SOLIDARIEDADE"
                    ],
                    [
                      "ROBSON SILVÉRIO DA SILVA",
                      "PSOL"
                    ],
                    [
                      "RODNEY VICENTE DE SOUZA",
                      "MDB"
                    ],
                    [
                      "RODOLFO FRANCISCO DE SOUZA",
                      "PSC"
                    ],
                    [
                      "RODRIGO ADRIANO DA SILVA",
                      "UNIÃO"
                    ],
                    [
                      "RODRIGO ANDRADE BENUZZI DA LUZ",
                      "NOVO"
                    ],
                    [
                      "RODRIGO ANTONIO DE AGOSTINHO MENDONÇA",
                      "PSB"
                    ],
                    [
                      "RODRIGO MEIRA BRITO",
                      "UNIÃO"
                    ],
                    [
                      "RODRIGO TAVANO",
                      "NOVO"
                    ],
                    [
                      "RODRIGUES MARQUES DE FIGUEIREDO",
                      "PSC"
                    ],
                    [
                      "ROGE BAUDICHON",
                      "PP"
                    ],
                    [
                      "ROGER LIN",
                      "PODE"
                    ],
                    [
                      "ROGERIA MARIA DE FREITAS",
                      "PP"
                    ],
                    [
                      "ROGERIO XAVIER FRANÇA",
                      "PSC"
                    ],
                    [
                      "RONAN ALOISIO GOULART",
                      "SOLIDARIEDADE"
                    ],
                    [
                      "ROSA ALVES CARDOSO",
                      "PODE"
                    ],
                    [
                      "ROSA ENEIDE DOS SANTOS ABLAS",
                      "PODE"
                    ],
                    [
                      "ROSALINA SONIA DOS SANTOS",
                      "PL"
                    ],
                    [
                      "ROSEMEIRE MARQUES RIBEIRO ARCHANGELO",
                      "PSOL"
                    ],
                    [
                      "ROSENILDA APARECIDA DA SILVA CRUZ",
                      "PSB"
                    ],
                    [
                      "ROSILAINE APARECIDA DOS SANTOS BRANDÃO",
                      "PL"
                    ],
                    [
                      "ROSSIELI SOARES DA SILVA",
                      "PSDB"
                    ],
                    [
                      "ROSÂNGELA SILVA DOS SANTOS",
                      "PT"
                    ],
                    [
                      "RUI CARLOS VINCENZI",
                      "MDB"
                    ],
                    [
                      "SAMIRA SILOTI",
                      "PL"
                    ],
                    [
                      "SAMUEL DE OLIVEIRA BARBOSA",
                      "PP"
                    ],
                    [
                      "SAMUEL MOREIRA DA SILVA JUNIOR",
                      "PSDB"
                    ],
                    [
                      "SAMUEL PAES",
                      "PP"
                    ],
                    [
                      "SAMUEL VITOR PEREIRA BERNARDI",
                      "PP"
                    ],
                    [
                      "SANDRA APARECIDA MADEU IDA",
                      "PT"
                    ],
                    [
                      "SANDRA CAMARINHO DE MACEDO",
                      "NOVO"
                    ],
                    [
                      "SANDRA CRISTINA DOS SANTOS SOARES",
                      "PSB"
                    ],
                    [
                      "SANDRA REGINA CARBONE TADEU MUDALEN",
                      "UNIÃO"
                    ],
                    [
                      "SARA JANE RONCOLATO ZANETTI",
                      "REDE"
                    ],
                    [
                      "SAULO PEDROSO DE SOUZA",
                      "PSD"
                    ],
                    [
                      "SERGIO NASCIMENTO DE CAMARGO",
                      "PL"
                    ],
                    [
                      "SERGIO RICARDO RIBEIRO DE OLIVEIRA",
                      "PODE"
                    ],
                    [
                      "SEVERINO FRANCISCO DA COSTA",
                      "PSB"
                    ],
                    [
                      "SIDNEY CARVALHO ELIAS",
                      "NOVO"
                    ],
                    [
                      "SIDNEY LUIZ DA CRUZ",
                      "SOLIDARIEDADE"
                    ],
                    [
                      "SILVIA SAMPAIO SALES SANTOS",
                      "PSDB"
                    ],
                    [
                      "SILVIO EDUARDO CONEGLIAM PECCIOLI",
                      "PSD"
                    ],
                    [
                      "SILÉA BENEDETTI DE MACEDO PEDROSO",
                      "SOLIDARIEDADE"
                    ],
                    [
                      "SIMONE LOPES BETINI",
                      "PP"
                    ],
                    [
                      "SIMONY CRISTINA TEIXEIRA DOS ANJOS",
                      "PSOL"
                    ],
                    [
                      "SIRLEI SIKORSKI",
                      "REPUBLICANOS"
                    ],
                    [
                      "SONIA MARIA DELFINO",
                      "PSDB"
                    ],
                    [
                      "SUELEN DE SOUZA LAZARINI",
                      "NOVO"
                    ],
                    [
                      "SUELI ALVES",
                      "PSOL"
                    ],
                    [
                      "SUELY APARECIDA ANTONIO",
                      "MDB"
                    ],
                    [
                      "SUSANA LAMBERT DE BRITO SILVA",
                      "PSD"
                    ],
                    [
                      "SUSANNA DO VAL MOORE",
                      "PSD"
                    ],
                    [
                      "SYMMY LARRAT BRITO DE CARVALHO",
                      "PT"
                    ],
                    [
                      "SÉRGIO DA SILVA GRILLO",
                      "REDE"
                    ],
                    [
                      "TAKAHARU YAMAUCHI",
                      "MDB"
                    ],
                    [
                      "TALMA CRISTINA NONAKA",
                      "PSD"
                    ],
                    [
                      "TAMIRES GOMES SAMPAIO",
                      "PT"
                    ],
                    [
                      "TANDARA ALVES CAIXETA",
                      "MDB"
                    ],
                    [
                      "TANIA CRISTINA MARTINS SILVA",
                      "SOLIDARIEDADE"
                    ],
                    [
                      "TANIA MARA DA CRUZ TONET",
                      "REPUBLICANOS"
                    ],
                    [
                      "TARYK AL JAMAHIRIYA AGIO",
                      "SOLIDARIEDADE"
                    ],
                    [
                      "TATIANA LIMA SCHIMIGUEL",
                      "SOLIDARIEDADE"
                    ],
                    [
                      "TEREZINHA MARIA DOS SANTOS",
                      "PSB"
                    ],
                    [
                      "THALIA SILVA DE FARIA",
                      "PP"
                    ],
                    [
                      "THIAGO BONFIM DE OLIVEIRA",
                      "NOVO"
                    ],
                    [
                      "THIAGO DE AZEVEDO LOPES FONSECA",
                      "PSD"
                    ],
                    [
                      "THIAGO HENRIQUE DA SILVA DORIGAN",
                      "PSC"
                    ],
                    [
                      "THIAGO IMBERNOM",
                      "NOVO"
                    ],
                    [
                      "TIAGO RAMOS DE CAMPOS",
                      "PP"
                    ],
                    [
                      "TONY VINICIUS DE OLIVEIRA",
                      "NOVO"
                    ],
                    [
                      "UBIRATAN ALAN DE CARVALHO",
                      "SOLIDARIEDADE"
                    ],
                    [
                      "VAGNER JOSE DOS SANTOS",
                      "REPUBLICANOS"
                    ],
                    [
                      "VALDECI ANTONIO DE PROENÇA",
                      "PODE"
                    ],
                    [
                      "VALDETE GOMES DUTRA PEREIRA",
                      "PODE"
                    ],
                    [
                      "VALDINEI MARCELINO LIMA",
                      "PSD"
                    ],
                    [
                      "VALDOMIRO SUTERIO",
                      "SOLIDARIEDADE"
                    ],
                    [
                      "VALTER SANTIAGO",
                      "PSC"
                    ],
                    [
                      "VALÉRIA MEIRELLES MONTEIRO",
                      "PSD"
                    ],
                    [
                      "VANDERCI EDUARDO PEREIRA",
                      "PSC"
                    ],
                    [
                      "VANDERLEI MACRIS",
                      "PSDB"
                    ],
                    [
                      "VANESSA CRISTINA DE ROSSI",
                      "PSB"
                    ],
                    [
                      "VANESSA FERREIRA GOMES",
                      "PL"
                    ],
                    [
                      "VANESSSA FERREIRA MARCELO LAURINDO",
                      "PSB"
                    ],
                    [
                      "VANIA DA PAIXÃO LANA ONWUDIWE",
                      "REPUBLICANOS"
                    ],
                    [
                      "VERA LUCIA GOMES FERREIRA PALMEZANO",
                      "PSDB"
                    ],
                    [
                      "VICENTE PAULO DA SILVA",
                      "PT"
                    ],
                    [
                      "VINICIUS MANGABEIRA CARINI",
                      "NOVO"
                    ],
                    [
                      "VINICIUS MARCHESE MARINELLI",
                      "PSD"
                    ],
                    [
                      "VINICIUS SAUDINO DE MORAES",
                      "PSD"
                    ],
                    [
                      "VINICIUS TADEU SATTIN RODRIGUES",
                      "PL"
                    ],
                    [
                      "VITOR NARESSI NETTO",
                      "UNIÃO"
                    ],
                    [
                      "VIVIANE SOARES DE OLIVEIRA ALVES",
                      "UNIÃO"
                    ],
                    [
                      "VLADIMIR FRANCISCHINELLI ARRUDA LEITE",
                      "NOVO"
                    ],
                    [
                      "VLADIMIR PINHEIRO SAFATLE",
                      "PSOL"
                    ],
                    [
                      "WAGNER OCIMAR BALIEIRO",
                      "PT"
                    ],
                    [
                      "WAGNER RUBINELLI",
                      "PSB"
                    ],
                    [
                      "WALLACE COSTA LANDIM",
                      "PSD"
                    ],
                    [
                      "WALTECY ALVES DOS SANTOS",
                      "PSOL"
                    ],
                    [
                      "WALTER FERNANDES DA SILVA",
                      "NOVO"
                    ],
                    [
                      "WALTER JOSÉ DA SILVA",
                      "PODE"
                    ],
                    [
                      "WALTER JOSÉ DOS SANTOS",
                      "PSB"
                    ],
                    [
                      "WALTER SHINDI IIHOSHI",
                      "PSD"
                    ],
                    [
                      "WALTER VICIONI GONÇALVES",
                      "MDB"
                    ],
                    [
                      "WANESSA SOUSA BOMFIM",
                      "PODE"
                    ],
                    [
                      "WASHINGTON DA SILVA SANTOS",
                      "PSC"
                    ],
                    [
                      "WESLEY CASA FORTE MARIANO",
                      "PSB"
                    ],
                    [
                      "WESLEY RENATO DE OLIVEIRA SOUZA",
                      "PL"
                    ],
                    [
                      "WILLIAM SILVA DAS MERCES",
                      "PSB"
                    ],
                    [
                      "WILSON LIMA DA SILVA",
                      "PSB"
                    ],
                    [
                      "YAN LOPES DE ALMEIDA",
                      "PSC"
                    ],
                    [
                      "ZULEICA MADALENA SANTORO",
                      "PODE"
                    ]
                  ],
                  "hovertemplate": "Situação totalização=Suplente<br>Valor de receita=%{x}<br>Votos nominais=%{y}<br>Nome candidato=%{customdata[0]}<br>Partido=%{customdata[1]}<extra></extra>",
                  "legendgroup": "Suplente",
                  "marker": {
                    "color": "#EF553B",
                    "symbol": "circle"
                  },
                  "mode": "markers",
                  "name": "Suplente",
                  "showlegend": true,
                  "type": "scattergl",
                  "x": [
                    319900,
                    4741.53,
                    333923.2,
                    119000.12,
                    40000,
                    75000,
                    3003431.42,
                    41663.2,
                    4125.63,
                    10000,
                    3200,
                    416256.41000000003,
                    51590.9,
                    473362,
                    2655938.23,
                    300,
                    29560.77,
                    10000,
                    174353.78999999998,
                    10800,
                    1956,
                    20870,
                    100000,
                    30000,
                    1741.53,
                    70326.41,
                    210256.41,
                    165345,
                    110000,
                    348474.53,
                    785882.27,
                    13590.9,
                    10000,
                    11590.9,
                    33200,
                    405521.15,
                    2891.5299999999997,
                    1066803.5,
                    82761.31,
                    138590.9,
                    1807512.79,
                    198999.96,
                    285920.56,
                    167587.74,
                    58960.56,
                    47796.36,
                    77620,
                    1314590.9,
                    3361.5299999999997,
                    35000,
                    835050,
                    35000,
                    220172.19,
                    330973.97,
                    70600,
                    50920.56,
                    20000,
                    273935.41000000003,
                    354824.9,
                    69960.56,
                    275230.85000000003,
                    25613.53,
                    7796.36,
                    13150,
                    2342974.5300000003,
                    100000,
                    59718.4,
                    10000,
                    150786.85,
                    92965.14,
                    152465,
                    666524.24,
                    313075.12,
                    315859.63,
                    305849.37,
                    722954.75,
                    71822,
                    71758.4,
                    1880102.94,
                    121335,
                    55000,
                    223628.1,
                    86769.01000000001,
                    1509713.2,
                    305406,
                    29000,
                    1241.53,
                    150256.41,
                    1367573.71,
                    60000,
                    30000,
                    163000,
                    483250.64,
                    41490,
                    119790,
                    102061,
                    47796.36,
                    50000,
                    964882.27,
                    39933.38,
                    186827.89,
                    3241.5299999999997,
                    5641.53,
                    113590.9,
                    11590.9,
                    100761.31,
                    2051.5299999999997,
                    50296.36,
                    156685,
                    1461851.48,
                    320271.41000000003,
                    91826.2,
                    15000,
                    16000,
                    120000,
                    112761.48,
                    200758.4,
                    22000,
                    38975.759999999995,
                    103200,
                    25500,
                    111659,
                    60256.41,
                    47796.36,
                    171360,
                    1007500,
                    30785.559999999998,
                    5507.08,
                    2455509.3,
                    30000,
                    663458.86,
                    37107.8,
                    170000,
                    1371901.91,
                    480645.07,
                    50000,
                    158706.41,
                    194087.13,
                    13170,
                    598885.88,
                    1767356.33,
                    91185,
                    61910,
                    82761.31,
                    203361.31,
                    366590.9,
                    3911.5299999999997,
                    4491.53,
                    1109758.4,
                    755190.63,
                    100200,
                    264879.7,
                    212740.63,
                    107500,
                    2826610.6799999997,
                    32790,
                    568810.37,
                    87796.36,
                    313856.41,
                    1292500,
                    51431.42,
                    50000,
                    339591.12,
                    100000,
                    1747983.33,
                    2528150.79,
                    716766,
                    706563.9199999999,
                    100788,
                    1241.53,
                    29116.67,
                    62564.85,
                    497029.48,
                    50000,
                    95761.31,
                    16800,
                    120395.5,
                    303811,
                    253342.53,
                    34026.25,
                    61370.56,
                    53212,
                    25000,
                    1091500,
                    71148.4,
                    272025.55000000005,
                    863249.6,
                    1148862.54,
                    1968455.4,
                    218374.53,
                    174258.4,
                    55000,
                    106788,
                    30000,
                    298976.5,
                    80000,
                    40256.41,
                    20000,
                    59933.54,
                    110256.41,
                    20000,
                    2513831.3,
                    408074.53,
                    46420,
                    106086.95999999999,
                    171986.41,
                    113700,
                    41720,
                    918432.06,
                    262000,
                    50000,
                    66590.9,
                    40614,
                    83088.15,
                    596559.82,
                    2542750,
                    98777,
                    2647846.8,
                    200100.85,
                    103048.4,
                    122770.56,
                    47796.36,
                    122167.66,
                    202800,
                    314849.53,
                    47796.36,
                    1257756.72,
                    47796.36,
                    45000,
                    184820.74000000002,
                    5931.53,
                    253232.78,
                    81637.5,
                    87590,
                    42492.9,
                    73575,
                    225000,
                    1216600,
                    19492.53,
                    132221,
                    400000,
                    62524,
                    76256.41,
                    67841.08,
                    1360971.48,
                    339000,
                    83758.4,
                    2905074.52,
                    66660,
                    687715.6,
                    217492.7,
                    242850,
                    51555,
                    1119500,
                    416167.73,
                    1408453.05,
                    444706.41000000003,
                    117557.33,
                    21185.77,
                    186863.53,
                    333761.31,
                    389095.33,
                    100000,
                    520475.97,
                    723803.6799999999,
                    180960,
                    237240.63,
                    2996590.9,
                    1778501.58,
                    30000,
                    26671.48,
                    47796.36,
                    31711.48,
                    47270,
                    79484.69,
                    443908.9,
                    209382,
                    125000,
                    1566037.03,
                    10000,
                    293230,
                    55900,
                    61365,
                    643050,
                    1198682.36,
                    81590.9,
                    13745.15,
                    1827834.85,
                    33290.9,
                    10391.54,
                    718800,
                    532800,
                    1541100,
                    221868.4,
                    64474,
                    75811.84,
                    1801800,
                    714235,
                    50000,
                    100602.36,
                    36000,
                    5679.53,
                    1551820.48,
                    81049.65,
                    50000,
                    773964.85,
                    60256.41,
                    1000000,
                    75761.31,
                    275757.44,
                    33205,
                    2423153.83,
                    92796.36,
                    136500,
                    678190.9,
                    200000,
                    2042105.1,
                    44990.49,
                    57761.31,
                    26648,
                    10000,
                    108685,
                    1396800,
                    66511.48,
                    27516.09,
                    373709.67,
                    1851.53,
                    622827.27,
                    35333.68,
                    47796.36,
                    325622.35,
                    14195.24,
                    15470,
                    154500,
                    3221072.53,
                    111544.8,
                    40000,
                    560000,
                    76290.98,
                    107868.4,
                    11256.41,
                    634369,
                    1811.53,
                    2589840.5300000003,
                    41868.4,
                    10000,
                    65540,
                    81868.4,
                    704172.27,
                    61090,
                    150000,
                    150000,
                    13350,
                    1228952.23,
                    1370213.88,
                    2014833.3599999999,
                    65333.79,
                    20000,
                    312000,
                    256250,
                    350000,
                    20000,
                    14113.2,
                    25008.56,
                    92187,
                    1728033.36,
                    50000,
                    3175000,
                    111590.9,
                    76065,
                    2734345.14,
                    373938,
                    20000,
                    902231.26,
                    20000,
                    11590.9,
                    10000,
                    170115,
                    10000,
                    170000,
                    47796.36,
                    100000,
                    92261.48,
                    316540,
                    110256.41,
                    236188.04,
                    20000,
                    2621292.19,
                    600439.1,
                    74498.15,
                    66440.1,
                    97838.15,
                    30000,
                    847811,
                    35000,
                    3600,
                    54865,
                    302800,
                    106484,
                    30000,
                    1089316.15,
                    27355.53,
                    509022.27,
                    1694698.4,
                    1416496.17,
                    385186,
                    55555,
                    57761.31,
                    20525,
                    60868.4,
                    154383,
                    113021.48,
                    506280.25,
                    11575.15,
                    191681.77000000002,
                    70868.4,
                    2088000,
                    62452.770000000004,
                    106000,
                    103271.59999999999,
                    359223.75,
                    244580.19999999998,
                    341130.8,
                    100000,
                    320000,
                    118730,
                    580573.97,
                    372828.7,
                    2295,
                    83596.36,
                    32694.66,
                    176862.79,
                    35000,
                    50000,
                    378511.88,
                    47796.36,
                    22690,
                    32000,
                    546434.77,
                    47796.36,
                    15000,
                    80256.41,
                    100000,
                    25000,
                    150874.4,
                    2742227.09,
                    144700,
                    8422,
                    77608.70999999999,
                    39582.9,
                    20000,
                    158000,
                    52000,
                    102500,
                    575035.13,
                    30000,
                    1241.53,
                    2001975,
                    561758.46,
                    413954.19,
                    86590.9,
                    50750.75,
                    100000,
                    14280,
                    116665.37,
                    536999.53,
                    538649.1,
                    116590.9,
                    190347.79,
                    86500,
                    210256.41,
                    428074.53,
                    310350,
                    30000,
                    101011,
                    15000,
                    190347.79,
                    35000,
                    2514890,
                    47260.56,
                    135600,
                    35000,
                    175545,
                    74640,
                    2120010.06,
                    2148521.48,
                    320680.68,
                    2113.5299999999997,
                    16590.9,
                    1706559.44,
                    16920,
                    15600,
                    7525.53,
                    610120,
                    91931.42,
                    66671.48,
                    103831.42,
                    7191,
                    63164.479999999996,
                    451870.63,
                    51431.42,
                    115868.4,
                    87978.4,
                    675007.27,
                    100000,
                    1948479.56,
                    464122.45,
                    780571.66,
                    212300,
                    146286.85,
                    1160526.51,
                    41868.5,
                    98081.2,
                    1551808.03,
                    100761.31,
                    47796.36,
                    614114.53,
                    2511074.5300000003,
                    1598968.32,
                    50000,
                    47796.36,
                    119684,
                    47796.36,
                    35000,
                    26148.4,
                    107800,
                    57796.36,
                    769108.38,
                    14720.45,
                    157120.75,
                    241400,
                    128500,
                    30926.42,
                    200000,
                    128000,
                    2361600,
                    690213.3899999999,
                    3641.5299999999997,
                    92128,
                    524198.63,
                    1916278.0699999998,
                    33777.45,
                    11011.53,
                    200000,
                    406895,
                    353100,
                    2574531.4,
                    47300,
                    339604.85,
                    90501.53,
                    8047.53,
                    26766,
                    1401717.87,
                    27655,
                    2691500,
                    90000,
                    50000,
                    160602,
                    381980.21,
                    4435.86,
                    154302.9,
                    411900,
                    150973.97,
                    111011,
                    382534.53,
                    166197.74000000002,
                    130074,
                    113385.47,
                    161275.47999999998,
                    2225074.5300000003,
                    54202.78999999999,
                    208723.58000000002,
                    236800,
                    518375,
                    50000,
                    62530,
                    125718.4,
                    125086.95999999999,
                    141000,
                    41006.41,
                    109865,
                    1583908.92,
                    64674,
                    56576.3,
                    210877.53,
                    2812.33,
                    85317.75,
                    119000,
                    50200,
                    200000,
                    432686.81,
                    564477.58,
                    23185.67,
                    270744.4,
                    89933.38,
                    2517573.2,
                    675,
                    1954850,
                    387849,
                    400000,
                    11590.9,
                    47796.36,
                    286839.05,
                    180450,
                    214045.88,
                    21185.77,
                    300100,
                    63000,
                    212827.27,
                    2871.5299999999997,
                    2621086.96,
                    656311.15,
                    69461.53,
                    132455,
                    14900,
                    230000,
                    50000,
                    10035,
                    37758.4,
                    120000,
                    116784.5,
                    109933.38,
                    13353.91,
                    57761.31,
                    97311.24,
                    2123448,
                    1409268.43,
                    30000,
                    87768.02,
                    1400,
                    2226866.27,
                    31139.1,
                    49406.31,
                    94315.65,
                    5891.53,
                    100761.31,
                    2840671.56,
                    25600,
                    1251056.41,
                    516340.63,
                    160000,
                    47796.36,
                    5241.63,
                    1275494.4,
                    36590.9,
                    93186.41,
                    72787.23,
                    235715,
                    191448.71000000002,
                    60000,
                    161590.9,
                    1326.53,
                    22094.28,
                    20000,
                    70426.41,
                    681084.41,
                    1132709.72,
                    19200,
                    646513.11,
                    40256.41,
                    1540866.48,
                    401099.01,
                    33787.229999999996,
                    106365,
                    33791.229999999996,
                    53787.229999999996,
                    315261.31,
                    126416,
                    9327.529999999999,
                    426816.41,
                    25000,
                    18076.53,
                    13000,
                    2851.5299999999997,
                    90288.4,
                    44268.2,
                    247150,
                    100000,
                    60947.41,
                    130196.74,
                    10000,
                    93256.41,
                    80000,
                    3096833.36,
                    575247.5,
                    89933.38,
                    82751.31,
                    57446,
                    16590.9,
                    2339990.83,
                    2391.5299999999997,
                    2526248.75,
                    105156.73,
                    321066.41000000003,
                    260074.53,
                    221419.85,
                    8381.94,
                    279750.74,
                    590877.29,
                    463096.95999999996,
                    500256.41,
                    241869.64,
                    63936.53,
                    249465,
                    65716.5,
                    1775961.8,
                    543000,
                    310650,
                    10000,
                    427346.36,
                    505410.63,
                    47796.36,
                    47796.36,
                    88722.6,
                    100669
                  ],
                  "xaxis": "x",
                  "y": [
                    3162,
                    2597,
                    1516,
                    12789,
                    634,
                    4502,
                    62445,
                    143,
                    1429,
                    380,
                    882,
                    11074,
                    4439,
                    9624,
                    59959,
                    1371,
                    1646,
                    186,
                    797,
                    731,
                    895,
                    2445,
                    1377,
                    1842,
                    793,
                    2275,
                    8626,
                    6061,
                    1192,
                    1759,
                    1619,
                    955,
                    987,
                    266,
                    487,
                    1242,
                    704,
                    20963,
                    774,
                    5716,
                    97063,
                    484,
                    3685,
                    1704,
                    1934,
                    1066,
                    839,
                    5722,
                    748,
                    877,
                    7646,
                    445,
                    4218,
                    17193,
                    2041,
                    246,
                    1431,
                    11916,
                    5976,
                    502,
                    16047,
                    1143,
                    602,
                    6274,
                    42365,
                    1571,
                    561,
                    308,
                    2609,
                    2346,
                    2748,
                    23067,
                    4885,
                    9841,
                    5860,
                    10994,
                    6600,
                    280,
                    42954,
                    2385,
                    234,
                    789,
                    9651,
                    92566,
                    3380,
                    232,
                    763,
                    2998,
                    10386,
                    2155,
                    263,
                    1304,
                    37969,
                    1114,
                    3046,
                    1086,
                    1742,
                    1085,
                    4258,
                    1914,
                    9129,
                    878,
                    622,
                    5553,
                    2915,
                    473,
                    534,
                    7181,
                    4897,
                    23943,
                    3666,
                    2073,
                    98,
                    191,
                    4591,
                    8785,
                    6527,
                    495,
                    1486,
                    1906,
                    5119,
                    1029,
                    2806,
                    705,
                    4962,
                    35542,
                    248,
                    641,
                    10312,
                    359,
                    2830,
                    1498,
                    2037,
                    43460,
                    11417,
                    1427,
                    1910,
                    2844,
                    1322,
                    4120,
                    38090,
                    1607,
                    2381,
                    1511,
                    1247,
                    944,
                    279,
                    1526,
                    23943,
                    46745,
                    4730,
                    18781,
                    3331,
                    4541,
                    4992,
                    746,
                    11304,
                    11936,
                    5355,
                    75082,
                    12205,
                    395,
                    3560,
                    666,
                    76149,
                    50391,
                    24549,
                    41359,
                    1571,
                    170,
                    5124,
                    7234,
                    1608,
                    1218,
                    132,
                    421,
                    1767,
                    14841,
                    7775,
                    3634,
                    571,
                    850,
                    696,
                    17317,
                    1195,
                    10885,
                    8822,
                    8869,
                    92225,
                    637,
                    3209,
                    616,
                    1562,
                    189,
                    3185,
                    523,
                    100,
                    627,
                    764,
                    1180,
                    444,
                    93305,
                    5967,
                    5789,
                    1223,
                    50875,
                    2357,
                    1413,
                    18200,
                    31017,
                    806,
                    875,
                    718,
                    3757,
                    3793,
                    77949,
                    14219,
                    5099,
                    1092,
                    540,
                    801,
                    257,
                    7036,
                    10894,
                    2849,
                    5656,
                    14786,
                    312,
                    1239,
                    8352,
                    570,
                    2655,
                    1912,
                    1257,
                    5792,
                    1173,
                    5425,
                    31352,
                    1842,
                    951,
                    6288,
                    2605,
                    202,
                    1974,
                    24566,
                    8338,
                    1805,
                    40346,
                    4595,
                    38118,
                    30364,
                    16583,
                    217,
                    9198,
                    1511,
                    29841,
                    31657,
                    4673,
                    56,
                    813,
                    665,
                    10588,
                    8524,
                    13147,
                    5861,
                    4845,
                    3628,
                    79041,
                    46974,
                    1025,
                    4775,
                    538,
                    11366,
                    4018,
                    2693,
                    8022,
                    11986,
                    319,
                    13430,
                    3684,
                    16664,
                    3540,
                    4318,
                    7637,
                    43757,
                    1245,
                    2614,
                    44125,
                    634,
                    641,
                    18711,
                    13415,
                    98720,
                    2482,
                    182,
                    6849,
                    47056,
                    8924,
                    4407,
                    4997,
                    512,
                    1398,
                    45136,
                    2684,
                    235,
                    1785,
                    363,
                    16626,
                    867,
                    14371,
                    409,
                    31092,
                    1329,
                    42470,
                    3653,
                    2166,
                    44424,
                    1728,
                    148,
                    392,
                    411,
                    1171,
                    10355,
                    4235,
                    1959,
                    248,
                    292,
                    606,
                    5983,
                    177,
                    1123,
                    210,
                    340,
                    1856,
                    13679,
                    4187,
                    245,
                    6952,
                    3744,
                    470,
                    418,
                    8504,
                    748,
                    23224,
                    470,
                    137,
                    3000,
                    924,
                    2350,
                    1238,
                    5202,
                    475,
                    2438,
                    37645,
                    42813,
                    7692,
                    2227,
                    313,
                    6051,
                    54849,
                    1749,
                    328,
                    619,
                    2416,
                    1685,
                    50014,
                    3744,
                    88926,
                    682,
                    271,
                    80085,
                    14106,
                    977,
                    39603,
                    564,
                    825,
                    519,
                    4047,
                    107,
                    2476,
                    116,
                    408,
                    4146,
                    1158,
                    1499,
                    20725,
                    269,
                    60330,
                    8321,
                    3919,
                    822,
                    3691,
                    880,
                    4069,
                    257,
                    2015,
                    407,
                    16678,
                    407,
                    386,
                    2936,
                    2943,
                    8193,
                    29703,
                    3240,
                    40881,
                    333,
                    3378,
                    4272,
                    304,
                    5288,
                    2432,
                    49131,
                    961,
                    1744,
                    953,
                    8931,
                    7036,
                    3626,
                    554,
                    8498,
                    1774,
                    30921,
                    703,
                    3093,
                    6818,
                    22698,
                    1102,
                    1018,
                    6270,
                    209,
                    2045,
                    362,
                    1352,
                    6778,
                    477,
                    4304,
                    2564,
                    3235,
                    977,
                    2197,
                    1217,
                    2610,
                    450,
                    23324,
                    58419,
                    3665,
                    2225,
                    5734,
                    8993,
                    1040,
                    1945,
                    1012,
                    2314,
                    61546,
                    422,
                    561,
                    95745,
                    13502,
                    10014,
                    2248,
                    3728,
                    7103,
                    797,
                    4864,
                    818,
                    3996,
                    1607,
                    872,
                    718,
                    1279,
                    358,
                    6940,
                    221,
                    342,
                    162,
                    1244,
                    197,
                    24291,
                    302,
                    1398,
                    291,
                    856,
                    420,
                    8905,
                    22464,
                    2542,
                    110,
                    353,
                    50073,
                    239,
                    459,
                    1121,
                    53845,
                    10996,
                    13839,
                    7254,
                    1335,
                    4928,
                    15166,
                    944,
                    540,
                    743,
                    1530,
                    1303,
                    35440,
                    9149,
                    11655,
                    2659,
                    510,
                    4954,
                    917,
                    3917,
                    21760,
                    1290,
                    216,
                    3155,
                    34545,
                    9636,
                    1301,
                    1755,
                    3354,
                    103,
                    222,
                    3262,
                    16065,
                    2866,
                    54243,
                    4967,
                    6224,
                    3147,
                    502,
                    1852,
                    285,
                    5886,
                    69945,
                    15610,
                    343,
                    5826,
                    8166,
                    64137,
                    2368,
                    723,
                    3539,
                    24790,
                    34005,
                    39013,
                    4075,
                    2204,
                    7873,
                    1151,
                    1072,
                    74729,
                    524,
                    12998,
                    20066,
                    626,
                    4609,
                    17251,
                    467,
                    5446,
                    494,
                    4542,
                    12596,
                    1492,
                    1929,
                    655,
                    1022,
                    8858,
                    62666,
                    3428,
                    1368,
                    3487,
                    2494,
                    288,
                    368,
                    1591,
                    1951,
                    3332,
                    1176,
                    20897,
                    65219,
                    391,
                    2816,
                    2221,
                    791,
                    2177,
                    4187,
                    943,
                    1436,
                    12645,
                    10607,
                    2776,
                    12804,
                    2994,
                    57800,
                    479,
                    69341,
                    19751,
                    4587,
                    1045,
                    383,
                    3364,
                    2541,
                    2899,
                    374,
                    4884,
                    3381,
                    616,
                    255,
                    65506,
                    3674,
                    3975,
                    11556,
                    4728,
                    3825,
                    199,
                    814,
                    2727,
                    115,
                    797,
                    2143,
                    1718,
                    1358,
                    3474,
                    33516,
                    37291,
                    742,
                    946,
                    2004,
                    79633,
                    3180,
                    7262,
                    1271,
                    595,
                    402,
                    26503,
                    255,
                    80186,
                    13085,
                    2108,
                    830,
                    636,
                    21034,
                    684,
                    13164,
                    498,
                    3931,
                    1690,
                    473,
                    3439,
                    309,
                    2000,
                    697,
                    359,
                    2215,
                    5400,
                    464,
                    34163,
                    288,
                    25030,
                    7412,
                    299,
                    1926,
                    261,
                    121,
                    4803,
                    778,
                    291,
                    40477,
                    279,
                    863,
                    1318,
                    536,
                    210,
                    390,
                    4270,
                    866,
                    485,
                    986,
                    370,
                    1225,
                    301,
                    87502,
                    1458,
                    6755,
                    578,
                    787,
                    4799,
                    82912,
                    570,
                    45933,
                    10599,
                    29760,
                    4359,
                    463,
                    1345,
                    17644,
                    49562,
                    18419,
                    1444,
                    1635,
                    1032,
                    749,
                    2376,
                    55027,
                    6186,
                    3120,
                    116,
                    12560,
                    15595,
                    65,
                    645,
                    9112,
                    416
                  ],
                  "yaxis": "y"
                },
                {
                  "hovertemplate": "<b>OLS trendline</b><br>Votos nominais = 0.0204899 * Valor de receita + 1640.97<br>R<sup>2</sup>=0.562939<br><br>Situação totalização=Suplente<br>Valor de receita=%{x}<br>Votos nominais=%{y} <b>(trend)</b><extra></extra>",
                  "legendgroup": "Suplente",
                  "marker": {
                    "color": "#EF553B",
                    "symbol": "circle"
                  },
                  "mode": "lines",
                  "name": "Suplente",
                  "showlegend": false,
                  "type": "scattergl",
                  "x": [
                    300,
                    675,
                    1241.53,
                    1241.53,
                    1241.53,
                    1326.53,
                    1400,
                    1741.53,
                    1811.53,
                    1851.53,
                    1956,
                    2051.5299999999997,
                    2113.5299999999997,
                    2295,
                    2391.5299999999997,
                    2812.33,
                    2851.5299999999997,
                    2871.5299999999997,
                    2891.5299999999997,
                    3200,
                    3241.5299999999997,
                    3361.5299999999997,
                    3600,
                    3641.5299999999997,
                    3911.5299999999997,
                    4125.63,
                    4435.86,
                    4491.53,
                    4741.53,
                    5241.63,
                    5507.08,
                    5641.53,
                    5679.53,
                    5891.53,
                    5931.53,
                    7191,
                    7525.53,
                    7796.36,
                    8047.53,
                    8381.94,
                    8422,
                    9327.529999999999,
                    10000,
                    10000,
                    10000,
                    10000,
                    10000,
                    10000,
                    10000,
                    10000,
                    10000,
                    10000,
                    10000,
                    10035,
                    10391.54,
                    10800,
                    11011.53,
                    11256.41,
                    11575.15,
                    11590.9,
                    11590.9,
                    11590.9,
                    11590.9,
                    13000,
                    13150,
                    13170,
                    13350,
                    13353.91,
                    13590.9,
                    13745.15,
                    14113.2,
                    14195.24,
                    14280,
                    14720.45,
                    14900,
                    15000,
                    15000,
                    15000,
                    15470,
                    15600,
                    16000,
                    16590.9,
                    16590.9,
                    16800,
                    16920,
                    18076.53,
                    19200,
                    19492.53,
                    20000,
                    20000,
                    20000,
                    20000,
                    20000,
                    20000,
                    20000,
                    20000,
                    20000,
                    20000,
                    20525,
                    20870,
                    21185.77,
                    21185.77,
                    22000,
                    22094.28,
                    22690,
                    23185.67,
                    25000,
                    25000,
                    25000,
                    25008.56,
                    25500,
                    25600,
                    25613.53,
                    26148.4,
                    26648,
                    26671.48,
                    26766,
                    27355.53,
                    27516.09,
                    27655,
                    29000,
                    29116.67,
                    29560.77,
                    30000,
                    30000,
                    30000,
                    30000,
                    30000,
                    30000,
                    30000,
                    30000,
                    30000,
                    30000,
                    30785.559999999998,
                    30926.42,
                    31139.1,
                    31711.48,
                    32000,
                    32694.66,
                    32790,
                    33200,
                    33205,
                    33290.9,
                    33777.45,
                    33787.229999999996,
                    33791.229999999996,
                    34026.25,
                    35000,
                    35000,
                    35000,
                    35000,
                    35000,
                    35000,
                    35000,
                    35333.68,
                    36000,
                    36590.9,
                    37107.8,
                    37758.4,
                    38975.759999999995,
                    39582.9,
                    39933.38,
                    40000,
                    40000,
                    40256.41,
                    40256.41,
                    40614,
                    41006.41,
                    41490,
                    41663.2,
                    41720,
                    41868.4,
                    41868.5,
                    42492.9,
                    44268.2,
                    44990.49,
                    45000,
                    46420,
                    47260.56,
                    47270,
                    47300,
                    47796.36,
                    47796.36,
                    47796.36,
                    47796.36,
                    47796.36,
                    47796.36,
                    47796.36,
                    47796.36,
                    47796.36,
                    47796.36,
                    47796.36,
                    47796.36,
                    47796.36,
                    47796.36,
                    47796.36,
                    47796.36,
                    47796.36,
                    47796.36,
                    49406.31,
                    50000,
                    50000,
                    50000,
                    50000,
                    50000,
                    50000,
                    50000,
                    50000,
                    50000,
                    50000,
                    50000,
                    50000,
                    50000,
                    50200,
                    50296.36,
                    50750.75,
                    50920.56,
                    51431.42,
                    51431.42,
                    51555,
                    51590.9,
                    52000,
                    53212,
                    53787.229999999996,
                    54202.78999999999,
                    54865,
                    55000,
                    55000,
                    55555,
                    55900,
                    56576.3,
                    57446,
                    57761.31,
                    57761.31,
                    57761.31,
                    57796.36,
                    58960.56,
                    59718.4,
                    59933.54,
                    60000,
                    60000,
                    60256.41,
                    60256.41,
                    60868.4,
                    60947.41,
                    61090,
                    61365,
                    61370.56,
                    61910,
                    62452.770000000004,
                    62524,
                    62530,
                    62564.85,
                    63000,
                    63164.479999999996,
                    63936.53,
                    64474,
                    64674,
                    65333.79,
                    65540,
                    65716.5,
                    66440.1,
                    66511.48,
                    66590.9,
                    66660,
                    66671.48,
                    67841.08,
                    69461.53,
                    69960.56,
                    70326.41,
                    70426.41,
                    70600,
                    70868.4,
                    71148.4,
                    71758.4,
                    71822,
                    72787.23,
                    73575,
                    74498.15,
                    74640,
                    75000,
                    75761.31,
                    75811.84,
                    76065,
                    76256.41,
                    76290.98,
                    77608.70999999999,
                    77620,
                    79484.69,
                    80000,
                    80000,
                    80256.41,
                    81049.65,
                    81590.9,
                    81637.5,
                    81868.4,
                    82751.31,
                    82761.31,
                    82761.31,
                    83088.15,
                    83596.36,
                    83758.4,
                    85317.75,
                    86500,
                    86590.9,
                    86769.01000000001,
                    87590,
                    87768.02,
                    87796.36,
                    87978.4,
                    88722.6,
                    89933.38,
                    89933.38,
                    90000,
                    90288.4,
                    90501.53,
                    91185,
                    91826.2,
                    91931.42,
                    92128,
                    92187,
                    92261.48,
                    92796.36,
                    92965.14,
                    93186.41,
                    93256.41,
                    94315.65,
                    95761.31,
                    97311.24,
                    97838.15,
                    98081.2,
                    98777,
                    100000,
                    100000,
                    100000,
                    100000,
                    100000,
                    100000,
                    100000,
                    100000,
                    100000,
                    100000,
                    100200,
                    100602.36,
                    100669,
                    100761.31,
                    100761.31,
                    100761.31,
                    100788,
                    101011,
                    102061,
                    102500,
                    103048.4,
                    103200,
                    103271.59999999999,
                    103831.42,
                    105156.73,
                    106000,
                    106086.95999999999,
                    106365,
                    106484,
                    106788,
                    107500,
                    107800,
                    107868.4,
                    108685,
                    109865,
                    109933.38,
                    110000,
                    110256.41,
                    110256.41,
                    111011,
                    111544.8,
                    111590.9,
                    111659,
                    112761.48,
                    113021.48,
                    113385.47,
                    113590.9,
                    113700,
                    115868.4,
                    116590.9,
                    116665.37,
                    116784.5,
                    117557.33,
                    118730,
                    119000,
                    119000.12,
                    119684,
                    119790,
                    120000,
                    120000,
                    120395.5,
                    121335,
                    122167.66,
                    122770.56,
                    125000,
                    125086.95999999999,
                    125718.4,
                    126416,
                    128000,
                    128500,
                    130074,
                    130196.74,
                    132221,
                    132455,
                    135600,
                    136500,
                    138590.9,
                    141000,
                    144700,
                    146286.85,
                    150000,
                    150000,
                    150256.41,
                    150786.85,
                    150874.4,
                    150973.97,
                    152465,
                    154302.9,
                    154383,
                    154500,
                    156685,
                    157120.75,
                    158000,
                    158706.41,
                    160000,
                    160602,
                    161275.47999999998,
                    161590.9,
                    163000,
                    165345,
                    166197.74000000002,
                    167587.74,
                    170000,
                    170000,
                    170115,
                    171360,
                    171986.41,
                    174258.4,
                    174353.78999999998,
                    175545,
                    176862.79,
                    180450,
                    180960,
                    184820.74000000002,
                    186827.89,
                    186863.53,
                    190347.79,
                    190347.79,
                    191448.71000000002,
                    191681.77000000002,
                    194087.13,
                    198999.96,
                    200000,
                    200000,
                    200000,
                    200000,
                    200100.85,
                    200758.4,
                    202800,
                    203361.31,
                    208723.58000000002,
                    209382,
                    210256.41,
                    210256.41,
                    210877.53,
                    212300,
                    212740.63,
                    212827.27,
                    214045.88,
                    217492.7,
                    218374.53,
                    220172.19,
                    221419.85,
                    221868.4,
                    223628.1,
                    225000,
                    230000,
                    235715,
                    236188.04,
                    236800,
                    237240.63,
                    241400,
                    241869.64,
                    242850,
                    244580.19999999998,
                    247150,
                    249465,
                    253232.78,
                    253342.53,
                    256250,
                    260074.53,
                    262000,
                    264879.7,
                    270744.4,
                    272025.55000000005,
                    273935.41000000003,
                    275230.85000000003,
                    275757.44,
                    279750.74,
                    285920.56,
                    286839.05,
                    293230,
                    298976.5,
                    300100,
                    302800,
                    303811,
                    305406,
                    305849.37,
                    310350,
                    310650,
                    312000,
                    313075.12,
                    313856.41,
                    314849.53,
                    315261.31,
                    315859.63,
                    316540,
                    319900,
                    320000,
                    320271.41000000003,
                    320680.68,
                    321066.41000000003,
                    325622.35,
                    330973.97,
                    333761.31,
                    333923.2,
                    339000,
                    339591.12,
                    339604.85,
                    341130.8,
                    348474.53,
                    350000,
                    353100,
                    354824.9,
                    359223.75,
                    366590.9,
                    372828.7,
                    373709.67,
                    373938,
                    378511.88,
                    381980.21,
                    382534.53,
                    385186,
                    387849,
                    389095.33,
                    400000,
                    400000,
                    401099.01,
                    405521.15,
                    406895,
                    408074.53,
                    411900,
                    413954.19,
                    416167.73,
                    416256.41000000003,
                    426816.41,
                    427346.36,
                    428074.53,
                    432686.81,
                    443908.9,
                    444706.41000000003,
                    451870.63,
                    463096.95999999996,
                    464122.45,
                    473362,
                    480645.07,
                    483250.64,
                    497029.48,
                    500256.41,
                    505410.63,
                    506280.25,
                    509022.27,
                    516340.63,
                    518375,
                    520475.97,
                    524198.63,
                    532800,
                    536999.53,
                    538649.1,
                    543000,
                    546434.77,
                    560000,
                    561758.46,
                    564477.58,
                    568810.37,
                    575035.13,
                    575247.5,
                    580573.97,
                    590877.29,
                    596559.82,
                    598885.88,
                    600439.1,
                    610120,
                    614114.53,
                    622827.27,
                    634369,
                    643050,
                    646513.11,
                    656311.15,
                    663458.86,
                    666524.24,
                    675007.27,
                    678190.9,
                    681084.41,
                    687715.6,
                    690213.3899999999,
                    704172.27,
                    706563.9199999999,
                    714235,
                    716766,
                    718800,
                    722954.75,
                    723803.6799999999,
                    755190.63,
                    769108.38,
                    773964.85,
                    780571.66,
                    785882.27,
                    835050,
                    847811,
                    863249.6,
                    902231.26,
                    918432.06,
                    964882.27,
                    1000000,
                    1007500,
                    1066803.5,
                    1089316.15,
                    1091500,
                    1109758.4,
                    1119500,
                    1132709.72,
                    1148862.54,
                    1160526.51,
                    1198682.36,
                    1216600,
                    1228952.23,
                    1251056.41,
                    1257756.72,
                    1275494.4,
                    1292500,
                    1314590.9,
                    1360971.48,
                    1367573.71,
                    1370213.88,
                    1371901.91,
                    1396800,
                    1401717.87,
                    1408453.05,
                    1409268.43,
                    1416496.17,
                    1461851.48,
                    1509713.2,
                    1540866.48,
                    1541100,
                    1551808.03,
                    1551820.48,
                    1566037.03,
                    1583908.92,
                    1598968.32,
                    1694698.4,
                    1706559.44,
                    1728033.36,
                    1747983.33,
                    1767356.33,
                    1775961.8,
                    1778501.58,
                    1801800,
                    1807512.79,
                    1827834.85,
                    1880102.94,
                    1916278.0699999998,
                    1948479.56,
                    1954850,
                    1968455.4,
                    2001975,
                    2014833.3599999999,
                    2042105.1,
                    2088000,
                    2120010.06,
                    2123448,
                    2148521.48,
                    2225074.5300000003,
                    2226866.27,
                    2339990.83,
                    2342974.5300000003,
                    2361600,
                    2423153.83,
                    2455509.3,
                    2511074.5300000003,
                    2513831.3,
                    2514890,
                    2517573.2,
                    2526248.75,
                    2528150.79,
                    2542750,
                    2574531.4,
                    2589840.5300000003,
                    2621086.96,
                    2621292.19,
                    2647846.8,
                    2655938.23,
                    2691500,
                    2734345.14,
                    2742227.09,
                    2826610.6799999997,
                    2840671.56,
                    2905074.52,
                    2996590.9,
                    3003431.42,
                    3096833.36,
                    3175000,
                    3221072.53
                  ],
                  "xaxis": "x",
                  "y": [
                    1647.1191791024644,
                    1654.8028804053054,
                    1666.411006536235,
                    1666.411006536235,
                    1666.411006536235,
                    1668.1526454982122,
                    1669.6580362574648,
                    1676.6559416066896,
                    1678.0902325165532,
                    1678.9098273221896,
                    1681.0504040558103,
                    1683.0078013503714,
                    1684.2781732991077,
                    1687.9964700335786,
                    1689.9743571982806,
                    1698.5964945535752,
                    1699.3996974630988,
                    1699.809494865917,
                    1700.2192922687352,
                    1706.5398025111017,
                    1707.3907468180537,
                    1709.8495312349628,
                    1714.7357505674654,
                    1715.5866948744174,
                    1721.118959812463,
                    1725.5058410096317,
                    1731.862413423446,
                    1733.0030844941903,
                    1738.1255520294176,
                    1748.3725360868864,
                    1753.8115721157908,
                    1756.5664351562361,
                    1757.3450502215908,
                    1761.6889026914635,
                    1762.5084974970998,
                    1788.314874243471,
                    1795.1693505017095,
                    1800.7186220319718,
                    1805.8650627152642,
                    1812.7170801890857,
                    1813.5379043869304,
                    1832.092096495628,
                    1845.8709194692856,
                    1845.8709194692856,
                    1845.8709194692856,
                    1845.8709194692856,
                    1845.8709194692856,
                    1845.8709194692856,
                    1845.8709194692856,
                    1845.8709194692856,
                    1845.8709194692856,
                    1845.8709194692856,
                    1845.8709194692856,
                    1846.5880649242172,
                    1853.893523224257,
                    1862.262815582013,
                    1866.5970378129196,
                    1871.6145972130255,
                    1878.1455384217388,
                    1878.4682538764582,
                    1878.4682538764582,
                    1878.4682538764582,
                    1878.4682538764582,
                    1907.3405298920136,
                    1910.41401041315,
                    1910.8238078159682,
                    1914.5119844413318,
                    1914.5920998335828,
                    1919.447994158277,
                    1922.6085566275124,
                    1930.149853332874,
                    1931.8308422792343,
                    1933.5675636723777,
                    1942.5923269759412,
                    1946.2712831597414,
                    1948.3202701738323,
                    1948.3202701738323,
                    1948.3202701738323,
                    1957.9505091400597,
                    1960.614192258378,
                    1968.8101403147418,
                    1980.9176045810052,
                    1980.9176045810052,
                    1985.2020364274692,
                    1987.6608208443783,
                    2011.3579703584444,
                    2034.3777247656517,
                    2040.371626477972,
                    2050.769620878379,
                    2050.769620878379,
                    2050.769620878379,
                    2050.769620878379,
                    2050.769620878379,
                    2050.769620878379,
                    2050.769620878379,
                    2050.769620878379,
                    2050.769620878379,
                    2050.769620878379,
                    2061.5268027023567,
                    2068.5958079009706,
                    2075.065894195365,
                    2075.065894195365,
                    2091.749361160198,
                    2093.681146117083,
                    2105.8873715574255,
                    2116.0435854901702,
                    2153.2189715829263,
                    2153.2189715829263,
                    2153.2189715829263,
                    2153.3943648713325,
                    2163.463906653381,
                    2165.512893667472,
                    2165.7901216104783,
                    2176.7495384527465,
                    2186.986277575145,
                    2187.4673797260534,
                    2189.4040822517723,
                    2201.4834753959426,
                    2204.773328945767,
                    2207.6195768070406,
                    2235.178452146564,
                    2237.5690052959035,
                    2246.6685566254814,
                    2255.668322287473,
                    2255.668322287473,
                    2255.668322287473,
                    2255.668322287473,
                    2255.668322287473,
                    2255.668322287473,
                    2255.668322287473,
                    2255.668322287473,
                    2255.668322287473,
                    2255.668322287473,
                    2271.764344675366,
                    2274.6505477834144,
                    2279.008333364983,
                    2290.7363252362366,
                    2296.648062569292,
                    2310.881555761376,
                    2312.8350599806104,
                    2321.235906738383,
                    2321.338356089088,
                    2323.098435934192,
                    2333.067782251251,
                    2333.2681731812295,
                    2333.350132661793,
                    2338.1656619423097,
                    2358.11767299202,
                    2358.11767299202,
                    2358.11767299202,
                    2358.11767299202,
                    2358.11767299202,
                    2358.11767299202,
                    2358.11767299202,
                    2364.9547328606386,
                    2378.6075431329295,
                    2390.715007399193,
                    2401.306221275029,
                    2414.6369307887044,
                    2439.580479103442,
                    2452.020698860794,
                    2459.2019885477794,
                    2460.567023696567,
                    2460.567023696567,
                    2465.8208312993975,
                    2465.8208312993975,
                    2473.1478039630856,
                    2481.18823390508,
                    2491.096930206522,
                    2494.6457757149274,
                    2495.809600338931,
                    2498.850297067842,
                    2498.8523460548563,
                    2511.64622097084,
                    2548.021887431996,
                    2562.8215157360737,
                    2563.016374401114,
                    2592.1119900012054,
                    2609.334955246848,
                    2609.5283796209783,
                    2610.1430757252056,
                    2620.3134276683472,
                    2620.3134276683472,
                    2620.3134276683472,
                    2620.3134276683472,
                    2620.3134276683472,
                    2620.3134276683472,
                    2620.3134276683472,
                    2620.3134276683472,
                    2620.3134276683472,
                    2620.3134276683472,
                    2620.3134276683472,
                    2620.3134276683472,
                    2620.3134276683472,
                    2620.3134276683472,
                    2620.3134276683472,
                    2620.3134276683472,
                    2620.3134276683472,
                    2620.3134276683472,
                    2653.301094101704,
                    2665.4657251056606,
                    2665.4657251056606,
                    2665.4657251056606,
                    2665.4657251056606,
                    2665.4657251056606,
                    2665.4657251056606,
                    2665.4657251056606,
                    2665.4657251056606,
                    2665.4657251056606,
                    2665.4657251056606,
                    2665.4657251056606,
                    2665.4657251056606,
                    2665.4657251056606,
                    2669.5636991338424,
                    2671.538103020621,
                    2680.8484951139485,
                    2684.3278799625764,
                    2694.7953350227613,
                    2694.7953350227613,
                    2697.327473174775,
                    2698.0630595128337,
                    2706.4454653874795,
                    2731.2791879982615,
                    2743.065575999417,
                    2751.5803464351734,
                    2765.1489433411853,
                    2767.915075810208,
                    2767.915075810208,
                    2779.286953738412,
                    2786.355958937026,
                    2800.2132581133233,
                    2818.0332981748725,
                    2824.493959129002,
                    2824.493959129002,
                    2824.493959129002,
                    2825.212129077441,
                    2849.0664358954878,
                    2864.5944790830745,
                    2869.00266974519,
                    2870.364426514755,
                    2870.364426514755,
                    2875.6182341175854,
                    2875.6182341175854,
                    2888.1578297451206,
                    2889.7767343849537,
                    2892.6983849683456,
                    2898.3330992570964,
                    2898.4470229350795,
                    2909.5000784838917,
                    2920.6213653002733,
                    2922.08085875041,
                    2922.2037979712554,
                    2922.917869945666,
                    2931.834036937483,
                    2935.2042107782595,
                    2951.023415020549,
                    2962.0361055251833,
                    2966.134079553365,
                    2979.6530909736357,
                    2983.8783070953928,
                    2987.494769175263,
                    3002.3212392092255,
                    3003.7838061398834,
                    3005.411111626474,
                    3006.826961653211,
                    3007.062185362429,
                    3031.0271374792364,
                    3064.229947549073,
                    3074.455007445491,
                    3081.951226436543,
                    3084.000213450634,
                    3087.557050008394,
                    3093.056531154214,
                    3098.7936947936687,
                    3111.292515579624,
                    3112.5956713205856,
                    3132.3731086766957,
                    3148.5144136776,
                    3167.42963729818,
                    3170.3361253776684,
                    3177.7124786283957,
                    3193.311621665371,
                    3194.3469748035914,
                    3199.5341903284643,
                    3203.4561563721354,
                    3204.1644911829067,
                    3231.164607763687,
                    3231.395938397578,
                    3269.6031943506305,
                    3280.1618293329425,
                    3280.1618293329425,
                    3285.4156369357734,
                    3301.669021526348,
                    3312.759163740115,
                    3313.7139916886817,
                    3318.4451027042173,
                    3336.535813950328,
                    3336.740712651737,
                    3336.740712651737,
                    3343.4376218085918,
                    3353.8507787129033,
                    3357.170957270536,
                    3389.121836274763,
                    3413.345985248853,
                    3415.208514444662,
                    3418.8579652154594,
                    3435.6799437024447,
                    3439.3275503849295,
                    3439.9082333047227,
                    3443.638209265174,
                    3458.886770624039,
                    3483.695495593249,
                    3483.695495593249,
                    3485.0605307420365,
                    3490.9698092906747,
                    3495.3368153138063,
                    3509.341026859014,
                    3522.479131593365,
                    3524.6350757295913,
                    3528.6629744018915,
                    3529.871876740205,
                    3531.3979622683,
                    3542.35758400927,
                    3545.8158642916524,
                    3550.3496578577315,
                    3551.783948767595,
                    3573.4876388156517,
                    3603.1090244835586,
                    3634.8668889110586,
                    3645.6632063870047,
                    3650.6432693247534,
                    3664.9001209687976,
                    3689.95923215113,
                    3689.95923215113,
                    3689.95923215113,
                    3689.95923215113,
                    3689.95923215113,
                    3689.95923215113,
                    3689.95923215113,
                    3689.95923215113,
                    3689.95923215113,
                    3689.95923215113,
                    3694.057206179312,
                    3702.301510329208,
                    3703.6669552753983,
                    3705.558375188106,
                    3705.558375188106,
                    3705.558375188106,
                    3706.1052498221666,
                    3710.6744908635897,
                    3732.1888545115444,
                    3741.1839075034036,
                    3752.420552288678,
                    3755.52681660204,
                    3756.993891304129,
                    3768.464530406413,
                    3795.619960202862,
                    3812.8984529965865,
                    3814.68025210404,
                    3820.3772555980186,
                    3822.8155501447864,
                    3829.044470667623,
                    3843.6332582079503,
                    3849.780219250223,
                    3851.1817263678613,
                    3867.913754324928,
                    3892.0918010912014,
                    3893.4928984114367,
                    3894.857933560224,
                    3900.111741163055,
                    3900.111741163055,
                    3915.573192272683,
                    3926.5106849539006,
                    3927.4552679673966,
                    3928.8506281239925,
                    3951.440300156942,
                    3956.7676663935786,
                    3964.2257742261686,
                    3968.4350082492156,
                    3970.6704530815887,
                    4015.1006874951363,
                    4029.9046186719434,
                    4031.430499301337,
                    4033.8714575312238,
                    4049.7066438722227,
                    4073.7344998903627,
                    4079.2667648284087,
                    4079.269223612825,
                    4093.2818360047904,
                    4095.453762239727,
                    4099.756634969318,
                    4099.756634969318,
                    4107.8603786100475,
                    4127.110611607432,
                    4144.171706878962,
                    4156.525049586916,
                    4202.205985673865,
                    4203.987784781319,
                    4216.925908383094,
                    4231.219641793392,
                    4263.675596096593,
                    4273.920531167048,
                    4306.171586768839,
                    4308.686513429934,
                    4350.163337961371,
                    4354.957967574344,
                    4419.398609167504,
                    4437.839492294323,
                    4480.68176177195,
                    4530.043907928415,
                    4605.85642744978,
                    4638.370777882881,
                    4714.452739196599,
                    4714.452739196599,
                    4719.70654679943,
                    4730.575193516974,
                    4732.36908164781,
                    4734.40925801774,
                    4764.960269093941,
                    4802.618601425918,
                    4804.259840024205,
                    4806.657154830691,
                    4851.427521088579,
                    4860.35598200248,
                    4878.371700323874,
                    4892.845949490114,
                    4919.351440605693,
                    4931.686342430521,
                    4945.485860173019,
                    4951.9487750128665,
                    4980.821051028422,
                    5028.869796508854,
                    5046.342328372813,
                    5074.823247868677,
                    5124.250142014787,
                    5124.250142014787,
                    5126.606477080992,
                    5152.116365406424,
                    5164.951424961391,
                    5211.504205022835,
                    5213.458733735577,
                    5237.866471946129,
                    5264.867817919119,
                    5338.36928498729,
                    5348.819118759154,
                    5427.925180006969,
                    5469.051422860295,
                    5469.781681832117,
                    5541.173716769282,
                    5541.173716769282,
                    5563.731424604812,
                    5568.506793739853,
                    5617.7923077819905,
                    5718.455556506353,
                    5738.946246242069,
                    5738.946246242069,
                    5738.946246242069,
                    5738.946246242069,
                    5741.01264964578,
                    5754.485763756935,
                    5796.317882636615,
                    5807.819051645409,
                    5917.691267605904,
                    5931.182207904081,
                    5949.098755253994,
                    5949.098755253994,
                    5961.825423395914,
                    5990.971648975254,
                    6000.000100455443,
                    6001.775342804451,
                    6026.744503456865,
                    6097.369397655955,
                    6115.437979842312,
                    6152.271799799819,
                    6177.836191179827,
                    6187.026922431531,
                    6223.08294691849,
                    6251.192999764804,
                    6353.64235046935,
                    6470.7419583246465,
                    6480.434486496104,
                    6492.973467427533,
                    6502.001918907723,
                    6587.226870075718,
                    6596.849732688694,
                    6616.937181780037,
                    6652.388755097836,
                    6705.0436233859455,
                    6752.477672762152,
                    6829.6789956816665,
                    6831.927758929633,
                    6891.501441668221,
                    6969.865564718233,
                    7009.31819497845,
                    7068.322874023228,
                    7188.489815438619,
                    7214.740412569645,
                    7253.873195956963,
                    7280.416593332302,
                    7291.206354049804,
                    7373.028552483496,
                    7499.447363076282,
                    7518.267103902006,
                    7649.2168394790515,
                    7766.9618782437865,
                    7789.982247347098,
                    7845.304896727554,
                    7866.020155440014,
                    7898.701498314764,
                    7907.786092039138,
                    8000.00341629142,
                    8006.150377333692,
                    8033.811702023921,
                    8055.840771209814,
                    8071.849301852204,
                    8092.198201686546,
                    8100.635520413169,
                    8112.895019515878,
                    8126.835712463648,
                    8195.681676137105,
                    8197.730663151195,
                    8203.29181880614,
                    8211.677707958708,
                    8219.581265568162,
                    8312.931884537937,
                    8422.585883381429,
                    8479.698118019993,
                    8483.015223097105,
                    8587.038195828472,
                    8599.150167866168,
                    8599.431493783202,
                    8630.698011124723,
                    8781.170085174625,
                    8812.426767378476,
                    8875.945364815296,
                    8911.288341821351,
                    9001.420207090689,
                    9152.37215389929,
                    9280.183865864255,
                    9298.234826762291,
                    9302.913278811566,
                    9396.631486051669,
                    9467.69711735749,
                    9479.055062173997,
                    9533.383338156515,
                    9587.947862341756,
                    9613.485002194475,
                    9836.920274423945,
                    9836.920274423945,
                    9859.438846607507,
                    9950.047920952427,
                    9978.197929045515,
                    10002.366345572822,
                    10080.749729100768,
                    10122.83981544552,
                    10168.19496259723,
                    10170.012004281327,
                    10386.385032969329,
                    10397.243639650504,
                    10412.16374839101,
                    10506.668766644523,
                    10736.607933454121,
                    10752.9488097902,
                    10899.742747251104,
                    11129.768791110098,
                    11150.7809480409,
                    11340.09812770134,
                    11489.327286228492,
                    11542.715077171542,
                    11825.041719463909,
                    11891.161096117714,
                    11996.770394595393,
                    12014.58879546733,
                    12070.772429191107,
                    12220.724675235531,
                    12262.408652354094,
                    12305.45725482404,
                    12381.734074802798,
                    12557.97502913671,
                    12644.022853489565,
                    12677.822328577904,
                    12766.971704573987,
                    12837.349695837878,
                    13115.299496969446,
                    13151.33011401743,
                    13207.044529714978,
                    13295.822834162811,
                    13423.367358221138,
                    13427.718791942963,
                    13536.857470552412,
                    13747.971159372648,
                    13864.405461144468,
                    13912.066128484432,
                    13943.891404584696,
                    14142.251788431826,
                    14224.099189405793,
                    14402.622100577299,
                    14639.110649478736,
                    14816.983212171972,
                    14887.941886355655,
                    15088.702453591091,
                    15235.158103295971,
                    15297.967341428512,
                    15471.78352452995,
                    15537.015689806654,
                    15596.303333958078,
                    15732.175555937773,
                    15783.354948677033,
                    16069.370587189573,
                    16118.375185112078,
                    16275.554618152606,
                    16327.414479479248,
                    16369.090875345857,
                    16454.221163313803,
                    16471.61562877252,
                    17114.73015839174,
                    17399.90304854538,
                    17499.4114881886,
                    17634.784167134265,
                    17743.59787640328,
                    18751.038279226574,
                    19012.50951209472,
                    19328.844421252164,
                    20127.573572529247,
                    20459.52586070809,
                    21411.284631626062,
                    22130.842358969578,
                    22284.5163850264,
                    23499.637398927818,
                    23960.91867395556,
                    24005.66547686279,
                    24379.777721843566,
                    24579.381840808248,
                    24850.047288206024,
                    25181.016472415507,
                    25420.00970304297,
                    26201.81811465899,
                    26568.94823149055,
                    26822.043820141196,
                    27274.95559791248,
                    27412.244079716318,
                    27775.686839517322,
                    28124.129375185574,
                    28576.769047481386,
                    29527.101108741448,
                    29662.379944081862,
                    29716.476684531786,
                    29751.064200025747,
                    30261.222830882423,
                    30361.9893485523,
                    30499.992312127946,
                    30516.69934244344,
                    30664.794796455695,
                    31594.119208556385,
                    32574.79963607695,
                    33213.12629774034,
                    33217.91109221565,
                    33437.31723638061,
                    33437.57233526386,
                    33728.86759861561,
                    34095.06030388822,
                    34403.62545428824,
                    36365.12236206709,
                    36608.15353140323,
                    37048.15136361951,
                    37456.92365823455,
                    37853.87391247439,
                    38030.19887527588,
                    38082.238637662354,
                    38559.62023795072,
                    38676.674563193,
                    39093.07093358877,
                    40164.03731020214,
                    40905.26102623265,
                    41565.065374676444,
                    41695.5948630169,
                    41974.367742232025,
                    42661.179993407255,
                    42924.64612003232,
                    43483.44053114897,
                    44423.82107227899,
                    45079.7030448817,
                    45150.14598903394,
                    45663.89833821463,
                    47232.46039160518,
                    47269.172911531445,
                    49587.08045567896,
                    49648.216081218394,
                    50029.84954283179,
                    51291.07952620741,
                    51954.03890485549,
                    53092.56325190526,
                    53149.04911121361,
                    53170.74173673179,
                    53225.720156293886,
                    53403.481049194845,
                    53442.453601797664,
                    53741.58951885753,
                    54392.786277753825,
                    54706.46836342413,
                    55346.70365649114,
                    55350.90879254016,
                    55895.00930308265,
                    56060.80165303691,
                    56789.4577023178,
                    57667.34905708688,
                    57828.84918904402,
                    59557.85799016776,
                    59845.963595434674,
                    61165.571882524855,
                    63040.73062449097,
                    63180.891990987264,
                    65094.68561249627,
                    66696.30991544749,
                    67640.33007221064
                  ],
                  "yaxis": "y"
                },
                {
                  "customdata": [
                    [
                      "ADRIANA MIGUEL VENTURA",
                      "NOVO"
                    ],
                    [
                      "ALBERTO PEREIRA MOURÃO",
                      "MDB"
                    ],
                    [
                      "ALENCAR SANTANA BRAGA",
                      "PT"
                    ],
                    [
                      "ALEX SPINELLI MANENTE",
                      "CIDADANIA"
                    ],
                    [
                      "ALEXANDRE LEITE DA SILVA",
                      "UNIÃO"
                    ],
                    [
                      "ALEXANDRE ROCHA SANTOS PADILHA",
                      "PT"
                    ],
                    [
                      "ANTONIO CARLOS RODRIGUES",
                      "PL"
                    ],
                    [
                      "ANTONIO CEZAR CORREIA FREIRE",
                      "PSD"
                    ],
                    [
                      "ARLINDO CHIGNALIA JUNIOR",
                      "PT"
                    ],
                    [
                      "ARNALDO CALIL PEREIRA JARDIM",
                      "CIDADANIA"
                    ],
                    [
                      "BRUNO AREVALO GANEM",
                      "PODE"
                    ],
                    [
                      "BRUNO MARCELLO DE OLIVEIRA LIMA",
                      "PP"
                    ],
                    [
                      "CARLA ZAMBELLI SALGADO DE OLIVEIRA",
                      "PL"
                    ],
                    [
                      "CARLOS ALBERTO DA CUNHA",
                      "PP"
                    ],
                    [
                      "CARLOS ALBERTO ROLIM ZARATTINI",
                      "PT"
                    ],
                    [
                      "CARLOS HENRIQUE FOCESI SAMPAIO",
                      "PSDB"
                    ],
                    [
                      "CELSO UBIRAJARA RUSSOMANNO",
                      "REPUBLICANOS"
                    ],
                    [
                      "DAVID BEZERRA RIBEIRO SOARES",
                      "UNIÃO"
                    ],
                    [
                      "EDUARDO NANTES BOLSONARO",
                      "PL"
                    ],
                    [
                      "ERIKA SANTOS SILVA",
                      "PSOL"
                    ],
                    [
                      "FAUSTO RUY PINATO",
                      "PP"
                    ],
                    [
                      "FELIPE BECARI COMENALE",
                      "UNIÃO"
                    ],
                    [
                      "FERNANDO JOSE DE SOUZA MARANGONI",
                      "UNIÃO"
                    ],
                    [
                      "FRANCISCO DANIEL CELEGUIM DE MORAIS",
                      "PT"
                    ],
                    [
                      "FRANCISCO EVERARDO TIRIRICA OLIVEIRA SILVA",
                      "PL"
                    ],
                    [
                      "GILBERTO NASCIMENTO SILVA",
                      "PSC"
                    ],
                    [
                      "GUILHERME CASTRO BOULOS",
                      "PSOL"
                    ],
                    [
                      "GUILHERME MURARO DERRITE",
                      "PL"
                    ],
                    [
                      "JEFFERSON ALVES DE CAMPOS",
                      "PL"
                    ],
                    [
                      "JILMAR AUGUSTINHO TATTO",
                      "PT"
                    ],
                    [
                      "JONAS DONIZETTE FERREIRA",
                      "PSB"
                    ],
                    [
                      "JULIANA CARDOSO",
                      "PT"
                    ],
                    [
                      "KIM PATROCA KATAGUIRI",
                      "UNIÃO"
                    ],
                    [
                      "LUIZ CARLOS MOTTA",
                      "PL"
                    ],
                    [
                      "LUIZ FELIPE BALEIA TENUTO ROSSI",
                      "MDB"
                    ],
                    [
                      "LUIZ MARINHO",
                      "PT"
                    ],
                    [
                      "LUIZ PAULO TEIXEIRA FERREIRA",
                      "PT"
                    ],
                    [
                      "LUIZA ERUNDINA DE SOUSA",
                      "PSOL"
                    ],
                    [
                      "MANOEL MAURICIO SILVA NEVES",
                      "PP"
                    ],
                    [
                      "MARCIO LUIZ ALVINO DE SOUZA",
                      "PL"
                    ],
                    [
                      "MARCO ANTONIO FELICIANO",
                      "PL"
                    ],
                    [
                      "MARCO AURELIO BERTAIOLLI",
                      "PSD"
                    ],
                    [
                      "MARCOS ANTONIO PEREIRA",
                      "REPUBLICANOS"
                    ],
                    [
                      "MARIA DO PARTO MENDES ROSAS",
                      "REPUBLICANOS"
                    ],
                    [
                      "MARIA OSMARINA MARINA DA SILVA VAZ DE LIMA",
                      "REDE"
                    ],
                    [
                      "MARIO LUIS FRIAS",
                      "PL"
                    ],
                    [
                      "MARIO PALUMBO JUNIOR",
                      "MDB"
                    ],
                    [
                      "MIGUEL LOMBARDI",
                      "PL"
                    ],
                    [
                      "MILTON VIEIRA PINTO",
                      "REPUBLICANOS"
                    ],
                    [
                      "PAULO ALEXANDRE PEREIRA BARBOSA",
                      "PSDB"
                    ],
                    [
                      "PAULO FRANCISCO MUNIZ BILYNSKYJ",
                      "PL"
                    ],
                    [
                      "PAULO ROBERTO FREIRE DA COSTA",
                      "PL"
                    ],
                    [
                      "RENATA HELLMEISTER DE ABREU MELO",
                      "PODE"
                    ],
                    [
                      "RICARDO AUGUSTO MACHADO DA SILVA",
                      "PSD"
                    ],
                    [
                      "RICARDO DE AQUINO SALLES",
                      "PL"
                    ],
                    [
                      "RODRIGO GAMBALE VIEIRA",
                      "PODE"
                    ],
                    [
                      "ROSANA DE OLIVEIRA VALLE",
                      "PL"
                    ],
                    [
                      "ROSANGELA MARIA WOLFF DE QUADROS MORO",
                      "UNIÃO"
                    ],
                    [
                      "RUI GOETHE DA COSTA FALCÃO",
                      "PT"
                    ],
                    [
                      "SIMONE APARECIDA CURRALADAS DOS SANTOS",
                      "MDB"
                    ],
                    [
                      "SÂMIA DE SOUZA BOMFIM",
                      "PSOL"
                    ],
                    [
                      "SÔNIA BONE DE SOUSA SILVA SANTOS",
                      "PSOL"
                    ],
                    [
                      "TABATA CLAUDIA AMARAL DE PONTES",
                      "PSB"
                    ],
                    [
                      "VINICIUS RAPOZO DE CARVALHO",
                      "REPUBLICANOS"
                    ],
                    [
                      "VITOR LIPPI",
                      "PSDB"
                    ]
                  ],
                  "hovertemplate": "Situação totalização=Eleito<br>Valor de receita=%{x}<br>Votos nominais=%{y}<br>Nome candidato=%{customdata[0]}<br>Partido=%{customdata[1]}<extra></extra>",
                  "legendgroup": "Eleito",
                  "marker": {
                    "color": "#00cc96",
                    "symbol": "circle"
                  },
                  "mode": "markers",
                  "name": "Eleito",
                  "showlegend": true,
                  "type": "scattergl",
                  "x": [
                    1035848.51,
                    2833184,
                    1859272.53,
                    3107760.02,
                    2807933.91,
                    2198002.2800000003,
                    1035345.04,
                    1642289.1099999999,
                    2223367.16,
                    3789999.99,
                    800000,
                    2814000,
                    2146899.69,
                    2328348,
                    2202254.05,
                    2471662.21,
                    2725834,
                    2557004.01,
                    807241.63,
                    1520936.59,
                    2530515.27,
                    2930124.5300000003,
                    2876708.34,
                    1708637.9200000002,
                    600000,
                    1452700,
                    2829243.22,
                    2356995.63,
                    724982.13,
                    1999707.8800000001,
                    3147286.96,
                    2641213.94,
                    1625249.99,
                    1093496.3900000001,
                    2933000,
                    1872305.48,
                    3281293.48,
                    1945593.57,
                    2790016.95,
                    966020.63,
                    2016070.63,
                    2364056.41,
                    3093528.55,
                    2899335.6,
                    2923182.52,
                    770214.09,
                    585331,
                    1202990.63,
                    1075001.21,
                    3188141.6,
                    221147.64,
                    505240.63,
                    3313917.4,
                    1674543.8599999999,
                    2401140.63,
                    1800000,
                    3043728.88,
                    2869128.9699999997,
                    1995636.48,
                    1103000,
                    2013710.6600000001,
                    1340644.05,
                    2339466.37,
                    1627135,
                    2782433.36
                  ],
                  "xaxis": "x",
                  "y": [
                    109474,
                    114234,
                    139223,
                    196866,
                    192806,
                    140037,
                    73054,
                    143434,
                    144108,
                    113462,
                    141595,
                    461217,
                    946244,
                    181568,
                    147349,
                    98102,
                    305520,
                    93831,
                    741701,
                    256903,
                    72169,
                    178777,
                    89390,
                    167438,
                    71754,
                    95077,
                    1001472,
                    239772,
                    155336,
                    157843,
                    84044,
                    125517,
                    295460,
                    104701,
                    236463,
                    156202,
                    122800,
                    113983,
                    129731,
                    187314,
                    220595,
                    157552,
                    231626,
                    94787,
                    237526,
                    122564,
                    254898,
                    107869,
                    98557,
                    170378,
                    72156,
                    161675,
                    180247,
                    133936,
                    640918,
                    108209,
                    216437,
                    217170,
                    193990,
                    97730,
                    226187,
                    156966,
                    337873,
                    113009,
                    106661
                  ],
                  "yaxis": "y"
                },
                {
                  "hovertemplate": "<b>OLS trendline</b><br>Votos nominais = 0.0202598 * Valor de receita + 160975<br>R<sup>2</sup>=0.009197<br><br>Situação totalização=Eleito<br>Valor de receita=%{x}<br>Votos nominais=%{y} <b>(trend)</b><extra></extra>",
                  "legendgroup": "Eleito",
                  "marker": {
                    "color": "#00cc96",
                    "symbol": "circle"
                  },
                  "mode": "lines",
                  "name": "Eleito",
                  "showlegend": false,
                  "type": "scattergl",
                  "x": [
                    221147.64,
                    505240.63,
                    585331,
                    600000,
                    724982.13,
                    770214.09,
                    800000,
                    807241.63,
                    966020.63,
                    1035345.04,
                    1035848.51,
                    1075001.21,
                    1093496.3900000001,
                    1103000,
                    1202990.63,
                    1340644.05,
                    1452700,
                    1520936.59,
                    1625249.99,
                    1627135,
                    1642289.1099999999,
                    1674543.8599999999,
                    1708637.9200000002,
                    1800000,
                    1859272.53,
                    1872305.48,
                    1945593.57,
                    1995636.48,
                    1999707.8800000001,
                    2013710.6600000001,
                    2016070.63,
                    2146899.69,
                    2198002.2800000003,
                    2202254.05,
                    2223367.16,
                    2328348,
                    2339466.37,
                    2356995.63,
                    2364056.41,
                    2401140.63,
                    2471662.21,
                    2530515.27,
                    2557004.01,
                    2641213.94,
                    2725834,
                    2782433.36,
                    2790016.95,
                    2807933.91,
                    2814000,
                    2829243.22,
                    2833184,
                    2869128.9699999997,
                    2876708.34,
                    2899335.6,
                    2923182.52,
                    2930124.5300000003,
                    2933000,
                    3043728.88,
                    3093528.55,
                    3107760.02,
                    3147286.96,
                    3188141.6,
                    3281293.48,
                    3313917.4,
                    3789999.99
                  ],
                  "xaxis": "x",
                  "y": [
                    165455.14158810012,
                    171210.8140426541,
                    172833.43041373751,
                    173130.62169338102,
                    175662.7369805357,
                    176579.1282869086,
                    177182.5854215631,
                    177329.29953202768,
                    180546.13327601278,
                    181950.63325000092,
                    181960.83346089206,
                    182754.060062194,
                    183128.769054725,
                    183321.31046975896,
                    185347.10249934933,
                    188135.9358238504,
                    190406.16904848535,
                    191788.6299865595,
                    193902.00055237624,
                    193940.19051311252,
                    194247.21003337693,
                    194900.68541868485,
                    195591.42489101717,
                    197442.4040624735,
                    198643.25477066144,
                    198907.2999740175,
                    200392.1033859562,
                    201405.96366681962,
                    201488.4494924342,
                    201772.14327570278,
                    201819.95583990077,
                    204470.52886846155,
                    205505.85807394236,
                    205591.99816304524,
                    206019.74594259082,
                    208146.63872176126,
                    208371.89488154382,
                    208727.03451005317,
                    208870.08463231655,
                    209621.40420395616,
                    211050.1586250266,
                    212242.51094708923,
                    212779.16801551546,
                    214485.24592507922,
                    216199.63299406218,
                    217346.32576285378,
                    217499.9679209008,
                    217862.96228109725,
                    217985.86016435668,
                    218294.68503706018,
                    218374.52452516393,
                    219102.76309841688,
                    219256.31976002923,
                    219714.74394396995,
                    220197.87821831426,
                    220338.52208191765,
                    220396.77858262503,
                    222640.12560973616,
                    223649.05789231334,
                    223937.3848935069,
                    224738.19352933706,
                    225565.90112637673,
                    227453.1413212366,
                    228114.09602379217,
                    237759.44295528706
                  ],
                  "yaxis": "y"
                }
              ],
              "layout": {
                "legend": {
                  "title": {
                    "text": "Situação totalização"
                  },
                  "tracegroupgap": 0
                },
                "margin": {
                  "t": 60
                },
                "template": {
                  "data": {
                    "bar": [
                      {
                        "error_x": {
                          "color": "#2a3f5f"
                        },
                        "error_y": {
                          "color": "#2a3f5f"
                        },
                        "marker": {
                          "line": {
                            "color": "#E5ECF6",
                            "width": 0.5
                          },
                          "pattern": {
                            "fillmode": "overlay",
                            "size": 10,
                            "solidity": 0.2
                          }
                        },
                        "type": "bar"
                      }
                    ],
                    "barpolar": [
                      {
                        "marker": {
                          "line": {
                            "color": "#E5ECF6",
                            "width": 0.5
                          },
                          "pattern": {
                            "fillmode": "overlay",
                            "size": 10,
                            "solidity": 0.2
                          }
                        },
                        "type": "barpolar"
                      }
                    ],
                    "carpet": [
                      {
                        "aaxis": {
                          "endlinecolor": "#2a3f5f",
                          "gridcolor": "white",
                          "linecolor": "white",
                          "minorgridcolor": "white",
                          "startlinecolor": "#2a3f5f"
                        },
                        "baxis": {
                          "endlinecolor": "#2a3f5f",
                          "gridcolor": "white",
                          "linecolor": "white",
                          "minorgridcolor": "white",
                          "startlinecolor": "#2a3f5f"
                        },
                        "type": "carpet"
                      }
                    ],
                    "choropleth": [
                      {
                        "colorbar": {
                          "outlinewidth": 0,
                          "ticks": ""
                        },
                        "type": "choropleth"
                      }
                    ],
                    "contour": [
                      {
                        "colorbar": {
                          "outlinewidth": 0,
                          "ticks": ""
                        },
                        "colorscale": [
                          [
                            0,
                            "#0d0887"
                          ],
                          [
                            0.1111111111111111,
                            "#46039f"
                          ],
                          [
                            0.2222222222222222,
                            "#7201a8"
                          ],
                          [
                            0.3333333333333333,
                            "#9c179e"
                          ],
                          [
                            0.4444444444444444,
                            "#bd3786"
                          ],
                          [
                            0.5555555555555556,
                            "#d8576b"
                          ],
                          [
                            0.6666666666666666,
                            "#ed7953"
                          ],
                          [
                            0.7777777777777778,
                            "#fb9f3a"
                          ],
                          [
                            0.8888888888888888,
                            "#fdca26"
                          ],
                          [
                            1,
                            "#f0f921"
                          ]
                        ],
                        "type": "contour"
                      }
                    ],
                    "contourcarpet": [
                      {
                        "colorbar": {
                          "outlinewidth": 0,
                          "ticks": ""
                        },
                        "type": "contourcarpet"
                      }
                    ],
                    "heatmap": [
                      {
                        "colorbar": {
                          "outlinewidth": 0,
                          "ticks": ""
                        },
                        "colorscale": [
                          [
                            0,
                            "#0d0887"
                          ],
                          [
                            0.1111111111111111,
                            "#46039f"
                          ],
                          [
                            0.2222222222222222,
                            "#7201a8"
                          ],
                          [
                            0.3333333333333333,
                            "#9c179e"
                          ],
                          [
                            0.4444444444444444,
                            "#bd3786"
                          ],
                          [
                            0.5555555555555556,
                            "#d8576b"
                          ],
                          [
                            0.6666666666666666,
                            "#ed7953"
                          ],
                          [
                            0.7777777777777778,
                            "#fb9f3a"
                          ],
                          [
                            0.8888888888888888,
                            "#fdca26"
                          ],
                          [
                            1,
                            "#f0f921"
                          ]
                        ],
                        "type": "heatmap"
                      }
                    ],
                    "heatmapgl": [
                      {
                        "colorbar": {
                          "outlinewidth": 0,
                          "ticks": ""
                        },
                        "colorscale": [
                          [
                            0,
                            "#0d0887"
                          ],
                          [
                            0.1111111111111111,
                            "#46039f"
                          ],
                          [
                            0.2222222222222222,
                            "#7201a8"
                          ],
                          [
                            0.3333333333333333,
                            "#9c179e"
                          ],
                          [
                            0.4444444444444444,
                            "#bd3786"
                          ],
                          [
                            0.5555555555555556,
                            "#d8576b"
                          ],
                          [
                            0.6666666666666666,
                            "#ed7953"
                          ],
                          [
                            0.7777777777777778,
                            "#fb9f3a"
                          ],
                          [
                            0.8888888888888888,
                            "#fdca26"
                          ],
                          [
                            1,
                            "#f0f921"
                          ]
                        ],
                        "type": "heatmapgl"
                      }
                    ],
                    "histogram": [
                      {
                        "marker": {
                          "pattern": {
                            "fillmode": "overlay",
                            "size": 10,
                            "solidity": 0.2
                          }
                        },
                        "type": "histogram"
                      }
                    ],
                    "histogram2d": [
                      {
                        "colorbar": {
                          "outlinewidth": 0,
                          "ticks": ""
                        },
                        "colorscale": [
                          [
                            0,
                            "#0d0887"
                          ],
                          [
                            0.1111111111111111,
                            "#46039f"
                          ],
                          [
                            0.2222222222222222,
                            "#7201a8"
                          ],
                          [
                            0.3333333333333333,
                            "#9c179e"
                          ],
                          [
                            0.4444444444444444,
                            "#bd3786"
                          ],
                          [
                            0.5555555555555556,
                            "#d8576b"
                          ],
                          [
                            0.6666666666666666,
                            "#ed7953"
                          ],
                          [
                            0.7777777777777778,
                            "#fb9f3a"
                          ],
                          [
                            0.8888888888888888,
                            "#fdca26"
                          ],
                          [
                            1,
                            "#f0f921"
                          ]
                        ],
                        "type": "histogram2d"
                      }
                    ],
                    "histogram2dcontour": [
                      {
                        "colorbar": {
                          "outlinewidth": 0,
                          "ticks": ""
                        },
                        "colorscale": [
                          [
                            0,
                            "#0d0887"
                          ],
                          [
                            0.1111111111111111,
                            "#46039f"
                          ],
                          [
                            0.2222222222222222,
                            "#7201a8"
                          ],
                          [
                            0.3333333333333333,
                            "#9c179e"
                          ],
                          [
                            0.4444444444444444,
                            "#bd3786"
                          ],
                          [
                            0.5555555555555556,
                            "#d8576b"
                          ],
                          [
                            0.6666666666666666,
                            "#ed7953"
                          ],
                          [
                            0.7777777777777778,
                            "#fb9f3a"
                          ],
                          [
                            0.8888888888888888,
                            "#fdca26"
                          ],
                          [
                            1,
                            "#f0f921"
                          ]
                        ],
                        "type": "histogram2dcontour"
                      }
                    ],
                    "mesh3d": [
                      {
                        "colorbar": {
                          "outlinewidth": 0,
                          "ticks": ""
                        },
                        "type": "mesh3d"
                      }
                    ],
                    "parcoords": [
                      {
                        "line": {
                          "colorbar": {
                            "outlinewidth": 0,
                            "ticks": ""
                          }
                        },
                        "type": "parcoords"
                      }
                    ],
                    "pie": [
                      {
                        "automargin": true,
                        "type": "pie"
                      }
                    ],
                    "scatter": [
                      {
                        "fillpattern": {
                          "fillmode": "overlay",
                          "size": 10,
                          "solidity": 0.2
                        },
                        "type": "scatter"
                      }
                    ],
                    "scatter3d": [
                      {
                        "line": {
                          "colorbar": {
                            "outlinewidth": 0,
                            "ticks": ""
                          }
                        },
                        "marker": {
                          "colorbar": {
                            "outlinewidth": 0,
                            "ticks": ""
                          }
                        },
                        "type": "scatter3d"
                      }
                    ],
                    "scattercarpet": [
                      {
                        "marker": {
                          "colorbar": {
                            "outlinewidth": 0,
                            "ticks": ""
                          }
                        },
                        "type": "scattercarpet"
                      }
                    ],
                    "scattergeo": [
                      {
                        "marker": {
                          "colorbar": {
                            "outlinewidth": 0,
                            "ticks": ""
                          }
                        },
                        "type": "scattergeo"
                      }
                    ],
                    "scattergl": [
                      {
                        "marker": {
                          "colorbar": {
                            "outlinewidth": 0,
                            "ticks": ""
                          }
                        },
                        "type": "scattergl"
                      }
                    ],
                    "scattermapbox": [
                      {
                        "marker": {
                          "colorbar": {
                            "outlinewidth": 0,
                            "ticks": ""
                          }
                        },
                        "type": "scattermapbox"
                      }
                    ],
                    "scatterpolar": [
                      {
                        "marker": {
                          "colorbar": {
                            "outlinewidth": 0,
                            "ticks": ""
                          }
                        },
                        "type": "scatterpolar"
                      }
                    ],
                    "scatterpolargl": [
                      {
                        "marker": {
                          "colorbar": {
                            "outlinewidth": 0,
                            "ticks": ""
                          }
                        },
                        "type": "scatterpolargl"
                      }
                    ],
                    "scatterternary": [
                      {
                        "marker": {
                          "colorbar": {
                            "outlinewidth": 0,
                            "ticks": ""
                          }
                        },
                        "type": "scatterternary"
                      }
                    ],
                    "surface": [
                      {
                        "colorbar": {
                          "outlinewidth": 0,
                          "ticks": ""
                        },
                        "colorscale": [
                          [
                            0,
                            "#0d0887"
                          ],
                          [
                            0.1111111111111111,
                            "#46039f"
                          ],
                          [
                            0.2222222222222222,
                            "#7201a8"
                          ],
                          [
                            0.3333333333333333,
                            "#9c179e"
                          ],
                          [
                            0.4444444444444444,
                            "#bd3786"
                          ],
                          [
                            0.5555555555555556,
                            "#d8576b"
                          ],
                          [
                            0.6666666666666666,
                            "#ed7953"
                          ],
                          [
                            0.7777777777777778,
                            "#fb9f3a"
                          ],
                          [
                            0.8888888888888888,
                            "#fdca26"
                          ],
                          [
                            1,
                            "#f0f921"
                          ]
                        ],
                        "type": "surface"
                      }
                    ],
                    "table": [
                      {
                        "cells": {
                          "fill": {
                            "color": "#EBF0F8"
                          },
                          "line": {
                            "color": "white"
                          }
                        },
                        "header": {
                          "fill": {
                            "color": "#C8D4E3"
                          },
                          "line": {
                            "color": "white"
                          }
                        },
                        "type": "table"
                      }
                    ]
                  },
                  "layout": {
                    "annotationdefaults": {
                      "arrowcolor": "#2a3f5f",
                      "arrowhead": 0,
                      "arrowwidth": 1
                    },
                    "autotypenumbers": "strict",
                    "coloraxis": {
                      "colorbar": {
                        "outlinewidth": 0,
                        "ticks": ""
                      }
                    },
                    "colorscale": {
                      "diverging": [
                        [
                          0,
                          "#8e0152"
                        ],
                        [
                          0.1,
                          "#c51b7d"
                        ],
                        [
                          0.2,
                          "#de77ae"
                        ],
                        [
                          0.3,
                          "#f1b6da"
                        ],
                        [
                          0.4,
                          "#fde0ef"
                        ],
                        [
                          0.5,
                          "#f7f7f7"
                        ],
                        [
                          0.6,
                          "#e6f5d0"
                        ],
                        [
                          0.7,
                          "#b8e186"
                        ],
                        [
                          0.8,
                          "#7fbc41"
                        ],
                        [
                          0.9,
                          "#4d9221"
                        ],
                        [
                          1,
                          "#276419"
                        ]
                      ],
                      "sequential": [
                        [
                          0,
                          "#0d0887"
                        ],
                        [
                          0.1111111111111111,
                          "#46039f"
                        ],
                        [
                          0.2222222222222222,
                          "#7201a8"
                        ],
                        [
                          0.3333333333333333,
                          "#9c179e"
                        ],
                        [
                          0.4444444444444444,
                          "#bd3786"
                        ],
                        [
                          0.5555555555555556,
                          "#d8576b"
                        ],
                        [
                          0.6666666666666666,
                          "#ed7953"
                        ],
                        [
                          0.7777777777777778,
                          "#fb9f3a"
                        ],
                        [
                          0.8888888888888888,
                          "#fdca26"
                        ],
                        [
                          1,
                          "#f0f921"
                        ]
                      ],
                      "sequentialminus": [
                        [
                          0,
                          "#0d0887"
                        ],
                        [
                          0.1111111111111111,
                          "#46039f"
                        ],
                        [
                          0.2222222222222222,
                          "#7201a8"
                        ],
                        [
                          0.3333333333333333,
                          "#9c179e"
                        ],
                        [
                          0.4444444444444444,
                          "#bd3786"
                        ],
                        [
                          0.5555555555555556,
                          "#d8576b"
                        ],
                        [
                          0.6666666666666666,
                          "#ed7953"
                        ],
                        [
                          0.7777777777777778,
                          "#fb9f3a"
                        ],
                        [
                          0.8888888888888888,
                          "#fdca26"
                        ],
                        [
                          1,
                          "#f0f921"
                        ]
                      ]
                    },
                    "colorway": [
                      "#636efa",
                      "#EF553B",
                      "#00cc96",
                      "#ab63fa",
                      "#FFA15A",
                      "#19d3f3",
                      "#FF6692",
                      "#B6E880",
                      "#FF97FF",
                      "#FECB52"
                    ],
                    "font": {
                      "color": "#2a3f5f"
                    },
                    "geo": {
                      "bgcolor": "white",
                      "lakecolor": "white",
                      "landcolor": "#E5ECF6",
                      "showlakes": true,
                      "showland": true,
                      "subunitcolor": "white"
                    },
                    "hoverlabel": {
                      "align": "left"
                    },
                    "hovermode": "closest",
                    "mapbox": {
                      "style": "light"
                    },
                    "paper_bgcolor": "white",
                    "plot_bgcolor": "#E5ECF6",
                    "polar": {
                      "angularaxis": {
                        "gridcolor": "white",
                        "linecolor": "white",
                        "ticks": ""
                      },
                      "bgcolor": "#E5ECF6",
                      "radialaxis": {
                        "gridcolor": "white",
                        "linecolor": "white",
                        "ticks": ""
                      }
                    },
                    "scene": {
                      "xaxis": {
                        "backgroundcolor": "#E5ECF6",
                        "gridcolor": "white",
                        "gridwidth": 2,
                        "linecolor": "white",
                        "showbackground": true,
                        "ticks": "",
                        "zerolinecolor": "white"
                      },
                      "yaxis": {
                        "backgroundcolor": "#E5ECF6",
                        "gridcolor": "white",
                        "gridwidth": 2,
                        "linecolor": "white",
                        "showbackground": true,
                        "ticks": "",
                        "zerolinecolor": "white"
                      },
                      "zaxis": {
                        "backgroundcolor": "#E5ECF6",
                        "gridcolor": "white",
                        "gridwidth": 2,
                        "linecolor": "white",
                        "showbackground": true,
                        "ticks": "",
                        "zerolinecolor": "white"
                      }
                    },
                    "shapedefaults": {
                      "line": {
                        "color": "#2a3f5f"
                      }
                    },
                    "ternary": {
                      "aaxis": {
                        "gridcolor": "white",
                        "linecolor": "white",
                        "ticks": ""
                      },
                      "baxis": {
                        "gridcolor": "white",
                        "linecolor": "white",
                        "ticks": ""
                      },
                      "bgcolor": "#E5ECF6",
                      "caxis": {
                        "gridcolor": "white",
                        "linecolor": "white",
                        "ticks": ""
                      }
                    },
                    "title": {
                      "x": 0.05
                    },
                    "xaxis": {
                      "automargin": true,
                      "gridcolor": "white",
                      "linecolor": "white",
                      "ticks": "",
                      "title": {
                        "standoff": 15
                      },
                      "zerolinecolor": "white",
                      "zerolinewidth": 2
                    },
                    "yaxis": {
                      "automargin": true,
                      "gridcolor": "white",
                      "linecolor": "white",
                      "ticks": "",
                      "title": {
                        "standoff": 15
                      },
                      "zerolinecolor": "white",
                      "zerolinewidth": 2
                    }
                  }
                },
                "xaxis": {
                  "anchor": "y",
                  "domain": [
                    0,
                    1
                  ],
                  "title": {
                    "text": "Valor de receita"
                  }
                },
                "yaxis": {
                  "anchor": "x",
                  "domain": [
                    0,
                    1
                  ],
                  "title": {
                    "text": "Votos nominais"
                  }
                }
              }
            }
          },
          "metadata": {},
          "output_type": "display_data"
        }
      ],
      "source": [
        "import plotly.express as px\n",
        "\n",
        "fig = px.scatter(df_candidatos, y=\"Votos nominais\", x=\"Valor de receita\", trendline=\"ols\", color='Situação totalização', hover_data=['Nome candidato', 'Partido'])\n",
        "fig.show()"
      ]
    },
    {
      "cell_type": "code",
      "execution_count": null,
      "metadata": {},
      "outputs": [
        {
          "data": {
            "application/vnd.plotly.v1+json": {
              "config": {
                "plotlyServerURL": "https://plot.ly"
              },
              "data": [
                {
                  "customdata": [
                    [
                      "ABRAHAM BRAGANÇA DE VASCONCELLOS WEINTRAUB",
                      "PMB"
                    ],
                    [
                      "ADAUTO BENTIVEGNA FILHO",
                      "AVANTE"
                    ],
                    [
                      "ADELSON DE SOUZA PENHA",
                      "AGIR"
                    ],
                    [
                      "ADEMIR CREPALDI",
                      "PRTB"
                    ],
                    [
                      "ADEMIR DA PENHA CLEMENTE",
                      "PRTB"
                    ],
                    [
                      "ADEMIR RODRIGO DA LUZ",
                      "AGIR"
                    ],
                    [
                      "ADEMIR RODRIGUES PEREIRA",
                      "AVANTE"
                    ],
                    [
                      "ADEVAR CAMPANA",
                      "PATRIOTA"
                    ],
                    [
                      "ADRIANA PIERIN",
                      "AVANTE"
                    ],
                    [
                      "ADRIANO CESAR DA SILVEIRA ZAMBELLI",
                      "PDT"
                    ],
                    [
                      "ADRILLES REIS JORGE",
                      "PTB"
                    ],
                    [
                      "AGNALDO APARECIDO DE ARAUJO",
                      "AVANTE"
                    ],
                    [
                      "AGNALDO JOSÉ DOS SANTOS",
                      "PMB"
                    ],
                    [
                      "AILTON BOLIGNARI",
                      "DC"
                    ],
                    [
                      "ALESSANDRA RUDOLPHO STRINGHETA BARBOSA",
                      "PATRIOTA"
                    ],
                    [
                      "ALESSANDRA SOUZA VALIM",
                      "PTB"
                    ],
                    [
                      "ALLAN ARONI",
                      "PRTB"
                    ],
                    [
                      "ALLAN SERGIO NASCIMENTO",
                      "AGIR"
                    ],
                    [
                      "ALTAIR CAMPANA",
                      "PTB"
                    ],
                    [
                      "ALUISIO LUNDGREN CORREA REGIS",
                      "PROS"
                    ],
                    [
                      "AMANDA SANTOS DA SILVA",
                      "PATRIOTA"
                    ],
                    [
                      "AMARO MACHADO SOARES NETO",
                      "PMN"
                    ],
                    [
                      "AMÉRICO ALEXANDRE CIANFARANI XAVIER",
                      "PDT"
                    ],
                    [
                      "ANA CLÁUDIA FERREIRA DE PAIVA",
                      "PDT"
                    ],
                    [
                      "ANDERSON ALVES SIMÕES",
                      "AVANTE"
                    ],
                    [
                      "ANDERSON GOMES DE CAMPOS",
                      "PRTB"
                    ],
                    [
                      "ANDERSON GONDIM SAMPAIO",
                      "PTB"
                    ],
                    [
                      "ANDERSON LUIZ BIANCHINI",
                      "PROS"
                    ],
                    [
                      "ANDRE EDUARDO RIBEIRO",
                      "PATRIOTA"
                    ],
                    [
                      "ANDRE HENRIQUE BUENO DE OLIVEIRA",
                      "PATRIOTA"
                    ],
                    [
                      "ANDRE LUIS RAMOS PEDROSO",
                      "PTB"
                    ],
                    [
                      "ANDRÉ DA SILVA ROSA",
                      "AVANTE"
                    ],
                    [
                      "ANDRÉ LUIS DE MORAES",
                      "PDT"
                    ],
                    [
                      "ANETE MARIA PIZZIMENTI",
                      "PRTB"
                    ],
                    [
                      "ANGELA ISABEL RODRIGUES",
                      "PRTB"
                    ],
                    [
                      "ANTONIO CARLOS MARCIANO",
                      "PROS"
                    ],
                    [
                      "ANTONIO CARLOS TONINI",
                      "AGIR"
                    ],
                    [
                      "ANTONIO DONIZETE LIMA DE ALENCAR",
                      "PROS"
                    ],
                    [
                      "ANTONIO FERNANDES DOS SANTOS NETO",
                      "PDT"
                    ],
                    [
                      "ANTONIO MARCOS DA SILVA POLYCENO",
                      "AVANTE"
                    ],
                    [
                      "ANTONIO MARIO DE PAULA FERREIRA IELO",
                      "PDT"
                    ],
                    [
                      "ANTONIO RAIMUNDO FEDOSSI",
                      "PTB"
                    ],
                    [
                      "ANTONIO RIBEIRO DUARTE",
                      "PSTU"
                    ],
                    [
                      "APARECIDO RODRIGUES DE SIQUEIRA",
                      "PRTB"
                    ],
                    [
                      "APARECIDO RUBENS DE ANDRADE",
                      "PROS"
                    ],
                    [
                      "ARMANDO INFANTI JUNIOR",
                      "PATRIOTA"
                    ],
                    [
                      "ARTHUR BRAGANCA DE VASCONCELLOS WEINTRAUB",
                      "PMB"
                    ],
                    [
                      "ARTUR ROGÉRIO GUIMARÃES",
                      "PMN"
                    ],
                    [
                      "BEATRIZ BARBIERE OLIVEIRA",
                      "PCB"
                    ],
                    [
                      "BEATRIZ CAROLINA REIS",
                      "PRTB"
                    ],
                    [
                      "BENEDITO PEREIRA COSTA JÚNIOR",
                      "PATRIOTA"
                    ],
                    [
                      "BIANCA MARIA DELLA SANTA PIMENTA",
                      "PROS"
                    ],
                    [
                      "BOLIVAR FUNDÃO FILHO",
                      "PTB"
                    ],
                    [
                      "BRUNO MADEIRA DE CARVALHO",
                      "PTB"
                    ],
                    [
                      "BRUNO MARINHO BARCELLOS",
                      "PRTB"
                    ],
                    [
                      "CAIO LYSIAS SPINA",
                      "PMN"
                    ],
                    [
                      "CAMILA GARCIA",
                      "PATRIOTA"
                    ],
                    [
                      "CARLOS ALBERTO ADÃO",
                      "AVANTE"
                    ],
                    [
                      "CARLOS ALBERTO CANTELLI",
                      "AGIR"
                    ],
                    [
                      "CARLOS ANTONIO FERREIRA DOS SANTOS",
                      "PATRIOTA"
                    ],
                    [
                      "CARLOS AUGUSTO LESSA",
                      "DC"
                    ],
                    [
                      "CARLOS HENRIQUE DARDE",
                      "AGIR"
                    ],
                    [
                      "CARLOS ROBERTO DE ALMEIDA",
                      "AGIR"
                    ],
                    [
                      "CASSIO ELMO GONÇALVES GALLO",
                      "PATRIOTA"
                    ],
                    [
                      "CELSO LUIZ PEREIRA",
                      "PMB"
                    ],
                    [
                      "CLAUDIA KEITI DA COSTA",
                      "PDT"
                    ],
                    [
                      "CLAUDIA SANTOS LEAL",
                      "PATRIOTA"
                    ],
                    [
                      "CLAUDIMAR AMARO DE ANDRADE RODRIGUES",
                      "PCB"
                    ],
                    [
                      "CLAUDINEI DE OLIVEIRA BARBOSA",
                      "PTB"
                    ],
                    [
                      "CLAUDINEIA MOREIRA DE ALMEIDA",
                      "PTB"
                    ],
                    [
                      "CLAUDIO DONIZETE DOS REIS",
                      "PSTU"
                    ],
                    [
                      "CLAUDIO PERESSIM",
                      "PATRIOTA"
                    ],
                    [
                      "CLAUDIO SIDNEI RIBEIRO",
                      "AGIR"
                    ],
                    [
                      "CLEBER MACARIO DE MACEDO",
                      "PDT"
                    ],
                    [
                      "CLENILZA PANATO",
                      "PCO"
                    ],
                    [
                      "CLEOMENES ANTUNES JUNIOR",
                      "AVANTE"
                    ],
                    [
                      "CLOVES ALVES DOS SANTOS",
                      "PDT"
                    ],
                    [
                      "CLOVIS PEREIRA JURADO",
                      "AVANTE"
                    ],
                    [
                      "COSME APARECIDO FELIX",
                      "AVANTE"
                    ],
                    [
                      "CRISTIANE BRASIL FRANCISCO",
                      "PTB"
                    ],
                    [
                      "CRISTINA ROHRBACHER",
                      "AVANTE"
                    ],
                    [
                      "DAGMAR PEREIRA DE SOUZA MOITINHO DE LIMA CRUZ",
                      "AGIR"
                    ],
                    [
                      "DAISE MARIA PEREIRA SILVA",
                      "PTB"
                    ],
                    [
                      "DANIEL BELCHIOR SANTANA",
                      "PROS"
                    ],
                    [
                      "DANIEL MIGUEL",
                      "PTB"
                    ],
                    [
                      "DANIEL MONTEIRO COSTA",
                      "PDT"
                    ],
                    [
                      "DANIEL OCTACÍLIO DE PAULA",
                      "PMN"
                    ],
                    [
                      "DANILA CINTIA AZEVEDO DE OLIVEIRA",
                      "PTB"
                    ],
                    [
                      "DANILO ANDRÉ MOSER",
                      "PRTB"
                    ],
                    [
                      "DARLEY JEAN ALBUQUERQUE BARBOSA",
                      "PMN"
                    ],
                    [
                      "DAVID JOSE BUENO GOMES",
                      "SOLIDARIEDADE"
                    ],
                    [
                      "DEBORAH SOARES RESEK",
                      "AGIR"
                    ],
                    [
                      "DECIO COUTO CLEMENTE",
                      "PROS"
                    ],
                    [
                      "DEJAIR DIAS DA SILVA",
                      "PDT"
                    ],
                    [
                      "DENILCE JOSEFINA NICOLA",
                      "AGIR"
                    ],
                    [
                      "DENILSON MIOTTO",
                      "PTB"
                    ],
                    [
                      "DIENES PEREIRA DE SOUZA",
                      "PRTB"
                    ],
                    [
                      "DIJAIR DE JESUS ALMEIDA",
                      "PDT"
                    ],
                    [
                      "DIMITRI SEAN RIBEIRO CARNEIRO",
                      "PDT"
                    ],
                    [
                      "DURVAL LOPES ORLATO",
                      "PROS"
                    ],
                    [
                      "EDER DIAS MASCARENHAS",
                      "AGIR"
                    ],
                    [
                      "EDER SOLDERA BORGHETTI",
                      "AGIR"
                    ],
                    [
                      "EDIMARCOS FERREIRA DA SILVA",
                      "PROS"
                    ],
                    [
                      "EDINALDO ANTÔNIO DO CARMO",
                      "PMN"
                    ],
                    [
                      "EDIVALDO CORREIA DE OLIVEIRA",
                      "DC"
                    ],
                    [
                      "EDJANE LIMA DE AZEVEDO",
                      "PROS"
                    ],
                    [
                      "EDSON FAGUNDES DE OLIVEIRA",
                      "PMB"
                    ],
                    [
                      "EDUARDO CAMILO TERRA DOS SANTOS",
                      "PCB"
                    ],
                    [
                      "EDUARDO COSENTINO DA CUNHA",
                      "PTB"
                    ],
                    [
                      "EDUARDO DIAS REAL",
                      "PCB"
                    ],
                    [
                      "EDUARDO SIVINSKI",
                      "AVANTE"
                    ],
                    [
                      "EDUARDO VALERIANO DOS SANTOS",
                      "PATRIOTA"
                    ],
                    [
                      "EDVALDO DE OLIVEIRA PAULA",
                      "PATRIOTA"
                    ],
                    [
                      "EDVALDO RANZANI CARLOS",
                      "AGIR"
                    ],
                    [
                      "ELIANA GALVÃO DIAS",
                      "PRTB"
                    ],
                    [
                      "ELIANA OLIVEIRA DE LIMA",
                      "AGIR"
                    ],
                    [
                      "ELIANE CRISTINA CAMARGO",
                      "AVANTE"
                    ],
                    [
                      "ELIANE CRISTINA GANZAROLI DA SILVA",
                      "AGIR"
                    ],
                    [
                      "ELIAS ARACATI PAIVA",
                      "AVANTE"
                    ],
                    [
                      "ELIAS ASSIS NETO",
                      "AVANTE"
                    ],
                    [
                      "ELIAS TADEU NOGUEIRA DE OLIVEIRA",
                      "PMB"
                    ],
                    [
                      "ELIMARA LOTERIO DA SILVA DIAS",
                      "PMN"
                    ],
                    [
                      "ELISA CLAUDIA COUTINHO",
                      "AVANTE"
                    ],
                    [
                      "ELISANGELA BRITO DO NASCIMENTO",
                      "PMN"
                    ],
                    [
                      "ELISANGELA JOVANA DOS SANTOS",
                      "PATRIOTA"
                    ],
                    [
                      "ELISANGELA MARIA FERREIRA",
                      "PRTB"
                    ],
                    [
                      "ELISANGELA VIEIRA FERREIRA",
                      "PATRIOTA"
                    ],
                    [
                      "ELIVALDO NOGUEIRA CHAVES",
                      "PMN"
                    ],
                    [
                      "ELIZA MURATORI DE SOUZA",
                      "PRTB"
                    ],
                    [
                      "ELIZANGELA MOREIRA SOARES DE SOUZA",
                      "PMN"
                    ],
                    [
                      "ELTON HUGO NEGRINI",
                      "PRTB"
                    ],
                    [
                      "ELZA ALVES DE CARVALHO",
                      "PDT"
                    ],
                    [
                      "EMANOEL DE CARVALHO MOURA",
                      "AVANTE"
                    ],
                    [
                      "EMERSON LUIZ DA CRUZ",
                      "PATRIOTA"
                    ],
                    [
                      "EMERSON VIRGILIO VENANCIO",
                      "AGIR"
                    ],
                    [
                      "ERICA CRISTINA ROCHA GORGA",
                      "PATRIOTA"
                    ],
                    [
                      "ERICK JOSÉ ELOI DO NASCIMENTO",
                      "PDT"
                    ],
                    [
                      "ERICO ROMÃO DE VILLALBA ALVIM",
                      "PROS"
                    ],
                    [
                      "ERNESTO BENEDITO NÓBILE",
                      "AVANTE"
                    ],
                    [
                      "EUCLYDES DIAS BUCHLER",
                      "AVANTE"
                    ],
                    [
                      "EZEQUIEL SOUZA DE SÁ",
                      "PRTB"
                    ],
                    [
                      "FABIANA OLIVEIRA DA SILVA",
                      "AVANTE"
                    ],
                    [
                      "FABIO BLANES",
                      "AVANTE"
                    ],
                    [
                      "FABIO DE VASCONCELOS LIMA",
                      "AGIR"
                    ],
                    [
                      "FABRICIO DE CARVALHO SILVA",
                      "PATRIOTA"
                    ],
                    [
                      "FELICIANO NAHIMY FILHO",
                      "PATRIOTA"
                    ],
                    [
                      "FELIPE AUGUSTO TEDESCHI LINTZ",
                      "PATRIOTA"
                    ],
                    [
                      "FERNANDA ALVES SILVA",
                      "PATRIOTA"
                    ],
                    [
                      "FERNANDO BELCHIOR DIAS",
                      "PATRIOTA"
                    ],
                    [
                      "FERNANDO CHIARELLI",
                      "PATRIOTA"
                    ],
                    [
                      "FLAVIA FERREIRA DO PRADO",
                      "PATRIOTA"
                    ],
                    [
                      "FLAVIANE MENESES AQUINO",
                      "PTB"
                    ],
                    [
                      "FLAVIO ROBERTO CASIMIRO",
                      "AGIR"
                    ],
                    [
                      "FLAVIO SILVA DE FREITAS",
                      "PATRIOTA"
                    ],
                    [
                      "FLAVIUS COTAIT RUGGIERO",
                      "PRTB"
                    ],
                    [
                      "FLÁVIO DOS SANTOS ALECRIM",
                      "PMN"
                    ],
                    [
                      "FRANCIELLE LUZIA DE SOUZA DURAN",
                      "PMN"
                    ],
                    [
                      "FRANCISCA SILVA SERRA MATIAS",
                      "AVANTE"
                    ],
                    [
                      "FRANCISCO ALVES DA SILVA",
                      "AVANTE"
                    ],
                    [
                      "FRANCISCO JOSÉ DA CRUZ FILHO",
                      "PMN"
                    ],
                    [
                      "FÁBIO DE ARAÚJO PATUSSO",
                      "PMN"
                    ],
                    [
                      "FÁBIO SARTORI MANFRINATO",
                      "PATRIOTA"
                    ],
                    [
                      "FÁBIO SILVA MOREIRA",
                      "PDT"
                    ],
                    [
                      "FÁTIMA MAGALHÃES DE OLIVEIRA",
                      "AVANTE"
                    ],
                    [
                      "GABRIEL HENRIQUE MARUCCI",
                      "PCB"
                    ],
                    [
                      "GABRIELA GUERRERO ARIONE",
                      "PSTU"
                    ],
                    [
                      "GEFFERSON LUIS DE SOUSA ROSA",
                      "AVANTE"
                    ],
                    [
                      "GENERSON JOSE FAUSTINO",
                      "PROS"
                    ],
                    [
                      "GERALDO JERÔNIMO GONÇALVES",
                      "PDT"
                    ],
                    [
                      "GILBERTO MACHADO DE OLIVEIRA MARQUES",
                      "AVANTE"
                    ],
                    [
                      "GILBERTO SILVA LIMA",
                      "AGIR"
                    ],
                    [
                      "GILMAR APARECIDO RODRIGUES",
                      "PATRIOTA"
                    ],
                    [
                      "GILSON DE SOUZA CARVALHO",
                      "PDT"
                    ],
                    [
                      "GILVANDRO JOSÉ ALVES DE OLIVEIRA FILHO",
                      "PDT"
                    ],
                    [
                      "GIOVANI FALCONE DE CRISTO ALVES",
                      "PRTB"
                    ],
                    [
                      "GISELDA MÁXIMO DE LIMA",
                      "AVANTE"
                    ],
                    [
                      "GLAUCE KELLY DOS SANTOS ADÃO LIMA",
                      "PDT"
                    ],
                    [
                      "GLAUCIA MAXIMO DOS SANTOS",
                      "PATRIOTA"
                    ],
                    [
                      "GLÁUCIA ASSUNÇÃO DE OLIVEIRA",
                      "PMN"
                    ],
                    [
                      "GONZAGA MENDES DE OLIVEIRA",
                      "AGIR"
                    ],
                    [
                      "GREICE NAOMI YAMAGUCHI",
                      "PROS"
                    ],
                    [
                      "GUILHERME SORICILLO BUNGER",
                      "PTB"
                    ],
                    [
                      "GUSTAVO MARTINS PICCOLO",
                      "PDT"
                    ],
                    [
                      "HAROLDO LOUZADA DE MAGALHÃES VIANA",
                      "PATRIOTA"
                    ],
                    [
                      "HEITOR ALVES",
                      "PDT"
                    ],
                    [
                      "HELOIZA RAVASQ DA SILVA",
                      "PMN"
                    ],
                    [
                      "HELTON MICHAEL LEITE FERREIRA",
                      "PMN"
                    ],
                    [
                      "HERMES RODRIGUES NERY",
                      "PRTB"
                    ],
                    [
                      "HOMERO DE GIORGE CERQUEIRA",
                      "PROS"
                    ],
                    [
                      "HUGO GOMES PAIVA",
                      "PTB"
                    ],
                    [
                      "HÉLIO TELES ALVES",
                      "PMN"
                    ],
                    [
                      "IARA REGINA CORRÊA GUSMÃO",
                      "AVANTE"
                    ],
                    [
                      "IRIS MARIA BARROS DE BRITO",
                      "AGIR"
                    ],
                    [
                      "ISABEL ALINE ROSA",
                      "PMB"
                    ],
                    [
                      "ISIS MUSTAFÁ DE ASSIS",
                      "UP"
                    ],
                    [
                      "ITALO LORENZON NETO",
                      "PTB"
                    ],
                    [
                      "IVAN RICARDO GARISIO SARTORI",
                      "AVANTE"
                    ],
                    [
                      "IVANDA MARIA RODRIGUES COSTA",
                      "PMN"
                    ],
                    [
                      "IZADORA CRISTINA DIAS DA SILVA",
                      "PCO"
                    ],
                    [
                      "JACKSON HENRIQUE DE SOUZA",
                      "PATRIOTA"
                    ],
                    [
                      "JACQUELINE MOREIRA DOS SANTOS ALMEIDA",
                      "AVANTE"
                    ],
                    [
                      "JAIR GOMES DA SILVA",
                      "PTB"
                    ],
                    [
                      "JANAÍNA VALÉRIA BUCKER RIEDO",
                      "PRTB"
                    ],
                    [
                      "JENNIFER ADRIELI CERQUEIRA LEITE LOPES",
                      "AGIR"
                    ],
                    [
                      "JESSICA PASCOAL ALVES",
                      "PRTB"
                    ],
                    [
                      "JESSICA VILOCANIA SEVERINO",
                      "PATRIOTA"
                    ],
                    [
                      "JOARLEY MOISES ALVES DOS SANTOS",
                      "PTB"
                    ],
                    [
                      "JOEL ANTONIO DE MELLO",
                      "PTB"
                    ],
                    [
                      "JOEL DE MELO",
                      "AVANTE"
                    ],
                    [
                      "JONAS AUGUSTO MIGUEL MACHADO",
                      "AGIR"
                    ],
                    [
                      "JONATHAN PEREIRA DE SOUZA",
                      "PMN"
                    ],
                    [
                      "JORGE AUGUSTO FIGO PESSOA",
                      "PDT"
                    ],
                    [
                      "JORGE EDUARDO RUBIES",
                      "AVANTE"
                    ],
                    [
                      "JOSE CARLOS FERREIRA BARBOSA",
                      "PTB"
                    ],
                    [
                      "JOSE CICERO DE OLIVEIRA",
                      "AGIR"
                    ],
                    [
                      "JOSE MANOEL DE LIRA FILHO",
                      "AGIR"
                    ],
                    [
                      "JOSÉ ALFREDO GARCIA DOS SANTOS",
                      "PRTB"
                    ],
                    [
                      "JOSÉ ANTONIO DE GÓES FILHO",
                      "PATRIOTA"
                    ],
                    [
                      "JOSÉ AUGUSTINHO DOS SANTOS",
                      "AGIR"
                    ],
                    [
                      "JOSÉ AUGUSTO BARBOSA DA SILVA",
                      "PMN"
                    ],
                    [
                      "JOSÉ AUGUSTO FERREIRA",
                      "DC"
                    ],
                    [
                      "JOSÉ DE CASTRO COIMBRA",
                      "AVANTE"
                    ],
                    [
                      "JOSÉ DOMINGOS BITTENCOURT",
                      "AVANTE"
                    ],
                    [
                      "JOSÉ EDINALDO DE OLIVEIRA",
                      "PATRIOTA"
                    ],
                    [
                      "JOSÉ EDMILSON FERREIRA DOS SANTOS",
                      "AVANTE"
                    ],
                    [
                      "JOSÉ EDVALDO BRITO",
                      "AVANTE"
                    ],
                    [
                      "JOSÉ MAURO SOUZA DA SILVA",
                      "PMN"
                    ],
                    [
                      "JOSÉ ROBERTO DE CASTRO",
                      "PATRIOTA"
                    ],
                    [
                      "JOSÉ VASCONCELO VIANA",
                      "PMN"
                    ],
                    [
                      "JOÃO FRANCISCO GARCIA",
                      "PMN"
                    ],
                    [
                      "JOÃO JORGE CAPRONI COSTA PIMENTA",
                      "PCO"
                    ],
                    [
                      "JOÃO ROBERTO DE SOUZA",
                      "DC"
                    ],
                    [
                      "JOÃO ROBERTO TRINDADE",
                      "PRTB"
                    ],
                    [
                      "JULIANA PINTO GONÇALVES",
                      "PTB"
                    ],
                    [
                      "JULIANA VALÉRIA DA SILVA",
                      "AVANTE"
                    ],
                    [
                      "JULIANO TAKESHI KOCHI",
                      "AGIR"
                    ],
                    [
                      "JUNIA CRISTINA LEME MACEDO",
                      "PTB"
                    ],
                    [
                      "JURACY FRANCISCO DE JESUS",
                      "AGIR"
                    ],
                    [
                      "JURANDIR PEREIRA ALENCAR",
                      "PTB"
                    ],
                    [
                      "KATHERINE DO FORTE SILVA",
                      "PMB"
                    ],
                    [
                      "KELLY PIRES FREITAS",
                      "AGIR"
                    ],
                    [
                      "KERIN DA ROCHA SILVA PEREIRA",
                      "PRTB"
                    ],
                    [
                      "LAUDERICO SARTORATTO",
                      "PRTB"
                    ],
                    [
                      "LEA MARIA DE SALES CUNHA",
                      "PMB"
                    ],
                    [
                      "LEANDRO AUGUSTO DO AMARAL",
                      "PATRIOTA"
                    ],
                    [
                      "LEANDRO CSEIMAN DOURADO",
                      "PDT"
                    ],
                    [
                      "LEANDRO PAGGIARO CORREA DE ARRUDA",
                      "PCO"
                    ],
                    [
                      "LEANDRO RUIVO",
                      "PRTB"
                    ],
                    [
                      "LEANDRO VITOR AFONSO DA SILVA VERONEZ",
                      "PRTB"
                    ],
                    [
                      "LEILSON CASTRO DOS SANTOS",
                      "PRTB"
                    ],
                    [
                      "LEONARDO DE ASSIS FERREIRA",
                      "PRTB"
                    ],
                    [
                      "LILIANE NUNES DE CARVALHO DOS SANTOS",
                      "AGIR"
                    ],
                    [
                      "LINCOLN PEREIRA FERNANDES",
                      "PDT"
                    ],
                    [
                      "LINDINALVA DO CARMO LIMA",
                      "PDT"
                    ],
                    [
                      "LISIA SAKAI",
                      "PCO"
                    ],
                    [
                      "LOURIVALDO DELFINO",
                      "PATRIOTA"
                    ],
                    [
                      "LUANA TRINDADE DA SILVA",
                      "AVANTE"
                    ],
                    [
                      "LUCIANA CUNHA",
                      "PATRIOTA"
                    ],
                    [
                      "LUCIANA PAULA VALENTIM",
                      "PATRIOTA"
                    ],
                    [
                      "LUCIANA RIBEIRO CASTELLAN",
                      "PTB"
                    ],
                    [
                      "LUCIANE SANDRA CAMBUIM",
                      "AGIR"
                    ],
                    [
                      "LUCIANO LEMOS MEGA",
                      "AVANTE"
                    ],
                    [
                      "LUCIANO MOURA DA SILVA",
                      "PDT"
                    ],
                    [
                      "LUCIANO UBIRAJARA NASSAR",
                      "AGIR"
                    ],
                    [
                      "LUCINEIA FERREIRA SANTOS COSTA",
                      "PDT"
                    ],
                    [
                      "LUIS ROSAS JUNIOR",
                      "PROS"
                    ],
                    [
                      "LUIZ CARLOS RAMOS ARRUDA DA SILVA",
                      "AGIR"
                    ],
                    [
                      "LUIZ DE ALBUQUERQUE FERREIRA",
                      "PATRIOTA"
                    ],
                    [
                      "LUIZ EDUARDO DAMASCENO",
                      "PRTB"
                    ],
                    [
                      "LUIZ FRANCISCO TEIXEIRA",
                      "PTB"
                    ],
                    [
                      "LUIZA FAUSTINO PEREIRA PARI",
                      "AVANTE"
                    ],
                    [
                      "LÉA PICELLI",
                      "DC"
                    ],
                    [
                      "MANOEL DOS SANTOS SILVA IRMAO",
                      "AGIR"
                    ],
                    [
                      "MARCEL BRASIL DE SOUZA MOURA",
                      "DC"
                    ],
                    [
                      "MARCELLO FERREIRA DOS SANTOS",
                      "PSTU"
                    ],
                    [
                      "MARCELO CESAR TORRES RUBI",
                      "PRTB"
                    ],
                    [
                      "MARCELO FRANCISCO DE LACERDA",
                      "PMN"
                    ],
                    [
                      "MARCELO ROBERTO PAOLILLO MARTINS",
                      "PROS"
                    ],
                    [
                      "MARCELO RODRIGUES JUNIOR",
                      "PATRIOTA"
                    ],
                    [
                      "MARCELO ROSSI DOS SANTOS",
                      "PTB"
                    ],
                    [
                      "MARCIA BUENO DA SILVA",
                      "PTB"
                    ],
                    [
                      "MARCIA HELENA BARROS BENEDITO",
                      "DC"
                    ],
                    [
                      "MARCIA REGINA ALVES GONCALVES",
                      "PTB"
                    ],
                    [
                      "MARCIA VALERIA MARQUES LOPES SAQUETO",
                      "PATRIOTA"
                    ],
                    [
                      "MARCILIO DUARTE LIMA",
                      "PTB"
                    ],
                    [
                      "MARCIONILIO CAMARGO DOS SANTOS",
                      "PRTB"
                    ],
                    [
                      "MARCO ANTONIO FONTEBASSO",
                      "PROS"
                    ],
                    [
                      "MARCO ANTÔNIO FACCAS",
                      "PDT"
                    ],
                    [
                      "MARCOS ANTONIO LELIS MOREIRA",
                      "AVANTE"
                    ],
                    [
                      "MARCOS DA COSTA",
                      "AVANTE"
                    ],
                    [
                      "MARCOS DE BARROS GABRIEL",
                      "AGIR"
                    ],
                    [
                      "MARCOS JULIANO FERREIRA",
                      "PATRIOTA"
                    ],
                    [
                      "MARCOS PARAÍSO DA SILVA",
                      "PRTB"
                    ],
                    [
                      "MARCOS ROBERTO DIAS DE OLIVEIRA",
                      "PRTB"
                    ],
                    [
                      "MARCOS ROBERTO DOS SANTOS",
                      "PTB"
                    ],
                    [
                      "MARCOS VINICIUS LUZ GIANNONI",
                      "PMB"
                    ],
                    [
                      "MARIA APARECIDA DE SOUZA MARQUES",
                      "PMN"
                    ],
                    [
                      "MARIA AUXILIADORA DE SOUSA",
                      "PRTB"
                    ],
                    [
                      "MARIA CELESTE JUSTA",
                      "PTB"
                    ],
                    [
                      "MARIA CONCEIÇÃO FRANCO DELFINO",
                      "PMB"
                    ],
                    [
                      "MARIA EMILIA GADELHA SERRA",
                      "PRTB"
                    ],
                    [
                      "MARIA GIOVANA LUCHIARI PISONI DUARTE FORTUNATO",
                      "PDT"
                    ],
                    [
                      "MARIA JOAQUINA DOS SANTOS",
                      "PDT"
                    ],
                    [
                      "MARIA JOSE DE SOUZA",
                      "PTB"
                    ],
                    [
                      "MARIA JULIA SARAIVA DE CARVALHO",
                      "PCB"
                    ],
                    [
                      "MARIA LÚCIA BRESSANE CRUZ",
                      "AVANTE"
                    ],
                    [
                      "MARIA MIRTES LOPES DA SILVA CAMELO",
                      "AGIR"
                    ],
                    [
                      "MARIA PAULA BARROS DE OLIVEIRA",
                      "DC"
                    ],
                    [
                      "MARIA PAULA MILLEN BARCELLOS",
                      "AGIR"
                    ],
                    [
                      "MARIA RACHEL OLIVEIRA BONFIM",
                      "PROS"
                    ],
                    [
                      "MARIA REGINA MENDES FERREIRA",
                      "PDT"
                    ],
                    [
                      "MARIA ROSA GUSMÃO RODRIGUES",
                      "PATRIOTA"
                    ],
                    [
                      "MARIANA FRAGOSO WATANABE",
                      "PSTU"
                    ],
                    [
                      "MARIO JOSE DE SOUZA",
                      "AGIR"
                    ],
                    [
                      "MARIO VIGGIANI NETO",
                      "PRTB"
                    ],
                    [
                      "MARLENE MARIA RAMOS",
                      "PATRIOTA"
                    ],
                    [
                      "MARTA DIAS FELIX",
                      "PDT"
                    ],
                    [
                      "MARTA MARIA FERREIRA ARAÚJO",
                      "AVANTE"
                    ],
                    [
                      "MATHEUS GARCIA MOREIRA",
                      "PROS"
                    ],
                    [
                      "MAURICIO JOSÉ LEMOS FREIRE",
                      "AVANTE"
                    ],
                    [
                      "MAXWELL TEODORO MARIANEK ALVES",
                      "PCB"
                    ],
                    [
                      "MICHAEL DELLA TORRE NETO",
                      "PTB"
                    ],
                    [
                      "MICHEL ARAUJO SILVA FIGUEREDO",
                      "PATRIOTA"
                    ],
                    [
                      "MIGUEL ANDERSON HEREDIA DE SÁ",
                      "PTB"
                    ],
                    [
                      "MIGUEL GOMES FERNANDES",
                      "PMN"
                    ],
                    [
                      "MIRIAN LEE",
                      "PMB"
                    ],
                    [
                      "MOACIR RODRIGUES FERNANDES",
                      "AGIR"
                    ],
                    [
                      "MONIQUE FERNANDES MACHADO",
                      "DC"
                    ],
                    [
                      "MUNIR WAHHAB",
                      "PTB"
                    ],
                    [
                      "MÁRIO ALVES DA SILVA FILHO",
                      "PDT"
                    ],
                    [
                      "MÔNICA DE OLIVEIRA LOURENÇO VELOSO",
                      "PDT"
                    ],
                    [
                      "NATANAEL RODRIGUES DE PAULA",
                      "AGIR"
                    ],
                    [
                      "NATÁLIA ROBERTA MASSI SOLERA",
                      "AVANTE"
                    ],
                    [
                      "NEFI ANTONIO CASTRO TALES",
                      "PTB"
                    ],
                    [
                      "NELIO FERNANDO DOS REIS",
                      "PTB"
                    ],
                    [
                      "NEUSA ANTONIA PERINO",
                      "PROS"
                    ],
                    [
                      "NILSON JESPERSEN DE OLIVEIRA FRANCO",
                      "PTB"
                    ],
                    [
                      "NISE HITOMI YAMAGUCHI",
                      "PROS"
                    ],
                    [
                      "NOILTON SILVESTRE RAMOS",
                      "PATRIOTA"
                    ],
                    [
                      "NORMA ELIZA HIROKO OTANI MORATO",
                      "AVANTE"
                    ],
                    [
                      "ODIMAR BARRETO DOS SANTOS",
                      "PROS"
                    ],
                    [
                      "ORLANDO GALATI",
                      "PTB"
                    ],
                    [
                      "OSMAR BENEDITO PRIANTE",
                      "PTB"
                    ],
                    [
                      "OSMAR DELLA PASCHOA JUNIOR",
                      "PMB"
                    ],
                    [
                      "OSVALDO MACEDO NEGRÃO",
                      "PTB"
                    ],
                    [
                      "PAMELA CHRISTY MESQUITA MUNIZ",
                      "PCB"
                    ],
                    [
                      "PATRICIA SIQUEIRA NERI",
                      "PATRIOTA"
                    ],
                    [
                      "PATRÍCIA MARIA DA SILVA",
                      "PATRIOTA"
                    ],
                    [
                      "PATRÍCIA MORA D'AVILA",
                      "PMN"
                    ],
                    [
                      "PAULA DANIELA DE JESUS",
                      "PATRIOTA"
                    ],
                    [
                      "PAULO ATAÍDE ARAÚJO DE SOUSA",
                      "PMN"
                    ],
                    [
                      "PAULO BEZERRA DE MELO",
                      "PCO"
                    ],
                    [
                      "PAULO CEZAR DA SILVA MOURA",
                      "AVANTE"
                    ],
                    [
                      "PAULO DE TARSO NUNES CHIODE",
                      "AVANTE"
                    ],
                    [
                      "PAULO GUILHERMINO DE ARAUJO",
                      "PMB"
                    ],
                    [
                      "PAULO JORGE VALENTIM",
                      "AVANTE"
                    ],
                    [
                      "PAULO PURKYT",
                      "DC"
                    ],
                    [
                      "PAULO ROBERTO ROSENO JUNIOR",
                      "PRTB"
                    ],
                    [
                      "PAULO SUSSUMU KOBAYASHI",
                      "PTB"
                    ],
                    [
                      "PEDRO MAURÍCIO PEREIRA",
                      "PDT"
                    ],
                    [
                      "PRISCILA FERNANDES HOLANDA",
                      "PRTB"
                    ],
                    [
                      "RAFAEL ALBANEZ",
                      "PTB"
                    ],
                    [
                      "RAFAEL ALMEIDA PRADO VALENTIM",
                      "PTB"
                    ],
                    [
                      "RAFAEL ANGELO ABUD",
                      "PATRIOTA"
                    ],
                    [
                      "RAFAEL ANTONIO DE SOUZA",
                      "PDT"
                    ],
                    [
                      "RAFAEL CARLOS LABIAPARI GOMES",
                      "PATRIOTA"
                    ],
                    [
                      "RAIMUNDO NONATO PEREIRA DOS SANTOS",
                      "PRTB"
                    ],
                    [
                      "REGINALDO BELARMINO DA SILVA",
                      "PRTB"
                    ],
                    [
                      "REINALDO ADRIANO DO CARMO",
                      "PMN"
                    ],
                    [
                      "REINALDO GUIMARÃES MOTA",
                      "PATRIOTA"
                    ],
                    [
                      "RENATO BENEDUCI ASSAD",
                      "PSTU"
                    ],
                    [
                      "RENATO BESCHIZZA VALENTIN",
                      "PCB"
                    ],
                    [
                      "RENATO DO NASCIMENTO",
                      "PRTB"
                    ],
                    [
                      "RENATO FERREIRA DA SILVA",
                      "PATRIOTA"
                    ],
                    [
                      "RENATO KOGA CERQUEIRA",
                      "PRTB"
                    ],
                    [
                      "RENE ROSA",
                      "AGIR"
                    ],
                    [
                      "REYNALDO CAMPANATTI PEREIRA",
                      "AGIR"
                    ],
                    [
                      "RICARDO DE DEUS ANDRADE",
                      "AGIR"
                    ],
                    [
                      "RICARDO DUREGGER",
                      "PROS"
                    ],
                    [
                      "RICARDO FASSIO CAVALCANTE CUNHA",
                      "AGIR"
                    ],
                    [
                      "RICARDO PEREIRA DO CARMO",
                      "PROS"
                    ],
                    [
                      "RIVALDO DOS SANTOS SILVA",
                      "PCO"
                    ],
                    [
                      "ROBERTA CRISTINA RONCADA GASPAR",
                      "PTB"
                    ],
                    [
                      "ROBERTO SELMER JÚNIOR",
                      "DC"
                    ],
                    [
                      "ROBERVAL BARBOSA DE JESUS",
                      "AGIR"
                    ],
                    [
                      "ROBSON DE LIMA",
                      "AGIR"
                    ],
                    [
                      "ROBSON INACIO GOMES",
                      "AGIR"
                    ],
                    [
                      "RODRIGO PIERNAS ANDOLFATO",
                      "PTB"
                    ],
                    [
                      "RODRIGO TAVARES DA SILVA",
                      "PRTB"
                    ],
                    [
                      "ROGERIO STRACIALANO PARADA",
                      "PRTB"
                    ],
                    [
                      "ROGÉRIO BATTISTETTI MARTINS RODRIGUES",
                      "AVANTE"
                    ],
                    [
                      "ROGÉRIO DE JESUS PAES",
                      "AVANTE"
                    ],
                    [
                      "RONALDO PEREIRA COSTA",
                      "PATRIOTA"
                    ],
                    [
                      "RONALDO RESENDE DA SILVA",
                      "AVANTE"
                    ],
                    [
                      "ROSELI DE PAULA SILVA DE SOUZA",
                      "AVANTE"
                    ],
                    [
                      "ROSEMEIRE MARTINS DE CARVALHO",
                      "PTB"
                    ],
                    [
                      "ROSEMEIRE SANTIAGO",
                      "PRTB"
                    ],
                    [
                      "ROSINETE DA SILVA MOREIRA",
                      "PTB"
                    ],
                    [
                      "RUBENS DE ALMEIDA",
                      "AVANTE"
                    ],
                    [
                      "RUBENS NUSQUE JUNIOR",
                      "PTB"
                    ],
                    [
                      "RUTE APARECIDA LEITE RIPARI",
                      "PDT"
                    ],
                    [
                      "RUZINON SILVA",
                      "PATRIOTA"
                    ],
                    [
                      "SANDERSON RIBEIRO CORREIA DE LIMA",
                      "PRTB"
                    ],
                    [
                      "SANDRO FERREIRA DE SOUZA",
                      "PMN"
                    ],
                    [
                      "SEBASTIAO FARIAS PAIVA",
                      "PDT"
                    ],
                    [
                      "SELMA RODRIGUES DANTAS MUNHOZ",
                      "PTB"
                    ],
                    [
                      "SERGIO KHODOR CURY",
                      "PATRIOTA"
                    ],
                    [
                      "SERGIO ZULMIRO LITHOLDO",
                      "PROS"
                    ],
                    [
                      "SEVERINO DE OLIVEIRA MELO",
                      "AGIR"
                    ],
                    [
                      "SILAS ALVES FEITOSA",
                      "PRTB"
                    ],
                    [
                      "SILVANA MENK PINTO",
                      "PTB"
                    ],
                    [
                      "SILVIA HELENA BUENDIA",
                      "PRTB"
                    ],
                    [
                      "SILVIO FELIX DA SILVA",
                      "UNIÃO"
                    ],
                    [
                      "SILVIO NIVALDO",
                      "AVANTE"
                    ],
                    [
                      "SILVIO ROMERO DE MAGALHAES LEITE",
                      "PTB"
                    ],
                    [
                      "SIMONE CRISTINA SOUZA",
                      "PCO"
                    ],
                    [
                      "SINVAL MALHEIROS PINTO JUNIOR",
                      "PATRIOTA"
                    ],
                    [
                      "SIONEIA APARECIDA DE MELLO",
                      "AGIR"
                    ],
                    [
                      "SOLANGE APARECIDA FERREIRA DOS SANTOS",
                      "AGIR"
                    ],
                    [
                      "SOLANGE DE SOUZA",
                      "PMN"
                    ],
                    [
                      "SOLANGE ELIZABETH DOS SANTOS DORTA",
                      "PDT"
                    ],
                    [
                      "SONILDA SOARES CONSTANTINO DE OLIVEIRA",
                      "PMN"
                    ],
                    [
                      "STELA MARIA ATANÁZIO",
                      "DC"
                    ],
                    [
                      "SUELI DOS SANTOS SILVA BARBOSA",
                      "AGIR"
                    ],
                    [
                      "SUZANA PIROZI ADERNE",
                      "PMN"
                    ],
                    [
                      "SYLVIO MALHEIRO JUNIOR",
                      "PTB"
                    ],
                    [
                      "SÉRGIO AUGUSTO SILVA",
                      "PATRIOTA"
                    ],
                    [
                      "TASSIO RENAM SOUZA BOTELHO",
                      "PROS"
                    ],
                    [
                      "TERESINHA DE CARVALHO",
                      "PATRIOTA"
                    ],
                    [
                      "THAIS ALBERTINA DA CRUZ",
                      "PRTB"
                    ],
                    [
                      "THAIS RABELLO SILVA",
                      "PSTU"
                    ],
                    [
                      "THEREZA CHRISTINA FARIA LIMA",
                      "PATRIOTA"
                    ],
                    [
                      "THIAGO JOSÉ ISOLA",
                      "AVANTE"
                    ],
                    [
                      "TIAGO DOS SANTOS LIRA",
                      "PATRIOTA"
                    ],
                    [
                      "TIAGO PIRES",
                      "PCO"
                    ],
                    [
                      "TIAGO SOUZA GUEDES",
                      "PRTB"
                    ],
                    [
                      "TIOKI OGUSUKA",
                      "PATRIOTA"
                    ],
                    [
                      "UBIRATAN FIM MENDES",
                      "AVANTE"
                    ],
                    [
                      "ULISSES HENRIQUE MATIAS COSTA",
                      "PATRIOTA"
                    ],
                    [
                      "VAGNER BERTI",
                      "PTB"
                    ],
                    [
                      "VALDEMAR SILVA",
                      "PTB"
                    ],
                    [
                      "VALDIR ANTONIO MASSUCATO",
                      "PATRIOTA"
                    ],
                    [
                      "VANESSA ARAUJO",
                      "PDT"
                    ],
                    [
                      "VILMA MARQUES RIBEIRO",
                      "PRTB"
                    ],
                    [
                      "VITOR LEONARDO SANTOS VARCILIO",
                      "PATRIOTA"
                    ],
                    [
                      "VIVIANE BERGAMO MORGERO",
                      "PTB"
                    ],
                    [
                      "WAGNER BARBOSA",
                      "AVANTE"
                    ],
                    [
                      "WAGNER TADEU SILVA PRADO",
                      "PTB"
                    ],
                    [
                      "WALDEMIR APARECIDO SOARES JUNIOR",
                      "PSTU"
                    ],
                    [
                      "WASHINGTON LUIZ BEZERRA DA SILVA",
                      "PRTB"
                    ],
                    [
                      "WELDER DOUGLAS DA SILVA",
                      "PTB"
                    ],
                    [
                      "WELLER PEREIRA GONÇALVES",
                      "PSTU"
                    ],
                    [
                      "WELLINGTON MACEDO DE SOUZA",
                      "PTB"
                    ],
                    [
                      "WESLEY LEONARDO CEZAR",
                      "PDT"
                    ],
                    [
                      "WILKY ANDRADE OKAGAWA",
                      "AGIR"
                    ],
                    [
                      "WILLIAM DE SOUZA SILVA",
                      "AVANTE"
                    ],
                    [
                      "WILSON CALDEIRA PAIVA",
                      "PDT"
                    ],
                    [
                      "WILSON KEIITI HAYASHIDA",
                      "PRTB"
                    ],
                    [
                      "YARA DE SOUZA LIMA",
                      "PMN"
                    ],
                    [
                      "ÉLCIO GUSSON",
                      "PMN"
                    ]
                  ],
                  "hovertemplate": "Situação totalização=Não Eleito<br>Valor de receita=%{x}<br>Votos nominais=%{y}<br>Nome candidato=%{customdata[0]}<br>Partido=%{customdata[1]}<extra></extra>",
                  "legendgroup": "Não Eleito",
                  "marker": {
                    "color": "#636efa",
                    "symbol": "circle"
                  },
                  "mode": "markers",
                  "name": "Não Eleito",
                  "showlegend": true,
                  "type": "scattergl",
                  "x": [
                    135935.01,
                    125881.36,
                    5000,
                    2822.09,
                    2822.09,
                    31200,
                    48798.85,
                    140641.6,
                    137845,
                    100000,
                    1558444.62,
                    110225,
                    450.15,
                    9071.05,
                    187364.77,
                    20000,
                    2822.09,
                    5000,
                    26000,
                    2000,
                    66839.79000000001,
                    25000,
                    10000,
                    33000,
                    2174990.77,
                    2822.09,
                    15215,
                    20000,
                    49131.7,
                    191828.9,
                    56739.9,
                    172045,
                    15000,
                    6058.68,
                    2822.09,
                    50000,
                    34912,
                    75000,
                    1356156,
                    13150,
                    80000,
                    44000,
                    11324.810000000001,
                    4362.09,
                    20000,
                    84016.15,
                    50596.14,
                    15000,
                    5967.45,
                    2822.09,
                    55648.9,
                    65,
                    20000,
                    20650,
                    2822.09,
                    30000,
                    242789.79,
                    700,
                    50000,
                    102416.7,
                    10261.759999999998,
                    5000,
                    1554166.5,
                    106259.4,
                    1801,
                    70000,
                    202739.66999999998,
                    1411,
                    121000,
                    39000,
                    61456.369999999995,
                    103300,
                    30000,
                    21711,
                    11974.36,
                    4000,
                    10000,
                    13286.75,
                    12000,
                    2877000,
                    21691.75,
                    10000,
                    20000,
                    50000,
                    165000,
                    155108,
                    15000,
                    31550,
                    22822.09,
                    15000,
                    336368.4,
                    5000,
                    75000,
                    20000,
                    10000,
                    50021.95,
                    13222.09,
                    20000,
                    109000,
                    813000,
                    30000,
                    30000,
                    2661.5,
                    30000,
                    13959.04,
                    250000,
                    120,
                    970,
                    2170878.49,
                    2263,
                    736842,
                    19545.9,
                    18478.9,
                    8044.4,
                    19714.45,
                    25000,
                    3500,
                    12000,
                    4000,
                    255791.75,
                    11600,
                    30000,
                    234247.75,
                    30000,
                    105969.67,
                    2822.09,
                    26839.79,
                    25000,
                    2822.09,
                    35000,
                    4032.09,
                    5000,
                    25550,
                    20008.9,
                    10000,
                    759680,
                    40850,
                    30000,
                    39230.35,
                    19445,
                    2822.09,
                    26911.760000000002,
                    15510,
                    5000,
                    60000,
                    503358.9,
                    375008.91,
                    126839.79000000001,
                    100000,
                    256358.9,
                    35964.79,
                    65000,
                    30000,
                    294872.26,
                    27222.09,
                    30000,
                    20000,
                    18906.75,
                    17911.95,
                    15000,
                    15000,
                    695318.9,
                    40000,
                    63431.75,
                    850,
                    5801.7,
                    45455.45,
                    340,
                    20000,
                    31416.75,
                    5000,
                    14703.9,
                    20000,
                    33000,
                    2822.09,
                    26506.75,
                    50000,
                    124592.82,
                    20000,
                    10000,
                    200000,
                    36710,
                    50000,
                    74408.9,
                    118000,
                    30000,
                    30000,
                    2822.09,
                    750000,
                    30000,
                    30000,
                    10000,
                    13500,
                    460,
                    44463.34,
                    26500,
                    1042081.75,
                    20000,
                    11974.36,
                    89828.9,
                    69384.23,
                    20000,
                    2822.09,
                    5000,
                    2822.09,
                    200539.79,
                    15137.16,
                    10000,
                    13136.75,
                    5000.03,
                    40000,
                    20000,
                    235485.05,
                    5000,
                    5000,
                    5000,
                    2822.09,
                    375413.9,
                    17953,
                    20000,
                    10261.759999999998,
                    229501.75,
                    1470705.27,
                    113338.9,
                    21361.75,
                    1140721.75,
                    30000,
                    402118.9,
                    25000,
                    300000,
                    11974.36,
                    10261.759999999998,
                    4622.09,
                    120000,
                    224521.75,
                    5000.05,
                    80000,
                    54000,
                    25000,
                    500,
                    10066,
                    5864.47,
                    2822.09,
                    150,
                    90181.7,
                    521916.95,
                    11974.36,
                    5924.450000000001,
                    2822.09,
                    2822.09,
                    87822.09,
                    100632.5,
                    308000,
                    50000,
                    11974.36,
                    78353.9,
                    20216.75,
                    43409.79,
                    155874.79,
                    60000,
                    5950,
                    371576.75,
                    20000,
                    5000,
                    35100,
                    30000,
                    10000,
                    128681.7,
                    2822.09,
                    20000,
                    10670.25,
                    13797.240000000002,
                    5000,
                    9071.05,
                    21972.18,
                    3022.09,
                    25000,
                    32280,
                    81673.9,
                    15721.95,
                    25000,
                    17797.24,
                    30000,
                    33689.79,
                    25000,
                    2822.09,
                    8950,
                    20000,
                    90501.75,
                    262752.55,
                    5000,
                    275778.9,
                    2822.09,
                    2822.09,
                    10000,
                    19966.7,
                    30000,
                    5864.47,
                    35000,
                    1967,
                    99605.78,
                    1775775.41,
                    101500,
                    35000,
                    1200,
                    10000,
                    5000,
                    13797.240000000002,
                    10000,
                    25000,
                    30000,
                    34689.79,
                    5394.32,
                    5000,
                    14727.470000000001,
                    70904.79000000001,
                    10000,
                    13996.75,
                    3462.8,
                    138030.03,
                    1690,
                    25000,
                    134681.4,
                    20000,
                    30000,
                    4000,
                    10000,
                    5000,
                    20000,
                    100000,
                    401381.18,
                    5000,
                    5000,
                    25605,
                    50000,
                    351599.19,
                    100000,
                    550285,
                    212281.4,
                    15016.75,
                    300000,
                    1180,
                    19600,
                    31280,
                    15000,
                    2098.31,
                    35154.79,
                    14474.79,
                    25000,
                    40964.79,
                    30000,
                    11974.36,
                    12000,
                    166000,
                    2150,
                    4500,
                    9571.04,
                    17822.09,
                    60000,
                    10000,
                    5864.47,
                    25943.39,
                    25000,
                    13953.9,
                    20252.99,
                    33953.9,
                    2822.09,
                    5864.47,
                    25000,
                    100000,
                    5211.2,
                    1735,
                    15822.09,
                    470968.9,
                    4000,
                    10265.01,
                    50000,
                    5000,
                    1650,
                    10000,
                    111000,
                    11974.36,
                    10050,
                    4839.94,
                    11500.06,
                    5200,
                    20000,
                    68812,
                    2316.3,
                    16776.22,
                    42938.75,
                    18906.75,
                    8883.9,
                    25500,
                    9690,
                    106725,
                    3272.09,
                    15000,
                    627960,
                    77250,
                    11034.9,
                    20578.9,
                    2822.09,
                    20000,
                    20000,
                    10000,
                    19828.9,
                    111500,
                    5000,
                    73988.3,
                    10000,
                    6464.47,
                    921141.73,
                    14436.75,
                    37500,
                    11974.36,
                    335926.7,
                    10000,
                    5000,
                    20000,
                    5000,
                    25000,
                    13812.78,
                    5000,
                    20000,
                    190850,
                    331236,
                    90.96,
                    667822.39,
                    2822.09,
                    5286.93,
                    65339.79,
                    4000,
                    86201.41,
                    11974.36,
                    2822.09,
                    125778.9,
                    72786.75,
                    18291.7,
                    10000,
                    50000,
                    372271.7,
                    10000,
                    5864.47,
                    153313.9,
                    10000,
                    91671.25,
                    106500,
                    10524.64,
                    2822.09,
                    62355,
                    80680.22,
                    225000,
                    137018.14,
                    5000,
                    38951.75,
                    736826.76,
                    3472.09,
                    20000,
                    20000
                  ],
                  "xaxis": "x",
                  "y": [
                    4057,
                    1002,
                    313,
                    244,
                    392,
                    634,
                    2786,
                    861,
                    510,
                    3130,
                    91485,
                    2945,
                    220,
                    488,
                    702,
                    254,
                    46,
                    187,
                    297,
                    65,
                    319,
                    88,
                    974,
                    1051,
                    20081,
                    251,
                    267,
                    69,
                    21114,
                    1180,
                    9106,
                    4485,
                    1055,
                    478,
                    42,
                    547,
                    568,
                    775,
                    24721,
                    569,
                    5796,
                    2295,
                    488,
                    132,
                    162,
                    511,
                    1990,
                    64,
                    4498,
                    87,
                    1226,
                    120,
                    402,
                    1581,
                    185,
                    427,
                    2041,
                    359,
                    723,
                    698,
                    176,
                    142,
                    4660,
                    6336,
                    137,
                    432,
                    475,
                    1676,
                    5531,
                    290,
                    667,
                    580,
                    632,
                    678,
                    177,
                    675,
                    389,
                    626,
                    1140,
                    6730,
                    88,
                    333,
                    222,
                    76,
                    1520,
                    9492,
                    93,
                    2676,
                    443,
                    23,
                    12527,
                    43,
                    189,
                    566,
                    580,
                    575,
                    1340,
                    1847,
                    6626,
                    6331,
                    931,
                    878,
                    232,
                    630,
                    202,
                    1116,
                    596,
                    522,
                    5044,
                    866,
                    43557,
                    678,
                    1133,
                    216,
                    800,
                    169,
                    293,
                    321,
                    1296,
                    8671,
                    3265,
                    26,
                    3447,
                    140,
                    546,
                    216,
                    216,
                    1128,
                    131,
                    233,
                    2382,
                    863,
                    2532,
                    91,
                    620,
                    12538,
                    1979,
                    54,
                    565,
                    2242,
                    666,
                    748,
                    2888,
                    163,
                    1050,
                    9049,
                    21533,
                    274,
                    2350,
                    3373,
                    144,
                    1059,
                    307,
                    5825,
                    229,
                    279,
                    84,
                    334,
                    743,
                    202,
                    59,
                    6865,
                    1051,
                    1362,
                    728,
                    218,
                    1300,
                    37,
                    462,
                    564,
                    339,
                    1447,
                    1055,
                    1032,
                    391,
                    776,
                    109,
                    764,
                    197,
                    282,
                    279,
                    1486,
                    8084,
                    2697,
                    6192,
                    460,
                    570,
                    6481,
                    893,
                    186,
                    196,
                    154,
                    376,
                    107,
                    21017,
                    4619,
                    25779,
                    429,
                    237,
                    1080,
                    1343,
                    488,
                    101,
                    183,
                    128,
                    1168,
                    5605,
                    186,
                    728,
                    133,
                    231,
                    817,
                    404,
                    62,
                    225,
                    282,
                    53,
                    791,
                    575,
                    358,
                    499,
                    2433,
                    22840,
                    1209,
                    251,
                    8321,
                    65,
                    3157,
                    80,
                    3594,
                    1121,
                    275,
                    92,
                    1301,
                    923,
                    552,
                    1311,
                    834,
                    740,
                    148,
                    131,
                    92,
                    159,
                    43,
                    3223,
                    12573,
                    44,
                    140,
                    92,
                    183,
                    2349,
                    1880,
                    7701,
                    2327,
                    203,
                    558,
                    351,
                    423,
                    490,
                    896,
                    339,
                    6928,
                    203,
                    69,
                    1503,
                    623,
                    207,
                    1001,
                    176,
                    555,
                    259,
                    74,
                    230,
                    219,
                    1256,
                    652,
                    260,
                    110,
                    339,
                    7612,
                    264,
                    59,
                    1408,
                    147,
                    207,
                    224,
                    234,
                    594,
                    6664,
                    6482,
                    201,
                    21908,
                    1512,
                    265,
                    98,
                    1011,
                    100,
                    197,
                    289,
                    362,
                    14131,
                    32932,
                    5874,
                    380,
                    606,
                    291,
                    126,
                    890,
                    1101,
                    65,
                    184,
                    255,
                    132,
                    329,
                    4253,
                    259,
                    313,
                    293,
                    210,
                    2575,
                    509,
                    975,
                    6264,
                    614,
                    301,
                    552,
                    289,
                    87,
                    756,
                    1563,
                    11546,
                    132,
                    262,
                    749,
                    2155,
                    417,
                    826,
                    36690,
                    5756,
                    403,
                    903,
                    923,
                    1316,
                    591,
                    2246,
                    506,
                    701,
                    302,
                    256,
                    127,
                    460,
                    169,
                    309,
                    7600,
                    112,
                    663,
                    164,
                    559,
                    3393,
                    1957,
                    276,
                    1429,
                    2250,
                    196,
                    977,
                    536,
                    139,
                    324,
                    117,
                    619,
                    477,
                    558,
                    327,
                    21007,
                    539,
                    608,
                    2031,
                    66,
                    544,
                    673,
                    127,
                    76,
                    161,
                    225,
                    844,
                    189,
                    469,
                    6644,
                    1168,
                    2560,
                    440,
                    375,
                    120,
                    1966,
                    177,
                    1187,
                    683,
                    220,
                    14944,
                    3750,
                    1523,
                    255,
                    141,
                    40,
                    569,
                    826,
                    167,
                    1681,
                    148,
                    3799,
                    318,
                    273,
                    9345,
                    439,
                    1442,
                    109,
                    21519,
                    389,
                    152,
                    104,
                    653,
                    60,
                    247,
                    198,
                    219,
                    2691,
                    6201,
                    8,
                    3970,
                    7,
                    245,
                    647,
                    2266,
                    1231,
                    307,
                    584,
                    3105,
                    413,
                    3690,
                    557,
                    2656,
                    8046,
                    2285,
                    307,
                    8518,
                    201,
                    1570,
                    9009,
                    744,
                    736,
                    3196,
                    1995,
                    1118,
                    41054,
                    51,
                    875,
                    29713,
                    203,
                    93,
                    259
                  ],
                  "yaxis": "y"
                },
                {
                  "hovertemplate": "<b>OLS trendline</b><br>Votos nominais = 0.0133745 * Valor de receita + 1070.72<br>R<sup>2</sup>=0.317488<br><br>Situação totalização=Não Eleito<br>Valor de receita=%{x}<br>Votos nominais=%{y} <b>(trend)</b><extra></extra>",
                  "legendgroup": "Não Eleito",
                  "marker": {
                    "color": "#636efa",
                    "symbol": "circle"
                  },
                  "mode": "lines",
                  "name": "Não Eleito",
                  "showlegend": false,
                  "type": "scattergl",
                  "x": [
                    65,
                    90.96,
                    120,
                    150,
                    340,
                    450.15,
                    460,
                    500,
                    700,
                    850,
                    970,
                    1180,
                    1200,
                    1411,
                    1650,
                    1690,
                    1735,
                    1801,
                    1967,
                    2000,
                    2098.31,
                    2150,
                    2263,
                    2316.3,
                    2661.5,
                    2822.09,
                    2822.09,
                    2822.09,
                    2822.09,
                    2822.09,
                    2822.09,
                    2822.09,
                    2822.09,
                    2822.09,
                    2822.09,
                    2822.09,
                    2822.09,
                    2822.09,
                    2822.09,
                    2822.09,
                    2822.09,
                    2822.09,
                    2822.09,
                    2822.09,
                    2822.09,
                    2822.09,
                    2822.09,
                    2822.09,
                    2822.09,
                    2822.09,
                    2822.09,
                    2822.09,
                    3022.09,
                    3272.09,
                    3462.8,
                    3472.09,
                    3500,
                    4000,
                    4000,
                    4000,
                    4000,
                    4000,
                    4032.09,
                    4362.09,
                    4500,
                    4622.09,
                    4839.94,
                    5000,
                    5000,
                    5000,
                    5000,
                    5000,
                    5000,
                    5000,
                    5000,
                    5000,
                    5000,
                    5000,
                    5000,
                    5000,
                    5000,
                    5000,
                    5000,
                    5000,
                    5000,
                    5000,
                    5000,
                    5000,
                    5000,
                    5000,
                    5000,
                    5000,
                    5000.03,
                    5000.05,
                    5200,
                    5211.2,
                    5286.93,
                    5394.32,
                    5801.7,
                    5864.47,
                    5864.47,
                    5864.47,
                    5864.47,
                    5864.47,
                    5924.450000000001,
                    5950,
                    5967.45,
                    6058.68,
                    6464.47,
                    8044.4,
                    8883.9,
                    8950,
                    9071.05,
                    9071.05,
                    9571.04,
                    9690,
                    10000,
                    10000,
                    10000,
                    10000,
                    10000,
                    10000,
                    10000,
                    10000,
                    10000,
                    10000,
                    10000,
                    10000,
                    10000,
                    10000,
                    10000,
                    10000,
                    10000,
                    10000,
                    10000,
                    10000,
                    10000,
                    10000,
                    10050,
                    10066,
                    10261.759999999998,
                    10261.759999999998,
                    10261.759999999998,
                    10265.01,
                    10524.64,
                    10670.25,
                    11034.9,
                    11324.810000000001,
                    11500.06,
                    11600,
                    11974.36,
                    11974.36,
                    11974.36,
                    11974.36,
                    11974.36,
                    11974.36,
                    11974.36,
                    11974.36,
                    11974.36,
                    12000,
                    12000,
                    12000,
                    13136.75,
                    13150,
                    13222.09,
                    13286.75,
                    13500,
                    13797.240000000002,
                    13797.240000000002,
                    13812.78,
                    13953.9,
                    13959.04,
                    13996.75,
                    14436.75,
                    14474.79,
                    14703.9,
                    14727.470000000001,
                    15000,
                    15000,
                    15000,
                    15000,
                    15000,
                    15000,
                    15000,
                    15000,
                    15016.75,
                    15137.16,
                    15215,
                    15510,
                    15721.95,
                    15822.09,
                    16776.22,
                    17797.24,
                    17822.09,
                    17911.95,
                    17953,
                    18291.7,
                    18478.9,
                    18906.75,
                    18906.75,
                    19445,
                    19545.9,
                    19600,
                    19714.45,
                    19828.9,
                    19966.7,
                    20000,
                    20000,
                    20000,
                    20000,
                    20000,
                    20000,
                    20000,
                    20000,
                    20000,
                    20000,
                    20000,
                    20000,
                    20000,
                    20000,
                    20000,
                    20000,
                    20000,
                    20000,
                    20000,
                    20000,
                    20000,
                    20000,
                    20000,
                    20000,
                    20000,
                    20000,
                    20000,
                    20008.9,
                    20216.75,
                    20252.99,
                    20578.9,
                    20650,
                    21361.75,
                    21691.75,
                    21711,
                    21972.18,
                    22822.09,
                    25000,
                    25000,
                    25000,
                    25000,
                    25000,
                    25000,
                    25000,
                    25000,
                    25000,
                    25000,
                    25000,
                    25000,
                    25000,
                    25000,
                    25500,
                    25550,
                    25605,
                    25943.39,
                    26000,
                    26500,
                    26506.75,
                    26839.79,
                    26911.760000000002,
                    27222.09,
                    30000,
                    30000,
                    30000,
                    30000,
                    30000,
                    30000,
                    30000,
                    30000,
                    30000,
                    30000,
                    30000,
                    30000,
                    30000,
                    30000,
                    30000,
                    30000,
                    30000,
                    30000,
                    30000,
                    30000,
                    30000,
                    31200,
                    31280,
                    31416.75,
                    31550,
                    32280,
                    33000,
                    33000,
                    33689.79,
                    33953.9,
                    34689.79,
                    34912,
                    35000,
                    35000,
                    35000,
                    35100,
                    35154.79,
                    35964.79,
                    36710,
                    37500,
                    38951.75,
                    39000,
                    39230.35,
                    40000,
                    40000,
                    40850,
                    40964.79,
                    42938.75,
                    43409.79,
                    44000,
                    44463.34,
                    45455.45,
                    48798.85,
                    49131.7,
                    50000,
                    50000,
                    50000,
                    50000,
                    50000,
                    50000,
                    50000,
                    50000,
                    50000,
                    50021.95,
                    50596.14,
                    54000,
                    55648.9,
                    56739.9,
                    60000,
                    60000,
                    60000,
                    61456.369999999995,
                    62355,
                    63431.75,
                    65000,
                    65339.79,
                    66839.79000000001,
                    68812,
                    69384.23,
                    70000,
                    70904.79000000001,
                    72786.75,
                    73988.3,
                    74408.9,
                    75000,
                    75000,
                    77250,
                    78353.9,
                    80000,
                    80000,
                    80680.22,
                    81673.9,
                    84016.15,
                    86201.41,
                    87822.09,
                    89828.9,
                    90181.7,
                    90501.75,
                    91671.25,
                    99605.78,
                    100000,
                    100000,
                    100000,
                    100000,
                    100000,
                    100632.5,
                    101500,
                    102416.7,
                    103300,
                    105969.67,
                    106259.4,
                    106500,
                    106725,
                    109000,
                    110225,
                    111000,
                    111500,
                    113338.9,
                    118000,
                    120000,
                    121000,
                    124592.82,
                    125778.9,
                    125881.36,
                    126839.79000000001,
                    128681.7,
                    134681.4,
                    135935.01,
                    137018.14,
                    137845,
                    138030.03,
                    140641.6,
                    153313.9,
                    155108,
                    155874.79,
                    165000,
                    166000,
                    172045,
                    187364.77,
                    190850,
                    191828.9,
                    200000,
                    200539.79,
                    202739.66999999998,
                    212281.4,
                    224521.75,
                    225000,
                    229501.75,
                    234247.75,
                    235485.05,
                    242789.79,
                    250000,
                    255791.75,
                    256358.9,
                    262752.55,
                    275778.9,
                    294872.26,
                    300000,
                    300000,
                    308000,
                    331236,
                    335926.7,
                    336368.4,
                    351599.19,
                    371576.75,
                    372271.7,
                    375008.91,
                    375413.9,
                    401381.18,
                    402118.9,
                    470968.9,
                    503358.9,
                    521916.95,
                    550285,
                    627960,
                    667822.39,
                    695318.9,
                    736826.76,
                    736842,
                    750000,
                    759680,
                    813000,
                    921141.73,
                    1042081.75,
                    1140721.75,
                    1356156,
                    1470705.27,
                    1554166.5,
                    1558444.62,
                    1775775.41,
                    2170878.49,
                    2174990.77,
                    2877000
                  ],
                  "xaxis": "x",
                  "y": [
                    1071.5848523678494,
                    1071.9320549814515,
                    1072.3204511254812,
                    1072.7216868114622,
                    1075.262846156008,
                    1076.7360498497014,
                    1076.8677888999318,
                    1077.402769814573,
                    1080.0776743877793,
                    1082.0838528176841,
                    1083.688795561608,
                    1086.4974453634745,
                    1086.7649358207952,
                    1089.5869601455279,
                    1092.7834711105095,
                    1093.3184520251507,
                    1093.920305554122,
                    1094.8030240632802,
                    1097.0231948590415,
                    1097.4645541136204,
                    1098.77940345658,
                    1099.4707325435252,
                    1100.9820536273867,
                    1101.6949156961462,
                    1106.3118009895004,
                    1108.4596156165562,
                    1108.4596156165562,
                    1108.4596156165562,
                    1108.4596156165562,
                    1108.4596156165562,
                    1108.4596156165562,
                    1108.4596156165562,
                    1108.4596156165562,
                    1108.4596156165562,
                    1108.4596156165562,
                    1108.4596156165562,
                    1108.4596156165562,
                    1108.4596156165562,
                    1108.4596156165562,
                    1108.4596156165562,
                    1108.4596156165562,
                    1108.4596156165562,
                    1108.4596156165562,
                    1108.4596156165562,
                    1108.4596156165562,
                    1108.4596156165562,
                    1108.4596156165562,
                    1108.4596156165562,
                    1108.4596156165562,
                    1108.4596156165562,
                    1108.4596156165562,
                    1108.4596156165562,
                    1111.1345201897625,
                    1114.4781509062705,
                    1117.0288061620513,
                    1117.1530554794767,
                    1117.5263384126677,
                    1124.2135998456836,
                    1124.2135998456836,
                    1124.2135998456836,
                    1124.2135998456836,
                    1124.2135998456836,
                    1124.6427882844544,
                    1129.056380830245,
                    1130.9008612786993,
                    1132.5337567754132,
                    1135.447396581778,
                    1137.588122711715,
                    1137.588122711715,
                    1137.588122711715,
                    1137.588122711715,
                    1137.588122711715,
                    1137.588122711715,
                    1137.588122711715,
                    1137.588122711715,
                    1137.588122711715,
                    1137.588122711715,
                    1137.588122711715,
                    1137.588122711715,
                    1137.588122711715,
                    1137.588122711715,
                    1137.588122711715,
                    1137.588122711715,
                    1137.588122711715,
                    1137.588122711715,
                    1137.588122711715,
                    1137.588122711715,
                    1137.588122711715,
                    1137.588122711715,
                    1137.588122711715,
                    1137.588122711715,
                    1137.588122711715,
                    1137.588523947401,
                    1137.5887914378584,
                    1140.2630272849215,
                    1140.4128219410209,
                    1141.4256745576654,
                    1142.8619645682486,
                    1148.3104776934126,
                    1149.1499964937134,
                    1149.1499964937134,
                    1149.1499964937134,
                    1149.1499964937134,
                    1149.1499964937134,
                    1149.952200375218,
                    1150.293919434445,
                    1150.5273048584572,
                    1151.7474625795253,
                    1157.1747102133322,
                    1178.3055201250615,
                    1189.533432071095,
                    1190.4174880325397,
                    1192.0364740254727,
                    1192.0364740254727,
                    1198.7236017132598,
                    1200.314634953403,
                    1204.4607370418728,
                    1204.4607370418728,
                    1204.4607370418728,
                    1204.4607370418728,
                    1204.4607370418728,
                    1204.4607370418728,
                    1204.4607370418728,
                    1204.4607370418728,
                    1204.4607370418728,
                    1204.4607370418728,
                    1204.4607370418728,
                    1204.4607370418728,
                    1204.4607370418728,
                    1204.4607370418728,
                    1204.4607370418728,
                    1204.4607370418728,
                    1204.4607370418728,
                    1204.4607370418728,
                    1204.4607370418728,
                    1204.4607370418728,
                    1204.4607370418728,
                    1204.4607370418728,
                    1205.1294631851742,
                    1205.3434555510307,
                    1207.9616521472851,
                    1207.9616521472851,
                    1207.9616521472851,
                    1208.0051193465997,
                    1211.4775467183076,
                    1213.4250109928303,
                    1218.3020307559289,
                    1222.17943868002,
                    1224.523323812292,
                    1225.8599736275232,
                    1230.8668600076508,
                    1230.8668600076508,
                    1230.8668600076508,
                    1230.8668600076508,
                    1230.8668600076508,
                    1230.8668600076508,
                    1230.8668600076508,
                    1230.8668600076508,
                    1230.8668600076508,
                    1231.2097827739358,
                    1231.2097827739358,
                    1231.2097827739358,
                    1246.4132716418972,
                    1246.590484069872,
                    1247.5546534232842,
                    1248.419450071802,
                    1251.271567072983,
                    1255.2470102496823,
                    1255.2470102496823,
                    1255.4548503350204,
                    1257.342263001875,
                    1257.4110080494063,
                    1257.9153613066842,
                    1263.8001513677382,
                    1264.308918217562,
                    1267.3731551513986,
                    1267.688392655351,
                    1271.3333513720304,
                    1271.3333513720304,
                    1271.3333513720304,
                    1271.3333513720304,
                    1271.3333513720304,
                    1271.3333513720304,
                    1271.3333513720304,
                    1271.3333513720304,
                    1271.5573746300365,
                    1273.1678009283353,
                    1274.2088737882273,
                    1278.1543580337066,
                    1280.9890881551619,
                    1282.3284128749663,
                    1295.089446377133,
                    1308.7451017138085,
                    1309.0774586070293,
                    1310.279293231771,
                    1310.8283173954214,
                    1315.3582682901465,
                    1317.8619789706677,
                    1323.5842685788991,
                    1323.5842685788991,
                    1330.7831055115407,
                    1332.1325948687231,
                    1332.8561565557754,
                    1334.3868706977928,
                    1335.9175848398102,
                    1337.7605940907492,
                    1338.2059657021882,
                    1338.2059657021882,
                    1338.2059657021882,
                    1338.2059657021882,
                    1338.2059657021882,
                    1338.2059657021882,
                    1338.2059657021882,
                    1338.2059657021882,
                    1338.2059657021882,
                    1338.2059657021882,
                    1338.2059657021882,
                    1338.2059657021882,
                    1338.2059657021882,
                    1338.2059657021882,
                    1338.2059657021882,
                    1338.2059657021882,
                    1338.2059657021882,
                    1338.2059657021882,
                    1338.2059657021882,
                    1338.2059657021882,
                    1338.2059657021882,
                    1338.2059657021882,
                    1338.2059657021882,
                    1338.2059657021882,
                    1338.2059657021882,
                    1338.2059657021882,
                    1338.2059657021882,
                    1338.3249989556957,
                    1341.1048935334004,
                    1341.5895862420655,
                    1345.9484769893338,
                    1346.8994055651087,
                    1356.4187222150065,
                    1360.832314760797,
                    1361.089774325968,
                    1364.582932208118,
                    1375.950072937187,
                    1405.0785800323458,
                    1405.0785800323458,
                    1405.0785800323458,
                    1405.0785800323458,
                    1405.0785800323458,
                    1405.0785800323458,
                    1405.0785800323458,
                    1405.0785800323458,
                    1405.0785800323458,
                    1405.0785800323458,
                    1405.0785800323458,
                    1405.0785800323458,
                    1405.0785800323458,
                    1405.0785800323458,
                    1411.7658414653615,
                    1412.4345676086632,
                    1413.1701663662948,
                    1417.6959711589313,
                    1418.4531028983774,
                    1425.1403643313931,
                    1425.2306423607388,
                    1429.6848934560421,
                    1430.6474578667103,
                    1434.7979735477259,
                    1471.9511943625034,
                    1471.9511943625034,
                    1471.9511943625034,
                    1471.9511943625034,
                    1471.9511943625034,
                    1471.9511943625034,
                    1471.9511943625034,
                    1471.9511943625034,
                    1471.9511943625034,
                    1471.9511943625034,
                    1471.9511943625034,
                    1471.9511943625034,
                    1471.9511943625034,
                    1471.9511943625034,
                    1471.9511943625034,
                    1471.9511943625034,
                    1471.9511943625034,
                    1471.9511943625034,
                    1471.9511943625034,
                    1471.9511943625034,
                    1471.9511943625034,
                    1488.0006218017413,
                    1489.070583631024,
                    1490.8995496329537,
                    1492.6817048048524,
                    1502.4451064970553,
                    1512.074762960598,
                    1512.074762960598,
                    1521.3003750883581,
                    1524.8327203225056,
                    1534.6748979543895,
                    1537.6468506804504,
                    1538.8238086926613,
                    1538.8238086926613,
                    1538.8238086926613,
                    1540.1612609792644,
                    1540.8940510870943,
                    1551.7274146085797,
                    1561.694242793575,
                    1572.26011585774,
                    1591.6765794285013,
                    1592.3219001567873,
                    1595.4027214989778,
                    1605.6964230228189,
                    1605.6964230228189,
                    1617.0647674589457,
                    1618.6000289387375,
                    1645.0008020953692,
                    1651.3007373461846,
                    1659.194514486945,
                    1665.3914659116922,
                    1678.6604637923106,
                    1723.3768435426005,
                    1727.8285534785591,
                    1739.4416516831343,
                    1739.4416516831343,
                    1739.4416516831343,
                    1739.4416516831343,
                    1739.4416516831343,
                    1739.4416516831343,
                    1739.4416516831343,
                    1739.4416516831343,
                    1739.4416516831343,
                    1739.7352224600436,
                    1747.4147397444904,
                    1792.9397431472603,
                    1814.99299390106,
                    1829.5845983479003,
                    1873.1868803434495,
                    1873.1868803434495,
                    1873.1868803434495,
                    1892.6651342098519,
                    1904.683881692954,
                    1919.0848991889534,
                    1940.0594946736073,
                    1944.604023798256,
                    1964.6658080973036,
                    1991.0431758389195,
                    1998.6964790585487,
                    2006.9321090037652,
                    2019.0332435477217,
                    2044.2035606006784,
                    2060.2737185503584,
                    2065.8990428678117,
                    2073.8047233339225,
                    2073.8047233339225,
                    2103.8973997824937,
                    2118.661535574306,
                    2140.6773376640804,
                    2140.6773376640804,
                    2149.7749556080125,
                    2163.0649514895304,
                    2194.3914276724927,
                    2223.6182375107173,
                    2245.294059229237,
                    2272.1341854620177,
                    2276.8527171291535,
                    2281.133233172427,
                    2296.774737664251,
                    2402.8952905804645,
                    2408.1677949847112,
                    2408.1677949847112,
                    2408.1677949847112,
                    2408.1677949847112,
                    2408.1677949847112,
                    2416.6271806974764,
                    2428.2295792837585,
                    2440.4900043950493,
                    2452.3037204426155,
                    2488.0092829023733,
                    2491.884283412349,
                    2495.102193613916,
                    2498.1114612587735,
                    2528.538500778995,
                    2544.9222912898836,
                    2555.2875465110583,
                    2561.9748079440737,
                    2586.5692180424194,
                    2648.909206573279,
                    2675.658252305342,
                    2689.0327751713735,
                    2737.085028414909,
                    2752.9482824958513,
                    2754.3186361087055,
                    2767.137180059196,
                    2791.771847471368,
                    2872.014972310697,
                    2888.7814079207833,
                    2903.267754872668,
                    2914.326612849675,
                    2916.8013008155767,
                    2951.7298034968185,
                    3121.21576961203,
                    3145.211001085977,
                    3155.466451474422,
                    3277.511781276761,
                    3290.8863041427926,
                    3371.735294867953,
                    3576.6299090352973,
                    3623.2431973636762,
                    3636.3355177972344,
                    3745.620081587865,
                    3752.83951528572,
                    3782.261860648245,
                    3909.8779467147447,
                    4073.586787677974,
                    4079.9831532386534,
                    4140.191911550811,
                    4203.667397072997,
                    4220.215694215138,
                    4317.913106375552,
                    4414.346224889442,
                    4491.80811769878,
                    4499.39347834225,
                    4584.905496464652,
                    4759.126712400583,
                    5014.491292309955,
                    5083.0723681910185,
                    5083.0723681910185,
                    5190.068551119271,
                    5500.838964434381,
                    5563.574838842074,
                    5569.482365592001,
                    5773.1869147147245,
                    6040.377247742241,
                    6049.671872407991,
                    6086.280750142119,
                    6091.697298157635,
                    6438.997278286279,
                    6448.863931295007,
                    7369.699830621279,
                    7802.90062625204,
                    8051.105690325996,
                    8430.514823715723,
                    9469.380887334723,
                    10002.52133388439,
                    10370.274035615454,
                    10925.42185830549,
                    10925.625686033969,
                    11101.607657905211,
                    11231.073039248397,
                    11944.202598465197,
                    13390.546639122407,
                    15008.061702030718,
                    16327.324637536069,
                    19208.654940287423,
                    20740.696771189643,
                    21856.95090025176,
                    21914.168714015388,
                    24820.864334363083,
                    30105.179512262577,
                    30160.1792951541,
                    39549.217793954296
                  ],
                  "yaxis": "y"
                },
                {
                  "customdata": [
                    [
                      "ADALBERTO FELICIO MALUF FILHO",
                      "PV"
                    ],
                    [
                      "ADAMARIO MAXIMO DOS SANTOS FILHO",
                      "NOVO"
                    ],
                    [
                      "ADELAIDE CASTRO DE OLIVEIRA",
                      "PODE"
                    ],
                    [
                      "ADELINO FRANCISCO DE OLIVEIRA",
                      "PT"
                    ],
                    [
                      "ADEMILSON DA CONCEIÇÃO CUNHA",
                      "REPUBLICANOS"
                    ],
                    [
                      "ADENILSON SILVA ALVES",
                      "MDB"
                    ],
                    [
                      "ADILSON BARROSO OLIVEIRA",
                      "PL"
                    ],
                    [
                      "ADILSON DA SILVA ROZA FILHO",
                      "REPUBLICANOS"
                    ],
                    [
                      "ADILSON DE BRITO FARIAS",
                      "NOVO"
                    ],
                    [
                      "ADILSON DE MEDEIROS PAULINO",
                      "PSC"
                    ],
                    [
                      "ADOLFO TIMOTIO",
                      "REDE"
                    ],
                    [
                      "ADRIANA ALVES DA SILVA RAMALHO",
                      "PSD"
                    ],
                    [
                      "ADRIANA GLEDYS ZINK",
                      "PSDB"
                    ],
                    [
                      "ADRIANO DA COSTA E SILVA",
                      "REPUBLICANOS"
                    ],
                    [
                      "ADRIANO ELI CORREA",
                      "UNIÃO"
                    ],
                    [
                      "ADRIANO GUIMARÃES SIMÕES",
                      "PP"
                    ],
                    [
                      "ADÉRITO CÁSSIO DE ASSIS DUTRA",
                      "PSOL"
                    ],
                    [
                      "AGNALDO CRUZ DE OLIVEIRA",
                      "PSD"
                    ],
                    [
                      "AGOSTINHO FERREIRA GOMES",
                      "PSOL"
                    ],
                    [
                      "AILTON BISPO DOS ANJOS",
                      "PSC"
                    ],
                    [
                      "AIRTON DOS SANTOS",
                      "PP"
                    ],
                    [
                      "ALBERTINO FERREIRA DE OLIVEIRA",
                      "PSOL"
                    ],
                    [
                      "ALCIDES FERNANDES BARBOSA",
                      "MDB"
                    ],
                    [
                      "ALESSANDRA ESQUIVEL PRANDI",
                      "MDB"
                    ],
                    [
                      "ALESSANDRA REGINA VERGILIO",
                      "NOVO"
                    ],
                    [
                      "ALESSANDRO DE FREITAS LEONE",
                      "PSD"
                    ],
                    [
                      "ALESSANDRO RUIZ MARTINEZ",
                      "PSD"
                    ],
                    [
                      "ALESSANDRO SONEGO DE ALMEIDA",
                      "PODE"
                    ],
                    [
                      "ALESSANDRO TADEU DAMIN",
                      "PODE"
                    ],
                    [
                      "ALEX DOS REIS",
                      "UNIÃO"
                    ],
                    [
                      "ALEX MACEDO DE SOUZA",
                      "UNIÃO"
                    ],
                    [
                      "ALEXANDRE DE ALCANTARA",
                      "PSDB"
                    ],
                    [
                      "ALEXANDRE DONIZETE TEODORO",
                      "PSC"
                    ],
                    [
                      "ALEXANDRE GLUSKOSKI VENEGAS",
                      "PSDB"
                    ],
                    [
                      "ALEXANDRE LUÍS NOBRE TERRERI",
                      "REDE"
                    ],
                    [
                      "ALEXANDRE MANOEL LEME",
                      "UNIÃO"
                    ],
                    [
                      "ALEXANDRE MENDES PINHEIRO",
                      "NOVO"
                    ],
                    [
                      "ALEXIS JOSEPH STEVERLYNCK FONTEYNE",
                      "NOVO"
                    ],
                    [
                      "ALEXSANDRA RIBEIRO RODRIGUES DA SILVA",
                      "PSB"
                    ],
                    [
                      "ALEXSSANDRO BUSSOLA",
                      "PSDB"
                    ],
                    [
                      "ALFREDO ALVES CAVALCANTE",
                      "PT"
                    ],
                    [
                      "ALICE RIBEIRO CORDEIRO DE BARROS",
                      "PSOL"
                    ],
                    [
                      "ALINE CRISTINA DE SOUZA UBIDA",
                      "SOLIDARIEDADE"
                    ],
                    [
                      "ALVARO EXPEDITO JERONYMO",
                      "PSOL"
                    ],
                    [
                      "AMANDA ROSA MARIA SILVA",
                      "SOLIDARIEDADE"
                    ],
                    [
                      "AMILTON AUGUSTO DA SILVA JUNIOR",
                      "PSB"
                    ],
                    [
                      "ANA ALICE FERNANDES DE ALMEIDA",
                      "PODE"
                    ],
                    [
                      "ANA CLAUDIA CARLETTO",
                      "PSDB"
                    ],
                    [
                      "ANA LUIZA HATIKIAN NEGRAO PASSOS",
                      "NOVO"
                    ],
                    [
                      "ANA PAULA JOSÉ EMÍDIO DA SILVA",
                      "PSC"
                    ],
                    [
                      "ANA PAULA TAVARES DE OLIVEIRA GOFFI",
                      "MDB"
                    ],
                    [
                      "ANA PAULA TOSIN",
                      "PSC"
                    ],
                    [
                      "ANA SILVIA GOES DE SOUZA",
                      "PL"
                    ],
                    [
                      "ANDERSON CAVANHA",
                      "PL"
                    ],
                    [
                      "ANDERSON SEVERIANO GOMES",
                      "REDE"
                    ],
                    [
                      "ANDREIA APARECIDA GOMES DE SOUSA FERNANDES",
                      "SOLIDARIEDADE"
                    ],
                    [
                      "ANDREIA VAZ TOSTES IRENTE",
                      "MDB"
                    ],
                    [
                      "ANDRÉ MAXIMILIANO MORON MACHADO",
                      "PSD"
                    ],
                    [
                      "ANDRÉ SACCO JUNIOR",
                      "PSDB"
                    ],
                    [
                      "ANGELA BARBOSA DOS SANTOS",
                      "SOLIDARIEDADE"
                    ],
                    [
                      "ANTONIO ALBERTO MACHADO",
                      "PT"
                    ],
                    [
                      "ANTONIO CARLOS DA MOTTA",
                      "NOVO"
                    ],
                    [
                      "ANTONIO CARLOS DE OLIVEIRA",
                      "PSB"
                    ],
                    [
                      "ANTONIO CARLOS DE SOUZA SANTANA",
                      "PP"
                    ],
                    [
                      "ANTONIO GOULART DOS REIS",
                      "UNIÃO"
                    ],
                    [
                      "ANTONIO PEREIRA DOS SANTOS",
                      "PP"
                    ],
                    [
                      "ANTÔNIO AGNALDO GUERRA",
                      "SOLIDARIEDADE"
                    ],
                    [
                      "ANTÔNIO JOSÉ GERALDO",
                      "PSC"
                    ],
                    [
                      "ANTÔNIO OCILIO VASCONCELOS DA SILVA",
                      "PSOL"
                    ],
                    [
                      "APARECIDA BATISTA DIAS BARRETO DE OLIVEIRA",
                      "PL"
                    ],
                    [
                      "APARECIDO BARBOSA DA SILVA",
                      "PODE"
                    ],
                    [
                      "APARECIDO SARAIVA DA ROCHA",
                      "MDB"
                    ],
                    [
                      "ARIADNA THALIA DA SILVA ARANTES",
                      "PSB"
                    ],
                    [
                      "ARMANDO BEGA",
                      "PL"
                    ],
                    [
                      "ARMANDO FERREIRO RODRIGUES",
                      "MDB"
                    ],
                    [
                      "ARNALDO SALVETTI PALACIO JUNIOR",
                      "MDB"
                    ],
                    [
                      "ARTHUR MARIO PINHEIRO MACHADO",
                      "REPUBLICANOS"
                    ],
                    [
                      "ASTROGILDO CANDIDO DE SOUSA JUNIOR",
                      "SOLIDARIEDADE"
                    ],
                    [
                      "AUGUSTO DE ARRUDA BOTELHO NETO",
                      "PSB"
                    ],
                    [
                      "AUGUSTO EDUARDO VIDAL NETO",
                      "PODE"
                    ],
                    [
                      "AURELIA CINAQUI AMARAL",
                      "PSC"
                    ],
                    [
                      "BARBARA HUYARA DE OLIVEIRA VICTORIANO KOGOS",
                      "REPUBLICANOS"
                    ],
                    [
                      "BENEDITO APARECIDO DA SILVA",
                      "REPUBLICANOS"
                    ],
                    [
                      "BENEDITO ROBERTO ALVES FERREIRA",
                      "REPUBLICANOS"
                    ],
                    [
                      "BIANCA COLEPICOLO",
                      "PP"
                    ],
                    [
                      "BRAZ HENRIQUE TELES",
                      "REDE"
                    ],
                    [
                      "BRUNA KARINI DA SILVA",
                      "NOVO"
                    ],
                    [
                      "BRUNO SCAFFIDI",
                      "PSD"
                    ],
                    [
                      "CAIO AUGUSTO SILVA DOS SANTOS",
                      "UNIÃO"
                    ],
                    [
                      "CAIO JOSÉ CARLOS SILVEIRA GAIANE",
                      "PODE"
                    ],
                    [
                      "CARINA BALBINO CARNEIRO",
                      "PP"
                    ],
                    [
                      "CARLA CRISTINA MASSARO FLORES",
                      "MDB"
                    ],
                    [
                      "CARLOS ALBERTO DE SOUZA",
                      "PL"
                    ],
                    [
                      "CARLOS ALBERTO VEIGA DE QUADROS",
                      "PSC"
                    ],
                    [
                      "CARLOS EDUARDO MARCHESI TROMBINI",
                      "REPUBLICANOS"
                    ],
                    [
                      "CARLOS MINORU ISHIKO",
                      "REPUBLICANOS"
                    ],
                    [
                      "CARLOS PIRES DE LIMA",
                      "PSB"
                    ],
                    [
                      "CAROLINA TAKAYAMA DOS SANTOS",
                      "PP"
                    ],
                    [
                      "CAROLINE DO AMPARO CERQUEIRA",
                      "UNIÃO"
                    ],
                    [
                      "CATIA NUNES DE ABREU",
                      "PL"
                    ],
                    [
                      "CELI REGINA DA CRUZ",
                      "PT"
                    ],
                    [
                      "CELSO HENRIQUE DE OLIVEIRA",
                      "NOVO"
                    ],
                    [
                      "CESAR MAX DE LIMA VIEIRA",
                      "NOVO"
                    ],
                    [
                      "CESAR RICARDO DOS SANTOS FERREIRA",
                      "PSDB"
                    ],
                    [
                      "CHUKS ILOEGBUNAM",
                      "PSDB"
                    ],
                    [
                      "CIBELE FRAGOSO BOTELHO",
                      "PSB"
                    ],
                    [
                      "CIBELE FRANCO NAZARETH",
                      "NOVO"
                    ],
                    [
                      "CICERO ANTONIO DA SILVA",
                      "PSB"
                    ],
                    [
                      "CICERO DE AQUINO",
                      "REPUBLICANOS"
                    ],
                    [
                      "CLAUDETE ALVES DA SILVA",
                      "PT"
                    ],
                    [
                      "CLAUDIA CARRATO GRANDE",
                      "PSD"
                    ],
                    [
                      "CLAUDIA CASTALDELLI CORRÊA",
                      "REPUBLICANOS"
                    ],
                    [
                      "CLAUDIA CRISTINA DA SILVA COSTA",
                      "PSC"
                    ],
                    [
                      "CLAUDIA NERYS DE OLIVEIRA",
                      "PSC"
                    ],
                    [
                      "CLAUDINEI DA ROCHA CORDEIRO",
                      "MDB"
                    ],
                    [
                      "CLAUDIO BISPO",
                      "PT"
                    ],
                    [
                      "CLAUDIO FREITAS",
                      "SOLIDARIEDADE"
                    ],
                    [
                      "CLAUDIO GASPAR DOTTORI",
                      "REDE"
                    ],
                    [
                      "CLAUDIO JOSÉ MACHADO",
                      "PSOL"
                    ],
                    [
                      "CLEBER ARAÚJO BARBOSA",
                      "PODE"
                    ],
                    [
                      "CLEBER DA ROSA MOREIRA",
                      "PP"
                    ],
                    [
                      "CLEBER FERNANDO BERNARDI",
                      "PODE"
                    ],
                    [
                      "CLEBER JACOB",
                      "PSD"
                    ],
                    [
                      "CLEITON FREITAS DE ARAUJO",
                      "PSB"
                    ],
                    [
                      "CLEONICE DE OLIVEIRA",
                      "PL"
                    ],
                    [
                      "CLEUSA RAMOS ZERBINI",
                      "MDB"
                    ],
                    [
                      "CLEUZA BORDIN QUEIROZ DA SILVA",
                      "SOLIDARIEDADE"
                    ],
                    [
                      "CLEVERSON FIUZA ALVES",
                      "NOVO"
                    ],
                    [
                      "CLOVIS BASILIO DOS SANTOS",
                      "UNIÃO"
                    ],
                    [
                      "CLÁUDIA PEREIRA CALDAS",
                      "PP"
                    ],
                    [
                      "CRISTIANE FORSSELL FERRARA FOMIN",
                      "PODE"
                    ],
                    [
                      "CRISTIANE IGNACIO ISIDORO BRAZ",
                      "PL"
                    ],
                    [
                      "CRISTIANE KÁTIA SIMONI ABREU",
                      "PODE"
                    ],
                    [
                      "CRISTIANO MOREIRA PINTO BERALDO",
                      "UNIÃO"
                    ],
                    [
                      "CRISTIANO SALMEIRÃO",
                      "SOLIDARIEDADE"
                    ],
                    [
                      "CRISTINA APARECIDA DOS SANTOS FERNANDES",
                      "PP"
                    ],
                    [
                      "CÉLIA RAMOS DE JESUS FEITOSA",
                      "PSD"
                    ],
                    [
                      "DANIEL AUGUSTO SILVA CURY",
                      "PSB"
                    ],
                    [
                      "DANIEL DE ANDRADE VIEIRA",
                      "PSC"
                    ],
                    [
                      "DANIEL FERNANDO DE SOUZA CAMILO",
                      "REPUBLICANOS"
                    ],
                    [
                      "DANIEL JOSÉ DA SILVA OLIVEIRA",
                      "PODE"
                    ],
                    [
                      "DANIEL MOTTA DE OLIVEIRA",
                      "REPUBLICANOS"
                    ],
                    [
                      "DANIEL NEVES DE FARIA",
                      "MDB"
                    ],
                    [
                      "DANIELA APARECIDA FELIX",
                      "PSB"
                    ],
                    [
                      "DANIELA CURIATI NUCCI",
                      "PSB"
                    ],
                    [
                      "DANIELE LUCI CARDOSO BARBOSA FRANCO",
                      "PSDB"
                    ],
                    [
                      "DANILO DA CUNHA BARBOSA",
                      "NOVO"
                    ],
                    [
                      "DANILO HENRIQUE PEREIRA DAVID",
                      "NOVO"
                    ],
                    [
                      "DANILO MARCO MORGADO SILVA",
                      "SOLIDARIEDADE"
                    ],
                    [
                      "DANILO SILVEIRA RAMOS",
                      "PL"
                    ],
                    [
                      "DANUTTA DE FIGUEIREDO FALCÃO ROSSETO",
                      "REPUBLICANOS"
                    ],
                    [
                      "DAVID ABMAEL DAVID",
                      "PL"
                    ],
                    [
                      "DAVID CARDOSO",
                      "PL"
                    ],
                    [
                      "DAVID DE OLIVEIRA RUFATO",
                      "PSC"
                    ],
                    [
                      "DEBORA ELOISA JUSTINO",
                      "UNIÃO"
                    ],
                    [
                      "DEBORA FARIAS CABRAL",
                      "REPUBLICANOS"
                    ],
                    [
                      "DELBIO CAMARGO TERUEL",
                      "UNIÃO"
                    ],
                    [
                      "DEMERSON DIAS",
                      "PSB"
                    ],
                    [
                      "DENILSON ROCHA ZIROLDO",
                      "PSD"
                    ],
                    [
                      "DENIS EDUARDO ANDIA",
                      "MDB"
                    ],
                    [
                      "DIOGO PEREIRA FORJAZ",
                      "PL"
                    ],
                    [
                      "DIUMIRA CARDOSO DE LIMA",
                      "PODE"
                    ],
                    [
                      "DORIEDSON ANTONIO DA SILVA FREITAS",
                      "REDE"
                    ],
                    [
                      "DOUGLAS DE ARAUJO GIGLIO",
                      "PP"
                    ],
                    [
                      "DOUGLAS DE PAULO VIEGAS",
                      "UNIÃO"
                    ],
                    [
                      "DOUGLAS ELIAS BELCHIOR",
                      "PT"
                    ],
                    [
                      "DOUGLAS GARCIA BISPO DOS SANTOS",
                      "REPUBLICANOS"
                    ],
                    [
                      "DOUGLAS MARTINS IZZO",
                      "PT"
                    ],
                    [
                      "DOUGLAS MELO DE SOUSA",
                      "REPUBLICANOS"
                    ],
                    [
                      "DOUGLAS VIEIRA PRIMO",
                      "NOVO"
                    ],
                    [
                      "DOUGLAS YUGI KOGA",
                      "NOVO"
                    ],
                    [
                      "DULCINEIA LOPES DE OLIVEIRA",
                      "PL"
                    ],
                    [
                      "DYEGO RAFAEL BARBOSA SÉRVOLO",
                      "PSOL"
                    ],
                    [
                      "DÉBORA CRISTINA CHANTRE CARDOSO",
                      "PODE"
                    ],
                    [
                      "ECLAIR PIRES DE SOUZA",
                      "PSB"
                    ],
                    [
                      "EDEVALDO DONIZETTI DE CAMPOS",
                      "REDE"
                    ],
                    [
                      "EDGARD MARCOS GASPAR",
                      "REPUBLICANOS"
                    ],
                    [
                      "EDICARLOS VIEIRA",
                      "PP"
                    ],
                    [
                      "EDILAINE DANIEL CARVALHO",
                      "SOLIDARIEDADE"
                    ],
                    [
                      "EDISON IWAO KURAMOTO",
                      "PSDB"
                    ],
                    [
                      "EDITH FERREIRA DE SOUZA OLIVEIRA",
                      "SOLIDARIEDADE"
                    ],
                    [
                      "EDMILSON DE SOUZA VIEIRA FEITOSA",
                      "MDB"
                    ],
                    [
                      "EDNA APARECIDA OLIVEIRA SANTOS",
                      "MDB"
                    ],
                    [
                      "EDSON COELHO ARAÚJO FILHO",
                      "MDB"
                    ],
                    [
                      "EDSON FERREIRA PONTES",
                      "SOLIDARIEDADE"
                    ],
                    [
                      "EDUARDO DADE SALLUM",
                      "PT"
                    ],
                    [
                      "EDUARDO DE VASCONCELLOS CORREIA ANNUNCIATO",
                      "SOLIDARIEDADE"
                    ],
                    [
                      "EDUARDO JANZON AVALLONE NOGUEIRA",
                      "PODE"
                    ],
                    [
                      "EDUARDO PEDROSA CURY",
                      "PSDB"
                    ],
                    [
                      "EDUARDO SANASSAR FONSECA",
                      "UNIÃO"
                    ],
                    [
                      "EDUARDO VINICIUS VENTURELLI DE ALMEIDA PRANDO",
                      "SOLIDARIEDADE"
                    ],
                    [
                      "EDVAM RAMOS DE SOUZA",
                      "MDB"
                    ],
                    [
                      "ELAINE APARECIDA PEREIRA GOMES",
                      "REPUBLICANOS"
                    ],
                    [
                      "ELAINE CRISTINA DA SILVA",
                      "PP"
                    ],
                    [
                      "ELAINE CRISTINA DO NASCIMENTO",
                      "REPUBLICANOS"
                    ],
                    [
                      "ELAINE CRISTINA GONÇALVES AMORIM",
                      "PSC"
                    ],
                    [
                      "ELAINE DOSOLINA FAVERO",
                      "PSD"
                    ],
                    [
                      "ELAINE SILVEIRA NEVES",
                      "MDB"
                    ],
                    [
                      "ELIANA BERTA FERNANDES CORRAL",
                      "PL"
                    ],
                    [
                      "ELIANA FERNANDES CONCEIÇÃO",
                      "PSD"
                    ],
                    [
                      "ELIANA MARUCCI COSTA MIRANDA",
                      "MDB"
                    ],
                    [
                      "ELIANE DE SOUSA ALVES MACHADO",
                      "REPUBLICANOS"
                    ],
                    [
                      "ELIAS ANTONIO NETO",
                      "UNIÃO"
                    ],
                    [
                      "ELIAS BONFIM AGUIAR DE SOUZA",
                      "REPUBLICANOS"
                    ],
                    [
                      "ELIAS DE SISTO",
                      "PSB"
                    ],
                    [
                      "ELIEL MIRANDA",
                      "PSD"
                    ],
                    [
                      "ELIETE NUNES FERNANDES DA SILVA",
                      "CIDADANIA"
                    ],
                    [
                      "ELIS REGINA VIEIRA RUANO",
                      "PSC"
                    ],
                    [
                      "ELISEU GABRIEL DE PIERI",
                      "PSB"
                    ],
                    [
                      "ELISSANDRO MARCIO SILVA LINDOSO",
                      "PSC"
                    ],
                    [
                      "ELIZARDE DA SILVA SOUSA",
                      "PP"
                    ],
                    [
                      "ELTON FRANCISCO DE BRITO",
                      "PSDB"
                    ],
                    [
                      "EMERSON APARECIDO DOS SANTOS",
                      "REPUBLICANOS"
                    ],
                    [
                      "EMERSON DE ABREU SANTANA",
                      "PT"
                    ],
                    [
                      "EMERSON KAPAZ",
                      "PSD"
                    ],
                    [
                      "ENRICO VAN BLARCUM DE GRAAFF MISASI",
                      "MDB"
                    ],
                    [
                      "ESNAR DONIZETI RIBEIRO LUZ",
                      "REPUBLICANOS"
                    ],
                    [
                      "ESTER LOPES DE SOUZA FLOR",
                      "UNIÃO"
                    ],
                    [
                      "ESTHEFANIA ROBERTA DE OLIVEIRA",
                      "PSOL"
                    ],
                    [
                      "EUCLIDES ROBERTO FERREIRA",
                      "PODE"
                    ],
                    [
                      "EUNICE FATIMA RODRIGUES REBOUÇAS DO NASCIMENTO",
                      "SOLIDARIEDADE"
                    ],
                    [
                      "EVANDRO FONTINELE",
                      "PSB"
                    ],
                    [
                      "FABIANA SOLER DOS SANTOS ANDRADE",
                      "PT"
                    ],
                    [
                      "FABIO CESAR SATO",
                      "MDB"
                    ],
                    [
                      "FABIO DE SALLES MEIRELLES NETO",
                      "UNIÃO"
                    ],
                    [
                      "FABIO DEFOURNY MARTINS",
                      "PSB"
                    ],
                    [
                      "FABIO DIAS DE OLIVEIRA",
                      "UNIÃO"
                    ],
                    [
                      "FABIO ELY RAMOS",
                      "PSB"
                    ],
                    [
                      "FABIO HENRIQUE DA CONCEIÇÃO",
                      "PSD"
                    ],
                    [
                      "FABIO JOSÉ RODRIGUES DE MELLO",
                      "PSOL"
                    ],
                    [
                      "FABIO RENATO DE SOUSA FERREIRA",
                      "NOVO"
                    ],
                    [
                      "FABIO RINALDI MANZANO",
                      "MDB"
                    ],
                    [
                      "FABIO SILVA CALIXTO",
                      "PT"
                    ],
                    [
                      "FABIO SIQUEIRA DIAS",
                      "REPUBLICANOS"
                    ],
                    [
                      "FABIO SOARES DE OLIVEIRA",
                      "PSDB"
                    ],
                    [
                      "FABRES LENE DE AQUINO DELMONDES",
                      "PODE"
                    ],
                    [
                      "FABRICIO DIAS JUNIOR",
                      "MDB"
                    ],
                    [
                      "FARID SAID MADI",
                      "PODE"
                    ],
                    [
                      "FATIMA REGINA PORTELLA OLIVEIRA",
                      "NOVO"
                    ],
                    [
                      "FAUSTO ALVES RAMALHO",
                      "REPUBLICANOS"
                    ],
                    [
                      "FAUSTO SALVADOR PERES",
                      "PODE"
                    ],
                    [
                      "FERNANDA DA SILVA ALVES",
                      "REPUBLICANOS"
                    ],
                    [
                      "FERNANDA FERREIRA DE ARAÚJO",
                      "PSD"
                    ],
                    [
                      "FERNANDA MENDES PRADO",
                      "PT"
                    ],
                    [
                      "FERNANDA STEFANI CURTI",
                      "PT"
                    ],
                    [
                      "FERNANDO ALVES LISBOA DINI",
                      "MDB"
                    ],
                    [
                      "FERNANDO ANTONIO MARCELO",
                      "SOLIDARIEDADE"
                    ],
                    [
                      "FERNANDO CAPEZ",
                      "UNIÃO"
                    ],
                    [
                      "FERNANDO FAVORETO",
                      "PSC"
                    ],
                    [
                      "FERNANDO HOLIDAY SILVA BISPO",
                      "NOVO"
                    ],
                    [
                      "FERNANDO PINHEIRO",
                      "PL"
                    ],
                    [
                      "FILIPE AUGUSTO FORNARI MONTANHOLI",
                      "PP"
                    ],
                    [
                      "FILIPE MANSINHO DE LIMA",
                      "REPUBLICANOS"
                    ],
                    [
                      "FLAVIA CAMARGO DA SILVA",
                      "PODE"
                    ],
                    [
                      "FLAVIO CASIMIRO DE SOUSA",
                      "PSOL"
                    ],
                    [
                      "FLÁVIA OLIVITO LANCHA ALVES DE OLIVEIRA",
                      "PSD"
                    ],
                    [
                      "FLÁVIO AUGUSTO DA SILVA",
                      "PSD"
                    ],
                    [
                      "FLÁVIO ROBERTO DE SOUZA SANT'ANNA",
                      "PSB"
                    ],
                    [
                      "FLÁVIO SILVA FILHO",
                      "PSOL"
                    ],
                    [
                      "FRANCIELLE EYRE DE OLIVEIRA TRIANI",
                      "UNIÃO"
                    ],
                    [
                      "FRANCINA SOUZA DRUMOND",
                      "PSB"
                    ],
                    [
                      "FRANCISCO ALEXANDRE FILHO",
                      "PODE"
                    ],
                    [
                      "FRANCISCO DE ASSIS CARVALHO ARTEN",
                      "MDB"
                    ],
                    [
                      "FRANCISCO JOSÉ NOGUEIRA DA SILVA",
                      "PT"
                    ],
                    [
                      "FRANCISCO PEREIRA DE SOUSA FILHO",
                      "PSB"
                    ],
                    [
                      "FRANKLIN VENANCIO DA SILVA NETTO",
                      "PODE"
                    ],
                    [
                      "FREDERICK WASSEF",
                      "PL"
                    ],
                    [
                      "FREDERICO AUGUSTO ARANTES MACHADO",
                      "PSDB"
                    ],
                    [
                      "FREDERICO BRAUN D AVILA",
                      "PL"
                    ],
                    [
                      "GERALDA MARIA DE LIMA",
                      "PP"
                    ],
                    [
                      "GERALDO MARTINS DE SOUZA",
                      "PT"
                    ],
                    [
                      "GETULIO PEREIRA SERPA",
                      "PSB"
                    ],
                    [
                      "GILBERTO ANTONIO LUIZ",
                      "PT"
                    ],
                    [
                      "GILBERTO BENTO",
                      "REPUBLICANOS"
                    ],
                    [
                      "GILDENOR ALVES FREIRE",
                      "PT"
                    ],
                    [
                      "GILMAR DA SILVA GIMENES",
                      "PL"
                    ],
                    [
                      "GILMAR ROTTA",
                      "PP"
                    ],
                    [
                      "GILMARA VANZO CRISTÃO",
                      "PP"
                    ],
                    [
                      "GIVANILSE DOS SANTOS",
                      "UNIÃO"
                    ],
                    [
                      "GLALSON CHAMON DA SILVA",
                      "PSC"
                    ],
                    [
                      "GLAUCIA BERENICE SANTOS DA SILVA",
                      "REPUBLICANOS"
                    ],
                    [
                      "GRACIANO ARILSON DOS SANTOS",
                      "PSC"
                    ],
                    [
                      "GUALTER DE ALMEIDA AMADO",
                      "REPUBLICANOS"
                    ],
                    [
                      "GUILHERME CAMPO DALL ORTO LEITE DO AMARAL",
                      "PODE"
                    ],
                    [
                      "GUILHERME CAMPOS JUNIOR",
                      "PSD"
                    ],
                    [
                      "GUILHERME DE SOUZA GOMES",
                      "PSDB"
                    ],
                    [
                      "GUILHERME PRADO ALMEIDA DE SOUZA",
                      "PSOL"
                    ],
                    [
                      "HAMILTON BERNARDES JUNIOR",
                      "UNIÃO"
                    ],
                    [
                      "HAROLD THAU",
                      "PSDB"
                    ],
                    [
                      "HELCIO FREIRE DO CARMO",
                      "NOVO"
                    ],
                    [
                      "HELIO ALVES RIBEIRO",
                      "REPUBLICANOS"
                    ],
                    [
                      "HELIO NISHIMOTO",
                      "MDB"
                    ],
                    [
                      "HENI OZI CUKIER",
                      "PODE"
                    ],
                    [
                      "HENRI DIAS",
                      "SOLIDARIEDADE"
                    ],
                    [
                      "HENRI HAIM ESSES",
                      "PV"
                    ],
                    [
                      "HENRIQUE CARLOS PARRA PARRA FILHO",
                      "PSOL"
                    ],
                    [
                      "HENRIQUE STEIN SCIASCIO",
                      "REPUBLICANOS"
                    ],
                    [
                      "HERICA VELOSO RIBEIRO MONT'ALVÃO",
                      "PSC"
                    ],
                    [
                      "HERNANI ALBERTO MONACO LEONHARDT",
                      "MDB"
                    ],
                    [
                      "HILARIO JULIANO RUIZ DE OLIVEIRA",
                      "PSB"
                    ],
                    [
                      "HOSANA DA SILVA PEREIRA",
                      "PP"
                    ],
                    [
                      "HUMBERTO JANTIM NETO",
                      "NOVO"
                    ],
                    [
                      "IARA BERNARDI",
                      "PT"
                    ],
                    [
                      "IGOR COIMBRA MANHANI",
                      "PP"
                    ],
                    [
                      "ILDA MARA REIS",
                      "PODE"
                    ],
                    [
                      "INES NANY RODRIGUES DA SILVA",
                      "UNIÃO"
                    ],
                    [
                      "IOLANDA GOMES RUAS",
                      "PSD"
                    ],
                    [
                      "IOLANDA KEIKO MIASHIRO OTA",
                      "MDB"
                    ],
                    [
                      "IRACILDA LOPES GUIMARÃES",
                      "PSB"
                    ],
                    [
                      "ISAAC DALCOL ANTUNES",
                      "PL"
                    ],
                    [
                      "ISABEL CRISTINA GONÇALVES BERNARDES",
                      "REDE"
                    ],
                    [
                      "ISADORA MARTINATTI PENNA",
                      "PC do B"
                    ],
                    [
                      "ISAÍAS TEIXEIRA DE OLIVEIRA",
                      "PSB"
                    ],
                    [
                      "ISRAEL NANTES SANTOS",
                      "PP"
                    ],
                    [
                      "IVAN RENATO DE LIMA",
                      "PSDB"
                    ],
                    [
                      "IVAN SERIGATO JUNIOR",
                      "PODE"
                    ],
                    [
                      "IVAN VALENTE",
                      "PSOL"
                    ],
                    [
                      "IVANILDO DOS SANTOS",
                      "REPUBLICANOS"
                    ],
                    [
                      "JACQUELINE COPQUE DE SANT'ANNA PEREIRA",
                      "PSB"
                    ],
                    [
                      "JACQUES CHOURIK",
                      "PP"
                    ],
                    [
                      "JADSON JOSÉ BARACHO DA SILVA",
                      "PSC"
                    ],
                    [
                      "JAIR CUSTÓDIO DA SILVA",
                      "PODE"
                    ],
                    [
                      "JANAINA CARLA DE LIMA PASCALICHIO",
                      "MDB"
                    ],
                    [
                      "JANAINA FERRATO ELIAS",
                      "PT"
                    ],
                    [
                      "JANAINA MACEDO CALVO",
                      "NOVO"
                    ],
                    [
                      "JANDIRA DE MENEZES CREPALDI",
                      "UNIÃO"
                    ],
                    [
                      "JANIEIRE MARIA SILVA",
                      "NOVO"
                    ],
                    [
                      "JAQUELINE DOMINGOS SAVIO MARTINS DO NASCIMENTO",
                      "UNIÃO"
                    ],
                    [
                      "JAQUES ARTUR MUNHOZ",
                      "PT"
                    ],
                    [
                      "JEFFERSON FERNANDO RIBEIRO CABRAL",
                      "PSB"
                    ],
                    [
                      "JEFFERSON LUIZ PEREIRA DA SILVA",
                      "UNIÃO"
                    ],
                    [
                      "JERRI ADRIANO FERREIRA DA SILVA",
                      "PSC"
                    ],
                    [
                      "JERUSA JANUÁRIA DA SILVA",
                      "REDE"
                    ],
                    [
                      "JOAO NAVES NETO",
                      "PSDB"
                    ],
                    [
                      "JOICE CRISTINA HASSELMANN",
                      "PSDB"
                    ],
                    [
                      "JONATAN SANTOS DE OLIVEIRA",
                      "REPUBLICANOS"
                    ],
                    [
                      "JONATHAN FABIO NASCIMENTO SOUZA",
                      "REPUBLICANOS"
                    ],
                    [
                      "JORGE ABISSAMRA FILHO",
                      "PSB"
                    ],
                    [
                      "JORGE ANTONIO SORIANO MOURA",
                      "PT"
                    ],
                    [
                      "JORGE BATISTA LOPES",
                      "SOLIDARIEDADE"
                    ],
                    [
                      "JORGE CORRÊA DE ARAUJO",
                      "PSD"
                    ],
                    [
                      "JORGE MALULY NETO",
                      "PODE"
                    ],
                    [
                      "JOSE ANDRE FERNANDES",
                      "NOVO"
                    ],
                    [
                      "JOSE CARLOS OROSCO",
                      "UNIÃO"
                    ],
                    [
                      "JOSE DOMINGOS RIZZO",
                      "SOLIDARIEDADE"
                    ],
                    [
                      "JOSE EDSON DE ARAUJO JUNIOR",
                      "PSC"
                    ],
                    [
                      "JOSE JOAQUIM FERNANDES RAPOSO FILHO",
                      "PODE"
                    ],
                    [
                      "JOSE PAULINO DE SOUZA JUNIOR",
                      "SOLIDARIEDADE"
                    ],
                    [
                      "JOSE ROBERTO BARBOSA DE SOUZA",
                      "UNIÃO"
                    ],
                    [
                      "JOSE RODRIGUES COSTA",
                      "PP"
                    ],
                    [
                      "JOSE WANDERLEY DE ANDRADE",
                      "PODE"
                    ],
                    [
                      "JOSIANE DE OLIVEIRA",
                      "PP"
                    ],
                    [
                      "JOSÉ ADILSON PEREIRA DOS SANTOS",
                      "PSC"
                    ],
                    [
                      "JOSÉ AFONSO LOBATO",
                      "PODE"
                    ],
                    [
                      "JOSÉ AMÉRICO ASCENCIO DIAS",
                      "PT"
                    ],
                    [
                      "JOSÉ ANIBAL PERES DE PONTES",
                      "PSDB"
                    ],
                    [
                      "JOSÉ ANTONIO FERNANDES PAIVA",
                      "SOLIDARIEDADE"
                    ],
                    [
                      "JOSÉ EDILSON PACHECO SILVA",
                      "PSC"
                    ],
                    [
                      "JOSÉ EDUARDO STANELIS DE AQUINO",
                      "PODE"
                    ],
                    [
                      "JOSÉ GUILHERME NEGRÃO PEIXOTO",
                      "PSC"
                    ],
                    [
                      "JOSÉ LEMES SOARES",
                      "PODE"
                    ],
                    [
                      "JOSÉ LUIZ SILVEIRA FILHO",
                      "PSC"
                    ],
                    [
                      "JOSÉ MARIO YAMASHITA",
                      "PP"
                    ],
                    [
                      "JOSÉ OSVALDO CAVALCANTE BELONI",
                      "PSC"
                    ],
                    [
                      "JOSÉ RIBAMAR PIAUILINO DE SOUSA",
                      "PV"
                    ],
                    [
                      "JOSÉ RICARDO ALVARENGA TRIPOLI",
                      "PSDB"
                    ],
                    [
                      "JOSÉ ROBERTO APOLARI",
                      "PP"
                    ],
                    [
                      "JOSÉ SERRA",
                      "PSDB"
                    ],
                    [
                      "JOÃO BATISTA DE OLIVEIRA",
                      "PSDB"
                    ],
                    [
                      "JOÃO BOSCO DE OLIVEIRA",
                      "PODE"
                    ],
                    [
                      "JOÃO CURY NETO",
                      "MDB"
                    ],
                    [
                      "JOÃO EDUARDO DADO LEITE DE CARVALHO",
                      "PL"
                    ],
                    [
                      "JOÃO LUIZ FEITOSA",
                      "MDB"
                    ],
                    [
                      "JOÃO PAULO RILLO",
                      "PSOL"
                    ],
                    [
                      "JOÃO PEDRO DA PAZ ARAÚJO",
                      "REDE"
                    ],
                    [
                      "JOÃO ROGÉRIO RODRIGUES VICARI",
                      "PSDB"
                    ],
                    [
                      "JUAREZ DOMINGOS COSTA",
                      "PSC"
                    ],
                    [
                      "JUAREZ JUVÊNCIO DOS SANTOS",
                      "PODE"
                    ],
                    [
                      "JUCILENE ALVES DA SILVA",
                      "PSC"
                    ],
                    [
                      "JULIANE LAURA CAMOLESI GALLO",
                      "MDB"
                    ],
                    [
                      "JULIO CESAR DE LIMA MORAES",
                      "PSB"
                    ],
                    [
                      "JUSSARA MORO PRESTO",
                      "PP"
                    ],
                    [
                      "JUVENAL DE AGUIAR PENTEADO NETO",
                      "PT"
                    ],
                    [
                      "JÚLIO CÉSAR GARCIA",
                      "PODE"
                    ],
                    [
                      "KALED ALI EL MALAT",
                      "PSD"
                    ],
                    [
                      "KARINA CELESTE MOURA",
                      "PSD"
                    ],
                    [
                      "KARLA JULIANE DA SILVA ALVES FRANCISCO",
                      "MDB"
                    ],
                    [
                      "KATIA DA SILVA SASTRE",
                      "PL"
                    ],
                    [
                      "KAUÊ CESAR SILVA",
                      "MDB"
                    ],
                    [
                      "KERLLYN DE OLIVEIRA MENEGUSSE",
                      "PT"
                    ],
                    [
                      "KOYU IHA",
                      "SOLIDARIEDADE"
                    ],
                    [
                      "KÁTIA SILVA DE OLIVEIRA",
                      "PT"
                    ],
                    [
                      "LARISSA PAIVA ANALIO MARCELINO",
                      "MDB"
                    ],
                    [
                      "LEANDRO OSVALDO SANTOS MEIRELES DA FONSECA",
                      "REPUBLICANOS"
                    ],
                    [
                      "LENIR MARIA DE OLIVEIRA",
                      "PSC"
                    ],
                    [
                      "LEONARDO ALEX DOS SANTOS",
                      "PP"
                    ],
                    [
                      "LEONICE LEONCIA DOS SANTOS",
                      "REPUBLICANOS"
                    ],
                    [
                      "LEONORA MENDES DE LIMA",
                      "MDB"
                    ],
                    [
                      "LEWIS SAWINSKI DE ALMEIDA",
                      "PODE"
                    ],
                    [
                      "LIDIANI ROCHA FERREIRA",
                      "MDB"
                    ],
                    [
                      "LIGIA LIMA DOS SANTOS",
                      "UNIÃO"
                    ],
                    [
                      "LILIAN MARIA COSTA MANSUR ANDRADE",
                      "NOVO"
                    ],
                    [
                      "LILIANE GONÇALVES VENTURA LOPES",
                      "PL"
                    ],
                    [
                      "LORENY MAYARA CAETANO ROBERTO",
                      "SOLIDARIEDADE"
                    ],
                    [
                      "LUANA DE BRITO TAVARES",
                      "PSD"
                    ],
                    [
                      "LUCAS SANCHES PROMESSIA",
                      "PP"
                    ],
                    [
                      "LUCIANA DA SILVA",
                      "REPUBLICANOS"
                    ],
                    [
                      "LUCIANA TRINDADE DE MACEDO",
                      "PSB"
                    ],
                    [
                      "LUCIANO ANDRE RODRIGUES",
                      "MDB"
                    ],
                    [
                      "LUCIANO DA CONCEIÇÃO",
                      "SOLIDARIEDADE"
                    ],
                    [
                      "LUCIANO DA SILVA",
                      "PODE"
                    ],
                    [
                      "LUCIENE BARROS VERISSIMO DA SILVA",
                      "PT"
                    ],
                    [
                      "LUCIENE CAVALCANTE DA SILVA",
                      "PSOL"
                    ],
                    [
                      "LUCILIO FERREIRA DA SILVA",
                      "PSOL"
                    ],
                    [
                      "LUIS ANTONIO DE LIMA CLEMENTE",
                      "UNIÃO"
                    ],
                    [
                      "LUIS CLAUDIO BILI LINS DA SILVA",
                      "SOLIDARIEDADE"
                    ],
                    [
                      "LUIS CLAUDIO FERNANDES MIRANDA",
                      "REPUBLICANOS"
                    ],
                    [
                      "LUIS FERNANDO DE SOUZA",
                      "PSDB"
                    ],
                    [
                      "LUIZ ANTÔNIO VASSOLER",
                      "PSC"
                    ],
                    [
                      "LUIZ CLAUDIO LUZ DA CONCEIÇÃO",
                      "SOLIDARIEDADE"
                    ],
                    [
                      "LUIZ CLAUDIO NOGAROTO AMARAL",
                      "PODE"
                    ],
                    [
                      "LUIZ DE SOUZA ARRAES",
                      "SOLIDARIEDADE"
                    ],
                    [
                      "LUIZ FELIPE DE ANDRADE FOLGOSI",
                      "PL"
                    ],
                    [
                      "LUIZ FELIPE DE LIMA SANTOS",
                      "MDB"
                    ],
                    [
                      "LUIZ LAURO FERREIRA",
                      "MDB"
                    ],
                    [
                      "LUIZ SCALEA",
                      "PODE"
                    ],
                    [
                      "LUIZ ZACARIAS DE ARAUJO FILHO",
                      "PL"
                    ],
                    [
                      "LUSINEIDE NEVES BARRETO",
                      "UNIÃO"
                    ],
                    [
                      "LUZIANE DIAS SIMÃO",
                      "PSOL"
                    ],
                    [
                      "LUZIMAR RODRIGUES DA SILVA",
                      "PSB"
                    ],
                    [
                      "LUÍS EDUARDO ANTUNES VIEIRA",
                      "PSD"
                    ],
                    [
                      "LYSSA CAROLINE MONTEIRO MAXIMO CARTIER",
                      "PL"
                    ],
                    [
                      "MADALENA DE LAURA PEREIRA",
                      "PSC"
                    ],
                    [
                      "MAICON VINICIUS RIBEIRO DA SILVA",
                      "MDB"
                    ],
                    [
                      "MAISA DINIZ LIMA",
                      "REDE"
                    ],
                    [
                      "MANOEL DAMIÃO GOMES BARBOSA",
                      "PSB"
                    ],
                    [
                      "MANOEL EDUARDO PEREIRA DA CRUZ PALOMINO",
                      "PP"
                    ],
                    [
                      "MARCEL DE JESUS GARCIA",
                      "MDB"
                    ],
                    [
                      "MARCELA DE CARVALHO NORA",
                      "UNIÃO"
                    ],
                    [
                      "MARCELLO LEONARDI BEZERRA",
                      "PSB"
                    ],
                    [
                      "MARCELO CANDIDO LOPES SIMÕES",
                      "PSC"
                    ],
                    [
                      "MARCELO DA MOTTA BARRICHELLO",
                      "PSD"
                    ],
                    [
                      "MARCELO DA SILVA",
                      "MDB"
                    ],
                    [
                      "MARCELO GERALDO DA SILVA",
                      "PSC"
                    ],
                    [
                      "MARCELO HENRIQUE SILVA",
                      "SOLIDARIEDADE"
                    ],
                    [
                      "MARCELO HERCOLIN",
                      "UNIÃO"
                    ],
                    [
                      "MARCELO JOSÉ ORTEGA",
                      "PODE"
                    ],
                    [
                      "MARCELO MARQUES DE SOUZA",
                      "PP"
                    ],
                    [
                      "MARCELO MORICKOCHI",
                      "PP"
                    ],
                    [
                      "MARCELO PORFIRIO DA SILVA",
                      "PSDB"
                    ],
                    [
                      "MARCIO ALVARES DE SOUZA",
                      "PSC"
                    ],
                    [
                      "MARCIO GONÇALVES MACIEL",
                      "MDB"
                    ],
                    [
                      "MARCIO ROBERTO GARCIA LARRANHAGA",
                      "PSC"
                    ],
                    [
                      "MARCIO RODRIGUES",
                      "PODE"
                    ],
                    [
                      "MARCIO TADEU ANHAIA DE LEMOS",
                      "PL"
                    ],
                    [
                      "MARCO ANTONIO BATISTA",
                      "REDE"
                    ],
                    [
                      "MARCO ANTONIO DE SOUZA PINTO",
                      "NOVO"
                    ],
                    [
                      "MARCO ANTONIO VILLA",
                      "CIDADANIA"
                    ],
                    [
                      "MARCO AURELIO UBIALI",
                      "PSB"
                    ],
                    [
                      "MARCOS ANDRÉ PAPA",
                      "PODE"
                    ],
                    [
                      "MARCOS ANTONIO DE ARAUJO",
                      "PSDB"
                    ],
                    [
                      "MARCOS ANTONIO DE CARVALHO LUCAS",
                      "NOVO"
                    ],
                    [
                      "MARCOS ANTONIO PALERMO",
                      "MDB"
                    ],
                    [
                      "MARCOS APARECIDO VARGAS",
                      "PP"
                    ],
                    [
                      "MARCOS ESTEVÃO MARQUES SARAIVA",
                      "MDB"
                    ],
                    [
                      "MARCOS GUERRA",
                      "UNIÃO"
                    ],
                    [
                      "MARCUS VINICIUS DE ARAÚJO DANTAS",
                      "PODE"
                    ],
                    [
                      "MARIA APARECIDA DE SOUZA COSTA SILVA",
                      "PSDB"
                    ],
                    [
                      "MARIA APARECIDA FAUSTINO FERNANDES",
                      "PSOL"
                    ],
                    [
                      "MARIA APARECIDA FIRMINO",
                      "REPUBLICANOS"
                    ],
                    [
                      "MARIA APARECIDA PINTO",
                      "PSD"
                    ],
                    [
                      "MARIA AUGUSTA FERREIRA FONSECA",
                      "UNIÃO"
                    ],
                    [
                      "MARIA CÉLIA RODRIGUES PACHECO",
                      "PODE"
                    ],
                    [
                      "MARIA DA GUIA ALVES DA ROCHA",
                      "PSC"
                    ],
                    [
                      "MARIA DA PAIXÃO PEREIRA COSTA",
                      "PODE"
                    ],
                    [
                      "MARIA DAS GRAÇAS PATRÍCIO",
                      "PSC"
                    ],
                    [
                      "MARIA ELI FERNANDES DOS SANTOS MANIÇOBA",
                      "PSOL"
                    ],
                    [
                      "MARIA ELISABETE DO NASCIMENTO TAHAN LOPES BARROS",
                      "PSC"
                    ],
                    [
                      "MARIA GABRIELA PRADO MANSSUR",
                      "MDB"
                    ],
                    [
                      "MARIA HELOISA GOMES DA SILVA",
                      "SOLIDARIEDADE"
                    ],
                    [
                      "MARIA ISABEL LOPES DA CUNHA SOARES",
                      "REDE"
                    ],
                    [
                      "MARIA JOSE DA SILVA",
                      "PSC"
                    ],
                    [
                      "MARIA LUCIA DA SILVA",
                      "PODE"
                    ],
                    [
                      "MARIA LUCIA SECOTI FILIZOLA",
                      "REDE"
                    ],
                    [
                      "MARIA REGINA GONÇALVES",
                      "PV"
                    ],
                    [
                      "MARIANA CERGOLI JANEIRO",
                      "PT"
                    ],
                    [
                      "MARIANNE BORGES TAVELLI",
                      "SOLIDARIEDADE"
                    ],
                    [
                      "MARILZA DE FATIMA RUFINO",
                      "NOVO"
                    ],
                    [
                      "MARINA CORREIA DA SILVA",
                      "PSDB"
                    ],
                    [
                      "MARINA HELENA CUNHA PEREIRA SANTOS",
                      "NOVO"
                    ],
                    [
                      "MARIO DONIZETE D ANDREA",
                      "REDE"
                    ],
                    [
                      "MARKS RODRIGO PINTIJA",
                      "REDE"
                    ],
                    [
                      "MARLI GOMES DO CARMO",
                      "NOVO"
                    ],
                    [
                      "MARLON FARIAS DA LUZ",
                      "MDB"
                    ],
                    [
                      "MARSCHELO RODRIGO MARIN MECHE",
                      "PL"
                    ],
                    [
                      "MARTA DE SOUZA SOBRAL",
                      "PT"
                    ],
                    [
                      "MARTINHO CARLOS COLPANI FILHO",
                      "PL"
                    ],
                    [
                      "MASSAEL BESSA DA SILVA",
                      "PP"
                    ],
                    [
                      "MATEUS OLIVEIRA MORO",
                      "PT"
                    ],
                    [
                      "MATHEUS DE OLIVEIRA PINTO",
                      "PL"
                    ],
                    [
                      "MAURICIO BERNARDINO SOARES",
                      "PL"
                    ],
                    [
                      "MAURICIO CHINAGLIA",
                      "SOLIDARIEDADE"
                    ],
                    [
                      "MAXIMILIANO RODRIGUES",
                      "SOLIDARIEDADE"
                    ],
                    [
                      "MAYRA LARISSA COSTA MIRANDA",
                      "UNIÃO"
                    ],
                    [
                      "MICHELLI CASSIANA DA PAIXÃO",
                      "PP"
                    ],
                    [
                      "MILTON ANTONIO CASQUEL MONTI",
                      "PSD"
                    ],
                    [
                      "MONICA APARECIDA CALAZANS",
                      "PSDB"
                    ],
                    [
                      "MONICA ROSENBERG BRAIZAT",
                      "NOVO"
                    ],
                    [
                      "MÁRCIA REBESCHINI PATELLA DA SILVA",
                      "PV"
                    ],
                    [
                      "MÁRCIO LEANDRO CENTENORIO",
                      "PSOL"
                    ],
                    [
                      "MÁRIO COVAS NETO",
                      "PODE"
                    ],
                    [
                      "MÁRIO DE OLIVEIRA",
                      "SOLIDARIEDADE"
                    ],
                    [
                      "MÔNICA APARECIDA DA SILVA SONTINI",
                      "PSC"
                    ],
                    [
                      "MÔNICA GABRIELA BUAVA DE FREITAS",
                      "PV"
                    ],
                    [
                      "NAZARÉ BATISTA BRAGA",
                      "PSB"
                    ],
                    [
                      "NELSON XIMENES JUNIOR",
                      "PSB"
                    ],
                    [
                      "NERIA LUCIO BUZATTO",
                      "UNIÃO"
                    ],
                    [
                      "NICOLINO BOZZELLA JUNIOR",
                      "UNIÃO"
                    ],
                    [
                      "NILSON BONOME",
                      "UNIÃO"
                    ],
                    [
                      "NILSON ULLRICH",
                      "PSC"
                    ],
                    [
                      "NILTON LOURENÇO CANDIDO",
                      "PSB"
                    ],
                    [
                      "NIVALDO DOS SANTOS",
                      "REPUBLICANOS"
                    ],
                    [
                      "NORMANDO COSTA DE ANDRADE FILHO",
                      "PSB"
                    ],
                    [
                      "ODILIA EXPEDITA DE SOUSA",
                      "PSC"
                    ],
                    [
                      "ORLANDO APARECIDO TOMASELLA",
                      "PSC"
                    ],
                    [
                      "ORLANDO COSTA DIAS",
                      "PSC"
                    ],
                    [
                      "ORLANDO MENGATTI FILHO",
                      "PSB"
                    ],
                    [
                      "ORLANDO VITORIANO DE OLIVEIRA",
                      "PT"
                    ],
                    [
                      "OSWALDO MARQUES CERA FILHO",
                      "PP"
                    ],
                    [
                      "PASCOALINA SOUZA SILVA",
                      "PT"
                    ],
                    [
                      "PATRICIA SILVA ZANELLA",
                      "REDE"
                    ],
                    [
                      "PATRÍCIA SIMÕES VEDRANO",
                      "PV"
                    ],
                    [
                      "PAULA APARECIDA CARVALHO",
                      "PSOL"
                    ],
                    [
                      "PAULA DIAS DE LA FUENTE",
                      "UNIÃO"
                    ],
                    [
                      "PAULA FURTADO BRUM",
                      "PP"
                    ],
                    [
                      "PAULO ADRIANO LOPES LUCINDA TELHADA",
                      "PP"
                    ],
                    [
                      "PAULO APARECIDO SILVA CAYRES",
                      "PT"
                    ],
                    [
                      "PAULO EDUARDO BRAZILINO",
                      "NOVO"
                    ],
                    [
                      "PAULO EDUARDO SEADE SERRA",
                      "REPUBLICANOS"
                    ],
                    [
                      "PAULO NISHIKAWA",
                      "PL"
                    ],
                    [
                      "PAULO PEREIRA DA SILVA",
                      "SOLIDARIEDADE"
                    ],
                    [
                      "PAULO PROIETI",
                      "NOVO"
                    ],
                    [
                      "PAULO RAMOS BORGES PINTO VIOLARO",
                      "NOVO"
                    ],
                    [
                      "PAULO ROBERTO AMARAL VIEIRA",
                      "PODE"
                    ],
                    [
                      "PAULO ROBERTO DE CAMPOS",
                      "PODE"
                    ],
                    [
                      "PAULO ROMEIRO DE ALMEIDA SOARES",
                      "PODE"
                    ],
                    [
                      "PAULO SERGIO ABOU ANNI",
                      "UNIÃO"
                    ],
                    [
                      "PAULO SERGIO DA ROCHA",
                      "REPUBLICANOS"
                    ],
                    [
                      "PAULO SERGIO SOARES DA SILVA",
                      "UNIÃO"
                    ],
                    [
                      "PEDRO AUGUSTO LIA TEDDE",
                      "NOVO"
                    ],
                    [
                      "PEDRO LUIS VAZ DE LIMA MATTOS",
                      "NOVO"
                    ],
                    [
                      "PEDRO TADEU BATISTA",
                      "PSD"
                    ],
                    [
                      "PEDRO TOURINHO DE SIQUEIRA",
                      "PT"
                    ],
                    [
                      "PIERPAOLO PAGANO",
                      "REPUBLICANOS"
                    ],
                    [
                      "POLLYANA FATIMA GAMA SANTOS",
                      "CIDADANIA"
                    ],
                    [
                      "POLLYANNA DO VALLE ATAGIBA",
                      "PT"
                    ],
                    [
                      "PRISCILA SILVA SOUZA",
                      "PODE"
                    ],
                    [
                      "PRISCILLA ROBERTA GASPAR DE OLIVEIRA",
                      "PSC"
                    ],
                    [
                      "RAFAEL BRUXELLAS PARRA",
                      "PT"
                    ],
                    [
                      "RAFAEL DOS ANJOS SILVA",
                      "NOVO"
                    ],
                    [
                      "RAFAEL PACHECO ALQUEZAR",
                      "PSOL"
                    ],
                    [
                      "RALF SANTOS NAURE",
                      "PV"
                    ],
                    [
                      "RAMIRO ALVES DA ROCHA CRUZ JUNIOR",
                      "PL"
                    ],
                    [
                      "RAPHAEL APARECIDO DE OLIVEIRA",
                      "PP"
                    ],
                    [
                      "RAQUEL VIEIRA DOS SANTOS",
                      "UNIÃO"
                    ],
                    [
                      "RAUL CAMPOS NASCIMENTO",
                      "PSOL"
                    ],
                    [
                      "RAUL THAME DE TOLEDO ALMEIDA",
                      "PV"
                    ],
                    [
                      "REGINALDO ARAUJO SENA",
                      "SOLIDARIEDADE"
                    ],
                    [
                      "REGINALDO CAMILO DOS SANTOS",
                      "PT"
                    ],
                    [
                      "REINALDO DE SOUZA ALGUZ",
                      "UNIÃO"
                    ],
                    [
                      "REINALDO FRANCO DE SOUZA",
                      "PT"
                    ],
                    [
                      "REINALDO MONTEIRO DA SILVA",
                      "UNIÃO"
                    ],
                    [
                      "RENAN ELIAS GODINHO",
                      "PODE"
                    ],
                    [
                      "RENATA BANHARA PEIXOTO MARCONDES",
                      "REPUBLICANOS"
                    ],
                    [
                      "RENATA ODETTE DE MELLO",
                      "PODE"
                    ],
                    [
                      "RENATA SIMONETTI ALVES MARCHETTI",
                      "REPUBLICANOS"
                    ],
                    [
                      "RENATO ARAUJO DA CRUZ",
                      "SOLIDARIEDADE"
                    ],
                    [
                      "RENATO CARVALHO DONATO",
                      "PSB"
                    ],
                    [
                      "RENATO RAMOS DE SOUZA",
                      "PSB"
                    ],
                    [
                      "RENATO TADEU DE OLIVEIRA PAIVA",
                      "PSD"
                    ],
                    [
                      "RENATO TAROCO",
                      "REPUBLICANOS"
                    ],
                    [
                      "RIBAMAR ANTONIO DA SILVA",
                      "PSD"
                    ],
                    [
                      "RICARDO BRUNO MELENCHON",
                      "PV"
                    ],
                    [
                      "RICARDO DA CRUZ FERNANDES",
                      "PL"
                    ],
                    [
                      "RICARDO DA SILVA SAIBRO",
                      "UNIÃO"
                    ],
                    [
                      "RICARDO DE CAMPOS RAMOS",
                      "NOVO"
                    ],
                    [
                      "RICARDO HOLZ VIDAL DOS SANTOS",
                      "PODE"
                    ],
                    [
                      "RICARDO JORGE MUTRAN",
                      "PP"
                    ],
                    [
                      "RICARDO KANAAN MARIANO DE ALMEIDA",
                      "MDB"
                    ],
                    [
                      "RICARDO LIMA BRAGA SANTISTEVAN",
                      "PODE"
                    ],
                    [
                      "RICARDO MITSUO NAKAGAWA",
                      "PSD"
                    ],
                    [
                      "RICARDO MURILO COGHI",
                      "UNIÃO"
                    ],
                    [
                      "RICARDO URIZZI CARVALHO",
                      "PSOL"
                    ],
                    [
                      "RICARDO YOSHIO",
                      "SOLIDARIEDADE"
                    ],
                    [
                      "RITA DE CASSIA BORGES DOS SANTOS GUEDES",
                      "PL"
                    ],
                    [
                      "RITA DE CASSIA TRINCA PASSOS",
                      "REPUBLICANOS"
                    ],
                    [
                      "RIVANDA OLIVEIRA RIELI",
                      "PSB"
                    ],
                    [
                      "ROBERTO ALVES DE LUCENA",
                      "REPUBLICANOS"
                    ],
                    [
                      "ROBERTO CACCIARI FILHO",
                      "PL"
                    ],
                    [
                      "ROBERTO MARTINS FIGUEIREDO",
                      "MDB"
                    ],
                    [
                      "ROBERTO MOREIRA DE SOUZA",
                      "CIDADANIA"
                    ],
                    [
                      "ROBERTO NOVAES REIS",
                      "PSB"
                    ],
                    [
                      "ROBERTO PIRES",
                      "REPUBLICANOS"
                    ],
                    [
                      "ROBERTO RUFCA DE OLIVEIRA",
                      "MDB"
                    ],
                    [
                      "ROBSON JOSE DOS SANTOS",
                      "SOLIDARIEDADE"
                    ],
                    [
                      "ROBSON SILVÉRIO DA SILVA",
                      "PSOL"
                    ],
                    [
                      "RODNEY VICENTE DE SOUZA",
                      "MDB"
                    ],
                    [
                      "RODOLFO FRANCISCO DE SOUZA",
                      "PSC"
                    ],
                    [
                      "RODRIGO ADRIANO DA SILVA",
                      "UNIÃO"
                    ],
                    [
                      "RODRIGO ANDRADE BENUZZI DA LUZ",
                      "NOVO"
                    ],
                    [
                      "RODRIGO ANTONIO DE AGOSTINHO MENDONÇA",
                      "PSB"
                    ],
                    [
                      "RODRIGO MEIRA BRITO",
                      "UNIÃO"
                    ],
                    [
                      "RODRIGO TAVANO",
                      "NOVO"
                    ],
                    [
                      "RODRIGUES MARQUES DE FIGUEIREDO",
                      "PSC"
                    ],
                    [
                      "ROGE BAUDICHON",
                      "PP"
                    ],
                    [
                      "ROGER LIN",
                      "PODE"
                    ],
                    [
                      "ROGERIA MARIA DE FREITAS",
                      "PP"
                    ],
                    [
                      "ROGERIO XAVIER FRANÇA",
                      "PSC"
                    ],
                    [
                      "RONAN ALOISIO GOULART",
                      "SOLIDARIEDADE"
                    ],
                    [
                      "ROSA ALVES CARDOSO",
                      "PODE"
                    ],
                    [
                      "ROSA ENEIDE DOS SANTOS ABLAS",
                      "PODE"
                    ],
                    [
                      "ROSALINA SONIA DOS SANTOS",
                      "PL"
                    ],
                    [
                      "ROSEMEIRE MARQUES RIBEIRO ARCHANGELO",
                      "PSOL"
                    ],
                    [
                      "ROSENILDA APARECIDA DA SILVA CRUZ",
                      "PSB"
                    ],
                    [
                      "ROSILAINE APARECIDA DOS SANTOS BRANDÃO",
                      "PL"
                    ],
                    [
                      "ROSSIELI SOARES DA SILVA",
                      "PSDB"
                    ],
                    [
                      "ROSÂNGELA SILVA DOS SANTOS",
                      "PT"
                    ],
                    [
                      "RUI CARLOS VINCENZI",
                      "MDB"
                    ],
                    [
                      "SAMIRA SILOTI",
                      "PL"
                    ],
                    [
                      "SAMUEL DE OLIVEIRA BARBOSA",
                      "PP"
                    ],
                    [
                      "SAMUEL MOREIRA DA SILVA JUNIOR",
                      "PSDB"
                    ],
                    [
                      "SAMUEL PAES",
                      "PP"
                    ],
                    [
                      "SAMUEL VITOR PEREIRA BERNARDI",
                      "PP"
                    ],
                    [
                      "SANDRA APARECIDA MADEU IDA",
                      "PT"
                    ],
                    [
                      "SANDRA CAMARINHO DE MACEDO",
                      "NOVO"
                    ],
                    [
                      "SANDRA CRISTINA DOS SANTOS SOARES",
                      "PSB"
                    ],
                    [
                      "SANDRA REGINA CARBONE TADEU MUDALEN",
                      "UNIÃO"
                    ],
                    [
                      "SARA JANE RONCOLATO ZANETTI",
                      "REDE"
                    ],
                    [
                      "SAULO PEDROSO DE SOUZA",
                      "PSD"
                    ],
                    [
                      "SERGIO NASCIMENTO DE CAMARGO",
                      "PL"
                    ],
                    [
                      "SERGIO RICARDO RIBEIRO DE OLIVEIRA",
                      "PODE"
                    ],
                    [
                      "SEVERINO FRANCISCO DA COSTA",
                      "PSB"
                    ],
                    [
                      "SIDNEY CARVALHO ELIAS",
                      "NOVO"
                    ],
                    [
                      "SIDNEY LUIZ DA CRUZ",
                      "SOLIDARIEDADE"
                    ],
                    [
                      "SILVIA SAMPAIO SALES SANTOS",
                      "PSDB"
                    ],
                    [
                      "SILVIO EDUARDO CONEGLIAM PECCIOLI",
                      "PSD"
                    ],
                    [
                      "SILÉA BENEDETTI DE MACEDO PEDROSO",
                      "SOLIDARIEDADE"
                    ],
                    [
                      "SIMONE LOPES BETINI",
                      "PP"
                    ],
                    [
                      "SIMONY CRISTINA TEIXEIRA DOS ANJOS",
                      "PSOL"
                    ],
                    [
                      "SIRLEI SIKORSKI",
                      "REPUBLICANOS"
                    ],
                    [
                      "SONIA MARIA DELFINO",
                      "PSDB"
                    ],
                    [
                      "SUELEN DE SOUZA LAZARINI",
                      "NOVO"
                    ],
                    [
                      "SUELI ALVES",
                      "PSOL"
                    ],
                    [
                      "SUELY APARECIDA ANTONIO",
                      "MDB"
                    ],
                    [
                      "SUSANA LAMBERT DE BRITO SILVA",
                      "PSD"
                    ],
                    [
                      "SUSANNA DO VAL MOORE",
                      "PSD"
                    ],
                    [
                      "SYMMY LARRAT BRITO DE CARVALHO",
                      "PT"
                    ],
                    [
                      "SÉRGIO DA SILVA GRILLO",
                      "REDE"
                    ],
                    [
                      "TAKAHARU YAMAUCHI",
                      "MDB"
                    ],
                    [
                      "TALMA CRISTINA NONAKA",
                      "PSD"
                    ],
                    [
                      "TAMIRES GOMES SAMPAIO",
                      "PT"
                    ],
                    [
                      "TANDARA ALVES CAIXETA",
                      "MDB"
                    ],
                    [
                      "TANIA CRISTINA MARTINS SILVA",
                      "SOLIDARIEDADE"
                    ],
                    [
                      "TANIA MARA DA CRUZ TONET",
                      "REPUBLICANOS"
                    ],
                    [
                      "TARYK AL JAMAHIRIYA AGIO",
                      "SOLIDARIEDADE"
                    ],
                    [
                      "TATIANA LIMA SCHIMIGUEL",
                      "SOLIDARIEDADE"
                    ],
                    [
                      "TEREZINHA MARIA DOS SANTOS",
                      "PSB"
                    ],
                    [
                      "THALIA SILVA DE FARIA",
                      "PP"
                    ],
                    [
                      "THIAGO BONFIM DE OLIVEIRA",
                      "NOVO"
                    ],
                    [
                      "THIAGO DE AZEVEDO LOPES FONSECA",
                      "PSD"
                    ],
                    [
                      "THIAGO HENRIQUE DA SILVA DORIGAN",
                      "PSC"
                    ],
                    [
                      "THIAGO IMBERNOM",
                      "NOVO"
                    ],
                    [
                      "TIAGO RAMOS DE CAMPOS",
                      "PP"
                    ],
                    [
                      "TONY VINICIUS DE OLIVEIRA",
                      "NOVO"
                    ],
                    [
                      "UBIRATAN ALAN DE CARVALHO",
                      "SOLIDARIEDADE"
                    ],
                    [
                      "VAGNER JOSE DOS SANTOS",
                      "REPUBLICANOS"
                    ],
                    [
                      "VALDECI ANTONIO DE PROENÇA",
                      "PODE"
                    ],
                    [
                      "VALDETE GOMES DUTRA PEREIRA",
                      "PODE"
                    ],
                    [
                      "VALDINEI MARCELINO LIMA",
                      "PSD"
                    ],
                    [
                      "VALDOMIRO SUTERIO",
                      "SOLIDARIEDADE"
                    ],
                    [
                      "VALTER SANTIAGO",
                      "PSC"
                    ],
                    [
                      "VALÉRIA MEIRELLES MONTEIRO",
                      "PSD"
                    ],
                    [
                      "VANDERCI EDUARDO PEREIRA",
                      "PSC"
                    ],
                    [
                      "VANDERLEI MACRIS",
                      "PSDB"
                    ],
                    [
                      "VANESSA CRISTINA DE ROSSI",
                      "PSB"
                    ],
                    [
                      "VANESSA FERREIRA GOMES",
                      "PL"
                    ],
                    [
                      "VANESSSA FERREIRA MARCELO LAURINDO",
                      "PSB"
                    ],
                    [
                      "VANIA DA PAIXÃO LANA ONWUDIWE",
                      "REPUBLICANOS"
                    ],
                    [
                      "VERA LUCIA GOMES FERREIRA PALMEZANO",
                      "PSDB"
                    ],
                    [
                      "VICENTE PAULO DA SILVA",
                      "PT"
                    ],
                    [
                      "VINICIUS MANGABEIRA CARINI",
                      "NOVO"
                    ],
                    [
                      "VINICIUS MARCHESE MARINELLI",
                      "PSD"
                    ],
                    [
                      "VINICIUS SAUDINO DE MORAES",
                      "PSD"
                    ],
                    [
                      "VINICIUS TADEU SATTIN RODRIGUES",
                      "PL"
                    ],
                    [
                      "VITOR NARESSI NETTO",
                      "UNIÃO"
                    ],
                    [
                      "VIVIANE SOARES DE OLIVEIRA ALVES",
                      "UNIÃO"
                    ],
                    [
                      "VLADIMIR FRANCISCHINELLI ARRUDA LEITE",
                      "NOVO"
                    ],
                    [
                      "VLADIMIR PINHEIRO SAFATLE",
                      "PSOL"
                    ],
                    [
                      "WAGNER OCIMAR BALIEIRO",
                      "PT"
                    ],
                    [
                      "WAGNER RUBINELLI",
                      "PSB"
                    ],
                    [
                      "WALLACE COSTA LANDIM",
                      "PSD"
                    ],
                    [
                      "WALTECY ALVES DOS SANTOS",
                      "PSOL"
                    ],
                    [
                      "WALTER FERNANDES DA SILVA",
                      "NOVO"
                    ],
                    [
                      "WALTER JOSÉ DA SILVA",
                      "PODE"
                    ],
                    [
                      "WALTER JOSÉ DOS SANTOS",
                      "PSB"
                    ],
                    [
                      "WALTER SHINDI IIHOSHI",
                      "PSD"
                    ],
                    [
                      "WALTER VICIONI GONÇALVES",
                      "MDB"
                    ],
                    [
                      "WANESSA SOUSA BOMFIM",
                      "PODE"
                    ],
                    [
                      "WASHINGTON DA SILVA SANTOS",
                      "PSC"
                    ],
                    [
                      "WESLEY CASA FORTE MARIANO",
                      "PSB"
                    ],
                    [
                      "WESLEY RENATO DE OLIVEIRA SOUZA",
                      "PL"
                    ],
                    [
                      "WILLIAM SILVA DAS MERCES",
                      "PSB"
                    ],
                    [
                      "WILSON LIMA DA SILVA",
                      "PSB"
                    ],
                    [
                      "YAN LOPES DE ALMEIDA",
                      "PSC"
                    ],
                    [
                      "ZULEICA MADALENA SANTORO",
                      "PODE"
                    ]
                  ],
                  "hovertemplate": "Situação totalização=Suplente<br>Valor de receita=%{x}<br>Votos nominais=%{y}<br>Nome candidato=%{customdata[0]}<br>Partido=%{customdata[1]}<extra></extra>",
                  "legendgroup": "Suplente",
                  "marker": {
                    "color": "#EF553B",
                    "symbol": "circle"
                  },
                  "mode": "markers",
                  "name": "Suplente",
                  "showlegend": true,
                  "type": "scattergl",
                  "x": [
                    319900,
                    4741.53,
                    333923.2,
                    119000.12,
                    40000,
                    75000,
                    3003431.42,
                    41663.2,
                    4125.63,
                    10000,
                    3200,
                    416256.41000000003,
                    51590.9,
                    473362,
                    2655938.23,
                    300,
                    29560.77,
                    10000,
                    174353.78999999998,
                    10800,
                    1956,
                    20870,
                    100000,
                    30000,
                    1741.53,
                    70326.41,
                    210256.41,
                    165345,
                    110000,
                    348474.53,
                    785882.27,
                    13590.9,
                    10000,
                    11590.9,
                    33200,
                    405521.15,
                    2891.5299999999997,
                    1066803.5,
                    82761.31,
                    138590.9,
                    1807512.79,
                    198999.96,
                    285920.56,
                    167587.74,
                    58960.56,
                    47796.36,
                    77620,
                    1314590.9,
                    3361.5299999999997,
                    35000,
                    835050,
                    35000,
                    220172.19,
                    330973.97,
                    70600,
                    50920.56,
                    20000,
                    273935.41000000003,
                    354824.9,
                    69960.56,
                    275230.85000000003,
                    25613.53,
                    7796.36,
                    13150,
                    2342974.5300000003,
                    100000,
                    59718.4,
                    10000,
                    150786.85,
                    92965.14,
                    152465,
                    666524.24,
                    313075.12,
                    315859.63,
                    305849.37,
                    722954.75,
                    71822,
                    71758.4,
                    1880102.94,
                    121335,
                    55000,
                    223628.1,
                    86769.01000000001,
                    1509713.2,
                    305406,
                    29000,
                    1241.53,
                    150256.41,
                    1367573.71,
                    60000,
                    30000,
                    163000,
                    483250.64,
                    41490,
                    119790,
                    102061,
                    47796.36,
                    50000,
                    964882.27,
                    39933.38,
                    186827.89,
                    3241.5299999999997,
                    5641.53,
                    113590.9,
                    11590.9,
                    100761.31,
                    2051.5299999999997,
                    50296.36,
                    156685,
                    1461851.48,
                    320271.41000000003,
                    91826.2,
                    15000,
                    16000,
                    120000,
                    112761.48,
                    200758.4,
                    22000,
                    38975.759999999995,
                    103200,
                    25500,
                    111659,
                    60256.41,
                    47796.36,
                    171360,
                    1007500,
                    30785.559999999998,
                    5507.08,
                    2455509.3,
                    30000,
                    663458.86,
                    37107.8,
                    170000,
                    1371901.91,
                    480645.07,
                    50000,
                    158706.41,
                    194087.13,
                    13170,
                    598885.88,
                    1767356.33,
                    91185,
                    61910,
                    82761.31,
                    203361.31,
                    366590.9,
                    3911.5299999999997,
                    4491.53,
                    1109758.4,
                    755190.63,
                    100200,
                    264879.7,
                    212740.63,
                    107500,
                    2826610.6799999997,
                    32790,
                    568810.37,
                    87796.36,
                    313856.41,
                    1292500,
                    51431.42,
                    50000,
                    339591.12,
                    100000,
                    1747983.33,
                    2528150.79,
                    716766,
                    706563.9199999999,
                    100788,
                    1241.53,
                    29116.67,
                    62564.85,
                    497029.48,
                    50000,
                    95761.31,
                    16800,
                    120395.5,
                    303811,
                    253342.53,
                    34026.25,
                    61370.56,
                    53212,
                    25000,
                    1091500,
                    71148.4,
                    272025.55000000005,
                    863249.6,
                    1148862.54,
                    1968455.4,
                    218374.53,
                    174258.4,
                    55000,
                    106788,
                    30000,
                    298976.5,
                    80000,
                    40256.41,
                    20000,
                    59933.54,
                    110256.41,
                    20000,
                    2513831.3,
                    408074.53,
                    46420,
                    106086.95999999999,
                    171986.41,
                    113700,
                    41720,
                    918432.06,
                    262000,
                    50000,
                    66590.9,
                    40614,
                    83088.15,
                    596559.82,
                    2542750,
                    98777,
                    2647846.8,
                    200100.85,
                    103048.4,
                    122770.56,
                    47796.36,
                    122167.66,
                    202800,
                    314849.53,
                    47796.36,
                    1257756.72,
                    47796.36,
                    45000,
                    184820.74000000002,
                    5931.53,
                    253232.78,
                    81637.5,
                    87590,
                    42492.9,
                    73575,
                    225000,
                    1216600,
                    19492.53,
                    132221,
                    400000,
                    62524,
                    76256.41,
                    67841.08,
                    1360971.48,
                    339000,
                    83758.4,
                    2905074.52,
                    66660,
                    687715.6,
                    217492.7,
                    242850,
                    51555,
                    1119500,
                    416167.73,
                    1408453.05,
                    444706.41000000003,
                    117557.33,
                    21185.77,
                    186863.53,
                    333761.31,
                    389095.33,
                    100000,
                    520475.97,
                    723803.6799999999,
                    180960,
                    237240.63,
                    2996590.9,
                    1778501.58,
                    30000,
                    26671.48,
                    47796.36,
                    31711.48,
                    47270,
                    79484.69,
                    443908.9,
                    209382,
                    125000,
                    1566037.03,
                    10000,
                    293230,
                    55900,
                    61365,
                    643050,
                    1198682.36,
                    81590.9,
                    13745.15,
                    1827834.85,
                    33290.9,
                    10391.54,
                    718800,
                    532800,
                    1541100,
                    221868.4,
                    64474,
                    75811.84,
                    1801800,
                    714235,
                    50000,
                    100602.36,
                    36000,
                    5679.53,
                    1551820.48,
                    81049.65,
                    50000,
                    773964.85,
                    60256.41,
                    1000000,
                    75761.31,
                    275757.44,
                    33205,
                    2423153.83,
                    92796.36,
                    136500,
                    678190.9,
                    200000,
                    2042105.1,
                    44990.49,
                    57761.31,
                    26648,
                    10000,
                    108685,
                    1396800,
                    66511.48,
                    27516.09,
                    373709.67,
                    1851.53,
                    622827.27,
                    35333.68,
                    47796.36,
                    325622.35,
                    14195.24,
                    15470,
                    154500,
                    3221072.53,
                    111544.8,
                    40000,
                    560000,
                    76290.98,
                    107868.4,
                    11256.41,
                    634369,
                    1811.53,
                    2589840.5300000003,
                    41868.4,
                    10000,
                    65540,
                    81868.4,
                    704172.27,
                    61090,
                    150000,
                    150000,
                    13350,
                    1228952.23,
                    1370213.88,
                    2014833.3599999999,
                    65333.79,
                    20000,
                    312000,
                    256250,
                    350000,
                    20000,
                    14113.2,
                    25008.56,
                    92187,
                    1728033.36,
                    50000,
                    3175000,
                    111590.9,
                    76065,
                    2734345.14,
                    373938,
                    20000,
                    902231.26,
                    20000,
                    11590.9,
                    10000,
                    170115,
                    10000,
                    170000,
                    47796.36,
                    100000,
                    92261.48,
                    316540,
                    110256.41,
                    236188.04,
                    20000,
                    2621292.19,
                    600439.1,
                    74498.15,
                    66440.1,
                    97838.15,
                    30000,
                    847811,
                    35000,
                    3600,
                    54865,
                    302800,
                    106484,
                    30000,
                    1089316.15,
                    27355.53,
                    509022.27,
                    1694698.4,
                    1416496.17,
                    385186,
                    55555,
                    57761.31,
                    20525,
                    60868.4,
                    154383,
                    113021.48,
                    506280.25,
                    11575.15,
                    191681.77000000002,
                    70868.4,
                    2088000,
                    62452.770000000004,
                    106000,
                    103271.59999999999,
                    359223.75,
                    244580.19999999998,
                    341130.8,
                    100000,
                    320000,
                    118730,
                    580573.97,
                    372828.7,
                    2295,
                    83596.36,
                    32694.66,
                    176862.79,
                    35000,
                    50000,
                    378511.88,
                    47796.36,
                    22690,
                    32000,
                    546434.77,
                    47796.36,
                    15000,
                    80256.41,
                    100000,
                    25000,
                    150874.4,
                    2742227.09,
                    144700,
                    8422,
                    77608.70999999999,
                    39582.9,
                    20000,
                    158000,
                    52000,
                    102500,
                    575035.13,
                    30000,
                    1241.53,
                    2001975,
                    561758.46,
                    413954.19,
                    86590.9,
                    50750.75,
                    100000,
                    14280,
                    116665.37,
                    536999.53,
                    538649.1,
                    116590.9,
                    190347.79,
                    86500,
                    210256.41,
                    428074.53,
                    310350,
                    30000,
                    101011,
                    15000,
                    190347.79,
                    35000,
                    2514890,
                    47260.56,
                    135600,
                    35000,
                    175545,
                    74640,
                    2120010.06,
                    2148521.48,
                    320680.68,
                    2113.5299999999997,
                    16590.9,
                    1706559.44,
                    16920,
                    15600,
                    7525.53,
                    610120,
                    91931.42,
                    66671.48,
                    103831.42,
                    7191,
                    63164.479999999996,
                    451870.63,
                    51431.42,
                    115868.4,
                    87978.4,
                    675007.27,
                    100000,
                    1948479.56,
                    464122.45,
                    780571.66,
                    212300,
                    146286.85,
                    1160526.51,
                    41868.5,
                    98081.2,
                    1551808.03,
                    100761.31,
                    47796.36,
                    614114.53,
                    2511074.5300000003,
                    1598968.32,
                    50000,
                    47796.36,
                    119684,
                    47796.36,
                    35000,
                    26148.4,
                    107800,
                    57796.36,
                    769108.38,
                    14720.45,
                    157120.75,
                    241400,
                    128500,
                    30926.42,
                    200000,
                    128000,
                    2361600,
                    690213.3899999999,
                    3641.5299999999997,
                    92128,
                    524198.63,
                    1916278.0699999998,
                    33777.45,
                    11011.53,
                    200000,
                    406895,
                    353100,
                    2574531.4,
                    47300,
                    339604.85,
                    90501.53,
                    8047.53,
                    26766,
                    1401717.87,
                    27655,
                    2691500,
                    90000,
                    50000,
                    160602,
                    381980.21,
                    4435.86,
                    154302.9,
                    411900,
                    150973.97,
                    111011,
                    382534.53,
                    166197.74000000002,
                    130074,
                    113385.47,
                    161275.47999999998,
                    2225074.5300000003,
                    54202.78999999999,
                    208723.58000000002,
                    236800,
                    518375,
                    50000,
                    62530,
                    125718.4,
                    125086.95999999999,
                    141000,
                    41006.41,
                    109865,
                    1583908.92,
                    64674,
                    56576.3,
                    210877.53,
                    2812.33,
                    85317.75,
                    119000,
                    50200,
                    200000,
                    432686.81,
                    564477.58,
                    23185.67,
                    270744.4,
                    89933.38,
                    2517573.2,
                    675,
                    1954850,
                    387849,
                    400000,
                    11590.9,
                    47796.36,
                    286839.05,
                    180450,
                    214045.88,
                    21185.77,
                    300100,
                    63000,
                    212827.27,
                    2871.5299999999997,
                    2621086.96,
                    656311.15,
                    69461.53,
                    132455,
                    14900,
                    230000,
                    50000,
                    10035,
                    37758.4,
                    120000,
                    116784.5,
                    109933.38,
                    13353.91,
                    57761.31,
                    97311.24,
                    2123448,
                    1409268.43,
                    30000,
                    87768.02,
                    1400,
                    2226866.27,
                    31139.1,
                    49406.31,
                    94315.65,
                    5891.53,
                    100761.31,
                    2840671.56,
                    25600,
                    1251056.41,
                    516340.63,
                    160000,
                    47796.36,
                    5241.63,
                    1275494.4,
                    36590.9,
                    93186.41,
                    72787.23,
                    235715,
                    191448.71000000002,
                    60000,
                    161590.9,
                    1326.53,
                    22094.28,
                    20000,
                    70426.41,
                    681084.41,
                    1132709.72,
                    19200,
                    646513.11,
                    40256.41,
                    1540866.48,
                    401099.01,
                    33787.229999999996,
                    106365,
                    33791.229999999996,
                    53787.229999999996,
                    315261.31,
                    126416,
                    9327.529999999999,
                    426816.41,
                    25000,
                    18076.53,
                    13000,
                    2851.5299999999997,
                    90288.4,
                    44268.2,
                    247150,
                    100000,
                    60947.41,
                    130196.74,
                    10000,
                    93256.41,
                    80000,
                    3096833.36,
                    575247.5,
                    89933.38,
                    82751.31,
                    57446,
                    16590.9,
                    2339990.83,
                    2391.5299999999997,
                    2526248.75,
                    105156.73,
                    321066.41000000003,
                    260074.53,
                    221419.85,
                    8381.94,
                    279750.74,
                    590877.29,
                    463096.95999999996,
                    500256.41,
                    241869.64,
                    63936.53,
                    249465,
                    65716.5,
                    1775961.8,
                    543000,
                    310650,
                    10000,
                    427346.36,
                    505410.63,
                    47796.36,
                    47796.36,
                    88722.6,
                    100669
                  ],
                  "xaxis": "x",
                  "y": [
                    3162,
                    2597,
                    1516,
                    12789,
                    634,
                    4502,
                    62445,
                    143,
                    1429,
                    380,
                    882,
                    11074,
                    4439,
                    9624,
                    59959,
                    1371,
                    1646,
                    186,
                    797,
                    731,
                    895,
                    2445,
                    1377,
                    1842,
                    793,
                    2275,
                    8626,
                    6061,
                    1192,
                    1759,
                    1619,
                    955,
                    987,
                    266,
                    487,
                    1242,
                    704,
                    20963,
                    774,
                    5716,
                    97063,
                    484,
                    3685,
                    1704,
                    1934,
                    1066,
                    839,
                    5722,
                    748,
                    877,
                    7646,
                    445,
                    4218,
                    17193,
                    2041,
                    246,
                    1431,
                    11916,
                    5976,
                    502,
                    16047,
                    1143,
                    602,
                    6274,
                    42365,
                    1571,
                    561,
                    308,
                    2609,
                    2346,
                    2748,
                    23067,
                    4885,
                    9841,
                    5860,
                    10994,
                    6600,
                    280,
                    42954,
                    2385,
                    234,
                    789,
                    9651,
                    92566,
                    3380,
                    232,
                    763,
                    2998,
                    10386,
                    2155,
                    263,
                    1304,
                    37969,
                    1114,
                    3046,
                    1086,
                    1742,
                    1085,
                    4258,
                    1914,
                    9129,
                    878,
                    622,
                    5553,
                    2915,
                    473,
                    534,
                    7181,
                    4897,
                    23943,
                    3666,
                    2073,
                    98,
                    191,
                    4591,
                    8785,
                    6527,
                    495,
                    1486,
                    1906,
                    5119,
                    1029,
                    2806,
                    705,
                    4962,
                    35542,
                    248,
                    641,
                    10312,
                    359,
                    2830,
                    1498,
                    2037,
                    43460,
                    11417,
                    1427,
                    1910,
                    2844,
                    1322,
                    4120,
                    38090,
                    1607,
                    2381,
                    1511,
                    1247,
                    944,
                    279,
                    1526,
                    23943,
                    46745,
                    4730,
                    18781,
                    3331,
                    4541,
                    4992,
                    746,
                    11304,
                    11936,
                    5355,
                    75082,
                    12205,
                    395,
                    3560,
                    666,
                    76149,
                    50391,
                    24549,
                    41359,
                    1571,
                    170,
                    5124,
                    7234,
                    1608,
                    1218,
                    132,
                    421,
                    1767,
                    14841,
                    7775,
                    3634,
                    571,
                    850,
                    696,
                    17317,
                    1195,
                    10885,
                    8822,
                    8869,
                    92225,
                    637,
                    3209,
                    616,
                    1562,
                    189,
                    3185,
                    523,
                    100,
                    627,
                    764,
                    1180,
                    444,
                    93305,
                    5967,
                    5789,
                    1223,
                    50875,
                    2357,
                    1413,
                    18200,
                    31017,
                    806,
                    875,
                    718,
                    3757,
                    3793,
                    77949,
                    14219,
                    5099,
                    1092,
                    540,
                    801,
                    257,
                    7036,
                    10894,
                    2849,
                    5656,
                    14786,
                    312,
                    1239,
                    8352,
                    570,
                    2655,
                    1912,
                    1257,
                    5792,
                    1173,
                    5425,
                    31352,
                    1842,
                    951,
                    6288,
                    2605,
                    202,
                    1974,
                    24566,
                    8338,
                    1805,
                    40346,
                    4595,
                    38118,
                    30364,
                    16583,
                    217,
                    9198,
                    1511,
                    29841,
                    31657,
                    4673,
                    56,
                    813,
                    665,
                    10588,
                    8524,
                    13147,
                    5861,
                    4845,
                    3628,
                    79041,
                    46974,
                    1025,
                    4775,
                    538,
                    11366,
                    4018,
                    2693,
                    8022,
                    11986,
                    319,
                    13430,
                    3684,
                    16664,
                    3540,
                    4318,
                    7637,
                    43757,
                    1245,
                    2614,
                    44125,
                    634,
                    641,
                    18711,
                    13415,
                    98720,
                    2482,
                    182,
                    6849,
                    47056,
                    8924,
                    4407,
                    4997,
                    512,
                    1398,
                    45136,
                    2684,
                    235,
                    1785,
                    363,
                    16626,
                    867,
                    14371,
                    409,
                    31092,
                    1329,
                    42470,
                    3653,
                    2166,
                    44424,
                    1728,
                    148,
                    392,
                    411,
                    1171,
                    10355,
                    4235,
                    1959,
                    248,
                    292,
                    606,
                    5983,
                    177,
                    1123,
                    210,
                    340,
                    1856,
                    13679,
                    4187,
                    245,
                    6952,
                    3744,
                    470,
                    418,
                    8504,
                    748,
                    23224,
                    470,
                    137,
                    3000,
                    924,
                    2350,
                    1238,
                    5202,
                    475,
                    2438,
                    37645,
                    42813,
                    7692,
                    2227,
                    313,
                    6051,
                    54849,
                    1749,
                    328,
                    619,
                    2416,
                    1685,
                    50014,
                    3744,
                    88926,
                    682,
                    271,
                    80085,
                    14106,
                    977,
                    39603,
                    564,
                    825,
                    519,
                    4047,
                    107,
                    2476,
                    116,
                    408,
                    4146,
                    1158,
                    1499,
                    20725,
                    269,
                    60330,
                    8321,
                    3919,
                    822,
                    3691,
                    880,
                    4069,
                    257,
                    2015,
                    407,
                    16678,
                    407,
                    386,
                    2936,
                    2943,
                    8193,
                    29703,
                    3240,
                    40881,
                    333,
                    3378,
                    4272,
                    304,
                    5288,
                    2432,
                    49131,
                    961,
                    1744,
                    953,
                    8931,
                    7036,
                    3626,
                    554,
                    8498,
                    1774,
                    30921,
                    703,
                    3093,
                    6818,
                    22698,
                    1102,
                    1018,
                    6270,
                    209,
                    2045,
                    362,
                    1352,
                    6778,
                    477,
                    4304,
                    2564,
                    3235,
                    977,
                    2197,
                    1217,
                    2610,
                    450,
                    23324,
                    58419,
                    3665,
                    2225,
                    5734,
                    8993,
                    1040,
                    1945,
                    1012,
                    2314,
                    61546,
                    422,
                    561,
                    95745,
                    13502,
                    10014,
                    2248,
                    3728,
                    7103,
                    797,
                    4864,
                    818,
                    3996,
                    1607,
                    872,
                    718,
                    1279,
                    358,
                    6940,
                    221,
                    342,
                    162,
                    1244,
                    197,
                    24291,
                    302,
                    1398,
                    291,
                    856,
                    420,
                    8905,
                    22464,
                    2542,
                    110,
                    353,
                    50073,
                    239,
                    459,
                    1121,
                    53845,
                    10996,
                    13839,
                    7254,
                    1335,
                    4928,
                    15166,
                    944,
                    540,
                    743,
                    1530,
                    1303,
                    35440,
                    9149,
                    11655,
                    2659,
                    510,
                    4954,
                    917,
                    3917,
                    21760,
                    1290,
                    216,
                    3155,
                    34545,
                    9636,
                    1301,
                    1755,
                    3354,
                    103,
                    222,
                    3262,
                    16065,
                    2866,
                    54243,
                    4967,
                    6224,
                    3147,
                    502,
                    1852,
                    285,
                    5886,
                    69945,
                    15610,
                    343,
                    5826,
                    8166,
                    64137,
                    2368,
                    723,
                    3539,
                    24790,
                    34005,
                    39013,
                    4075,
                    2204,
                    7873,
                    1151,
                    1072,
                    74729,
                    524,
                    12998,
                    20066,
                    626,
                    4609,
                    17251,
                    467,
                    5446,
                    494,
                    4542,
                    12596,
                    1492,
                    1929,
                    655,
                    1022,
                    8858,
                    62666,
                    3428,
                    1368,
                    3487,
                    2494,
                    288,
                    368,
                    1591,
                    1951,
                    3332,
                    1176,
                    20897,
                    65219,
                    391,
                    2816,
                    2221,
                    791,
                    2177,
                    4187,
                    943,
                    1436,
                    12645,
                    10607,
                    2776,
                    12804,
                    2994,
                    57800,
                    479,
                    69341,
                    19751,
                    4587,
                    1045,
                    383,
                    3364,
                    2541,
                    2899,
                    374,
                    4884,
                    3381,
                    616,
                    255,
                    65506,
                    3674,
                    3975,
                    11556,
                    4728,
                    3825,
                    199,
                    814,
                    2727,
                    115,
                    797,
                    2143,
                    1718,
                    1358,
                    3474,
                    33516,
                    37291,
                    742,
                    946,
                    2004,
                    79633,
                    3180,
                    7262,
                    1271,
                    595,
                    402,
                    26503,
                    255,
                    80186,
                    13085,
                    2108,
                    830,
                    636,
                    21034,
                    684,
                    13164,
                    498,
                    3931,
                    1690,
                    473,
                    3439,
                    309,
                    2000,
                    697,
                    359,
                    2215,
                    5400,
                    464,
                    34163,
                    288,
                    25030,
                    7412,
                    299,
                    1926,
                    261,
                    121,
                    4803,
                    778,
                    291,
                    40477,
                    279,
                    863,
                    1318,
                    536,
                    210,
                    390,
                    4270,
                    866,
                    485,
                    986,
                    370,
                    1225,
                    301,
                    87502,
                    1458,
                    6755,
                    578,
                    787,
                    4799,
                    82912,
                    570,
                    45933,
                    10599,
                    29760,
                    4359,
                    463,
                    1345,
                    17644,
                    49562,
                    18419,
                    1444,
                    1635,
                    1032,
                    749,
                    2376,
                    55027,
                    6186,
                    3120,
                    116,
                    12560,
                    15595,
                    65,
                    645,
                    9112,
                    416
                  ],
                  "yaxis": "y"
                },
                {
                  "hovertemplate": "<b>OLS trendline</b><br>Votos nominais = 0.0204899 * Valor de receita + 1640.97<br>R<sup>2</sup>=0.562939<br><br>Situação totalização=Suplente<br>Valor de receita=%{x}<br>Votos nominais=%{y} <b>(trend)</b><extra></extra>",
                  "legendgroup": "Suplente",
                  "marker": {
                    "color": "#EF553B",
                    "symbol": "circle"
                  },
                  "mode": "lines",
                  "name": "Suplente",
                  "showlegend": false,
                  "type": "scattergl",
                  "x": [
                    300,
                    675,
                    1241.53,
                    1241.53,
                    1241.53,
                    1326.53,
                    1400,
                    1741.53,
                    1811.53,
                    1851.53,
                    1956,
                    2051.5299999999997,
                    2113.5299999999997,
                    2295,
                    2391.5299999999997,
                    2812.33,
                    2851.5299999999997,
                    2871.5299999999997,
                    2891.5299999999997,
                    3200,
                    3241.5299999999997,
                    3361.5299999999997,
                    3600,
                    3641.5299999999997,
                    3911.5299999999997,
                    4125.63,
                    4435.86,
                    4491.53,
                    4741.53,
                    5241.63,
                    5507.08,
                    5641.53,
                    5679.53,
                    5891.53,
                    5931.53,
                    7191,
                    7525.53,
                    7796.36,
                    8047.53,
                    8381.94,
                    8422,
                    9327.529999999999,
                    10000,
                    10000,
                    10000,
                    10000,
                    10000,
                    10000,
                    10000,
                    10000,
                    10000,
                    10000,
                    10000,
                    10035,
                    10391.54,
                    10800,
                    11011.53,
                    11256.41,
                    11575.15,
                    11590.9,
                    11590.9,
                    11590.9,
                    11590.9,
                    13000,
                    13150,
                    13170,
                    13350,
                    13353.91,
                    13590.9,
                    13745.15,
                    14113.2,
                    14195.24,
                    14280,
                    14720.45,
                    14900,
                    15000,
                    15000,
                    15000,
                    15470,
                    15600,
                    16000,
                    16590.9,
                    16590.9,
                    16800,
                    16920,
                    18076.53,
                    19200,
                    19492.53,
                    20000,
                    20000,
                    20000,
                    20000,
                    20000,
                    20000,
                    20000,
                    20000,
                    20000,
                    20000,
                    20525,
                    20870,
                    21185.77,
                    21185.77,
                    22000,
                    22094.28,
                    22690,
                    23185.67,
                    25000,
                    25000,
                    25000,
                    25008.56,
                    25500,
                    25600,
                    25613.53,
                    26148.4,
                    26648,
                    26671.48,
                    26766,
                    27355.53,
                    27516.09,
                    27655,
                    29000,
                    29116.67,
                    29560.77,
                    30000,
                    30000,
                    30000,
                    30000,
                    30000,
                    30000,
                    30000,
                    30000,
                    30000,
                    30000,
                    30785.559999999998,
                    30926.42,
                    31139.1,
                    31711.48,
                    32000,
                    32694.66,
                    32790,
                    33200,
                    33205,
                    33290.9,
                    33777.45,
                    33787.229999999996,
                    33791.229999999996,
                    34026.25,
                    35000,
                    35000,
                    35000,
                    35000,
                    35000,
                    35000,
                    35000,
                    35333.68,
                    36000,
                    36590.9,
                    37107.8,
                    37758.4,
                    38975.759999999995,
                    39582.9,
                    39933.38,
                    40000,
                    40000,
                    40256.41,
                    40256.41,
                    40614,
                    41006.41,
                    41490,
                    41663.2,
                    41720,
                    41868.4,
                    41868.5,
                    42492.9,
                    44268.2,
                    44990.49,
                    45000,
                    46420,
                    47260.56,
                    47270,
                    47300,
                    47796.36,
                    47796.36,
                    47796.36,
                    47796.36,
                    47796.36,
                    47796.36,
                    47796.36,
                    47796.36,
                    47796.36,
                    47796.36,
                    47796.36,
                    47796.36,
                    47796.36,
                    47796.36,
                    47796.36,
                    47796.36,
                    47796.36,
                    47796.36,
                    49406.31,
                    50000,
                    50000,
                    50000,
                    50000,
                    50000,
                    50000,
                    50000,
                    50000,
                    50000,
                    50000,
                    50000,
                    50000,
                    50000,
                    50200,
                    50296.36,
                    50750.75,
                    50920.56,
                    51431.42,
                    51431.42,
                    51555,
                    51590.9,
                    52000,
                    53212,
                    53787.229999999996,
                    54202.78999999999,
                    54865,
                    55000,
                    55000,
                    55555,
                    55900,
                    56576.3,
                    57446,
                    57761.31,
                    57761.31,
                    57761.31,
                    57796.36,
                    58960.56,
                    59718.4,
                    59933.54,
                    60000,
                    60000,
                    60256.41,
                    60256.41,
                    60868.4,
                    60947.41,
                    61090,
                    61365,
                    61370.56,
                    61910,
                    62452.770000000004,
                    62524,
                    62530,
                    62564.85,
                    63000,
                    63164.479999999996,
                    63936.53,
                    64474,
                    64674,
                    65333.79,
                    65540,
                    65716.5,
                    66440.1,
                    66511.48,
                    66590.9,
                    66660,
                    66671.48,
                    67841.08,
                    69461.53,
                    69960.56,
                    70326.41,
                    70426.41,
                    70600,
                    70868.4,
                    71148.4,
                    71758.4,
                    71822,
                    72787.23,
                    73575,
                    74498.15,
                    74640,
                    75000,
                    75761.31,
                    75811.84,
                    76065,
                    76256.41,
                    76290.98,
                    77608.70999999999,
                    77620,
                    79484.69,
                    80000,
                    80000,
                    80256.41,
                    81049.65,
                    81590.9,
                    81637.5,
                    81868.4,
                    82751.31,
                    82761.31,
                    82761.31,
                    83088.15,
                    83596.36,
                    83758.4,
                    85317.75,
                    86500,
                    86590.9,
                    86769.01000000001,
                    87590,
                    87768.02,
                    87796.36,
                    87978.4,
                    88722.6,
                    89933.38,
                    89933.38,
                    90000,
                    90288.4,
                    90501.53,
                    91185,
                    91826.2,
                    91931.42,
                    92128,
                    92187,
                    92261.48,
                    92796.36,
                    92965.14,
                    93186.41,
                    93256.41,
                    94315.65,
                    95761.31,
                    97311.24,
                    97838.15,
                    98081.2,
                    98777,
                    100000,
                    100000,
                    100000,
                    100000,
                    100000,
                    100000,
                    100000,
                    100000,
                    100000,
                    100000,
                    100200,
                    100602.36,
                    100669,
                    100761.31,
                    100761.31,
                    100761.31,
                    100788,
                    101011,
                    102061,
                    102500,
                    103048.4,
                    103200,
                    103271.59999999999,
                    103831.42,
                    105156.73,
                    106000,
                    106086.95999999999,
                    106365,
                    106484,
                    106788,
                    107500,
                    107800,
                    107868.4,
                    108685,
                    109865,
                    109933.38,
                    110000,
                    110256.41,
                    110256.41,
                    111011,
                    111544.8,
                    111590.9,
                    111659,
                    112761.48,
                    113021.48,
                    113385.47,
                    113590.9,
                    113700,
                    115868.4,
                    116590.9,
                    116665.37,
                    116784.5,
                    117557.33,
                    118730,
                    119000,
                    119000.12,
                    119684,
                    119790,
                    120000,
                    120000,
                    120395.5,
                    121335,
                    122167.66,
                    122770.56,
                    125000,
                    125086.95999999999,
                    125718.4,
                    126416,
                    128000,
                    128500,
                    130074,
                    130196.74,
                    132221,
                    132455,
                    135600,
                    136500,
                    138590.9,
                    141000,
                    144700,
                    146286.85,
                    150000,
                    150000,
                    150256.41,
                    150786.85,
                    150874.4,
                    150973.97,
                    152465,
                    154302.9,
                    154383,
                    154500,
                    156685,
                    157120.75,
                    158000,
                    158706.41,
                    160000,
                    160602,
                    161275.47999999998,
                    161590.9,
                    163000,
                    165345,
                    166197.74000000002,
                    167587.74,
                    170000,
                    170000,
                    170115,
                    171360,
                    171986.41,
                    174258.4,
                    174353.78999999998,
                    175545,
                    176862.79,
                    180450,
                    180960,
                    184820.74000000002,
                    186827.89,
                    186863.53,
                    190347.79,
                    190347.79,
                    191448.71000000002,
                    191681.77000000002,
                    194087.13,
                    198999.96,
                    200000,
                    200000,
                    200000,
                    200000,
                    200100.85,
                    200758.4,
                    202800,
                    203361.31,
                    208723.58000000002,
                    209382,
                    210256.41,
                    210256.41,
                    210877.53,
                    212300,
                    212740.63,
                    212827.27,
                    214045.88,
                    217492.7,
                    218374.53,
                    220172.19,
                    221419.85,
                    221868.4,
                    223628.1,
                    225000,
                    230000,
                    235715,
                    236188.04,
                    236800,
                    237240.63,
                    241400,
                    241869.64,
                    242850,
                    244580.19999999998,
                    247150,
                    249465,
                    253232.78,
                    253342.53,
                    256250,
                    260074.53,
                    262000,
                    264879.7,
                    270744.4,
                    272025.55000000005,
                    273935.41000000003,
                    275230.85000000003,
                    275757.44,
                    279750.74,
                    285920.56,
                    286839.05,
                    293230,
                    298976.5,
                    300100,
                    302800,
                    303811,
                    305406,
                    305849.37,
                    310350,
                    310650,
                    312000,
                    313075.12,
                    313856.41,
                    314849.53,
                    315261.31,
                    315859.63,
                    316540,
                    319900,
                    320000,
                    320271.41000000003,
                    320680.68,
                    321066.41000000003,
                    325622.35,
                    330973.97,
                    333761.31,
                    333923.2,
                    339000,
                    339591.12,
                    339604.85,
                    341130.8,
                    348474.53,
                    350000,
                    353100,
                    354824.9,
                    359223.75,
                    366590.9,
                    372828.7,
                    373709.67,
                    373938,
                    378511.88,
                    381980.21,
                    382534.53,
                    385186,
                    387849,
                    389095.33,
                    400000,
                    400000,
                    401099.01,
                    405521.15,
                    406895,
                    408074.53,
                    411900,
                    413954.19,
                    416167.73,
                    416256.41000000003,
                    426816.41,
                    427346.36,
                    428074.53,
                    432686.81,
                    443908.9,
                    444706.41000000003,
                    451870.63,
                    463096.95999999996,
                    464122.45,
                    473362,
                    480645.07,
                    483250.64,
                    497029.48,
                    500256.41,
                    505410.63,
                    506280.25,
                    509022.27,
                    516340.63,
                    518375,
                    520475.97,
                    524198.63,
                    532800,
                    536999.53,
                    538649.1,
                    543000,
                    546434.77,
                    560000,
                    561758.46,
                    564477.58,
                    568810.37,
                    575035.13,
                    575247.5,
                    580573.97,
                    590877.29,
                    596559.82,
                    598885.88,
                    600439.1,
                    610120,
                    614114.53,
                    622827.27,
                    634369,
                    643050,
                    646513.11,
                    656311.15,
                    663458.86,
                    666524.24,
                    675007.27,
                    678190.9,
                    681084.41,
                    687715.6,
                    690213.3899999999,
                    704172.27,
                    706563.9199999999,
                    714235,
                    716766,
                    718800,
                    722954.75,
                    723803.6799999999,
                    755190.63,
                    769108.38,
                    773964.85,
                    780571.66,
                    785882.27,
                    835050,
                    847811,
                    863249.6,
                    902231.26,
                    918432.06,
                    964882.27,
                    1000000,
                    1007500,
                    1066803.5,
                    1089316.15,
                    1091500,
                    1109758.4,
                    1119500,
                    1132709.72,
                    1148862.54,
                    1160526.51,
                    1198682.36,
                    1216600,
                    1228952.23,
                    1251056.41,
                    1257756.72,
                    1275494.4,
                    1292500,
                    1314590.9,
                    1360971.48,
                    1367573.71,
                    1370213.88,
                    1371901.91,
                    1396800,
                    1401717.87,
                    1408453.05,
                    1409268.43,
                    1416496.17,
                    1461851.48,
                    1509713.2,
                    1540866.48,
                    1541100,
                    1551808.03,
                    1551820.48,
                    1566037.03,
                    1583908.92,
                    1598968.32,
                    1694698.4,
                    1706559.44,
                    1728033.36,
                    1747983.33,
                    1767356.33,
                    1775961.8,
                    1778501.58,
                    1801800,
                    1807512.79,
                    1827834.85,
                    1880102.94,
                    1916278.0699999998,
                    1948479.56,
                    1954850,
                    1968455.4,
                    2001975,
                    2014833.3599999999,
                    2042105.1,
                    2088000,
                    2120010.06,
                    2123448,
                    2148521.48,
                    2225074.5300000003,
                    2226866.27,
                    2339990.83,
                    2342974.5300000003,
                    2361600,
                    2423153.83,
                    2455509.3,
                    2511074.5300000003,
                    2513831.3,
                    2514890,
                    2517573.2,
                    2526248.75,
                    2528150.79,
                    2542750,
                    2574531.4,
                    2589840.5300000003,
                    2621086.96,
                    2621292.19,
                    2647846.8,
                    2655938.23,
                    2691500,
                    2734345.14,
                    2742227.09,
                    2826610.6799999997,
                    2840671.56,
                    2905074.52,
                    2996590.9,
                    3003431.42,
                    3096833.36,
                    3175000,
                    3221072.53
                  ],
                  "xaxis": "x",
                  "y": [
                    1647.1191791024644,
                    1654.8028804053054,
                    1666.411006536235,
                    1666.411006536235,
                    1666.411006536235,
                    1668.1526454982122,
                    1669.6580362574648,
                    1676.6559416066896,
                    1678.0902325165532,
                    1678.9098273221896,
                    1681.0504040558103,
                    1683.0078013503714,
                    1684.2781732991077,
                    1687.9964700335786,
                    1689.9743571982806,
                    1698.5964945535752,
                    1699.3996974630988,
                    1699.809494865917,
                    1700.2192922687352,
                    1706.5398025111017,
                    1707.3907468180537,
                    1709.8495312349628,
                    1714.7357505674654,
                    1715.5866948744174,
                    1721.118959812463,
                    1725.5058410096317,
                    1731.862413423446,
                    1733.0030844941903,
                    1738.1255520294176,
                    1748.3725360868864,
                    1753.8115721157908,
                    1756.5664351562361,
                    1757.3450502215908,
                    1761.6889026914635,
                    1762.5084974970998,
                    1788.314874243471,
                    1795.1693505017095,
                    1800.7186220319718,
                    1805.8650627152642,
                    1812.7170801890857,
                    1813.5379043869304,
                    1832.092096495628,
                    1845.8709194692856,
                    1845.8709194692856,
                    1845.8709194692856,
                    1845.8709194692856,
                    1845.8709194692856,
                    1845.8709194692856,
                    1845.8709194692856,
                    1845.8709194692856,
                    1845.8709194692856,
                    1845.8709194692856,
                    1845.8709194692856,
                    1846.5880649242172,
                    1853.893523224257,
                    1862.262815582013,
                    1866.5970378129196,
                    1871.6145972130255,
                    1878.1455384217388,
                    1878.4682538764582,
                    1878.4682538764582,
                    1878.4682538764582,
                    1878.4682538764582,
                    1907.3405298920136,
                    1910.41401041315,
                    1910.8238078159682,
                    1914.5119844413318,
                    1914.5920998335828,
                    1919.447994158277,
                    1922.6085566275124,
                    1930.149853332874,
                    1931.8308422792343,
                    1933.5675636723777,
                    1942.5923269759412,
                    1946.2712831597414,
                    1948.3202701738323,
                    1948.3202701738323,
                    1948.3202701738323,
                    1957.9505091400597,
                    1960.614192258378,
                    1968.8101403147418,
                    1980.9176045810052,
                    1980.9176045810052,
                    1985.2020364274692,
                    1987.6608208443783,
                    2011.3579703584444,
                    2034.3777247656517,
                    2040.371626477972,
                    2050.769620878379,
                    2050.769620878379,
                    2050.769620878379,
                    2050.769620878379,
                    2050.769620878379,
                    2050.769620878379,
                    2050.769620878379,
                    2050.769620878379,
                    2050.769620878379,
                    2050.769620878379,
                    2061.5268027023567,
                    2068.5958079009706,
                    2075.065894195365,
                    2075.065894195365,
                    2091.749361160198,
                    2093.681146117083,
                    2105.8873715574255,
                    2116.0435854901702,
                    2153.2189715829263,
                    2153.2189715829263,
                    2153.2189715829263,
                    2153.3943648713325,
                    2163.463906653381,
                    2165.512893667472,
                    2165.7901216104783,
                    2176.7495384527465,
                    2186.986277575145,
                    2187.4673797260534,
                    2189.4040822517723,
                    2201.4834753959426,
                    2204.773328945767,
                    2207.6195768070406,
                    2235.178452146564,
                    2237.5690052959035,
                    2246.6685566254814,
                    2255.668322287473,
                    2255.668322287473,
                    2255.668322287473,
                    2255.668322287473,
                    2255.668322287473,
                    2255.668322287473,
                    2255.668322287473,
                    2255.668322287473,
                    2255.668322287473,
                    2255.668322287473,
                    2271.764344675366,
                    2274.6505477834144,
                    2279.008333364983,
                    2290.7363252362366,
                    2296.648062569292,
                    2310.881555761376,
                    2312.8350599806104,
                    2321.235906738383,
                    2321.338356089088,
                    2323.098435934192,
                    2333.067782251251,
                    2333.2681731812295,
                    2333.350132661793,
                    2338.1656619423097,
                    2358.11767299202,
                    2358.11767299202,
                    2358.11767299202,
                    2358.11767299202,
                    2358.11767299202,
                    2358.11767299202,
                    2358.11767299202,
                    2364.9547328606386,
                    2378.6075431329295,
                    2390.715007399193,
                    2401.306221275029,
                    2414.6369307887044,
                    2439.580479103442,
                    2452.020698860794,
                    2459.2019885477794,
                    2460.567023696567,
                    2460.567023696567,
                    2465.8208312993975,
                    2465.8208312993975,
                    2473.1478039630856,
                    2481.18823390508,
                    2491.096930206522,
                    2494.6457757149274,
                    2495.809600338931,
                    2498.850297067842,
                    2498.8523460548563,
                    2511.64622097084,
                    2548.021887431996,
                    2562.8215157360737,
                    2563.016374401114,
                    2592.1119900012054,
                    2609.334955246848,
                    2609.5283796209783,
                    2610.1430757252056,
                    2620.3134276683472,
                    2620.3134276683472,
                    2620.3134276683472,
                    2620.3134276683472,
                    2620.3134276683472,
                    2620.3134276683472,
                    2620.3134276683472,
                    2620.3134276683472,
                    2620.3134276683472,
                    2620.3134276683472,
                    2620.3134276683472,
                    2620.3134276683472,
                    2620.3134276683472,
                    2620.3134276683472,
                    2620.3134276683472,
                    2620.3134276683472,
                    2620.3134276683472,
                    2620.3134276683472,
                    2653.301094101704,
                    2665.4657251056606,
                    2665.4657251056606,
                    2665.4657251056606,
                    2665.4657251056606,
                    2665.4657251056606,
                    2665.4657251056606,
                    2665.4657251056606,
                    2665.4657251056606,
                    2665.4657251056606,
                    2665.4657251056606,
                    2665.4657251056606,
                    2665.4657251056606,
                    2665.4657251056606,
                    2669.5636991338424,
                    2671.538103020621,
                    2680.8484951139485,
                    2684.3278799625764,
                    2694.7953350227613,
                    2694.7953350227613,
                    2697.327473174775,
                    2698.0630595128337,
                    2706.4454653874795,
                    2731.2791879982615,
                    2743.065575999417,
                    2751.5803464351734,
                    2765.1489433411853,
                    2767.915075810208,
                    2767.915075810208,
                    2779.286953738412,
                    2786.355958937026,
                    2800.2132581133233,
                    2818.0332981748725,
                    2824.493959129002,
                    2824.493959129002,
                    2824.493959129002,
                    2825.212129077441,
                    2849.0664358954878,
                    2864.5944790830745,
                    2869.00266974519,
                    2870.364426514755,
                    2870.364426514755,
                    2875.6182341175854,
                    2875.6182341175854,
                    2888.1578297451206,
                    2889.7767343849537,
                    2892.6983849683456,
                    2898.3330992570964,
                    2898.4470229350795,
                    2909.5000784838917,
                    2920.6213653002733,
                    2922.08085875041,
                    2922.2037979712554,
                    2922.917869945666,
                    2931.834036937483,
                    2935.2042107782595,
                    2951.023415020549,
                    2962.0361055251833,
                    2966.134079553365,
                    2979.6530909736357,
                    2983.8783070953928,
                    2987.494769175263,
                    3002.3212392092255,
                    3003.7838061398834,
                    3005.411111626474,
                    3006.826961653211,
                    3007.062185362429,
                    3031.0271374792364,
                    3064.229947549073,
                    3074.455007445491,
                    3081.951226436543,
                    3084.000213450634,
                    3087.557050008394,
                    3093.056531154214,
                    3098.7936947936687,
                    3111.292515579624,
                    3112.5956713205856,
                    3132.3731086766957,
                    3148.5144136776,
                    3167.42963729818,
                    3170.3361253776684,
                    3177.7124786283957,
                    3193.311621665371,
                    3194.3469748035914,
                    3199.5341903284643,
                    3203.4561563721354,
                    3204.1644911829067,
                    3231.164607763687,
                    3231.395938397578,
                    3269.6031943506305,
                    3280.1618293329425,
                    3280.1618293329425,
                    3285.4156369357734,
                    3301.669021526348,
                    3312.759163740115,
                    3313.7139916886817,
                    3318.4451027042173,
                    3336.535813950328,
                    3336.740712651737,
                    3336.740712651737,
                    3343.4376218085918,
                    3353.8507787129033,
                    3357.170957270536,
                    3389.121836274763,
                    3413.345985248853,
                    3415.208514444662,
                    3418.8579652154594,
                    3435.6799437024447,
                    3439.3275503849295,
                    3439.9082333047227,
                    3443.638209265174,
                    3458.886770624039,
                    3483.695495593249,
                    3483.695495593249,
                    3485.0605307420365,
                    3490.9698092906747,
                    3495.3368153138063,
                    3509.341026859014,
                    3522.479131593365,
                    3524.6350757295913,
                    3528.6629744018915,
                    3529.871876740205,
                    3531.3979622683,
                    3542.35758400927,
                    3545.8158642916524,
                    3550.3496578577315,
                    3551.783948767595,
                    3573.4876388156517,
                    3603.1090244835586,
                    3634.8668889110586,
                    3645.6632063870047,
                    3650.6432693247534,
                    3664.9001209687976,
                    3689.95923215113,
                    3689.95923215113,
                    3689.95923215113,
                    3689.95923215113,
                    3689.95923215113,
                    3689.95923215113,
                    3689.95923215113,
                    3689.95923215113,
                    3689.95923215113,
                    3689.95923215113,
                    3694.057206179312,
                    3702.301510329208,
                    3703.6669552753983,
                    3705.558375188106,
                    3705.558375188106,
                    3705.558375188106,
                    3706.1052498221666,
                    3710.6744908635897,
                    3732.1888545115444,
                    3741.1839075034036,
                    3752.420552288678,
                    3755.52681660204,
                    3756.993891304129,
                    3768.464530406413,
                    3795.619960202862,
                    3812.8984529965865,
                    3814.68025210404,
                    3820.3772555980186,
                    3822.8155501447864,
                    3829.044470667623,
                    3843.6332582079503,
                    3849.780219250223,
                    3851.1817263678613,
                    3867.913754324928,
                    3892.0918010912014,
                    3893.4928984114367,
                    3894.857933560224,
                    3900.111741163055,
                    3900.111741163055,
                    3915.573192272683,
                    3926.5106849539006,
                    3927.4552679673966,
                    3928.8506281239925,
                    3951.440300156942,
                    3956.7676663935786,
                    3964.2257742261686,
                    3968.4350082492156,
                    3970.6704530815887,
                    4015.1006874951363,
                    4029.9046186719434,
                    4031.430499301337,
                    4033.8714575312238,
                    4049.7066438722227,
                    4073.7344998903627,
                    4079.2667648284087,
                    4079.269223612825,
                    4093.2818360047904,
                    4095.453762239727,
                    4099.756634969318,
                    4099.756634969318,
                    4107.8603786100475,
                    4127.110611607432,
                    4144.171706878962,
                    4156.525049586916,
                    4202.205985673865,
                    4203.987784781319,
                    4216.925908383094,
                    4231.219641793392,
                    4263.675596096593,
                    4273.920531167048,
                    4306.171586768839,
                    4308.686513429934,
                    4350.163337961371,
                    4354.957967574344,
                    4419.398609167504,
                    4437.839492294323,
                    4480.68176177195,
                    4530.043907928415,
                    4605.85642744978,
                    4638.370777882881,
                    4714.452739196599,
                    4714.452739196599,
                    4719.70654679943,
                    4730.575193516974,
                    4732.36908164781,
                    4734.40925801774,
                    4764.960269093941,
                    4802.618601425918,
                    4804.259840024205,
                    4806.657154830691,
                    4851.427521088579,
                    4860.35598200248,
                    4878.371700323874,
                    4892.845949490114,
                    4919.351440605693,
                    4931.686342430521,
                    4945.485860173019,
                    4951.9487750128665,
                    4980.821051028422,
                    5028.869796508854,
                    5046.342328372813,
                    5074.823247868677,
                    5124.250142014787,
                    5124.250142014787,
                    5126.606477080992,
                    5152.116365406424,
                    5164.951424961391,
                    5211.504205022835,
                    5213.458733735577,
                    5237.866471946129,
                    5264.867817919119,
                    5338.36928498729,
                    5348.819118759154,
                    5427.925180006969,
                    5469.051422860295,
                    5469.781681832117,
                    5541.173716769282,
                    5541.173716769282,
                    5563.731424604812,
                    5568.506793739853,
                    5617.7923077819905,
                    5718.455556506353,
                    5738.946246242069,
                    5738.946246242069,
                    5738.946246242069,
                    5738.946246242069,
                    5741.01264964578,
                    5754.485763756935,
                    5796.317882636615,
                    5807.819051645409,
                    5917.691267605904,
                    5931.182207904081,
                    5949.098755253994,
                    5949.098755253994,
                    5961.825423395914,
                    5990.971648975254,
                    6000.000100455443,
                    6001.775342804451,
                    6026.744503456865,
                    6097.369397655955,
                    6115.437979842312,
                    6152.271799799819,
                    6177.836191179827,
                    6187.026922431531,
                    6223.08294691849,
                    6251.192999764804,
                    6353.64235046935,
                    6470.7419583246465,
                    6480.434486496104,
                    6492.973467427533,
                    6502.001918907723,
                    6587.226870075718,
                    6596.849732688694,
                    6616.937181780037,
                    6652.388755097836,
                    6705.0436233859455,
                    6752.477672762152,
                    6829.6789956816665,
                    6831.927758929633,
                    6891.501441668221,
                    6969.865564718233,
                    7009.31819497845,
                    7068.322874023228,
                    7188.489815438619,
                    7214.740412569645,
                    7253.873195956963,
                    7280.416593332302,
                    7291.206354049804,
                    7373.028552483496,
                    7499.447363076282,
                    7518.267103902006,
                    7649.2168394790515,
                    7766.9618782437865,
                    7789.982247347098,
                    7845.304896727554,
                    7866.020155440014,
                    7898.701498314764,
                    7907.786092039138,
                    8000.00341629142,
                    8006.150377333692,
                    8033.811702023921,
                    8055.840771209814,
                    8071.849301852204,
                    8092.198201686546,
                    8100.635520413169,
                    8112.895019515878,
                    8126.835712463648,
                    8195.681676137105,
                    8197.730663151195,
                    8203.29181880614,
                    8211.677707958708,
                    8219.581265568162,
                    8312.931884537937,
                    8422.585883381429,
                    8479.698118019993,
                    8483.015223097105,
                    8587.038195828472,
                    8599.150167866168,
                    8599.431493783202,
                    8630.698011124723,
                    8781.170085174625,
                    8812.426767378476,
                    8875.945364815296,
                    8911.288341821351,
                    9001.420207090689,
                    9152.37215389929,
                    9280.183865864255,
                    9298.234826762291,
                    9302.913278811566,
                    9396.631486051669,
                    9467.69711735749,
                    9479.055062173997,
                    9533.383338156515,
                    9587.947862341756,
                    9613.485002194475,
                    9836.920274423945,
                    9836.920274423945,
                    9859.438846607507,
                    9950.047920952427,
                    9978.197929045515,
                    10002.366345572822,
                    10080.749729100768,
                    10122.83981544552,
                    10168.19496259723,
                    10170.012004281327,
                    10386.385032969329,
                    10397.243639650504,
                    10412.16374839101,
                    10506.668766644523,
                    10736.607933454121,
                    10752.9488097902,
                    10899.742747251104,
                    11129.768791110098,
                    11150.7809480409,
                    11340.09812770134,
                    11489.327286228492,
                    11542.715077171542,
                    11825.041719463909,
                    11891.161096117714,
                    11996.770394595393,
                    12014.58879546733,
                    12070.772429191107,
                    12220.724675235531,
                    12262.408652354094,
                    12305.45725482404,
                    12381.734074802798,
                    12557.97502913671,
                    12644.022853489565,
                    12677.822328577904,
                    12766.971704573987,
                    12837.349695837878,
                    13115.299496969446,
                    13151.33011401743,
                    13207.044529714978,
                    13295.822834162811,
                    13423.367358221138,
                    13427.718791942963,
                    13536.857470552412,
                    13747.971159372648,
                    13864.405461144468,
                    13912.066128484432,
                    13943.891404584696,
                    14142.251788431826,
                    14224.099189405793,
                    14402.622100577299,
                    14639.110649478736,
                    14816.983212171972,
                    14887.941886355655,
                    15088.702453591091,
                    15235.158103295971,
                    15297.967341428512,
                    15471.78352452995,
                    15537.015689806654,
                    15596.303333958078,
                    15732.175555937773,
                    15783.354948677033,
                    16069.370587189573,
                    16118.375185112078,
                    16275.554618152606,
                    16327.414479479248,
                    16369.090875345857,
                    16454.221163313803,
                    16471.61562877252,
                    17114.73015839174,
                    17399.90304854538,
                    17499.4114881886,
                    17634.784167134265,
                    17743.59787640328,
                    18751.038279226574,
                    19012.50951209472,
                    19328.844421252164,
                    20127.573572529247,
                    20459.52586070809,
                    21411.284631626062,
                    22130.842358969578,
                    22284.5163850264,
                    23499.637398927818,
                    23960.91867395556,
                    24005.66547686279,
                    24379.777721843566,
                    24579.381840808248,
                    24850.047288206024,
                    25181.016472415507,
                    25420.00970304297,
                    26201.81811465899,
                    26568.94823149055,
                    26822.043820141196,
                    27274.95559791248,
                    27412.244079716318,
                    27775.686839517322,
                    28124.129375185574,
                    28576.769047481386,
                    29527.101108741448,
                    29662.379944081862,
                    29716.476684531786,
                    29751.064200025747,
                    30261.222830882423,
                    30361.9893485523,
                    30499.992312127946,
                    30516.69934244344,
                    30664.794796455695,
                    31594.119208556385,
                    32574.79963607695,
                    33213.12629774034,
                    33217.91109221565,
                    33437.31723638061,
                    33437.57233526386,
                    33728.86759861561,
                    34095.06030388822,
                    34403.62545428824,
                    36365.12236206709,
                    36608.15353140323,
                    37048.15136361951,
                    37456.92365823455,
                    37853.87391247439,
                    38030.19887527588,
                    38082.238637662354,
                    38559.62023795072,
                    38676.674563193,
                    39093.07093358877,
                    40164.03731020214,
                    40905.26102623265,
                    41565.065374676444,
                    41695.5948630169,
                    41974.367742232025,
                    42661.179993407255,
                    42924.64612003232,
                    43483.44053114897,
                    44423.82107227899,
                    45079.7030448817,
                    45150.14598903394,
                    45663.89833821463,
                    47232.46039160518,
                    47269.172911531445,
                    49587.08045567896,
                    49648.216081218394,
                    50029.84954283179,
                    51291.07952620741,
                    51954.03890485549,
                    53092.56325190526,
                    53149.04911121361,
                    53170.74173673179,
                    53225.720156293886,
                    53403.481049194845,
                    53442.453601797664,
                    53741.58951885753,
                    54392.786277753825,
                    54706.46836342413,
                    55346.70365649114,
                    55350.90879254016,
                    55895.00930308265,
                    56060.80165303691,
                    56789.4577023178,
                    57667.34905708688,
                    57828.84918904402,
                    59557.85799016776,
                    59845.963595434674,
                    61165.571882524855,
                    63040.73062449097,
                    63180.891990987264,
                    65094.68561249627,
                    66696.30991544749,
                    67640.33007221064
                  ],
                  "yaxis": "y"
                },
                {
                  "customdata": [
                    [
                      "ADRIANA MIGUEL VENTURA",
                      "NOVO"
                    ],
                    [
                      "ALBERTO PEREIRA MOURÃO",
                      "MDB"
                    ],
                    [
                      "ALENCAR SANTANA BRAGA",
                      "PT"
                    ],
                    [
                      "ALEX SPINELLI MANENTE",
                      "CIDADANIA"
                    ],
                    [
                      "ALEXANDRE LEITE DA SILVA",
                      "UNIÃO"
                    ],
                    [
                      "ALEXANDRE ROCHA SANTOS PADILHA",
                      "PT"
                    ],
                    [
                      "ANTONIO CARLOS RODRIGUES",
                      "PL"
                    ],
                    [
                      "ANTONIO CEZAR CORREIA FREIRE",
                      "PSD"
                    ],
                    [
                      "ARLINDO CHIGNALIA JUNIOR",
                      "PT"
                    ],
                    [
                      "ARNALDO CALIL PEREIRA JARDIM",
                      "CIDADANIA"
                    ],
                    [
                      "BRUNO AREVALO GANEM",
                      "PODE"
                    ],
                    [
                      "CARLOS ALBERTO DA CUNHA",
                      "PP"
                    ],
                    [
                      "CARLOS ALBERTO ROLIM ZARATTINI",
                      "PT"
                    ],
                    [
                      "CARLOS HENRIQUE FOCESI SAMPAIO",
                      "PSDB"
                    ],
                    [
                      "CELSO UBIRAJARA RUSSOMANNO",
                      "REPUBLICANOS"
                    ],
                    [
                      "DAVID BEZERRA RIBEIRO SOARES",
                      "UNIÃO"
                    ],
                    [
                      "ERIKA SANTOS SILVA",
                      "PSOL"
                    ],
                    [
                      "FAUSTO RUY PINATO",
                      "PP"
                    ],
                    [
                      "FELIPE BECARI COMENALE",
                      "UNIÃO"
                    ],
                    [
                      "FERNANDO JOSE DE SOUZA MARANGONI",
                      "UNIÃO"
                    ],
                    [
                      "FRANCISCO DANIEL CELEGUIM DE MORAIS",
                      "PT"
                    ],
                    [
                      "FRANCISCO EVERARDO TIRIRICA OLIVEIRA SILVA",
                      "PL"
                    ],
                    [
                      "GILBERTO NASCIMENTO SILVA",
                      "PSC"
                    ],
                    [
                      "GUILHERME MURARO DERRITE",
                      "PL"
                    ],
                    [
                      "JEFFERSON ALVES DE CAMPOS",
                      "PL"
                    ],
                    [
                      "JILMAR AUGUSTINHO TATTO",
                      "PT"
                    ],
                    [
                      "JONAS DONIZETTE FERREIRA",
                      "PSB"
                    ],
                    [
                      "JULIANA CARDOSO",
                      "PT"
                    ],
                    [
                      "KIM PATROCA KATAGUIRI",
                      "UNIÃO"
                    ],
                    [
                      "LUIZ CARLOS MOTTA",
                      "PL"
                    ],
                    [
                      "LUIZ FELIPE BALEIA TENUTO ROSSI",
                      "MDB"
                    ],
                    [
                      "LUIZ MARINHO",
                      "PT"
                    ],
                    [
                      "LUIZ PAULO TEIXEIRA FERREIRA",
                      "PT"
                    ],
                    [
                      "LUIZA ERUNDINA DE SOUSA",
                      "PSOL"
                    ],
                    [
                      "MANOEL MAURICIO SILVA NEVES",
                      "PP"
                    ],
                    [
                      "MARCIO LUIZ ALVINO DE SOUZA",
                      "PL"
                    ],
                    [
                      "MARCO ANTONIO FELICIANO",
                      "PL"
                    ],
                    [
                      "MARCO AURELIO BERTAIOLLI",
                      "PSD"
                    ],
                    [
                      "MARCOS ANTONIO PEREIRA",
                      "REPUBLICANOS"
                    ],
                    [
                      "MARIA DO PARTO MENDES ROSAS",
                      "REPUBLICANOS"
                    ],
                    [
                      "MARIA OSMARINA MARINA DA SILVA VAZ DE LIMA",
                      "REDE"
                    ],
                    [
                      "MARIO LUIS FRIAS",
                      "PL"
                    ],
                    [
                      "MARIO PALUMBO JUNIOR",
                      "MDB"
                    ],
                    [
                      "MIGUEL LOMBARDI",
                      "PL"
                    ],
                    [
                      "MILTON VIEIRA PINTO",
                      "REPUBLICANOS"
                    ],
                    [
                      "PAULO ALEXANDRE PEREIRA BARBOSA",
                      "PSDB"
                    ],
                    [
                      "PAULO FRANCISCO MUNIZ BILYNSKYJ",
                      "PL"
                    ],
                    [
                      "PAULO ROBERTO FREIRE DA COSTA",
                      "PL"
                    ],
                    [
                      "RENATA HELLMEISTER DE ABREU MELO",
                      "PODE"
                    ],
                    [
                      "RICARDO AUGUSTO MACHADO DA SILVA",
                      "PSD"
                    ],
                    [
                      "RODRIGO GAMBALE VIEIRA",
                      "PODE"
                    ],
                    [
                      "ROSANA DE OLIVEIRA VALLE",
                      "PL"
                    ],
                    [
                      "ROSANGELA MARIA WOLFF DE QUADROS MORO",
                      "UNIÃO"
                    ],
                    [
                      "RUI GOETHE DA COSTA FALCÃO",
                      "PT"
                    ],
                    [
                      "SIMONE APARECIDA CURRALADAS DOS SANTOS",
                      "MDB"
                    ],
                    [
                      "SÂMIA DE SOUZA BOMFIM",
                      "PSOL"
                    ],
                    [
                      "SÔNIA BONE DE SOUSA SILVA SANTOS",
                      "PSOL"
                    ],
                    [
                      "TABATA CLAUDIA AMARAL DE PONTES",
                      "PSB"
                    ],
                    [
                      "VINICIUS RAPOZO DE CARVALHO",
                      "REPUBLICANOS"
                    ],
                    [
                      "VITOR LIPPI",
                      "PSDB"
                    ]
                  ],
                  "hovertemplate": "Situação totalização=Eleito<br>Valor de receita=%{x}<br>Votos nominais=%{y}<br>Nome candidato=%{customdata[0]}<br>Partido=%{customdata[1]}<extra></extra>",
                  "legendgroup": "Eleito",
                  "marker": {
                    "color": "#00cc96",
                    "symbol": "circle"
                  },
                  "mode": "markers",
                  "name": "Eleito",
                  "showlegend": true,
                  "type": "scattergl",
                  "x": [
                    1035848.51,
                    2833184,
                    1859272.53,
                    3107760.02,
                    2807933.91,
                    2198002.2800000003,
                    1035345.04,
                    1642289.1099999999,
                    2223367.16,
                    3789999.99,
                    800000,
                    2328348,
                    2202254.05,
                    2471662.21,
                    2725834,
                    2557004.01,
                    1520936.59,
                    2530515.27,
                    2930124.5300000003,
                    2876708.34,
                    1708637.9200000002,
                    600000,
                    1452700,
                    2356995.63,
                    724982.13,
                    1999707.8800000001,
                    3147286.96,
                    2641213.94,
                    1625249.99,
                    1093496.3900000001,
                    2933000,
                    1872305.48,
                    3281293.48,
                    1945593.57,
                    2790016.95,
                    966020.63,
                    2016070.63,
                    2364056.41,
                    3093528.55,
                    2899335.6,
                    2923182.52,
                    770214.09,
                    585331,
                    1202990.63,
                    1075001.21,
                    3188141.6,
                    221147.64,
                    505240.63,
                    3313917.4,
                    1674543.8599999999,
                    1800000,
                    3043728.88,
                    2869128.9699999997,
                    1995636.48,
                    1103000,
                    2013710.6600000001,
                    1340644.05,
                    2339466.37,
                    1627135,
                    2782433.36
                  ],
                  "xaxis": "x",
                  "y": [
                    109474,
                    114234,
                    139223,
                    196866,
                    192806,
                    140037,
                    73054,
                    143434,
                    144108,
                    113462,
                    141595,
                    181568,
                    147349,
                    98102,
                    305520,
                    93831,
                    256903,
                    72169,
                    178777,
                    89390,
                    167438,
                    71754,
                    95077,
                    239772,
                    155336,
                    157843,
                    84044,
                    125517,
                    295460,
                    104701,
                    236463,
                    156202,
                    122800,
                    113983,
                    129731,
                    187314,
                    220595,
                    157552,
                    231626,
                    94787,
                    237526,
                    122564,
                    254898,
                    107869,
                    98557,
                    170378,
                    72156,
                    161675,
                    180247,
                    133936,
                    108209,
                    216437,
                    217170,
                    193990,
                    97730,
                    226187,
                    156966,
                    337873,
                    113009,
                    106661
                  ],
                  "yaxis": "y"
                },
                {
                  "hovertemplate": "<b>OLS trendline</b><br>Votos nominais = 0.0134292 * Valor de receita + 128955<br>R<sup>2</sup>=0.034863<br><br>Situação totalização=Eleito<br>Valor de receita=%{x}<br>Votos nominais=%{y} <b>(trend)</b><extra></extra>",
                  "legendgroup": "Eleito",
                  "marker": {
                    "color": "#00cc96",
                    "symbol": "circle"
                  },
                  "mode": "lines",
                  "name": "Eleito",
                  "showlegend": false,
                  "type": "scattergl",
                  "x": [
                    221147.64,
                    505240.63,
                    585331,
                    600000,
                    724982.13,
                    770214.09,
                    800000,
                    966020.63,
                    1035345.04,
                    1035848.51,
                    1075001.21,
                    1093496.3900000001,
                    1103000,
                    1202990.63,
                    1340644.05,
                    1452700,
                    1520936.59,
                    1625249.99,
                    1627135,
                    1642289.1099999999,
                    1674543.8599999999,
                    1708637.9200000002,
                    1800000,
                    1859272.53,
                    1872305.48,
                    1945593.57,
                    1995636.48,
                    1999707.8800000001,
                    2013710.6600000001,
                    2016070.63,
                    2198002.2800000003,
                    2202254.05,
                    2223367.16,
                    2328348,
                    2339466.37,
                    2356995.63,
                    2364056.41,
                    2471662.21,
                    2530515.27,
                    2557004.01,
                    2641213.94,
                    2725834,
                    2782433.36,
                    2790016.95,
                    2807933.91,
                    2833184,
                    2869128.9699999997,
                    2876708.34,
                    2899335.6,
                    2923182.52,
                    2930124.5300000003,
                    2933000,
                    3043728.88,
                    3093528.55,
                    3107760.02,
                    3147286.96,
                    3188141.6,
                    3281293.48,
                    3313917.4,
                    3789999.99
                  ],
                  "xaxis": "x",
                  "y": [
                    131924.49761315773,
                    135739.62870021953,
                    136815.17533852725,
                    137012.16773146205,
                    138690.57313488366,
                    139298.00050127076,
                    139698.00034356685,
                    141927.51845524777,
                    142858.4872612124,
                    142865.2484419385,
                    143391.03643449827,
                    143639.411222552,
                    143767.03675090562,
                    145109.82722570014,
                    146958.39744871893,
                    148463.21507317087,
                    149379.57536697498,
                    150780.41702497264,
                    150805.73113163337,
                    151009.23814586047,
                    151442.39244308692,
                    151900.2471342222,
                    153127.16340409082,
                    153923.14387447064,
                    154098.1654851803,
                    155082.36319618465,
                    155754.39759459777,
                    155809.0730890824,
                    155997.11870500303,
                    156028.81112695098,
                    158472.00092067115,
                    158529.098633297,
                    158812.63003020178,
                    160222.43484879256,
                    160371.7452524898,
                    160607.14854336012,
                    160701.9689093146,
                    162147.02474377275,
                    162937.37208312354,
                    163293.09369185136,
                    164423.96257313667,
                    165560.339157068,
                    166320.42119162928,
                    166422.26245832344,
                    166662.87223571233,
                    167001.95981161523,
                    167484.67067495087,
                    167586.45527057693,
                    167890.3204347298,
                    168210.56461190106,
                    168303.78999615886,
                    168342.4051516645,
                    169829.4013366937,
                    170498.169225484,
                    170689.28595670493,
                    171220.0996792485,
                    171768.7433015875,
                    173019.69508750184,
                    173457.80702885534,
                    179851.19776024192
                  ],
                  "yaxis": "y"
                }
              ],
              "layout": {
                "legend": {
                  "title": {
                    "text": "Situação totalização"
                  },
                  "tracegroupgap": 0
                },
                "margin": {
                  "t": 60
                },
                "template": {
                  "data": {
                    "bar": [
                      {
                        "error_x": {
                          "color": "#2a3f5f"
                        },
                        "error_y": {
                          "color": "#2a3f5f"
                        },
                        "marker": {
                          "line": {
                            "color": "#E5ECF6",
                            "width": 0.5
                          },
                          "pattern": {
                            "fillmode": "overlay",
                            "size": 10,
                            "solidity": 0.2
                          }
                        },
                        "type": "bar"
                      }
                    ],
                    "barpolar": [
                      {
                        "marker": {
                          "line": {
                            "color": "#E5ECF6",
                            "width": 0.5
                          },
                          "pattern": {
                            "fillmode": "overlay",
                            "size": 10,
                            "solidity": 0.2
                          }
                        },
                        "type": "barpolar"
                      }
                    ],
                    "carpet": [
                      {
                        "aaxis": {
                          "endlinecolor": "#2a3f5f",
                          "gridcolor": "white",
                          "linecolor": "white",
                          "minorgridcolor": "white",
                          "startlinecolor": "#2a3f5f"
                        },
                        "baxis": {
                          "endlinecolor": "#2a3f5f",
                          "gridcolor": "white",
                          "linecolor": "white",
                          "minorgridcolor": "white",
                          "startlinecolor": "#2a3f5f"
                        },
                        "type": "carpet"
                      }
                    ],
                    "choropleth": [
                      {
                        "colorbar": {
                          "outlinewidth": 0,
                          "ticks": ""
                        },
                        "type": "choropleth"
                      }
                    ],
                    "contour": [
                      {
                        "colorbar": {
                          "outlinewidth": 0,
                          "ticks": ""
                        },
                        "colorscale": [
                          [
                            0,
                            "#0d0887"
                          ],
                          [
                            0.1111111111111111,
                            "#46039f"
                          ],
                          [
                            0.2222222222222222,
                            "#7201a8"
                          ],
                          [
                            0.3333333333333333,
                            "#9c179e"
                          ],
                          [
                            0.4444444444444444,
                            "#bd3786"
                          ],
                          [
                            0.5555555555555556,
                            "#d8576b"
                          ],
                          [
                            0.6666666666666666,
                            "#ed7953"
                          ],
                          [
                            0.7777777777777778,
                            "#fb9f3a"
                          ],
                          [
                            0.8888888888888888,
                            "#fdca26"
                          ],
                          [
                            1,
                            "#f0f921"
                          ]
                        ],
                        "type": "contour"
                      }
                    ],
                    "contourcarpet": [
                      {
                        "colorbar": {
                          "outlinewidth": 0,
                          "ticks": ""
                        },
                        "type": "contourcarpet"
                      }
                    ],
                    "heatmap": [
                      {
                        "colorbar": {
                          "outlinewidth": 0,
                          "ticks": ""
                        },
                        "colorscale": [
                          [
                            0,
                            "#0d0887"
                          ],
                          [
                            0.1111111111111111,
                            "#46039f"
                          ],
                          [
                            0.2222222222222222,
                            "#7201a8"
                          ],
                          [
                            0.3333333333333333,
                            "#9c179e"
                          ],
                          [
                            0.4444444444444444,
                            "#bd3786"
                          ],
                          [
                            0.5555555555555556,
                            "#d8576b"
                          ],
                          [
                            0.6666666666666666,
                            "#ed7953"
                          ],
                          [
                            0.7777777777777778,
                            "#fb9f3a"
                          ],
                          [
                            0.8888888888888888,
                            "#fdca26"
                          ],
                          [
                            1,
                            "#f0f921"
                          ]
                        ],
                        "type": "heatmap"
                      }
                    ],
                    "heatmapgl": [
                      {
                        "colorbar": {
                          "outlinewidth": 0,
                          "ticks": ""
                        },
                        "colorscale": [
                          [
                            0,
                            "#0d0887"
                          ],
                          [
                            0.1111111111111111,
                            "#46039f"
                          ],
                          [
                            0.2222222222222222,
                            "#7201a8"
                          ],
                          [
                            0.3333333333333333,
                            "#9c179e"
                          ],
                          [
                            0.4444444444444444,
                            "#bd3786"
                          ],
                          [
                            0.5555555555555556,
                            "#d8576b"
                          ],
                          [
                            0.6666666666666666,
                            "#ed7953"
                          ],
                          [
                            0.7777777777777778,
                            "#fb9f3a"
                          ],
                          [
                            0.8888888888888888,
                            "#fdca26"
                          ],
                          [
                            1,
                            "#f0f921"
                          ]
                        ],
                        "type": "heatmapgl"
                      }
                    ],
                    "histogram": [
                      {
                        "marker": {
                          "pattern": {
                            "fillmode": "overlay",
                            "size": 10,
                            "solidity": 0.2
                          }
                        },
                        "type": "histogram"
                      }
                    ],
                    "histogram2d": [
                      {
                        "colorbar": {
                          "outlinewidth": 0,
                          "ticks": ""
                        },
                        "colorscale": [
                          [
                            0,
                            "#0d0887"
                          ],
                          [
                            0.1111111111111111,
                            "#46039f"
                          ],
                          [
                            0.2222222222222222,
                            "#7201a8"
                          ],
                          [
                            0.3333333333333333,
                            "#9c179e"
                          ],
                          [
                            0.4444444444444444,
                            "#bd3786"
                          ],
                          [
                            0.5555555555555556,
                            "#d8576b"
                          ],
                          [
                            0.6666666666666666,
                            "#ed7953"
                          ],
                          [
                            0.7777777777777778,
                            "#fb9f3a"
                          ],
                          [
                            0.8888888888888888,
                            "#fdca26"
                          ],
                          [
                            1,
                            "#f0f921"
                          ]
                        ],
                        "type": "histogram2d"
                      }
                    ],
                    "histogram2dcontour": [
                      {
                        "colorbar": {
                          "outlinewidth": 0,
                          "ticks": ""
                        },
                        "colorscale": [
                          [
                            0,
                            "#0d0887"
                          ],
                          [
                            0.1111111111111111,
                            "#46039f"
                          ],
                          [
                            0.2222222222222222,
                            "#7201a8"
                          ],
                          [
                            0.3333333333333333,
                            "#9c179e"
                          ],
                          [
                            0.4444444444444444,
                            "#bd3786"
                          ],
                          [
                            0.5555555555555556,
                            "#d8576b"
                          ],
                          [
                            0.6666666666666666,
                            "#ed7953"
                          ],
                          [
                            0.7777777777777778,
                            "#fb9f3a"
                          ],
                          [
                            0.8888888888888888,
                            "#fdca26"
                          ],
                          [
                            1,
                            "#f0f921"
                          ]
                        ],
                        "type": "histogram2dcontour"
                      }
                    ],
                    "mesh3d": [
                      {
                        "colorbar": {
                          "outlinewidth": 0,
                          "ticks": ""
                        },
                        "type": "mesh3d"
                      }
                    ],
                    "parcoords": [
                      {
                        "line": {
                          "colorbar": {
                            "outlinewidth": 0,
                            "ticks": ""
                          }
                        },
                        "type": "parcoords"
                      }
                    ],
                    "pie": [
                      {
                        "automargin": true,
                        "type": "pie"
                      }
                    ],
                    "scatter": [
                      {
                        "fillpattern": {
                          "fillmode": "overlay",
                          "size": 10,
                          "solidity": 0.2
                        },
                        "type": "scatter"
                      }
                    ],
                    "scatter3d": [
                      {
                        "line": {
                          "colorbar": {
                            "outlinewidth": 0,
                            "ticks": ""
                          }
                        },
                        "marker": {
                          "colorbar": {
                            "outlinewidth": 0,
                            "ticks": ""
                          }
                        },
                        "type": "scatter3d"
                      }
                    ],
                    "scattercarpet": [
                      {
                        "marker": {
                          "colorbar": {
                            "outlinewidth": 0,
                            "ticks": ""
                          }
                        },
                        "type": "scattercarpet"
                      }
                    ],
                    "scattergeo": [
                      {
                        "marker": {
                          "colorbar": {
                            "outlinewidth": 0,
                            "ticks": ""
                          }
                        },
                        "type": "scattergeo"
                      }
                    ],
                    "scattergl": [
                      {
                        "marker": {
                          "colorbar": {
                            "outlinewidth": 0,
                            "ticks": ""
                          }
                        },
                        "type": "scattergl"
                      }
                    ],
                    "scattermapbox": [
                      {
                        "marker": {
                          "colorbar": {
                            "outlinewidth": 0,
                            "ticks": ""
                          }
                        },
                        "type": "scattermapbox"
                      }
                    ],
                    "scatterpolar": [
                      {
                        "marker": {
                          "colorbar": {
                            "outlinewidth": 0,
                            "ticks": ""
                          }
                        },
                        "type": "scatterpolar"
                      }
                    ],
                    "scatterpolargl": [
                      {
                        "marker": {
                          "colorbar": {
                            "outlinewidth": 0,
                            "ticks": ""
                          }
                        },
                        "type": "scatterpolargl"
                      }
                    ],
                    "scatterternary": [
                      {
                        "marker": {
                          "colorbar": {
                            "outlinewidth": 0,
                            "ticks": ""
                          }
                        },
                        "type": "scatterternary"
                      }
                    ],
                    "surface": [
                      {
                        "colorbar": {
                          "outlinewidth": 0,
                          "ticks": ""
                        },
                        "colorscale": [
                          [
                            0,
                            "#0d0887"
                          ],
                          [
                            0.1111111111111111,
                            "#46039f"
                          ],
                          [
                            0.2222222222222222,
                            "#7201a8"
                          ],
                          [
                            0.3333333333333333,
                            "#9c179e"
                          ],
                          [
                            0.4444444444444444,
                            "#bd3786"
                          ],
                          [
                            0.5555555555555556,
                            "#d8576b"
                          ],
                          [
                            0.6666666666666666,
                            "#ed7953"
                          ],
                          [
                            0.7777777777777778,
                            "#fb9f3a"
                          ],
                          [
                            0.8888888888888888,
                            "#fdca26"
                          ],
                          [
                            1,
                            "#f0f921"
                          ]
                        ],
                        "type": "surface"
                      }
                    ],
                    "table": [
                      {
                        "cells": {
                          "fill": {
                            "color": "#EBF0F8"
                          },
                          "line": {
                            "color": "white"
                          }
                        },
                        "header": {
                          "fill": {
                            "color": "#C8D4E3"
                          },
                          "line": {
                            "color": "white"
                          }
                        },
                        "type": "table"
                      }
                    ]
                  },
                  "layout": {
                    "annotationdefaults": {
                      "arrowcolor": "#2a3f5f",
                      "arrowhead": 0,
                      "arrowwidth": 1
                    },
                    "autotypenumbers": "strict",
                    "coloraxis": {
                      "colorbar": {
                        "outlinewidth": 0,
                        "ticks": ""
                      }
                    },
                    "colorscale": {
                      "diverging": [
                        [
                          0,
                          "#8e0152"
                        ],
                        [
                          0.1,
                          "#c51b7d"
                        ],
                        [
                          0.2,
                          "#de77ae"
                        ],
                        [
                          0.3,
                          "#f1b6da"
                        ],
                        [
                          0.4,
                          "#fde0ef"
                        ],
                        [
                          0.5,
                          "#f7f7f7"
                        ],
                        [
                          0.6,
                          "#e6f5d0"
                        ],
                        [
                          0.7,
                          "#b8e186"
                        ],
                        [
                          0.8,
                          "#7fbc41"
                        ],
                        [
                          0.9,
                          "#4d9221"
                        ],
                        [
                          1,
                          "#276419"
                        ]
                      ],
                      "sequential": [
                        [
                          0,
                          "#0d0887"
                        ],
                        [
                          0.1111111111111111,
                          "#46039f"
                        ],
                        [
                          0.2222222222222222,
                          "#7201a8"
                        ],
                        [
                          0.3333333333333333,
                          "#9c179e"
                        ],
                        [
                          0.4444444444444444,
                          "#bd3786"
                        ],
                        [
                          0.5555555555555556,
                          "#d8576b"
                        ],
                        [
                          0.6666666666666666,
                          "#ed7953"
                        ],
                        [
                          0.7777777777777778,
                          "#fb9f3a"
                        ],
                        [
                          0.8888888888888888,
                          "#fdca26"
                        ],
                        [
                          1,
                          "#f0f921"
                        ]
                      ],
                      "sequentialminus": [
                        [
                          0,
                          "#0d0887"
                        ],
                        [
                          0.1111111111111111,
                          "#46039f"
                        ],
                        [
                          0.2222222222222222,
                          "#7201a8"
                        ],
                        [
                          0.3333333333333333,
                          "#9c179e"
                        ],
                        [
                          0.4444444444444444,
                          "#bd3786"
                        ],
                        [
                          0.5555555555555556,
                          "#d8576b"
                        ],
                        [
                          0.6666666666666666,
                          "#ed7953"
                        ],
                        [
                          0.7777777777777778,
                          "#fb9f3a"
                        ],
                        [
                          0.8888888888888888,
                          "#fdca26"
                        ],
                        [
                          1,
                          "#f0f921"
                        ]
                      ]
                    },
                    "colorway": [
                      "#636efa",
                      "#EF553B",
                      "#00cc96",
                      "#ab63fa",
                      "#FFA15A",
                      "#19d3f3",
                      "#FF6692",
                      "#B6E880",
                      "#FF97FF",
                      "#FECB52"
                    ],
                    "font": {
                      "color": "#2a3f5f"
                    },
                    "geo": {
                      "bgcolor": "white",
                      "lakecolor": "white",
                      "landcolor": "#E5ECF6",
                      "showlakes": true,
                      "showland": true,
                      "subunitcolor": "white"
                    },
                    "hoverlabel": {
                      "align": "left"
                    },
                    "hovermode": "closest",
                    "mapbox": {
                      "style": "light"
                    },
                    "paper_bgcolor": "white",
                    "plot_bgcolor": "#E5ECF6",
                    "polar": {
                      "angularaxis": {
                        "gridcolor": "white",
                        "linecolor": "white",
                        "ticks": ""
                      },
                      "bgcolor": "#E5ECF6",
                      "radialaxis": {
                        "gridcolor": "white",
                        "linecolor": "white",
                        "ticks": ""
                      }
                    },
                    "scene": {
                      "xaxis": {
                        "backgroundcolor": "#E5ECF6",
                        "gridcolor": "white",
                        "gridwidth": 2,
                        "linecolor": "white",
                        "showbackground": true,
                        "ticks": "",
                        "zerolinecolor": "white"
                      },
                      "yaxis": {
                        "backgroundcolor": "#E5ECF6",
                        "gridcolor": "white",
                        "gridwidth": 2,
                        "linecolor": "white",
                        "showbackground": true,
                        "ticks": "",
                        "zerolinecolor": "white"
                      },
                      "zaxis": {
                        "backgroundcolor": "#E5ECF6",
                        "gridcolor": "white",
                        "gridwidth": 2,
                        "linecolor": "white",
                        "showbackground": true,
                        "ticks": "",
                        "zerolinecolor": "white"
                      }
                    },
                    "shapedefaults": {
                      "line": {
                        "color": "#2a3f5f"
                      }
                    },
                    "ternary": {
                      "aaxis": {
                        "gridcolor": "white",
                        "linecolor": "white",
                        "ticks": ""
                      },
                      "baxis": {
                        "gridcolor": "white",
                        "linecolor": "white",
                        "ticks": ""
                      },
                      "bgcolor": "#E5ECF6",
                      "caxis": {
                        "gridcolor": "white",
                        "linecolor": "white",
                        "ticks": ""
                      }
                    },
                    "title": {
                      "x": 0.05
                    },
                    "xaxis": {
                      "automargin": true,
                      "gridcolor": "white",
                      "linecolor": "white",
                      "ticks": "",
                      "title": {
                        "standoff": 15
                      },
                      "zerolinecolor": "white",
                      "zerolinewidth": 2
                    },
                    "yaxis": {
                      "automargin": true,
                      "gridcolor": "white",
                      "linecolor": "white",
                      "ticks": "",
                      "title": {
                        "standoff": 15
                      },
                      "zerolinecolor": "white",
                      "zerolinewidth": 2
                    }
                  }
                },
                "xaxis": {
                  "anchor": "y",
                  "domain": [
                    0,
                    1
                  ],
                  "title": {
                    "text": "Valor de receita"
                  }
                },
                "yaxis": {
                  "anchor": "x",
                  "domain": [
                    0,
                    1
                  ],
                  "title": {
                    "text": "Votos nominais"
                  }
                }
              }
            }
          },
          "metadata": {},
          "output_type": "display_data"
        }
      ],
      "source": [
        "df_sem_outliers = df_candidatos[df_candidatos[\"Votos nominais\"]<400000]\n",
        "\n",
        "fig = px.scatter(df_sem_outliers, y=\"Votos nominais\", x=\"Valor de receita\", trendline=\"ols\", color='Situação totalização', hover_data=['Nome candidato', 'Partido'])\n",
        "fig.show()"
      ]
    },
    {
      "cell_type": "code",
      "execution_count": 14,
      "metadata": {},
      "outputs": [
        {
          "ename": "NameError",
          "evalue": "name 'go' is not defined",
          "output_type": "error",
          "traceback": [
            "\u001b[1;31m---------------------------------------------------------------------------\u001b[0m",
            "\u001b[1;31mNameError\u001b[0m                                 Traceback (most recent call last)",
            "Cell \u001b[1;32mIn[14], line 19\u001b[0m\n\u001b[0;32m     16\u001b[0m node_labels \u001b[39m=\u001b[39m (df_doad_cand[\u001b[39m'\u001b[39m\u001b[39mNome candidato\u001b[39m\u001b[39m'\u001b[39m]\u001b[39m.\u001b[39munique()\u001b[39m.\u001b[39mtolist() \u001b[39m+\u001b[39m df_doad_cand[\u001b[39m'\u001b[39m\u001b[39mPartido\u001b[39m\u001b[39m'\u001b[39m]\u001b[39m.\u001b[39munique()\u001b[39m.\u001b[39mtolist() \u001b[39m+\u001b[39m df_doad_cand[\u001b[39m'\u001b[39m\u001b[39mNome doador\u001b[39m\u001b[39m'\u001b[39m]\u001b[39m.\u001b[39munique()\u001b[39m.\u001b[39mtolist())\n\u001b[0;32m     18\u001b[0m \u001b[39m# Criando o objeto de sankey\u001b[39;00m\n\u001b[1;32m---> 19\u001b[0m sankey \u001b[39m=\u001b[39m go\u001b[39m.\u001b[39mSankey(\n\u001b[0;32m     20\u001b[0m     node\u001b[39m=\u001b[39m\u001b[39mdict\u001b[39m(\n\u001b[0;32m     21\u001b[0m         pad\u001b[39m=\u001b[39m\u001b[39m15\u001b[39m,\n\u001b[0;32m     22\u001b[0m         thickness\u001b[39m=\u001b[39m\u001b[39m20\u001b[39m,\n\u001b[0;32m     23\u001b[0m         line\u001b[39m=\u001b[39m\u001b[39mdict\u001b[39m(color\u001b[39m=\u001b[39m\u001b[39m'\u001b[39m\u001b[39mblack\u001b[39m\u001b[39m'\u001b[39m, width\u001b[39m=\u001b[39m\u001b[39m0.5\u001b[39m),\n\u001b[0;32m     24\u001b[0m         label\u001b[39m=\u001b[39mnode_labels\n\u001b[0;32m     25\u001b[0m     ),\n\u001b[0;32m     26\u001b[0m     link\u001b[39m=\u001b[39m\u001b[39mdict\u001b[39m(\n\u001b[0;32m     27\u001b[0m         source\u001b[39m=\u001b[39mpd\u001b[39m.\u001b[39mconcat([df_doad_part[\u001b[39m'\u001b[39m\u001b[39mNome doador\u001b[39m\u001b[39m'\u001b[39m]\u001b[39m.\u001b[39mmap(\u001b[39mlambda\u001b[39;00m x: node_labels\u001b[39m.\u001b[39mindex(x)), df_doad_cand[\u001b[39m'\u001b[39m\u001b[39mPartido\u001b[39m\u001b[39m'\u001b[39m]\u001b[39m.\u001b[39mmap(\u001b[39mlambda\u001b[39;00m x: node_labels\u001b[39m.\u001b[39mindex(x))]),\n\u001b[0;32m     28\u001b[0m         target\u001b[39m=\u001b[39mpd\u001b[39m.\u001b[39mconcat([df_doad_part[\u001b[39m'\u001b[39m\u001b[39mPartido\u001b[39m\u001b[39m'\u001b[39m]\u001b[39m.\u001b[39mmap(\u001b[39mlambda\u001b[39;00m x: node_labels\u001b[39m.\u001b[39mindex(x)), df_doad_cand[\u001b[39m'\u001b[39m\u001b[39mNome candidato\u001b[39m\u001b[39m'\u001b[39m]\u001b[39m.\u001b[39mmap(\u001b[39mlambda\u001b[39;00m x: node_labels\u001b[39m.\u001b[39mindex(x))]),\n\u001b[0;32m     29\u001b[0m         value\u001b[39m=\u001b[39mdf_doad_part[\u001b[39m'\u001b[39m\u001b[39mValor de receita\u001b[39m\u001b[39m'\u001b[39m]\u001b[39m.\u001b[39mtolist() \u001b[39m+\u001b[39m df_doad_cand[\u001b[39m'\u001b[39m\u001b[39mValor de receita\u001b[39m\u001b[39m'\u001b[39m]\u001b[39m.\u001b[39mtolist()\n\u001b[0;32m     30\u001b[0m     )\n\u001b[0;32m     31\u001b[0m )\n\u001b[0;32m     33\u001b[0m \u001b[39m# Configurando o layout\u001b[39;00m\n\u001b[0;32m     34\u001b[0m layout \u001b[39m=\u001b[39m go\u001b[39m.\u001b[39mLayout(\n\u001b[0;32m     35\u001b[0m     title\u001b[39m=\u001b[39m\u001b[39m'\u001b[39m\u001b[39mFluxo de doações para candidatos (com Partidos)\u001b[39m\u001b[39m'\u001b[39m,\n\u001b[0;32m     36\u001b[0m     font\u001b[39m=\u001b[39m\u001b[39mdict\u001b[39m(size\u001b[39m=\u001b[39m\u001b[39m10\u001b[39m)\n\u001b[0;32m     37\u001b[0m )\n",
            "\u001b[1;31mNameError\u001b[0m: name 'go' is not defined"
          ]
        }
      ],
      "source": [
        "# Selecionando os 3 maiores doadores\n",
        "top_doadores = df_receita_doador.nlargest(3, 'Valor de receita').reset_index()['Nome doador'].tolist()\n",
        "\n",
        "# Filtrando os dados para os 3 maiores doadores\n",
        "df_doad_cand = df_receita.groupby(['Nome candidato', 'Nome doador', 'Partido']).agg({'Valor de receita': sum}).reset_index()\n",
        "df_doad_cand = df_doad_cand[df_doad_cand['Nome doador'].isin(top_doadores)].sort_values('Partido')\n",
        "\n",
        "###########\n",
        "df_doad_part = df_doad_cand.groupby(['Nome doador', 'Partido']).agg({'Valor de receita': sum}).reset_index().sort_values('Partido')\n",
        "\n",
        "# Criando um dicionário para mapear os partidos aos índices dos nós\n",
        "partidos_indices = {partido: i + len(df_doad_cand['Nome candidato'].unique().tolist()) + len(df_doad_cand['Nome doador'].unique().tolist())\n",
        "                    for i, partido in enumerate(df_doad_cand['Partido'].unique().tolist())}\n",
        "\n",
        "# Criando os rótulos dos nós incluindo os partidos\n",
        "node_labels = (df_doad_cand['Nome candidato'].unique().tolist() + df_doad_cand['Partido'].unique().tolist() + df_doad_cand['Nome doador'].unique().tolist())\n",
        "\n",
        "# Criando o objeto de sankey\n",
        "sankey = go.Sankey(\n",
        "    node=dict(\n",
        "        pad=15,\n",
        "        thickness=20,\n",
        "        line=dict(color='black', width=0.5),\n",
        "        label=node_labels\n",
        "    ),\n",
        "    link=dict(\n",
        "        source=pd.concat([df_doad_part['Nome doador'].map(lambda x: node_labels.index(x)), df_doad_cand['Partido'].map(lambda x: node_labels.index(x))]),\n",
        "        target=pd.concat([df_doad_part['Partido'].map(lambda x: node_labels.index(x)), df_doad_cand['Nome candidato'].map(lambda x: node_labels.index(x))]),\n",
        "        value=df_doad_part['Valor de receita'].tolist() + df_doad_cand['Valor de receita'].tolist()\n",
        "    )\n",
        ")\n",
        "\n",
        "# Configurando o layout\n",
        "layout = go.Layout(\n",
        "    title='Fluxo de doações para candidatos (com Partidos)',\n",
        "    font=dict(size=10)\n",
        ")\n",
        "\n",
        "# Criando a figura e plotando o diagrama de sankey\n",
        "fig = go.Figure(data=[sankey], layout=layout)\n",
        "fig.show()\n"
      ]
    },
    {
      "cell_type": "code",
      "execution_count": null,
      "metadata": {},
      "outputs": [],
      "source": [
        "df_teste = pd.read_csv('dados/candidatos.csv', encoding='latin-1', sep=';')"
      ]
    },
    {
      "cell_type": "code",
      "execution_count": null,
      "metadata": {},
      "outputs": [
        {
          "name": "stdout",
          "output_type": "stream",
          "text": [
            "<class 'pandas.core.frame.DataFrame'>\n",
            "RangeIndex: 1511 entries, 0 to 1510\n",
            "Data columns (total 29 columns):\n",
            " #   Column                                    Non-Null Count  Dtype \n",
            "---  ------                                    --------------  ----- \n",
            " 0   Ano de eleição                            1511 non-null   int64 \n",
            " 1   Cargo                                     1511 non-null   object\n",
            " 2   Coligação                                 1511 non-null   object\n",
            " 3   Cor/raça                                  1511 non-null   object\n",
            " 4   Detalhe da situação de candidatura        1511 non-null   object\n",
            " 5   Estado civil                              1511 non-null   object\n",
            " 6   Faixa etária                              1511 non-null   object\n",
            " 7   Federação                                 1511 non-null   object\n",
            " 8   Gênero                                    1511 non-null   object\n",
            " 9   Grau de instrução                         1511 non-null   object\n",
            " 10  Município                                 1511 non-null   object\n",
            " 11  Nacionalidade                             1511 non-null   object\n",
            " 12  Nome social                               1511 non-null   object\n",
            " 13  Ocupação                                  1511 non-null   object\n",
            " 14  Reeleição                                 1511 non-null   object\n",
            " 15  Região                                    1511 non-null   object\n",
            " 16  Sigla partido                             1511 non-null   object\n",
            " 17  Situação de candidatura                   1511 non-null   object\n",
            " 18  Situação de totalização                   1511 non-null   object\n",
            " 19  Tipo eleição                              1511 non-null   object\n",
            " 20  Turno                                     1511 non-null   int64 \n",
            " 21  UF                                        1511 non-null   object\n",
            " 22  Quantidade de candidatos                  1511 non-null   object\n",
            " 23  Quantidade de candidatos eleitos          1511 non-null   object\n",
            " 24  Quantidade de candidatos para o 2º turno  1511 non-null   object\n",
            " 25  Quantidade de candidatos não eleitos      1511 non-null   object\n",
            " 26  Quantidade de candidatos suplentes        1511 non-null   object\n",
            " 27  Quantidade de candidatos não informados   1511 non-null   object\n",
            " 28  Data de carga                             1511 non-null   object\n",
            "dtypes: int64(2), object(27)\n",
            "memory usage: 342.5+ KB\n"
          ]
        }
      ],
      "source": [
        "df_teste.info()"
      ]
    },
    {
      "cell_type": "code",
      "execution_count": null,
      "metadata": {},
      "outputs": [
        {
          "data": {
            "text/html": [
              "<div>\n",
              "<style scoped>\n",
              "    .dataframe tbody tr th:only-of-type {\n",
              "        vertical-align: middle;\n",
              "    }\n",
              "\n",
              "    .dataframe tbody tr th {\n",
              "        vertical-align: top;\n",
              "    }\n",
              "\n",
              "    .dataframe thead th {\n",
              "        text-align: right;\n",
              "    }\n",
              "</style>\n",
              "<table border=\"1\" class=\"dataframe\">\n",
              "  <thead>\n",
              "    <tr style=\"text-align: right;\">\n",
              "      <th></th>\n",
              "      <th>Coligação</th>\n",
              "      <th>Federação</th>\n",
              "      <th>Sigla partido</th>\n",
              "    </tr>\n",
              "  </thead>\n",
              "  <tbody>\n",
              "    <tr>\n",
              "      <th>0</th>\n",
              "      <td>FEDERAÇÃO</td>\n",
              "      <td>Federação PSDB Cidadania</td>\n",
              "      <td>PSDB</td>\n",
              "    </tr>\n",
              "    <tr>\n",
              "      <th>1</th>\n",
              "      <td>FEDERAÇÃO</td>\n",
              "      <td>Federação Brasil da Esperança - FE BRASIL</td>\n",
              "      <td>PT</td>\n",
              "    </tr>\n",
              "    <tr>\n",
              "      <th>3</th>\n",
              "      <td>FEDERAÇÃO</td>\n",
              "      <td>Federação PSOL REDE</td>\n",
              "      <td>PSOL</td>\n",
              "    </tr>\n",
              "    <tr>\n",
              "      <th>4</th>\n",
              "      <td>FEDERAÇÃO</td>\n",
              "      <td>Federação Brasil da Esperança - FE BRASIL</td>\n",
              "      <td>PV</td>\n",
              "    </tr>\n",
              "    <tr>\n",
              "      <th>12</th>\n",
              "      <td>FEDERAÇÃO</td>\n",
              "      <td>Federação PSDB Cidadania</td>\n",
              "      <td>CIDADANIA</td>\n",
              "    </tr>\n",
              "    <tr>\n",
              "      <th>28</th>\n",
              "      <td>FEDERAÇÃO</td>\n",
              "      <td>Federação PSOL REDE</td>\n",
              "      <td>REDE</td>\n",
              "    </tr>\n",
              "    <tr>\n",
              "      <th>79</th>\n",
              "      <td>FEDERAÇÃO</td>\n",
              "      <td>Federação Brasil da Esperança - FE BRASIL</td>\n",
              "      <td>PC do B</td>\n",
              "    </tr>\n",
              "    <tr>\n",
              "      <th>189</th>\n",
              "      <td>PARTIDO ISOLADO</td>\n",
              "      <td>#NULO#</td>\n",
              "      <td>PMB</td>\n",
              "    </tr>\n",
              "    <tr>\n",
              "      <th>190</th>\n",
              "      <td>PARTIDO ISOLADO</td>\n",
              "      <td>#NULO#</td>\n",
              "      <td>NOVO</td>\n",
              "    </tr>\n",
              "    <tr>\n",
              "      <th>191</th>\n",
              "      <td>PARTIDO ISOLADO</td>\n",
              "      <td>#NULO#</td>\n",
              "      <td>PSD</td>\n",
              "    </tr>\n",
              "    <tr>\n",
              "      <th>192</th>\n",
              "      <td>PARTIDO ISOLADO</td>\n",
              "      <td>#NULO#</td>\n",
              "      <td>PTB</td>\n",
              "    </tr>\n",
              "    <tr>\n",
              "      <th>193</th>\n",
              "      <td>PARTIDO ISOLADO</td>\n",
              "      <td>#NULO#</td>\n",
              "      <td>REPUBLICANOS</td>\n",
              "    </tr>\n",
              "    <tr>\n",
              "      <th>194</th>\n",
              "      <td>PARTIDO ISOLADO</td>\n",
              "      <td>#NULO#</td>\n",
              "      <td>PRTB</td>\n",
              "    </tr>\n",
              "    <tr>\n",
              "      <th>195</th>\n",
              "      <td>PARTIDO ISOLADO</td>\n",
              "      <td>#NULO#</td>\n",
              "      <td>PODE</td>\n",
              "    </tr>\n",
              "    <tr>\n",
              "      <th>196</th>\n",
              "      <td>PARTIDO ISOLADO</td>\n",
              "      <td>#NULO#</td>\n",
              "      <td>SOLIDARIEDADE</td>\n",
              "    </tr>\n",
              "    <tr>\n",
              "      <th>197</th>\n",
              "      <td>PARTIDO ISOLADO</td>\n",
              "      <td>#NULO#</td>\n",
              "      <td>PROS</td>\n",
              "    </tr>\n",
              "    <tr>\n",
              "      <th>199</th>\n",
              "      <td>PARTIDO ISOLADO</td>\n",
              "      <td>#NULO#</td>\n",
              "      <td>PL</td>\n",
              "    </tr>\n",
              "    <tr>\n",
              "      <th>200</th>\n",
              "      <td>PARTIDO ISOLADO</td>\n",
              "      <td>#NULO#</td>\n",
              "      <td>UNIÃO</td>\n",
              "    </tr>\n",
              "    <tr>\n",
              "      <th>203</th>\n",
              "      <td>PARTIDO ISOLADO</td>\n",
              "      <td>#NULO#</td>\n",
              "      <td>PP</td>\n",
              "    </tr>\n",
              "    <tr>\n",
              "      <th>205</th>\n",
              "      <td>PARTIDO ISOLADO</td>\n",
              "      <td>#NULO#</td>\n",
              "      <td>MDB</td>\n",
              "    </tr>\n",
              "    <tr>\n",
              "      <th>206</th>\n",
              "      <td>PARTIDO ISOLADO</td>\n",
              "      <td>#NULO#</td>\n",
              "      <td>AVANTE</td>\n",
              "    </tr>\n",
              "    <tr>\n",
              "      <th>207</th>\n",
              "      <td>PARTIDO ISOLADO</td>\n",
              "      <td>#NULO#</td>\n",
              "      <td>PATRIOTA</td>\n",
              "    </tr>\n",
              "    <tr>\n",
              "      <th>213</th>\n",
              "      <td>PARTIDO ISOLADO</td>\n",
              "      <td>#NULO#</td>\n",
              "      <td>AGIR</td>\n",
              "    </tr>\n",
              "    <tr>\n",
              "      <th>214</th>\n",
              "      <td>PARTIDO ISOLADO</td>\n",
              "      <td>#NULO#</td>\n",
              "      <td>PSC</td>\n",
              "    </tr>\n",
              "    <tr>\n",
              "      <th>218</th>\n",
              "      <td>PARTIDO ISOLADO</td>\n",
              "      <td>#NULO#</td>\n",
              "      <td>PSB</td>\n",
              "    </tr>\n",
              "    <tr>\n",
              "      <th>229</th>\n",
              "      <td>PARTIDO ISOLADO</td>\n",
              "      <td>#NULO#</td>\n",
              "      <td>PMN</td>\n",
              "    </tr>\n",
              "    <tr>\n",
              "      <th>232</th>\n",
              "      <td>PARTIDO ISOLADO</td>\n",
              "      <td>#NULO#</td>\n",
              "      <td>PSTU</td>\n",
              "    </tr>\n",
              "    <tr>\n",
              "      <th>234</th>\n",
              "      <td>PARTIDO ISOLADO</td>\n",
              "      <td>#NULO#</td>\n",
              "      <td>PDT</td>\n",
              "    </tr>\n",
              "    <tr>\n",
              "      <th>262</th>\n",
              "      <td>PARTIDO ISOLADO</td>\n",
              "      <td>#NULO#</td>\n",
              "      <td>DC</td>\n",
              "    </tr>\n",
              "    <tr>\n",
              "      <th>362</th>\n",
              "      <td>PARTIDO ISOLADO</td>\n",
              "      <td>#NULO#</td>\n",
              "      <td>PCB</td>\n",
              "    </tr>\n",
              "    <tr>\n",
              "      <th>704</th>\n",
              "      <td>PARTIDO ISOLADO</td>\n",
              "      <td>#NULO#</td>\n",
              "      <td>PCO</td>\n",
              "    </tr>\n",
              "    <tr>\n",
              "      <th>1261</th>\n",
              "      <td>PARTIDO ISOLADO</td>\n",
              "      <td>#NULO#</td>\n",
              "      <td>UP</td>\n",
              "    </tr>\n",
              "  </tbody>\n",
              "</table>\n",
              "</div>"
            ],
            "text/plain": [
              "            Coligação                                  Federação  \\\n",
              "0           FEDERAÇÃO                   Federação PSDB Cidadania   \n",
              "1           FEDERAÇÃO  Federação Brasil da Esperança - FE BRASIL   \n",
              "3           FEDERAÇÃO                        Federação PSOL REDE   \n",
              "4           FEDERAÇÃO  Federação Brasil da Esperança - FE BRASIL   \n",
              "12          FEDERAÇÃO                   Federação PSDB Cidadania   \n",
              "28          FEDERAÇÃO                        Federação PSOL REDE   \n",
              "79          FEDERAÇÃO  Federação Brasil da Esperança - FE BRASIL   \n",
              "189   PARTIDO ISOLADO                                     #NULO#   \n",
              "190   PARTIDO ISOLADO                                     #NULO#   \n",
              "191   PARTIDO ISOLADO                                     #NULO#   \n",
              "192   PARTIDO ISOLADO                                     #NULO#   \n",
              "193   PARTIDO ISOLADO                                     #NULO#   \n",
              "194   PARTIDO ISOLADO                                     #NULO#   \n",
              "195   PARTIDO ISOLADO                                     #NULO#   \n",
              "196   PARTIDO ISOLADO                                     #NULO#   \n",
              "197   PARTIDO ISOLADO                                     #NULO#   \n",
              "199   PARTIDO ISOLADO                                     #NULO#   \n",
              "200   PARTIDO ISOLADO                                     #NULO#   \n",
              "203   PARTIDO ISOLADO                                     #NULO#   \n",
              "205   PARTIDO ISOLADO                                     #NULO#   \n",
              "206   PARTIDO ISOLADO                                     #NULO#   \n",
              "207   PARTIDO ISOLADO                                     #NULO#   \n",
              "213   PARTIDO ISOLADO                                     #NULO#   \n",
              "214   PARTIDO ISOLADO                                     #NULO#   \n",
              "218   PARTIDO ISOLADO                                     #NULO#   \n",
              "229   PARTIDO ISOLADO                                     #NULO#   \n",
              "232   PARTIDO ISOLADO                                     #NULO#   \n",
              "234   PARTIDO ISOLADO                                     #NULO#   \n",
              "262   PARTIDO ISOLADO                                     #NULO#   \n",
              "362   PARTIDO ISOLADO                                     #NULO#   \n",
              "704   PARTIDO ISOLADO                                     #NULO#   \n",
              "1261  PARTIDO ISOLADO                                     #NULO#   \n",
              "\n",
              "      Sigla partido  \n",
              "0              PSDB  \n",
              "1                PT  \n",
              "3              PSOL  \n",
              "4                PV  \n",
              "12        CIDADANIA  \n",
              "28             REDE  \n",
              "79          PC do B  \n",
              "189             PMB  \n",
              "190            NOVO  \n",
              "191             PSD  \n",
              "192             PTB  \n",
              "193    REPUBLICANOS  \n",
              "194            PRTB  \n",
              "195            PODE  \n",
              "196   SOLIDARIEDADE  \n",
              "197            PROS  \n",
              "199              PL  \n",
              "200           UNIÃO  \n",
              "203              PP  \n",
              "205             MDB  \n",
              "206          AVANTE  \n",
              "207        PATRIOTA  \n",
              "213            AGIR  \n",
              "214             PSC  \n",
              "218             PSB  \n",
              "229             PMN  \n",
              "232            PSTU  \n",
              "234             PDT  \n",
              "262              DC  \n",
              "362             PCB  \n",
              "704             PCO  \n",
              "1261             UP  "
            ]
          },
          "execution_count": 27,
          "metadata": {},
          "output_type": "execute_result"
        }
      ],
      "source": [
        "df_teste[['Coligação', 'Federação', 'Sigla partido']].drop_duplicates()"
      ]
    },
    {
      "cell_type": "code",
      "execution_count": 1,
      "metadata": {},
      "outputs": [],
      "source": [
        "from download_dados import get_data_ano"
      ]
    },
    {
      "cell_type": "code",
      "execution_count": 3,
      "metadata": {},
      "outputs": [
        {
          "name": "stderr",
          "output_type": "stream",
          "text": [
            "  0%|          | 0/1 [00:00<?, ?it/s]"
          ]
        },
        {
          "name": "stdout",
          "output_type": "stream",
          "text": [
            "https://cdn.tse.jus.br/estatistica/sead/odsele/prestacao_contas/prestacao_de_contas_eleitorais_candidatos_2022.zip\n"
          ]
        }
      ],
      "source": [
        "get_data_ano(['2022'])"
      ]
    }
  ],
  "metadata": {
    "colab": {
      "provenance": []
    },
    "kernelspec": {
      "display_name": "Python 3",
      "name": "python3"
    },
    "language_info": {
      "codemirror_mode": {
        "name": "ipython",
        "version": 3
      },
      "file_extension": ".py",
      "mimetype": "text/x-python",
      "name": "python",
      "nbconvert_exporter": "python",
      "pygments_lexer": "ipython3",
      "version": "3.11.2"
    }
  },
  "nbformat": 4,
  "nbformat_minor": 0
}
