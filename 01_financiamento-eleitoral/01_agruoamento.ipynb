{
 "cells": [
  {
   "cell_type": "markdown",
   "metadata": {},
   "source": [
    "Como o arquivo é baixado é muito grande para subir no Git apagamos e deixamos para que o usuario possa fazer o download."
   ]
  },
  {
   "cell_type": "code",
   "execution_count": 1,
   "metadata": {},
   "outputs": [
    {
     "name": "stderr",
     "output_type": "stream",
     "text": [
      "Downloading Coligação Secao: 100%|██████████| 1/1 [00:00<00:00,  4.34it/s]\n",
      "Descompactando zipfile: 100%|██████████| 1/1 [00:00<00:00, 66.49it/s]\n"
     ]
    }
   ],
   "source": [
    "from download_dados import ColigacaoDownloader \n",
    "\n",
    "cd = ColigacaoDownloader()\n",
    "cd.download(['2022'])\n",
    "cd.unzip(['2022'], 'SP')"
   ]
  },
  {
   "cell_type": "code",
   "execution_count": 1,
   "metadata": {},
   "outputs": [
    {
     "name": "stderr",
     "output_type": "stream",
     "text": [
      "Downloading Coligação Secao: 100%|██████████| 1/1 [00:04<00:00,  4.48s/it]\n",
      "Descompactando zipfile: 100%|██████████| 1/1 [00:00<00:00, 24.83it/s]\n"
     ]
    }
   ],
   "source": [
    "from download_dados import CandidatoDownloader \n",
    "\n",
    "cd = CandidatoDownloader()\n",
    "cd.download(['2022'])\n",
    "cd.unzip(['2022'], 'SP')"
   ]
  },
  {
   "cell_type": "code",
   "execution_count": 3,
   "metadata": {},
   "outputs": [],
   "source": [
    "import pandas as pd\n",
    "\n",
    "df_coligacao = pd.read_csv('dados/brutos/SP/2022/consulta_coligacao_2022_SP.csv', encoding='latin-1', sep=';')"
   ]
  },
  {
   "cell_type": "code",
   "execution_count": 4,
   "metadata": {},
   "outputs": [],
   "source": [
    "import pandas as pd\n",
    "\n",
    "df_cand = pd.read_csv('dados/brutos/SP/2022/consulta_cand_2022_SP.csv', encoding='latin-1', sep=';')"
   ]
  },
  {
   "cell_type": "code",
   "execution_count": 13,
   "metadata": {},
   "outputs": [
    {
     "data": {
      "text/html": [
       "<div>\n",
       "<style scoped>\n",
       "    .dataframe tbody tr th:only-of-type {\n",
       "        vertical-align: middle;\n",
       "    }\n",
       "\n",
       "    .dataframe tbody tr th {\n",
       "        vertical-align: top;\n",
       "    }\n",
       "\n",
       "    .dataframe thead th {\n",
       "        text-align: right;\n",
       "    }\n",
       "</style>\n",
       "<table border=\"1\" class=\"dataframe\">\n",
       "  <thead>\n",
       "    <tr style=\"text-align: right;\">\n",
       "      <th></th>\n",
       "      <th>DS_CARGO</th>\n",
       "      <th>NM_CANDIDATO</th>\n",
       "      <th>SG_PARTIDO</th>\n",
       "    </tr>\n",
       "  </thead>\n",
       "  <tbody>\n",
       "    <tr>\n",
       "      <th>431</th>\n",
       "      <td>2º SUPLENTE</td>\n",
       "      <td>ELSA NATAL DE OLIVEIRA</td>\n",
       "      <td>PODE</td>\n",
       "    </tr>\n",
       "    <tr>\n",
       "      <th>801</th>\n",
       "      <td>1º SUPLENTE</td>\n",
       "      <td>AUGUSTO PEREIRA PESTANA DE CASTRO</td>\n",
       "      <td>MDB</td>\n",
       "    </tr>\n",
       "    <tr>\n",
       "      <th>2718</th>\n",
       "      <td>SENADOR</td>\n",
       "      <td>EDSON APARECIDO DOS SANTOS</td>\n",
       "      <td>MDB</td>\n",
       "    </tr>\n",
       "  </tbody>\n",
       "</table>\n",
       "</div>"
      ],
      "text/plain": [
       "         DS_CARGO                       NM_CANDIDATO SG_PARTIDO\n",
       "431   2º SUPLENTE             ELSA NATAL DE OLIVEIRA       PODE\n",
       "801   1º SUPLENTE  AUGUSTO PEREIRA PESTANA DE CASTRO        MDB\n",
       "2718      SENADOR         EDSON APARECIDO DOS SANTOS        MDB"
      ]
     },
     "execution_count": 13,
     "metadata": {},
     "output_type": "execute_result"
    }
   ],
   "source": [
    "df_cand[df_cand['SQ_COLIGACAO']==250001681616][['DS_CARGO', 'NM_CANDIDATO', 'SG_PARTIDO']]"
   ]
  },
  {
   "cell_type": "code",
   "execution_count": null,
   "metadata": {},
   "outputs": [],
   "source": [
    "df_coligacao_df = df_coligacao[(df_coligacao['CD_CARGO']==6)]\n",
    "df_coligacao_df[['NR_TURNO', 'DS_ELEICAO', 'CD_CARGO', 'DS_CARGO', 'TP_AGREMIACAO', 'NR_PARTIDO', 'SG_PARTIDO', 'NM_PARTIDO', 'NR_FEDERACAO', 'NM_FEDERACAO', 'SG_FEDERACAO', 'DS_COMPOSICAO_FEDERACAO']]"
   ]
  },
  {
   "cell_type": "code",
   "execution_count": 71,
   "metadata": {},
   "outputs": [],
   "source": [
    "import pandas as pd\n",
    "\n",
    "df_votos_secao = pd.read_csv('dados/brutos/SP/2022/votacao_secao_2022_SP.csv', encoding='latin-1', sep=';')\n",
    "\n",
    "df_votos_partido_de = df_votos_secao[(df_votos_secao['SQ_CANDIDATO']==-3) & (df_votos_secao['CD_CARGO']==7)]\n",
    "df_votos_partido_de = df_votos_partido_de.groupby(['SQ_CANDIDATO', 'NM_VOTAVEL', 'NR_VOTAVEL']).agg({'QT_VOTOS':'sum'})\n",
    "save_csv('votacao_partido', 'DeputadoEstadual', 'SP', '2022', df_votos_partido_de)\n",
    "\n",
    "\n",
    "df_votos_candidato_df = df_votos_secao[(~df_votos_secao['SQ_CANDIDATO'].isin([-3,-1])) & (df_votos_secao['CD_CARGO']==6)]\n",
    "df_votos_candidato_df = df_votos_candidato_df.groupby(['SQ_CANDIDATO',  'NM_VOTAVEL', 'NR_VOTAVEL']).agg({'QT_VOTOS':'sum'})\n",
    "save_csv('votacao_candidato', 'DeputadoFederal', 'SP', '2022', df_votos_candidato_df)\n",
    "\n",
    "\n",
    "df_votos_candidato_de = df_votos_secao[(~df_votos_secao['SQ_CANDIDATO'].isin([-3,-1])) & (df_votos_secao['CD_CARGO']==7)]\n",
    "df_votos_candidato_de = df_votos_candidato_de.groupby(['SQ_CANDIDATO', 'NM_VOTAVEL', 'NR_VOTAVEL']).agg({'QT_VOTOS':'sum'})\n",
    "save_csv('votacao_candidato', 'DeputadoEstadual', 'SP', '2022', df_votos_candidato_de)\n",
    "\n",
    "df_votos_candidato_gv1 = df_votos_secao[(df_votos_secao['CD_CARGO']==3) & (df_votos_secao['NR_TURNO']==1)]\n",
    "df_votos_candidato_gv1 = df_votos_candidato_gv1.groupby(['SQ_CANDIDATO', 'NM_VOTAVEL']).agg({'QT_VOTOS':'sum'})\n",
    "save_csv('votacao_candidato', 'Governador', 'SP', '2022', df_votos_candidato_gv1, '1_TURNO')\n",
    "\n",
    "df_votos_candidato_gv2 = df_votos_secao[(df_votos_secao['CD_CARGO']==3) & (df_votos_secao['NR_TURNO']==2)]\n",
    "df_votos_candidato_gv2 = df_votos_candidato_gv2.groupby(['SQ_CANDIDATO', 'NM_VOTAVEL']).agg({'QT_VOTOS':'sum'})\n",
    "save_csv('votacao_candidato', 'Governador', 'SP', '2022', df_votos_candidato_gv1, '2_TURNO')"
   ]
  }
 ],
 "metadata": {
  "kernelspec": {
   "display_name": "Python 3",
   "language": "python",
   "name": "python3"
  },
  "language_info": {
   "codemirror_mode": {
    "name": "ipython",
    "version": 3
   },
   "file_extension": ".py",
   "mimetype": "text/x-python",
   "name": "python",
   "nbconvert_exporter": "python",
   "pygments_lexer": "ipython3",
   "version": "3.11.2"
  },
  "orig_nbformat": 4
 },
 "nbformat": 4,
 "nbformat_minor": 2
}
